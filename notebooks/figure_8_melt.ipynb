{
 "cells": [
  {
   "cell_type": "markdown",
   "metadata": {},
   "source": [
    "**Volcano-tomography catalogue** © 2020 Michele Paulatto, Kajetan Chrapkiewicz, ...\n",
    "\n",
    "# Figure 9 - Melt histogram\n",
    "This notebook can be used to reproduce figure 6 of the manuscript\n",
    "\n",
    "Requirements:\n",
    "- Pandas: https://pandas.pydata.org/\n",
    "- Numpy\n",
    "- Matplotlib"
   ]
  },
  {
   "cell_type": "code",
   "execution_count": 1,
   "metadata": {},
   "outputs": [
    {
     "data": {
      "text/html": [
       "<div>\n",
       "<style scoped>\n",
       "    .dataframe tbody tr th:only-of-type {\n",
       "        vertical-align: middle;\n",
       "    }\n",
       "\n",
       "    .dataframe tbody tr th {\n",
       "        vertical-align: top;\n",
       "    }\n",
       "\n",
       "    .dataframe thead th {\n",
       "        text-align: right;\n",
       "    }\n",
       "</style>\n",
       "<table border=\"1\" class=\"dataframe\">\n",
       "  <thead>\n",
       "    <tr style=\"text-align: right;\">\n",
       "      <th></th>\n",
       "      <th>Volcano_Name</th>\n",
       "      <th>Location</th>\n",
       "      <th>Country</th>\n",
       "      <th>Region</th>\n",
       "      <th>Subregion</th>\n",
       "      <th>Volcano_Number</th>\n",
       "      <th>Longitude</th>\n",
       "      <th>Latitude</th>\n",
       "      <th>Tectonic_Setting</th>\n",
       "      <th>Primary_Volcano_Type</th>\n",
       "      <th>Elevation</th>\n",
       "      <th>Major_Rock_Type</th>\n",
       "      <th>Last_Eruption_Year</th>\n",
       "      <th>Max_Erupted_Volume</th>\n",
       "      <th>Max_VEI</th>\n",
       "    </tr>\n",
       "  </thead>\n",
       "  <tbody>\n",
       "    <tr>\n",
       "      <th>0</th>\n",
       "      <td>Agung</td>\n",
       "      <td>Bali</td>\n",
       "      <td>Indonesia</td>\n",
       "      <td>NaN</td>\n",
       "      <td>Indonesia</td>\n",
       "      <td>264020</td>\n",
       "      <td>115.508</td>\n",
       "      <td>-8.343</td>\n",
       "      <td>Subduction</td>\n",
       "      <td>Stratovolcano</td>\n",
       "      <td>2997.0</td>\n",
       "      <td>Andesite</td>\n",
       "      <td>2019 CE</td>\n",
       "      <td>NaN</td>\n",
       "      <td>NaN</td>\n",
       "    </tr>\n",
       "    <tr>\n",
       "      <th>1</th>\n",
       "      <td>Aira</td>\n",
       "      <td>Kyushu</td>\n",
       "      <td>Japan</td>\n",
       "      <td>NaN</td>\n",
       "      <td>Japan</td>\n",
       "      <td>282080</td>\n",
       "      <td>130.657</td>\n",
       "      <td>31.593</td>\n",
       "      <td>Subduction</td>\n",
       "      <td>Caldera</td>\n",
       "      <td>1117.0</td>\n",
       "      <td>Andesite</td>\n",
       "      <td>2021 CE</td>\n",
       "      <td>NaN</td>\n",
       "      <td>NaN</td>\n",
       "    </tr>\n",
       "    <tr>\n",
       "      <th>2</th>\n",
       "      <td>Akutan</td>\n",
       "      <td>Alaska</td>\n",
       "      <td>USA</td>\n",
       "      <td>NaN</td>\n",
       "      <td>USA</td>\n",
       "      <td>311320</td>\n",
       "      <td>-165.986</td>\n",
       "      <td>54.134</td>\n",
       "      <td>Subduction</td>\n",
       "      <td>Stratovolcano</td>\n",
       "      <td>1303.0</td>\n",
       "      <td>Basalt - andesite</td>\n",
       "      <td>1992 CE</td>\n",
       "      <td>NaN</td>\n",
       "      <td>NaN</td>\n",
       "    </tr>\n",
       "    <tr>\n",
       "      <th>3</th>\n",
       "      <td>Asama</td>\n",
       "      <td>Honshu</td>\n",
       "      <td>Japan</td>\n",
       "      <td>NaN</td>\n",
       "      <td>Japan</td>\n",
       "      <td>283110</td>\n",
       "      <td>138.523</td>\n",
       "      <td>36.406</td>\n",
       "      <td>Subduction</td>\n",
       "      <td>Complex</td>\n",
       "      <td>2568.0</td>\n",
       "      <td>Andesite</td>\n",
       "      <td>2019 CE</td>\n",
       "      <td>NaN</td>\n",
       "      <td>NaN</td>\n",
       "    </tr>\n",
       "    <tr>\n",
       "      <th>4</th>\n",
       "      <td>Askja</td>\n",
       "      <td>Iceland</td>\n",
       "      <td>Iceland</td>\n",
       "      <td>NaN</td>\n",
       "      <td>Iceland</td>\n",
       "      <td>373060</td>\n",
       "      <td>-16.783</td>\n",
       "      <td>65.033</td>\n",
       "      <td>Rift</td>\n",
       "      <td>Stratovolcano</td>\n",
       "      <td>1080.0</td>\n",
       "      <td>Basalt</td>\n",
       "      <td>1961 CE</td>\n",
       "      <td>NaN</td>\n",
       "      <td>5.0</td>\n",
       "    </tr>\n",
       "  </tbody>\n",
       "</table>\n",
       "</div>"
      ],
      "text/plain": [
       "  Volcano_Name Location    Country  Region  Subregion  Volcano_Number  \\\n",
       "0        Agung     Bali  Indonesia     NaN  Indonesia          264020   \n",
       "1         Aira   Kyushu      Japan     NaN      Japan          282080   \n",
       "2       Akutan   Alaska        USA     NaN        USA          311320   \n",
       "3        Asama   Honshu      Japan     NaN      Japan          283110   \n",
       "4        Askja  Iceland    Iceland     NaN    Iceland          373060   \n",
       "\n",
       "   Longitude  Latitude Tectonic_Setting Primary_Volcano_Type  Elevation  \\\n",
       "0    115.508    -8.343       Subduction        Stratovolcano     2997.0   \n",
       "1    130.657    31.593       Subduction              Caldera     1117.0   \n",
       "2   -165.986    54.134       Subduction        Stratovolcano     1303.0   \n",
       "3    138.523    36.406       Subduction              Complex     2568.0   \n",
       "4    -16.783    65.033             Rift        Stratovolcano     1080.0   \n",
       "\n",
       "     Major_Rock_Type Last_Eruption_Year  Max_Erupted_Volume  Max_VEI  \n",
       "0           Andesite            2019 CE                 NaN      NaN  \n",
       "1           Andesite            2021 CE                 NaN      NaN  \n",
       "2  Basalt - andesite            1992 CE                 NaN      NaN  \n",
       "3           Andesite            2019 CE                 NaN      NaN  \n",
       "4             Basalt            1961 CE                 NaN      5.0  "
      ]
     },
     "execution_count": 1,
     "metadata": {},
     "output_type": "execute_result"
    }
   ],
   "source": [
    "import pandas as pd\n",
    "import numpy as np\n",
    "import matplotlib.pyplot as plt\n",
    "\n",
    "df = pd.read_excel('../database/Catalogue_v1.0.xlsx',header=[0],sheet_name=\"Volcanoes\")\n",
    "\n",
    "df.Volcano_Number = df.Volcano_Number.fillna(0).astype(int)\n",
    "\n",
    "df.dtypes\n",
    "df.head()"
   ]
  },
  {
   "cell_type": "code",
   "execution_count": 2,
   "metadata": {},
   "outputs": [],
   "source": [
    "datatypes={\"Volcano_Name\":str,\n",
    "           \"Volcano_Number\":np.int32,\n",
    "           \"Date_Start\":np.float64,\n",
    "           \"Date_End\":np.float64,\n",
    "           \"OBS_Stations\":np.float64,\n",
    "           \"Land_Stations\":np.float64,\n",
    "           \"Sonobuoys\":np.float64,\n",
    "           \"Shots\":np.float64,\n",
    "           \"Earthquakes\":np.float64,\n",
    "           \"Phases\":str,\n",
    "           \"Imaging_Method\":str,\n",
    "           \"Frequency_Range\":str,\n",
    "           \"Physical_Properties\":str,\n",
    "           \"Anomaly_Description\":str,\n",
    "           \"Depth_Top\":np.float64,\n",
    "           \"Depth_Bottom\":np.float64,\n",
    "           \"Vp\":np.float64,\n",
    "           \"Vs\":np.float64,\n",
    "           \"Reference_Vp\":np.float64,\n",
    "           \"Reference_Vs\":np.float64,\n",
    "           \"Vp_Anomaly\":np.float64,\n",
    "           \"Vs_Anomaly\":np.float64,\n",
    "           \"Vp/Vs\":np.float64,\n",
    "           \"Other\":str,\n",
    "           \"Resolution_Length_Diameter\":np.float64,\n",
    "           \"Melt_Min\":np.float64,\n",
    "           \"Melt_Max\":np.float64,\n",
    "           \"Melt_Best\":np.float64,\n",
    "           \"Anomaly_Radius\":np.float64,\n",
    "           \"Radius_Uncertainty\":np.float64,\n",
    "           \"Anomaly_Thickness\":np.float64,\n",
    "           \"Thickness_Uncertainty\":np.float64,\n",
    "           \"Anomaly_Volume\":np.float64,\n",
    "           \"Melt_Volume\":np.float64,\n",
    "           \"Melt_Method\":str,\n",
    "           \"Reference\":str,\n",
    "           \"Year\":np.int32,\n",
    "           \"DOI\":str,\n",
    "           \"Code\":str,\n",
    "           \"Dataset\":str,\n",
    "           \"Ship\":str,\n",
    "           \"URL\":str,\n",
    "           \"Comments\":str,\n",
    "           \"Stars\":np.float64,\n",
    "           }\n",
    "\n",
    "               \n",
    "pp = pd.read_excel('../database/Catalogue_v1.0.xlsx',header=[0],sheet_name=\"Data\",dtype=datatypes)\n",
    "pp.OBS_Stations = pp.OBS_Stations.fillna(0)\n",
    "pp.Land_Stations = pp.Land_Stations.fillna(0)\n",
    "pp.Shots = pp.Shots.fillna(0)\n",
    "pp.Earthquakes = pp.Earthquakes.fillna(0)\n",
    "pp.Sonobuoys = pp.Sonobuoys.fillna(0)\n",
    "\n",
    "\n",
    "#pp.head()\n",
    "#pp.dtypes"
   ]
  },
  {
   "cell_type": "code",
   "execution_count": 3,
   "metadata": {},
   "outputs": [
    {
     "data": {
      "image/png": "[encoded data removed]",
      "text/plain": [
       "<Figure size 720x252 with 3 Axes>"
      ]
     },
     "metadata": {
      "needs_background": "light"
     },
     "output_type": "display_data"
    }
   ],
   "source": [
    "\n",
    "#---------------\n",
    "melt = pp.Melt_Best.fillna(np.nan)\n",
    "meltmin = pp.Melt_Min.fillna(np.nan)\n",
    "meltmax = pp.Melt_Max.fillna(np.nan)\n",
    "melterr=[melt-meltmin,meltmax-melt]\n",
    "vol = pp.Anomaly_Volume.fillna(np.nan)\n",
    "name=pp.Volcano_Name.fillna(np.nan)\n",
    "method=pp.Imaging_Method.fillna(np.nan)\n",
    "\n",
    "meltmelt=melt[melt>0].values\n",
    "\n",
    "\n",
    "depth = (pp.Depth_Top.fillna(np.nan)+pp.Depth_Bottom.fillna(np.nan))/2\n",
    "depth_err = (pp.Depth_Top.fillna(np.nan)-pp.Depth_Bottom.fillna(np.nan))/2\n",
    "\n",
    "vp = pp.Vp.fillna(np.nan)\n",
    "vs = pp.Vs.fillna(np.nan)\n",
    "vpa = pp.Vp_Anomaly.fillna(np.nan)\n",
    "vsa = pp.Vs_Anomaly.fillna(np.nan)\n",
    "\n",
    "\n",
    "#---------------\n",
    "\n",
    "#plt.hist(year,bins=range(1975,2022,1),stacked=True)\n",
    "fig=plt.figure(figsize=(10,3.5),constrained_layout=True)\n",
    "\n",
    "\n",
    "plt.subplot(1,3,1)\n",
    "plt.hist(meltmelt,bins=range(0,100,10))\n",
    "plt.xlabel('Melt fraction (%)')\n",
    "plt.title(\"a\",loc=\"left\")\n",
    "\n",
    "plt.subplot(1, 3, 2)\n",
    "plt.errorbar(depth,melt,xerr=depth_err,yerr=melterr,fmt='ok',ecolor='gray')\n",
    "plt.xlabel('Depth (km)')\n",
    "plt.ylabel('Melt fraction (%)')        \n",
    "plt.title(\"c\",loc=\"left\")\n",
    "\n",
    "plt.subplot(1, 3, 3)\n",
    "plt.errorbar(vol,melt,yerr=melterr,fmt='ok',ecolor='gray')\n",
    "plt.xlabel('Anomaly volume (km$^3$)')\n",
    "plt.ylabel('Melt fraction (%)')\n",
    "plt.xlim([1,500000])\n",
    "plt.xscale(\"log\")\n",
    "plt.title(\"d\",loc=\"left\")\n",
    "\n",
    "\n",
    "plt.show()\n",
    "fig.savefig(\"paperfigures/Fig_9_melt.pdf\")\n",
    "fig.savefig(\"paperfigures/Fig_9_melt.png\")\n"
   ]
  },
  {
   "cell_type": "code",
   "execution_count": null,
   "metadata": {},
   "outputs": [],
   "source": []
  }
 ],
 "metadata": {
  "kernelspec": {
   "display_name": "Python 3 (ipykernel)",
   "language": "python",
   "name": "python3"
  },
  "language_info": {
   "codemirror_mode": {
    "name": "ipython",
    "version": 3
   },
   "file_extension": ".py",
   "mimetype": "text/x-python",
   "name": "python",
   "nbconvert_exporter": "python",
   "pygments_lexer": "ipython3",
   "version": "3.8.5"
  },
  "latex_envs": {
   "LaTeX_envs_menu_present": true,
   "autoclose": false,
   "autocomplete": true,
   "bibliofile": "biblio.bib",
   "cite_by": "apalike",
   "current_citInitial": 1,
   "eqLabelWithNumbers": true,
   "eqNumInitial": 1,
   "hotkeys": {
    "equation": "Ctrl-E",
    "itemize": "Ctrl-I"
   },
   "labels_anchors": false,
   "latex_user_defs": false,
   "report_style_numbering": false,
   "user_envs_cfg": false
  },
  "toc": {
   "base_numbering": 1,
   "nav_menu": {},
   "number_sections": false,
   "sideBar": false,
   "skip_h1_title": false,
   "title_cell": "Table of Contents",
   "title_sidebar": "Contents",
   "toc_cell": false,
   "toc_position": {},
   "toc_section_display": true,
   "toc_window_display": false
  },
  "widgets": {
   "application/vnd.jupyter.widget-state+json": {
    "state": {
     "01987df41fc74429881f3269bd9d8291": {
      "model_module": "@jupyter-widgets/controls",
      "model_module_version": "1.5.0",
      "model_name": "DescriptionStyleModel",
      "state": {
       "description_width": ""
      }
     },
     "02ef6217a60141388a4ee49455ce807b": {
      "model_module": "@jupyter-widgets/controls",
      "model_module_version": "1.5.0",
      "model_name": "VBoxModel",
      "state": {
       "_dom_classes": [
        "widget-interact"
       ],
       "children": [
        "IPY_MODEL_75fa132e3cd048ab8266d56a6335359d",
        "IPY_MODEL_d02a914c155e4a749ba43b5dcf4f4dcb"
       ],
       "layout": "IPY_MODEL_f869c3489a8e4db59e24c92679cfc8b5"
      }
     },
     "03fc23a65c93411d979ede67c3f7c25a": {
      "model_module": "@jupyter-widgets/controls",
      "model_module_version": "1.5.0",
      "model_name": "DescriptionStyleModel",
      "state": {
       "description_width": ""
      }
     },
     "0a26b95706634a268704b7a0258f1d3e": {
      "model_module": "@jupyter-widgets/controls",
      "model_module_version": "1.5.0",
      "model_name": "VBoxModel",
      "state": {
       "_dom_classes": [
        "widget-interact"
       ],
       "children": [
        "IPY_MODEL_8af1f4166ec6413b84dca76ed65319d3",
        "IPY_MODEL_af8b3cfefc8149af965cb3764ec15ce3"
       ],
       "layout": "IPY_MODEL_f0d27776e62340918f15843dfc583932"
      }
     },
     "0a50dc6c760f421b8ab1d23dc3bd2aca": {
      "model_module": "@jupyter-widgets/base",
      "model_module_version": "1.2.0",
      "model_name": "LayoutModel",
      "state": {}
     },
     "0a699abae38e4225a30abc02751dd110": {
      "model_module": "@jupyter-widgets/base",
      "model_module_version": "1.2.0",
      "model_name": "LayoutModel",
      "state": {}
     },
     "0b24d5a793324152bb4ec4cf78f48e4c": {
      "model_module": "@jupyter-widgets/controls",
      "model_module_version": "1.5.0",
      "model_name": "DescriptionStyleModel",
      "state": {
       "description_width": ""
      }
     },
     "0b8bef031bc345e8856441edbb00e0cd": {
      "model_module": "@jupyter-widgets/base",
      "model_module_version": "1.2.0",
      "model_name": "LayoutModel",
      "state": {}
     },
     "1260518467b2463aa4a07c3d6387dee7": {
      "model_module": "@jupyter-widgets/controls",
      "model_module_version": "1.5.0",
      "model_name": "VBoxModel",
      "state": {
       "_dom_classes": [
        "widget-interact"
       ],
       "children": [
        "IPY_MODEL_49024e6df05d44198e27f5eb710596bb",
        "IPY_MODEL_cbf8c755f73946538aa45eb43fbca674"
       ],
       "layout": "IPY_MODEL_68734675d29d43ae988d198f4eef2eaf"
      }
     },
     "14ee4a2f68ff4d439fd3b86d1409e077": {
      "model_module": "@jupyter-widgets/controls",
      "model_module_version": "1.5.0",
      "model_name": "DescriptionStyleModel",
      "state": {
       "description_width": ""
      }
     },
     "15b5b751fb364913bd55bbf00b078389": {
      "model_module": "@jupyter-widgets/controls",
      "model_module_version": "1.5.0",
      "model_name": "DropdownModel",
      "state": {
       "_options_labels": [
        "Erupted volume",
        "Anomaly volume"
       ],
       "description": "key",
       "index": 0,
       "layout": "IPY_MODEL_5709a75e3fdc407e8b18e73686b6c3e4",
       "style": "IPY_MODEL_dfc59b90002846f4a2a7ec35636b003a"
      }
     },
     "15f56f712a4f434d96474c1996b9bcc1": {
      "model_module": "@jupyter-widgets/base",
      "model_module_version": "1.2.0",
      "model_name": "LayoutModel",
      "state": {}
     },
     "1c2a2d3cf2a444aabcfc0f3c80505b6b": {
      "model_module": "@jupyter-widgets/base",
      "model_module_version": "1.2.0",
      "model_name": "LayoutModel",
      "state": {}
     },
     "1e030660928f4f739a9aaa5e4ba39696": {
      "model_module": "@jupyter-widgets/output",
      "model_module_version": "1.0.0",
      "model_name": "OutputModel",
      "state": {
       "layout": "IPY_MODEL_4509a35de3e64d6795f9ddfaae6d7c27",
       "outputs": [
        {
         "data": {
          "application/vnd.plotly.v1+json": {
           "config": {
            "plotlyServerURL": "https://plot.ly"
           },
           "data": [
            {
             "lat": [
              16.72,
              16.72,
              36.404,
              36.404,
              32.884,
              32.884,
              32.884,
              2.58,
              2.58,
              2.58,
              2.58,
              44.43,
              44.43,
              44.43,
              44.43,
              44.43,
              44.43,
              37.7166666666667,
              37.7166666666667,
              35.9,
              -38.82,
              43.722,
              41.611,
              46.2,
              46.853,
              -22.2666666666667,
              65.715,
              63.983,
              63.892,
              64.083,
              60.485,
              32.761,
              38.83,
              31.934,
              36.7833333333333,
              35.361,
              56.056,
              19.421,
              19.421,
              40.821,
              40.827,
              37.748,
              38.789,
              15.13,
              4.892,
              -1.467,
              28
             ],
             "lon": [
              -62.18,
              -62.18,
              25.396,
              25.396,
              131.104,
              131.104,
              131.104,
              98.83,
              98.83,
              98.83,
              98.83,
              -110.67,
              -110.67,
              -110.67,
              -110.67,
              -110.67,
              -110.67,
              -118.883333333333,
              -118.883333333333,
              -106.533333333333,
              176,
              -121.229,
              -121.554,
              -122.18,
              -121.76,
              -67.1666666666667,
              -16.728,
              -19.666,
              -19.122,
              -21.416,
              -152.742,
              130.299,
              140.7,
              130.862,
              139.366666666667,
              138.728,
              160.642,
              -155.287,
              -155.287,
              14.426,
              14.139,
              14.999,
              15.213,
              120.35,
              -75.324,
              -78.442,
              -15.58
             ],
             "marker": {
              "size": [
               215.44346900318837,
               215.44346900318837,
               464.15888336127784,
               464.15888336127784,
               843.4326653017491,
               843.4326653017491,
               843.4326653017491,
               1409.4597464129781,
               1409.4597464129781,
               1409.4597464129781,
               1409.4597464129781,
               1348.0997498879249,
               1348.0997498879249,
               1348.0997498879249,
               1348.0997498879249,
               1348.0997498879249,
               1348.0997498879249,
               100,
               100,
               100,
               100,
               100,
               100,
               100,
               100,
               100,
               100,
               100,
               100,
               100,
               100,
               100,
               100,
               100,
               100,
               100,
               100,
               100,
               100,
               100,
               100,
               100,
               100,
               100,
               100,
               100,
               100
              ],
              "sizemode": "area"
             },
             "text": [
              "Soufriere Hills Volcano<br>Erupted volume: 10.0<br><br>References:<br>Paulatto et al., 2012",
              "Soufriere Hills Volcano<br>Erupted volume: 10.0<br><br>References:<br>Paulatto et al., 2019",
              "Santorini<br>Erupted volume: 100.0<br><br>References:<br>McVey et al., 2019",
              null,
              "Aso Caldera<br>Erupted volume: 600.0<br><br>References:<br>Sudo & Kong, 2001",
              "Aso Caldera<br>Erupted volume: 600.0<br><br>References:<br>Huang et al., 2018",
              "Aso Caldera<br>Erupted volume: 600.0<br><br>References:<br>Abe et al., 2017",
              "Toba<br>Erupted volume: 2800.0<br><br>References:<br>Koulakov et al., 2009",
              "Toba<br>Erupted volume: 2800.0<br><br>References:<br>Mastruryono et al., 2001",
              "Toba<br>Erupted volume: 2800.0<br><br>References:<br>Jaxybulatov et al., 2014",
              "Toba<br>Erupted volume: 2800.0<br><br>References:<br>Stankiewicz et al., 2010",
              "Yellowstone<br>Erupted volume: 2450.0<br><br>References:<br>(Iyer et al., 1981, Benz and Smith, 1984, Clawson et al., 1989, Miller and Smith, 1999, Husen and Smith, 2004, Yuan and Dueker, 2005)",
              "Yellowstone<br>Erupted volume: 2450.0<br><br>References:<br>Chu et al., 2010",
              "Yellowstone<br>Erupted volume: 2450.0<br><br>References:<br>Farrell et al., 2014",
              "Yellowstone<br>Erupted volume: 2450.0<br><br>References:<br>Huang et al., 2015",
              "Yellowstone<br>Erupted volume: 2450.0<br><br>References:<br>Miller and Smith, 1999",
              "Yellowstone<br>Erupted volume: 2450.0<br><br>References:<br>Jiang, 2018",
              "Long Valley<br>Erupted volume: nan<br><br>References:<br>(Peppin, 1985, Dawson et al., 1987, Hauksson, 1988, Dawson et al., 1990, Sanders, 1993a, Sanders, 1993b, Sanders et al., 1994, Steck, 1995, Sanders et al., 1995, Weiland et al., 1995, O'Doherty et al., 1997)",
              "Long Valley<br>Erupted volume: nan<br><br>References:<br>Jiang, 2018",
              "Valles<br>Erupted volume: nan<br><br>References:<br>Lutter et al. (1995)",
              "Taupo<br>Erupted volume: nan<br><br>References:<br>Sherburn et al. (2003)",
              "Newberry volcano<br>Erupted volume: nan<br><br>References:<br>(Achauer et al., 1988, Stauber et al., 1988)",
              "Medicine Lake<br>Erupted volume: nan<br><br>References:<br>(Evans and Zucca, 1988, Lees and Crosson, 1989, Ritter and Evans, 1997)",
              "Mt. St. Helens<br>Erupted volume: nan<br><br>References:<br>Lees (1992)",
              "Mt. Rainier<br>Erupted volume: nan<br><br>References:<br>(Lees and Crosson, 1990, Moran et al., 1999)",
              null,
              "Krafla<br>Erupted volume: nan<br><br>References:<br>(Einarsson, 1978, Foulger and Arnott, 1993)",
              "Hekla<br>Erupted volume: nan<br><br>References:<br>Soosalu and Einarsson (2004)",
              "Torfajökull<br>Erupted volume: nan<br><br>References:<br>Soosalu and Einarsson (2004)",
              "Hengill–Grensdalur<br>Erupted volume: nan<br><br>References:<br>Toomey and Foulger (1989)",
              "Redoubt<br>Erupted volume: nan<br><br>References:<br>Benz et al. (1996)",
              "Unzen<br>Erupted volume: nan<br><br>References:<br>Ohmi and Lees (1995)",
              "Onikobe<br>Erupted volume: nan<br><br>References:<br>Nakajima and Hasegawa (2003)",
              "Kirishima<br>Erupted volume: nan<br><br>References:<br>Yamamoto and Ida (1994)",
              "Nikko-Shirane<br>Erupted volume: nan<br><br>References:<br>Horiuchi et al. (1997)",
              "Mt. Fuji<br>Erupted volume: nan<br><br>References:<br>Nakamichi (2005)",
              "Klyuchevskoy<br>Erupted volume: nan<br><br>References:<br>(Anosov et al., 1978, Ozerov, 2000)",
              "Halemaumau<br>Erupted volume: nan<br><br>References:<br>Rowan and Clayton (1993)",
              "Kilauea<br>Erupted volume: nan<br><br>References:<br>(Thurber, 1984, Rowan and Clayton, 1993, Okubo et al., 1997, Haslinger et al., 2001)",
              "Vesuvius<br>Erupted volume: nan<br><br>References:<br>(De Natale et al., 1998, Zollo et al., 1998)",
              "Campi Flegrei<br>Erupted volume: nan<br><br>References:<br>1988; Aster et al., 1992",
              "Mt. Etna<br>Erupted volume: nan<br><br>References:<br>(Cardaci et al., 1993, Villasenor et al., 1998, Laigle and Hirn, 1999, Chiarabba et al., 2000, Aloisi et al., 2002)",
              null,
              "Pinatubo<br>Erupted volume: nan<br><br>References:<br>Mori et al. (1996)",
              "Nevado del Ruiz<br>Erupted volume: nan<br><br>References:<br>Londoño and Sudo (2003)",
              "Tungurahua<br>Erupted volume: nan<br><br>References:<br>Molina et al. (2005)",
              "Gran Canaria<br>Erupted volume: nan<br><br>References:<br>Krastel and Schmincke (2002)"
             ],
             "type": "scattergeo"
            }
           ],
           "layout": {
            "height": 100,
            "template": {
             "data": {
              "bar": [
               {
                "error_x": {
                 "color": "#2a3f5f"
                },
                "error_y": {
                 "color": "#2a3f5f"
                },
                "marker": {
                 "line": {
                  "color": "#E5ECF6",
                  "width": 0.5
                 }
                },
                "type": "bar"
               }
              ],
              "barpolar": [
               {
                "marker": {
                 "line": {
                  "color": "#E5ECF6",
                  "width": 0.5
                 }
                },
                "type": "barpolar"
               }
              ],
              "carpet": [
               {
                "aaxis": {
                 "endlinecolor": "#2a3f5f",
                 "gridcolor": "white",
                 "linecolor": "white",
                 "minorgridcolor": "white",
                 "startlinecolor": "#2a3f5f"
                },
                "baxis": {
                 "endlinecolor": "#2a3f5f",
                 "gridcolor": "white",
                 "linecolor": "white",
                 "minorgridcolor": "white",
                 "startlinecolor": "#2a3f5f"
                },
                "type": "carpet"
               }
              ],
              "choropleth": [
               {
                "colorbar": {
                 "outlinewidth": 0,
                 "ticks": ""
                },
                "type": "choropleth"
               }
              ],
              "contour": [
               {
                "colorbar": {
                 "outlinewidth": 0,
                 "ticks": ""
                },
                "colorscale": [
                 [
                  0,
                  "#0d0887"
                 ],
                 [
                  0.1111111111111111,
                  "#46039f"
                 ],
                 [
                  0.2222222222222222,
                  "#7201a8"
                 ],
                 [
                  0.3333333333333333,
                  "#9c179e"
                 ],
                 [
                  0.4444444444444444,
                  "#bd3786"
                 ],
                 [
                  0.5555555555555556,
                  "#d8576b"
                 ],
                 [
                  0.6666666666666666,
                  "#ed7953"
                 ],
                 [
                  0.7777777777777778,
                  "#fb9f3a"
                 ],
                 [
                  0.8888888888888888,
                  "#fdca26"
                 ],
                 [
                  1,
                  "#f0f921"
                 ]
                ],
                "type": "contour"
               }
              ],
              "contourcarpet": [
               {
                "colorbar": {
                 "outlinewidth": 0,
                 "ticks": ""
                },
                "type": "contourcarpet"
               }
              ],
              "heatmap": [
               {
                "colorbar": {
                 "outlinewidth": 0,
                 "ticks": ""
                },
                "colorscale": [
                 [
                  0,
                  "#0d0887"
                 ],
                 [
                  0.1111111111111111,
                  "#46039f"
                 ],
                 [
                  0.2222222222222222,
                  "#7201a8"
                 ],
                 [
                  0.3333333333333333,
                  "#9c179e"
                 ],
                 [
                  0.4444444444444444,
                  "#bd3786"
                 ],
                 [
                  0.5555555555555556,
                  "#d8576b"
                 ],
                 [
                  0.6666666666666666,
                  "#ed7953"
                 ],
                 [
                  0.7777777777777778,
                  "#fb9f3a"
                 ],
                 [
                  0.8888888888888888,
                  "#fdca26"
                 ],
                 [
                  1,
                  "#f0f921"
                 ]
                ],
                "type": "heatmap"
               }
              ],
              "heatmapgl": [
               {
                "colorbar": {
                 "outlinewidth": 0,
                 "ticks": ""
                },
                "colorscale": [
                 [
                  0,
                  "#0d0887"
                 ],
                 [
                  0.1111111111111111,
                  "#46039f"
                 ],
                 [
                  0.2222222222222222,
                  "#7201a8"
                 ],
                 [
                  0.3333333333333333,
                  "#9c179e"
                 ],
                 [
                  0.4444444444444444,
                  "#bd3786"
                 ],
                 [
                  0.5555555555555556,
                  "#d8576b"
                 ],
                 [
                  0.6666666666666666,
                  "#ed7953"
                 ],
                 [
                  0.7777777777777778,
                  "#fb9f3a"
                 ],
                 [
                  0.8888888888888888,
                  "#fdca26"
                 ],
                 [
                  1,
                  "#f0f921"
                 ]
                ],
                "type": "heatmapgl"
               }
              ],
              "histogram": [
               {
                "marker": {
                 "colorbar": {
                  "outlinewidth": 0,
                  "ticks": ""
                 }
                },
                "type": "histogram"
               }
              ],
              "histogram2d": [
               {
                "colorbar": {
                 "outlinewidth": 0,
                 "ticks": ""
                },
                "colorscale": [
                 [
                  0,
                  "#0d0887"
                 ],
                 [
                  0.1111111111111111,
                  "#46039f"
                 ],
                 [
                  0.2222222222222222,
                  "#7201a8"
                 ],
                 [
                  0.3333333333333333,
                  "#9c179e"
                 ],
                 [
                  0.4444444444444444,
                  "#bd3786"
                 ],
                 [
                  0.5555555555555556,
                  "#d8576b"
                 ],
                 [
                  0.6666666666666666,
                  "#ed7953"
                 ],
                 [
                  0.7777777777777778,
                  "#fb9f3a"
                 ],
                 [
                  0.8888888888888888,
                  "#fdca26"
                 ],
                 [
                  1,
                  "#f0f921"
                 ]
                ],
                "type": "histogram2d"
               }
              ],
              "histogram2dcontour": [
               {
                "colorbar": {
                 "outlinewidth": 0,
                 "ticks": ""
                },
                "colorscale": [
                 [
                  0,
                  "#0d0887"
                 ],
                 [
                  0.1111111111111111,
                  "#46039f"
                 ],
                 [
                  0.2222222222222222,
                  "#7201a8"
                 ],
                 [
                  0.3333333333333333,
                  "#9c179e"
                 ],
                 [
                  0.4444444444444444,
                  "#bd3786"
                 ],
                 [
                  0.5555555555555556,
                  "#d8576b"
                 ],
                 [
                  0.6666666666666666,
                  "#ed7953"
                 ],
                 [
                  0.7777777777777778,
                  "#fb9f3a"
                 ],
                 [
                  0.8888888888888888,
                  "#fdca26"
                 ],
                 [
                  1,
                  "#f0f921"
                 ]
                ],
                "type": "histogram2dcontour"
               }
              ],
              "mesh3d": [
               {
                "colorbar": {
                 "outlinewidth": 0,
                 "ticks": ""
                },
                "type": "mesh3d"
               }
              ],
              "parcoords": [
               {
                "line": {
                 "colorbar": {
                  "outlinewidth": 0,
                  "ticks": ""
                 }
                },
                "type": "parcoords"
               }
              ],
              "pie": [
               {
                "automargin": true,
                "type": "pie"
               }
              ],
              "scatter": [
               {
                "marker": {
                 "colorbar": {
                  "outlinewidth": 0,
                  "ticks": ""
                 }
                },
                "type": "scatter"
               }
              ],
              "scatter3d": [
               {
                "line": {
                 "colorbar": {
                  "outlinewidth": 0,
                  "ticks": ""
                 }
                },
                "marker": {
                 "colorbar": {
                  "outlinewidth": 0,
                  "ticks": ""
                 }
                },
                "type": "scatter3d"
               }
              ],
              "scattercarpet": [
               {
                "marker": {
                 "colorbar": {
                  "outlinewidth": 0,
                  "ticks": ""
                 }
                },
                "type": "scattercarpet"
               }
              ],
              "scattergeo": [
               {
                "marker": {
                 "colorbar": {
                  "outlinewidth": 0,
                  "ticks": ""
                 }
                },
                "type": "scattergeo"
               }
              ],
              "scattergl": [
               {
                "marker": {
                 "colorbar": {
                  "outlinewidth": 0,
                  "ticks": ""
                 }
                },
                "type": "scattergl"
               }
              ],
              "scattermapbox": [
               {
                "marker": {
                 "colorbar": {
                  "outlinewidth": 0,
                  "ticks": ""
                 }
                },
                "type": "scattermapbox"
               }
              ],
              "scatterpolar": [
               {
                "marker": {
                 "colorbar": {
                  "outlinewidth": 0,
                  "ticks": ""
                 }
                },
                "type": "scatterpolar"
               }
              ],
              "scatterpolargl": [
               {
                "marker": {
                 "colorbar": {
                  "outlinewidth": 0,
                  "ticks": ""
                 }
                },
                "type": "scatterpolargl"
               }
              ],
              "scatterternary": [
               {
                "marker": {
                 "colorbar": {
                  "outlinewidth": 0,
                  "ticks": ""
                 }
                },
                "type": "scatterternary"
               }
              ],
              "surface": [
               {
                "colorbar": {
                 "outlinewidth": 0,
                 "ticks": ""
                },
                "colorscale": [
                 [
                  0,
                  "#0d0887"
                 ],
                 [
                  0.1111111111111111,
                  "#46039f"
                 ],
                 [
                  0.2222222222222222,
                  "#7201a8"
                 ],
                 [
                  0.3333333333333333,
                  "#9c179e"
                 ],
                 [
                  0.4444444444444444,
                  "#bd3786"
                 ],
                 [
                  0.5555555555555556,
                  "#d8576b"
                 ],
                 [
                  0.6666666666666666,
                  "#ed7953"
                 ],
                 [
                  0.7777777777777778,
                  "#fb9f3a"
                 ],
                 [
                  0.8888888888888888,
                  "#fdca26"
                 ],
                 [
                  1,
                  "#f0f921"
                 ]
                ],
                "type": "surface"
               }
              ],
              "table": [
               {
                "cells": {
                 "fill": {
                  "color": "#EBF0F8"
                 },
                 "line": {
                  "color": "white"
                 }
                },
                "header": {
                 "fill": {
                  "color": "#C8D4E3"
                 },
                 "line": {
                  "color": "white"
                 }
                },
                "type": "table"
               }
              ]
             },
             "layout": {
              "annotationdefaults": {
               "arrowcolor": "#2a3f5f",
               "arrowhead": 0,
               "arrowwidth": 1
              },
              "coloraxis": {
               "colorbar": {
                "outlinewidth": 0,
                "ticks": ""
               }
              },
              "colorscale": {
               "diverging": [
                [
                 0,
                 "#8e0152"
                ],
                [
                 0.1,
                 "#c51b7d"
                ],
                [
                 0.2,
                 "#de77ae"
                ],
                [
                 0.3,
                 "#f1b6da"
                ],
                [
                 0.4,
                 "#fde0ef"
                ],
                [
                 0.5,
                 "#f7f7f7"
                ],
                [
                 0.6,
                 "#e6f5d0"
                ],
                [
                 0.7,
                 "#b8e186"
                ],
                [
                 0.8,
                 "#7fbc41"
                ],
                [
                 0.9,
                 "#4d9221"
                ],
                [
                 1,
                 "#276419"
                ]
               ],
               "sequential": [
                [
                 0,
                 "#0d0887"
                ],
                [
                 0.1111111111111111,
                 "#46039f"
                ],
                [
                 0.2222222222222222,
                 "#7201a8"
                ],
                [
                 0.3333333333333333,
                 "#9c179e"
                ],
                [
                 0.4444444444444444,
                 "#bd3786"
                ],
                [
                 0.5555555555555556,
                 "#d8576b"
                ],
                [
                 0.6666666666666666,
                 "#ed7953"
                ],
                [
                 0.7777777777777778,
                 "#fb9f3a"
                ],
                [
                 0.8888888888888888,
                 "#fdca26"
                ],
                [
                 1,
                 "#f0f921"
                ]
               ],
               "sequentialminus": [
                [
                 0,
                 "#0d0887"
                ],
                [
                 0.1111111111111111,
                 "#46039f"
                ],
                [
                 0.2222222222222222,
                 "#7201a8"
                ],
                [
                 0.3333333333333333,
                 "#9c179e"
                ],
                [
                 0.4444444444444444,
                 "#bd3786"
                ],
                [
                 0.5555555555555556,
                 "#d8576b"
                ],
                [
                 0.6666666666666666,
                 "#ed7953"
                ],
                [
                 0.7777777777777778,
                 "#fb9f3a"
                ],
                [
                 0.8888888888888888,
                 "#fdca26"
                ],
                [
                 1,
                 "#f0f921"
                ]
               ]
              },
              "colorway": [
               "#636efa",
               "#EF553B",
               "#00cc96",
               "#ab63fa",
               "#FFA15A",
               "#19d3f3",
               "#FF6692",
               "#B6E880",
               "#FF97FF",
               "#FECB52"
              ],
              "font": {
               "color": "#2a3f5f"
              },
              "geo": {
               "bgcolor": "white",
               "lakecolor": "white",
               "landcolor": "#E5ECF6",
               "showlakes": true,
               "showland": true,
               "subunitcolor": "white"
              },
              "hoverlabel": {
               "align": "left"
              },
              "hovermode": "closest",
              "mapbox": {
               "style": "light"
              },
              "paper_bgcolor": "white",
              "plot_bgcolor": "#E5ECF6",
              "polar": {
               "angularaxis": {
                "gridcolor": "white",
                "linecolor": "white",
                "ticks": ""
               },
               "bgcolor": "#E5ECF6",
               "radialaxis": {
                "gridcolor": "white",
                "linecolor": "white",
                "ticks": ""
               }
              },
              "scene": {
               "xaxis": {
                "backgroundcolor": "#E5ECF6",
                "gridcolor": "white",
                "gridwidth": 2,
                "linecolor": "white",
                "showbackground": true,
                "ticks": "",
                "zerolinecolor": "white"
               },
               "yaxis": {
                "backgroundcolor": "#E5ECF6",
                "gridcolor": "white",
                "gridwidth": 2,
                "linecolor": "white",
                "showbackground": true,
                "ticks": "",
                "zerolinecolor": "white"
               },
               "zaxis": {
                "backgroundcolor": "#E5ECF6",
                "gridcolor": "white",
                "gridwidth": 2,
                "linecolor": "white",
                "showbackground": true,
                "ticks": "",
                "zerolinecolor": "white"
               }
              },
              "shapedefaults": {
               "line": {
                "color": "#2a3f5f"
               }
              },
              "ternary": {
               "aaxis": {
                "gridcolor": "white",
                "linecolor": "white",
                "ticks": ""
               },
               "baxis": {
                "gridcolor": "white",
                "linecolor": "white",
                "ticks": ""
               },
               "bgcolor": "#E5ECF6",
               "caxis": {
                "gridcolor": "white",
                "linecolor": "white",
                "ticks": ""
               }
              },
              "title": {
               "x": 0.05
              },
              "xaxis": {
               "automargin": true,
               "gridcolor": "white",
               "linecolor": "white",
               "ticks": "",
               "title": {
                "standoff": 15
               },
               "zerolinecolor": "white",
               "zerolinewidth": 2
              },
              "yaxis": {
               "automargin": true,
               "gridcolor": "white",
               "linecolor": "white",
               "ticks": "",
               "title": {
                "standoff": 15
               },
               "zerolinecolor": "white",
               "zerolinewidth": 2
              }
             }
            },
            "width": 100
           }
          },
          "text/html": "<div>\n        \n        \n            <div id=\"2d1bf30e-9cb2-42cb-857b-ea9d52cf02af\" class=\"plotly-graph-div\" style=\"height:100px; width:100px;\"></div>\n            <script type=\"text/javascript\">\n                require([\"plotly\"], function(Plotly) {\n                    window.PLOTLYENV=window.PLOTLYENV || {};\n                    \n                if (document.getElementById(\"2d1bf30e-9cb2-42cb-857b-ea9d52cf02af\")) {\n                    Plotly.newPlot(\n                        '2d1bf30e-9cb2-42cb-857b-ea9d52cf02af',\n                        [{\"lat\": [16.72, 16.72, 36.404, 36.404, 32.884, 32.884, 32.884, 2.58, 2.58, 2.58, 2.58, 44.43, 44.43, 44.43, 44.43, 44.43, 44.43, 37.7166666666667, 37.7166666666667, 35.9, -38.82, 43.722, 41.611, 46.2, 46.853, -22.2666666666667, 65.715, 63.983, 63.892, 64.083, 60.485, 32.761, 38.83, 31.934, 36.7833333333333, 35.361, 56.056, 19.421, 19.421, 40.821, 40.827, 37.748, 38.789, 15.13, 4.892, -1.467, 28.0], \"lon\": [-62.18, -62.18, 25.396, 25.396, 131.104, 131.104, 131.104, 98.83, 98.83, 98.83, 98.83, -110.67, -110.67, -110.67, -110.67, -110.67, -110.67, -118.883333333333, -118.883333333333, -106.533333333333, 176.0, -121.229, -121.554, -122.18, -121.76, -67.1666666666667, -16.728, -19.666, -19.122, -21.416, -152.742, 130.299, 140.7, 130.862, 139.366666666667, 138.728, 160.642, -155.287, -155.287, 14.426, 14.139, 14.999, 15.213, 120.35, -75.324, -78.442, -15.58], \"marker\": {\"size\": [215.44346900318837, 215.44346900318837, 464.15888336127784, 464.15888336127784, 843.4326653017491, 843.4326653017491, 843.4326653017491, 1409.4597464129781, 1409.4597464129781, 1409.4597464129781, 1409.4597464129781, 1348.0997498879249, 1348.0997498879249, 1348.0997498879249, 1348.0997498879249, 1348.0997498879249, 1348.0997498879249, 100.0, 100.0, 100.0, 100.0, 100.0, 100.0, 100.0, 100.0, 100.0, 100.0, 100.0, 100.0, 100.0, 100.0, 100.0, 100.0, 100.0, 100.0, 100.0, 100.0, 100.0, 100.0, 100.0, 100.0, 100.0, 100.0, 100.0, 100.0, 100.0, 100.0], \"sizemode\": \"area\"}, \"text\": [\"Soufriere Hills Volcano<br>Erupted volume: 10.0<br><br>References:<br>Paulatto et al., 2012\", \"Soufriere Hills Volcano<br>Erupted volume: 10.0<br><br>References:<br>Paulatto et al., 2019\", \"Santorini<br>Erupted volume: 100.0<br><br>References:<br>McVey et al., 2019\", null, \"Aso Caldera<br>Erupted volume: 600.0<br><br>References:<br>Sudo & Kong, 2001\", \"Aso Caldera<br>Erupted volume: 600.0<br><br>References:<br>Huang et al., 2018\", \"Aso Caldera<br>Erupted volume: 600.0<br><br>References:<br>Abe et al., 2017\", \"Toba<br>Erupted volume: 2800.0<br><br>References:<br>Koulakov et al., 2009\", \"Toba<br>Erupted volume: 2800.0<br><br>References:<br>Mastruryono et al., 2001\", \"Toba<br>Erupted volume: 2800.0<br><br>References:<br>Jaxybulatov et al., 2014\", \"Toba<br>Erupted volume: 2800.0<br><br>References:<br>Stankiewicz et al., 2010\", \"Yellowstone<br>Erupted volume: 2450.0<br><br>References:<br>(Iyer et al., 1981,\\u00a0Benz and Smith, 1984,\\u00a0Clawson et al., 1989,\\u00a0Miller and Smith, 1999,\\u00a0Husen and Smith, 2004,\\u00a0Yuan and Dueker, 2005)\", \"Yellowstone<br>Erupted volume: 2450.0<br><br>References:<br>Chu et al., 2010\", \"Yellowstone<br>Erupted volume: 2450.0<br><br>References:<br>Farrell et al., 2014\", \"Yellowstone<br>Erupted volume: 2450.0<br><br>References:<br>Huang et al., 2015\", \"Yellowstone<br>Erupted volume: 2450.0<br><br>References:<br>Miller and Smith, 1999\", \"Yellowstone<br>Erupted volume: 2450.0<br><br>References:<br>Jiang, 2018\", \"Long Valley<br>Erupted volume: nan<br><br>References:<br>(Peppin, 1985,\\u00a0Dawson et al., 1987,\\u00a0Hauksson, 1988,\\u00a0Dawson et al., 1990,\\u00a0Sanders, 1993a,\\u00a0Sanders, 1993b,\\u00a0Sanders et al., 1994,\\u00a0Steck, 1995,\\u00a0Sanders et al., 1995,\\u00a0Weiland et al., 1995,\\u00a0O'Doherty et al., 1997)\", \"Long Valley<br>Erupted volume: nan<br><br>References:<br>Jiang, 2018\", \"Valles<br>Erupted volume: nan<br><br>References:<br>Lutter et al. (1995)\", \"Taupo<br>Erupted volume: nan<br><br>References:<br>Sherburn et al. (2003)\", \"Newberry volcano<br>Erupted volume: nan<br><br>References:<br>(Achauer et al., 1988,\\u00a0Stauber et al., 1988)\", \"Medicine Lake<br>Erupted volume: nan<br><br>References:<br>(Evans and Zucca, 1988,\\u00a0Lees and Crosson, 1989,\\u00a0Ritter and Evans, 1997)\", \"Mt. St. Helens<br>Erupted volume: nan<br><br>References:<br>Lees (1992)\", \"Mt. Rainier<br>Erupted volume: nan<br><br>References:<br>(Lees and Crosson, 1990,\\u00a0Moran et al., 1999)\", null, \"Krafla<br>Erupted volume: nan<br><br>References:<br>(Einarsson, 1978,\\u00a0Foulger and Arnott, 1993)\", \"Hekla<br>Erupted volume: nan<br><br>References:<br>Soosalu and Einarsson (2004)\", \"Torfaj\\u00f6kull<br>Erupted volume: nan<br><br>References:<br>Soosalu and Einarsson (2004)\", \"Hengill\\u2013Grensdalur<br>Erupted volume: nan<br><br>References:<br>Toomey and Foulger (1989)\", \"Redoubt<br>Erupted volume: nan<br><br>References:<br>Benz et al. (1996)\", \"Unzen<br>Erupted volume: nan<br><br>References:<br>Ohmi and Lees (1995)\", \"Onikobe<br>Erupted volume: nan<br><br>References:<br>Nakajima and Hasegawa (2003)\", \"Kirishima<br>Erupted volume: nan<br><br>References:<br>Yamamoto and Ida (1994)\", \"Nikko-Shirane<br>Erupted volume: nan<br><br>References:<br>Horiuchi et al. (1997)\", \"Mt. Fuji<br>Erupted volume: nan<br><br>References:<br>Nakamichi (2005)\", \"Klyuchevskoy<br>Erupted volume: nan<br><br>References:<br>(Anosov et al., 1978,\\u00a0Ozerov, 2000)\", \"Halemaumau<br>Erupted volume: nan<br><br>References:<br>Rowan and Clayton (1993)\", \"Kilauea<br>Erupted volume: nan<br><br>References:<br>(Thurber, 1984,\\u00a0Rowan and Clayton, 1993,\\u00a0Okubo et al., 1997,\\u00a0Haslinger et al., 2001)\", \"Vesuvius<br>Erupted volume: nan<br><br>References:<br>(De Natale et al., 1998,\\u00a0Zollo et al., 1998)\", \"Campi Flegrei<br>Erupted volume: nan<br><br>References:<br>1988;\\u00a0Aster et al., 1992\", \"Mt. Etna<br>Erupted volume: nan<br><br>References:<br>(Cardaci et al., 1993,\\u00a0Villasenor et al., 1998,\\u00a0Laigle and Hirn, 1999,\\u00a0Chiarabba et al., 2000,\\u00a0Aloisi et al., 2002)\", null, \"Pinatubo<br>Erupted volume: nan<br><br>References:<br>Mori et al. (1996)\", \"Nevado del Ruiz<br>Erupted volume: nan<br><br>References:<br>Londo\\u00f1o and Sudo (2003)\", \"Tungurahua<br>Erupted volume: nan<br><br>References:<br>Molina et al. (2005)\", \"Gran Canaria<br>Erupted volume: nan<br><br>References:<br>Krastel and Schmincke (2002)\"], \"type\": \"scattergeo\"}],\n                        {\"height\": 100, \"template\": {\"data\": {\"bar\": [{\"error_x\": {\"color\": \"#2a3f5f\"}, \"error_y\": {\"color\": \"#2a3f5f\"}, \"marker\": {\"line\": {\"color\": \"#E5ECF6\", \"width\": 0.5}}, \"type\": \"bar\"}], \"barpolar\": [{\"marker\": {\"line\": {\"color\": \"#E5ECF6\", \"width\": 0.5}}, \"type\": \"barpolar\"}], \"carpet\": [{\"aaxis\": {\"endlinecolor\": \"#2a3f5f\", \"gridcolor\": \"white\", \"linecolor\": \"white\", \"minorgridcolor\": \"white\", \"startlinecolor\": \"#2a3f5f\"}, \"baxis\": {\"endlinecolor\": \"#2a3f5f\", \"gridcolor\": \"white\", \"linecolor\": \"white\", \"minorgridcolor\": \"white\", \"startlinecolor\": \"#2a3f5f\"}, \"type\": \"carpet\"}], \"choropleth\": [{\"colorbar\": {\"outlinewidth\": 0, \"ticks\": \"\"}, \"type\": \"choropleth\"}], \"contour\": [{\"colorbar\": {\"outlinewidth\": 0, \"ticks\": \"\"}, \"colorscale\": [[0.0, \"#0d0887\"], [0.1111111111111111, \"#46039f\"], [0.2222222222222222, \"#7201a8\"], [0.3333333333333333, \"#9c179e\"], [0.4444444444444444, \"#bd3786\"], [0.5555555555555556, \"#d8576b\"], [0.6666666666666666, \"#ed7953\"], [0.7777777777777778, \"#fb9f3a\"], [0.8888888888888888, \"#fdca26\"], [1.0, \"#f0f921\"]], \"type\": \"contour\"}], \"contourcarpet\": [{\"colorbar\": {\"outlinewidth\": 0, \"ticks\": \"\"}, \"type\": \"contourcarpet\"}], \"heatmap\": [{\"colorbar\": {\"outlinewidth\": 0, \"ticks\": \"\"}, \"colorscale\": [[0.0, \"#0d0887\"], [0.1111111111111111, \"#46039f\"], [0.2222222222222222, \"#7201a8\"], [0.3333333333333333, \"#9c179e\"], [0.4444444444444444, \"#bd3786\"], [0.5555555555555556, \"#d8576b\"], [0.6666666666666666, \"#ed7953\"], [0.7777777777777778, \"#fb9f3a\"], [0.8888888888888888, \"#fdca26\"], [1.0, \"#f0f921\"]], \"type\": \"heatmap\"}], \"heatmapgl\": [{\"colorbar\": {\"outlinewidth\": 0, \"ticks\": \"\"}, \"colorscale\": [[0.0, \"#0d0887\"], [0.1111111111111111, \"#46039f\"], [0.2222222222222222, \"#7201a8\"], [0.3333333333333333, \"#9c179e\"], [0.4444444444444444, \"#bd3786\"], [0.5555555555555556, \"#d8576b\"], [0.6666666666666666, \"#ed7953\"], [0.7777777777777778, \"#fb9f3a\"], [0.8888888888888888, \"#fdca26\"], [1.0, \"#f0f921\"]], \"type\": \"heatmapgl\"}], \"histogram\": [{\"marker\": {\"colorbar\": {\"outlinewidth\": 0, \"ticks\": \"\"}}, \"type\": \"histogram\"}], \"histogram2d\": [{\"colorbar\": {\"outlinewidth\": 0, \"ticks\": \"\"}, \"colorscale\": [[0.0, \"#0d0887\"], [0.1111111111111111, \"#46039f\"], [0.2222222222222222, \"#7201a8\"], [0.3333333333333333, \"#9c179e\"], [0.4444444444444444, \"#bd3786\"], [0.5555555555555556, \"#d8576b\"], [0.6666666666666666, \"#ed7953\"], [0.7777777777777778, \"#fb9f3a\"], [0.8888888888888888, \"#fdca26\"], [1.0, \"#f0f921\"]], \"type\": \"histogram2d\"}], \"histogram2dcontour\": [{\"colorbar\": {\"outlinewidth\": 0, \"ticks\": \"\"}, \"colorscale\": [[0.0, \"#0d0887\"], [0.1111111111111111, \"#46039f\"], [0.2222222222222222, \"#7201a8\"], [0.3333333333333333, \"#9c179e\"], [0.4444444444444444, \"#bd3786\"], [0.5555555555555556, \"#d8576b\"], [0.6666666666666666, \"#ed7953\"], [0.7777777777777778, \"#fb9f3a\"], [0.8888888888888888, \"#fdca26\"], [1.0, \"#f0f921\"]], \"type\": \"histogram2dcontour\"}], \"mesh3d\": [{\"colorbar\": {\"outlinewidth\": 0, \"ticks\": \"\"}, \"type\": \"mesh3d\"}], \"parcoords\": [{\"line\": {\"colorbar\": {\"outlinewidth\": 0, \"ticks\": \"\"}}, \"type\": \"parcoords\"}], \"pie\": [{\"automargin\": true, \"type\": \"pie\"}], \"scatter\": [{\"marker\": {\"colorbar\": {\"outlinewidth\": 0, \"ticks\": \"\"}}, \"type\": \"scatter\"}], \"scatter3d\": [{\"line\": {\"colorbar\": {\"outlinewidth\": 0, \"ticks\": \"\"}}, \"marker\": {\"colorbar\": {\"outlinewidth\": 0, \"ticks\": \"\"}}, \"type\": \"scatter3d\"}], \"scattercarpet\": [{\"marker\": {\"colorbar\": {\"outlinewidth\": 0, \"ticks\": \"\"}}, \"type\": \"scattercarpet\"}], \"scattergeo\": [{\"marker\": {\"colorbar\": {\"outlinewidth\": 0, \"ticks\": \"\"}}, \"type\": \"scattergeo\"}], \"scattergl\": [{\"marker\": {\"colorbar\": {\"outlinewidth\": 0, \"ticks\": \"\"}}, \"type\": \"scattergl\"}], \"scattermapbox\": [{\"marker\": {\"colorbar\": {\"outlinewidth\": 0, \"ticks\": \"\"}}, \"type\": \"scattermapbox\"}], \"scatterpolar\": [{\"marker\": {\"colorbar\": {\"outlinewidth\": 0, \"ticks\": \"\"}}, \"type\": \"scatterpolar\"}], \"scatterpolargl\": [{\"marker\": {\"colorbar\": {\"outlinewidth\": 0, \"ticks\": \"\"}}, \"type\": \"scatterpolargl\"}], \"scatterternary\": [{\"marker\": {\"colorbar\": {\"outlinewidth\": 0, \"ticks\": \"\"}}, \"type\": \"scatterternary\"}], \"surface\": [{\"colorbar\": {\"outlinewidth\": 0, \"ticks\": \"\"}, \"colorscale\": [[0.0, \"#0d0887\"], [0.1111111111111111, \"#46039f\"], [0.2222222222222222, \"#7201a8\"], [0.3333333333333333, \"#9c179e\"], [0.4444444444444444, \"#bd3786\"], [0.5555555555555556, \"#d8576b\"], [0.6666666666666666, \"#ed7953\"], [0.7777777777777778, \"#fb9f3a\"], [0.8888888888888888, \"#fdca26\"], [1.0, \"#f0f921\"]], \"type\": \"surface\"}], \"table\": [{\"cells\": {\"fill\": {\"color\": \"#EBF0F8\"}, \"line\": {\"color\": \"white\"}}, \"header\": {\"fill\": {\"color\": \"#C8D4E3\"}, \"line\": {\"color\": \"white\"}}, \"type\": \"table\"}]}, \"layout\": {\"annotationdefaults\": {\"arrowcolor\": \"#2a3f5f\", \"arrowhead\": 0, \"arrowwidth\": 1}, \"coloraxis\": {\"colorbar\": {\"outlinewidth\": 0, \"ticks\": \"\"}}, \"colorscale\": {\"diverging\": [[0, \"#8e0152\"], [0.1, \"#c51b7d\"], [0.2, \"#de77ae\"], [0.3, \"#f1b6da\"], [0.4, \"#fde0ef\"], [0.5, \"#f7f7f7\"], [0.6, \"#e6f5d0\"], [0.7, \"#b8e186\"], [0.8, \"#7fbc41\"], [0.9, \"#4d9221\"], [1, \"#276419\"]], \"sequential\": [[0.0, \"#0d0887\"], [0.1111111111111111, \"#46039f\"], [0.2222222222222222, \"#7201a8\"], [0.3333333333333333, \"#9c179e\"], [0.4444444444444444, \"#bd3786\"], [0.5555555555555556, \"#d8576b\"], [0.6666666666666666, \"#ed7953\"], [0.7777777777777778, \"#fb9f3a\"], [0.8888888888888888, \"#fdca26\"], [1.0, \"#f0f921\"]], \"sequentialminus\": [[0.0, \"#0d0887\"], [0.1111111111111111, \"#46039f\"], [0.2222222222222222, \"#7201a8\"], [0.3333333333333333, \"#9c179e\"], [0.4444444444444444, \"#bd3786\"], [0.5555555555555556, \"#d8576b\"], [0.6666666666666666, \"#ed7953\"], [0.7777777777777778, \"#fb9f3a\"], [0.8888888888888888, \"#fdca26\"], [1.0, \"#f0f921\"]]}, \"colorway\": [\"#636efa\", \"#EF553B\", \"#00cc96\", \"#ab63fa\", \"#FFA15A\", \"#19d3f3\", \"#FF6692\", \"#B6E880\", \"#FF97FF\", \"#FECB52\"], \"font\": {\"color\": \"#2a3f5f\"}, \"geo\": {\"bgcolor\": \"white\", \"lakecolor\": \"white\", \"landcolor\": \"#E5ECF6\", \"showlakes\": true, \"showland\": true, \"subunitcolor\": \"white\"}, \"hoverlabel\": {\"align\": \"left\"}, \"hovermode\": \"closest\", \"mapbox\": {\"style\": \"light\"}, \"paper_bgcolor\": \"white\", \"plot_bgcolor\": \"#E5ECF6\", \"polar\": {\"angularaxis\": {\"gridcolor\": \"white\", \"linecolor\": \"white\", \"ticks\": \"\"}, \"bgcolor\": \"#E5ECF6\", \"radialaxis\": {\"gridcolor\": \"white\", \"linecolor\": \"white\", \"ticks\": \"\"}}, \"scene\": {\"xaxis\": {\"backgroundcolor\": \"#E5ECF6\", \"gridcolor\": \"white\", \"gridwidth\": 2, \"linecolor\": \"white\", \"showbackground\": true, \"ticks\": \"\", \"zerolinecolor\": \"white\"}, \"yaxis\": {\"backgroundcolor\": \"#E5ECF6\", \"gridcolor\": \"white\", \"gridwidth\": 2, \"linecolor\": \"white\", \"showbackground\": true, \"ticks\": \"\", \"zerolinecolor\": \"white\"}, \"zaxis\": {\"backgroundcolor\": \"#E5ECF6\", \"gridcolor\": \"white\", \"gridwidth\": 2, \"linecolor\": \"white\", \"showbackground\": true, \"ticks\": \"\", \"zerolinecolor\": \"white\"}}, \"shapedefaults\": {\"line\": {\"color\": \"#2a3f5f\"}}, \"ternary\": {\"aaxis\": {\"gridcolor\": \"white\", \"linecolor\": \"white\", \"ticks\": \"\"}, \"baxis\": {\"gridcolor\": \"white\", \"linecolor\": \"white\", \"ticks\": \"\"}, \"bgcolor\": \"#E5ECF6\", \"caxis\": {\"gridcolor\": \"white\", \"linecolor\": \"white\", \"ticks\": \"\"}}, \"title\": {\"x\": 0.05}, \"xaxis\": {\"automargin\": true, \"gridcolor\": \"white\", \"linecolor\": \"white\", \"ticks\": \"\", \"title\": {\"standoff\": 15}, \"zerolinecolor\": \"white\", \"zerolinewidth\": 2}, \"yaxis\": {\"automargin\": true, \"gridcolor\": \"white\", \"linecolor\": \"white\", \"ticks\": \"\", \"title\": {\"standoff\": 15}, \"zerolinecolor\": \"white\", \"zerolinewidth\": 2}}}, \"width\": 100},\n                        {\"responsive\": true}\n                    ).then(function(){\n                            \nvar gd = document.getElementById('2d1bf30e-9cb2-42cb-857b-ea9d52cf02af');\nvar x = new MutationObserver(function (mutations, observer) {{\n        var display = window.getComputedStyle(gd).display;\n        if (!display || display === 'none') {{\n            console.log([gd, 'removed!']);\n            Plotly.purge(gd);\n            observer.disconnect();\n        }}\n}});\n\n// Listen for the removal of the full notebook cells\nvar notebookContainer = gd.closest('#notebook-container');\nif (notebookContainer) {{\n    x.observe(notebookContainer, {childList: true});\n}}\n\n// Listen for the clearing of the current output cell\nvar outputEl = gd.closest('.output');\nif (outputEl) {{\n    x.observe(outputEl, {childList: true});\n}}\n\n                        })\n                };\n                });\n            </script>\n        </div>"
         },
         "metadata": {},
         "output_type": "display_data"
        }
       ]
      }
     },
     "1ef8c94ccc3848f6bc7bdd0d36aefbce": {
      "model_module": "@jupyter-widgets/controls",
      "model_module_version": "1.5.0",
      "model_name": "VBoxModel",
      "state": {
       "_dom_classes": [
        "widget-interact"
       ],
       "children": [
        "IPY_MODEL_c7973f7836bf4466a24a1019ad42c297",
        "IPY_MODEL_efe9a870f63149dfbd2480d5a236e982"
       ],
       "layout": "IPY_MODEL_d7e0a5161be544e2a65ad01c4844e7aa"
      }
     },
     "1f75500cb926433981695a10646824e9": {
      "model_module": "@jupyter-widgets/controls",
      "model_module_version": "1.5.0",
      "model_name": "DescriptionStyleModel",
      "state": {
       "description_width": ""
      }
     },
     "23467aa2336947d498786300ca5834e5": {
      "model_module": "@jupyter-widgets/base",
      "model_module_version": "1.2.0",
      "model_name": "LayoutModel",
      "state": {}
     },
     "25541d2df5fb47b4ab3d40a43ec4231a": {
      "model_module": "@jupyter-widgets/base",
      "model_module_version": "1.2.0",
      "model_name": "LayoutModel",
      "state": {}
     },
     "278244c0963e4fd4bc62f476bad7e4b4": {
      "model_module": "@jupyter-widgets/controls",
      "model_module_version": "1.5.0",
      "model_name": "DescriptionStyleModel",
      "state": {
       "description_width": ""
      }
     },
     "27a3f5edddb74696a5ee1b898604583a": {
      "model_module": "@jupyter-widgets/controls",
      "model_module_version": "1.5.0",
      "model_name": "VBoxModel",
      "state": {
       "_dom_classes": [
        "widget-interact"
       ],
       "children": [
        "IPY_MODEL_d934e140037847f48460c9ff737c74be",
        "IPY_MODEL_5a4243679a7a4faebd4697280480708e"
       ],
       "layout": "IPY_MODEL_6b4257d0a7734139aa312eb85bf5bd43"
      }
     },
     "2847989d2a9e469ba6292e4bedc788c0": {
      "model_module": "@jupyter-widgets/base",
      "model_module_version": "1.2.0",
      "model_name": "LayoutModel",
      "state": {}
     },
     "284c360892484dc6a3041bb247cd61e3": {
      "model_module": "@jupyter-widgets/base",
      "model_module_version": "1.2.0",
      "model_name": "LayoutModel",
      "state": {}
     },
     "2aaec7f2178b41aa87b4c37cedecd874": {
      "model_module": "@jupyter-widgets/base",
      "model_module_version": "1.2.0",
      "model_name": "LayoutModel",
      "state": {}
     },
     "2c0c6321b0e047dfbb9614f7d54bb958": {
      "model_module": "@jupyter-widgets/output",
      "model_module_version": "1.0.0",
      "model_name": "OutputModel",
      "state": {
       "layout": "IPY_MODEL_8069ba7395b24fe39c3e4cb0792cf86f",
       "outputs": [
        {
         "data": {
          "application/vnd.plotly.v1+json": {
           "config": {
            "plotlyServerURL": "https://plot.ly"
           },
           "data": [
            {
             "lat": [
              16.72,
              16.72,
              36.404,
              36.404,
              32.884,
              32.884,
              32.884,
              2.58,
              2.58,
              2.58,
              2.58,
              44.43,
              44.43,
              44.43,
              44.43,
              44.43,
              44.43,
              37.7166666666667,
              37.7166666666667,
              35.9,
              -38.82,
              43.722,
              41.611,
              46.2,
              46.853,
              -22.2666666666667,
              65.715,
              63.983,
              63.892,
              64.083,
              60.485,
              32.761,
              38.83,
              31.934,
              36.7833333333333,
              35.361,
              56.056,
              19.421,
              19.421,
              40.821,
              40.827,
              37.748,
              38.789,
              15.13,
              4.892,
              -1.467,
              28
             ],
             "lon": [
              -62.18,
              -62.18,
              25.396,
              25.396,
              131.104,
              131.104,
              131.104,
              98.83,
              98.83,
              98.83,
              98.83,
              -110.67,
              -110.67,
              -110.67,
              -110.67,
              -110.67,
              -110.67,
              -118.883333333333,
              -118.883333333333,
              -106.533333333333,
              176,
              -121.229,
              -121.554,
              -122.18,
              -121.76,
              -67.1666666666667,
              -16.728,
              -19.666,
              -19.122,
              -21.416,
              -152.742,
              130.299,
              140.7,
              130.862,
              139.366666666667,
              138.728,
              160.642,
              -155.287,
              -155.287,
              14.426,
              14.139,
              14.999,
              15.213,
              120.35,
              -75.324,
              -78.442,
              -15.58
             ],
             "marker": {
              "size": [
               215.44346900318837,
               215.44346900318837,
               464.15888336127784,
               464.15888336127784,
               843.4326653017491,
               843.4326653017491,
               843.4326653017491,
               1409.4597464129781,
               1409.4597464129781,
               1409.4597464129781,
               1409.4597464129781,
               1348.0997498879249,
               1348.0997498879249,
               1348.0997498879249,
               1348.0997498879249,
               1348.0997498879249,
               1348.0997498879249,
               100,
               100,
               100,
               100,
               100,
               100,
               100,
               100,
               100,
               100,
               100,
               100,
               100,
               100,
               100,
               100,
               100,
               100,
               100,
               100,
               100,
               100,
               100,
               100,
               100,
               100,
               100,
               100,
               100,
               100
              ],
              "sizemode": "area"
             },
             "text": [
              "Soufriere Hills Volcano<br>Erupted volume: 10.0<br><br>References:<br>Paulatto et al., 2012",
              "Soufriere Hills Volcano<br>Erupted volume: 10.0<br><br>References:<br>Paulatto et al., 2019",
              "Santorini<br>Erupted volume: 100.0<br><br>References:<br>McVey et al., 2019",
              null,
              "Aso Caldera<br>Erupted volume: 600.0<br><br>References:<br>Sudo & Kong, 2001",
              "Aso Caldera<br>Erupted volume: 600.0<br><br>References:<br>Huang et al., 2018",
              "Aso Caldera<br>Erupted volume: 600.0<br><br>References:<br>Abe et al., 2017",
              "Toba<br>Erupted volume: 2800.0<br><br>References:<br>Koulakov et al., 2009",
              "Toba<br>Erupted volume: 2800.0<br><br>References:<br>Mastruryono et al., 2001",
              "Toba<br>Erupted volume: 2800.0<br><br>References:<br>Jaxybulatov et al., 2014",
              "Toba<br>Erupted volume: 2800.0<br><br>References:<br>Stankiewicz et al., 2010",
              "Yellowstone<br>Erupted volume: 2450.0<br><br>References:<br>(Iyer et al., 1981, Benz and Smith, 1984, Clawson et al., 1989, Miller and Smith, 1999, Husen and Smith, 2004, Yuan and Dueker, 2005)",
              "Yellowstone<br>Erupted volume: 2450.0<br><br>References:<br>Chu et al., 2010",
              "Yellowstone<br>Erupted volume: 2450.0<br><br>References:<br>Farrell et al., 2014",
              "Yellowstone<br>Erupted volume: 2450.0<br><br>References:<br>Huang et al., 2015",
              "Yellowstone<br>Erupted volume: 2450.0<br><br>References:<br>Miller and Smith, 1999",
              "Yellowstone<br>Erupted volume: 2450.0<br><br>References:<br>Jiang, 2018",
              "Long Valley<br>Erupted volume: nan<br><br>References:<br>(Peppin, 1985, Dawson et al., 1987, Hauksson, 1988, Dawson et al., 1990, Sanders, 1993a, Sanders, 1993b, Sanders et al., 1994, Steck, 1995, Sanders et al., 1995, Weiland et al., 1995, O'Doherty et al., 1997)",
              "Long Valley<br>Erupted volume: nan<br><br>References:<br>Jiang, 2018",
              "Valles<br>Erupted volume: nan<br><br>References:<br>Lutter et al. (1995)",
              "Taupo<br>Erupted volume: nan<br><br>References:<br>Sherburn et al. (2003)",
              "Newberry volcano<br>Erupted volume: nan<br><br>References:<br>(Achauer et al., 1988, Stauber et al., 1988)",
              "Medicine Lake<br>Erupted volume: nan<br><br>References:<br>(Evans and Zucca, 1988, Lees and Crosson, 1989, Ritter and Evans, 1997)",
              "Mt. St. Helens<br>Erupted volume: nan<br><br>References:<br>Lees (1992)",
              "Mt. Rainier<br>Erupted volume: nan<br><br>References:<br>(Lees and Crosson, 1990, Moran et al., 1999)",
              null,
              "Krafla<br>Erupted volume: nan<br><br>References:<br>(Einarsson, 1978, Foulger and Arnott, 1993)",
              "Hekla<br>Erupted volume: nan<br><br>References:<br>Soosalu and Einarsson (2004)",
              "Torfajökull<br>Erupted volume: nan<br><br>References:<br>Soosalu and Einarsson (2004)",
              "Hengill–Grensdalur<br>Erupted volume: nan<br><br>References:<br>Toomey and Foulger (1989)",
              "Redoubt<br>Erupted volume: nan<br><br>References:<br>Benz et al. (1996)",
              "Unzen<br>Erupted volume: nan<br><br>References:<br>Ohmi and Lees (1995)",
              "Onikobe<br>Erupted volume: nan<br><br>References:<br>Nakajima and Hasegawa (2003)",
              "Kirishima<br>Erupted volume: nan<br><br>References:<br>Yamamoto and Ida (1994)",
              "Nikko-Shirane<br>Erupted volume: nan<br><br>References:<br>Horiuchi et al. (1997)",
              "Mt. Fuji<br>Erupted volume: nan<br><br>References:<br>Nakamichi (2005)",
              "Klyuchevskoy<br>Erupted volume: nan<br><br>References:<br>(Anosov et al., 1978, Ozerov, 2000)",
              "Halemaumau<br>Erupted volume: nan<br><br>References:<br>Rowan and Clayton (1993)",
              "Kilauea<br>Erupted volume: nan<br><br>References:<br>(Thurber, 1984, Rowan and Clayton, 1993, Okubo et al., 1997, Haslinger et al., 2001)",
              "Vesuvius<br>Erupted volume: nan<br><br>References:<br>(De Natale et al., 1998, Zollo et al., 1998)",
              "Campi Flegrei<br>Erupted volume: nan<br><br>References:<br>1988; Aster et al., 1992",
              "Mt. Etna<br>Erupted volume: nan<br><br>References:<br>(Cardaci et al., 1993, Villasenor et al., 1998, Laigle and Hirn, 1999, Chiarabba et al., 2000, Aloisi et al., 2002)",
              null,
              "Pinatubo<br>Erupted volume: nan<br><br>References:<br>Mori et al. (1996)",
              "Nevado del Ruiz<br>Erupted volume: nan<br><br>References:<br>Londoño and Sudo (2003)",
              "Tungurahua<br>Erupted volume: nan<br><br>References:<br>Molina et al. (2005)",
              "Gran Canaria<br>Erupted volume: nan<br><br>References:<br>Krastel and Schmincke (2002)"
             ],
             "type": "scattergeo"
            }
           ],
           "layout": {
            "template": {
             "data": {
              "bar": [
               {
                "error_x": {
                 "color": "#2a3f5f"
                },
                "error_y": {
                 "color": "#2a3f5f"
                },
                "marker": {
                 "line": {
                  "color": "#E5ECF6",
                  "width": 0.5
                 }
                },
                "type": "bar"
               }
              ],
              "barpolar": [
               {
                "marker": {
                 "line": {
                  "color": "#E5ECF6",
                  "width": 0.5
                 }
                },
                "type": "barpolar"
               }
              ],
              "carpet": [
               {
                "aaxis": {
                 "endlinecolor": "#2a3f5f",
                 "gridcolor": "white",
                 "linecolor": "white",
                 "minorgridcolor": "white",
                 "startlinecolor": "#2a3f5f"
                },
                "baxis": {
                 "endlinecolor": "#2a3f5f",
                 "gridcolor": "white",
                 "linecolor": "white",
                 "minorgridcolor": "white",
                 "startlinecolor": "#2a3f5f"
                },
                "type": "carpet"
               }
              ],
              "choropleth": [
               {
                "colorbar": {
                 "outlinewidth": 0,
                 "ticks": ""
                },
                "type": "choropleth"
               }
              ],
              "contour": [
               {
                "colorbar": {
                 "outlinewidth": 0,
                 "ticks": ""
                },
                "colorscale": [
                 [
                  0,
                  "#0d0887"
                 ],
                 [
                  0.1111111111111111,
                  "#46039f"
                 ],
                 [
                  0.2222222222222222,
                  "#7201a8"
                 ],
                 [
                  0.3333333333333333,
                  "#9c179e"
                 ],
                 [
                  0.4444444444444444,
                  "#bd3786"
                 ],
                 [
                  0.5555555555555556,
                  "#d8576b"
                 ],
                 [
                  0.6666666666666666,
                  "#ed7953"
                 ],
                 [
                  0.7777777777777778,
                  "#fb9f3a"
                 ],
                 [
                  0.8888888888888888,
                  "#fdca26"
                 ],
                 [
                  1,
                  "#f0f921"
                 ]
                ],
                "type": "contour"
               }
              ],
              "contourcarpet": [
               {
                "colorbar": {
                 "outlinewidth": 0,
                 "ticks": ""
                },
                "type": "contourcarpet"
               }
              ],
              "heatmap": [
               {
                "colorbar": {
                 "outlinewidth": 0,
                 "ticks": ""
                },
                "colorscale": [
                 [
                  0,
                  "#0d0887"
                 ],
                 [
                  0.1111111111111111,
                  "#46039f"
                 ],
                 [
                  0.2222222222222222,
                  "#7201a8"
                 ],
                 [
                  0.3333333333333333,
                  "#9c179e"
                 ],
                 [
                  0.4444444444444444,
                  "#bd3786"
                 ],
                 [
                  0.5555555555555556,
                  "#d8576b"
                 ],
                 [
                  0.6666666666666666,
                  "#ed7953"
                 ],
                 [
                  0.7777777777777778,
                  "#fb9f3a"
                 ],
                 [
                  0.8888888888888888,
                  "#fdca26"
                 ],
                 [
                  1,
                  "#f0f921"
                 ]
                ],
                "type": "heatmap"
               }
              ],
              "heatmapgl": [
               {
                "colorbar": {
                 "outlinewidth": 0,
                 "ticks": ""
                },
                "colorscale": [
                 [
                  0,
                  "#0d0887"
                 ],
                 [
                  0.1111111111111111,
                  "#46039f"
                 ],
                 [
                  0.2222222222222222,
                  "#7201a8"
                 ],
                 [
                  0.3333333333333333,
                  "#9c179e"
                 ],
                 [
                  0.4444444444444444,
                  "#bd3786"
                 ],
                 [
                  0.5555555555555556,
                  "#d8576b"
                 ],
                 [
                  0.6666666666666666,
                  "#ed7953"
                 ],
                 [
                  0.7777777777777778,
                  "#fb9f3a"
                 ],
                 [
                  0.8888888888888888,
                  "#fdca26"
                 ],
                 [
                  1,
                  "#f0f921"
                 ]
                ],
                "type": "heatmapgl"
               }
              ],
              "histogram": [
               {
                "marker": {
                 "colorbar": {
                  "outlinewidth": 0,
                  "ticks": ""
                 }
                },
                "type": "histogram"
               }
              ],
              "histogram2d": [
               {
                "colorbar": {
                 "outlinewidth": 0,
                 "ticks": ""
                },
                "colorscale": [
                 [
                  0,
                  "#0d0887"
                 ],
                 [
                  0.1111111111111111,
                  "#46039f"
                 ],
                 [
                  0.2222222222222222,
                  "#7201a8"
                 ],
                 [
                  0.3333333333333333,
                  "#9c179e"
                 ],
                 [
                  0.4444444444444444,
                  "#bd3786"
                 ],
                 [
                  0.5555555555555556,
                  "#d8576b"
                 ],
                 [
                  0.6666666666666666,
                  "#ed7953"
                 ],
                 [
                  0.7777777777777778,
                  "#fb9f3a"
                 ],
                 [
                  0.8888888888888888,
                  "#fdca26"
                 ],
                 [
                  1,
                  "#f0f921"
                 ]
                ],
                "type": "histogram2d"
               }
              ],
              "histogram2dcontour": [
               {
                "colorbar": {
                 "outlinewidth": 0,
                 "ticks": ""
                },
                "colorscale": [
                 [
                  0,
                  "#0d0887"
                 ],
                 [
                  0.1111111111111111,
                  "#46039f"
                 ],
                 [
                  0.2222222222222222,
                  "#7201a8"
                 ],
                 [
                  0.3333333333333333,
                  "#9c179e"
                 ],
                 [
                  0.4444444444444444,
                  "#bd3786"
                 ],
                 [
                  0.5555555555555556,
                  "#d8576b"
                 ],
                 [
                  0.6666666666666666,
                  "#ed7953"
                 ],
                 [
                  0.7777777777777778,
                  "#fb9f3a"
                 ],
                 [
                  0.8888888888888888,
                  "#fdca26"
                 ],
                 [
                  1,
                  "#f0f921"
                 ]
                ],
                "type": "histogram2dcontour"
               }
              ],
              "mesh3d": [
               {
                "colorbar": {
                 "outlinewidth": 0,
                 "ticks": ""
                },
                "type": "mesh3d"
               }
              ],
              "parcoords": [
               {
                "line": {
                 "colorbar": {
                  "outlinewidth": 0,
                  "ticks": ""
                 }
                },
                "type": "parcoords"
               }
              ],
              "pie": [
               {
                "automargin": true,
                "type": "pie"
               }
              ],
              "scatter": [
               {
                "marker": {
                 "colorbar": {
                  "outlinewidth": 0,
                  "ticks": ""
                 }
                },
                "type": "scatter"
               }
              ],
              "scatter3d": [
               {
                "line": {
                 "colorbar": {
                  "outlinewidth": 0,
                  "ticks": ""
                 }
                },
                "marker": {
                 "colorbar": {
                  "outlinewidth": 0,
                  "ticks": ""
                 }
                },
                "type": "scatter3d"
               }
              ],
              "scattercarpet": [
               {
                "marker": {
                 "colorbar": {
                  "outlinewidth": 0,
                  "ticks": ""
                 }
                },
                "type": "scattercarpet"
               }
              ],
              "scattergeo": [
               {
                "marker": {
                 "colorbar": {
                  "outlinewidth": 0,
                  "ticks": ""
                 }
                },
                "type": "scattergeo"
               }
              ],
              "scattergl": [
               {
                "marker": {
                 "colorbar": {
                  "outlinewidth": 0,
                  "ticks": ""
                 }
                },
                "type": "scattergl"
               }
              ],
              "scattermapbox": [
               {
                "marker": {
                 "colorbar": {
                  "outlinewidth": 0,
                  "ticks": ""
                 }
                },
                "type": "scattermapbox"
               }
              ],
              "scatterpolar": [
               {
                "marker": {
                 "colorbar": {
                  "outlinewidth": 0,
                  "ticks": ""
                 }
                },
                "type": "scatterpolar"
               }
              ],
              "scatterpolargl": [
               {
                "marker": {
                 "colorbar": {
                  "outlinewidth": 0,
                  "ticks": ""
                 }
                },
                "type": "scatterpolargl"
               }
              ],
              "scatterternary": [
               {
                "marker": {
                 "colorbar": {
                  "outlinewidth": 0,
                  "ticks": ""
                 }
                },
                "type": "scatterternary"
               }
              ],
              "surface": [
               {
                "colorbar": {
                 "outlinewidth": 0,
                 "ticks": ""
                },
                "colorscale": [
                 [
                  0,
                  "#0d0887"
                 ],
                 [
                  0.1111111111111111,
                  "#46039f"
                 ],
                 [
                  0.2222222222222222,
                  "#7201a8"
                 ],
                 [
                  0.3333333333333333,
                  "#9c179e"
                 ],
                 [
                  0.4444444444444444,
                  "#bd3786"
                 ],
                 [
                  0.5555555555555556,
                  "#d8576b"
                 ],
                 [
                  0.6666666666666666,
                  "#ed7953"
                 ],
                 [
                  0.7777777777777778,
                  "#fb9f3a"
                 ],
                 [
                  0.8888888888888888,
                  "#fdca26"
                 ],
                 [
                  1,
                  "#f0f921"
                 ]
                ],
                "type": "surface"
               }
              ],
              "table": [
               {
                "cells": {
                 "fill": {
                  "color": "#EBF0F8"
                 },
                 "line": {
                  "color": "white"
                 }
                },
                "header": {
                 "fill": {
                  "color": "#C8D4E3"
                 },
                 "line": {
                  "color": "white"
                 }
                },
                "type": "table"
               }
              ]
             },
             "layout": {
              "annotationdefaults": {
               "arrowcolor": "#2a3f5f",
               "arrowhead": 0,
               "arrowwidth": 1
              },
              "coloraxis": {
               "colorbar": {
                "outlinewidth": 0,
                "ticks": ""
               }
              },
              "colorscale": {
               "diverging": [
                [
                 0,
                 "#8e0152"
                ],
                [
                 0.1,
                 "#c51b7d"
                ],
                [
                 0.2,
                 "#de77ae"
                ],
                [
                 0.3,
                 "#f1b6da"
                ],
                [
                 0.4,
                 "#fde0ef"
                ],
                [
                 0.5,
                 "#f7f7f7"
                ],
                [
                 0.6,
                 "#e6f5d0"
                ],
                [
                 0.7,
                 "#b8e186"
                ],
                [
                 0.8,
                 "#7fbc41"
                ],
                [
                 0.9,
                 "#4d9221"
                ],
                [
                 1,
                 "#276419"
                ]
               ],
               "sequential": [
                [
                 0,
                 "#0d0887"
                ],
                [
                 0.1111111111111111,
                 "#46039f"
                ],
                [
                 0.2222222222222222,
                 "#7201a8"
                ],
                [
                 0.3333333333333333,
                 "#9c179e"
                ],
                [
                 0.4444444444444444,
                 "#bd3786"
                ],
                [
                 0.5555555555555556,
                 "#d8576b"
                ],
                [
                 0.6666666666666666,
                 "#ed7953"
                ],
                [
                 0.7777777777777778,
                 "#fb9f3a"
                ],
                [
                 0.8888888888888888,
                 "#fdca26"
                ],
                [
                 1,
                 "#f0f921"
                ]
               ],
               "sequentialminus": [
                [
                 0,
                 "#0d0887"
                ],
                [
                 0.1111111111111111,
                 "#46039f"
                ],
                [
                 0.2222222222222222,
                 "#7201a8"
                ],
                [
                 0.3333333333333333,
                 "#9c179e"
                ],
                [
                 0.4444444444444444,
                 "#bd3786"
                ],
                [
                 0.5555555555555556,
                 "#d8576b"
                ],
                [
                 0.6666666666666666,
                 "#ed7953"
                ],
                [
                 0.7777777777777778,
                 "#fb9f3a"
                ],
                [
                 0.8888888888888888,
                 "#fdca26"
                ],
                [
                 1,
                 "#f0f921"
                ]
               ]
              },
              "colorway": [
               "#636efa",
               "#EF553B",
               "#00cc96",
               "#ab63fa",
               "#FFA15A",
               "#19d3f3",
               "#FF6692",
               "#B6E880",
               "#FF97FF",
               "#FECB52"
              ],
              "font": {
               "color": "#2a3f5f"
              },
              "geo": {
               "bgcolor": "white",
               "lakecolor": "white",
               "landcolor": "#E5ECF6",
               "showlakes": true,
               "showland": true,
               "subunitcolor": "white"
              },
              "hoverlabel": {
               "align": "left"
              },
              "hovermode": "closest",
              "mapbox": {
               "style": "light"
              },
              "paper_bgcolor": "white",
              "plot_bgcolor": "#E5ECF6",
              "polar": {
               "angularaxis": {
                "gridcolor": "white",
                "linecolor": "white",
                "ticks": ""
               },
               "bgcolor": "#E5ECF6",
               "radialaxis": {
                "gridcolor": "white",
                "linecolor": "white",
                "ticks": ""
               }
              },
              "scene": {
               "xaxis": {
                "backgroundcolor": "#E5ECF6",
                "gridcolor": "white",
                "gridwidth": 2,
                "linecolor": "white",
                "showbackground": true,
                "ticks": "",
                "zerolinecolor": "white"
               },
               "yaxis": {
                "backgroundcolor": "#E5ECF6",
                "gridcolor": "white",
                "gridwidth": 2,
                "linecolor": "white",
                "showbackground": true,
                "ticks": "",
                "zerolinecolor": "white"
               },
               "zaxis": {
                "backgroundcolor": "#E5ECF6",
                "gridcolor": "white",
                "gridwidth": 2,
                "linecolor": "white",
                "showbackground": true,
                "ticks": "",
                "zerolinecolor": "white"
               }
              },
              "shapedefaults": {
               "line": {
                "color": "#2a3f5f"
               }
              },
              "ternary": {
               "aaxis": {
                "gridcolor": "white",
                "linecolor": "white",
                "ticks": ""
               },
               "baxis": {
                "gridcolor": "white",
                "linecolor": "white",
                "ticks": ""
               },
               "bgcolor": "#E5ECF6",
               "caxis": {
                "gridcolor": "white",
                "linecolor": "white",
                "ticks": ""
               }
              },
              "title": {
               "x": 0.05
              },
              "xaxis": {
               "automargin": true,
               "gridcolor": "white",
               "linecolor": "white",
               "ticks": "",
               "title": {
                "standoff": 15
               },
               "zerolinecolor": "white",
               "zerolinewidth": 2
              },
              "yaxis": {
               "automargin": true,
               "gridcolor": "white",
               "linecolor": "white",
               "ticks": "",
               "title": {
                "standoff": 15
               },
               "zerolinecolor": "white",
               "zerolinewidth": 2
              }
             }
            }
           }
          },
          "text/html": "<div>\n        \n        \n            <div id=\"caeeda2f-975f-4205-8d47-12f20114e451\" class=\"plotly-graph-div\" style=\"height:525px; width:100%;\"></div>\n            <script type=\"text/javascript\">\n                require([\"plotly\"], function(Plotly) {\n                    window.PLOTLYENV=window.PLOTLYENV || {};\n                    \n                if (document.getElementById(\"caeeda2f-975f-4205-8d47-12f20114e451\")) {\n                    Plotly.newPlot(\n                        'caeeda2f-975f-4205-8d47-12f20114e451',\n                        [{\"lat\": [16.72, 16.72, 36.404, 36.404, 32.884, 32.884, 32.884, 2.58, 2.58, 2.58, 2.58, 44.43, 44.43, 44.43, 44.43, 44.43, 44.43, 37.7166666666667, 37.7166666666667, 35.9, -38.82, 43.722, 41.611, 46.2, 46.853, -22.2666666666667, 65.715, 63.983, 63.892, 64.083, 60.485, 32.761, 38.83, 31.934, 36.7833333333333, 35.361, 56.056, 19.421, 19.421, 40.821, 40.827, 37.748, 38.789, 15.13, 4.892, -1.467, 28.0], \"lon\": [-62.18, -62.18, 25.396, 25.396, 131.104, 131.104, 131.104, 98.83, 98.83, 98.83, 98.83, -110.67, -110.67, -110.67, -110.67, -110.67, -110.67, -118.883333333333, -118.883333333333, -106.533333333333, 176.0, -121.229, -121.554, -122.18, -121.76, -67.1666666666667, -16.728, -19.666, -19.122, -21.416, -152.742, 130.299, 140.7, 130.862, 139.366666666667, 138.728, 160.642, -155.287, -155.287, 14.426, 14.139, 14.999, 15.213, 120.35, -75.324, -78.442, -15.58], \"marker\": {\"size\": [215.44346900318837, 215.44346900318837, 464.15888336127784, 464.15888336127784, 843.4326653017491, 843.4326653017491, 843.4326653017491, 1409.4597464129781, 1409.4597464129781, 1409.4597464129781, 1409.4597464129781, 1348.0997498879249, 1348.0997498879249, 1348.0997498879249, 1348.0997498879249, 1348.0997498879249, 1348.0997498879249, 100.0, 100.0, 100.0, 100.0, 100.0, 100.0, 100.0, 100.0, 100.0, 100.0, 100.0, 100.0, 100.0, 100.0, 100.0, 100.0, 100.0, 100.0, 100.0, 100.0, 100.0, 100.0, 100.0, 100.0, 100.0, 100.0, 100.0, 100.0, 100.0, 100.0], \"sizemode\": \"area\"}, \"text\": [\"Soufriere Hills Volcano<br>Erupted volume: 10.0<br><br>References:<br>Paulatto et al., 2012\", \"Soufriere Hills Volcano<br>Erupted volume: 10.0<br><br>References:<br>Paulatto et al., 2019\", \"Santorini<br>Erupted volume: 100.0<br><br>References:<br>McVey et al., 2019\", null, \"Aso Caldera<br>Erupted volume: 600.0<br><br>References:<br>Sudo & Kong, 2001\", \"Aso Caldera<br>Erupted volume: 600.0<br><br>References:<br>Huang et al., 2018\", \"Aso Caldera<br>Erupted volume: 600.0<br><br>References:<br>Abe et al., 2017\", \"Toba<br>Erupted volume: 2800.0<br><br>References:<br>Koulakov et al., 2009\", \"Toba<br>Erupted volume: 2800.0<br><br>References:<br>Mastruryono et al., 2001\", \"Toba<br>Erupted volume: 2800.0<br><br>References:<br>Jaxybulatov et al., 2014\", \"Toba<br>Erupted volume: 2800.0<br><br>References:<br>Stankiewicz et al., 2010\", \"Yellowstone<br>Erupted volume: 2450.0<br><br>References:<br>(Iyer et al., 1981,\\u00a0Benz and Smith, 1984,\\u00a0Clawson et al., 1989,\\u00a0Miller and Smith, 1999,\\u00a0Husen and Smith, 2004,\\u00a0Yuan and Dueker, 2005)\", \"Yellowstone<br>Erupted volume: 2450.0<br><br>References:<br>Chu et al., 2010\", \"Yellowstone<br>Erupted volume: 2450.0<br><br>References:<br>Farrell et al., 2014\", \"Yellowstone<br>Erupted volume: 2450.0<br><br>References:<br>Huang et al., 2015\", \"Yellowstone<br>Erupted volume: 2450.0<br><br>References:<br>Miller and Smith, 1999\", \"Yellowstone<br>Erupted volume: 2450.0<br><br>References:<br>Jiang, 2018\", \"Long Valley<br>Erupted volume: nan<br><br>References:<br>(Peppin, 1985,\\u00a0Dawson et al., 1987,\\u00a0Hauksson, 1988,\\u00a0Dawson et al., 1990,\\u00a0Sanders, 1993a,\\u00a0Sanders, 1993b,\\u00a0Sanders et al., 1994,\\u00a0Steck, 1995,\\u00a0Sanders et al., 1995,\\u00a0Weiland et al., 1995,\\u00a0O'Doherty et al., 1997)\", \"Long Valley<br>Erupted volume: nan<br><br>References:<br>Jiang, 2018\", \"Valles<br>Erupted volume: nan<br><br>References:<br>Lutter et al. (1995)\", \"Taupo<br>Erupted volume: nan<br><br>References:<br>Sherburn et al. (2003)\", \"Newberry volcano<br>Erupted volume: nan<br><br>References:<br>(Achauer et al., 1988,\\u00a0Stauber et al., 1988)\", \"Medicine Lake<br>Erupted volume: nan<br><br>References:<br>(Evans and Zucca, 1988,\\u00a0Lees and Crosson, 1989,\\u00a0Ritter and Evans, 1997)\", \"Mt. St. Helens<br>Erupted volume: nan<br><br>References:<br>Lees (1992)\", \"Mt. Rainier<br>Erupted volume: nan<br><br>References:<br>(Lees and Crosson, 1990,\\u00a0Moran et al., 1999)\", null, \"Krafla<br>Erupted volume: nan<br><br>References:<br>(Einarsson, 1978,\\u00a0Foulger and Arnott, 1993)\", \"Hekla<br>Erupted volume: nan<br><br>References:<br>Soosalu and Einarsson (2004)\", \"Torfaj\\u00f6kull<br>Erupted volume: nan<br><br>References:<br>Soosalu and Einarsson (2004)\", \"Hengill\\u2013Grensdalur<br>Erupted volume: nan<br><br>References:<br>Toomey and Foulger (1989)\", \"Redoubt<br>Erupted volume: nan<br><br>References:<br>Benz et al. (1996)\", \"Unzen<br>Erupted volume: nan<br><br>References:<br>Ohmi and Lees (1995)\", \"Onikobe<br>Erupted volume: nan<br><br>References:<br>Nakajima and Hasegawa (2003)\", \"Kirishima<br>Erupted volume: nan<br><br>References:<br>Yamamoto and Ida (1994)\", \"Nikko-Shirane<br>Erupted volume: nan<br><br>References:<br>Horiuchi et al. (1997)\", \"Mt. Fuji<br>Erupted volume: nan<br><br>References:<br>Nakamichi (2005)\", \"Klyuchevskoy<br>Erupted volume: nan<br><br>References:<br>(Anosov et al., 1978,\\u00a0Ozerov, 2000)\", \"Halemaumau<br>Erupted volume: nan<br><br>References:<br>Rowan and Clayton (1993)\", \"Kilauea<br>Erupted volume: nan<br><br>References:<br>(Thurber, 1984,\\u00a0Rowan and Clayton, 1993,\\u00a0Okubo et al., 1997,\\u00a0Haslinger et al., 2001)\", \"Vesuvius<br>Erupted volume: nan<br><br>References:<br>(De Natale et al., 1998,\\u00a0Zollo et al., 1998)\", \"Campi Flegrei<br>Erupted volume: nan<br><br>References:<br>1988;\\u00a0Aster et al., 1992\", \"Mt. Etna<br>Erupted volume: nan<br><br>References:<br>(Cardaci et al., 1993,\\u00a0Villasenor et al., 1998,\\u00a0Laigle and Hirn, 1999,\\u00a0Chiarabba et al., 2000,\\u00a0Aloisi et al., 2002)\", null, \"Pinatubo<br>Erupted volume: nan<br><br>References:<br>Mori et al. (1996)\", \"Nevado del Ruiz<br>Erupted volume: nan<br><br>References:<br>Londo\\u00f1o and Sudo (2003)\", \"Tungurahua<br>Erupted volume: nan<br><br>References:<br>Molina et al. (2005)\", \"Gran Canaria<br>Erupted volume: nan<br><br>References:<br>Krastel and Schmincke (2002)\"], \"type\": \"scattergeo\"}],\n                        {\"template\": {\"data\": {\"bar\": [{\"error_x\": {\"color\": \"#2a3f5f\"}, \"error_y\": {\"color\": \"#2a3f5f\"}, \"marker\": {\"line\": {\"color\": \"#E5ECF6\", \"width\": 0.5}}, \"type\": \"bar\"}], \"barpolar\": [{\"marker\": {\"line\": {\"color\": \"#E5ECF6\", \"width\": 0.5}}, \"type\": \"barpolar\"}], \"carpet\": [{\"aaxis\": {\"endlinecolor\": \"#2a3f5f\", \"gridcolor\": \"white\", \"linecolor\": \"white\", \"minorgridcolor\": \"white\", \"startlinecolor\": \"#2a3f5f\"}, \"baxis\": {\"endlinecolor\": \"#2a3f5f\", \"gridcolor\": \"white\", \"linecolor\": \"white\", \"minorgridcolor\": \"white\", \"startlinecolor\": \"#2a3f5f\"}, \"type\": \"carpet\"}], \"choropleth\": [{\"colorbar\": {\"outlinewidth\": 0, \"ticks\": \"\"}, \"type\": \"choropleth\"}], \"contour\": [{\"colorbar\": {\"outlinewidth\": 0, \"ticks\": \"\"}, \"colorscale\": [[0.0, \"#0d0887\"], [0.1111111111111111, \"#46039f\"], [0.2222222222222222, \"#7201a8\"], [0.3333333333333333, \"#9c179e\"], [0.4444444444444444, \"#bd3786\"], [0.5555555555555556, \"#d8576b\"], [0.6666666666666666, \"#ed7953\"], [0.7777777777777778, \"#fb9f3a\"], [0.8888888888888888, \"#fdca26\"], [1.0, \"#f0f921\"]], \"type\": \"contour\"}], \"contourcarpet\": [{\"colorbar\": {\"outlinewidth\": 0, \"ticks\": \"\"}, \"type\": \"contourcarpet\"}], \"heatmap\": [{\"colorbar\": {\"outlinewidth\": 0, \"ticks\": \"\"}, \"colorscale\": [[0.0, \"#0d0887\"], [0.1111111111111111, \"#46039f\"], [0.2222222222222222, \"#7201a8\"], [0.3333333333333333, \"#9c179e\"], [0.4444444444444444, \"#bd3786\"], [0.5555555555555556, \"#d8576b\"], [0.6666666666666666, \"#ed7953\"], [0.7777777777777778, \"#fb9f3a\"], [0.8888888888888888, \"#fdca26\"], [1.0, \"#f0f921\"]], \"type\": \"heatmap\"}], \"heatmapgl\": [{\"colorbar\": {\"outlinewidth\": 0, \"ticks\": \"\"}, \"colorscale\": [[0.0, \"#0d0887\"], [0.1111111111111111, \"#46039f\"], [0.2222222222222222, \"#7201a8\"], [0.3333333333333333, \"#9c179e\"], [0.4444444444444444, \"#bd3786\"], [0.5555555555555556, \"#d8576b\"], [0.6666666666666666, \"#ed7953\"], [0.7777777777777778, \"#fb9f3a\"], [0.8888888888888888, \"#fdca26\"], [1.0, \"#f0f921\"]], \"type\": \"heatmapgl\"}], \"histogram\": [{\"marker\": {\"colorbar\": {\"outlinewidth\": 0, \"ticks\": \"\"}}, \"type\": \"histogram\"}], \"histogram2d\": [{\"colorbar\": {\"outlinewidth\": 0, \"ticks\": \"\"}, \"colorscale\": [[0.0, \"#0d0887\"], [0.1111111111111111, \"#46039f\"], [0.2222222222222222, \"#7201a8\"], [0.3333333333333333, \"#9c179e\"], [0.4444444444444444, \"#bd3786\"], [0.5555555555555556, \"#d8576b\"], [0.6666666666666666, \"#ed7953\"], [0.7777777777777778, \"#fb9f3a\"], [0.8888888888888888, \"#fdca26\"], [1.0, \"#f0f921\"]], \"type\": \"histogram2d\"}], \"histogram2dcontour\": [{\"colorbar\": {\"outlinewidth\": 0, \"ticks\": \"\"}, \"colorscale\": [[0.0, \"#0d0887\"], [0.1111111111111111, \"#46039f\"], [0.2222222222222222, \"#7201a8\"], [0.3333333333333333, \"#9c179e\"], [0.4444444444444444, \"#bd3786\"], [0.5555555555555556, \"#d8576b\"], [0.6666666666666666, \"#ed7953\"], [0.7777777777777778, \"#fb9f3a\"], [0.8888888888888888, \"#fdca26\"], [1.0, \"#f0f921\"]], \"type\": \"histogram2dcontour\"}], \"mesh3d\": [{\"colorbar\": {\"outlinewidth\": 0, \"ticks\": \"\"}, \"type\": \"mesh3d\"}], \"parcoords\": [{\"line\": {\"colorbar\": {\"outlinewidth\": 0, \"ticks\": \"\"}}, \"type\": \"parcoords\"}], \"pie\": [{\"automargin\": true, \"type\": \"pie\"}], \"scatter\": [{\"marker\": {\"colorbar\": {\"outlinewidth\": 0, \"ticks\": \"\"}}, \"type\": \"scatter\"}], \"scatter3d\": [{\"line\": {\"colorbar\": {\"outlinewidth\": 0, \"ticks\": \"\"}}, \"marker\": {\"colorbar\": {\"outlinewidth\": 0, \"ticks\": \"\"}}, \"type\": \"scatter3d\"}], \"scattercarpet\": [{\"marker\": {\"colorbar\": {\"outlinewidth\": 0, \"ticks\": \"\"}}, \"type\": \"scattercarpet\"}], \"scattergeo\": [{\"marker\": {\"colorbar\": {\"outlinewidth\": 0, \"ticks\": \"\"}}, \"type\": \"scattergeo\"}], \"scattergl\": [{\"marker\": {\"colorbar\": {\"outlinewidth\": 0, \"ticks\": \"\"}}, \"type\": \"scattergl\"}], \"scattermapbox\": [{\"marker\": {\"colorbar\": {\"outlinewidth\": 0, \"ticks\": \"\"}}, \"type\": \"scattermapbox\"}], \"scatterpolar\": [{\"marker\": {\"colorbar\": {\"outlinewidth\": 0, \"ticks\": \"\"}}, \"type\": \"scatterpolar\"}], \"scatterpolargl\": [{\"marker\": {\"colorbar\": {\"outlinewidth\": 0, \"ticks\": \"\"}}, \"type\": \"scatterpolargl\"}], \"scatterternary\": [{\"marker\": {\"colorbar\": {\"outlinewidth\": 0, \"ticks\": \"\"}}, \"type\": \"scatterternary\"}], \"surface\": [{\"colorbar\": {\"outlinewidth\": 0, \"ticks\": \"\"}, \"colorscale\": [[0.0, \"#0d0887\"], [0.1111111111111111, \"#46039f\"], [0.2222222222222222, \"#7201a8\"], [0.3333333333333333, \"#9c179e\"], [0.4444444444444444, \"#bd3786\"], [0.5555555555555556, \"#d8576b\"], [0.6666666666666666, \"#ed7953\"], [0.7777777777777778, \"#fb9f3a\"], [0.8888888888888888, \"#fdca26\"], [1.0, \"#f0f921\"]], \"type\": \"surface\"}], \"table\": [{\"cells\": {\"fill\": {\"color\": \"#EBF0F8\"}, \"line\": {\"color\": \"white\"}}, \"header\": {\"fill\": {\"color\": \"#C8D4E3\"}, \"line\": {\"color\": \"white\"}}, \"type\": \"table\"}]}, \"layout\": {\"annotationdefaults\": {\"arrowcolor\": \"#2a3f5f\", \"arrowhead\": 0, \"arrowwidth\": 1}, \"coloraxis\": {\"colorbar\": {\"outlinewidth\": 0, \"ticks\": \"\"}}, \"colorscale\": {\"diverging\": [[0, \"#8e0152\"], [0.1, \"#c51b7d\"], [0.2, \"#de77ae\"], [0.3, \"#f1b6da\"], [0.4, \"#fde0ef\"], [0.5, \"#f7f7f7\"], [0.6, \"#e6f5d0\"], [0.7, \"#b8e186\"], [0.8, \"#7fbc41\"], [0.9, \"#4d9221\"], [1, \"#276419\"]], \"sequential\": [[0.0, \"#0d0887\"], [0.1111111111111111, \"#46039f\"], [0.2222222222222222, \"#7201a8\"], [0.3333333333333333, \"#9c179e\"], [0.4444444444444444, \"#bd3786\"], [0.5555555555555556, \"#d8576b\"], [0.6666666666666666, \"#ed7953\"], [0.7777777777777778, \"#fb9f3a\"], [0.8888888888888888, \"#fdca26\"], [1.0, \"#f0f921\"]], \"sequentialminus\": [[0.0, \"#0d0887\"], [0.1111111111111111, \"#46039f\"], [0.2222222222222222, \"#7201a8\"], [0.3333333333333333, \"#9c179e\"], [0.4444444444444444, \"#bd3786\"], [0.5555555555555556, \"#d8576b\"], [0.6666666666666666, \"#ed7953\"], [0.7777777777777778, \"#fb9f3a\"], [0.8888888888888888, \"#fdca26\"], [1.0, \"#f0f921\"]]}, \"colorway\": [\"#636efa\", \"#EF553B\", \"#00cc96\", \"#ab63fa\", \"#FFA15A\", \"#19d3f3\", \"#FF6692\", \"#B6E880\", \"#FF97FF\", \"#FECB52\"], \"font\": {\"color\": \"#2a3f5f\"}, \"geo\": {\"bgcolor\": \"white\", \"lakecolor\": \"white\", \"landcolor\": \"#E5ECF6\", \"showlakes\": true, \"showland\": true, \"subunitcolor\": \"white\"}, \"hoverlabel\": {\"align\": \"left\"}, \"hovermode\": \"closest\", \"mapbox\": {\"style\": \"light\"}, \"paper_bgcolor\": \"white\", \"plot_bgcolor\": \"#E5ECF6\", \"polar\": {\"angularaxis\": {\"gridcolor\": \"white\", \"linecolor\": \"white\", \"ticks\": \"\"}, \"bgcolor\": \"#E5ECF6\", \"radialaxis\": {\"gridcolor\": \"white\", \"linecolor\": \"white\", \"ticks\": \"\"}}, \"scene\": {\"xaxis\": {\"backgroundcolor\": \"#E5ECF6\", \"gridcolor\": \"white\", \"gridwidth\": 2, \"linecolor\": \"white\", \"showbackground\": true, \"ticks\": \"\", \"zerolinecolor\": \"white\"}, \"yaxis\": {\"backgroundcolor\": \"#E5ECF6\", \"gridcolor\": \"white\", \"gridwidth\": 2, \"linecolor\": \"white\", \"showbackground\": true, \"ticks\": \"\", \"zerolinecolor\": \"white\"}, \"zaxis\": {\"backgroundcolor\": \"#E5ECF6\", \"gridcolor\": \"white\", \"gridwidth\": 2, \"linecolor\": \"white\", \"showbackground\": true, \"ticks\": \"\", \"zerolinecolor\": \"white\"}}, \"shapedefaults\": {\"line\": {\"color\": \"#2a3f5f\"}}, \"ternary\": {\"aaxis\": {\"gridcolor\": \"white\", \"linecolor\": \"white\", \"ticks\": \"\"}, \"baxis\": {\"gridcolor\": \"white\", \"linecolor\": \"white\", \"ticks\": \"\"}, \"bgcolor\": \"#E5ECF6\", \"caxis\": {\"gridcolor\": \"white\", \"linecolor\": \"white\", \"ticks\": \"\"}}, \"title\": {\"x\": 0.05}, \"xaxis\": {\"automargin\": true, \"gridcolor\": \"white\", \"linecolor\": \"white\", \"ticks\": \"\", \"title\": {\"standoff\": 15}, \"zerolinecolor\": \"white\", \"zerolinewidth\": 2}, \"yaxis\": {\"automargin\": true, \"gridcolor\": \"white\", \"linecolor\": \"white\", \"ticks\": \"\", \"title\": {\"standoff\": 15}, \"zerolinecolor\": \"white\", \"zerolinewidth\": 2}}}},\n                        {\"responsive\": true}\n                    ).then(function(){\n                            \nvar gd = document.getElementById('caeeda2f-975f-4205-8d47-12f20114e451');\nvar x = new MutationObserver(function (mutations, observer) {{\n        var display = window.getComputedStyle(gd).display;\n        if (!display || display === 'none') {{\n            console.log([gd, 'removed!']);\n            Plotly.purge(gd);\n            observer.disconnect();\n        }}\n}});\n\n// Listen for the removal of the full notebook cells\nvar notebookContainer = gd.closest('#notebook-container');\nif (notebookContainer) {{\n    x.observe(notebookContainer, {childList: true});\n}}\n\n// Listen for the clearing of the current output cell\nvar outputEl = gd.closest('.output');\nif (outputEl) {{\n    x.observe(outputEl, {childList: true});\n}}\n\n                        })\n                };\n                });\n            </script>\n        </div>"
         },
         "metadata": {},
         "output_type": "display_data"
        }
       ]
      }
     },
     "2cb34b7bea87498d9ea4a6f8df972261": {
      "model_module": "@jupyter-widgets/controls",
      "model_module_version": "1.5.0",
      "model_name": "VBoxModel",
      "state": {
       "_dom_classes": [
        "widget-interact"
       ],
       "children": [
        "IPY_MODEL_d356f0eb5179498c84544cff4592a04e",
        "IPY_MODEL_5992cec4a4e34dd1ba25dc29580cf2b6"
       ],
       "layout": "IPY_MODEL_5f5b90de97b7460cad84faa38640dc7c"
      }
     },
     "30414071ae6042bcbdb79a040c822900": {
      "model_module": "@jupyter-widgets/controls",
      "model_module_version": "1.5.0",
      "model_name": "DescriptionStyleModel",
      "state": {
       "description_width": ""
      }
     },
     "358eed04f04c4e158c0e4e67663e4780": {
      "model_module": "@jupyter-widgets/base",
      "model_module_version": "1.2.0",
      "model_name": "LayoutModel",
      "state": {}
     },
     "36618a5eccbb4f898d765d00e033fc3d": {
      "model_module": "@jupyter-widgets/output",
      "model_module_version": "1.0.0",
      "model_name": "OutputModel",
      "state": {
       "layout": "IPY_MODEL_2847989d2a9e469ba6292e4bedc788c0",
       "outputs": [
        {
         "ename": "ValueError",
         "evalue": "Invalid property specified for object of type plotly.graph_objs.Layout: 'projection'\n\n    Valid properties:\n        angularaxis\n            plotly.graph_objects.layout.AngularAxis instance or\n            dict with compatible properties\n        annotations\n            A tuple of plotly.graph_objects.layout.Annotation\n            instances or dicts with compatible properties\n        annotationdefaults\n            When used in a template (as\n            layout.template.layout.annotationdefaults), sets the\n            default property values to use for elements of\n            layout.annotations\n        autosize\n            Determines whether or not a layout width or height that\n            has been left undefined by the user is initialized on\n            each relayout. Note that, regardless of this attribute,\n            an undefined layout width or height is always\n            initialized on the first call to plot.\n        bargap\n            Sets the gap (in plot fraction) between bars of\n            adjacent location coordinates.\n        bargroupgap\n            Sets the gap (in plot fraction) between bars of the\n            same location coordinate.\n        barmode\n            Determines how bars at the same location coordinate are\n            displayed on the graph. With \"stack\", the bars are\n            stacked on top of one another With \"relative\", the bars\n            are stacked on top of one another, with negative values\n            below the axis, positive values above With \"group\", the\n            bars are plotted next to one another centered around\n            the shared location. With \"overlay\", the bars are\n            plotted over one another, you might need to an\n            \"opacity\" to see multiple bars.\n        barnorm\n            Sets the normalization for bar traces on the graph.\n            With \"fraction\", the value of each bar is divided by\n            the sum of all values at that location coordinate.\n            \"percent\" is the same but multiplied by 100 to show\n            percentages.\n        boxgap\n            Sets the gap (in plot fraction) between boxes of\n            adjacent location coordinates. Has no effect on traces\n            that have \"width\" set.\n        boxgroupgap\n            Sets the gap (in plot fraction) between boxes of the\n            same location coordinate. Has no effect on traces that\n            have \"width\" set.\n        boxmode\n            Determines how boxes at the same location coordinate\n            are displayed on the graph. If \"group\", the boxes are\n            plotted next to one another centered around the shared\n            location. If \"overlay\", the boxes are plotted over one\n            another, you might need to set \"opacity\" to see them\n            multiple boxes. Has no effect on traces that have\n            \"width\" set.\n        calendar\n            Sets the default calendar system to use for\n            interpreting and displaying dates throughout the plot.\n        clickmode\n            Determines the mode of single click interactions.\n            \"event\" is the default value and emits the\n            `plotly_click` event. In addition this mode emits the\n            `plotly_selected` event in drag modes \"lasso\" and\n            \"select\", but with no event data attached (kept for\n            compatibility reasons). The \"select\" flag enables\n            selecting single data points via click. This mode also\n            supports persistent selections, meaning that pressing\n            Shift while clicking, adds to / subtracts from an\n            existing selection. \"select\" with `hovermode`: \"x\" can\n            be confusing, consider explicitly setting `hovermode`:\n            \"closest\" when using this feature. Selection events are\n            sent accordingly as long as \"event\" flag is set as\n            well. When the \"event\" flag is missing, `plotly_click`\n            and `plotly_selected` events are not fired.\n        coloraxis\n            plotly.graph_objects.layout.Coloraxis instance or dict\n            with compatible properties\n        colorscale\n            plotly.graph_objects.layout.Colorscale instance or dict\n            with compatible properties\n        colorway\n            Sets the default trace colors.\n        datarevision\n            If provided, a changed value tells `Plotly.react` that\n            one or more data arrays has changed. This way you can\n            modify arrays in-place rather than making a complete\n            new copy for an incremental change. If NOT provided,\n            `Plotly.react` assumes that data arrays are being\n            treated as immutable, thus any data array with a\n            different identity from its predecessor contains new\n            data.\n        direction\n            Legacy polar charts are deprecated! Please switch to\n            \"polar\" subplots. Sets the direction corresponding to\n            positive angles in legacy polar charts.\n        dragmode\n            Determines the mode of drag interactions. \"select\" and\n            \"lasso\" apply only to scatter traces with markers or\n            text. \"orbit\" and \"turntable\" apply only to 3D scenes.\n        editrevision\n            Controls persistence of user-driven changes in\n            `editable: true` configuration, other than trace names\n            and axis titles. Defaults to `layout.uirevision`.\n        extendfunnelareacolors\n            If `true`, the funnelarea slice colors (whether given\n            by `funnelareacolorway` or inherited from `colorway`)\n            will be extended to three times its original length by\n            first repeating every color 20% lighter then each color\n            20% darker. This is intended to reduce the likelihood\n            of reusing the same color when you have many slices,\n            but you can set `false` to disable. Colors provided in\n            the trace, using `marker.colors`, are never extended.\n        extendpiecolors\n            If `true`, the pie slice colors (whether given by\n            `piecolorway` or inherited from `colorway`) will be\n            extended to three times its original length by first\n            repeating every color 20% lighter then each color 20%\n            darker. This is intended to reduce the likelihood of\n            reusing the same color when you have many slices, but\n            you can set `false` to disable. Colors provided in the\n            trace, using `marker.colors`, are never extended.\n        extendsunburstcolors\n            If `true`, the sunburst slice colors (whether given by\n            `sunburstcolorway` or inherited from `colorway`) will\n            be extended to three times its original length by first\n            repeating every color 20% lighter then each color 20%\n            darker. This is intended to reduce the likelihood of\n            reusing the same color when you have many slices, but\n            you can set `false` to disable. Colors provided in the\n            trace, using `marker.colors`, are never extended.\n        extendtreemapcolors\n            If `true`, the treemap slice colors (whether given by\n            `treemapcolorway` or inherited from `colorway`) will be\n            extended to three times its original length by first\n            repeating every color 20% lighter then each color 20%\n            darker. This is intended to reduce the likelihood of\n            reusing the same color when you have many slices, but\n            you can set `false` to disable. Colors provided in the\n            trace, using `marker.colors`, are never extended.\n        font\n            Sets the global font. Note that fonts used in traces\n            and other layout components inherit from the global\n            font.\n        funnelareacolorway\n            Sets the default funnelarea slice colors. Defaults to\n            the main `colorway` used for trace colors. If you\n            specify a new list here it can still be extended with\n            lighter and darker colors, see\n            `extendfunnelareacolors`.\n        funnelgap\n            Sets the gap (in plot fraction) between bars of\n            adjacent location coordinates.\n        funnelgroupgap\n            Sets the gap (in plot fraction) between bars of the\n            same location coordinate.\n        funnelmode\n            Determines how bars at the same location coordinate are\n            displayed on the graph. With \"stack\", the bars are\n            stacked on top of one another With \"group\", the bars\n            are plotted next to one another centered around the\n            shared location. With \"overlay\", the bars are plotted\n            over one another, you might need to an \"opacity\" to see\n            multiple bars.\n        geo\n            plotly.graph_objects.layout.Geo instance or dict with\n            compatible properties\n        grid\n            plotly.graph_objects.layout.Grid instance or dict with\n            compatible properties\n        height\n            Sets the plot's height (in px).\n        hiddenlabels\n            hiddenlabels is the funnelarea & pie chart analog of\n            visible:'legendonly' but it can contain many labels,\n            and can simultaneously hide slices from several\n            pies/funnelarea charts\n        hiddenlabelssrc\n            Sets the source reference on plot.ly for  hiddenlabels\n            .\n        hidesources\n            Determines whether or not a text link citing the data\n            source is placed at the bottom-right cored of the\n            figure. Has only an effect only on graphs that have\n            been generated via forked graphs from the plotly\n            service (at https://plot.ly or on-premise).\n        hoverdistance\n            Sets the default distance (in pixels) to look for data\n            to add hover labels (-1 means no cutoff, 0 means no\n            looking for data). This is only a real distance for\n            hovering on point-like objects, like scatter points.\n            For area-like objects (bars, scatter fills, etc)\n            hovering is on inside the area and off outside, but\n            these objects will not supersede hover on point-like\n            objects in case of conflict.\n        hoverlabel\n            plotly.graph_objects.layout.Hoverlabel instance or dict\n            with compatible properties\n        hovermode\n            Determines the mode of hover interactions. If\n            `clickmode` includes the \"select\" flag, `hovermode`\n            defaults to \"closest\". If `clickmode` lacks the\n            \"select\" flag, it defaults to \"x\" or \"y\" (depending on\n            the trace's `orientation` value) for plots based on\n            cartesian coordinates. For anything else the default\n            value is \"closest\".\n        images\n            A tuple of plotly.graph_objects.layout.Image instances\n            or dicts with compatible properties\n        imagedefaults\n            When used in a template (as\n            layout.template.layout.imagedefaults), sets the default\n            property values to use for elements of layout.images\n        legend\n            plotly.graph_objects.layout.Legend instance or dict\n            with compatible properties\n        mapbox\n            plotly.graph_objects.layout.Mapbox instance or dict\n            with compatible properties\n        margin\n            plotly.graph_objects.layout.Margin instance or dict\n            with compatible properties\n        meta\n            Assigns extra meta information that can be used in\n            various `text` attributes. Attributes such as the\n            graph, axis and colorbar `title.text`, annotation\n            `text` `trace.name` in legend items, `rangeselector`,\n            `updatemenus` and `sliders` `label` text all support\n            `meta`. One can access `meta` fields using template\n            strings: `%{meta[i]}` where `i` is the index of the\n            `meta` item in question. `meta` can also be an object\n            for example `{key: value}` which can be accessed\n            %{meta[key]}.\n        metasrc\n            Sets the source reference on plot.ly for  meta .\n        modebar\n            plotly.graph_objects.layout.Modebar instance or dict\n            with compatible properties\n        orientation\n            Legacy polar charts are deprecated! Please switch to\n            \"polar\" subplots. Rotates the entire polar by the given\n            angle in legacy polar charts.\n        paper_bgcolor\n            Sets the color of paper where the graph is drawn.\n        piecolorway\n            Sets the default pie slice colors. Defaults to the main\n            `colorway` used for trace colors. If you specify a new\n            list here it can still be extended with lighter and\n            darker colors, see `extendpiecolors`.\n        plot_bgcolor\n            Sets the color of plotting area in-between x and y\n            axes.\n        polar\n            plotly.graph_objects.layout.Polar instance or dict with\n            compatible properties\n        radialaxis\n            plotly.graph_objects.layout.RadialAxis instance or dict\n            with compatible properties\n        scene\n            plotly.graph_objects.layout.Scene instance or dict with\n            compatible properties\n        selectdirection\n            When \"dragmode\" is set to \"select\", this limits the\n            selection of the drag to horizontal, vertical or\n            diagonal. \"h\" only allows horizontal selection, \"v\"\n            only vertical, \"d\" only diagonal and \"any\" sets no\n            limit.\n        selectionrevision\n            Controls persistence of user-driven changes in selected\n            points from all traces.\n        separators\n            Sets the decimal and thousand separators. For example,\n            *. * puts a '.' before decimals and a space between\n            thousands. In English locales, dflt is \".,\" but other\n            locales may alter this default.\n        shapes\n            A tuple of plotly.graph_objects.layout.Shape instances\n            or dicts with compatible properties\n        shapedefaults\n            When used in a template (as\n            layout.template.layout.shapedefaults), sets the default\n            property values to use for elements of layout.shapes\n        showlegend\n            Determines whether or not a legend is drawn. Default is\n            `true` if there is a trace to show and any of these: a)\n            Two or more traces would by default be shown in the\n            legend. b) One pie trace is shown in the legend. c) One\n            trace is explicitly given with `showlegend: true`.\n        sliders\n            A tuple of plotly.graph_objects.layout.Slider instances\n            or dicts with compatible properties\n        sliderdefaults\n            When used in a template (as\n            layout.template.layout.sliderdefaults), sets the\n            default property values to use for elements of\n            layout.sliders\n        spikedistance\n            Sets the default distance (in pixels) to look for data\n            to draw spikelines to (-1 means no cutoff, 0 means no\n            looking for data). As with hoverdistance, distance does\n            not apply to area-like objects. In addition, some\n            objects can be hovered on but will not generate\n            spikelines, such as scatter fills.\n        sunburstcolorway\n            Sets the default sunburst slice colors. Defaults to the\n            main `colorway` used for trace colors. If you specify a\n            new list here it can still be extended with lighter and\n            darker colors, see `extendsunburstcolors`.\n        template\n            Default attributes to be applied to the plot. This\n            should be a dict with format: `{'layout':\n            layoutTemplate, 'data': {trace_type: [traceTemplate,\n            ...], ...}}` where `layoutTemplate` is a dict matching\n            the structure of `figure.layout` and `traceTemplate` is\n            a dict matching the structure of the trace with type\n            `trace_type` (e.g. 'scatter'). Alternatively, this may\n            be specified as an instance of\n            plotly.graph_objs.layout.Template.  Trace templates are\n            applied cyclically to traces of each type. Container\n            arrays (eg `annotations`) have special handling: An\n            object ending in `defaults` (eg `annotationdefaults`)\n            is applied to each array item. But if an item has a\n            `templateitemname` key we look in the template array\n            for an item with matching `name` and apply that\n            instead. If no matching `name` is found we mark the\n            item invisible. Any named template item not referenced\n            is appended to the end of the array, so this can be\n            used to add a watermark annotation or a logo image, for\n            example. To omit one of these items on the plot, make\n            an item with matching `templateitemname` and `visible:\n            false`.\n        ternary\n            plotly.graph_objects.layout.Ternary instance or dict\n            with compatible properties\n        title\n            plotly.graph_objects.layout.Title instance or dict with\n            compatible properties\n        titlefont\n            Deprecated: Please use layout.title.font instead. Sets\n            the title font. Note that the title's font used to be\n            customized by the now deprecated `titlefont` attribute.\n        transition\n            Sets transition options used during Plotly.react\n            updates.\n        treemapcolorway\n            Sets the default treemap slice colors. Defaults to the\n            main `colorway` used for trace colors. If you specify a\n            new list here it can still be extended with lighter and\n            darker colors, see `extendtreemapcolors`.\n        uirevision\n            Used to allow user interactions with the plot to\n            persist after `Plotly.react` calls that are unaware of\n            these interactions. If `uirevision` is omitted, or if\n            it is given and it changed from the previous\n            `Plotly.react` call, the exact new figure is used. If\n            `uirevision` is truthy and did NOT change, any\n            attribute that has been affected by user interactions\n            and did not receive a different value in the new figure\n            will keep the interaction value. `layout.uirevision`\n            attribute serves as the default for `uirevision`\n            attributes in various sub-containers. For finer control\n            you can set these sub-attributes directly. For example,\n            if your app separately controls the data on the x and y\n            axes you might set `xaxis.uirevision=*time*` and\n            `yaxis.uirevision=*cost*`. Then if only the y data is\n            changed, you can update `yaxis.uirevision=*quantity*`\n            and the y axis range will reset but the x axis range\n            will retain any user-driven zoom.\n        updatemenus\n            A tuple of plotly.graph_objects.layout.Updatemenu\n            instances or dicts with compatible properties\n        updatemenudefaults\n            When used in a template (as\n            layout.template.layout.updatemenudefaults), sets the\n            default property values to use for elements of\n            layout.updatemenus\n        violingap\n            Sets the gap (in plot fraction) between violins of\n            adjacent location coordinates. Has no effect on traces\n            that have \"width\" set.\n        violingroupgap\n            Sets the gap (in plot fraction) between violins of the\n            same location coordinate. Has no effect on traces that\n            have \"width\" set.\n        violinmode\n            Determines how violins at the same location coordinate\n            are displayed on the graph. If \"group\", the violins are\n            plotted next to one another centered around the shared\n            location. If \"overlay\", the violins are plotted over\n            one another, you might need to set \"opacity\" to see\n            them multiple violins. Has no effect on traces that\n            have \"width\" set.\n        waterfallgap\n            Sets the gap (in plot fraction) between bars of\n            adjacent location coordinates.\n        waterfallgroupgap\n            Sets the gap (in plot fraction) between bars of the\n            same location coordinate.\n        waterfallmode\n            Determines how bars at the same location coordinate are\n            displayed on the graph. With \"group\", the bars are\n            plotted next to one another centered around the shared\n            location. With \"overlay\", the bars are plotted over one\n            another, you might need to an \"opacity\" to see multiple\n            bars.\n        width\n            Sets the plot's width (in px).\n        xaxis\n            plotly.graph_objects.layout.XAxis instance or dict with\n            compatible properties\n        yaxis\n            plotly.graph_objects.layout.YAxis instance or dict with\n            compatible properties\n        ",
         "output_type": "error",
         "traceback": [
          "\u001b[0;31m---------------------------------------------------------------------------\u001b[0m",
          "\u001b[0;31mValueError\u001b[0m                                Traceback (most recent call last)",
          "\u001b[0;32m/usr/local/lib/python3.5/dist-packages/ipywidgets/widgets/interaction.py\u001b[0m in \u001b[0;36mupdate\u001b[0;34m(self, *args)\u001b[0m\n\u001b[1;32m    254\u001b[0m                     \u001b[0mvalue\u001b[0m \u001b[0;34m=\u001b[0m \u001b[0mwidget\u001b[0m\u001b[0;34m.\u001b[0m\u001b[0mget_interact_value\u001b[0m\u001b[0;34m(\u001b[0m\u001b[0;34m)\u001b[0m\u001b[0;34m\u001b[0m\u001b[0m\n\u001b[1;32m    255\u001b[0m                     \u001b[0mself\u001b[0m\u001b[0;34m.\u001b[0m\u001b[0mkwargs\u001b[0m\u001b[0;34m[\u001b[0m\u001b[0mwidget\u001b[0m\u001b[0;34m.\u001b[0m\u001b[0m_kwarg\u001b[0m\u001b[0;34m]\u001b[0m \u001b[0;34m=\u001b[0m \u001b[0mvalue\u001b[0m\u001b[0;34m\u001b[0m\u001b[0m\n\u001b[0;32m--> 256\u001b[0;31m                 \u001b[0mself\u001b[0m\u001b[0;34m.\u001b[0m\u001b[0mresult\u001b[0m \u001b[0;34m=\u001b[0m \u001b[0mself\u001b[0m\u001b[0;34m.\u001b[0m\u001b[0mf\u001b[0m\u001b[0;34m(\u001b[0m\u001b[0;34m**\u001b[0m\u001b[0mself\u001b[0m\u001b[0;34m.\u001b[0m\u001b[0mkwargs\u001b[0m\u001b[0;34m)\u001b[0m\u001b[0;34m\u001b[0m\u001b[0m\n\u001b[0m\u001b[1;32m    257\u001b[0m                 \u001b[0mshow_inline_matplotlib_plots\u001b[0m\u001b[0;34m(\u001b[0m\u001b[0;34m)\u001b[0m\u001b[0;34m\u001b[0m\u001b[0m\n\u001b[1;32m    258\u001b[0m                 \u001b[0;32mif\u001b[0m \u001b[0mself\u001b[0m\u001b[0;34m.\u001b[0m\u001b[0mauto_display\u001b[0m \u001b[0;32mand\u001b[0m \u001b[0mself\u001b[0m\u001b[0;34m.\u001b[0m\u001b[0mresult\u001b[0m \u001b[0;32mis\u001b[0m \u001b[0;32mnot\u001b[0m \u001b[0;32mNone\u001b[0m\u001b[0;34m:\u001b[0m\u001b[0;34m\u001b[0m\u001b[0m\n",
          "\u001b[0;32m<ipython-input-29-23210972af92>\u001b[0m in \u001b[0;36m_\u001b[0;34m(key)\u001b[0m\n\u001b[1;32m     10\u001b[0m                          \u001b[0mmarker\u001b[0m\u001b[0;34m=\u001b[0m\u001b[0mmarker\u001b[0m\u001b[0;34m,\u001b[0m\u001b[0;34m\u001b[0m\u001b[0m\n\u001b[1;32m     11\u001b[0m                          text=df['hover_text'])\n\u001b[0;32m---> 12\u001b[0;31m     \u001b[0mlayout\u001b[0m \u001b[0;34m=\u001b[0m \u001b[0mgo\u001b[0m\u001b[0;34m.\u001b[0m\u001b[0mLayout\u001b[0m\u001b[0;34m(\u001b[0m\u001b[0mgeo\u001b[0m\u001b[0;34m=\u001b[0m\u001b[0mgo\u001b[0m\u001b[0;34m.\u001b[0m\u001b[0mlayout\u001b[0m\u001b[0;34m.\u001b[0m\u001b[0mGeo\u001b[0m\u001b[0;34m(\u001b[0m\u001b[0;34m)\u001b[0m\u001b[0;34m,\u001b[0m \u001b[0mprojection\u001b[0m\u001b[0;34m=\u001b[0m\u001b[0;34m\"natural earth\"\u001b[0m\u001b[0;34m)\u001b[0m\u001b[0;34m\u001b[0m\u001b[0m\n\u001b[0m\u001b[1;32m     13\u001b[0m     \u001b[0mfig\u001b[0m \u001b[0;34m=\u001b[0m \u001b[0mgo\u001b[0m\u001b[0;34m.\u001b[0m\u001b[0mFigure\u001b[0m\u001b[0;34m(\u001b[0m\u001b[0mdata\u001b[0m\u001b[0;34m=\u001b[0m\u001b[0mdata\u001b[0m\u001b[0;34m,\u001b[0m \u001b[0mlayout\u001b[0m\u001b[0;34m=\u001b[0m\u001b[0mlayout\u001b[0m\u001b[0;34m)\u001b[0m\u001b[0;34m\u001b[0m\u001b[0m\n\u001b[1;32m     14\u001b[0m     \u001b[0mfig\u001b[0m\u001b[0;34m.\u001b[0m\u001b[0mshow\u001b[0m\u001b[0;34m(\u001b[0m\u001b[0;34m)\u001b[0m\u001b[0;34m\u001b[0m\u001b[0m\n",
          "\u001b[0;32m/usr/local/lib/python3.5/dist-packages/plotly/graph_objs/__init__.py\u001b[0m in \u001b[0;36m__init__\u001b[0;34m(self, arg, angularaxis, annotations, annotationdefaults, autosize, bargap, bargroupgap, barmode, barnorm, boxgap, boxgroupgap, boxmode, calendar, clickmode, coloraxis, colorscale, colorway, datarevision, direction, dragmode, editrevision, extendfunnelareacolors, extendpiecolors, extendsunburstcolors, extendtreemapcolors, font, funnelareacolorway, funnelgap, funnelgroupgap, funnelmode, geo, grid, height, hiddenlabels, hiddenlabelssrc, hidesources, hoverdistance, hoverlabel, hovermode, images, imagedefaults, legend, mapbox, margin, meta, metasrc, modebar, orientation, paper_bgcolor, piecolorway, plot_bgcolor, polar, radialaxis, scene, selectdirection, selectionrevision, separators, shapes, shapedefaults, showlegend, sliders, sliderdefaults, spikedistance, sunburstcolorway, template, ternary, title, titlefont, transition, treemapcolorway, uirevision, updatemenus, updatemenudefaults, violingap, violingroupgap, violinmode, waterfallgap, waterfallgroupgap, waterfallmode, width, xaxis, yaxis, **kwargs)\u001b[0m\n\u001b[1;32m  97791\u001b[0m         \u001b[0;31m# Process unknown kwargs\u001b[0m\u001b[0;34m\u001b[0m\u001b[0;34m\u001b[0m\u001b[0m\n\u001b[1;32m  97792\u001b[0m         \u001b[0;31m# ----------------------\u001b[0m\u001b[0;34m\u001b[0m\u001b[0;34m\u001b[0m\u001b[0m\n\u001b[0;32m> 97793\u001b[0;31m         \u001b[0mself\u001b[0m\u001b[0;34m.\u001b[0m\u001b[0m_process_kwargs\u001b[0m\u001b[0;34m(\u001b[0m\u001b[0;34m**\u001b[0m\u001b[0mdict\u001b[0m\u001b[0;34m(\u001b[0m\u001b[0marg\u001b[0m\u001b[0;34m,\u001b[0m \u001b[0;34m**\u001b[0m\u001b[0mkwargs\u001b[0m\u001b[0;34m)\u001b[0m\u001b[0;34m)\u001b[0m\u001b[0;34m\u001b[0m\u001b[0m\n\u001b[0m\u001b[1;32m  97794\u001b[0m \u001b[0;34m\u001b[0m\u001b[0m\n\u001b[1;32m  97795\u001b[0m         \u001b[0;31m# Reset skip_invalid\u001b[0m\u001b[0;34m\u001b[0m\u001b[0;34m\u001b[0m\u001b[0m\n",
          "\u001b[0;32m/usr/local/lib/python3.5/dist-packages/plotly/basedatatypes.py\u001b[0m in \u001b[0;36m_process_kwargs\u001b[0;34m(self, **kwargs)\u001b[0m\n\u001b[1;32m   4290\u001b[0m             \u001b[0mk\u001b[0m\u001b[0;34m:\u001b[0m \u001b[0mv\u001b[0m \u001b[0;32mfor\u001b[0m \u001b[0mk\u001b[0m\u001b[0;34m,\u001b[0m \u001b[0mv\u001b[0m \u001b[0;32min\u001b[0m \u001b[0mkwargs\u001b[0m\u001b[0;34m.\u001b[0m\u001b[0mitems\u001b[0m\u001b[0;34m(\u001b[0m\u001b[0;34m)\u001b[0m \u001b[0;32mif\u001b[0m \u001b[0;32mnot\u001b[0m \u001b[0mself\u001b[0m\u001b[0;34m.\u001b[0m\u001b[0m_subplot_re_match\u001b[0m\u001b[0;34m(\u001b[0m\u001b[0mk\u001b[0m\u001b[0;34m)\u001b[0m\u001b[0;34m\u001b[0m\u001b[0m\n\u001b[1;32m   4291\u001b[0m         }\n\u001b[0;32m-> 4292\u001b[0;31m         \u001b[0msuper\u001b[0m\u001b[0;34m(\u001b[0m\u001b[0mBaseLayoutHierarchyType\u001b[0m\u001b[0;34m,\u001b[0m \u001b[0mself\u001b[0m\u001b[0;34m)\u001b[0m\u001b[0;34m.\u001b[0m\u001b[0m_process_kwargs\u001b[0m\u001b[0;34m(\u001b[0m\u001b[0;34m**\u001b[0m\u001b[0munknown_kwargs\u001b[0m\u001b[0;34m)\u001b[0m\u001b[0;34m\u001b[0m\u001b[0m\n\u001b[0m\u001b[1;32m   4293\u001b[0m \u001b[0;34m\u001b[0m\u001b[0m\n\u001b[1;32m   4294\u001b[0m         \u001b[0msubplot_kwargs\u001b[0m \u001b[0;34m=\u001b[0m \u001b[0;34m{\u001b[0m\u001b[0mk\u001b[0m\u001b[0;34m:\u001b[0m \u001b[0mv\u001b[0m \u001b[0;32mfor\u001b[0m \u001b[0mk\u001b[0m\u001b[0;34m,\u001b[0m \u001b[0mv\u001b[0m \u001b[0;32min\u001b[0m \u001b[0mkwargs\u001b[0m\u001b[0;34m.\u001b[0m\u001b[0mitems\u001b[0m\u001b[0;34m(\u001b[0m\u001b[0;34m)\u001b[0m \u001b[0;32mif\u001b[0m \u001b[0mself\u001b[0m\u001b[0;34m.\u001b[0m\u001b[0m_subplot_re_match\u001b[0m\u001b[0;34m(\u001b[0m\u001b[0mk\u001b[0m\u001b[0;34m)\u001b[0m\u001b[0;34m}\u001b[0m\u001b[0;34m\u001b[0m\u001b[0m\n",
          "\u001b[0;32m/usr/local/lib/python3.5/dist-packages/plotly/basedatatypes.py\u001b[0m in \u001b[0;36m_process_kwargs\u001b[0;34m(self, **kwargs)\u001b[0m\n\u001b[1;32m   3033\u001b[0m \u001b[0;34m\u001b[0m\u001b[0m\n\u001b[1;32m   3034\u001b[0m         \u001b[0;32mif\u001b[0m \u001b[0minvalid_kwargs\u001b[0m \u001b[0;32mand\u001b[0m \u001b[0;32mnot\u001b[0m \u001b[0mself\u001b[0m\u001b[0;34m.\u001b[0m\u001b[0m_skip_invalid\u001b[0m\u001b[0;34m:\u001b[0m\u001b[0;34m\u001b[0m\u001b[0m\n\u001b[0;32m-> 3035\u001b[0;31m             \u001b[0mself\u001b[0m\u001b[0;34m.\u001b[0m\u001b[0m_raise_on_invalid_property_error\u001b[0m\u001b[0;34m(\u001b[0m\u001b[0;34m*\u001b[0m\u001b[0minvalid_kwargs\u001b[0m\u001b[0;34m.\u001b[0m\u001b[0mkeys\u001b[0m\u001b[0;34m(\u001b[0m\u001b[0;34m)\u001b[0m\u001b[0;34m)\u001b[0m\u001b[0;34m\u001b[0m\u001b[0m\n\u001b[0m\u001b[1;32m   3036\u001b[0m \u001b[0;34m\u001b[0m\u001b[0m\n\u001b[1;32m   3037\u001b[0m     \u001b[0;34m@\u001b[0m\u001b[0mproperty\u001b[0m\u001b[0;34m\u001b[0m\u001b[0m\n",
          "\u001b[0;32m/usr/local/lib/python3.5/dist-packages/plotly/basedatatypes.py\u001b[0m in \u001b[0;36m_raise_on_invalid_property_error\u001b[0;34m(self, *args)\u001b[0m\n\u001b[1;32m   3664\u001b[0m                     \u001b[0mfull_obj_name\u001b[0m\u001b[0;34m=\u001b[0m\u001b[0mfull_obj_name\u001b[0m\u001b[0;34m,\u001b[0m\u001b[0;34m\u001b[0m\u001b[0m\n\u001b[1;32m   3665\u001b[0m                     \u001b[0minvalid_str\u001b[0m\u001b[0;34m=\u001b[0m\u001b[0minvalid_str\u001b[0m\u001b[0;34m,\u001b[0m\u001b[0;34m\u001b[0m\u001b[0m\n\u001b[0;32m-> 3666\u001b[0;31m                     \u001b[0mprop_descriptions\u001b[0m\u001b[0;34m=\u001b[0m\u001b[0mself\u001b[0m\u001b[0;34m.\u001b[0m\u001b[0m_prop_descriptions\u001b[0m\u001b[0;34m,\u001b[0m\u001b[0;34m\u001b[0m\u001b[0m\n\u001b[0m\u001b[1;32m   3667\u001b[0m                 )\n\u001b[1;32m   3668\u001b[0m             )\n",
          "\u001b[0;31mValueError\u001b[0m: Invalid property specified for object of type plotly.graph_objs.Layout: 'projection'\n\n    Valid properties:\n        angularaxis\n            plotly.graph_objects.layout.AngularAxis instance or\n            dict with compatible properties\n        annotations\n            A tuple of plotly.graph_objects.layout.Annotation\n            instances or dicts with compatible properties\n        annotationdefaults\n            When used in a template (as\n            layout.template.layout.annotationdefaults), sets the\n            default property values to use for elements of\n            layout.annotations\n        autosize\n            Determines whether or not a layout width or height that\n            has been left undefined by the user is initialized on\n            each relayout. Note that, regardless of this attribute,\n            an undefined layout width or height is always\n            initialized on the first call to plot.\n        bargap\n            Sets the gap (in plot fraction) between bars of\n            adjacent location coordinates.\n        bargroupgap\n            Sets the gap (in plot fraction) between bars of the\n            same location coordinate.\n        barmode\n            Determines how bars at the same location coordinate are\n            displayed on the graph. With \"stack\", the bars are\n            stacked on top of one another With \"relative\", the bars\n            are stacked on top of one another, with negative values\n            below the axis, positive values above With \"group\", the\n            bars are plotted next to one another centered around\n            the shared location. With \"overlay\", the bars are\n            plotted over one another, you might need to an\n            \"opacity\" to see multiple bars.\n        barnorm\n            Sets the normalization for bar traces on the graph.\n            With \"fraction\", the value of each bar is divided by\n            the sum of all values at that location coordinate.\n            \"percent\" is the same but multiplied by 100 to show\n            percentages.\n        boxgap\n            Sets the gap (in plot fraction) between boxes of\n            adjacent location coordinates. Has no effect on traces\n            that have \"width\" set.\n        boxgroupgap\n            Sets the gap (in plot fraction) between boxes of the\n            same location coordinate. Has no effect on traces that\n            have \"width\" set.\n        boxmode\n            Determines how boxes at the same location coordinate\n            are displayed on the graph. If \"group\", the boxes are\n            plotted next to one another centered around the shared\n            location. If \"overlay\", the boxes are plotted over one\n            another, you might need to set \"opacity\" to see them\n            multiple boxes. Has no effect on traces that have\n            \"width\" set.\n        calendar\n            Sets the default calendar system to use for\n            interpreting and displaying dates throughout the plot.\n        clickmode\n            Determines the mode of single click interactions.\n            \"event\" is the default value and emits the\n            `plotly_click` event. In addition this mode emits the\n            `plotly_selected` event in drag modes \"lasso\" and\n            \"select\", but with no event data attached (kept for\n            compatibility reasons). The \"select\" flag enables\n            selecting single data points via click. This mode also\n            supports persistent selections, meaning that pressing\n            Shift while clicking, adds to / subtracts from an\n            existing selection. \"select\" with `hovermode`: \"x\" can\n            be confusing, consider explicitly setting `hovermode`:\n            \"closest\" when using this feature. Selection events are\n            sent accordingly as long as \"event\" flag is set as\n            well. When the \"event\" flag is missing, `plotly_click`\n            and `plotly_selected` events are not fired.\n        coloraxis\n            plotly.graph_objects.layout.Coloraxis instance or dict\n            with compatible properties\n        colorscale\n            plotly.graph_objects.layout.Colorscale instance or dict\n            with compatible properties\n        colorway\n            Sets the default trace colors.\n        datarevision\n            If provided, a changed value tells `Plotly.react` that\n            one or more data arrays has changed. This way you can\n            modify arrays in-place rather than making a complete\n            new copy for an incremental change. If NOT provided,\n            `Plotly.react` assumes that data arrays are being\n            treated as immutable, thus any data array with a\n            different identity from its predecessor contains new\n            data.\n        direction\n            Legacy polar charts are deprecated! Please switch to\n            \"polar\" subplots. Sets the direction corresponding to\n            positive angles in legacy polar charts.\n        dragmode\n            Determines the mode of drag interactions. \"select\" and\n            \"lasso\" apply only to scatter traces with markers or\n            text. \"orbit\" and \"turntable\" apply only to 3D scenes.\n        editrevision\n            Controls persistence of user-driven changes in\n            `editable: true` configuration, other than trace names\n            and axis titles. Defaults to `layout.uirevision`.\n        extendfunnelareacolors\n            If `true`, the funnelarea slice colors (whether given\n            by `funnelareacolorway` or inherited from `colorway`)\n            will be extended to three times its original length by\n            first repeating every color 20% lighter then each color\n            20% darker. This is intended to reduce the likelihood\n            of reusing the same color when you have many slices,\n            but you can set `false` to disable. Colors provided in\n            the trace, using `marker.colors`, are never extended.\n        extendpiecolors\n            If `true`, the pie slice colors (whether given by\n            `piecolorway` or inherited from `colorway`) will be\n            extended to three times its original length by first\n            repeating every color 20% lighter then each color 20%\n            darker. This is intended to reduce the likelihood of\n            reusing the same color when you have many slices, but\n            you can set `false` to disable. Colors provided in the\n            trace, using `marker.colors`, are never extended.\n        extendsunburstcolors\n            If `true`, the sunburst slice colors (whether given by\n            `sunburstcolorway` or inherited from `colorway`) will\n            be extended to three times its original length by first\n            repeating every color 20% lighter then each color 20%\n            darker. This is intended to reduce the likelihood of\n            reusing the same color when you have many slices, but\n            you can set `false` to disable. Colors provided in the\n            trace, using `marker.colors`, are never extended.\n        extendtreemapcolors\n            If `true`, the treemap slice colors (whether given by\n            `treemapcolorway` or inherited from `colorway`) will be\n            extended to three times its original length by first\n            repeating every color 20% lighter then each color 20%\n            darker. This is intended to reduce the likelihood of\n            reusing the same color when you have many slices, but\n            you can set `false` to disable. Colors provided in the\n            trace, using `marker.colors`, are never extended.\n        font\n            Sets the global font. Note that fonts used in traces\n            and other layout components inherit from the global\n            font.\n        funnelareacolorway\n            Sets the default funnelarea slice colors. Defaults to\n            the main `colorway` used for trace colors. If you\n            specify a new list here it can still be extended with\n            lighter and darker colors, see\n            `extendfunnelareacolors`.\n        funnelgap\n            Sets the gap (in plot fraction) between bars of\n            adjacent location coordinates.\n        funnelgroupgap\n            Sets the gap (in plot fraction) between bars of the\n            same location coordinate.\n        funnelmode\n            Determines how bars at the same location coordinate are\n            displayed on the graph. With \"stack\", the bars are\n            stacked on top of one another With \"group\", the bars\n            are plotted next to one another centered around the\n            shared location. With \"overlay\", the bars are plotted\n            over one another, you might need to an \"opacity\" to see\n            multiple bars.\n        geo\n            plotly.graph_objects.layout.Geo instance or dict with\n            compatible properties\n        grid\n            plotly.graph_objects.layout.Grid instance or dict with\n            compatible properties\n        height\n            Sets the plot's height (in px).\n        hiddenlabels\n            hiddenlabels is the funnelarea & pie chart analog of\n            visible:'legendonly' but it can contain many labels,\n            and can simultaneously hide slices from several\n            pies/funnelarea charts\n        hiddenlabelssrc\n            Sets the source reference on plot.ly for  hiddenlabels\n            .\n        hidesources\n            Determines whether or not a text link citing the data\n            source is placed at the bottom-right cored of the\n            figure. Has only an effect only on graphs that have\n            been generated via forked graphs from the plotly\n            service (at https://plot.ly or on-premise).\n        hoverdistance\n            Sets the default distance (in pixels) to look for data\n            to add hover labels (-1 means no cutoff, 0 means no\n            looking for data). This is only a real distance for\n            hovering on point-like objects, like scatter points.\n            For area-like objects (bars, scatter fills, etc)\n            hovering is on inside the area and off outside, but\n            these objects will not supersede hover on point-like\n            objects in case of conflict.\n        hoverlabel\n            plotly.graph_objects.layout.Hoverlabel instance or dict\n            with compatible properties\n        hovermode\n            Determines the mode of hover interactions. If\n            `clickmode` includes the \"select\" flag, `hovermode`\n            defaults to \"closest\". If `clickmode` lacks the\n            \"select\" flag, it defaults to \"x\" or \"y\" (depending on\n            the trace's `orientation` value) for plots based on\n            cartesian coordinates. For anything else the default\n            value is \"closest\".\n        images\n            A tuple of plotly.graph_objects.layout.Image instances\n            or dicts with compatible properties\n        imagedefaults\n            When used in a template (as\n            layout.template.layout.imagedefaults), sets the default\n            property values to use for elements of layout.images\n        legend\n            plotly.graph_objects.layout.Legend instance or dict\n            with compatible properties\n        mapbox\n            plotly.graph_objects.layout.Mapbox instance or dict\n            with compatible properties\n        margin\n            plotly.graph_objects.layout.Margin instance or dict\n            with compatible properties\n        meta\n            Assigns extra meta information that can be used in\n            various `text` attributes. Attributes such as the\n            graph, axis and colorbar `title.text`, annotation\n            `text` `trace.name` in legend items, `rangeselector`,\n            `updatemenus` and `sliders` `label` text all support\n            `meta`. One can access `meta` fields using template\n            strings: `%{meta[i]}` where `i` is the index of the\n            `meta` item in question. `meta` can also be an object\n            for example `{key: value}` which can be accessed\n            %{meta[key]}.\n        metasrc\n            Sets the source reference on plot.ly for  meta .\n        modebar\n            plotly.graph_objects.layout.Modebar instance or dict\n            with compatible properties\n        orientation\n            Legacy polar charts are deprecated! Please switch to\n            \"polar\" subplots. Rotates the entire polar by the given\n            angle in legacy polar charts.\n        paper_bgcolor\n            Sets the color of paper where the graph is drawn.\n        piecolorway\n            Sets the default pie slice colors. Defaults to the main\n            `colorway` used for trace colors. If you specify a new\n            list here it can still be extended with lighter and\n            darker colors, see `extendpiecolors`.\n        plot_bgcolor\n            Sets the color of plotting area in-between x and y\n            axes.\n        polar\n            plotly.graph_objects.layout.Polar instance or dict with\n            compatible properties\n        radialaxis\n            plotly.graph_objects.layout.RadialAxis instance or dict\n            with compatible properties\n        scene\n            plotly.graph_objects.layout.Scene instance or dict with\n            compatible properties\n        selectdirection\n            When \"dragmode\" is set to \"select\", this limits the\n            selection of the drag to horizontal, vertical or\n            diagonal. \"h\" only allows horizontal selection, \"v\"\n            only vertical, \"d\" only diagonal and \"any\" sets no\n            limit.\n        selectionrevision\n            Controls persistence of user-driven changes in selected\n            points from all traces.\n        separators\n            Sets the decimal and thousand separators. For example,\n            *. * puts a '.' before decimals and a space between\n            thousands. In English locales, dflt is \".,\" but other\n            locales may alter this default.\n        shapes\n            A tuple of plotly.graph_objects.layout.Shape instances\n            or dicts with compatible properties\n        shapedefaults\n            When used in a template (as\n            layout.template.layout.shapedefaults), sets the default\n            property values to use for elements of layout.shapes\n        showlegend\n            Determines whether or not a legend is drawn. Default is\n            `true` if there is a trace to show and any of these: a)\n            Two or more traces would by default be shown in the\n            legend. b) One pie trace is shown in the legend. c) One\n            trace is explicitly given with `showlegend: true`.\n        sliders\n            A tuple of plotly.graph_objects.layout.Slider instances\n            or dicts with compatible properties\n        sliderdefaults\n            When used in a template (as\n            layout.template.layout.sliderdefaults), sets the\n            default property values to use for elements of\n            layout.sliders\n        spikedistance\n            Sets the default distance (in pixels) to look for data\n            to draw spikelines to (-1 means no cutoff, 0 means no\n            looking for data). As with hoverdistance, distance does\n            not apply to area-like objects. In addition, some\n            objects can be hovered on but will not generate\n            spikelines, such as scatter fills.\n        sunburstcolorway\n            Sets the default sunburst slice colors. Defaults to the\n            main `colorway` used for trace colors. If you specify a\n            new list here it can still be extended with lighter and\n            darker colors, see `extendsunburstcolors`.\n        template\n            Default attributes to be applied to the plot. This\n            should be a dict with format: `{'layout':\n            layoutTemplate, 'data': {trace_type: [traceTemplate,\n            ...], ...}}` where `layoutTemplate` is a dict matching\n            the structure of `figure.layout` and `traceTemplate` is\n            a dict matching the structure of the trace with type\n            `trace_type` (e.g. 'scatter'). Alternatively, this may\n            be specified as an instance of\n            plotly.graph_objs.layout.Template.  Trace templates are\n            applied cyclically to traces of each type. Container\n            arrays (eg `annotations`) have special handling: An\n            object ending in `defaults` (eg `annotationdefaults`)\n            is applied to each array item. But if an item has a\n            `templateitemname` key we look in the template array\n            for an item with matching `name` and apply that\n            instead. If no matching `name` is found we mark the\n            item invisible. Any named template item not referenced\n            is appended to the end of the array, so this can be\n            used to add a watermark annotation or a logo image, for\n            example. To omit one of these items on the plot, make\n            an item with matching `templateitemname` and `visible:\n            false`.\n        ternary\n            plotly.graph_objects.layout.Ternary instance or dict\n            with compatible properties\n        title\n            plotly.graph_objects.layout.Title instance or dict with\n            compatible properties\n        titlefont\n            Deprecated: Please use layout.title.font instead. Sets\n            the title font. Note that the title's font used to be\n            customized by the now deprecated `titlefont` attribute.\n        transition\n            Sets transition options used during Plotly.react\n            updates.\n        treemapcolorway\n            Sets the default treemap slice colors. Defaults to the\n            main `colorway` used for trace colors. If you specify a\n            new list here it can still be extended with lighter and\n            darker colors, see `extendtreemapcolors`.\n        uirevision\n            Used to allow user interactions with the plot to\n            persist after `Plotly.react` calls that are unaware of\n            these interactions. If `uirevision` is omitted, or if\n            it is given and it changed from the previous\n            `Plotly.react` call, the exact new figure is used. If\n            `uirevision` is truthy and did NOT change, any\n            attribute that has been affected by user interactions\n            and did not receive a different value in the new figure\n            will keep the interaction value. `layout.uirevision`\n            attribute serves as the default for `uirevision`\n            attributes in various sub-containers. For finer control\n            you can set these sub-attributes directly. For example,\n            if your app separately controls the data on the x and y\n            axes you might set `xaxis.uirevision=*time*` and\n            `yaxis.uirevision=*cost*`. Then if only the y data is\n            changed, you can update `yaxis.uirevision=*quantity*`\n            and the y axis range will reset but the x axis range\n            will retain any user-driven zoom.\n        updatemenus\n            A tuple of plotly.graph_objects.layout.Updatemenu\n            instances or dicts with compatible properties\n        updatemenudefaults\n            When used in a template (as\n            layout.template.layout.updatemenudefaults), sets the\n            default property values to use for elements of\n            layout.updatemenus\n        violingap\n            Sets the gap (in plot fraction) between violins of\n            adjacent location coordinates. Has no effect on traces\n            that have \"width\" set.\n        violingroupgap\n            Sets the gap (in plot fraction) between violins of the\n            same location coordinate. Has no effect on traces that\n            have \"width\" set.\n        violinmode\n            Determines how violins at the same location coordinate\n            are displayed on the graph. If \"group\", the violins are\n            plotted next to one another centered around the shared\n            location. If \"overlay\", the violins are plotted over\n            one another, you might need to set \"opacity\" to see\n            them multiple violins. Has no effect on traces that\n            have \"width\" set.\n        waterfallgap\n            Sets the gap (in plot fraction) between bars of\n            adjacent location coordinates.\n        waterfallgroupgap\n            Sets the gap (in plot fraction) between bars of the\n            same location coordinate.\n        waterfallmode\n            Determines how bars at the same location coordinate are\n            displayed on the graph. With \"group\", the bars are\n            plotted next to one another centered around the shared\n            location. With \"overlay\", the bars are plotted over one\n            another, you might need to an \"opacity\" to see multiple\n            bars.\n        width\n            Sets the plot's width (in px).\n        xaxis\n            plotly.graph_objects.layout.XAxis instance or dict with\n            compatible properties\n        yaxis\n            plotly.graph_objects.layout.YAxis instance or dict with\n            compatible properties\n        "
         ]
        }
       ]
      }
     },
     "3a15cd7f0cd14a079067bef218f16058": {
      "model_module": "@jupyter-widgets/controls",
      "model_module_version": "1.5.0",
      "model_name": "DescriptionStyleModel",
      "state": {
       "description_width": ""
      }
     },
     "3f7b67a168524163be5dcc4aa668a45b": {
      "model_module": "@jupyter-widgets/output",
      "model_module_version": "1.0.0",
      "model_name": "OutputModel",
      "state": {
       "layout": "IPY_MODEL_7a7d86e4ea6a42ac80a0f58478cb7b63",
       "outputs": [
        {
         "data": {
          "application/vnd.plotly.v1+json": {
           "config": {
            "plotlyServerURL": "https://plot.ly"
           },
           "data": [
            {
             "lat": [
              16.72,
              16.72,
              36.404,
              36.404,
              32.884,
              32.884,
              32.884,
              2.58,
              2.58,
              2.58,
              2.58,
              44.43,
              44.43,
              44.43,
              44.43,
              44.43,
              44.43,
              37.7166666666667,
              37.7166666666667,
              35.9,
              -38.82,
              43.722,
              41.611,
              46.2,
              46.853,
              -22.2666666666667,
              65.715,
              63.983,
              63.892,
              64.083,
              60.485,
              32.761,
              38.83,
              31.934,
              36.7833333333333,
              35.361,
              56.056,
              19.421,
              19.421,
              40.821,
              40.827,
              37.748,
              38.789,
              15.13,
              4.892,
              -1.467,
              28
             ],
             "lon": [
              -62.18,
              -62.18,
              25.396,
              25.396,
              131.104,
              131.104,
              131.104,
              98.83,
              98.83,
              98.83,
              98.83,
              -110.67,
              -110.67,
              -110.67,
              -110.67,
              -110.67,
              -110.67,
              -118.883333333333,
              -118.883333333333,
              -106.533333333333,
              176,
              -121.229,
              -121.554,
              -122.18,
              121.76,
              -67.1666666666667,
              -16.728,
              -19.666,
              -19.122,
              -21.416,
              -152.742,
              130.299,
              140.7,
              130.862,
              139.366666666667,
              138.728,
              160.642,
              -155.287,
              -155.287,
              14.426,
              14.139,
              14.999,
              15.213,
              120.35,
              -75.324,
              -78.442,
              -15.58
             ],
             "marker": {
              "size": [
               215.44346900318837,
               215.44346900318837,
               464.15888336127784,
               464.15888336127784,
               843.4326653017491,
               843.4326653017491,
               843.4326653017491,
               1409.4597464129781,
               1409.4597464129781,
               1409.4597464129781,
               1409.4597464129781,
               1348.0997498879249,
               1348.0997498879249,
               1348.0997498879249,
               1348.0997498879249,
               1348.0997498879249,
               1348.0997498879249,
               100,
               100,
               100,
               100,
               100,
               100,
               100,
               100,
               100,
               100,
               100,
               100,
               100,
               100,
               100,
               100,
               100,
               100,
               100,
               100,
               100,
               100,
               100,
               100,
               100,
               100,
               100,
               100,
               100,
               100
              ],
              "sizemode": "area"
             },
             "text": [
              "Soufriere Hills Volcano<br>Erupted volume: 10.0<br><br>References:<br>Paulatto et al., 2012",
              "Soufriere Hills Volcano<br>Erupted volume: 10.0<br><br>References:<br>Paulatto et al., 2019",
              "Santorini<br>Erupted volume: 100.0<br><br>References:<br>McVey et al., 2019",
              null,
              "Aso Caldera<br>Erupted volume: 600.0<br><br>References:<br>Sudo & Kong, 2001",
              "Aso Caldera<br>Erupted volume: 600.0<br><br>References:<br>Huang et al., 2018",
              "Aso Caldera<br>Erupted volume: 600.0<br><br>References:<br>Abe et al., 2017",
              "Toba<br>Erupted volume: 2800.0<br><br>References:<br>Koulakov et al., 2009",
              "Toba<br>Erupted volume: 2800.0<br><br>References:<br>Mastruryono et al., 2001",
              "Toba<br>Erupted volume: 2800.0<br><br>References:<br>Jaxybulatov et al., 2014",
              "Toba<br>Erupted volume: 2800.0<br><br>References:<br>Stankiewicz et al., 2010",
              "Yellowstone<br>Erupted volume: 2450.0<br><br>References:<br>(Iyer et al., 1981, Benz and Smith, 1984, Clawson et al., 1989, Miller and Smith, 1999, Husen and Smith, 2004, Yuan and Dueker, 2005)",
              "Yellowstone<br>Erupted volume: 2450.0<br><br>References:<br>Chu et al., 2010",
              "Yellowstone<br>Erupted volume: 2450.0<br><br>References:<br>Farrell et al., 2014",
              "Yellowstone<br>Erupted volume: 2450.0<br><br>References:<br>Huang et al., 2015",
              "Yellowstone<br>Erupted volume: 2450.0<br><br>References:<br>Miller and Smith, 1999",
              "Yellowstone<br>Erupted volume: 2450.0<br><br>References:<br>Jiang, 2018",
              "Long Valley<br>Erupted volume: nan<br><br>References:<br>(Peppin, 1985, Dawson et al., 1987, Hauksson, 1988, Dawson et al., 1990, Sanders, 1993a, Sanders, 1993b, Sanders et al., 1994, Steck, 1995, Sanders et al., 1995, Weiland et al., 1995, O'Doherty et al., 1997)",
              "Long Valley<br>Erupted volume: nan<br><br>References:<br>Jiang, 2018",
              "Valles<br>Erupted volume: nan<br><br>References:<br>Lutter et al. (1995)",
              "Taupo<br>Erupted volume: nan<br><br>References:<br>Sherburn et al. (2003)",
              "Newberry volcano<br>Erupted volume: nan<br><br>References:<br>(Achauer et al., 1988, Stauber et al., 1988)",
              "Medicine Lake<br>Erupted volume: nan<br><br>References:<br>(Evans and Zucca, 1988, Lees and Crosson, 1989, Ritter and Evans, 1997)",
              "Mt. St. Helens<br>Erupted volume: nan<br><br>References:<br>Lees (1992)",
              "Mt. Rainier<br>Erupted volume: nan<br><br>References:<br>(Lees and Crosson, 1990, Moran et al., 1999)",
              null,
              "Krafla<br>Erupted volume: nan<br><br>References:<br>(Einarsson, 1978, Foulger and Arnott, 1993)",
              "Hekla<br>Erupted volume: nan<br><br>References:<br>Soosalu and Einarsson (2004)",
              "Torfajökull<br>Erupted volume: nan<br><br>References:<br>Soosalu and Einarsson (2004)",
              "Hengill–Grensdalur<br>Erupted volume: nan<br><br>References:<br>Toomey and Foulger (1989)",
              "Redoubt<br>Erupted volume: nan<br><br>References:<br>Benz et al. (1996)",
              "Unzen<br>Erupted volume: nan<br><br>References:<br>Ohmi and Lees (1995)",
              "Onikobe<br>Erupted volume: nan<br><br>References:<br>Nakajima and Hasegawa (2003)",
              "Kirishima<br>Erupted volume: nan<br><br>References:<br>Yamamoto and Ida (1994)",
              "Nikko-Shirane<br>Erupted volume: nan<br><br>References:<br>Horiuchi et al. (1997)",
              "Mt. Fuji<br>Erupted volume: nan<br><br>References:<br>Nakamichi (2005)",
              "Klyuchevskoy<br>Erupted volume: nan<br><br>References:<br>(Anosov et al., 1978, Ozerov, 2000)",
              "Halemaumau<br>Erupted volume: nan<br><br>References:<br>Rowan and Clayton (1993)",
              "Kilauea<br>Erupted volume: nan<br><br>References:<br>(Thurber, 1984, Rowan and Clayton, 1993, Okubo et al., 1997, Haslinger et al., 2001)",
              "Vesuvius<br>Erupted volume: nan<br><br>References:<br>(De Natale et al., 1998, Zollo et al., 1998)",
              "Campi Flegrei<br>Erupted volume: nan<br><br>References:<br>1988; Aster et al., 1992",
              "Mt. Etna<br>Erupted volume: nan<br><br>References:<br>(Cardaci et al., 1993, Villasenor et al., 1998, Laigle and Hirn, 1999, Chiarabba et al., 2000, Aloisi et al., 2002)",
              null,
              "Pinatubo<br>Erupted volume: nan<br><br>References:<br>Mori et al. (1996)",
              "Nevado del Ruiz<br>Erupted volume: nan<br><br>References:<br>Londoño and Sudo (2003)",
              "Tungurahua<br>Erupted volume: nan<br><br>References:<br>Molina et al. (2005)",
              "Gran Canaria<br>Erupted volume: nan<br><br>References:<br>Krastel and Schmincke (2002)"
             ],
             "type": "scattergeo"
            }
           ],
           "layout": {
            "template": {
             "data": {
              "bar": [
               {
                "error_x": {
                 "color": "#2a3f5f"
                },
                "error_y": {
                 "color": "#2a3f5f"
                },
                "marker": {
                 "line": {
                  "color": "#E5ECF6",
                  "width": 0.5
                 }
                },
                "type": "bar"
               }
              ],
              "barpolar": [
               {
                "marker": {
                 "line": {
                  "color": "#E5ECF6",
                  "width": 0.5
                 }
                },
                "type": "barpolar"
               }
              ],
              "carpet": [
               {
                "aaxis": {
                 "endlinecolor": "#2a3f5f",
                 "gridcolor": "white",
                 "linecolor": "white",
                 "minorgridcolor": "white",
                 "startlinecolor": "#2a3f5f"
                },
                "baxis": {
                 "endlinecolor": "#2a3f5f",
                 "gridcolor": "white",
                 "linecolor": "white",
                 "minorgridcolor": "white",
                 "startlinecolor": "#2a3f5f"
                },
                "type": "carpet"
               }
              ],
              "choropleth": [
               {
                "colorbar": {
                 "outlinewidth": 0,
                 "ticks": ""
                },
                "type": "choropleth"
               }
              ],
              "contour": [
               {
                "colorbar": {
                 "outlinewidth": 0,
                 "ticks": ""
                },
                "colorscale": [
                 [
                  0,
                  "#0d0887"
                 ],
                 [
                  0.1111111111111111,
                  "#46039f"
                 ],
                 [
                  0.2222222222222222,
                  "#7201a8"
                 ],
                 [
                  0.3333333333333333,
                  "#9c179e"
                 ],
                 [
                  0.4444444444444444,
                  "#bd3786"
                 ],
                 [
                  0.5555555555555556,
                  "#d8576b"
                 ],
                 [
                  0.6666666666666666,
                  "#ed7953"
                 ],
                 [
                  0.7777777777777778,
                  "#fb9f3a"
                 ],
                 [
                  0.8888888888888888,
                  "#fdca26"
                 ],
                 [
                  1,
                  "#f0f921"
                 ]
                ],
                "type": "contour"
               }
              ],
              "contourcarpet": [
               {
                "colorbar": {
                 "outlinewidth": 0,
                 "ticks": ""
                },
                "type": "contourcarpet"
               }
              ],
              "heatmap": [
               {
                "colorbar": {
                 "outlinewidth": 0,
                 "ticks": ""
                },
                "colorscale": [
                 [
                  0,
                  "#0d0887"
                 ],
                 [
                  0.1111111111111111,
                  "#46039f"
                 ],
                 [
                  0.2222222222222222,
                  "#7201a8"
                 ],
                 [
                  0.3333333333333333,
                  "#9c179e"
                 ],
                 [
                  0.4444444444444444,
                  "#bd3786"
                 ],
                 [
                  0.5555555555555556,
                  "#d8576b"
                 ],
                 [
                  0.6666666666666666,
                  "#ed7953"
                 ],
                 [
                  0.7777777777777778,
                  "#fb9f3a"
                 ],
                 [
                  0.8888888888888888,
                  "#fdca26"
                 ],
                 [
                  1,
                  "#f0f921"
                 ]
                ],
                "type": "heatmap"
               }
              ],
              "heatmapgl": [
               {
                "colorbar": {
                 "outlinewidth": 0,
                 "ticks": ""
                },
                "colorscale": [
                 [
                  0,
                  "#0d0887"
                 ],
                 [
                  0.1111111111111111,
                  "#46039f"
                 ],
                 [
                  0.2222222222222222,
                  "#7201a8"
                 ],
                 [
                  0.3333333333333333,
                  "#9c179e"
                 ],
                 [
                  0.4444444444444444,
                  "#bd3786"
                 ],
                 [
                  0.5555555555555556,
                  "#d8576b"
                 ],
                 [
                  0.6666666666666666,
                  "#ed7953"
                 ],
                 [
                  0.7777777777777778,
                  "#fb9f3a"
                 ],
                 [
                  0.8888888888888888,
                  "#fdca26"
                 ],
                 [
                  1,
                  "#f0f921"
                 ]
                ],
                "type": "heatmapgl"
               }
              ],
              "histogram": [
               {
                "marker": {
                 "colorbar": {
                  "outlinewidth": 0,
                  "ticks": ""
                 }
                },
                "type": "histogram"
               }
              ],
              "histogram2d": [
               {
                "colorbar": {
                 "outlinewidth": 0,
                 "ticks": ""
                },
                "colorscale": [
                 [
                  0,
                  "#0d0887"
                 ],
                 [
                  0.1111111111111111,
                  "#46039f"
                 ],
                 [
                  0.2222222222222222,
                  "#7201a8"
                 ],
                 [
                  0.3333333333333333,
                  "#9c179e"
                 ],
                 [
                  0.4444444444444444,
                  "#bd3786"
                 ],
                 [
                  0.5555555555555556,
                  "#d8576b"
                 ],
                 [
                  0.6666666666666666,
                  "#ed7953"
                 ],
                 [
                  0.7777777777777778,
                  "#fb9f3a"
                 ],
                 [
                  0.8888888888888888,
                  "#fdca26"
                 ],
                 [
                  1,
                  "#f0f921"
                 ]
                ],
                "type": "histogram2d"
               }
              ],
              "histogram2dcontour": [
               {
                "colorbar": {
                 "outlinewidth": 0,
                 "ticks": ""
                },
                "colorscale": [
                 [
                  0,
                  "#0d0887"
                 ],
                 [
                  0.1111111111111111,
                  "#46039f"
                 ],
                 [
                  0.2222222222222222,
                  "#7201a8"
                 ],
                 [
                  0.3333333333333333,
                  "#9c179e"
                 ],
                 [
                  0.4444444444444444,
                  "#bd3786"
                 ],
                 [
                  0.5555555555555556,
                  "#d8576b"
                 ],
                 [
                  0.6666666666666666,
                  "#ed7953"
                 ],
                 [
                  0.7777777777777778,
                  "#fb9f3a"
                 ],
                 [
                  0.8888888888888888,
                  "#fdca26"
                 ],
                 [
                  1,
                  "#f0f921"
                 ]
                ],
                "type": "histogram2dcontour"
               }
              ],
              "mesh3d": [
               {
                "colorbar": {
                 "outlinewidth": 0,
                 "ticks": ""
                },
                "type": "mesh3d"
               }
              ],
              "parcoords": [
               {
                "line": {
                 "colorbar": {
                  "outlinewidth": 0,
                  "ticks": ""
                 }
                },
                "type": "parcoords"
               }
              ],
              "pie": [
               {
                "automargin": true,
                "type": "pie"
               }
              ],
              "scatter": [
               {
                "marker": {
                 "colorbar": {
                  "outlinewidth": 0,
                  "ticks": ""
                 }
                },
                "type": "scatter"
               }
              ],
              "scatter3d": [
               {
                "line": {
                 "colorbar": {
                  "outlinewidth": 0,
                  "ticks": ""
                 }
                },
                "marker": {
                 "colorbar": {
                  "outlinewidth": 0,
                  "ticks": ""
                 }
                },
                "type": "scatter3d"
               }
              ],
              "scattercarpet": [
               {
                "marker": {
                 "colorbar": {
                  "outlinewidth": 0,
                  "ticks": ""
                 }
                },
                "type": "scattercarpet"
               }
              ],
              "scattergeo": [
               {
                "marker": {
                 "colorbar": {
                  "outlinewidth": 0,
                  "ticks": ""
                 }
                },
                "type": "scattergeo"
               }
              ],
              "scattergl": [
               {
                "marker": {
                 "colorbar": {
                  "outlinewidth": 0,
                  "ticks": ""
                 }
                },
                "type": "scattergl"
               }
              ],
              "scattermapbox": [
               {
                "marker": {
                 "colorbar": {
                  "outlinewidth": 0,
                  "ticks": ""
                 }
                },
                "type": "scattermapbox"
               }
              ],
              "scatterpolar": [
               {
                "marker": {
                 "colorbar": {
                  "outlinewidth": 0,
                  "ticks": ""
                 }
                },
                "type": "scatterpolar"
               }
              ],
              "scatterpolargl": [
               {
                "marker": {
                 "colorbar": {
                  "outlinewidth": 0,
                  "ticks": ""
                 }
                },
                "type": "scatterpolargl"
               }
              ],
              "scatterternary": [
               {
                "marker": {
                 "colorbar": {
                  "outlinewidth": 0,
                  "ticks": ""
                 }
                },
                "type": "scatterternary"
               }
              ],
              "surface": [
               {
                "colorbar": {
                 "outlinewidth": 0,
                 "ticks": ""
                },
                "colorscale": [
                 [
                  0,
                  "#0d0887"
                 ],
                 [
                  0.1111111111111111,
                  "#46039f"
                 ],
                 [
                  0.2222222222222222,
                  "#7201a8"
                 ],
                 [
                  0.3333333333333333,
                  "#9c179e"
                 ],
                 [
                  0.4444444444444444,
                  "#bd3786"
                 ],
                 [
                  0.5555555555555556,
                  "#d8576b"
                 ],
                 [
                  0.6666666666666666,
                  "#ed7953"
                 ],
                 [
                  0.7777777777777778,
                  "#fb9f3a"
                 ],
                 [
                  0.8888888888888888,
                  "#fdca26"
                 ],
                 [
                  1,
                  "#f0f921"
                 ]
                ],
                "type": "surface"
               }
              ],
              "table": [
               {
                "cells": {
                 "fill": {
                  "color": "#EBF0F8"
                 },
                 "line": {
                  "color": "white"
                 }
                },
                "header": {
                 "fill": {
                  "color": "#C8D4E3"
                 },
                 "line": {
                  "color": "white"
                 }
                },
                "type": "table"
               }
              ]
             },
             "layout": {
              "annotationdefaults": {
               "arrowcolor": "#2a3f5f",
               "arrowhead": 0,
               "arrowwidth": 1
              },
              "coloraxis": {
               "colorbar": {
                "outlinewidth": 0,
                "ticks": ""
               }
              },
              "colorscale": {
               "diverging": [
                [
                 0,
                 "#8e0152"
                ],
                [
                 0.1,
                 "#c51b7d"
                ],
                [
                 0.2,
                 "#de77ae"
                ],
                [
                 0.3,
                 "#f1b6da"
                ],
                [
                 0.4,
                 "#fde0ef"
                ],
                [
                 0.5,
                 "#f7f7f7"
                ],
                [
                 0.6,
                 "#e6f5d0"
                ],
                [
                 0.7,
                 "#b8e186"
                ],
                [
                 0.8,
                 "#7fbc41"
                ],
                [
                 0.9,
                 "#4d9221"
                ],
                [
                 1,
                 "#276419"
                ]
               ],
               "sequential": [
                [
                 0,
                 "#0d0887"
                ],
                [
                 0.1111111111111111,
                 "#46039f"
                ],
                [
                 0.2222222222222222,
                 "#7201a8"
                ],
                [
                 0.3333333333333333,
                 "#9c179e"
                ],
                [
                 0.4444444444444444,
                 "#bd3786"
                ],
                [
                 0.5555555555555556,
                 "#d8576b"
                ],
                [
                 0.6666666666666666,
                 "#ed7953"
                ],
                [
                 0.7777777777777778,
                 "#fb9f3a"
                ],
                [
                 0.8888888888888888,
                 "#fdca26"
                ],
                [
                 1,
                 "#f0f921"
                ]
               ],
               "sequentialminus": [
                [
                 0,
                 "#0d0887"
                ],
                [
                 0.1111111111111111,
                 "#46039f"
                ],
                [
                 0.2222222222222222,
                 "#7201a8"
                ],
                [
                 0.3333333333333333,
                 "#9c179e"
                ],
                [
                 0.4444444444444444,
                 "#bd3786"
                ],
                [
                 0.5555555555555556,
                 "#d8576b"
                ],
                [
                 0.6666666666666666,
                 "#ed7953"
                ],
                [
                 0.7777777777777778,
                 "#fb9f3a"
                ],
                [
                 0.8888888888888888,
                 "#fdca26"
                ],
                [
                 1,
                 "#f0f921"
                ]
               ]
              },
              "colorway": [
               "#636efa",
               "#EF553B",
               "#00cc96",
               "#ab63fa",
               "#FFA15A",
               "#19d3f3",
               "#FF6692",
               "#B6E880",
               "#FF97FF",
               "#FECB52"
              ],
              "font": {
               "color": "#2a3f5f"
              },
              "geo": {
               "bgcolor": "white",
               "lakecolor": "white",
               "landcolor": "#E5ECF6",
               "showlakes": true,
               "showland": true,
               "subunitcolor": "white"
              },
              "hoverlabel": {
               "align": "left"
              },
              "hovermode": "closest",
              "mapbox": {
               "style": "light"
              },
              "paper_bgcolor": "white",
              "plot_bgcolor": "#E5ECF6",
              "polar": {
               "angularaxis": {
                "gridcolor": "white",
                "linecolor": "white",
                "ticks": ""
               },
               "bgcolor": "#E5ECF6",
               "radialaxis": {
                "gridcolor": "white",
                "linecolor": "white",
                "ticks": ""
               }
              },
              "scene": {
               "xaxis": {
                "backgroundcolor": "#E5ECF6",
                "gridcolor": "white",
                "gridwidth": 2,
                "linecolor": "white",
                "showbackground": true,
                "ticks": "",
                "zerolinecolor": "white"
               },
               "yaxis": {
                "backgroundcolor": "#E5ECF6",
                "gridcolor": "white",
                "gridwidth": 2,
                "linecolor": "white",
                "showbackground": true,
                "ticks": "",
                "zerolinecolor": "white"
               },
               "zaxis": {
                "backgroundcolor": "#E5ECF6",
                "gridcolor": "white",
                "gridwidth": 2,
                "linecolor": "white",
                "showbackground": true,
                "ticks": "",
                "zerolinecolor": "white"
               }
              },
              "shapedefaults": {
               "line": {
                "color": "#2a3f5f"
               }
              },
              "ternary": {
               "aaxis": {
                "gridcolor": "white",
                "linecolor": "white",
                "ticks": ""
               },
               "baxis": {
                "gridcolor": "white",
                "linecolor": "white",
                "ticks": ""
               },
               "bgcolor": "#E5ECF6",
               "caxis": {
                "gridcolor": "white",
                "linecolor": "white",
                "ticks": ""
               }
              },
              "title": {
               "x": 0.05
              },
              "xaxis": {
               "automargin": true,
               "gridcolor": "white",
               "linecolor": "white",
               "ticks": "",
               "title": {
                "standoff": 15
               },
               "zerolinecolor": "white",
               "zerolinewidth": 2
              },
              "yaxis": {
               "automargin": true,
               "gridcolor": "white",
               "linecolor": "white",
               "ticks": "",
               "title": {
                "standoff": 15
               },
               "zerolinecolor": "white",
               "zerolinewidth": 2
              }
             }
            }
           }
          },
          "text/html": "<div>\n        \n        \n            <div id=\"0fd2cfb6-16f1-49b3-8d19-bc78ce30ccfa\" class=\"plotly-graph-div\" style=\"height:525px; width:100%;\"></div>\n            <script type=\"text/javascript\">\n                require([\"plotly\"], function(Plotly) {\n                    window.PLOTLYENV=window.PLOTLYENV || {};\n                    \n                if (document.getElementById(\"0fd2cfb6-16f1-49b3-8d19-bc78ce30ccfa\")) {\n                    Plotly.newPlot(\n                        '0fd2cfb6-16f1-49b3-8d19-bc78ce30ccfa',\n                        [{\"lat\": [16.72, 16.72, 36.404, 36.404, 32.884, 32.884, 32.884, 2.58, 2.58, 2.58, 2.58, 44.43, 44.43, 44.43, 44.43, 44.43, 44.43, 37.7166666666667, 37.7166666666667, 35.9, -38.82, 43.722, 41.611, 46.2, 46.853, -22.2666666666667, 65.715, 63.983, 63.892, 64.083, 60.485, 32.761, 38.83, 31.934, 36.7833333333333, 35.361, 56.056, 19.421, 19.421, 40.821, 40.827, 37.748, 38.789, 15.13, 4.892, -1.467, 28.0], \"lon\": [-62.18, -62.18, 25.396, 25.396, 131.104, 131.104, 131.104, 98.83, 98.83, 98.83, 98.83, -110.67, -110.67, -110.67, -110.67, -110.67, -110.67, -118.883333333333, -118.883333333333, -106.533333333333, 176.0, -121.229, -121.554, -122.18, 121.76, -67.1666666666667, -16.728, -19.666, -19.122, -21.416, -152.742, 130.299, 140.7, 130.862, 139.366666666667, 138.728, 160.642, -155.287, -155.287, 14.426, 14.139, 14.999, 15.213, 120.35, -75.324, -78.442, -15.58], \"marker\": {\"size\": [215.44346900318837, 215.44346900318837, 464.15888336127784, 464.15888336127784, 843.4326653017491, 843.4326653017491, 843.4326653017491, 1409.4597464129781, 1409.4597464129781, 1409.4597464129781, 1409.4597464129781, 1348.0997498879249, 1348.0997498879249, 1348.0997498879249, 1348.0997498879249, 1348.0997498879249, 1348.0997498879249, 100.0, 100.0, 100.0, 100.0, 100.0, 100.0, 100.0, 100.0, 100.0, 100.0, 100.0, 100.0, 100.0, 100.0, 100.0, 100.0, 100.0, 100.0, 100.0, 100.0, 100.0, 100.0, 100.0, 100.0, 100.0, 100.0, 100.0, 100.0, 100.0, 100.0], \"sizemode\": \"area\"}, \"text\": [\"Soufriere Hills Volcano<br>Erupted volume: 10.0<br><br>References:<br>Paulatto et al., 2012\", \"Soufriere Hills Volcano<br>Erupted volume: 10.0<br><br>References:<br>Paulatto et al., 2019\", \"Santorini<br>Erupted volume: 100.0<br><br>References:<br>McVey et al., 2019\", null, \"Aso Caldera<br>Erupted volume: 600.0<br><br>References:<br>Sudo & Kong, 2001\", \"Aso Caldera<br>Erupted volume: 600.0<br><br>References:<br>Huang et al., 2018\", \"Aso Caldera<br>Erupted volume: 600.0<br><br>References:<br>Abe et al., 2017\", \"Toba<br>Erupted volume: 2800.0<br><br>References:<br>Koulakov et al., 2009\", \"Toba<br>Erupted volume: 2800.0<br><br>References:<br>Mastruryono et al., 2001\", \"Toba<br>Erupted volume: 2800.0<br><br>References:<br>Jaxybulatov et al., 2014\", \"Toba<br>Erupted volume: 2800.0<br><br>References:<br>Stankiewicz et al., 2010\", \"Yellowstone<br>Erupted volume: 2450.0<br><br>References:<br>(Iyer et al., 1981,\\u00a0Benz and Smith, 1984,\\u00a0Clawson et al., 1989,\\u00a0Miller and Smith, 1999,\\u00a0Husen and Smith, 2004,\\u00a0Yuan and Dueker, 2005)\", \"Yellowstone<br>Erupted volume: 2450.0<br><br>References:<br>Chu et al., 2010\", \"Yellowstone<br>Erupted volume: 2450.0<br><br>References:<br>Farrell et al., 2014\", \"Yellowstone<br>Erupted volume: 2450.0<br><br>References:<br>Huang et al., 2015\", \"Yellowstone<br>Erupted volume: 2450.0<br><br>References:<br>Miller and Smith, 1999\", \"Yellowstone<br>Erupted volume: 2450.0<br><br>References:<br>Jiang, 2018\", \"Long Valley<br>Erupted volume: nan<br><br>References:<br>(Peppin, 1985,\\u00a0Dawson et al., 1987,\\u00a0Hauksson, 1988,\\u00a0Dawson et al., 1990,\\u00a0Sanders, 1993a,\\u00a0Sanders, 1993b,\\u00a0Sanders et al., 1994,\\u00a0Steck, 1995,\\u00a0Sanders et al., 1995,\\u00a0Weiland et al., 1995,\\u00a0O'Doherty et al., 1997)\", \"Long Valley<br>Erupted volume: nan<br><br>References:<br>Jiang, 2018\", \"Valles<br>Erupted volume: nan<br><br>References:<br>Lutter et al. (1995)\", \"Taupo<br>Erupted volume: nan<br><br>References:<br>Sherburn et al. (2003)\", \"Newberry volcano<br>Erupted volume: nan<br><br>References:<br>(Achauer et al., 1988,\\u00a0Stauber et al., 1988)\", \"Medicine Lake<br>Erupted volume: nan<br><br>References:<br>(Evans and Zucca, 1988,\\u00a0Lees and Crosson, 1989,\\u00a0Ritter and Evans, 1997)\", \"Mt. St. Helens<br>Erupted volume: nan<br><br>References:<br>Lees (1992)\", \"Mt. Rainier<br>Erupted volume: nan<br><br>References:<br>(Lees and Crosson, 1990,\\u00a0Moran et al., 1999)\", null, \"Krafla<br>Erupted volume: nan<br><br>References:<br>(Einarsson, 1978,\\u00a0Foulger and Arnott, 1993)\", \"Hekla<br>Erupted volume: nan<br><br>References:<br>Soosalu and Einarsson (2004)\", \"Torfaj\\u00f6kull<br>Erupted volume: nan<br><br>References:<br>Soosalu and Einarsson (2004)\", \"Hengill\\u2013Grensdalur<br>Erupted volume: nan<br><br>References:<br>Toomey and Foulger (1989)\", \"Redoubt<br>Erupted volume: nan<br><br>References:<br>Benz et al. (1996)\", \"Unzen<br>Erupted volume: nan<br><br>References:<br>Ohmi and Lees (1995)\", \"Onikobe<br>Erupted volume: nan<br><br>References:<br>Nakajima and Hasegawa (2003)\", \"Kirishima<br>Erupted volume: nan<br><br>References:<br>Yamamoto and Ida (1994)\", \"Nikko-Shirane<br>Erupted volume: nan<br><br>References:<br>Horiuchi et al. (1997)\", \"Mt. Fuji<br>Erupted volume: nan<br><br>References:<br>Nakamichi (2005)\", \"Klyuchevskoy<br>Erupted volume: nan<br><br>References:<br>(Anosov et al., 1978,\\u00a0Ozerov, 2000)\", \"Halemaumau<br>Erupted volume: nan<br><br>References:<br>Rowan and Clayton (1993)\", \"Kilauea<br>Erupted volume: nan<br><br>References:<br>(Thurber, 1984,\\u00a0Rowan and Clayton, 1993,\\u00a0Okubo et al., 1997,\\u00a0Haslinger et al., 2001)\", \"Vesuvius<br>Erupted volume: nan<br><br>References:<br>(De Natale et al., 1998,\\u00a0Zollo et al., 1998)\", \"Campi Flegrei<br>Erupted volume: nan<br><br>References:<br>1988;\\u00a0Aster et al., 1992\", \"Mt. Etna<br>Erupted volume: nan<br><br>References:<br>(Cardaci et al., 1993,\\u00a0Villasenor et al., 1998,\\u00a0Laigle and Hirn, 1999,\\u00a0Chiarabba et al., 2000,\\u00a0Aloisi et al., 2002)\", null, \"Pinatubo<br>Erupted volume: nan<br><br>References:<br>Mori et al. (1996)\", \"Nevado del Ruiz<br>Erupted volume: nan<br><br>References:<br>Londo\\u00f1o and Sudo (2003)\", \"Tungurahua<br>Erupted volume: nan<br><br>References:<br>Molina et al. (2005)\", \"Gran Canaria<br>Erupted volume: nan<br><br>References:<br>Krastel and Schmincke (2002)\"], \"type\": \"scattergeo\"}],\n                        {\"template\": {\"data\": {\"bar\": [{\"error_x\": {\"color\": \"#2a3f5f\"}, \"error_y\": {\"color\": \"#2a3f5f\"}, \"marker\": {\"line\": {\"color\": \"#E5ECF6\", \"width\": 0.5}}, \"type\": \"bar\"}], \"barpolar\": [{\"marker\": {\"line\": {\"color\": \"#E5ECF6\", \"width\": 0.5}}, \"type\": \"barpolar\"}], \"carpet\": [{\"aaxis\": {\"endlinecolor\": \"#2a3f5f\", \"gridcolor\": \"white\", \"linecolor\": \"white\", \"minorgridcolor\": \"white\", \"startlinecolor\": \"#2a3f5f\"}, \"baxis\": {\"endlinecolor\": \"#2a3f5f\", \"gridcolor\": \"white\", \"linecolor\": \"white\", \"minorgridcolor\": \"white\", \"startlinecolor\": \"#2a3f5f\"}, \"type\": \"carpet\"}], \"choropleth\": [{\"colorbar\": {\"outlinewidth\": 0, \"ticks\": \"\"}, \"type\": \"choropleth\"}], \"contour\": [{\"colorbar\": {\"outlinewidth\": 0, \"ticks\": \"\"}, \"colorscale\": [[0.0, \"#0d0887\"], [0.1111111111111111, \"#46039f\"], [0.2222222222222222, \"#7201a8\"], [0.3333333333333333, \"#9c179e\"], [0.4444444444444444, \"#bd3786\"], [0.5555555555555556, \"#d8576b\"], [0.6666666666666666, \"#ed7953\"], [0.7777777777777778, \"#fb9f3a\"], [0.8888888888888888, \"#fdca26\"], [1.0, \"#f0f921\"]], \"type\": \"contour\"}], \"contourcarpet\": [{\"colorbar\": {\"outlinewidth\": 0, \"ticks\": \"\"}, \"type\": \"contourcarpet\"}], \"heatmap\": [{\"colorbar\": {\"outlinewidth\": 0, \"ticks\": \"\"}, \"colorscale\": [[0.0, \"#0d0887\"], [0.1111111111111111, \"#46039f\"], [0.2222222222222222, \"#7201a8\"], [0.3333333333333333, \"#9c179e\"], [0.4444444444444444, \"#bd3786\"], [0.5555555555555556, \"#d8576b\"], [0.6666666666666666, \"#ed7953\"], [0.7777777777777778, \"#fb9f3a\"], [0.8888888888888888, \"#fdca26\"], [1.0, \"#f0f921\"]], \"type\": \"heatmap\"}], \"heatmapgl\": [{\"colorbar\": {\"outlinewidth\": 0, \"ticks\": \"\"}, \"colorscale\": [[0.0, \"#0d0887\"], [0.1111111111111111, \"#46039f\"], [0.2222222222222222, \"#7201a8\"], [0.3333333333333333, \"#9c179e\"], [0.4444444444444444, \"#bd3786\"], [0.5555555555555556, \"#d8576b\"], [0.6666666666666666, \"#ed7953\"], [0.7777777777777778, \"#fb9f3a\"], [0.8888888888888888, \"#fdca26\"], [1.0, \"#f0f921\"]], \"type\": \"heatmapgl\"}], \"histogram\": [{\"marker\": {\"colorbar\": {\"outlinewidth\": 0, \"ticks\": \"\"}}, \"type\": \"histogram\"}], \"histogram2d\": [{\"colorbar\": {\"outlinewidth\": 0, \"ticks\": \"\"}, \"colorscale\": [[0.0, \"#0d0887\"], [0.1111111111111111, \"#46039f\"], [0.2222222222222222, \"#7201a8\"], [0.3333333333333333, \"#9c179e\"], [0.4444444444444444, \"#bd3786\"], [0.5555555555555556, \"#d8576b\"], [0.6666666666666666, \"#ed7953\"], [0.7777777777777778, \"#fb9f3a\"], [0.8888888888888888, \"#fdca26\"], [1.0, \"#f0f921\"]], \"type\": \"histogram2d\"}], \"histogram2dcontour\": [{\"colorbar\": {\"outlinewidth\": 0, \"ticks\": \"\"}, \"colorscale\": [[0.0, \"#0d0887\"], [0.1111111111111111, \"#46039f\"], [0.2222222222222222, \"#7201a8\"], [0.3333333333333333, \"#9c179e\"], [0.4444444444444444, \"#bd3786\"], [0.5555555555555556, \"#d8576b\"], [0.6666666666666666, \"#ed7953\"], [0.7777777777777778, \"#fb9f3a\"], [0.8888888888888888, \"#fdca26\"], [1.0, \"#f0f921\"]], \"type\": \"histogram2dcontour\"}], \"mesh3d\": [{\"colorbar\": {\"outlinewidth\": 0, \"ticks\": \"\"}, \"type\": \"mesh3d\"}], \"parcoords\": [{\"line\": {\"colorbar\": {\"outlinewidth\": 0, \"ticks\": \"\"}}, \"type\": \"parcoords\"}], \"pie\": [{\"automargin\": true, \"type\": \"pie\"}], \"scatter\": [{\"marker\": {\"colorbar\": {\"outlinewidth\": 0, \"ticks\": \"\"}}, \"type\": \"scatter\"}], \"scatter3d\": [{\"line\": {\"colorbar\": {\"outlinewidth\": 0, \"ticks\": \"\"}}, \"marker\": {\"colorbar\": {\"outlinewidth\": 0, \"ticks\": \"\"}}, \"type\": \"scatter3d\"}], \"scattercarpet\": [{\"marker\": {\"colorbar\": {\"outlinewidth\": 0, \"ticks\": \"\"}}, \"type\": \"scattercarpet\"}], \"scattergeo\": [{\"marker\": {\"colorbar\": {\"outlinewidth\": 0, \"ticks\": \"\"}}, \"type\": \"scattergeo\"}], \"scattergl\": [{\"marker\": {\"colorbar\": {\"outlinewidth\": 0, \"ticks\": \"\"}}, \"type\": \"scattergl\"}], \"scattermapbox\": [{\"marker\": {\"colorbar\": {\"outlinewidth\": 0, \"ticks\": \"\"}}, \"type\": \"scattermapbox\"}], \"scatterpolar\": [{\"marker\": {\"colorbar\": {\"outlinewidth\": 0, \"ticks\": \"\"}}, \"type\": \"scatterpolar\"}], \"scatterpolargl\": [{\"marker\": {\"colorbar\": {\"outlinewidth\": 0, \"ticks\": \"\"}}, \"type\": \"scatterpolargl\"}], \"scatterternary\": [{\"marker\": {\"colorbar\": {\"outlinewidth\": 0, \"ticks\": \"\"}}, \"type\": \"scatterternary\"}], \"surface\": [{\"colorbar\": {\"outlinewidth\": 0, \"ticks\": \"\"}, \"colorscale\": [[0.0, \"#0d0887\"], [0.1111111111111111, \"#46039f\"], [0.2222222222222222, \"#7201a8\"], [0.3333333333333333, \"#9c179e\"], [0.4444444444444444, \"#bd3786\"], [0.5555555555555556, \"#d8576b\"], [0.6666666666666666, \"#ed7953\"], [0.7777777777777778, \"#fb9f3a\"], [0.8888888888888888, \"#fdca26\"], [1.0, \"#f0f921\"]], \"type\": \"surface\"}], \"table\": [{\"cells\": {\"fill\": {\"color\": \"#EBF0F8\"}, \"line\": {\"color\": \"white\"}}, \"header\": {\"fill\": {\"color\": \"#C8D4E3\"}, \"line\": {\"color\": \"white\"}}, \"type\": \"table\"}]}, \"layout\": {\"annotationdefaults\": {\"arrowcolor\": \"#2a3f5f\", \"arrowhead\": 0, \"arrowwidth\": 1}, \"coloraxis\": {\"colorbar\": {\"outlinewidth\": 0, \"ticks\": \"\"}}, \"colorscale\": {\"diverging\": [[0, \"#8e0152\"], [0.1, \"#c51b7d\"], [0.2, \"#de77ae\"], [0.3, \"#f1b6da\"], [0.4, \"#fde0ef\"], [0.5, \"#f7f7f7\"], [0.6, \"#e6f5d0\"], [0.7, \"#b8e186\"], [0.8, \"#7fbc41\"], [0.9, \"#4d9221\"], [1, \"#276419\"]], \"sequential\": [[0.0, \"#0d0887\"], [0.1111111111111111, \"#46039f\"], [0.2222222222222222, \"#7201a8\"], [0.3333333333333333, \"#9c179e\"], [0.4444444444444444, \"#bd3786\"], [0.5555555555555556, \"#d8576b\"], [0.6666666666666666, \"#ed7953\"], [0.7777777777777778, \"#fb9f3a\"], [0.8888888888888888, \"#fdca26\"], [1.0, \"#f0f921\"]], \"sequentialminus\": [[0.0, \"#0d0887\"], [0.1111111111111111, \"#46039f\"], [0.2222222222222222, \"#7201a8\"], [0.3333333333333333, \"#9c179e\"], [0.4444444444444444, \"#bd3786\"], [0.5555555555555556, \"#d8576b\"], [0.6666666666666666, \"#ed7953\"], [0.7777777777777778, \"#fb9f3a\"], [0.8888888888888888, \"#fdca26\"], [1.0, \"#f0f921\"]]}, \"colorway\": [\"#636efa\", \"#EF553B\", \"#00cc96\", \"#ab63fa\", \"#FFA15A\", \"#19d3f3\", \"#FF6692\", \"#B6E880\", \"#FF97FF\", \"#FECB52\"], \"font\": {\"color\": \"#2a3f5f\"}, \"geo\": {\"bgcolor\": \"white\", \"lakecolor\": \"white\", \"landcolor\": \"#E5ECF6\", \"showlakes\": true, \"showland\": true, \"subunitcolor\": \"white\"}, \"hoverlabel\": {\"align\": \"left\"}, \"hovermode\": \"closest\", \"mapbox\": {\"style\": \"light\"}, \"paper_bgcolor\": \"white\", \"plot_bgcolor\": \"#E5ECF6\", \"polar\": {\"angularaxis\": {\"gridcolor\": \"white\", \"linecolor\": \"white\", \"ticks\": \"\"}, \"bgcolor\": \"#E5ECF6\", \"radialaxis\": {\"gridcolor\": \"white\", \"linecolor\": \"white\", \"ticks\": \"\"}}, \"scene\": {\"xaxis\": {\"backgroundcolor\": \"#E5ECF6\", \"gridcolor\": \"white\", \"gridwidth\": 2, \"linecolor\": \"white\", \"showbackground\": true, \"ticks\": \"\", \"zerolinecolor\": \"white\"}, \"yaxis\": {\"backgroundcolor\": \"#E5ECF6\", \"gridcolor\": \"white\", \"gridwidth\": 2, \"linecolor\": \"white\", \"showbackground\": true, \"ticks\": \"\", \"zerolinecolor\": \"white\"}, \"zaxis\": {\"backgroundcolor\": \"#E5ECF6\", \"gridcolor\": \"white\", \"gridwidth\": 2, \"linecolor\": \"white\", \"showbackground\": true, \"ticks\": \"\", \"zerolinecolor\": \"white\"}}, \"shapedefaults\": {\"line\": {\"color\": \"#2a3f5f\"}}, \"ternary\": {\"aaxis\": {\"gridcolor\": \"white\", \"linecolor\": \"white\", \"ticks\": \"\"}, \"baxis\": {\"gridcolor\": \"white\", \"linecolor\": \"white\", \"ticks\": \"\"}, \"bgcolor\": \"#E5ECF6\", \"caxis\": {\"gridcolor\": \"white\", \"linecolor\": \"white\", \"ticks\": \"\"}}, \"title\": {\"x\": 0.05}, \"xaxis\": {\"automargin\": true, \"gridcolor\": \"white\", \"linecolor\": \"white\", \"ticks\": \"\", \"title\": {\"standoff\": 15}, \"zerolinecolor\": \"white\", \"zerolinewidth\": 2}, \"yaxis\": {\"automargin\": true, \"gridcolor\": \"white\", \"linecolor\": \"white\", \"ticks\": \"\", \"title\": {\"standoff\": 15}, \"zerolinecolor\": \"white\", \"zerolinewidth\": 2}}}},\n                        {\"responsive\": true}\n                    ).then(function(){\n                            \nvar gd = document.getElementById('0fd2cfb6-16f1-49b3-8d19-bc78ce30ccfa');\nvar x = new MutationObserver(function (mutations, observer) {{\n        var display = window.getComputedStyle(gd).display;\n        if (!display || display === 'none') {{\n            console.log([gd, 'removed!']);\n            Plotly.purge(gd);\n            observer.disconnect();\n        }}\n}});\n\n// Listen for the removal of the full notebook cells\nvar notebookContainer = gd.closest('#notebook-container');\nif (notebookContainer) {{\n    x.observe(notebookContainer, {childList: true});\n}}\n\n// Listen for the clearing of the current output cell\nvar outputEl = gd.closest('.output');\nif (outputEl) {{\n    x.observe(outputEl, {childList: true});\n}}\n\n                        })\n                };\n                });\n            </script>\n        </div>"
         },
         "metadata": {},
         "output_type": "display_data"
        }
       ]
      }
     },
     "408a7d1d03ea44a7933e95765eb4392c": {
      "model_module": "@jupyter-widgets/output",
      "model_module_version": "1.0.0",
      "model_name": "OutputModel",
      "state": {
       "layout": "IPY_MODEL_a338eddb69d94c56813ad2a30ac84c69",
       "outputs": [
        {
         "data": {
          "application/vnd.plotly.v1+json": {
           "config": {
            "plotlyServerURL": "https://plot.ly"
           },
           "data": [
            {
             "lat": [
              16.72,
              16.72,
              36.404,
              36.404,
              32.884,
              32.884,
              32.884,
              2.58,
              2.58,
              2.58,
              2.58,
              44.43,
              44.43,
              44.43,
              44.43,
              44.43,
              44.43,
              37.7166666666667,
              37.7166666666667,
              35.9,
              -38.82,
              43.722,
              41.611,
              46.2,
              46.853,
              -22.2666666666667,
              65.715,
              63.983,
              63.892,
              64.083,
              60.485,
              32.761,
              38.83,
              31.934,
              36.7833333333333,
              35.361,
              56.056,
              19.421,
              19.421,
              40.821,
              40.827,
              37.748,
              38.789,
              15.13,
              4.892,
              -1.467,
              28
             ],
             "lon": [
              -62.18,
              -62.18,
              25.396,
              25.396,
              131.104,
              131.104,
              131.104,
              98.83,
              98.83,
              98.83,
              98.83,
              -110.67,
              -110.67,
              -110.67,
              -110.67,
              -110.67,
              -110.67,
              -118.883333333333,
              -118.883333333333,
              -106.533333333333,
              176,
              -121.229,
              -121.554,
              -122.18,
              -121.76,
              -67.1666666666667,
              -16.728,
              -19.666,
              -19.122,
              -21.416,
              -152.742,
              130.299,
              140.7,
              130.862,
              139.366666666667,
              138.728,
              160.642,
              -155.287,
              -155.287,
              14.426,
              14.139,
              14.999,
              15.213,
              120.35,
              -75.324,
              -78.442,
              -15.58
             ],
             "marker": {
              "size": [
               215.44346900318837,
               215.44346900318837,
               464.15888336127784,
               464.15888336127784,
               843.4326653017491,
               843.4326653017491,
               843.4326653017491,
               1409.4597464129781,
               1409.4597464129781,
               1409.4597464129781,
               1409.4597464129781,
               1348.0997498879249,
               1348.0997498879249,
               1348.0997498879249,
               1348.0997498879249,
               1348.0997498879249,
               1348.0997498879249,
               100,
               100,
               100,
               100,
               100,
               100,
               100,
               100,
               100,
               100,
               100,
               100,
               100,
               100,
               100,
               100,
               100,
               100,
               100,
               100,
               100,
               100,
               100,
               100,
               100,
               100,
               100,
               100,
               100,
               100
              ],
              "sizemode": "area"
             },
             "text": [
              "Soufriere Hills Volcano<br>Erupted volume: 10.0<br><br>References:<br>Paulatto et al., 2012",
              "Soufriere Hills Volcano<br>Erupted volume: 10.0<br><br>References:<br>Paulatto et al., 2019",
              "Santorini<br>Erupted volume: 100.0<br><br>References:<br>McVey et al., 2019",
              null,
              "Aso Caldera<br>Erupted volume: 600.0<br><br>References:<br>Sudo & Kong, 2001",
              "Aso Caldera<br>Erupted volume: 600.0<br><br>References:<br>Huang et al., 2018",
              "Aso Caldera<br>Erupted volume: 600.0<br><br>References:<br>Abe et al., 2017",
              "Toba<br>Erupted volume: 2800.0<br><br>References:<br>Koulakov et al., 2009",
              "Toba<br>Erupted volume: 2800.0<br><br>References:<br>Mastruryono et al., 2001",
              "Toba<br>Erupted volume: 2800.0<br><br>References:<br>Jaxybulatov et al., 2014",
              "Toba<br>Erupted volume: 2800.0<br><br>References:<br>Stankiewicz et al., 2010",
              "Yellowstone<br>Erupted volume: 2450.0<br><br>References:<br>(Iyer et al., 1981, Benz and Smith, 1984, Clawson et al., 1989, Miller and Smith, 1999, Husen and Smith, 2004, Yuan and Dueker, 2005)",
              "Yellowstone<br>Erupted volume: 2450.0<br><br>References:<br>Chu et al., 2010",
              "Yellowstone<br>Erupted volume: 2450.0<br><br>References:<br>Farrell et al., 2014",
              "Yellowstone<br>Erupted volume: 2450.0<br><br>References:<br>Huang et al., 2015",
              "Yellowstone<br>Erupted volume: 2450.0<br><br>References:<br>Miller and Smith, 1999",
              "Yellowstone<br>Erupted volume: 2450.0<br><br>References:<br>Jiang, 2018",
              "Long Valley<br>Erupted volume: nan<br><br>References:<br>(Peppin, 1985, Dawson et al., 1987, Hauksson, 1988, Dawson et al., 1990, Sanders, 1993a, Sanders, 1993b, Sanders et al., 1994, Steck, 1995, Sanders et al., 1995, Weiland et al., 1995, O'Doherty et al., 1997)",
              "Long Valley<br>Erupted volume: nan<br><br>References:<br>Jiang, 2018",
              "Valles<br>Erupted volume: nan<br><br>References:<br>Lutter et al. (1995)",
              "Taupo<br>Erupted volume: nan<br><br>References:<br>Sherburn et al. (2003)",
              "Newberry volcano<br>Erupted volume: nan<br><br>References:<br>(Achauer et al., 1988, Stauber et al., 1988)",
              "Medicine Lake<br>Erupted volume: nan<br><br>References:<br>(Evans and Zucca, 1988, Lees and Crosson, 1989, Ritter and Evans, 1997)",
              "Mt. St. Helens<br>Erupted volume: nan<br><br>References:<br>Lees (1992)",
              "Mt. Rainier<br>Erupted volume: nan<br><br>References:<br>(Lees and Crosson, 1990, Moran et al., 1999)",
              null,
              "Krafla<br>Erupted volume: nan<br><br>References:<br>(Einarsson, 1978, Foulger and Arnott, 1993)",
              "Hekla<br>Erupted volume: nan<br><br>References:<br>Soosalu and Einarsson (2004)",
              "Torfajökull<br>Erupted volume: nan<br><br>References:<br>Soosalu and Einarsson (2004)",
              "Hengill–Grensdalur<br>Erupted volume: nan<br><br>References:<br>Toomey and Foulger (1989)",
              "Redoubt<br>Erupted volume: nan<br><br>References:<br>Benz et al. (1996)",
              "Unzen<br>Erupted volume: nan<br><br>References:<br>Ohmi and Lees (1995)",
              "Onikobe<br>Erupted volume: nan<br><br>References:<br>Nakajima and Hasegawa (2003)",
              "Kirishima<br>Erupted volume: nan<br><br>References:<br>Yamamoto and Ida (1994)",
              "Nikko-Shirane<br>Erupted volume: nan<br><br>References:<br>Horiuchi et al. (1997)",
              "Mt. Fuji<br>Erupted volume: nan<br><br>References:<br>Nakamichi (2005)",
              "Klyuchevskoy<br>Erupted volume: nan<br><br>References:<br>(Anosov et al., 1978, Ozerov, 2000)",
              "Halemaumau<br>Erupted volume: nan<br><br>References:<br>Rowan and Clayton (1993)",
              "Kilauea<br>Erupted volume: nan<br><br>References:<br>(Thurber, 1984, Rowan and Clayton, 1993, Okubo et al., 1997, Haslinger et al., 2001)",
              "Vesuvius<br>Erupted volume: nan<br><br>References:<br>(De Natale et al., 1998, Zollo et al., 1998)",
              "Campi Flegrei<br>Erupted volume: nan<br><br>References:<br>1988; Aster et al., 1992",
              "Mt. Etna<br>Erupted volume: nan<br><br>References:<br>(Cardaci et al., 1993, Villasenor et al., 1998, Laigle and Hirn, 1999, Chiarabba et al., 2000, Aloisi et al., 2002)",
              null,
              "Pinatubo<br>Erupted volume: nan<br><br>References:<br>Mori et al. (1996)",
              "Nevado del Ruiz<br>Erupted volume: nan<br><br>References:<br>Londoño and Sudo (2003)",
              "Tungurahua<br>Erupted volume: nan<br><br>References:<br>Molina et al. (2005)",
              "Gran Canaria<br>Erupted volume: nan<br><br>References:<br>Krastel and Schmincke (2002)"
             ],
             "type": "scattergeo"
            }
           ],
           "layout": {
            "height": 500,
            "template": {
             "data": {
              "bar": [
               {
                "error_x": {
                 "color": "#2a3f5f"
                },
                "error_y": {
                 "color": "#2a3f5f"
                },
                "marker": {
                 "line": {
                  "color": "#E5ECF6",
                  "width": 0.5
                 }
                },
                "type": "bar"
               }
              ],
              "barpolar": [
               {
                "marker": {
                 "line": {
                  "color": "#E5ECF6",
                  "width": 0.5
                 }
                },
                "type": "barpolar"
               }
              ],
              "carpet": [
               {
                "aaxis": {
                 "endlinecolor": "#2a3f5f",
                 "gridcolor": "white",
                 "linecolor": "white",
                 "minorgridcolor": "white",
                 "startlinecolor": "#2a3f5f"
                },
                "baxis": {
                 "endlinecolor": "#2a3f5f",
                 "gridcolor": "white",
                 "linecolor": "white",
                 "minorgridcolor": "white",
                 "startlinecolor": "#2a3f5f"
                },
                "type": "carpet"
               }
              ],
              "choropleth": [
               {
                "colorbar": {
                 "outlinewidth": 0,
                 "ticks": ""
                },
                "type": "choropleth"
               }
              ],
              "contour": [
               {
                "colorbar": {
                 "outlinewidth": 0,
                 "ticks": ""
                },
                "colorscale": [
                 [
                  0,
                  "#0d0887"
                 ],
                 [
                  0.1111111111111111,
                  "#46039f"
                 ],
                 [
                  0.2222222222222222,
                  "#7201a8"
                 ],
                 [
                  0.3333333333333333,
                  "#9c179e"
                 ],
                 [
                  0.4444444444444444,
                  "#bd3786"
                 ],
                 [
                  0.5555555555555556,
                  "#d8576b"
                 ],
                 [
                  0.6666666666666666,
                  "#ed7953"
                 ],
                 [
                  0.7777777777777778,
                  "#fb9f3a"
                 ],
                 [
                  0.8888888888888888,
                  "#fdca26"
                 ],
                 [
                  1,
                  "#f0f921"
                 ]
                ],
                "type": "contour"
               }
              ],
              "contourcarpet": [
               {
                "colorbar": {
                 "outlinewidth": 0,
                 "ticks": ""
                },
                "type": "contourcarpet"
               }
              ],
              "heatmap": [
               {
                "colorbar": {
                 "outlinewidth": 0,
                 "ticks": ""
                },
                "colorscale": [
                 [
                  0,
                  "#0d0887"
                 ],
                 [
                  0.1111111111111111,
                  "#46039f"
                 ],
                 [
                  0.2222222222222222,
                  "#7201a8"
                 ],
                 [
                  0.3333333333333333,
                  "#9c179e"
                 ],
                 [
                  0.4444444444444444,
                  "#bd3786"
                 ],
                 [
                  0.5555555555555556,
                  "#d8576b"
                 ],
                 [
                  0.6666666666666666,
                  "#ed7953"
                 ],
                 [
                  0.7777777777777778,
                  "#fb9f3a"
                 ],
                 [
                  0.8888888888888888,
                  "#fdca26"
                 ],
                 [
                  1,
                  "#f0f921"
                 ]
                ],
                "type": "heatmap"
               }
              ],
              "heatmapgl": [
               {
                "colorbar": {
                 "outlinewidth": 0,
                 "ticks": ""
                },
                "colorscale": [
                 [
                  0,
                  "#0d0887"
                 ],
                 [
                  0.1111111111111111,
                  "#46039f"
                 ],
                 [
                  0.2222222222222222,
                  "#7201a8"
                 ],
                 [
                  0.3333333333333333,
                  "#9c179e"
                 ],
                 [
                  0.4444444444444444,
                  "#bd3786"
                 ],
                 [
                  0.5555555555555556,
                  "#d8576b"
                 ],
                 [
                  0.6666666666666666,
                  "#ed7953"
                 ],
                 [
                  0.7777777777777778,
                  "#fb9f3a"
                 ],
                 [
                  0.8888888888888888,
                  "#fdca26"
                 ],
                 [
                  1,
                  "#f0f921"
                 ]
                ],
                "type": "heatmapgl"
               }
              ],
              "histogram": [
               {
                "marker": {
                 "colorbar": {
                  "outlinewidth": 0,
                  "ticks": ""
                 }
                },
                "type": "histogram"
               }
              ],
              "histogram2d": [
               {
                "colorbar": {
                 "outlinewidth": 0,
                 "ticks": ""
                },
                "colorscale": [
                 [
                  0,
                  "#0d0887"
                 ],
                 [
                  0.1111111111111111,
                  "#46039f"
                 ],
                 [
                  0.2222222222222222,
                  "#7201a8"
                 ],
                 [
                  0.3333333333333333,
                  "#9c179e"
                 ],
                 [
                  0.4444444444444444,
                  "#bd3786"
                 ],
                 [
                  0.5555555555555556,
                  "#d8576b"
                 ],
                 [
                  0.6666666666666666,
                  "#ed7953"
                 ],
                 [
                  0.7777777777777778,
                  "#fb9f3a"
                 ],
                 [
                  0.8888888888888888,
                  "#fdca26"
                 ],
                 [
                  1,
                  "#f0f921"
                 ]
                ],
                "type": "histogram2d"
               }
              ],
              "histogram2dcontour": [
               {
                "colorbar": {
                 "outlinewidth": 0,
                 "ticks": ""
                },
                "colorscale": [
                 [
                  0,
                  "#0d0887"
                 ],
                 [
                  0.1111111111111111,
                  "#46039f"
                 ],
                 [
                  0.2222222222222222,
                  "#7201a8"
                 ],
                 [
                  0.3333333333333333,
                  "#9c179e"
                 ],
                 [
                  0.4444444444444444,
                  "#bd3786"
                 ],
                 [
                  0.5555555555555556,
                  "#d8576b"
                 ],
                 [
                  0.6666666666666666,
                  "#ed7953"
                 ],
                 [
                  0.7777777777777778,
                  "#fb9f3a"
                 ],
                 [
                  0.8888888888888888,
                  "#fdca26"
                 ],
                 [
                  1,
                  "#f0f921"
                 ]
                ],
                "type": "histogram2dcontour"
               }
              ],
              "mesh3d": [
               {
                "colorbar": {
                 "outlinewidth": 0,
                 "ticks": ""
                },
                "type": "mesh3d"
               }
              ],
              "parcoords": [
               {
                "line": {
                 "colorbar": {
                  "outlinewidth": 0,
                  "ticks": ""
                 }
                },
                "type": "parcoords"
               }
              ],
              "pie": [
               {
                "automargin": true,
                "type": "pie"
               }
              ],
              "scatter": [
               {
                "marker": {
                 "colorbar": {
                  "outlinewidth": 0,
                  "ticks": ""
                 }
                },
                "type": "scatter"
               }
              ],
              "scatter3d": [
               {
                "line": {
                 "colorbar": {
                  "outlinewidth": 0,
                  "ticks": ""
                 }
                },
                "marker": {
                 "colorbar": {
                  "outlinewidth": 0,
                  "ticks": ""
                 }
                },
                "type": "scatter3d"
               }
              ],
              "scattercarpet": [
               {
                "marker": {
                 "colorbar": {
                  "outlinewidth": 0,
                  "ticks": ""
                 }
                },
                "type": "scattercarpet"
               }
              ],
              "scattergeo": [
               {
                "marker": {
                 "colorbar": {
                  "outlinewidth": 0,
                  "ticks": ""
                 }
                },
                "type": "scattergeo"
               }
              ],
              "scattergl": [
               {
                "marker": {
                 "colorbar": {
                  "outlinewidth": 0,
                  "ticks": ""
                 }
                },
                "type": "scattergl"
               }
              ],
              "scattermapbox": [
               {
                "marker": {
                 "colorbar": {
                  "outlinewidth": 0,
                  "ticks": ""
                 }
                },
                "type": "scattermapbox"
               }
              ],
              "scatterpolar": [
               {
                "marker": {
                 "colorbar": {
                  "outlinewidth": 0,
                  "ticks": ""
                 }
                },
                "type": "scatterpolar"
               }
              ],
              "scatterpolargl": [
               {
                "marker": {
                 "colorbar": {
                  "outlinewidth": 0,
                  "ticks": ""
                 }
                },
                "type": "scatterpolargl"
               }
              ],
              "scatterternary": [
               {
                "marker": {
                 "colorbar": {
                  "outlinewidth": 0,
                  "ticks": ""
                 }
                },
                "type": "scatterternary"
               }
              ],
              "surface": [
               {
                "colorbar": {
                 "outlinewidth": 0,
                 "ticks": ""
                },
                "colorscale": [
                 [
                  0,
                  "#0d0887"
                 ],
                 [
                  0.1111111111111111,
                  "#46039f"
                 ],
                 [
                  0.2222222222222222,
                  "#7201a8"
                 ],
                 [
                  0.3333333333333333,
                  "#9c179e"
                 ],
                 [
                  0.4444444444444444,
                  "#bd3786"
                 ],
                 [
                  0.5555555555555556,
                  "#d8576b"
                 ],
                 [
                  0.6666666666666666,
                  "#ed7953"
                 ],
                 [
                  0.7777777777777778,
                  "#fb9f3a"
                 ],
                 [
                  0.8888888888888888,
                  "#fdca26"
                 ],
                 [
                  1,
                  "#f0f921"
                 ]
                ],
                "type": "surface"
               }
              ],
              "table": [
               {
                "cells": {
                 "fill": {
                  "color": "#EBF0F8"
                 },
                 "line": {
                  "color": "white"
                 }
                },
                "header": {
                 "fill": {
                  "color": "#C8D4E3"
                 },
                 "line": {
                  "color": "white"
                 }
                },
                "type": "table"
               }
              ]
             },
             "layout": {
              "annotationdefaults": {
               "arrowcolor": "#2a3f5f",
               "arrowhead": 0,
               "arrowwidth": 1
              },
              "coloraxis": {
               "colorbar": {
                "outlinewidth": 0,
                "ticks": ""
               }
              },
              "colorscale": {
               "diverging": [
                [
                 0,
                 "#8e0152"
                ],
                [
                 0.1,
                 "#c51b7d"
                ],
                [
                 0.2,
                 "#de77ae"
                ],
                [
                 0.3,
                 "#f1b6da"
                ],
                [
                 0.4,
                 "#fde0ef"
                ],
                [
                 0.5,
                 "#f7f7f7"
                ],
                [
                 0.6,
                 "#e6f5d0"
                ],
                [
                 0.7,
                 "#b8e186"
                ],
                [
                 0.8,
                 "#7fbc41"
                ],
                [
                 0.9,
                 "#4d9221"
                ],
                [
                 1,
                 "#276419"
                ]
               ],
               "sequential": [
                [
                 0,
                 "#0d0887"
                ],
                [
                 0.1111111111111111,
                 "#46039f"
                ],
                [
                 0.2222222222222222,
                 "#7201a8"
                ],
                [
                 0.3333333333333333,
                 "#9c179e"
                ],
                [
                 0.4444444444444444,
                 "#bd3786"
                ],
                [
                 0.5555555555555556,
                 "#d8576b"
                ],
                [
                 0.6666666666666666,
                 "#ed7953"
                ],
                [
                 0.7777777777777778,
                 "#fb9f3a"
                ],
                [
                 0.8888888888888888,
                 "#fdca26"
                ],
                [
                 1,
                 "#f0f921"
                ]
               ],
               "sequentialminus": [
                [
                 0,
                 "#0d0887"
                ],
                [
                 0.1111111111111111,
                 "#46039f"
                ],
                [
                 0.2222222222222222,
                 "#7201a8"
                ],
                [
                 0.3333333333333333,
                 "#9c179e"
                ],
                [
                 0.4444444444444444,
                 "#bd3786"
                ],
                [
                 0.5555555555555556,
                 "#d8576b"
                ],
                [
                 0.6666666666666666,
                 "#ed7953"
                ],
                [
                 0.7777777777777778,
                 "#fb9f3a"
                ],
                [
                 0.8888888888888888,
                 "#fdca26"
                ],
                [
                 1,
                 "#f0f921"
                ]
               ]
              },
              "colorway": [
               "#636efa",
               "#EF553B",
               "#00cc96",
               "#ab63fa",
               "#FFA15A",
               "#19d3f3",
               "#FF6692",
               "#B6E880",
               "#FF97FF",
               "#FECB52"
              ],
              "font": {
               "color": "#2a3f5f"
              },
              "geo": {
               "bgcolor": "white",
               "lakecolor": "white",
               "landcolor": "#E5ECF6",
               "showlakes": true,
               "showland": true,
               "subunitcolor": "white"
              },
              "hoverlabel": {
               "align": "left"
              },
              "hovermode": "closest",
              "mapbox": {
               "style": "light"
              },
              "paper_bgcolor": "white",
              "plot_bgcolor": "#E5ECF6",
              "polar": {
               "angularaxis": {
                "gridcolor": "white",
                "linecolor": "white",
                "ticks": ""
               },
               "bgcolor": "#E5ECF6",
               "radialaxis": {
                "gridcolor": "white",
                "linecolor": "white",
                "ticks": ""
               }
              },
              "scene": {
               "xaxis": {
                "backgroundcolor": "#E5ECF6",
                "gridcolor": "white",
                "gridwidth": 2,
                "linecolor": "white",
                "showbackground": true,
                "ticks": "",
                "zerolinecolor": "white"
               },
               "yaxis": {
                "backgroundcolor": "#E5ECF6",
                "gridcolor": "white",
                "gridwidth": 2,
                "linecolor": "white",
                "showbackground": true,
                "ticks": "",
                "zerolinecolor": "white"
               },
               "zaxis": {
                "backgroundcolor": "#E5ECF6",
                "gridcolor": "white",
                "gridwidth": 2,
                "linecolor": "white",
                "showbackground": true,
                "ticks": "",
                "zerolinecolor": "white"
               }
              },
              "shapedefaults": {
               "line": {
                "color": "#2a3f5f"
               }
              },
              "ternary": {
               "aaxis": {
                "gridcolor": "white",
                "linecolor": "white",
                "ticks": ""
               },
               "baxis": {
                "gridcolor": "white",
                "linecolor": "white",
                "ticks": ""
               },
               "bgcolor": "#E5ECF6",
               "caxis": {
                "gridcolor": "white",
                "linecolor": "white",
                "ticks": ""
               }
              },
              "title": {
               "x": 0.05
              },
              "xaxis": {
               "automargin": true,
               "gridcolor": "white",
               "linecolor": "white",
               "ticks": "",
               "title": {
                "standoff": 15
               },
               "zerolinecolor": "white",
               "zerolinewidth": 2
              },
              "yaxis": {
               "automargin": true,
               "gridcolor": "white",
               "linecolor": "white",
               "ticks": "",
               "title": {
                "standoff": 15
               },
               "zerolinecolor": "white",
               "zerolinewidth": 2
              }
             }
            },
            "width": 800
           }
          },
          "text/html": "<div>\n        \n        \n            <div id=\"a02a2624-08d2-4589-beb1-875c4dfc5f53\" class=\"plotly-graph-div\" style=\"height:500px; width:800px;\"></div>\n            <script type=\"text/javascript\">\n                require([\"plotly\"], function(Plotly) {\n                    window.PLOTLYENV=window.PLOTLYENV || {};\n                    \n                if (document.getElementById(\"a02a2624-08d2-4589-beb1-875c4dfc5f53\")) {\n                    Plotly.newPlot(\n                        'a02a2624-08d2-4589-beb1-875c4dfc5f53',\n                        [{\"lat\": [16.72, 16.72, 36.404, 36.404, 32.884, 32.884, 32.884, 2.58, 2.58, 2.58, 2.58, 44.43, 44.43, 44.43, 44.43, 44.43, 44.43, 37.7166666666667, 37.7166666666667, 35.9, -38.82, 43.722, 41.611, 46.2, 46.853, -22.2666666666667, 65.715, 63.983, 63.892, 64.083, 60.485, 32.761, 38.83, 31.934, 36.7833333333333, 35.361, 56.056, 19.421, 19.421, 40.821, 40.827, 37.748, 38.789, 15.13, 4.892, -1.467, 28.0], \"lon\": [-62.18, -62.18, 25.396, 25.396, 131.104, 131.104, 131.104, 98.83, 98.83, 98.83, 98.83, -110.67, -110.67, -110.67, -110.67, -110.67, -110.67, -118.883333333333, -118.883333333333, -106.533333333333, 176.0, -121.229, -121.554, -122.18, -121.76, -67.1666666666667, -16.728, -19.666, -19.122, -21.416, -152.742, 130.299, 140.7, 130.862, 139.366666666667, 138.728, 160.642, -155.287, -155.287, 14.426, 14.139, 14.999, 15.213, 120.35, -75.324, -78.442, -15.58], \"marker\": {\"size\": [215.44346900318837, 215.44346900318837, 464.15888336127784, 464.15888336127784, 843.4326653017491, 843.4326653017491, 843.4326653017491, 1409.4597464129781, 1409.4597464129781, 1409.4597464129781, 1409.4597464129781, 1348.0997498879249, 1348.0997498879249, 1348.0997498879249, 1348.0997498879249, 1348.0997498879249, 1348.0997498879249, 100.0, 100.0, 100.0, 100.0, 100.0, 100.0, 100.0, 100.0, 100.0, 100.0, 100.0, 100.0, 100.0, 100.0, 100.0, 100.0, 100.0, 100.0, 100.0, 100.0, 100.0, 100.0, 100.0, 100.0, 100.0, 100.0, 100.0, 100.0, 100.0, 100.0], \"sizemode\": \"area\"}, \"text\": [\"Soufriere Hills Volcano<br>Erupted volume: 10.0<br><br>References:<br>Paulatto et al., 2012\", \"Soufriere Hills Volcano<br>Erupted volume: 10.0<br><br>References:<br>Paulatto et al., 2019\", \"Santorini<br>Erupted volume: 100.0<br><br>References:<br>McVey et al., 2019\", null, \"Aso Caldera<br>Erupted volume: 600.0<br><br>References:<br>Sudo & Kong, 2001\", \"Aso Caldera<br>Erupted volume: 600.0<br><br>References:<br>Huang et al., 2018\", \"Aso Caldera<br>Erupted volume: 600.0<br><br>References:<br>Abe et al., 2017\", \"Toba<br>Erupted volume: 2800.0<br><br>References:<br>Koulakov et al., 2009\", \"Toba<br>Erupted volume: 2800.0<br><br>References:<br>Mastruryono et al., 2001\", \"Toba<br>Erupted volume: 2800.0<br><br>References:<br>Jaxybulatov et al., 2014\", \"Toba<br>Erupted volume: 2800.0<br><br>References:<br>Stankiewicz et al., 2010\", \"Yellowstone<br>Erupted volume: 2450.0<br><br>References:<br>(Iyer et al., 1981,\\u00a0Benz and Smith, 1984,\\u00a0Clawson et al., 1989,\\u00a0Miller and Smith, 1999,\\u00a0Husen and Smith, 2004,\\u00a0Yuan and Dueker, 2005)\", \"Yellowstone<br>Erupted volume: 2450.0<br><br>References:<br>Chu et al., 2010\", \"Yellowstone<br>Erupted volume: 2450.0<br><br>References:<br>Farrell et al., 2014\", \"Yellowstone<br>Erupted volume: 2450.0<br><br>References:<br>Huang et al., 2015\", \"Yellowstone<br>Erupted volume: 2450.0<br><br>References:<br>Miller and Smith, 1999\", \"Yellowstone<br>Erupted volume: 2450.0<br><br>References:<br>Jiang, 2018\", \"Long Valley<br>Erupted volume: nan<br><br>References:<br>(Peppin, 1985,\\u00a0Dawson et al., 1987,\\u00a0Hauksson, 1988,\\u00a0Dawson et al., 1990,\\u00a0Sanders, 1993a,\\u00a0Sanders, 1993b,\\u00a0Sanders et al., 1994,\\u00a0Steck, 1995,\\u00a0Sanders et al., 1995,\\u00a0Weiland et al., 1995,\\u00a0O'Doherty et al., 1997)\", \"Long Valley<br>Erupted volume: nan<br><br>References:<br>Jiang, 2018\", \"Valles<br>Erupted volume: nan<br><br>References:<br>Lutter et al. (1995)\", \"Taupo<br>Erupted volume: nan<br><br>References:<br>Sherburn et al. (2003)\", \"Newberry volcano<br>Erupted volume: nan<br><br>References:<br>(Achauer et al., 1988,\\u00a0Stauber et al., 1988)\", \"Medicine Lake<br>Erupted volume: nan<br><br>References:<br>(Evans and Zucca, 1988,\\u00a0Lees and Crosson, 1989,\\u00a0Ritter and Evans, 1997)\", \"Mt. St. Helens<br>Erupted volume: nan<br><br>References:<br>Lees (1992)\", \"Mt. Rainier<br>Erupted volume: nan<br><br>References:<br>(Lees and Crosson, 1990,\\u00a0Moran et al., 1999)\", null, \"Krafla<br>Erupted volume: nan<br><br>References:<br>(Einarsson, 1978,\\u00a0Foulger and Arnott, 1993)\", \"Hekla<br>Erupted volume: nan<br><br>References:<br>Soosalu and Einarsson (2004)\", \"Torfaj\\u00f6kull<br>Erupted volume: nan<br><br>References:<br>Soosalu and Einarsson (2004)\", \"Hengill\\u2013Grensdalur<br>Erupted volume: nan<br><br>References:<br>Toomey and Foulger (1989)\", \"Redoubt<br>Erupted volume: nan<br><br>References:<br>Benz et al. (1996)\", \"Unzen<br>Erupted volume: nan<br><br>References:<br>Ohmi and Lees (1995)\", \"Onikobe<br>Erupted volume: nan<br><br>References:<br>Nakajima and Hasegawa (2003)\", \"Kirishima<br>Erupted volume: nan<br><br>References:<br>Yamamoto and Ida (1994)\", \"Nikko-Shirane<br>Erupted volume: nan<br><br>References:<br>Horiuchi et al. (1997)\", \"Mt. Fuji<br>Erupted volume: nan<br><br>References:<br>Nakamichi (2005)\", \"Klyuchevskoy<br>Erupted volume: nan<br><br>References:<br>(Anosov et al., 1978,\\u00a0Ozerov, 2000)\", \"Halemaumau<br>Erupted volume: nan<br><br>References:<br>Rowan and Clayton (1993)\", \"Kilauea<br>Erupted volume: nan<br><br>References:<br>(Thurber, 1984,\\u00a0Rowan and Clayton, 1993,\\u00a0Okubo et al., 1997,\\u00a0Haslinger et al., 2001)\", \"Vesuvius<br>Erupted volume: nan<br><br>References:<br>(De Natale et al., 1998,\\u00a0Zollo et al., 1998)\", \"Campi Flegrei<br>Erupted volume: nan<br><br>References:<br>1988;\\u00a0Aster et al., 1992\", \"Mt. Etna<br>Erupted volume: nan<br><br>References:<br>(Cardaci et al., 1993,\\u00a0Villasenor et al., 1998,\\u00a0Laigle and Hirn, 1999,\\u00a0Chiarabba et al., 2000,\\u00a0Aloisi et al., 2002)\", null, \"Pinatubo<br>Erupted volume: nan<br><br>References:<br>Mori et al. (1996)\", \"Nevado del Ruiz<br>Erupted volume: nan<br><br>References:<br>Londo\\u00f1o and Sudo (2003)\", \"Tungurahua<br>Erupted volume: nan<br><br>References:<br>Molina et al. (2005)\", \"Gran Canaria<br>Erupted volume: nan<br><br>References:<br>Krastel and Schmincke (2002)\"], \"type\": \"scattergeo\"}],\n                        {\"height\": 500, \"template\": {\"data\": {\"bar\": [{\"error_x\": {\"color\": \"#2a3f5f\"}, \"error_y\": {\"color\": \"#2a3f5f\"}, \"marker\": {\"line\": {\"color\": \"#E5ECF6\", \"width\": 0.5}}, \"type\": \"bar\"}], \"barpolar\": [{\"marker\": {\"line\": {\"color\": \"#E5ECF6\", \"width\": 0.5}}, \"type\": \"barpolar\"}], \"carpet\": [{\"aaxis\": {\"endlinecolor\": \"#2a3f5f\", \"gridcolor\": \"white\", \"linecolor\": \"white\", \"minorgridcolor\": \"white\", \"startlinecolor\": \"#2a3f5f\"}, \"baxis\": {\"endlinecolor\": \"#2a3f5f\", \"gridcolor\": \"white\", \"linecolor\": \"white\", \"minorgridcolor\": \"white\", \"startlinecolor\": \"#2a3f5f\"}, \"type\": \"carpet\"}], \"choropleth\": [{\"colorbar\": {\"outlinewidth\": 0, \"ticks\": \"\"}, \"type\": \"choropleth\"}], \"contour\": [{\"colorbar\": {\"outlinewidth\": 0, \"ticks\": \"\"}, \"colorscale\": [[0.0, \"#0d0887\"], [0.1111111111111111, \"#46039f\"], [0.2222222222222222, \"#7201a8\"], [0.3333333333333333, \"#9c179e\"], [0.4444444444444444, \"#bd3786\"], [0.5555555555555556, \"#d8576b\"], [0.6666666666666666, \"#ed7953\"], [0.7777777777777778, \"#fb9f3a\"], [0.8888888888888888, \"#fdca26\"], [1.0, \"#f0f921\"]], \"type\": \"contour\"}], \"contourcarpet\": [{\"colorbar\": {\"outlinewidth\": 0, \"ticks\": \"\"}, \"type\": \"contourcarpet\"}], \"heatmap\": [{\"colorbar\": {\"outlinewidth\": 0, \"ticks\": \"\"}, \"colorscale\": [[0.0, \"#0d0887\"], [0.1111111111111111, \"#46039f\"], [0.2222222222222222, \"#7201a8\"], [0.3333333333333333, \"#9c179e\"], [0.4444444444444444, \"#bd3786\"], [0.5555555555555556, \"#d8576b\"], [0.6666666666666666, \"#ed7953\"], [0.7777777777777778, \"#fb9f3a\"], [0.8888888888888888, \"#fdca26\"], [1.0, \"#f0f921\"]], \"type\": \"heatmap\"}], \"heatmapgl\": [{\"colorbar\": {\"outlinewidth\": 0, \"ticks\": \"\"}, \"colorscale\": [[0.0, \"#0d0887\"], [0.1111111111111111, \"#46039f\"], [0.2222222222222222, \"#7201a8\"], [0.3333333333333333, \"#9c179e\"], [0.4444444444444444, \"#bd3786\"], [0.5555555555555556, \"#d8576b\"], [0.6666666666666666, \"#ed7953\"], [0.7777777777777778, \"#fb9f3a\"], [0.8888888888888888, \"#fdca26\"], [1.0, \"#f0f921\"]], \"type\": \"heatmapgl\"}], \"histogram\": [{\"marker\": {\"colorbar\": {\"outlinewidth\": 0, \"ticks\": \"\"}}, \"type\": \"histogram\"}], \"histogram2d\": [{\"colorbar\": {\"outlinewidth\": 0, \"ticks\": \"\"}, \"colorscale\": [[0.0, \"#0d0887\"], [0.1111111111111111, \"#46039f\"], [0.2222222222222222, \"#7201a8\"], [0.3333333333333333, \"#9c179e\"], [0.4444444444444444, \"#bd3786\"], [0.5555555555555556, \"#d8576b\"], [0.6666666666666666, \"#ed7953\"], [0.7777777777777778, \"#fb9f3a\"], [0.8888888888888888, \"#fdca26\"], [1.0, \"#f0f921\"]], \"type\": \"histogram2d\"}], \"histogram2dcontour\": [{\"colorbar\": {\"outlinewidth\": 0, \"ticks\": \"\"}, \"colorscale\": [[0.0, \"#0d0887\"], [0.1111111111111111, \"#46039f\"], [0.2222222222222222, \"#7201a8\"], [0.3333333333333333, \"#9c179e\"], [0.4444444444444444, \"#bd3786\"], [0.5555555555555556, \"#d8576b\"], [0.6666666666666666, \"#ed7953\"], [0.7777777777777778, \"#fb9f3a\"], [0.8888888888888888, \"#fdca26\"], [1.0, \"#f0f921\"]], \"type\": \"histogram2dcontour\"}], \"mesh3d\": [{\"colorbar\": {\"outlinewidth\": 0, \"ticks\": \"\"}, \"type\": \"mesh3d\"}], \"parcoords\": [{\"line\": {\"colorbar\": {\"outlinewidth\": 0, \"ticks\": \"\"}}, \"type\": \"parcoords\"}], \"pie\": [{\"automargin\": true, \"type\": \"pie\"}], \"scatter\": [{\"marker\": {\"colorbar\": {\"outlinewidth\": 0, \"ticks\": \"\"}}, \"type\": \"scatter\"}], \"scatter3d\": [{\"line\": {\"colorbar\": {\"outlinewidth\": 0, \"ticks\": \"\"}}, \"marker\": {\"colorbar\": {\"outlinewidth\": 0, \"ticks\": \"\"}}, \"type\": \"scatter3d\"}], \"scattercarpet\": [{\"marker\": {\"colorbar\": {\"outlinewidth\": 0, \"ticks\": \"\"}}, \"type\": \"scattercarpet\"}], \"scattergeo\": [{\"marker\": {\"colorbar\": {\"outlinewidth\": 0, \"ticks\": \"\"}}, \"type\": \"scattergeo\"}], \"scattergl\": [{\"marker\": {\"colorbar\": {\"outlinewidth\": 0, \"ticks\": \"\"}}, \"type\": \"scattergl\"}], \"scattermapbox\": [{\"marker\": {\"colorbar\": {\"outlinewidth\": 0, \"ticks\": \"\"}}, \"type\": \"scattermapbox\"}], \"scatterpolar\": [{\"marker\": {\"colorbar\": {\"outlinewidth\": 0, \"ticks\": \"\"}}, \"type\": \"scatterpolar\"}], \"scatterpolargl\": [{\"marker\": {\"colorbar\": {\"outlinewidth\": 0, \"ticks\": \"\"}}, \"type\": \"scatterpolargl\"}], \"scatterternary\": [{\"marker\": {\"colorbar\": {\"outlinewidth\": 0, \"ticks\": \"\"}}, \"type\": \"scatterternary\"}], \"surface\": [{\"colorbar\": {\"outlinewidth\": 0, \"ticks\": \"\"}, \"colorscale\": [[0.0, \"#0d0887\"], [0.1111111111111111, \"#46039f\"], [0.2222222222222222, \"#7201a8\"], [0.3333333333333333, \"#9c179e\"], [0.4444444444444444, \"#bd3786\"], [0.5555555555555556, \"#d8576b\"], [0.6666666666666666, \"#ed7953\"], [0.7777777777777778, \"#fb9f3a\"], [0.8888888888888888, \"#fdca26\"], [1.0, \"#f0f921\"]], \"type\": \"surface\"}], \"table\": [{\"cells\": {\"fill\": {\"color\": \"#EBF0F8\"}, \"line\": {\"color\": \"white\"}}, \"header\": {\"fill\": {\"color\": \"#C8D4E3\"}, \"line\": {\"color\": \"white\"}}, \"type\": \"table\"}]}, \"layout\": {\"annotationdefaults\": {\"arrowcolor\": \"#2a3f5f\", \"arrowhead\": 0, \"arrowwidth\": 1}, \"coloraxis\": {\"colorbar\": {\"outlinewidth\": 0, \"ticks\": \"\"}}, \"colorscale\": {\"diverging\": [[0, \"#8e0152\"], [0.1, \"#c51b7d\"], [0.2, \"#de77ae\"], [0.3, \"#f1b6da\"], [0.4, \"#fde0ef\"], [0.5, \"#f7f7f7\"], [0.6, \"#e6f5d0\"], [0.7, \"#b8e186\"], [0.8, \"#7fbc41\"], [0.9, \"#4d9221\"], [1, \"#276419\"]], \"sequential\": [[0.0, \"#0d0887\"], [0.1111111111111111, \"#46039f\"], [0.2222222222222222, \"#7201a8\"], [0.3333333333333333, \"#9c179e\"], [0.4444444444444444, \"#bd3786\"], [0.5555555555555556, \"#d8576b\"], [0.6666666666666666, \"#ed7953\"], [0.7777777777777778, \"#fb9f3a\"], [0.8888888888888888, \"#fdca26\"], [1.0, \"#f0f921\"]], \"sequentialminus\": [[0.0, \"#0d0887\"], [0.1111111111111111, \"#46039f\"], [0.2222222222222222, \"#7201a8\"], [0.3333333333333333, \"#9c179e\"], [0.4444444444444444, \"#bd3786\"], [0.5555555555555556, \"#d8576b\"], [0.6666666666666666, \"#ed7953\"], [0.7777777777777778, \"#fb9f3a\"], [0.8888888888888888, \"#fdca26\"], [1.0, \"#f0f921\"]]}, \"colorway\": [\"#636efa\", \"#EF553B\", \"#00cc96\", \"#ab63fa\", \"#FFA15A\", \"#19d3f3\", \"#FF6692\", \"#B6E880\", \"#FF97FF\", \"#FECB52\"], \"font\": {\"color\": \"#2a3f5f\"}, \"geo\": {\"bgcolor\": \"white\", \"lakecolor\": \"white\", \"landcolor\": \"#E5ECF6\", \"showlakes\": true, \"showland\": true, \"subunitcolor\": \"white\"}, \"hoverlabel\": {\"align\": \"left\"}, \"hovermode\": \"closest\", \"mapbox\": {\"style\": \"light\"}, \"paper_bgcolor\": \"white\", \"plot_bgcolor\": \"#E5ECF6\", \"polar\": {\"angularaxis\": {\"gridcolor\": \"white\", \"linecolor\": \"white\", \"ticks\": \"\"}, \"bgcolor\": \"#E5ECF6\", \"radialaxis\": {\"gridcolor\": \"white\", \"linecolor\": \"white\", \"ticks\": \"\"}}, \"scene\": {\"xaxis\": {\"backgroundcolor\": \"#E5ECF6\", \"gridcolor\": \"white\", \"gridwidth\": 2, \"linecolor\": \"white\", \"showbackground\": true, \"ticks\": \"\", \"zerolinecolor\": \"white\"}, \"yaxis\": {\"backgroundcolor\": \"#E5ECF6\", \"gridcolor\": \"white\", \"gridwidth\": 2, \"linecolor\": \"white\", \"showbackground\": true, \"ticks\": \"\", \"zerolinecolor\": \"white\"}, \"zaxis\": {\"backgroundcolor\": \"#E5ECF6\", \"gridcolor\": \"white\", \"gridwidth\": 2, \"linecolor\": \"white\", \"showbackground\": true, \"ticks\": \"\", \"zerolinecolor\": \"white\"}}, \"shapedefaults\": {\"line\": {\"color\": \"#2a3f5f\"}}, \"ternary\": {\"aaxis\": {\"gridcolor\": \"white\", \"linecolor\": \"white\", \"ticks\": \"\"}, \"baxis\": {\"gridcolor\": \"white\", \"linecolor\": \"white\", \"ticks\": \"\"}, \"bgcolor\": \"#E5ECF6\", \"caxis\": {\"gridcolor\": \"white\", \"linecolor\": \"white\", \"ticks\": \"\"}}, \"title\": {\"x\": 0.05}, \"xaxis\": {\"automargin\": true, \"gridcolor\": \"white\", \"linecolor\": \"white\", \"ticks\": \"\", \"title\": {\"standoff\": 15}, \"zerolinecolor\": \"white\", \"zerolinewidth\": 2}, \"yaxis\": {\"automargin\": true, \"gridcolor\": \"white\", \"linecolor\": \"white\", \"ticks\": \"\", \"title\": {\"standoff\": 15}, \"zerolinecolor\": \"white\", \"zerolinewidth\": 2}}}, \"width\": 800},\n                        {\"responsive\": true}\n                    ).then(function(){\n                            \nvar gd = document.getElementById('a02a2624-08d2-4589-beb1-875c4dfc5f53');\nvar x = new MutationObserver(function (mutations, observer) {{\n        var display = window.getComputedStyle(gd).display;\n        if (!display || display === 'none') {{\n            console.log([gd, 'removed!']);\n            Plotly.purge(gd);\n            observer.disconnect();\n        }}\n}});\n\n// Listen for the removal of the full notebook cells\nvar notebookContainer = gd.closest('#notebook-container');\nif (notebookContainer) {{\n    x.observe(notebookContainer, {childList: true});\n}}\n\n// Listen for the clearing of the current output cell\nvar outputEl = gd.closest('.output');\nif (outputEl) {{\n    x.observe(outputEl, {childList: true});\n}}\n\n                        })\n                };\n                });\n            </script>\n        </div>"
         },
         "metadata": {},
         "output_type": "display_data"
        }
       ]
      }
     },
     "412ef2c688094a49b19e19125153049b": {
      "model_module": "@jupyter-widgets/controls",
      "model_module_version": "1.5.0",
      "model_name": "DescriptionStyleModel",
      "state": {
       "description_width": ""
      }
     },
     "413e3f7c98744b97bbd85e8d32f35202": {
      "model_module": "@jupyter-widgets/controls",
      "model_module_version": "1.5.0",
      "model_name": "DropdownModel",
      "state": {
       "_options_labels": [
        "Erupted volume",
        "Anomaly volume"
       ],
       "description": "key",
       "index": 0,
       "layout": "IPY_MODEL_e5aa92bea49445bc98c6154cf0061c31",
       "style": "IPY_MODEL_01987df41fc74429881f3269bd9d8291"
      }
     },
     "41b8fde8ee314bfaab9fe7a11f47e1a4": {
      "model_module": "@jupyter-widgets/controls",
      "model_module_version": "1.5.0",
      "model_name": "DescriptionStyleModel",
      "state": {
       "description_width": ""
      }
     },
     "44ca5327ce9a4d5e9d1c82c06ac81284": {
      "model_module": "@jupyter-widgets/base",
      "model_module_version": "1.2.0",
      "model_name": "LayoutModel",
      "state": {}
     },
     "4509a35de3e64d6795f9ddfaae6d7c27": {
      "model_module": "@jupyter-widgets/base",
      "model_module_version": "1.2.0",
      "model_name": "LayoutModel",
      "state": {}
     },
     "477b8839cc1b43958e09747e3f196a72": {
      "model_module": "@jupyter-widgets/output",
      "model_module_version": "1.0.0",
      "model_name": "OutputModel",
      "state": {
       "layout": "IPY_MODEL_ab82e19614244551939c88fd7c669a82",
       "outputs": [
        {
         "data": {
          "application/vnd.plotly.v1+json": {
           "config": {
            "plotlyServerURL": "https://plot.ly"
           },
           "data": [
            {
             "lat": [
              16.72,
              16.72,
              36.404,
              36.404,
              32.884,
              32.884,
              32.884,
              2.58,
              2.58,
              2.58,
              2.58,
              44.43,
              44.43,
              44.43,
              44.43,
              44.43,
              44.43,
              37.7166666666667,
              37.7166666666667,
              35.9,
              -38.82,
              43.722,
              41.611,
              46.2,
              46.853,
              -22.2666666666667,
              65.715,
              63.983,
              63.892,
              64.083,
              60.485,
              32.761,
              38.83,
              31.934,
              36.7833333333333,
              35.361,
              56.056,
              19.421,
              19.421,
              40.821,
              40.827,
              37.748,
              38.789,
              15.13,
              4.892,
              -1.467,
              28
             ],
             "lon": [
              -62.18,
              -62.18,
              25.396,
              25.396,
              131.104,
              131.104,
              131.104,
              98.83,
              98.83,
              98.83,
              98.83,
              -110.67,
              -110.67,
              -110.67,
              -110.67,
              -110.67,
              -110.67,
              -118.883333333333,
              -118.883333333333,
              -106.533333333333,
              176,
              -121.229,
              -121.554,
              -122.18,
              121.76,
              -67.1666666666667,
              -16.728,
              -19.666,
              -19.122,
              -21.416,
              -152.742,
              130.299,
              140.7,
              130.862,
              139.366666666667,
              138.728,
              160.642,
              -155.287,
              -155.287,
              14.426,
              14.139,
              14.999,
              15.213,
              120.35,
              -75.324,
              -78.442,
              -15.58
             ],
             "marker": {
              "size": [
               215.44346900318837,
               215.44346900318837,
               464.15888336127784,
               464.15888336127784,
               843.4326653017491,
               843.4326653017491,
               843.4326653017491,
               1409.4597464129781,
               1409.4597464129781,
               1409.4597464129781,
               1409.4597464129781,
               1348.0997498879249,
               1348.0997498879249,
               1348.0997498879249,
               1348.0997498879249,
               1348.0997498879249,
               1348.0997498879249,
               100,
               100,
               100,
               100,
               100,
               100,
               100,
               100,
               100,
               100,
               100,
               100,
               100,
               100,
               100,
               100,
               100,
               100,
               100,
               100,
               100,
               100,
               100,
               100,
               100,
               100,
               100,
               100,
               100,
               100
              ],
              "sizemode": "area"
             },
             "text": [
              "Soufriere Hills Volcano<br>Erupted volume: 10.0<br>References:<br>Paulatto et al., 2012",
              "Soufriere Hills Volcano<br>Erupted volume: 10.0<br>References:<br>Paulatto et al., 2019",
              "Santorini<br>Erupted volume: 100.0<br>References:<br>McVey et al., 2019",
              null,
              "Aso Caldera<br>Erupted volume: 600.0<br>References:<br>Sudo & Kong, 2001",
              "Aso Caldera<br>Erupted volume: 600.0<br>References:<br>Huang et al., 2018",
              "Aso Caldera<br>Erupted volume: 600.0<br>References:<br>Abe et al., 2017",
              "Toba<br>Erupted volume: 2800.0<br>References:<br>Koulakov et al., 2009",
              "Toba<br>Erupted volume: 2800.0<br>References:<br>Mastruryono et al., 2001",
              "Toba<br>Erupted volume: 2800.0<br>References:<br>Jaxybulatov et al., 2014",
              "Toba<br>Erupted volume: 2800.0<br>References:<br>Stankiewicz et al., 2010",
              "Yellowstone<br>Erupted volume: 2450.0<br>References:<br>(Iyer et al., 1981, Benz and Smith, 1984, Clawson et al., 1989, Miller and Smith, 1999, Husen and Smith, 2004, Yuan and Dueker, 2005)",
              "Yellowstone<br>Erupted volume: 2450.0<br>References:<br>Chu et al., 2010",
              "Yellowstone<br>Erupted volume: 2450.0<br>References:<br>Farrell et al., 2014",
              "Yellowstone<br>Erupted volume: 2450.0<br>References:<br>Huang et al., 2015",
              "Yellowstone<br>Erupted volume: 2450.0<br>References:<br>Miller and Smith, 1999",
              "Yellowstone<br>Erupted volume: 2450.0<br>References:<br>Jiang, 2018",
              "Long Valley<br>Erupted volume: nan<br>References:<br>(Peppin, 1985, Dawson et al., 1987, Hauksson, 1988, Dawson et al., 1990, Sanders, 1993a, Sanders, 1993b, Sanders et al., 1994, Steck, 1995, Sanders et al., 1995, Weiland et al., 1995, O'Doherty et al., 1997)",
              "Long Valley<br>Erupted volume: nan<br>References:<br>Jiang, 2018",
              "Valles<br>Erupted volume: nan<br>References:<br>Lutter et al. (1995)",
              "Taupo<br>Erupted volume: nan<br>References:<br>Sherburn et al. (2003)",
              "Newberry volcano<br>Erupted volume: nan<br>References:<br>(Achauer et al., 1988, Stauber et al., 1988)",
              "Medicine Lake<br>Erupted volume: nan<br>References:<br>(Evans and Zucca, 1988, Lees and Crosson, 1989, Ritter and Evans, 1997)",
              "Mt. St. Helens<br>Erupted volume: nan<br>References:<br>Lees (1992)",
              "Mt. Rainier<br>Erupted volume: nan<br>References:<br>(Lees and Crosson, 1990, Moran et al., 1999)",
              null,
              "Krafla<br>Erupted volume: nan<br>References:<br>(Einarsson, 1978, Foulger and Arnott, 1993)",
              "Hekla<br>Erupted volume: nan<br>References:<br>Soosalu and Einarsson (2004)",
              "Torfajökull<br>Erupted volume: nan<br>References:<br>Soosalu and Einarsson (2004)",
              "Hengill–Grensdalur<br>Erupted volume: nan<br>References:<br>Toomey and Foulger (1989)",
              "Redoubt<br>Erupted volume: nan<br>References:<br>Benz et al. (1996)",
              "Unzen<br>Erupted volume: nan<br>References:<br>Ohmi and Lees (1995)",
              "Onikobe<br>Erupted volume: nan<br>References:<br>Nakajima and Hasegawa (2003)",
              "Kirishima<br>Erupted volume: nan<br>References:<br>Yamamoto and Ida (1994)",
              "Nikko-Shirane<br>Erupted volume: nan<br>References:<br>Horiuchi et al. (1997)",
              "Mt. Fuji<br>Erupted volume: nan<br>References:<br>Nakamichi (2005)",
              "Klyuchevskoy<br>Erupted volume: nan<br>References:<br>(Anosov et al., 1978, Ozerov, 2000)",
              "Halemaumau<br>Erupted volume: nan<br>References:<br>Rowan and Clayton (1993)",
              "Kilauea<br>Erupted volume: nan<br>References:<br>(Thurber, 1984, Rowan and Clayton, 1993, Okubo et al., 1997, Haslinger et al., 2001)",
              "Vesuvius<br>Erupted volume: nan<br>References:<br>(De Natale et al., 1998, Zollo et al., 1998)",
              "Campi Flegrei<br>Erupted volume: nan<br>References:<br>1988; Aster et al., 1992",
              "Mt. Etna<br>Erupted volume: nan<br>References:<br>(Cardaci et al., 1993, Villasenor et al., 1998, Laigle and Hirn, 1999, Chiarabba et al., 2000, Aloisi et al., 2002)",
              null,
              "Pinatubo<br>Erupted volume: nan<br>References:<br>Mori et al. (1996)",
              "Nevado del Ruiz<br>Erupted volume: nan<br>References:<br>Londoño and Sudo (2003)",
              "Tungurahua<br>Erupted volume: nan<br>References:<br>Molina et al. (2005)",
              "Gran Canaria<br>Erupted volume: nan<br>References:<br>Krastel and Schmincke (2002)"
             ],
             "type": "scattergeo"
            }
           ],
           "layout": {
            "template": {
             "data": {
              "bar": [
               {
                "error_x": {
                 "color": "#2a3f5f"
                },
                "error_y": {
                 "color": "#2a3f5f"
                },
                "marker": {
                 "line": {
                  "color": "#E5ECF6",
                  "width": 0.5
                 }
                },
                "type": "bar"
               }
              ],
              "barpolar": [
               {
                "marker": {
                 "line": {
                  "color": "#E5ECF6",
                  "width": 0.5
                 }
                },
                "type": "barpolar"
               }
              ],
              "carpet": [
               {
                "aaxis": {
                 "endlinecolor": "#2a3f5f",
                 "gridcolor": "white",
                 "linecolor": "white",
                 "minorgridcolor": "white",
                 "startlinecolor": "#2a3f5f"
                },
                "baxis": {
                 "endlinecolor": "#2a3f5f",
                 "gridcolor": "white",
                 "linecolor": "white",
                 "minorgridcolor": "white",
                 "startlinecolor": "#2a3f5f"
                },
                "type": "carpet"
               }
              ],
              "choropleth": [
               {
                "colorbar": {
                 "outlinewidth": 0,
                 "ticks": ""
                },
                "type": "choropleth"
               }
              ],
              "contour": [
               {
                "colorbar": {
                 "outlinewidth": 0,
                 "ticks": ""
                },
                "colorscale": [
                 [
                  0,
                  "#0d0887"
                 ],
                 [
                  0.1111111111111111,
                  "#46039f"
                 ],
                 [
                  0.2222222222222222,
                  "#7201a8"
                 ],
                 [
                  0.3333333333333333,
                  "#9c179e"
                 ],
                 [
                  0.4444444444444444,
                  "#bd3786"
                 ],
                 [
                  0.5555555555555556,
                  "#d8576b"
                 ],
                 [
                  0.6666666666666666,
                  "#ed7953"
                 ],
                 [
                  0.7777777777777778,
                  "#fb9f3a"
                 ],
                 [
                  0.8888888888888888,
                  "#fdca26"
                 ],
                 [
                  1,
                  "#f0f921"
                 ]
                ],
                "type": "contour"
               }
              ],
              "contourcarpet": [
               {
                "colorbar": {
                 "outlinewidth": 0,
                 "ticks": ""
                },
                "type": "contourcarpet"
               }
              ],
              "heatmap": [
               {
                "colorbar": {
                 "outlinewidth": 0,
                 "ticks": ""
                },
                "colorscale": [
                 [
                  0,
                  "#0d0887"
                 ],
                 [
                  0.1111111111111111,
                  "#46039f"
                 ],
                 [
                  0.2222222222222222,
                  "#7201a8"
                 ],
                 [
                  0.3333333333333333,
                  "#9c179e"
                 ],
                 [
                  0.4444444444444444,
                  "#bd3786"
                 ],
                 [
                  0.5555555555555556,
                  "#d8576b"
                 ],
                 [
                  0.6666666666666666,
                  "#ed7953"
                 ],
                 [
                  0.7777777777777778,
                  "#fb9f3a"
                 ],
                 [
                  0.8888888888888888,
                  "#fdca26"
                 ],
                 [
                  1,
                  "#f0f921"
                 ]
                ],
                "type": "heatmap"
               }
              ],
              "heatmapgl": [
               {
                "colorbar": {
                 "outlinewidth": 0,
                 "ticks": ""
                },
                "colorscale": [
                 [
                  0,
                  "#0d0887"
                 ],
                 [
                  0.1111111111111111,
                  "#46039f"
                 ],
                 [
                  0.2222222222222222,
                  "#7201a8"
                 ],
                 [
                  0.3333333333333333,
                  "#9c179e"
                 ],
                 [
                  0.4444444444444444,
                  "#bd3786"
                 ],
                 [
                  0.5555555555555556,
                  "#d8576b"
                 ],
                 [
                  0.6666666666666666,
                  "#ed7953"
                 ],
                 [
                  0.7777777777777778,
                  "#fb9f3a"
                 ],
                 [
                  0.8888888888888888,
                  "#fdca26"
                 ],
                 [
                  1,
                  "#f0f921"
                 ]
                ],
                "type": "heatmapgl"
               }
              ],
              "histogram": [
               {
                "marker": {
                 "colorbar": {
                  "outlinewidth": 0,
                  "ticks": ""
                 }
                },
                "type": "histogram"
               }
              ],
              "histogram2d": [
               {
                "colorbar": {
                 "outlinewidth": 0,
                 "ticks": ""
                },
                "colorscale": [
                 [
                  0,
                  "#0d0887"
                 ],
                 [
                  0.1111111111111111,
                  "#46039f"
                 ],
                 [
                  0.2222222222222222,
                  "#7201a8"
                 ],
                 [
                  0.3333333333333333,
                  "#9c179e"
                 ],
                 [
                  0.4444444444444444,
                  "#bd3786"
                 ],
                 [
                  0.5555555555555556,
                  "#d8576b"
                 ],
                 [
                  0.6666666666666666,
                  "#ed7953"
                 ],
                 [
                  0.7777777777777778,
                  "#fb9f3a"
                 ],
                 [
                  0.8888888888888888,
                  "#fdca26"
                 ],
                 [
                  1,
                  "#f0f921"
                 ]
                ],
                "type": "histogram2d"
               }
              ],
              "histogram2dcontour": [
               {
                "colorbar": {
                 "outlinewidth": 0,
                 "ticks": ""
                },
                "colorscale": [
                 [
                  0,
                  "#0d0887"
                 ],
                 [
                  0.1111111111111111,
                  "#46039f"
                 ],
                 [
                  0.2222222222222222,
                  "#7201a8"
                 ],
                 [
                  0.3333333333333333,
                  "#9c179e"
                 ],
                 [
                  0.4444444444444444,
                  "#bd3786"
                 ],
                 [
                  0.5555555555555556,
                  "#d8576b"
                 ],
                 [
                  0.6666666666666666,
                  "#ed7953"
                 ],
                 [
                  0.7777777777777778,
                  "#fb9f3a"
                 ],
                 [
                  0.8888888888888888,
                  "#fdca26"
                 ],
                 [
                  1,
                  "#f0f921"
                 ]
                ],
                "type": "histogram2dcontour"
               }
              ],
              "mesh3d": [
               {
                "colorbar": {
                 "outlinewidth": 0,
                 "ticks": ""
                },
                "type": "mesh3d"
               }
              ],
              "parcoords": [
               {
                "line": {
                 "colorbar": {
                  "outlinewidth": 0,
                  "ticks": ""
                 }
                },
                "type": "parcoords"
               }
              ],
              "pie": [
               {
                "automargin": true,
                "type": "pie"
               }
              ],
              "scatter": [
               {
                "marker": {
                 "colorbar": {
                  "outlinewidth": 0,
                  "ticks": ""
                 }
                },
                "type": "scatter"
               }
              ],
              "scatter3d": [
               {
                "line": {
                 "colorbar": {
                  "outlinewidth": 0,
                  "ticks": ""
                 }
                },
                "marker": {
                 "colorbar": {
                  "outlinewidth": 0,
                  "ticks": ""
                 }
                },
                "type": "scatter3d"
               }
              ],
              "scattercarpet": [
               {
                "marker": {
                 "colorbar": {
                  "outlinewidth": 0,
                  "ticks": ""
                 }
                },
                "type": "scattercarpet"
               }
              ],
              "scattergeo": [
               {
                "marker": {
                 "colorbar": {
                  "outlinewidth": 0,
                  "ticks": ""
                 }
                },
                "type": "scattergeo"
               }
              ],
              "scattergl": [
               {
                "marker": {
                 "colorbar": {
                  "outlinewidth": 0,
                  "ticks": ""
                 }
                },
                "type": "scattergl"
               }
              ],
              "scattermapbox": [
               {
                "marker": {
                 "colorbar": {
                  "outlinewidth": 0,
                  "ticks": ""
                 }
                },
                "type": "scattermapbox"
               }
              ],
              "scatterpolar": [
               {
                "marker": {
                 "colorbar": {
                  "outlinewidth": 0,
                  "ticks": ""
                 }
                },
                "type": "scatterpolar"
               }
              ],
              "scatterpolargl": [
               {
                "marker": {
                 "colorbar": {
                  "outlinewidth": 0,
                  "ticks": ""
                 }
                },
                "type": "scatterpolargl"
               }
              ],
              "scatterternary": [
               {
                "marker": {
                 "colorbar": {
                  "outlinewidth": 0,
                  "ticks": ""
                 }
                },
                "type": "scatterternary"
               }
              ],
              "surface": [
               {
                "colorbar": {
                 "outlinewidth": 0,
                 "ticks": ""
                },
                "colorscale": [
                 [
                  0,
                  "#0d0887"
                 ],
                 [
                  0.1111111111111111,
                  "#46039f"
                 ],
                 [
                  0.2222222222222222,
                  "#7201a8"
                 ],
                 [
                  0.3333333333333333,
                  "#9c179e"
                 ],
                 [
                  0.4444444444444444,
                  "#bd3786"
                 ],
                 [
                  0.5555555555555556,
                  "#d8576b"
                 ],
                 [
                  0.6666666666666666,
                  "#ed7953"
                 ],
                 [
                  0.7777777777777778,
                  "#fb9f3a"
                 ],
                 [
                  0.8888888888888888,
                  "#fdca26"
                 ],
                 [
                  1,
                  "#f0f921"
                 ]
                ],
                "type": "surface"
               }
              ],
              "table": [
               {
                "cells": {
                 "fill": {
                  "color": "#EBF0F8"
                 },
                 "line": {
                  "color": "white"
                 }
                },
                "header": {
                 "fill": {
                  "color": "#C8D4E3"
                 },
                 "line": {
                  "color": "white"
                 }
                },
                "type": "table"
               }
              ]
             },
             "layout": {
              "annotationdefaults": {
               "arrowcolor": "#2a3f5f",
               "arrowhead": 0,
               "arrowwidth": 1
              },
              "coloraxis": {
               "colorbar": {
                "outlinewidth": 0,
                "ticks": ""
               }
              },
              "colorscale": {
               "diverging": [
                [
                 0,
                 "#8e0152"
                ],
                [
                 0.1,
                 "#c51b7d"
                ],
                [
                 0.2,
                 "#de77ae"
                ],
                [
                 0.3,
                 "#f1b6da"
                ],
                [
                 0.4,
                 "#fde0ef"
                ],
                [
                 0.5,
                 "#f7f7f7"
                ],
                [
                 0.6,
                 "#e6f5d0"
                ],
                [
                 0.7,
                 "#b8e186"
                ],
                [
                 0.8,
                 "#7fbc41"
                ],
                [
                 0.9,
                 "#4d9221"
                ],
                [
                 1,
                 "#276419"
                ]
               ],
               "sequential": [
                [
                 0,
                 "#0d0887"
                ],
                [
                 0.1111111111111111,
                 "#46039f"
                ],
                [
                 0.2222222222222222,
                 "#7201a8"
                ],
                [
                 0.3333333333333333,
                 "#9c179e"
                ],
                [
                 0.4444444444444444,
                 "#bd3786"
                ],
                [
                 0.5555555555555556,
                 "#d8576b"
                ],
                [
                 0.6666666666666666,
                 "#ed7953"
                ],
                [
                 0.7777777777777778,
                 "#fb9f3a"
                ],
                [
                 0.8888888888888888,
                 "#fdca26"
                ],
                [
                 1,
                 "#f0f921"
                ]
               ],
               "sequentialminus": [
                [
                 0,
                 "#0d0887"
                ],
                [
                 0.1111111111111111,
                 "#46039f"
                ],
                [
                 0.2222222222222222,
                 "#7201a8"
                ],
                [
                 0.3333333333333333,
                 "#9c179e"
                ],
                [
                 0.4444444444444444,
                 "#bd3786"
                ],
                [
                 0.5555555555555556,
                 "#d8576b"
                ],
                [
                 0.6666666666666666,
                 "#ed7953"
                ],
                [
                 0.7777777777777778,
                 "#fb9f3a"
                ],
                [
                 0.8888888888888888,
                 "#fdca26"
                ],
                [
                 1,
                 "#f0f921"
                ]
               ]
              },
              "colorway": [
               "#636efa",
               "#EF553B",
               "#00cc96",
               "#ab63fa",
               "#FFA15A",
               "#19d3f3",
               "#FF6692",
               "#B6E880",
               "#FF97FF",
               "#FECB52"
              ],
              "font": {
               "color": "#2a3f5f"
              },
              "geo": {
               "bgcolor": "white",
               "lakecolor": "white",
               "landcolor": "#E5ECF6",
               "showlakes": true,
               "showland": true,
               "subunitcolor": "white"
              },
              "hoverlabel": {
               "align": "left"
              },
              "hovermode": "closest",
              "mapbox": {
               "style": "light"
              },
              "paper_bgcolor": "white",
              "plot_bgcolor": "#E5ECF6",
              "polar": {
               "angularaxis": {
                "gridcolor": "white",
                "linecolor": "white",
                "ticks": ""
               },
               "bgcolor": "#E5ECF6",
               "radialaxis": {
                "gridcolor": "white",
                "linecolor": "white",
                "ticks": ""
               }
              },
              "scene": {
               "xaxis": {
                "backgroundcolor": "#E5ECF6",
                "gridcolor": "white",
                "gridwidth": 2,
                "linecolor": "white",
                "showbackground": true,
                "ticks": "",
                "zerolinecolor": "white"
               },
               "yaxis": {
                "backgroundcolor": "#E5ECF6",
                "gridcolor": "white",
                "gridwidth": 2,
                "linecolor": "white",
                "showbackground": true,
                "ticks": "",
                "zerolinecolor": "white"
               },
               "zaxis": {
                "backgroundcolor": "#E5ECF6",
                "gridcolor": "white",
                "gridwidth": 2,
                "linecolor": "white",
                "showbackground": true,
                "ticks": "",
                "zerolinecolor": "white"
               }
              },
              "shapedefaults": {
               "line": {
                "color": "#2a3f5f"
               }
              },
              "ternary": {
               "aaxis": {
                "gridcolor": "white",
                "linecolor": "white",
                "ticks": ""
               },
               "baxis": {
                "gridcolor": "white",
                "linecolor": "white",
                "ticks": ""
               },
               "bgcolor": "#E5ECF6",
               "caxis": {
                "gridcolor": "white",
                "linecolor": "white",
                "ticks": ""
               }
              },
              "title": {
               "x": 0.05
              },
              "xaxis": {
               "automargin": true,
               "gridcolor": "white",
               "linecolor": "white",
               "ticks": "",
               "title": {
                "standoff": 15
               },
               "zerolinecolor": "white",
               "zerolinewidth": 2
              },
              "yaxis": {
               "automargin": true,
               "gridcolor": "white",
               "linecolor": "white",
               "ticks": "",
               "title": {
                "standoff": 15
               },
               "zerolinecolor": "white",
               "zerolinewidth": 2
              }
             }
            }
           }
          },
          "text/html": "<div>\n        \n        \n            <div id=\"fedad364-478f-430b-abfa-858024168f02\" class=\"plotly-graph-div\" style=\"height:525px; width:100%;\"></div>\n            <script type=\"text/javascript\">\n                require([\"plotly\"], function(Plotly) {\n                    window.PLOTLYENV=window.PLOTLYENV || {};\n                    \n                if (document.getElementById(\"fedad364-478f-430b-abfa-858024168f02\")) {\n                    Plotly.newPlot(\n                        'fedad364-478f-430b-abfa-858024168f02',\n                        [{\"lat\": [16.72, 16.72, 36.404, 36.404, 32.884, 32.884, 32.884, 2.58, 2.58, 2.58, 2.58, 44.43, 44.43, 44.43, 44.43, 44.43, 44.43, 37.7166666666667, 37.7166666666667, 35.9, -38.82, 43.722, 41.611, 46.2, 46.853, -22.2666666666667, 65.715, 63.983, 63.892, 64.083, 60.485, 32.761, 38.83, 31.934, 36.7833333333333, 35.361, 56.056, 19.421, 19.421, 40.821, 40.827, 37.748, 38.789, 15.13, 4.892, -1.467, 28.0], \"lon\": [-62.18, -62.18, 25.396, 25.396, 131.104, 131.104, 131.104, 98.83, 98.83, 98.83, 98.83, -110.67, -110.67, -110.67, -110.67, -110.67, -110.67, -118.883333333333, -118.883333333333, -106.533333333333, 176.0, -121.229, -121.554, -122.18, 121.76, -67.1666666666667, -16.728, -19.666, -19.122, -21.416, -152.742, 130.299, 140.7, 130.862, 139.366666666667, 138.728, 160.642, -155.287, -155.287, 14.426, 14.139, 14.999, 15.213, 120.35, -75.324, -78.442, -15.58], \"marker\": {\"size\": [215.44346900318837, 215.44346900318837, 464.15888336127784, 464.15888336127784, 843.4326653017491, 843.4326653017491, 843.4326653017491, 1409.4597464129781, 1409.4597464129781, 1409.4597464129781, 1409.4597464129781, 1348.0997498879249, 1348.0997498879249, 1348.0997498879249, 1348.0997498879249, 1348.0997498879249, 1348.0997498879249, 100.0, 100.0, 100.0, 100.0, 100.0, 100.0, 100.0, 100.0, 100.0, 100.0, 100.0, 100.0, 100.0, 100.0, 100.0, 100.0, 100.0, 100.0, 100.0, 100.0, 100.0, 100.0, 100.0, 100.0, 100.0, 100.0, 100.0, 100.0, 100.0, 100.0], \"sizemode\": \"area\"}, \"text\": [\"Soufriere Hills Volcano<br>Erupted volume: 10.0<br>References:<br>Paulatto et al., 2012\", \"Soufriere Hills Volcano<br>Erupted volume: 10.0<br>References:<br>Paulatto et al., 2019\", \"Santorini<br>Erupted volume: 100.0<br>References:<br>McVey et al., 2019\", null, \"Aso Caldera<br>Erupted volume: 600.0<br>References:<br>Sudo & Kong, 2001\", \"Aso Caldera<br>Erupted volume: 600.0<br>References:<br>Huang et al., 2018\", \"Aso Caldera<br>Erupted volume: 600.0<br>References:<br>Abe et al., 2017\", \"Toba<br>Erupted volume: 2800.0<br>References:<br>Koulakov et al., 2009\", \"Toba<br>Erupted volume: 2800.0<br>References:<br>Mastruryono et al., 2001\", \"Toba<br>Erupted volume: 2800.0<br>References:<br>Jaxybulatov et al., 2014\", \"Toba<br>Erupted volume: 2800.0<br>References:<br>Stankiewicz et al., 2010\", \"Yellowstone<br>Erupted volume: 2450.0<br>References:<br>(Iyer et al., 1981,\\u00a0Benz and Smith, 1984,\\u00a0Clawson et al., 1989,\\u00a0Miller and Smith, 1999,\\u00a0Husen and Smith, 2004,\\u00a0Yuan and Dueker, 2005)\", \"Yellowstone<br>Erupted volume: 2450.0<br>References:<br>Chu et al., 2010\", \"Yellowstone<br>Erupted volume: 2450.0<br>References:<br>Farrell et al., 2014\", \"Yellowstone<br>Erupted volume: 2450.0<br>References:<br>Huang et al., 2015\", \"Yellowstone<br>Erupted volume: 2450.0<br>References:<br>Miller and Smith, 1999\", \"Yellowstone<br>Erupted volume: 2450.0<br>References:<br>Jiang, 2018\", \"Long Valley<br>Erupted volume: nan<br>References:<br>(Peppin, 1985,\\u00a0Dawson et al., 1987,\\u00a0Hauksson, 1988,\\u00a0Dawson et al., 1990,\\u00a0Sanders, 1993a,\\u00a0Sanders, 1993b,\\u00a0Sanders et al., 1994,\\u00a0Steck, 1995,\\u00a0Sanders et al., 1995,\\u00a0Weiland et al., 1995,\\u00a0O'Doherty et al., 1997)\", \"Long Valley<br>Erupted volume: nan<br>References:<br>Jiang, 2018\", \"Valles<br>Erupted volume: nan<br>References:<br>Lutter et al. (1995)\", \"Taupo<br>Erupted volume: nan<br>References:<br>Sherburn et al. (2003)\", \"Newberry volcano<br>Erupted volume: nan<br>References:<br>(Achauer et al., 1988,\\u00a0Stauber et al., 1988)\", \"Medicine Lake<br>Erupted volume: nan<br>References:<br>(Evans and Zucca, 1988,\\u00a0Lees and Crosson, 1989,\\u00a0Ritter and Evans, 1997)\", \"Mt. St. Helens<br>Erupted volume: nan<br>References:<br>Lees (1992)\", \"Mt. Rainier<br>Erupted volume: nan<br>References:<br>(Lees and Crosson, 1990,\\u00a0Moran et al., 1999)\", null, \"Krafla<br>Erupted volume: nan<br>References:<br>(Einarsson, 1978,\\u00a0Foulger and Arnott, 1993)\", \"Hekla<br>Erupted volume: nan<br>References:<br>Soosalu and Einarsson (2004)\", \"Torfaj\\u00f6kull<br>Erupted volume: nan<br>References:<br>Soosalu and Einarsson (2004)\", \"Hengill\\u2013Grensdalur<br>Erupted volume: nan<br>References:<br>Toomey and Foulger (1989)\", \"Redoubt<br>Erupted volume: nan<br>References:<br>Benz et al. (1996)\", \"Unzen<br>Erupted volume: nan<br>References:<br>Ohmi and Lees (1995)\", \"Onikobe<br>Erupted volume: nan<br>References:<br>Nakajima and Hasegawa (2003)\", \"Kirishima<br>Erupted volume: nan<br>References:<br>Yamamoto and Ida (1994)\", \"Nikko-Shirane<br>Erupted volume: nan<br>References:<br>Horiuchi et al. (1997)\", \"Mt. Fuji<br>Erupted volume: nan<br>References:<br>Nakamichi (2005)\", \"Klyuchevskoy<br>Erupted volume: nan<br>References:<br>(Anosov et al., 1978,\\u00a0Ozerov, 2000)\", \"Halemaumau<br>Erupted volume: nan<br>References:<br>Rowan and Clayton (1993)\", \"Kilauea<br>Erupted volume: nan<br>References:<br>(Thurber, 1984,\\u00a0Rowan and Clayton, 1993,\\u00a0Okubo et al., 1997,\\u00a0Haslinger et al., 2001)\", \"Vesuvius<br>Erupted volume: nan<br>References:<br>(De Natale et al., 1998,\\u00a0Zollo et al., 1998)\", \"Campi Flegrei<br>Erupted volume: nan<br>References:<br>1988;\\u00a0Aster et al., 1992\", \"Mt. Etna<br>Erupted volume: nan<br>References:<br>(Cardaci et al., 1993,\\u00a0Villasenor et al., 1998,\\u00a0Laigle and Hirn, 1999,\\u00a0Chiarabba et al., 2000,\\u00a0Aloisi et al., 2002)\", null, \"Pinatubo<br>Erupted volume: nan<br>References:<br>Mori et al. (1996)\", \"Nevado del Ruiz<br>Erupted volume: nan<br>References:<br>Londo\\u00f1o and Sudo (2003)\", \"Tungurahua<br>Erupted volume: nan<br>References:<br>Molina et al. (2005)\", \"Gran Canaria<br>Erupted volume: nan<br>References:<br>Krastel and Schmincke (2002)\"], \"type\": \"scattergeo\"}],\n                        {\"template\": {\"data\": {\"bar\": [{\"error_x\": {\"color\": \"#2a3f5f\"}, \"error_y\": {\"color\": \"#2a3f5f\"}, \"marker\": {\"line\": {\"color\": \"#E5ECF6\", \"width\": 0.5}}, \"type\": \"bar\"}], \"barpolar\": [{\"marker\": {\"line\": {\"color\": \"#E5ECF6\", \"width\": 0.5}}, \"type\": \"barpolar\"}], \"carpet\": [{\"aaxis\": {\"endlinecolor\": \"#2a3f5f\", \"gridcolor\": \"white\", \"linecolor\": \"white\", \"minorgridcolor\": \"white\", \"startlinecolor\": \"#2a3f5f\"}, \"baxis\": {\"endlinecolor\": \"#2a3f5f\", \"gridcolor\": \"white\", \"linecolor\": \"white\", \"minorgridcolor\": \"white\", \"startlinecolor\": \"#2a3f5f\"}, \"type\": \"carpet\"}], \"choropleth\": [{\"colorbar\": {\"outlinewidth\": 0, \"ticks\": \"\"}, \"type\": \"choropleth\"}], \"contour\": [{\"colorbar\": {\"outlinewidth\": 0, \"ticks\": \"\"}, \"colorscale\": [[0.0, \"#0d0887\"], [0.1111111111111111, \"#46039f\"], [0.2222222222222222, \"#7201a8\"], [0.3333333333333333, \"#9c179e\"], [0.4444444444444444, \"#bd3786\"], [0.5555555555555556, \"#d8576b\"], [0.6666666666666666, \"#ed7953\"], [0.7777777777777778, \"#fb9f3a\"], [0.8888888888888888, \"#fdca26\"], [1.0, \"#f0f921\"]], \"type\": \"contour\"}], \"contourcarpet\": [{\"colorbar\": {\"outlinewidth\": 0, \"ticks\": \"\"}, \"type\": \"contourcarpet\"}], \"heatmap\": [{\"colorbar\": {\"outlinewidth\": 0, \"ticks\": \"\"}, \"colorscale\": [[0.0, \"#0d0887\"], [0.1111111111111111, \"#46039f\"], [0.2222222222222222, \"#7201a8\"], [0.3333333333333333, \"#9c179e\"], [0.4444444444444444, \"#bd3786\"], [0.5555555555555556, \"#d8576b\"], [0.6666666666666666, \"#ed7953\"], [0.7777777777777778, \"#fb9f3a\"], [0.8888888888888888, \"#fdca26\"], [1.0, \"#f0f921\"]], \"type\": \"heatmap\"}], \"heatmapgl\": [{\"colorbar\": {\"outlinewidth\": 0, \"ticks\": \"\"}, \"colorscale\": [[0.0, \"#0d0887\"], [0.1111111111111111, \"#46039f\"], [0.2222222222222222, \"#7201a8\"], [0.3333333333333333, \"#9c179e\"], [0.4444444444444444, \"#bd3786\"], [0.5555555555555556, \"#d8576b\"], [0.6666666666666666, \"#ed7953\"], [0.7777777777777778, \"#fb9f3a\"], [0.8888888888888888, \"#fdca26\"], [1.0, \"#f0f921\"]], \"type\": \"heatmapgl\"}], \"histogram\": [{\"marker\": {\"colorbar\": {\"outlinewidth\": 0, \"ticks\": \"\"}}, \"type\": \"histogram\"}], \"histogram2d\": [{\"colorbar\": {\"outlinewidth\": 0, \"ticks\": \"\"}, \"colorscale\": [[0.0, \"#0d0887\"], [0.1111111111111111, \"#46039f\"], [0.2222222222222222, \"#7201a8\"], [0.3333333333333333, \"#9c179e\"], [0.4444444444444444, \"#bd3786\"], [0.5555555555555556, \"#d8576b\"], [0.6666666666666666, \"#ed7953\"], [0.7777777777777778, \"#fb9f3a\"], [0.8888888888888888, \"#fdca26\"], [1.0, \"#f0f921\"]], \"type\": \"histogram2d\"}], \"histogram2dcontour\": [{\"colorbar\": {\"outlinewidth\": 0, \"ticks\": \"\"}, \"colorscale\": [[0.0, \"#0d0887\"], [0.1111111111111111, \"#46039f\"], [0.2222222222222222, \"#7201a8\"], [0.3333333333333333, \"#9c179e\"], [0.4444444444444444, \"#bd3786\"], [0.5555555555555556, \"#d8576b\"], [0.6666666666666666, \"#ed7953\"], [0.7777777777777778, \"#fb9f3a\"], [0.8888888888888888, \"#fdca26\"], [1.0, \"#f0f921\"]], \"type\": \"histogram2dcontour\"}], \"mesh3d\": [{\"colorbar\": {\"outlinewidth\": 0, \"ticks\": \"\"}, \"type\": \"mesh3d\"}], \"parcoords\": [{\"line\": {\"colorbar\": {\"outlinewidth\": 0, \"ticks\": \"\"}}, \"type\": \"parcoords\"}], \"pie\": [{\"automargin\": true, \"type\": \"pie\"}], \"scatter\": [{\"marker\": {\"colorbar\": {\"outlinewidth\": 0, \"ticks\": \"\"}}, \"type\": \"scatter\"}], \"scatter3d\": [{\"line\": {\"colorbar\": {\"outlinewidth\": 0, \"ticks\": \"\"}}, \"marker\": {\"colorbar\": {\"outlinewidth\": 0, \"ticks\": \"\"}}, \"type\": \"scatter3d\"}], \"scattercarpet\": [{\"marker\": {\"colorbar\": {\"outlinewidth\": 0, \"ticks\": \"\"}}, \"type\": \"scattercarpet\"}], \"scattergeo\": [{\"marker\": {\"colorbar\": {\"outlinewidth\": 0, \"ticks\": \"\"}}, \"type\": \"scattergeo\"}], \"scattergl\": [{\"marker\": {\"colorbar\": {\"outlinewidth\": 0, \"ticks\": \"\"}}, \"type\": \"scattergl\"}], \"scattermapbox\": [{\"marker\": {\"colorbar\": {\"outlinewidth\": 0, \"ticks\": \"\"}}, \"type\": \"scattermapbox\"}], \"scatterpolar\": [{\"marker\": {\"colorbar\": {\"outlinewidth\": 0, \"ticks\": \"\"}}, \"type\": \"scatterpolar\"}], \"scatterpolargl\": [{\"marker\": {\"colorbar\": {\"outlinewidth\": 0, \"ticks\": \"\"}}, \"type\": \"scatterpolargl\"}], \"scatterternary\": [{\"marker\": {\"colorbar\": {\"outlinewidth\": 0, \"ticks\": \"\"}}, \"type\": \"scatterternary\"}], \"surface\": [{\"colorbar\": {\"outlinewidth\": 0, \"ticks\": \"\"}, \"colorscale\": [[0.0, \"#0d0887\"], [0.1111111111111111, \"#46039f\"], [0.2222222222222222, \"#7201a8\"], [0.3333333333333333, \"#9c179e\"], [0.4444444444444444, \"#bd3786\"], [0.5555555555555556, \"#d8576b\"], [0.6666666666666666, \"#ed7953\"], [0.7777777777777778, \"#fb9f3a\"], [0.8888888888888888, \"#fdca26\"], [1.0, \"#f0f921\"]], \"type\": \"surface\"}], \"table\": [{\"cells\": {\"fill\": {\"color\": \"#EBF0F8\"}, \"line\": {\"color\": \"white\"}}, \"header\": {\"fill\": {\"color\": \"#C8D4E3\"}, \"line\": {\"color\": \"white\"}}, \"type\": \"table\"}]}, \"layout\": {\"annotationdefaults\": {\"arrowcolor\": \"#2a3f5f\", \"arrowhead\": 0, \"arrowwidth\": 1}, \"coloraxis\": {\"colorbar\": {\"outlinewidth\": 0, \"ticks\": \"\"}}, \"colorscale\": {\"diverging\": [[0, \"#8e0152\"], [0.1, \"#c51b7d\"], [0.2, \"#de77ae\"], [0.3, \"#f1b6da\"], [0.4, \"#fde0ef\"], [0.5, \"#f7f7f7\"], [0.6, \"#e6f5d0\"], [0.7, \"#b8e186\"], [0.8, \"#7fbc41\"], [0.9, \"#4d9221\"], [1, \"#276419\"]], \"sequential\": [[0.0, \"#0d0887\"], [0.1111111111111111, \"#46039f\"], [0.2222222222222222, \"#7201a8\"], [0.3333333333333333, \"#9c179e\"], [0.4444444444444444, \"#bd3786\"], [0.5555555555555556, \"#d8576b\"], [0.6666666666666666, \"#ed7953\"], [0.7777777777777778, \"#fb9f3a\"], [0.8888888888888888, \"#fdca26\"], [1.0, \"#f0f921\"]], \"sequentialminus\": [[0.0, \"#0d0887\"], [0.1111111111111111, \"#46039f\"], [0.2222222222222222, \"#7201a8\"], [0.3333333333333333, \"#9c179e\"], [0.4444444444444444, \"#bd3786\"], [0.5555555555555556, \"#d8576b\"], [0.6666666666666666, \"#ed7953\"], [0.7777777777777778, \"#fb9f3a\"], [0.8888888888888888, \"#fdca26\"], [1.0, \"#f0f921\"]]}, \"colorway\": [\"#636efa\", \"#EF553B\", \"#00cc96\", \"#ab63fa\", \"#FFA15A\", \"#19d3f3\", \"#FF6692\", \"#B6E880\", \"#FF97FF\", \"#FECB52\"], \"font\": {\"color\": \"#2a3f5f\"}, \"geo\": {\"bgcolor\": \"white\", \"lakecolor\": \"white\", \"landcolor\": \"#E5ECF6\", \"showlakes\": true, \"showland\": true, \"subunitcolor\": \"white\"}, \"hoverlabel\": {\"align\": \"left\"}, \"hovermode\": \"closest\", \"mapbox\": {\"style\": \"light\"}, \"paper_bgcolor\": \"white\", \"plot_bgcolor\": \"#E5ECF6\", \"polar\": {\"angularaxis\": {\"gridcolor\": \"white\", \"linecolor\": \"white\", \"ticks\": \"\"}, \"bgcolor\": \"#E5ECF6\", \"radialaxis\": {\"gridcolor\": \"white\", \"linecolor\": \"white\", \"ticks\": \"\"}}, \"scene\": {\"xaxis\": {\"backgroundcolor\": \"#E5ECF6\", \"gridcolor\": \"white\", \"gridwidth\": 2, \"linecolor\": \"white\", \"showbackground\": true, \"ticks\": \"\", \"zerolinecolor\": \"white\"}, \"yaxis\": {\"backgroundcolor\": \"#E5ECF6\", \"gridcolor\": \"white\", \"gridwidth\": 2, \"linecolor\": \"white\", \"showbackground\": true, \"ticks\": \"\", \"zerolinecolor\": \"white\"}, \"zaxis\": {\"backgroundcolor\": \"#E5ECF6\", \"gridcolor\": \"white\", \"gridwidth\": 2, \"linecolor\": \"white\", \"showbackground\": true, \"ticks\": \"\", \"zerolinecolor\": \"white\"}}, \"shapedefaults\": {\"line\": {\"color\": \"#2a3f5f\"}}, \"ternary\": {\"aaxis\": {\"gridcolor\": \"white\", \"linecolor\": \"white\", \"ticks\": \"\"}, \"baxis\": {\"gridcolor\": \"white\", \"linecolor\": \"white\", \"ticks\": \"\"}, \"bgcolor\": \"#E5ECF6\", \"caxis\": {\"gridcolor\": \"white\", \"linecolor\": \"white\", \"ticks\": \"\"}}, \"title\": {\"x\": 0.05}, \"xaxis\": {\"automargin\": true, \"gridcolor\": \"white\", \"linecolor\": \"white\", \"ticks\": \"\", \"title\": {\"standoff\": 15}, \"zerolinecolor\": \"white\", \"zerolinewidth\": 2}, \"yaxis\": {\"automargin\": true, \"gridcolor\": \"white\", \"linecolor\": \"white\", \"ticks\": \"\", \"title\": {\"standoff\": 15}, \"zerolinecolor\": \"white\", \"zerolinewidth\": 2}}}},\n                        {\"responsive\": true}\n                    ).then(function(){\n                            \nvar gd = document.getElementById('fedad364-478f-430b-abfa-858024168f02');\nvar x = new MutationObserver(function (mutations, observer) {{\n        var display = window.getComputedStyle(gd).display;\n        if (!display || display === 'none') {{\n            console.log([gd, 'removed!']);\n            Plotly.purge(gd);\n            observer.disconnect();\n        }}\n}});\n\n// Listen for the removal of the full notebook cells\nvar notebookContainer = gd.closest('#notebook-container');\nif (notebookContainer) {{\n    x.observe(notebookContainer, {childList: true});\n}}\n\n// Listen for the clearing of the current output cell\nvar outputEl = gd.closest('.output');\nif (outputEl) {{\n    x.observe(outputEl, {childList: true});\n}}\n\n                        })\n                };\n                });\n            </script>\n        </div>"
         },
         "metadata": {},
         "output_type": "display_data"
        }
       ]
      }
     },
     "49024e6df05d44198e27f5eb710596bb": {
      "model_module": "@jupyter-widgets/controls",
      "model_module_version": "1.5.0",
      "model_name": "DropdownModel",
      "state": {
       "_options_labels": [
        "Erupted volume",
        "Anomaly volume"
       ],
       "description": "key",
       "index": 0,
       "layout": "IPY_MODEL_1c2a2d3cf2a444aabcfc0f3c80505b6b",
       "style": "IPY_MODEL_931ca2a2469e4b14a59954526c07bfe3"
      }
     },
     "4aebbadb3cf54cdeaac554be56ebb7c8": {
      "model_module": "@jupyter-widgets/base",
      "model_module_version": "1.2.0",
      "model_name": "LayoutModel",
      "state": {}
     },
     "4d21389273af44c9a5728f274df7e8f3": {
      "model_module": "@jupyter-widgets/controls",
      "model_module_version": "1.5.0",
      "model_name": "DropdownModel",
      "state": {
       "_options_labels": [
        "Erupted volume"
       ],
       "description": "key",
       "index": 0,
       "layout": "IPY_MODEL_94f0b32d054043048f3d70d5c8001b4a",
       "style": "IPY_MODEL_412ef2c688094a49b19e19125153049b"
      }
     },
     "521d0655930b4655a0020bb6a2c074d0": {
      "model_module": "@jupyter-widgets/controls",
      "model_module_version": "1.5.0",
      "model_name": "DropdownModel",
      "state": {
       "_options_labels": [
        "Erupted volume",
        "Anomaly volume"
       ],
       "description": "key",
       "index": 0,
       "layout": "IPY_MODEL_f4c4b3d8721e4e598bee676a7ac248e5",
       "style": "IPY_MODEL_bbbe9a0703854865a70870fb8e4f003c"
      }
     },
     "536923e4796a4e9b85a960ef08b7d700": {
      "model_module": "@jupyter-widgets/base",
      "model_module_version": "1.2.0",
      "model_name": "LayoutModel",
      "state": {}
     },
     "536cae324a934828b89ff397e6603f5e": {
      "model_module": "@jupyter-widgets/base",
      "model_module_version": "1.2.0",
      "model_name": "LayoutModel",
      "state": {}
     },
     "5709a75e3fdc407e8b18e73686b6c3e4": {
      "model_module": "@jupyter-widgets/base",
      "model_module_version": "1.2.0",
      "model_name": "LayoutModel",
      "state": {}
     },
     "575a60c094da402c8c214b0fdccfc525": {
      "model_module": "@jupyter-widgets/base",
      "model_module_version": "1.2.0",
      "model_name": "LayoutModel",
      "state": {}
     },
     "5992cec4a4e34dd1ba25dc29580cf2b6": {
      "model_module": "@jupyter-widgets/output",
      "model_module_version": "1.0.0",
      "model_name": "OutputModel",
      "state": {
       "layout": "IPY_MODEL_c7fe3cedf5ec491bad1b1082955b492a",
       "outputs": [
        {
         "data": {
          "application/vnd.plotly.v1+json": {
           "config": {
            "plotlyServerURL": "https://plot.ly"
           },
           "data": [
            {
             "lat": [
              16.72,
              16.72,
              36.404,
              36.404,
              32.884,
              32.884,
              32.884,
              2.58,
              2.58,
              2.58,
              2.58,
              44.43,
              44.43,
              44.43,
              44.43,
              44.43,
              44.43,
              37.7166666666667,
              37.7166666666667,
              35.9,
              -38.82,
              43.722,
              41.611,
              46.2,
              46.853,
              -22.2666666666667,
              65.715,
              63.983,
              63.892,
              64.083,
              60.485,
              32.761,
              38.83,
              31.934,
              36.7833333333333,
              35.361,
              56.056,
              19.421,
              19.421,
              40.821,
              40.827,
              37.748,
              38.789,
              15.13,
              4.892,
              -1.467,
              28
             ],
             "lon": [
              -62.18,
              -62.18,
              25.396,
              25.396,
              131.104,
              131.104,
              131.104,
              98.83,
              98.83,
              98.83,
              98.83,
              -110.67,
              -110.67,
              -110.67,
              -110.67,
              -110.67,
              -110.67,
              -118.883333333333,
              -118.883333333333,
              -106.533333333333,
              176,
              -121.229,
              -121.554,
              -122.18,
              -121.76,
              -67.1666666666667,
              -16.728,
              -19.666,
              -19.122,
              -21.416,
              -152.742,
              130.299,
              140.7,
              130.862,
              139.366666666667,
              138.728,
              160.642,
              -155.287,
              -155.287,
              14.426,
              14.139,
              14.999,
              15.213,
              120.35,
              -75.324,
              -78.442,
              -15.58
             ],
             "marker": {
              "size": [
               215.44346900318837,
               215.44346900318837,
               464.15888336127784,
               464.15888336127784,
               843.4326653017491,
               843.4326653017491,
               843.4326653017491,
               1409.4597464129781,
               1409.4597464129781,
               1409.4597464129781,
               1409.4597464129781,
               1348.0997498879249,
               1348.0997498879249,
               1348.0997498879249,
               1348.0997498879249,
               1348.0997498879249,
               1348.0997498879249,
               100,
               100,
               100,
               100,
               100,
               100,
               100,
               100,
               100,
               100,
               100,
               100,
               100,
               100,
               100,
               100,
               100,
               100,
               100,
               100,
               100,
               100,
               100,
               100,
               100,
               100,
               100,
               100,
               100,
               100
              ],
              "sizemode": "area"
             },
             "text": [
              "Soufriere Hills Volcano<br>Erupted volume: 10.0<br><br>References:<br>Paulatto et al., 2012",
              "Soufriere Hills Volcano<br>Erupted volume: 10.0<br><br>References:<br>Paulatto et al., 2019",
              "Santorini<br>Erupted volume: 100.0<br><br>References:<br>McVey et al., 2019",
              null,
              "Aso Caldera<br>Erupted volume: 600.0<br><br>References:<br>Sudo & Kong, 2001",
              "Aso Caldera<br>Erupted volume: 600.0<br><br>References:<br>Huang et al., 2018",
              "Aso Caldera<br>Erupted volume: 600.0<br><br>References:<br>Abe et al., 2017",
              "Toba<br>Erupted volume: 2800.0<br><br>References:<br>Koulakov et al., 2009",
              "Toba<br>Erupted volume: 2800.0<br><br>References:<br>Mastruryono et al., 2001",
              "Toba<br>Erupted volume: 2800.0<br><br>References:<br>Jaxybulatov et al., 2014",
              "Toba<br>Erupted volume: 2800.0<br><br>References:<br>Stankiewicz et al., 2010",
              "Yellowstone<br>Erupted volume: 2450.0<br><br>References:<br>(Iyer et al., 1981, Benz and Smith, 1984, Clawson et al., 1989, Miller and Smith, 1999, Husen and Smith, 2004, Yuan and Dueker, 2005)",
              "Yellowstone<br>Erupted volume: 2450.0<br><br>References:<br>Chu et al., 2010",
              "Yellowstone<br>Erupted volume: 2450.0<br><br>References:<br>Farrell et al., 2014",
              "Yellowstone<br>Erupted volume: 2450.0<br><br>References:<br>Huang et al., 2015",
              "Yellowstone<br>Erupted volume: 2450.0<br><br>References:<br>Miller and Smith, 1999",
              "Yellowstone<br>Erupted volume: 2450.0<br><br>References:<br>Jiang, 2018",
              "Long Valley<br>Erupted volume: nan<br><br>References:<br>(Peppin, 1985, Dawson et al., 1987, Hauksson, 1988, Dawson et al., 1990, Sanders, 1993a, Sanders, 1993b, Sanders et al., 1994, Steck, 1995, Sanders et al., 1995, Weiland et al., 1995, O'Doherty et al., 1997)",
              "Long Valley<br>Erupted volume: nan<br><br>References:<br>Jiang, 2018",
              "Valles<br>Erupted volume: nan<br><br>References:<br>Lutter et al. (1995)",
              "Taupo<br>Erupted volume: nan<br><br>References:<br>Sherburn et al. (2003)",
              "Newberry volcano<br>Erupted volume: nan<br><br>References:<br>(Achauer et al., 1988, Stauber et al., 1988)",
              "Medicine Lake<br>Erupted volume: nan<br><br>References:<br>(Evans and Zucca, 1988, Lees and Crosson, 1989, Ritter and Evans, 1997)",
              "Mt. St. Helens<br>Erupted volume: nan<br><br>References:<br>Lees (1992)",
              "Mt. Rainier<br>Erupted volume: nan<br><br>References:<br>(Lees and Crosson, 1990, Moran et al., 1999)",
              null,
              "Krafla<br>Erupted volume: nan<br><br>References:<br>(Einarsson, 1978, Foulger and Arnott, 1993)",
              "Hekla<br>Erupted volume: nan<br><br>References:<br>Soosalu and Einarsson (2004)",
              "Torfajökull<br>Erupted volume: nan<br><br>References:<br>Soosalu and Einarsson (2004)",
              "Hengill–Grensdalur<br>Erupted volume: nan<br><br>References:<br>Toomey and Foulger (1989)",
              "Redoubt<br>Erupted volume: nan<br><br>References:<br>Benz et al. (1996)",
              "Unzen<br>Erupted volume: nan<br><br>References:<br>Ohmi and Lees (1995)",
              "Onikobe<br>Erupted volume: nan<br><br>References:<br>Nakajima and Hasegawa (2003)",
              "Kirishima<br>Erupted volume: nan<br><br>References:<br>Yamamoto and Ida (1994)",
              "Nikko-Shirane<br>Erupted volume: nan<br><br>References:<br>Horiuchi et al. (1997)",
              "Mt. Fuji<br>Erupted volume: nan<br><br>References:<br>Nakamichi (2005)",
              "Klyuchevskoy<br>Erupted volume: nan<br><br>References:<br>(Anosov et al., 1978, Ozerov, 2000)",
              "Halemaumau<br>Erupted volume: nan<br><br>References:<br>Rowan and Clayton (1993)",
              "Kilauea<br>Erupted volume: nan<br><br>References:<br>(Thurber, 1984, Rowan and Clayton, 1993, Okubo et al., 1997, Haslinger et al., 2001)",
              "Vesuvius<br>Erupted volume: nan<br><br>References:<br>(De Natale et al., 1998, Zollo et al., 1998)",
              "Campi Flegrei<br>Erupted volume: nan<br><br>References:<br>1988; Aster et al., 1992",
              "Mt. Etna<br>Erupted volume: nan<br><br>References:<br>(Cardaci et al., 1993, Villasenor et al., 1998, Laigle and Hirn, 1999, Chiarabba et al., 2000, Aloisi et al., 2002)",
              null,
              "Pinatubo<br>Erupted volume: nan<br><br>References:<br>Mori et al. (1996)",
              "Nevado del Ruiz<br>Erupted volume: nan<br><br>References:<br>Londoño and Sudo (2003)",
              "Tungurahua<br>Erupted volume: nan<br><br>References:<br>Molina et al. (2005)",
              "Gran Canaria<br>Erupted volume: nan<br><br>References:<br>Krastel and Schmincke (2002)"
             ],
             "type": "scattergeo"
            }
           ],
           "layout": {
            "template": {
             "data": {
              "bar": [
               {
                "error_x": {
                 "color": "#2a3f5f"
                },
                "error_y": {
                 "color": "#2a3f5f"
                },
                "marker": {
                 "line": {
                  "color": "#E5ECF6",
                  "width": 0.5
                 }
                },
                "type": "bar"
               }
              ],
              "barpolar": [
               {
                "marker": {
                 "line": {
                  "color": "#E5ECF6",
                  "width": 0.5
                 }
                },
                "type": "barpolar"
               }
              ],
              "carpet": [
               {
                "aaxis": {
                 "endlinecolor": "#2a3f5f",
                 "gridcolor": "white",
                 "linecolor": "white",
                 "minorgridcolor": "white",
                 "startlinecolor": "#2a3f5f"
                },
                "baxis": {
                 "endlinecolor": "#2a3f5f",
                 "gridcolor": "white",
                 "linecolor": "white",
                 "minorgridcolor": "white",
                 "startlinecolor": "#2a3f5f"
                },
                "type": "carpet"
               }
              ],
              "choropleth": [
               {
                "colorbar": {
                 "outlinewidth": 0,
                 "ticks": ""
                },
                "type": "choropleth"
               }
              ],
              "contour": [
               {
                "colorbar": {
                 "outlinewidth": 0,
                 "ticks": ""
                },
                "colorscale": [
                 [
                  0,
                  "#0d0887"
                 ],
                 [
                  0.1111111111111111,
                  "#46039f"
                 ],
                 [
                  0.2222222222222222,
                  "#7201a8"
                 ],
                 [
                  0.3333333333333333,
                  "#9c179e"
                 ],
                 [
                  0.4444444444444444,
                  "#bd3786"
                 ],
                 [
                  0.5555555555555556,
                  "#d8576b"
                 ],
                 [
                  0.6666666666666666,
                  "#ed7953"
                 ],
                 [
                  0.7777777777777778,
                  "#fb9f3a"
                 ],
                 [
                  0.8888888888888888,
                  "#fdca26"
                 ],
                 [
                  1,
                  "#f0f921"
                 ]
                ],
                "type": "contour"
               }
              ],
              "contourcarpet": [
               {
                "colorbar": {
                 "outlinewidth": 0,
                 "ticks": ""
                },
                "type": "contourcarpet"
               }
              ],
              "heatmap": [
               {
                "colorbar": {
                 "outlinewidth": 0,
                 "ticks": ""
                },
                "colorscale": [
                 [
                  0,
                  "#0d0887"
                 ],
                 [
                  0.1111111111111111,
                  "#46039f"
                 ],
                 [
                  0.2222222222222222,
                  "#7201a8"
                 ],
                 [
                  0.3333333333333333,
                  "#9c179e"
                 ],
                 [
                  0.4444444444444444,
                  "#bd3786"
                 ],
                 [
                  0.5555555555555556,
                  "#d8576b"
                 ],
                 [
                  0.6666666666666666,
                  "#ed7953"
                 ],
                 [
                  0.7777777777777778,
                  "#fb9f3a"
                 ],
                 [
                  0.8888888888888888,
                  "#fdca26"
                 ],
                 [
                  1,
                  "#f0f921"
                 ]
                ],
                "type": "heatmap"
               }
              ],
              "heatmapgl": [
               {
                "colorbar": {
                 "outlinewidth": 0,
                 "ticks": ""
                },
                "colorscale": [
                 [
                  0,
                  "#0d0887"
                 ],
                 [
                  0.1111111111111111,
                  "#46039f"
                 ],
                 [
                  0.2222222222222222,
                  "#7201a8"
                 ],
                 [
                  0.3333333333333333,
                  "#9c179e"
                 ],
                 [
                  0.4444444444444444,
                  "#bd3786"
                 ],
                 [
                  0.5555555555555556,
                  "#d8576b"
                 ],
                 [
                  0.6666666666666666,
                  "#ed7953"
                 ],
                 [
                  0.7777777777777778,
                  "#fb9f3a"
                 ],
                 [
                  0.8888888888888888,
                  "#fdca26"
                 ],
                 [
                  1,
                  "#f0f921"
                 ]
                ],
                "type": "heatmapgl"
               }
              ],
              "histogram": [
               {
                "marker": {
                 "colorbar": {
                  "outlinewidth": 0,
                  "ticks": ""
                 }
                },
                "type": "histogram"
               }
              ],
              "histogram2d": [
               {
                "colorbar": {
                 "outlinewidth": 0,
                 "ticks": ""
                },
                "colorscale": [
                 [
                  0,
                  "#0d0887"
                 ],
                 [
                  0.1111111111111111,
                  "#46039f"
                 ],
                 [
                  0.2222222222222222,
                  "#7201a8"
                 ],
                 [
                  0.3333333333333333,
                  "#9c179e"
                 ],
                 [
                  0.4444444444444444,
                  "#bd3786"
                 ],
                 [
                  0.5555555555555556,
                  "#d8576b"
                 ],
                 [
                  0.6666666666666666,
                  "#ed7953"
                 ],
                 [
                  0.7777777777777778,
                  "#fb9f3a"
                 ],
                 [
                  0.8888888888888888,
                  "#fdca26"
                 ],
                 [
                  1,
                  "#f0f921"
                 ]
                ],
                "type": "histogram2d"
               }
              ],
              "histogram2dcontour": [
               {
                "colorbar": {
                 "outlinewidth": 0,
                 "ticks": ""
                },
                "colorscale": [
                 [
                  0,
                  "#0d0887"
                 ],
                 [
                  0.1111111111111111,
                  "#46039f"
                 ],
                 [
                  0.2222222222222222,
                  "#7201a8"
                 ],
                 [
                  0.3333333333333333,
                  "#9c179e"
                 ],
                 [
                  0.4444444444444444,
                  "#bd3786"
                 ],
                 [
                  0.5555555555555556,
                  "#d8576b"
                 ],
                 [
                  0.6666666666666666,
                  "#ed7953"
                 ],
                 [
                  0.7777777777777778,
                  "#fb9f3a"
                 ],
                 [
                  0.8888888888888888,
                  "#fdca26"
                 ],
                 [
                  1,
                  "#f0f921"
                 ]
                ],
                "type": "histogram2dcontour"
               }
              ],
              "mesh3d": [
               {
                "colorbar": {
                 "outlinewidth": 0,
                 "ticks": ""
                },
                "type": "mesh3d"
               }
              ],
              "parcoords": [
               {
                "line": {
                 "colorbar": {
                  "outlinewidth": 0,
                  "ticks": ""
                 }
                },
                "type": "parcoords"
               }
              ],
              "pie": [
               {
                "automargin": true,
                "type": "pie"
               }
              ],
              "scatter": [
               {
                "marker": {
                 "colorbar": {
                  "outlinewidth": 0,
                  "ticks": ""
                 }
                },
                "type": "scatter"
               }
              ],
              "scatter3d": [
               {
                "line": {
                 "colorbar": {
                  "outlinewidth": 0,
                  "ticks": ""
                 }
                },
                "marker": {
                 "colorbar": {
                  "outlinewidth": 0,
                  "ticks": ""
                 }
                },
                "type": "scatter3d"
               }
              ],
              "scattercarpet": [
               {
                "marker": {
                 "colorbar": {
                  "outlinewidth": 0,
                  "ticks": ""
                 }
                },
                "type": "scattercarpet"
               }
              ],
              "scattergeo": [
               {
                "marker": {
                 "colorbar": {
                  "outlinewidth": 0,
                  "ticks": ""
                 }
                },
                "type": "scattergeo"
               }
              ],
              "scattergl": [
               {
                "marker": {
                 "colorbar": {
                  "outlinewidth": 0,
                  "ticks": ""
                 }
                },
                "type": "scattergl"
               }
              ],
              "scattermapbox": [
               {
                "marker": {
                 "colorbar": {
                  "outlinewidth": 0,
                  "ticks": ""
                 }
                },
                "type": "scattermapbox"
               }
              ],
              "scatterpolar": [
               {
                "marker": {
                 "colorbar": {
                  "outlinewidth": 0,
                  "ticks": ""
                 }
                },
                "type": "scatterpolar"
               }
              ],
              "scatterpolargl": [
               {
                "marker": {
                 "colorbar": {
                  "outlinewidth": 0,
                  "ticks": ""
                 }
                },
                "type": "scatterpolargl"
               }
              ],
              "scatterternary": [
               {
                "marker": {
                 "colorbar": {
                  "outlinewidth": 0,
                  "ticks": ""
                 }
                },
                "type": "scatterternary"
               }
              ],
              "surface": [
               {
                "colorbar": {
                 "outlinewidth": 0,
                 "ticks": ""
                },
                "colorscale": [
                 [
                  0,
                  "#0d0887"
                 ],
                 [
                  0.1111111111111111,
                  "#46039f"
                 ],
                 [
                  0.2222222222222222,
                  "#7201a8"
                 ],
                 [
                  0.3333333333333333,
                  "#9c179e"
                 ],
                 [
                  0.4444444444444444,
                  "#bd3786"
                 ],
                 [
                  0.5555555555555556,
                  "#d8576b"
                 ],
                 [
                  0.6666666666666666,
                  "#ed7953"
                 ],
                 [
                  0.7777777777777778,
                  "#fb9f3a"
                 ],
                 [
                  0.8888888888888888,
                  "#fdca26"
                 ],
                 [
                  1,
                  "#f0f921"
                 ]
                ],
                "type": "surface"
               }
              ],
              "table": [
               {
                "cells": {
                 "fill": {
                  "color": "#EBF0F8"
                 },
                 "line": {
                  "color": "white"
                 }
                },
                "header": {
                 "fill": {
                  "color": "#C8D4E3"
                 },
                 "line": {
                  "color": "white"
                 }
                },
                "type": "table"
               }
              ]
             },
             "layout": {
              "annotationdefaults": {
               "arrowcolor": "#2a3f5f",
               "arrowhead": 0,
               "arrowwidth": 1
              },
              "coloraxis": {
               "colorbar": {
                "outlinewidth": 0,
                "ticks": ""
               }
              },
              "colorscale": {
               "diverging": [
                [
                 0,
                 "#8e0152"
                ],
                [
                 0.1,
                 "#c51b7d"
                ],
                [
                 0.2,
                 "#de77ae"
                ],
                [
                 0.3,
                 "#f1b6da"
                ],
                [
                 0.4,
                 "#fde0ef"
                ],
                [
                 0.5,
                 "#f7f7f7"
                ],
                [
                 0.6,
                 "#e6f5d0"
                ],
                [
                 0.7,
                 "#b8e186"
                ],
                [
                 0.8,
                 "#7fbc41"
                ],
                [
                 0.9,
                 "#4d9221"
                ],
                [
                 1,
                 "#276419"
                ]
               ],
               "sequential": [
                [
                 0,
                 "#0d0887"
                ],
                [
                 0.1111111111111111,
                 "#46039f"
                ],
                [
                 0.2222222222222222,
                 "#7201a8"
                ],
                [
                 0.3333333333333333,
                 "#9c179e"
                ],
                [
                 0.4444444444444444,
                 "#bd3786"
                ],
                [
                 0.5555555555555556,
                 "#d8576b"
                ],
                [
                 0.6666666666666666,
                 "#ed7953"
                ],
                [
                 0.7777777777777778,
                 "#fb9f3a"
                ],
                [
                 0.8888888888888888,
                 "#fdca26"
                ],
                [
                 1,
                 "#f0f921"
                ]
               ],
               "sequentialminus": [
                [
                 0,
                 "#0d0887"
                ],
                [
                 0.1111111111111111,
                 "#46039f"
                ],
                [
                 0.2222222222222222,
                 "#7201a8"
                ],
                [
                 0.3333333333333333,
                 "#9c179e"
                ],
                [
                 0.4444444444444444,
                 "#bd3786"
                ],
                [
                 0.5555555555555556,
                 "#d8576b"
                ],
                [
                 0.6666666666666666,
                 "#ed7953"
                ],
                [
                 0.7777777777777778,
                 "#fb9f3a"
                ],
                [
                 0.8888888888888888,
                 "#fdca26"
                ],
                [
                 1,
                 "#f0f921"
                ]
               ]
              },
              "colorway": [
               "#636efa",
               "#EF553B",
               "#00cc96",
               "#ab63fa",
               "#FFA15A",
               "#19d3f3",
               "#FF6692",
               "#B6E880",
               "#FF97FF",
               "#FECB52"
              ],
              "font": {
               "color": "#2a3f5f"
              },
              "geo": {
               "bgcolor": "white",
               "lakecolor": "white",
               "landcolor": "#E5ECF6",
               "showlakes": true,
               "showland": true,
               "subunitcolor": "white"
              },
              "hoverlabel": {
               "align": "left"
              },
              "hovermode": "closest",
              "mapbox": {
               "style": "light"
              },
              "paper_bgcolor": "white",
              "plot_bgcolor": "#E5ECF6",
              "polar": {
               "angularaxis": {
                "gridcolor": "white",
                "linecolor": "white",
                "ticks": ""
               },
               "bgcolor": "#E5ECF6",
               "radialaxis": {
                "gridcolor": "white",
                "linecolor": "white",
                "ticks": ""
               }
              },
              "scene": {
               "xaxis": {
                "backgroundcolor": "#E5ECF6",
                "gridcolor": "white",
                "gridwidth": 2,
                "linecolor": "white",
                "showbackground": true,
                "ticks": "",
                "zerolinecolor": "white"
               },
               "yaxis": {
                "backgroundcolor": "#E5ECF6",
                "gridcolor": "white",
                "gridwidth": 2,
                "linecolor": "white",
                "showbackground": true,
                "ticks": "",
                "zerolinecolor": "white"
               },
               "zaxis": {
                "backgroundcolor": "#E5ECF6",
                "gridcolor": "white",
                "gridwidth": 2,
                "linecolor": "white",
                "showbackground": true,
                "ticks": "",
                "zerolinecolor": "white"
               }
              },
              "shapedefaults": {
               "line": {
                "color": "#2a3f5f"
               }
              },
              "ternary": {
               "aaxis": {
                "gridcolor": "white",
                "linecolor": "white",
                "ticks": ""
               },
               "baxis": {
                "gridcolor": "white",
                "linecolor": "white",
                "ticks": ""
               },
               "bgcolor": "#E5ECF6",
               "caxis": {
                "gridcolor": "white",
                "linecolor": "white",
                "ticks": ""
               }
              },
              "title": {
               "x": 0.05
              },
              "xaxis": {
               "automargin": true,
               "gridcolor": "white",
               "linecolor": "white",
               "ticks": "",
               "title": {
                "standoff": 15
               },
               "zerolinecolor": "white",
               "zerolinewidth": 2
              },
              "yaxis": {
               "automargin": true,
               "gridcolor": "white",
               "linecolor": "white",
               "ticks": "",
               "title": {
                "standoff": 15
               },
               "zerolinecolor": "white",
               "zerolinewidth": 2
              }
             }
            }
           }
          },
          "text/html": "<div>\n        \n        \n            <div id=\"efac686a-37c7-4deb-a2f8-057e1a180612\" class=\"plotly-graph-div\" style=\"height:525px; width:100%;\"></div>\n            <script type=\"text/javascript\">\n                require([\"plotly\"], function(Plotly) {\n                    window.PLOTLYENV=window.PLOTLYENV || {};\n                    \n                if (document.getElementById(\"efac686a-37c7-4deb-a2f8-057e1a180612\")) {\n                    Plotly.newPlot(\n                        'efac686a-37c7-4deb-a2f8-057e1a180612',\n                        [{\"lat\": [16.72, 16.72, 36.404, 36.404, 32.884, 32.884, 32.884, 2.58, 2.58, 2.58, 2.58, 44.43, 44.43, 44.43, 44.43, 44.43, 44.43, 37.7166666666667, 37.7166666666667, 35.9, -38.82, 43.722, 41.611, 46.2, 46.853, -22.2666666666667, 65.715, 63.983, 63.892, 64.083, 60.485, 32.761, 38.83, 31.934, 36.7833333333333, 35.361, 56.056, 19.421, 19.421, 40.821, 40.827, 37.748, 38.789, 15.13, 4.892, -1.467, 28.0], \"lon\": [-62.18, -62.18, 25.396, 25.396, 131.104, 131.104, 131.104, 98.83, 98.83, 98.83, 98.83, -110.67, -110.67, -110.67, -110.67, -110.67, -110.67, -118.883333333333, -118.883333333333, -106.533333333333, 176.0, -121.229, -121.554, -122.18, -121.76, -67.1666666666667, -16.728, -19.666, -19.122, -21.416, -152.742, 130.299, 140.7, 130.862, 139.366666666667, 138.728, 160.642, -155.287, -155.287, 14.426, 14.139, 14.999, 15.213, 120.35, -75.324, -78.442, -15.58], \"marker\": {\"size\": [215.44346900318837, 215.44346900318837, 464.15888336127784, 464.15888336127784, 843.4326653017491, 843.4326653017491, 843.4326653017491, 1409.4597464129781, 1409.4597464129781, 1409.4597464129781, 1409.4597464129781, 1348.0997498879249, 1348.0997498879249, 1348.0997498879249, 1348.0997498879249, 1348.0997498879249, 1348.0997498879249, 100.0, 100.0, 100.0, 100.0, 100.0, 100.0, 100.0, 100.0, 100.0, 100.0, 100.0, 100.0, 100.0, 100.0, 100.0, 100.0, 100.0, 100.0, 100.0, 100.0, 100.0, 100.0, 100.0, 100.0, 100.0, 100.0, 100.0, 100.0, 100.0, 100.0], \"sizemode\": \"area\"}, \"text\": [\"Soufriere Hills Volcano<br>Erupted volume: 10.0<br><br>References:<br>Paulatto et al., 2012\", \"Soufriere Hills Volcano<br>Erupted volume: 10.0<br><br>References:<br>Paulatto et al., 2019\", \"Santorini<br>Erupted volume: 100.0<br><br>References:<br>McVey et al., 2019\", null, \"Aso Caldera<br>Erupted volume: 600.0<br><br>References:<br>Sudo & Kong, 2001\", \"Aso Caldera<br>Erupted volume: 600.0<br><br>References:<br>Huang et al., 2018\", \"Aso Caldera<br>Erupted volume: 600.0<br><br>References:<br>Abe et al., 2017\", \"Toba<br>Erupted volume: 2800.0<br><br>References:<br>Koulakov et al., 2009\", \"Toba<br>Erupted volume: 2800.0<br><br>References:<br>Mastruryono et al., 2001\", \"Toba<br>Erupted volume: 2800.0<br><br>References:<br>Jaxybulatov et al., 2014\", \"Toba<br>Erupted volume: 2800.0<br><br>References:<br>Stankiewicz et al., 2010\", \"Yellowstone<br>Erupted volume: 2450.0<br><br>References:<br>(Iyer et al., 1981,\\u00a0Benz and Smith, 1984,\\u00a0Clawson et al., 1989,\\u00a0Miller and Smith, 1999,\\u00a0Husen and Smith, 2004,\\u00a0Yuan and Dueker, 2005)\", \"Yellowstone<br>Erupted volume: 2450.0<br><br>References:<br>Chu et al., 2010\", \"Yellowstone<br>Erupted volume: 2450.0<br><br>References:<br>Farrell et al., 2014\", \"Yellowstone<br>Erupted volume: 2450.0<br><br>References:<br>Huang et al., 2015\", \"Yellowstone<br>Erupted volume: 2450.0<br><br>References:<br>Miller and Smith, 1999\", \"Yellowstone<br>Erupted volume: 2450.0<br><br>References:<br>Jiang, 2018\", \"Long Valley<br>Erupted volume: nan<br><br>References:<br>(Peppin, 1985,\\u00a0Dawson et al., 1987,\\u00a0Hauksson, 1988,\\u00a0Dawson et al., 1990,\\u00a0Sanders, 1993a,\\u00a0Sanders, 1993b,\\u00a0Sanders et al., 1994,\\u00a0Steck, 1995,\\u00a0Sanders et al., 1995,\\u00a0Weiland et al., 1995,\\u00a0O'Doherty et al., 1997)\", \"Long Valley<br>Erupted volume: nan<br><br>References:<br>Jiang, 2018\", \"Valles<br>Erupted volume: nan<br><br>References:<br>Lutter et al. (1995)\", \"Taupo<br>Erupted volume: nan<br><br>References:<br>Sherburn et al. (2003)\", \"Newberry volcano<br>Erupted volume: nan<br><br>References:<br>(Achauer et al., 1988,\\u00a0Stauber et al., 1988)\", \"Medicine Lake<br>Erupted volume: nan<br><br>References:<br>(Evans and Zucca, 1988,\\u00a0Lees and Crosson, 1989,\\u00a0Ritter and Evans, 1997)\", \"Mt. St. Helens<br>Erupted volume: nan<br><br>References:<br>Lees (1992)\", \"Mt. Rainier<br>Erupted volume: nan<br><br>References:<br>(Lees and Crosson, 1990,\\u00a0Moran et al., 1999)\", null, \"Krafla<br>Erupted volume: nan<br><br>References:<br>(Einarsson, 1978,\\u00a0Foulger and Arnott, 1993)\", \"Hekla<br>Erupted volume: nan<br><br>References:<br>Soosalu and Einarsson (2004)\", \"Torfaj\\u00f6kull<br>Erupted volume: nan<br><br>References:<br>Soosalu and Einarsson (2004)\", \"Hengill\\u2013Grensdalur<br>Erupted volume: nan<br><br>References:<br>Toomey and Foulger (1989)\", \"Redoubt<br>Erupted volume: nan<br><br>References:<br>Benz et al. (1996)\", \"Unzen<br>Erupted volume: nan<br><br>References:<br>Ohmi and Lees (1995)\", \"Onikobe<br>Erupted volume: nan<br><br>References:<br>Nakajima and Hasegawa (2003)\", \"Kirishima<br>Erupted volume: nan<br><br>References:<br>Yamamoto and Ida (1994)\", \"Nikko-Shirane<br>Erupted volume: nan<br><br>References:<br>Horiuchi et al. (1997)\", \"Mt. Fuji<br>Erupted volume: nan<br><br>References:<br>Nakamichi (2005)\", \"Klyuchevskoy<br>Erupted volume: nan<br><br>References:<br>(Anosov et al., 1978,\\u00a0Ozerov, 2000)\", \"Halemaumau<br>Erupted volume: nan<br><br>References:<br>Rowan and Clayton (1993)\", \"Kilauea<br>Erupted volume: nan<br><br>References:<br>(Thurber, 1984,\\u00a0Rowan and Clayton, 1993,\\u00a0Okubo et al., 1997,\\u00a0Haslinger et al., 2001)\", \"Vesuvius<br>Erupted volume: nan<br><br>References:<br>(De Natale et al., 1998,\\u00a0Zollo et al., 1998)\", \"Campi Flegrei<br>Erupted volume: nan<br><br>References:<br>1988;\\u00a0Aster et al., 1992\", \"Mt. Etna<br>Erupted volume: nan<br><br>References:<br>(Cardaci et al., 1993,\\u00a0Villasenor et al., 1998,\\u00a0Laigle and Hirn, 1999,\\u00a0Chiarabba et al., 2000,\\u00a0Aloisi et al., 2002)\", null, \"Pinatubo<br>Erupted volume: nan<br><br>References:<br>Mori et al. (1996)\", \"Nevado del Ruiz<br>Erupted volume: nan<br><br>References:<br>Londo\\u00f1o and Sudo (2003)\", \"Tungurahua<br>Erupted volume: nan<br><br>References:<br>Molina et al. (2005)\", \"Gran Canaria<br>Erupted volume: nan<br><br>References:<br>Krastel and Schmincke (2002)\"], \"type\": \"scattergeo\"}],\n                        {\"template\": {\"data\": {\"bar\": [{\"error_x\": {\"color\": \"#2a3f5f\"}, \"error_y\": {\"color\": \"#2a3f5f\"}, \"marker\": {\"line\": {\"color\": \"#E5ECF6\", \"width\": 0.5}}, \"type\": \"bar\"}], \"barpolar\": [{\"marker\": {\"line\": {\"color\": \"#E5ECF6\", \"width\": 0.5}}, \"type\": \"barpolar\"}], \"carpet\": [{\"aaxis\": {\"endlinecolor\": \"#2a3f5f\", \"gridcolor\": \"white\", \"linecolor\": \"white\", \"minorgridcolor\": \"white\", \"startlinecolor\": \"#2a3f5f\"}, \"baxis\": {\"endlinecolor\": \"#2a3f5f\", \"gridcolor\": \"white\", \"linecolor\": \"white\", \"minorgridcolor\": \"white\", \"startlinecolor\": \"#2a3f5f\"}, \"type\": \"carpet\"}], \"choropleth\": [{\"colorbar\": {\"outlinewidth\": 0, \"ticks\": \"\"}, \"type\": \"choropleth\"}], \"contour\": [{\"colorbar\": {\"outlinewidth\": 0, \"ticks\": \"\"}, \"colorscale\": [[0.0, \"#0d0887\"], [0.1111111111111111, \"#46039f\"], [0.2222222222222222, \"#7201a8\"], [0.3333333333333333, \"#9c179e\"], [0.4444444444444444, \"#bd3786\"], [0.5555555555555556, \"#d8576b\"], [0.6666666666666666, \"#ed7953\"], [0.7777777777777778, \"#fb9f3a\"], [0.8888888888888888, \"#fdca26\"], [1.0, \"#f0f921\"]], \"type\": \"contour\"}], \"contourcarpet\": [{\"colorbar\": {\"outlinewidth\": 0, \"ticks\": \"\"}, \"type\": \"contourcarpet\"}], \"heatmap\": [{\"colorbar\": {\"outlinewidth\": 0, \"ticks\": \"\"}, \"colorscale\": [[0.0, \"#0d0887\"], [0.1111111111111111, \"#46039f\"], [0.2222222222222222, \"#7201a8\"], [0.3333333333333333, \"#9c179e\"], [0.4444444444444444, \"#bd3786\"], [0.5555555555555556, \"#d8576b\"], [0.6666666666666666, \"#ed7953\"], [0.7777777777777778, \"#fb9f3a\"], [0.8888888888888888, \"#fdca26\"], [1.0, \"#f0f921\"]], \"type\": \"heatmap\"}], \"heatmapgl\": [{\"colorbar\": {\"outlinewidth\": 0, \"ticks\": \"\"}, \"colorscale\": [[0.0, \"#0d0887\"], [0.1111111111111111, \"#46039f\"], [0.2222222222222222, \"#7201a8\"], [0.3333333333333333, \"#9c179e\"], [0.4444444444444444, \"#bd3786\"], [0.5555555555555556, \"#d8576b\"], [0.6666666666666666, \"#ed7953\"], [0.7777777777777778, \"#fb9f3a\"], [0.8888888888888888, \"#fdca26\"], [1.0, \"#f0f921\"]], \"type\": \"heatmapgl\"}], \"histogram\": [{\"marker\": {\"colorbar\": {\"outlinewidth\": 0, \"ticks\": \"\"}}, \"type\": \"histogram\"}], \"histogram2d\": [{\"colorbar\": {\"outlinewidth\": 0, \"ticks\": \"\"}, \"colorscale\": [[0.0, \"#0d0887\"], [0.1111111111111111, \"#46039f\"], [0.2222222222222222, \"#7201a8\"], [0.3333333333333333, \"#9c179e\"], [0.4444444444444444, \"#bd3786\"], [0.5555555555555556, \"#d8576b\"], [0.6666666666666666, \"#ed7953\"], [0.7777777777777778, \"#fb9f3a\"], [0.8888888888888888, \"#fdca26\"], [1.0, \"#f0f921\"]], \"type\": \"histogram2d\"}], \"histogram2dcontour\": [{\"colorbar\": {\"outlinewidth\": 0, \"ticks\": \"\"}, \"colorscale\": [[0.0, \"#0d0887\"], [0.1111111111111111, \"#46039f\"], [0.2222222222222222, \"#7201a8\"], [0.3333333333333333, \"#9c179e\"], [0.4444444444444444, \"#bd3786\"], [0.5555555555555556, \"#d8576b\"], [0.6666666666666666, \"#ed7953\"], [0.7777777777777778, \"#fb9f3a\"], [0.8888888888888888, \"#fdca26\"], [1.0, \"#f0f921\"]], \"type\": \"histogram2dcontour\"}], \"mesh3d\": [{\"colorbar\": {\"outlinewidth\": 0, \"ticks\": \"\"}, \"type\": \"mesh3d\"}], \"parcoords\": [{\"line\": {\"colorbar\": {\"outlinewidth\": 0, \"ticks\": \"\"}}, \"type\": \"parcoords\"}], \"pie\": [{\"automargin\": true, \"type\": \"pie\"}], \"scatter\": [{\"marker\": {\"colorbar\": {\"outlinewidth\": 0, \"ticks\": \"\"}}, \"type\": \"scatter\"}], \"scatter3d\": [{\"line\": {\"colorbar\": {\"outlinewidth\": 0, \"ticks\": \"\"}}, \"marker\": {\"colorbar\": {\"outlinewidth\": 0, \"ticks\": \"\"}}, \"type\": \"scatter3d\"}], \"scattercarpet\": [{\"marker\": {\"colorbar\": {\"outlinewidth\": 0, \"ticks\": \"\"}}, \"type\": \"scattercarpet\"}], \"scattergeo\": [{\"marker\": {\"colorbar\": {\"outlinewidth\": 0, \"ticks\": \"\"}}, \"type\": \"scattergeo\"}], \"scattergl\": [{\"marker\": {\"colorbar\": {\"outlinewidth\": 0, \"ticks\": \"\"}}, \"type\": \"scattergl\"}], \"scattermapbox\": [{\"marker\": {\"colorbar\": {\"outlinewidth\": 0, \"ticks\": \"\"}}, \"type\": \"scattermapbox\"}], \"scatterpolar\": [{\"marker\": {\"colorbar\": {\"outlinewidth\": 0, \"ticks\": \"\"}}, \"type\": \"scatterpolar\"}], \"scatterpolargl\": [{\"marker\": {\"colorbar\": {\"outlinewidth\": 0, \"ticks\": \"\"}}, \"type\": \"scatterpolargl\"}], \"scatterternary\": [{\"marker\": {\"colorbar\": {\"outlinewidth\": 0, \"ticks\": \"\"}}, \"type\": \"scatterternary\"}], \"surface\": [{\"colorbar\": {\"outlinewidth\": 0, \"ticks\": \"\"}, \"colorscale\": [[0.0, \"#0d0887\"], [0.1111111111111111, \"#46039f\"], [0.2222222222222222, \"#7201a8\"], [0.3333333333333333, \"#9c179e\"], [0.4444444444444444, \"#bd3786\"], [0.5555555555555556, \"#d8576b\"], [0.6666666666666666, \"#ed7953\"], [0.7777777777777778, \"#fb9f3a\"], [0.8888888888888888, \"#fdca26\"], [1.0, \"#f0f921\"]], \"type\": \"surface\"}], \"table\": [{\"cells\": {\"fill\": {\"color\": \"#EBF0F8\"}, \"line\": {\"color\": \"white\"}}, \"header\": {\"fill\": {\"color\": \"#C8D4E3\"}, \"line\": {\"color\": \"white\"}}, \"type\": \"table\"}]}, \"layout\": {\"annotationdefaults\": {\"arrowcolor\": \"#2a3f5f\", \"arrowhead\": 0, \"arrowwidth\": 1}, \"coloraxis\": {\"colorbar\": {\"outlinewidth\": 0, \"ticks\": \"\"}}, \"colorscale\": {\"diverging\": [[0, \"#8e0152\"], [0.1, \"#c51b7d\"], [0.2, \"#de77ae\"], [0.3, \"#f1b6da\"], [0.4, \"#fde0ef\"], [0.5, \"#f7f7f7\"], [0.6, \"#e6f5d0\"], [0.7, \"#b8e186\"], [0.8, \"#7fbc41\"], [0.9, \"#4d9221\"], [1, \"#276419\"]], \"sequential\": [[0.0, \"#0d0887\"], [0.1111111111111111, \"#46039f\"], [0.2222222222222222, \"#7201a8\"], [0.3333333333333333, \"#9c179e\"], [0.4444444444444444, \"#bd3786\"], [0.5555555555555556, \"#d8576b\"], [0.6666666666666666, \"#ed7953\"], [0.7777777777777778, \"#fb9f3a\"], [0.8888888888888888, \"#fdca26\"], [1.0, \"#f0f921\"]], \"sequentialminus\": [[0.0, \"#0d0887\"], [0.1111111111111111, \"#46039f\"], [0.2222222222222222, \"#7201a8\"], [0.3333333333333333, \"#9c179e\"], [0.4444444444444444, \"#bd3786\"], [0.5555555555555556, \"#d8576b\"], [0.6666666666666666, \"#ed7953\"], [0.7777777777777778, \"#fb9f3a\"], [0.8888888888888888, \"#fdca26\"], [1.0, \"#f0f921\"]]}, \"colorway\": [\"#636efa\", \"#EF553B\", \"#00cc96\", \"#ab63fa\", \"#FFA15A\", \"#19d3f3\", \"#FF6692\", \"#B6E880\", \"#FF97FF\", \"#FECB52\"], \"font\": {\"color\": \"#2a3f5f\"}, \"geo\": {\"bgcolor\": \"white\", \"lakecolor\": \"white\", \"landcolor\": \"#E5ECF6\", \"showlakes\": true, \"showland\": true, \"subunitcolor\": \"white\"}, \"hoverlabel\": {\"align\": \"left\"}, \"hovermode\": \"closest\", \"mapbox\": {\"style\": \"light\"}, \"paper_bgcolor\": \"white\", \"plot_bgcolor\": \"#E5ECF6\", \"polar\": {\"angularaxis\": {\"gridcolor\": \"white\", \"linecolor\": \"white\", \"ticks\": \"\"}, \"bgcolor\": \"#E5ECF6\", \"radialaxis\": {\"gridcolor\": \"white\", \"linecolor\": \"white\", \"ticks\": \"\"}}, \"scene\": {\"xaxis\": {\"backgroundcolor\": \"#E5ECF6\", \"gridcolor\": \"white\", \"gridwidth\": 2, \"linecolor\": \"white\", \"showbackground\": true, \"ticks\": \"\", \"zerolinecolor\": \"white\"}, \"yaxis\": {\"backgroundcolor\": \"#E5ECF6\", \"gridcolor\": \"white\", \"gridwidth\": 2, \"linecolor\": \"white\", \"showbackground\": true, \"ticks\": \"\", \"zerolinecolor\": \"white\"}, \"zaxis\": {\"backgroundcolor\": \"#E5ECF6\", \"gridcolor\": \"white\", \"gridwidth\": 2, \"linecolor\": \"white\", \"showbackground\": true, \"ticks\": \"\", \"zerolinecolor\": \"white\"}}, \"shapedefaults\": {\"line\": {\"color\": \"#2a3f5f\"}}, \"ternary\": {\"aaxis\": {\"gridcolor\": \"white\", \"linecolor\": \"white\", \"ticks\": \"\"}, \"baxis\": {\"gridcolor\": \"white\", \"linecolor\": \"white\", \"ticks\": \"\"}, \"bgcolor\": \"#E5ECF6\", \"caxis\": {\"gridcolor\": \"white\", \"linecolor\": \"white\", \"ticks\": \"\"}}, \"title\": {\"x\": 0.05}, \"xaxis\": {\"automargin\": true, \"gridcolor\": \"white\", \"linecolor\": \"white\", \"ticks\": \"\", \"title\": {\"standoff\": 15}, \"zerolinecolor\": \"white\", \"zerolinewidth\": 2}, \"yaxis\": {\"automargin\": true, \"gridcolor\": \"white\", \"linecolor\": \"white\", \"ticks\": \"\", \"title\": {\"standoff\": 15}, \"zerolinecolor\": \"white\", \"zerolinewidth\": 2}}}},\n                        {\"responsive\": true}\n                    ).then(function(){\n                            \nvar gd = document.getElementById('efac686a-37c7-4deb-a2f8-057e1a180612');\nvar x = new MutationObserver(function (mutations, observer) {{\n        var display = window.getComputedStyle(gd).display;\n        if (!display || display === 'none') {{\n            console.log([gd, 'removed!']);\n            Plotly.purge(gd);\n            observer.disconnect();\n        }}\n}});\n\n// Listen for the removal of the full notebook cells\nvar notebookContainer = gd.closest('#notebook-container');\nif (notebookContainer) {{\n    x.observe(notebookContainer, {childList: true});\n}}\n\n// Listen for the clearing of the current output cell\nvar outputEl = gd.closest('.output');\nif (outputEl) {{\n    x.observe(outputEl, {childList: true});\n}}\n\n                        })\n                };\n                });\n            </script>\n        </div>"
         },
         "metadata": {},
         "output_type": "display_data"
        }
       ]
      }
     },
     "5a4243679a7a4faebd4697280480708e": {
      "model_module": "@jupyter-widgets/output",
      "model_module_version": "1.0.0",
      "model_name": "OutputModel",
      "state": {
       "layout": "IPY_MODEL_646180ee27de4d0c98bcd32cacfc6c98",
       "outputs": [
        {
         "data": {
          "application/vnd.plotly.v1+json": {
           "config": {
            "plotlyServerURL": "https://plot.ly"
           },
           "data": [
            {
             "lat": [
              16.72,
              16.72,
              36.404,
              36.404,
              32.884,
              32.884,
              32.884,
              2.58,
              2.58,
              2.58,
              2.58,
              44.43,
              44.43,
              44.43,
              44.43,
              44.43,
              44.43,
              37.7166666666667,
              37.7166666666667,
              35.9,
              -38.82,
              43.722,
              41.611,
              46.2,
              46.853,
              -22.2666666666667,
              65.715,
              63.983,
              63.892,
              64.083,
              60.485,
              32.761,
              38.83,
              31.934,
              36.7833333333333,
              35.361,
              56.056,
              19.421,
              19.421,
              40.821,
              40.827,
              37.748,
              38.789,
              15.13,
              4.892,
              -1.467,
              28
             ],
             "lon": [
              -62.18,
              -62.18,
              25.396,
              25.396,
              131.104,
              131.104,
              131.104,
              98.83,
              98.83,
              98.83,
              98.83,
              -110.67,
              -110.67,
              -110.67,
              -110.67,
              -110.67,
              -110.67,
              -118.883333333333,
              -118.883333333333,
              -106.533333333333,
              176,
              -121.229,
              -121.554,
              -122.18,
              -121.76,
              -67.1666666666667,
              -16.728,
              -19.666,
              -19.122,
              -21.416,
              -152.742,
              130.299,
              140.7,
              130.862,
              139.366666666667,
              138.728,
              160.642,
              -155.287,
              -155.287,
              14.426,
              14.139,
              14.999,
              15.213,
              120.35,
              -75.324,
              -78.442,
              -15.58
             ],
             "marker": {
              "size": [
               215.44346900318837,
               215.44346900318837,
               464.15888336127784,
               464.15888336127784,
               843.4326653017491,
               843.4326653017491,
               843.4326653017491,
               1409.4597464129781,
               1409.4597464129781,
               1409.4597464129781,
               1409.4597464129781,
               1348.0997498879249,
               1348.0997498879249,
               1348.0997498879249,
               1348.0997498879249,
               1348.0997498879249,
               1348.0997498879249,
               100,
               100,
               100,
               100,
               100,
               100,
               100,
               100,
               100,
               100,
               100,
               100,
               100,
               100,
               100,
               100,
               100,
               100,
               100,
               100,
               100,
               100,
               100,
               100,
               100,
               100,
               100,
               100,
               100,
               100
              ],
              "sizemode": "area"
             },
             "text": [
              "Soufriere Hills Volcano<br>Erupted volume: 10.0<br><br>References:<br>Paulatto et al., 2012",
              "Soufriere Hills Volcano<br>Erupted volume: 10.0<br><br>References:<br>Paulatto et al., 2019",
              "Santorini<br>Erupted volume: 100.0<br><br>References:<br>McVey et al., 2019",
              null,
              "Aso Caldera<br>Erupted volume: 600.0<br><br>References:<br>Sudo & Kong, 2001",
              "Aso Caldera<br>Erupted volume: 600.0<br><br>References:<br>Huang et al., 2018",
              "Aso Caldera<br>Erupted volume: 600.0<br><br>References:<br>Abe et al., 2017",
              "Toba<br>Erupted volume: 2800.0<br><br>References:<br>Koulakov et al., 2009",
              "Toba<br>Erupted volume: 2800.0<br><br>References:<br>Mastruryono et al., 2001",
              "Toba<br>Erupted volume: 2800.0<br><br>References:<br>Jaxybulatov et al., 2014",
              "Toba<br>Erupted volume: 2800.0<br><br>References:<br>Stankiewicz et al., 2010",
              "Yellowstone<br>Erupted volume: 2450.0<br><br>References:<br>(Iyer et al., 1981, Benz and Smith, 1984, Clawson et al., 1989, Miller and Smith, 1999, Husen and Smith, 2004, Yuan and Dueker, 2005)",
              "Yellowstone<br>Erupted volume: 2450.0<br><br>References:<br>Chu et al., 2010",
              "Yellowstone<br>Erupted volume: 2450.0<br><br>References:<br>Farrell et al., 2014",
              "Yellowstone<br>Erupted volume: 2450.0<br><br>References:<br>Huang et al., 2015",
              "Yellowstone<br>Erupted volume: 2450.0<br><br>References:<br>Miller and Smith, 1999",
              "Yellowstone<br>Erupted volume: 2450.0<br><br>References:<br>Jiang, 2018",
              "Long Valley<br>Erupted volume: nan<br><br>References:<br>(Peppin, 1985, Dawson et al., 1987, Hauksson, 1988, Dawson et al., 1990, Sanders, 1993a, Sanders, 1993b, Sanders et al., 1994, Steck, 1995, Sanders et al., 1995, Weiland et al., 1995, O'Doherty et al., 1997)",
              "Long Valley<br>Erupted volume: nan<br><br>References:<br>Jiang, 2018",
              "Valles<br>Erupted volume: nan<br><br>References:<br>Lutter et al. (1995)",
              "Taupo<br>Erupted volume: nan<br><br>References:<br>Sherburn et al. (2003)",
              "Newberry volcano<br>Erupted volume: nan<br><br>References:<br>(Achauer et al., 1988, Stauber et al., 1988)",
              "Medicine Lake<br>Erupted volume: nan<br><br>References:<br>(Evans and Zucca, 1988, Lees and Crosson, 1989, Ritter and Evans, 1997)",
              "Mt. St. Helens<br>Erupted volume: nan<br><br>References:<br>Lees (1992)",
              "Mt. Rainier<br>Erupted volume: nan<br><br>References:<br>(Lees and Crosson, 1990, Moran et al., 1999)",
              null,
              "Krafla<br>Erupted volume: nan<br><br>References:<br>(Einarsson, 1978, Foulger and Arnott, 1993)",
              "Hekla<br>Erupted volume: nan<br><br>References:<br>Soosalu and Einarsson (2004)",
              "Torfajökull<br>Erupted volume: nan<br><br>References:<br>Soosalu and Einarsson (2004)",
              "Hengill–Grensdalur<br>Erupted volume: nan<br><br>References:<br>Toomey and Foulger (1989)",
              "Redoubt<br>Erupted volume: nan<br><br>References:<br>Benz et al. (1996)",
              "Unzen<br>Erupted volume: nan<br><br>References:<br>Ohmi and Lees (1995)",
              "Onikobe<br>Erupted volume: nan<br><br>References:<br>Nakajima and Hasegawa (2003)",
              "Kirishima<br>Erupted volume: nan<br><br>References:<br>Yamamoto and Ida (1994)",
              "Nikko-Shirane<br>Erupted volume: nan<br><br>References:<br>Horiuchi et al. (1997)",
              "Mt. Fuji<br>Erupted volume: nan<br><br>References:<br>Nakamichi (2005)",
              "Klyuchevskoy<br>Erupted volume: nan<br><br>References:<br>(Anosov et al., 1978, Ozerov, 2000)",
              "Halemaumau<br>Erupted volume: nan<br><br>References:<br>Rowan and Clayton (1993)",
              "Kilauea<br>Erupted volume: nan<br><br>References:<br>(Thurber, 1984, Rowan and Clayton, 1993, Okubo et al., 1997, Haslinger et al., 2001)",
              "Vesuvius<br>Erupted volume: nan<br><br>References:<br>(De Natale et al., 1998, Zollo et al., 1998)",
              "Campi Flegrei<br>Erupted volume: nan<br><br>References:<br>1988; Aster et al., 1992",
              "Mt. Etna<br>Erupted volume: nan<br><br>References:<br>(Cardaci et al., 1993, Villasenor et al., 1998, Laigle and Hirn, 1999, Chiarabba et al., 2000, Aloisi et al., 2002)",
              null,
              "Pinatubo<br>Erupted volume: nan<br><br>References:<br>Mori et al. (1996)",
              "Nevado del Ruiz<br>Erupted volume: nan<br><br>References:<br>Londoño and Sudo (2003)",
              "Tungurahua<br>Erupted volume: nan<br><br>References:<br>Molina et al. (2005)",
              "Gran Canaria<br>Erupted volume: nan<br><br>References:<br>Krastel and Schmincke (2002)"
             ],
             "type": "scattergeo"
            }
           ],
           "layout": {
            "height": 500,
            "template": {
             "data": {
              "bar": [
               {
                "error_x": {
                 "color": "#2a3f5f"
                },
                "error_y": {
                 "color": "#2a3f5f"
                },
                "marker": {
                 "line": {
                  "color": "#E5ECF6",
                  "width": 0.5
                 }
                },
                "type": "bar"
               }
              ],
              "barpolar": [
               {
                "marker": {
                 "line": {
                  "color": "#E5ECF6",
                  "width": 0.5
                 }
                },
                "type": "barpolar"
               }
              ],
              "carpet": [
               {
                "aaxis": {
                 "endlinecolor": "#2a3f5f",
                 "gridcolor": "white",
                 "linecolor": "white",
                 "minorgridcolor": "white",
                 "startlinecolor": "#2a3f5f"
                },
                "baxis": {
                 "endlinecolor": "#2a3f5f",
                 "gridcolor": "white",
                 "linecolor": "white",
                 "minorgridcolor": "white",
                 "startlinecolor": "#2a3f5f"
                },
                "type": "carpet"
               }
              ],
              "choropleth": [
               {
                "colorbar": {
                 "outlinewidth": 0,
                 "ticks": ""
                },
                "type": "choropleth"
               }
              ],
              "contour": [
               {
                "colorbar": {
                 "outlinewidth": 0,
                 "ticks": ""
                },
                "colorscale": [
                 [
                  0,
                  "#0d0887"
                 ],
                 [
                  0.1111111111111111,
                  "#46039f"
                 ],
                 [
                  0.2222222222222222,
                  "#7201a8"
                 ],
                 [
                  0.3333333333333333,
                  "#9c179e"
                 ],
                 [
                  0.4444444444444444,
                  "#bd3786"
                 ],
                 [
                  0.5555555555555556,
                  "#d8576b"
                 ],
                 [
                  0.6666666666666666,
                  "#ed7953"
                 ],
                 [
                  0.7777777777777778,
                  "#fb9f3a"
                 ],
                 [
                  0.8888888888888888,
                  "#fdca26"
                 ],
                 [
                  1,
                  "#f0f921"
                 ]
                ],
                "type": "contour"
               }
              ],
              "contourcarpet": [
               {
                "colorbar": {
                 "outlinewidth": 0,
                 "ticks": ""
                },
                "type": "contourcarpet"
               }
              ],
              "heatmap": [
               {
                "colorbar": {
                 "outlinewidth": 0,
                 "ticks": ""
                },
                "colorscale": [
                 [
                  0,
                  "#0d0887"
                 ],
                 [
                  0.1111111111111111,
                  "#46039f"
                 ],
                 [
                  0.2222222222222222,
                  "#7201a8"
                 ],
                 [
                  0.3333333333333333,
                  "#9c179e"
                 ],
                 [
                  0.4444444444444444,
                  "#bd3786"
                 ],
                 [
                  0.5555555555555556,
                  "#d8576b"
                 ],
                 [
                  0.6666666666666666,
                  "#ed7953"
                 ],
                 [
                  0.7777777777777778,
                  "#fb9f3a"
                 ],
                 [
                  0.8888888888888888,
                  "#fdca26"
                 ],
                 [
                  1,
                  "#f0f921"
                 ]
                ],
                "type": "heatmap"
               }
              ],
              "heatmapgl": [
               {
                "colorbar": {
                 "outlinewidth": 0,
                 "ticks": ""
                },
                "colorscale": [
                 [
                  0,
                  "#0d0887"
                 ],
                 [
                  0.1111111111111111,
                  "#46039f"
                 ],
                 [
                  0.2222222222222222,
                  "#7201a8"
                 ],
                 [
                  0.3333333333333333,
                  "#9c179e"
                 ],
                 [
                  0.4444444444444444,
                  "#bd3786"
                 ],
                 [
                  0.5555555555555556,
                  "#d8576b"
                 ],
                 [
                  0.6666666666666666,
                  "#ed7953"
                 ],
                 [
                  0.7777777777777778,
                  "#fb9f3a"
                 ],
                 [
                  0.8888888888888888,
                  "#fdca26"
                 ],
                 [
                  1,
                  "#f0f921"
                 ]
                ],
                "type": "heatmapgl"
               }
              ],
              "histogram": [
               {
                "marker": {
                 "colorbar": {
                  "outlinewidth": 0,
                  "ticks": ""
                 }
                },
                "type": "histogram"
               }
              ],
              "histogram2d": [
               {
                "colorbar": {
                 "outlinewidth": 0,
                 "ticks": ""
                },
                "colorscale": [
                 [
                  0,
                  "#0d0887"
                 ],
                 [
                  0.1111111111111111,
                  "#46039f"
                 ],
                 [
                  0.2222222222222222,
                  "#7201a8"
                 ],
                 [
                  0.3333333333333333,
                  "#9c179e"
                 ],
                 [
                  0.4444444444444444,
                  "#bd3786"
                 ],
                 [
                  0.5555555555555556,
                  "#d8576b"
                 ],
                 [
                  0.6666666666666666,
                  "#ed7953"
                 ],
                 [
                  0.7777777777777778,
                  "#fb9f3a"
                 ],
                 [
                  0.8888888888888888,
                  "#fdca26"
                 ],
                 [
                  1,
                  "#f0f921"
                 ]
                ],
                "type": "histogram2d"
               }
              ],
              "histogram2dcontour": [
               {
                "colorbar": {
                 "outlinewidth": 0,
                 "ticks": ""
                },
                "colorscale": [
                 [
                  0,
                  "#0d0887"
                 ],
                 [
                  0.1111111111111111,
                  "#46039f"
                 ],
                 [
                  0.2222222222222222,
                  "#7201a8"
                 ],
                 [
                  0.3333333333333333,
                  "#9c179e"
                 ],
                 [
                  0.4444444444444444,
                  "#bd3786"
                 ],
                 [
                  0.5555555555555556,
                  "#d8576b"
                 ],
                 [
                  0.6666666666666666,
                  "#ed7953"
                 ],
                 [
                  0.7777777777777778,
                  "#fb9f3a"
                 ],
                 [
                  0.8888888888888888,
                  "#fdca26"
                 ],
                 [
                  1,
                  "#f0f921"
                 ]
                ],
                "type": "histogram2dcontour"
               }
              ],
              "mesh3d": [
               {
                "colorbar": {
                 "outlinewidth": 0,
                 "ticks": ""
                },
                "type": "mesh3d"
               }
              ],
              "parcoords": [
               {
                "line": {
                 "colorbar": {
                  "outlinewidth": 0,
                  "ticks": ""
                 }
                },
                "type": "parcoords"
               }
              ],
              "pie": [
               {
                "automargin": true,
                "type": "pie"
               }
              ],
              "scatter": [
               {
                "marker": {
                 "colorbar": {
                  "outlinewidth": 0,
                  "ticks": ""
                 }
                },
                "type": "scatter"
               }
              ],
              "scatter3d": [
               {
                "line": {
                 "colorbar": {
                  "outlinewidth": 0,
                  "ticks": ""
                 }
                },
                "marker": {
                 "colorbar": {
                  "outlinewidth": 0,
                  "ticks": ""
                 }
                },
                "type": "scatter3d"
               }
              ],
              "scattercarpet": [
               {
                "marker": {
                 "colorbar": {
                  "outlinewidth": 0,
                  "ticks": ""
                 }
                },
                "type": "scattercarpet"
               }
              ],
              "scattergeo": [
               {
                "marker": {
                 "colorbar": {
                  "outlinewidth": 0,
                  "ticks": ""
                 }
                },
                "type": "scattergeo"
               }
              ],
              "scattergl": [
               {
                "marker": {
                 "colorbar": {
                  "outlinewidth": 0,
                  "ticks": ""
                 }
                },
                "type": "scattergl"
               }
              ],
              "scattermapbox": [
               {
                "marker": {
                 "colorbar": {
                  "outlinewidth": 0,
                  "ticks": ""
                 }
                },
                "type": "scattermapbox"
               }
              ],
              "scatterpolar": [
               {
                "marker": {
                 "colorbar": {
                  "outlinewidth": 0,
                  "ticks": ""
                 }
                },
                "type": "scatterpolar"
               }
              ],
              "scatterpolargl": [
               {
                "marker": {
                 "colorbar": {
                  "outlinewidth": 0,
                  "ticks": ""
                 }
                },
                "type": "scatterpolargl"
               }
              ],
              "scatterternary": [
               {
                "marker": {
                 "colorbar": {
                  "outlinewidth": 0,
                  "ticks": ""
                 }
                },
                "type": "scatterternary"
               }
              ],
              "surface": [
               {
                "colorbar": {
                 "outlinewidth": 0,
                 "ticks": ""
                },
                "colorscale": [
                 [
                  0,
                  "#0d0887"
                 ],
                 [
                  0.1111111111111111,
                  "#46039f"
                 ],
                 [
                  0.2222222222222222,
                  "#7201a8"
                 ],
                 [
                  0.3333333333333333,
                  "#9c179e"
                 ],
                 [
                  0.4444444444444444,
                  "#bd3786"
                 ],
                 [
                  0.5555555555555556,
                  "#d8576b"
                 ],
                 [
                  0.6666666666666666,
                  "#ed7953"
                 ],
                 [
                  0.7777777777777778,
                  "#fb9f3a"
                 ],
                 [
                  0.8888888888888888,
                  "#fdca26"
                 ],
                 [
                  1,
                  "#f0f921"
                 ]
                ],
                "type": "surface"
               }
              ],
              "table": [
               {
                "cells": {
                 "fill": {
                  "color": "#EBF0F8"
                 },
                 "line": {
                  "color": "white"
                 }
                },
                "header": {
                 "fill": {
                  "color": "#C8D4E3"
                 },
                 "line": {
                  "color": "white"
                 }
                },
                "type": "table"
               }
              ]
             },
             "layout": {
              "annotationdefaults": {
               "arrowcolor": "#2a3f5f",
               "arrowhead": 0,
               "arrowwidth": 1
              },
              "coloraxis": {
               "colorbar": {
                "outlinewidth": 0,
                "ticks": ""
               }
              },
              "colorscale": {
               "diverging": [
                [
                 0,
                 "#8e0152"
                ],
                [
                 0.1,
                 "#c51b7d"
                ],
                [
                 0.2,
                 "#de77ae"
                ],
                [
                 0.3,
                 "#f1b6da"
                ],
                [
                 0.4,
                 "#fde0ef"
                ],
                [
                 0.5,
                 "#f7f7f7"
                ],
                [
                 0.6,
                 "#e6f5d0"
                ],
                [
                 0.7,
                 "#b8e186"
                ],
                [
                 0.8,
                 "#7fbc41"
                ],
                [
                 0.9,
                 "#4d9221"
                ],
                [
                 1,
                 "#276419"
                ]
               ],
               "sequential": [
                [
                 0,
                 "#0d0887"
                ],
                [
                 0.1111111111111111,
                 "#46039f"
                ],
                [
                 0.2222222222222222,
                 "#7201a8"
                ],
                [
                 0.3333333333333333,
                 "#9c179e"
                ],
                [
                 0.4444444444444444,
                 "#bd3786"
                ],
                [
                 0.5555555555555556,
                 "#d8576b"
                ],
                [
                 0.6666666666666666,
                 "#ed7953"
                ],
                [
                 0.7777777777777778,
                 "#fb9f3a"
                ],
                [
                 0.8888888888888888,
                 "#fdca26"
                ],
                [
                 1,
                 "#f0f921"
                ]
               ],
               "sequentialminus": [
                [
                 0,
                 "#0d0887"
                ],
                [
                 0.1111111111111111,
                 "#46039f"
                ],
                [
                 0.2222222222222222,
                 "#7201a8"
                ],
                [
                 0.3333333333333333,
                 "#9c179e"
                ],
                [
                 0.4444444444444444,
                 "#bd3786"
                ],
                [
                 0.5555555555555556,
                 "#d8576b"
                ],
                [
                 0.6666666666666666,
                 "#ed7953"
                ],
                [
                 0.7777777777777778,
                 "#fb9f3a"
                ],
                [
                 0.8888888888888888,
                 "#fdca26"
                ],
                [
                 1,
                 "#f0f921"
                ]
               ]
              },
              "colorway": [
               "#636efa",
               "#EF553B",
               "#00cc96",
               "#ab63fa",
               "#FFA15A",
               "#19d3f3",
               "#FF6692",
               "#B6E880",
               "#FF97FF",
               "#FECB52"
              ],
              "font": {
               "color": "#2a3f5f"
              },
              "geo": {
               "bgcolor": "white",
               "lakecolor": "white",
               "landcolor": "#E5ECF6",
               "showlakes": true,
               "showland": true,
               "subunitcolor": "white"
              },
              "hoverlabel": {
               "align": "left"
              },
              "hovermode": "closest",
              "mapbox": {
               "style": "light"
              },
              "paper_bgcolor": "white",
              "plot_bgcolor": "#E5ECF6",
              "polar": {
               "angularaxis": {
                "gridcolor": "white",
                "linecolor": "white",
                "ticks": ""
               },
               "bgcolor": "#E5ECF6",
               "radialaxis": {
                "gridcolor": "white",
                "linecolor": "white",
                "ticks": ""
               }
              },
              "scene": {
               "xaxis": {
                "backgroundcolor": "#E5ECF6",
                "gridcolor": "white",
                "gridwidth": 2,
                "linecolor": "white",
                "showbackground": true,
                "ticks": "",
                "zerolinecolor": "white"
               },
               "yaxis": {
                "backgroundcolor": "#E5ECF6",
                "gridcolor": "white",
                "gridwidth": 2,
                "linecolor": "white",
                "showbackground": true,
                "ticks": "",
                "zerolinecolor": "white"
               },
               "zaxis": {
                "backgroundcolor": "#E5ECF6",
                "gridcolor": "white",
                "gridwidth": 2,
                "linecolor": "white",
                "showbackground": true,
                "ticks": "",
                "zerolinecolor": "white"
               }
              },
              "shapedefaults": {
               "line": {
                "color": "#2a3f5f"
               }
              },
              "ternary": {
               "aaxis": {
                "gridcolor": "white",
                "linecolor": "white",
                "ticks": ""
               },
               "baxis": {
                "gridcolor": "white",
                "linecolor": "white",
                "ticks": ""
               },
               "bgcolor": "#E5ECF6",
               "caxis": {
                "gridcolor": "white",
                "linecolor": "white",
                "ticks": ""
               }
              },
              "title": {
               "x": 0.05
              },
              "xaxis": {
               "automargin": true,
               "gridcolor": "white",
               "linecolor": "white",
               "ticks": "",
               "title": {
                "standoff": 15
               },
               "zerolinecolor": "white",
               "zerolinewidth": 2
              },
              "yaxis": {
               "automargin": true,
               "gridcolor": "white",
               "linecolor": "white",
               "ticks": "",
               "title": {
                "standoff": 15
               },
               "zerolinecolor": "white",
               "zerolinewidth": 2
              }
             }
            },
            "width": 1000
           }
          },
          "text/html": "<div>\n        \n        \n            <div id=\"68ba050e-ca94-43fa-a7ce-cb69ef844448\" class=\"plotly-graph-div\" style=\"height:500px; width:1000px;\"></div>\n            <script type=\"text/javascript\">\n                require([\"plotly\"], function(Plotly) {\n                    window.PLOTLYENV=window.PLOTLYENV || {};\n                    \n                if (document.getElementById(\"68ba050e-ca94-43fa-a7ce-cb69ef844448\")) {\n                    Plotly.newPlot(\n                        '68ba050e-ca94-43fa-a7ce-cb69ef844448',\n                        [{\"lat\": [16.72, 16.72, 36.404, 36.404, 32.884, 32.884, 32.884, 2.58, 2.58, 2.58, 2.58, 44.43, 44.43, 44.43, 44.43, 44.43, 44.43, 37.7166666666667, 37.7166666666667, 35.9, -38.82, 43.722, 41.611, 46.2, 46.853, -22.2666666666667, 65.715, 63.983, 63.892, 64.083, 60.485, 32.761, 38.83, 31.934, 36.7833333333333, 35.361, 56.056, 19.421, 19.421, 40.821, 40.827, 37.748, 38.789, 15.13, 4.892, -1.467, 28.0], \"lon\": [-62.18, -62.18, 25.396, 25.396, 131.104, 131.104, 131.104, 98.83, 98.83, 98.83, 98.83, -110.67, -110.67, -110.67, -110.67, -110.67, -110.67, -118.883333333333, -118.883333333333, -106.533333333333, 176.0, -121.229, -121.554, -122.18, -121.76, -67.1666666666667, -16.728, -19.666, -19.122, -21.416, -152.742, 130.299, 140.7, 130.862, 139.366666666667, 138.728, 160.642, -155.287, -155.287, 14.426, 14.139, 14.999, 15.213, 120.35, -75.324, -78.442, -15.58], \"marker\": {\"size\": [215.44346900318837, 215.44346900318837, 464.15888336127784, 464.15888336127784, 843.4326653017491, 843.4326653017491, 843.4326653017491, 1409.4597464129781, 1409.4597464129781, 1409.4597464129781, 1409.4597464129781, 1348.0997498879249, 1348.0997498879249, 1348.0997498879249, 1348.0997498879249, 1348.0997498879249, 1348.0997498879249, 100.0, 100.0, 100.0, 100.0, 100.0, 100.0, 100.0, 100.0, 100.0, 100.0, 100.0, 100.0, 100.0, 100.0, 100.0, 100.0, 100.0, 100.0, 100.0, 100.0, 100.0, 100.0, 100.0, 100.0, 100.0, 100.0, 100.0, 100.0, 100.0, 100.0], \"sizemode\": \"area\"}, \"text\": [\"Soufriere Hills Volcano<br>Erupted volume: 10.0<br><br>References:<br>Paulatto et al., 2012\", \"Soufriere Hills Volcano<br>Erupted volume: 10.0<br><br>References:<br>Paulatto et al., 2019\", \"Santorini<br>Erupted volume: 100.0<br><br>References:<br>McVey et al., 2019\", null, \"Aso Caldera<br>Erupted volume: 600.0<br><br>References:<br>Sudo & Kong, 2001\", \"Aso Caldera<br>Erupted volume: 600.0<br><br>References:<br>Huang et al., 2018\", \"Aso Caldera<br>Erupted volume: 600.0<br><br>References:<br>Abe et al., 2017\", \"Toba<br>Erupted volume: 2800.0<br><br>References:<br>Koulakov et al., 2009\", \"Toba<br>Erupted volume: 2800.0<br><br>References:<br>Mastruryono et al., 2001\", \"Toba<br>Erupted volume: 2800.0<br><br>References:<br>Jaxybulatov et al., 2014\", \"Toba<br>Erupted volume: 2800.0<br><br>References:<br>Stankiewicz et al., 2010\", \"Yellowstone<br>Erupted volume: 2450.0<br><br>References:<br>(Iyer et al., 1981,\\u00a0Benz and Smith, 1984,\\u00a0Clawson et al., 1989,\\u00a0Miller and Smith, 1999,\\u00a0Husen and Smith, 2004,\\u00a0Yuan and Dueker, 2005)\", \"Yellowstone<br>Erupted volume: 2450.0<br><br>References:<br>Chu et al., 2010\", \"Yellowstone<br>Erupted volume: 2450.0<br><br>References:<br>Farrell et al., 2014\", \"Yellowstone<br>Erupted volume: 2450.0<br><br>References:<br>Huang et al., 2015\", \"Yellowstone<br>Erupted volume: 2450.0<br><br>References:<br>Miller and Smith, 1999\", \"Yellowstone<br>Erupted volume: 2450.0<br><br>References:<br>Jiang, 2018\", \"Long Valley<br>Erupted volume: nan<br><br>References:<br>(Peppin, 1985,\\u00a0Dawson et al., 1987,\\u00a0Hauksson, 1988,\\u00a0Dawson et al., 1990,\\u00a0Sanders, 1993a,\\u00a0Sanders, 1993b,\\u00a0Sanders et al., 1994,\\u00a0Steck, 1995,\\u00a0Sanders et al., 1995,\\u00a0Weiland et al., 1995,\\u00a0O'Doherty et al., 1997)\", \"Long Valley<br>Erupted volume: nan<br><br>References:<br>Jiang, 2018\", \"Valles<br>Erupted volume: nan<br><br>References:<br>Lutter et al. (1995)\", \"Taupo<br>Erupted volume: nan<br><br>References:<br>Sherburn et al. (2003)\", \"Newberry volcano<br>Erupted volume: nan<br><br>References:<br>(Achauer et al., 1988,\\u00a0Stauber et al., 1988)\", \"Medicine Lake<br>Erupted volume: nan<br><br>References:<br>(Evans and Zucca, 1988,\\u00a0Lees and Crosson, 1989,\\u00a0Ritter and Evans, 1997)\", \"Mt. St. Helens<br>Erupted volume: nan<br><br>References:<br>Lees (1992)\", \"Mt. Rainier<br>Erupted volume: nan<br><br>References:<br>(Lees and Crosson, 1990,\\u00a0Moran et al., 1999)\", null, \"Krafla<br>Erupted volume: nan<br><br>References:<br>(Einarsson, 1978,\\u00a0Foulger and Arnott, 1993)\", \"Hekla<br>Erupted volume: nan<br><br>References:<br>Soosalu and Einarsson (2004)\", \"Torfaj\\u00f6kull<br>Erupted volume: nan<br><br>References:<br>Soosalu and Einarsson (2004)\", \"Hengill\\u2013Grensdalur<br>Erupted volume: nan<br><br>References:<br>Toomey and Foulger (1989)\", \"Redoubt<br>Erupted volume: nan<br><br>References:<br>Benz et al. (1996)\", \"Unzen<br>Erupted volume: nan<br><br>References:<br>Ohmi and Lees (1995)\", \"Onikobe<br>Erupted volume: nan<br><br>References:<br>Nakajima and Hasegawa (2003)\", \"Kirishima<br>Erupted volume: nan<br><br>References:<br>Yamamoto and Ida (1994)\", \"Nikko-Shirane<br>Erupted volume: nan<br><br>References:<br>Horiuchi et al. (1997)\", \"Mt. Fuji<br>Erupted volume: nan<br><br>References:<br>Nakamichi (2005)\", \"Klyuchevskoy<br>Erupted volume: nan<br><br>References:<br>(Anosov et al., 1978,\\u00a0Ozerov, 2000)\", \"Halemaumau<br>Erupted volume: nan<br><br>References:<br>Rowan and Clayton (1993)\", \"Kilauea<br>Erupted volume: nan<br><br>References:<br>(Thurber, 1984,\\u00a0Rowan and Clayton, 1993,\\u00a0Okubo et al., 1997,\\u00a0Haslinger et al., 2001)\", \"Vesuvius<br>Erupted volume: nan<br><br>References:<br>(De Natale et al., 1998,\\u00a0Zollo et al., 1998)\", \"Campi Flegrei<br>Erupted volume: nan<br><br>References:<br>1988;\\u00a0Aster et al., 1992\", \"Mt. Etna<br>Erupted volume: nan<br><br>References:<br>(Cardaci et al., 1993,\\u00a0Villasenor et al., 1998,\\u00a0Laigle and Hirn, 1999,\\u00a0Chiarabba et al., 2000,\\u00a0Aloisi et al., 2002)\", null, \"Pinatubo<br>Erupted volume: nan<br><br>References:<br>Mori et al. (1996)\", \"Nevado del Ruiz<br>Erupted volume: nan<br><br>References:<br>Londo\\u00f1o and Sudo (2003)\", \"Tungurahua<br>Erupted volume: nan<br><br>References:<br>Molina et al. (2005)\", \"Gran Canaria<br>Erupted volume: nan<br><br>References:<br>Krastel and Schmincke (2002)\"], \"type\": \"scattergeo\"}],\n                        {\"height\": 500, \"template\": {\"data\": {\"bar\": [{\"error_x\": {\"color\": \"#2a3f5f\"}, \"error_y\": {\"color\": \"#2a3f5f\"}, \"marker\": {\"line\": {\"color\": \"#E5ECF6\", \"width\": 0.5}}, \"type\": \"bar\"}], \"barpolar\": [{\"marker\": {\"line\": {\"color\": \"#E5ECF6\", \"width\": 0.5}}, \"type\": \"barpolar\"}], \"carpet\": [{\"aaxis\": {\"endlinecolor\": \"#2a3f5f\", \"gridcolor\": \"white\", \"linecolor\": \"white\", \"minorgridcolor\": \"white\", \"startlinecolor\": \"#2a3f5f\"}, \"baxis\": {\"endlinecolor\": \"#2a3f5f\", \"gridcolor\": \"white\", \"linecolor\": \"white\", \"minorgridcolor\": \"white\", \"startlinecolor\": \"#2a3f5f\"}, \"type\": \"carpet\"}], \"choropleth\": [{\"colorbar\": {\"outlinewidth\": 0, \"ticks\": \"\"}, \"type\": \"choropleth\"}], \"contour\": [{\"colorbar\": {\"outlinewidth\": 0, \"ticks\": \"\"}, \"colorscale\": [[0.0, \"#0d0887\"], [0.1111111111111111, \"#46039f\"], [0.2222222222222222, \"#7201a8\"], [0.3333333333333333, \"#9c179e\"], [0.4444444444444444, \"#bd3786\"], [0.5555555555555556, \"#d8576b\"], [0.6666666666666666, \"#ed7953\"], [0.7777777777777778, \"#fb9f3a\"], [0.8888888888888888, \"#fdca26\"], [1.0, \"#f0f921\"]], \"type\": \"contour\"}], \"contourcarpet\": [{\"colorbar\": {\"outlinewidth\": 0, \"ticks\": \"\"}, \"type\": \"contourcarpet\"}], \"heatmap\": [{\"colorbar\": {\"outlinewidth\": 0, \"ticks\": \"\"}, \"colorscale\": [[0.0, \"#0d0887\"], [0.1111111111111111, \"#46039f\"], [0.2222222222222222, \"#7201a8\"], [0.3333333333333333, \"#9c179e\"], [0.4444444444444444, \"#bd3786\"], [0.5555555555555556, \"#d8576b\"], [0.6666666666666666, \"#ed7953\"], [0.7777777777777778, \"#fb9f3a\"], [0.8888888888888888, \"#fdca26\"], [1.0, \"#f0f921\"]], \"type\": \"heatmap\"}], \"heatmapgl\": [{\"colorbar\": {\"outlinewidth\": 0, \"ticks\": \"\"}, \"colorscale\": [[0.0, \"#0d0887\"], [0.1111111111111111, \"#46039f\"], [0.2222222222222222, \"#7201a8\"], [0.3333333333333333, \"#9c179e\"], [0.4444444444444444, \"#bd3786\"], [0.5555555555555556, \"#d8576b\"], [0.6666666666666666, \"#ed7953\"], [0.7777777777777778, \"#fb9f3a\"], [0.8888888888888888, \"#fdca26\"], [1.0, \"#f0f921\"]], \"type\": \"heatmapgl\"}], \"histogram\": [{\"marker\": {\"colorbar\": {\"outlinewidth\": 0, \"ticks\": \"\"}}, \"type\": \"histogram\"}], \"histogram2d\": [{\"colorbar\": {\"outlinewidth\": 0, \"ticks\": \"\"}, \"colorscale\": [[0.0, \"#0d0887\"], [0.1111111111111111, \"#46039f\"], [0.2222222222222222, \"#7201a8\"], [0.3333333333333333, \"#9c179e\"], [0.4444444444444444, \"#bd3786\"], [0.5555555555555556, \"#d8576b\"], [0.6666666666666666, \"#ed7953\"], [0.7777777777777778, \"#fb9f3a\"], [0.8888888888888888, \"#fdca26\"], [1.0, \"#f0f921\"]], \"type\": \"histogram2d\"}], \"histogram2dcontour\": [{\"colorbar\": {\"outlinewidth\": 0, \"ticks\": \"\"}, \"colorscale\": [[0.0, \"#0d0887\"], [0.1111111111111111, \"#46039f\"], [0.2222222222222222, \"#7201a8\"], [0.3333333333333333, \"#9c179e\"], [0.4444444444444444, \"#bd3786\"], [0.5555555555555556, \"#d8576b\"], [0.6666666666666666, \"#ed7953\"], [0.7777777777777778, \"#fb9f3a\"], [0.8888888888888888, \"#fdca26\"], [1.0, \"#f0f921\"]], \"type\": \"histogram2dcontour\"}], \"mesh3d\": [{\"colorbar\": {\"outlinewidth\": 0, \"ticks\": \"\"}, \"type\": \"mesh3d\"}], \"parcoords\": [{\"line\": {\"colorbar\": {\"outlinewidth\": 0, \"ticks\": \"\"}}, \"type\": \"parcoords\"}], \"pie\": [{\"automargin\": true, \"type\": \"pie\"}], \"scatter\": [{\"marker\": {\"colorbar\": {\"outlinewidth\": 0, \"ticks\": \"\"}}, \"type\": \"scatter\"}], \"scatter3d\": [{\"line\": {\"colorbar\": {\"outlinewidth\": 0, \"ticks\": \"\"}}, \"marker\": {\"colorbar\": {\"outlinewidth\": 0, \"ticks\": \"\"}}, \"type\": \"scatter3d\"}], \"scattercarpet\": [{\"marker\": {\"colorbar\": {\"outlinewidth\": 0, \"ticks\": \"\"}}, \"type\": \"scattercarpet\"}], \"scattergeo\": [{\"marker\": {\"colorbar\": {\"outlinewidth\": 0, \"ticks\": \"\"}}, \"type\": \"scattergeo\"}], \"scattergl\": [{\"marker\": {\"colorbar\": {\"outlinewidth\": 0, \"ticks\": \"\"}}, \"type\": \"scattergl\"}], \"scattermapbox\": [{\"marker\": {\"colorbar\": {\"outlinewidth\": 0, \"ticks\": \"\"}}, \"type\": \"scattermapbox\"}], \"scatterpolar\": [{\"marker\": {\"colorbar\": {\"outlinewidth\": 0, \"ticks\": \"\"}}, \"type\": \"scatterpolar\"}], \"scatterpolargl\": [{\"marker\": {\"colorbar\": {\"outlinewidth\": 0, \"ticks\": \"\"}}, \"type\": \"scatterpolargl\"}], \"scatterternary\": [{\"marker\": {\"colorbar\": {\"outlinewidth\": 0, \"ticks\": \"\"}}, \"type\": \"scatterternary\"}], \"surface\": [{\"colorbar\": {\"outlinewidth\": 0, \"ticks\": \"\"}, \"colorscale\": [[0.0, \"#0d0887\"], [0.1111111111111111, \"#46039f\"], [0.2222222222222222, \"#7201a8\"], [0.3333333333333333, \"#9c179e\"], [0.4444444444444444, \"#bd3786\"], [0.5555555555555556, \"#d8576b\"], [0.6666666666666666, \"#ed7953\"], [0.7777777777777778, \"#fb9f3a\"], [0.8888888888888888, \"#fdca26\"], [1.0, \"#f0f921\"]], \"type\": \"surface\"}], \"table\": [{\"cells\": {\"fill\": {\"color\": \"#EBF0F8\"}, \"line\": {\"color\": \"white\"}}, \"header\": {\"fill\": {\"color\": \"#C8D4E3\"}, \"line\": {\"color\": \"white\"}}, \"type\": \"table\"}]}, \"layout\": {\"annotationdefaults\": {\"arrowcolor\": \"#2a3f5f\", \"arrowhead\": 0, \"arrowwidth\": 1}, \"coloraxis\": {\"colorbar\": {\"outlinewidth\": 0, \"ticks\": \"\"}}, \"colorscale\": {\"diverging\": [[0, \"#8e0152\"], [0.1, \"#c51b7d\"], [0.2, \"#de77ae\"], [0.3, \"#f1b6da\"], [0.4, \"#fde0ef\"], [0.5, \"#f7f7f7\"], [0.6, \"#e6f5d0\"], [0.7, \"#b8e186\"], [0.8, \"#7fbc41\"], [0.9, \"#4d9221\"], [1, \"#276419\"]], \"sequential\": [[0.0, \"#0d0887\"], [0.1111111111111111, \"#46039f\"], [0.2222222222222222, \"#7201a8\"], [0.3333333333333333, \"#9c179e\"], [0.4444444444444444, \"#bd3786\"], [0.5555555555555556, \"#d8576b\"], [0.6666666666666666, \"#ed7953\"], [0.7777777777777778, \"#fb9f3a\"], [0.8888888888888888, \"#fdca26\"], [1.0, \"#f0f921\"]], \"sequentialminus\": [[0.0, \"#0d0887\"], [0.1111111111111111, \"#46039f\"], [0.2222222222222222, \"#7201a8\"], [0.3333333333333333, \"#9c179e\"], [0.4444444444444444, \"#bd3786\"], [0.5555555555555556, \"#d8576b\"], [0.6666666666666666, \"#ed7953\"], [0.7777777777777778, \"#fb9f3a\"], [0.8888888888888888, \"#fdca26\"], [1.0, \"#f0f921\"]]}, \"colorway\": [\"#636efa\", \"#EF553B\", \"#00cc96\", \"#ab63fa\", \"#FFA15A\", \"#19d3f3\", \"#FF6692\", \"#B6E880\", \"#FF97FF\", \"#FECB52\"], \"font\": {\"color\": \"#2a3f5f\"}, \"geo\": {\"bgcolor\": \"white\", \"lakecolor\": \"white\", \"landcolor\": \"#E5ECF6\", \"showlakes\": true, \"showland\": true, \"subunitcolor\": \"white\"}, \"hoverlabel\": {\"align\": \"left\"}, \"hovermode\": \"closest\", \"mapbox\": {\"style\": \"light\"}, \"paper_bgcolor\": \"white\", \"plot_bgcolor\": \"#E5ECF6\", \"polar\": {\"angularaxis\": {\"gridcolor\": \"white\", \"linecolor\": \"white\", \"ticks\": \"\"}, \"bgcolor\": \"#E5ECF6\", \"radialaxis\": {\"gridcolor\": \"white\", \"linecolor\": \"white\", \"ticks\": \"\"}}, \"scene\": {\"xaxis\": {\"backgroundcolor\": \"#E5ECF6\", \"gridcolor\": \"white\", \"gridwidth\": 2, \"linecolor\": \"white\", \"showbackground\": true, \"ticks\": \"\", \"zerolinecolor\": \"white\"}, \"yaxis\": {\"backgroundcolor\": \"#E5ECF6\", \"gridcolor\": \"white\", \"gridwidth\": 2, \"linecolor\": \"white\", \"showbackground\": true, \"ticks\": \"\", \"zerolinecolor\": \"white\"}, \"zaxis\": {\"backgroundcolor\": \"#E5ECF6\", \"gridcolor\": \"white\", \"gridwidth\": 2, \"linecolor\": \"white\", \"showbackground\": true, \"ticks\": \"\", \"zerolinecolor\": \"white\"}}, \"shapedefaults\": {\"line\": {\"color\": \"#2a3f5f\"}}, \"ternary\": {\"aaxis\": {\"gridcolor\": \"white\", \"linecolor\": \"white\", \"ticks\": \"\"}, \"baxis\": {\"gridcolor\": \"white\", \"linecolor\": \"white\", \"ticks\": \"\"}, \"bgcolor\": \"#E5ECF6\", \"caxis\": {\"gridcolor\": \"white\", \"linecolor\": \"white\", \"ticks\": \"\"}}, \"title\": {\"x\": 0.05}, \"xaxis\": {\"automargin\": true, \"gridcolor\": \"white\", \"linecolor\": \"white\", \"ticks\": \"\", \"title\": {\"standoff\": 15}, \"zerolinecolor\": \"white\", \"zerolinewidth\": 2}, \"yaxis\": {\"automargin\": true, \"gridcolor\": \"white\", \"linecolor\": \"white\", \"ticks\": \"\", \"title\": {\"standoff\": 15}, \"zerolinecolor\": \"white\", \"zerolinewidth\": 2}}}, \"width\": 1000},\n                        {\"responsive\": true}\n                    ).then(function(){\n                            \nvar gd = document.getElementById('68ba050e-ca94-43fa-a7ce-cb69ef844448');\nvar x = new MutationObserver(function (mutations, observer) {{\n        var display = window.getComputedStyle(gd).display;\n        if (!display || display === 'none') {{\n            console.log([gd, 'removed!']);\n            Plotly.purge(gd);\n            observer.disconnect();\n        }}\n}});\n\n// Listen for the removal of the full notebook cells\nvar notebookContainer = gd.closest('#notebook-container');\nif (notebookContainer) {{\n    x.observe(notebookContainer, {childList: true});\n}}\n\n// Listen for the clearing of the current output cell\nvar outputEl = gd.closest('.output');\nif (outputEl) {{\n    x.observe(outputEl, {childList: true});\n}}\n\n                        })\n                };\n                });\n            </script>\n        </div>"
         },
         "metadata": {},
         "output_type": "display_data"
        }
       ]
      }
     },
     "5be92195eae64d9180be092b479342d3": {
      "model_module": "@jupyter-widgets/controls",
      "model_module_version": "1.5.0",
      "model_name": "DropdownModel",
      "state": {
       "_options_labels": [
        "Erupted volume",
        "Anomaly volume"
       ],
       "description": "key",
       "index": 0,
       "layout": "IPY_MODEL_d9f1f53a29c54ee98973656627b22750",
       "style": "IPY_MODEL_c8781b884e8c4221acab36ff1b362d1a"
      }
     },
     "5f3e5511c9ea4d43bf0579a4510bc246": {
      "model_module": "@jupyter-widgets/controls",
      "model_module_version": "1.5.0",
      "model_name": "DropdownModel",
      "state": {
       "_options_labels": [
        "Erupted volume",
        "Anomaly volume"
       ],
       "description": "key",
       "index": 0,
       "layout": "IPY_MODEL_f46c4b3f88814538ad7f5f468f523ed8",
       "style": "IPY_MODEL_947b97047a7a491992578be1ef8fcc3b"
      }
     },
     "5f5b90de97b7460cad84faa38640dc7c": {
      "model_module": "@jupyter-widgets/base",
      "model_module_version": "1.2.0",
      "model_name": "LayoutModel",
      "state": {}
     },
     "646180ee27de4d0c98bcd32cacfc6c98": {
      "model_module": "@jupyter-widgets/base",
      "model_module_version": "1.2.0",
      "model_name": "LayoutModel",
      "state": {}
     },
     "65b46ec8f07549fd8960787abad3acec": {
      "model_module": "@jupyter-widgets/output",
      "model_module_version": "1.0.0",
      "model_name": "OutputModel",
      "state": {
       "layout": "IPY_MODEL_c1bd09c017cc4ee9b6780714cc661df7",
       "outputs": [
        {
         "data": {
          "application/vnd.plotly.v1+json": {
           "config": {
            "plotlyServerURL": "https://plot.ly"
           },
           "data": [
            {
             "lat": [
              16.72,
              16.72,
              36.404,
              36.404,
              32.884,
              32.884,
              32.884,
              2.58,
              2.58,
              2.58,
              2.58,
              44.43,
              44.43,
              44.43,
              44.43,
              44.43,
              44.43,
              37.7166666666667,
              37.7166666666667,
              35.9,
              -38.82,
              43.722,
              41.611,
              46.2,
              46.853,
              -22.2666666666667,
              65.715,
              63.983,
              63.892,
              64.083,
              60.485,
              32.761,
              38.83,
              31.934,
              36.7833333333333,
              35.361,
              56.056,
              19.421,
              19.421,
              40.821,
              40.827,
              37.748,
              38.789,
              15.13,
              4.892,
              -1.467,
              28
             ],
             "lon": [
              -62.18,
              -62.18,
              25.396,
              25.396,
              131.104,
              131.104,
              131.104,
              98.83,
              98.83,
              98.83,
              98.83,
              -110.67,
              -110.67,
              -110.67,
              -110.67,
              -110.67,
              -110.67,
              -118.883333333333,
              -118.883333333333,
              -106.533333333333,
              176,
              -121.229,
              -121.554,
              -122.18,
              121.76,
              -67.1666666666667,
              -16.728,
              -19.666,
              -19.122,
              -21.416,
              -152.742,
              130.299,
              140.7,
              130.862,
              139.366666666667,
              138.728,
              160.642,
              -155.287,
              -155.287,
              14.426,
              14.139,
              14.999,
              15.213,
              120.35,
              -75.324,
              -78.442,
              -15.58
             ],
             "marker": {
              "size": [
               215.44346900318837,
               215.44346900318837,
               464.15888336127784,
               464.15888336127784,
               843.4326653017491,
               843.4326653017491,
               843.4326653017491,
               1409.4597464129781,
               1409.4597464129781,
               1409.4597464129781,
               1409.4597464129781,
               1348.0997498879249,
               1348.0997498879249,
               1348.0997498879249,
               1348.0997498879249,
               1348.0997498879249,
               1348.0997498879249,
               100,
               100,
               100,
               100,
               100,
               100,
               100,
               100,
               100,
               100,
               100,
               100,
               100,
               100,
               100,
               100,
               100,
               100,
               100,
               100,
               100,
               100,
               100,
               100,
               100,
               100,
               100,
               100,
               100,
               100
              ],
              "sizemode": "area"
             },
             "text": [
              "Soufriere Hills Volcano<br>Erupted volume: 10.0<br> References:Paulatto et al., 2012",
              "Soufriere Hills Volcano<br>Erupted volume: 10.0<br> References:Paulatto et al., 2019",
              "Santorini<br>Erupted volume: 100.0<br> References:McVey et al., 2019",
              null,
              "Aso Caldera<br>Erupted volume: 600.0<br> References:Sudo & Kong, 2001",
              "Aso Caldera<br>Erupted volume: 600.0<br> References:Huang et al., 2018",
              "Aso Caldera<br>Erupted volume: 600.0<br> References:Abe et al., 2017",
              "Toba<br>Erupted volume: 2800.0<br> References:Koulakov et al., 2009",
              "Toba<br>Erupted volume: 2800.0<br> References:Mastruryono et al., 2001",
              "Toba<br>Erupted volume: 2800.0<br> References:Jaxybulatov et al., 2014",
              "Toba<br>Erupted volume: 2800.0<br> References:Stankiewicz et al., 2010",
              "Yellowstone<br>Erupted volume: 2450.0<br> References:(Iyer et al., 1981, Benz and Smith, 1984, Clawson et al., 1989, Miller and Smith, 1999, Husen and Smith, 2004, Yuan and Dueker, 2005)",
              "Yellowstone<br>Erupted volume: 2450.0<br> References:Chu et al., 2010",
              "Yellowstone<br>Erupted volume: 2450.0<br> References:Farrell et al., 2014",
              "Yellowstone<br>Erupted volume: 2450.0<br> References:Huang et al., 2015",
              "Yellowstone<br>Erupted volume: 2450.0<br> References:Miller and Smith, 1999",
              "Yellowstone<br>Erupted volume: 2450.0<br> References:Jiang, 2018",
              "Long Valley<br>Erupted volume: nan<br> References:(Peppin, 1985, Dawson et al., 1987, Hauksson, 1988, Dawson et al., 1990, Sanders, 1993a, Sanders, 1993b, Sanders et al., 1994, Steck, 1995, Sanders et al., 1995, Weiland et al., 1995, O'Doherty et al., 1997)",
              "Long Valley<br>Erupted volume: nan<br> References:Jiang, 2018",
              "Valles<br>Erupted volume: nan<br> References:Lutter et al. (1995)",
              "Taupo<br>Erupted volume: nan<br> References:Sherburn et al. (2003)",
              "Newberry volcano<br>Erupted volume: nan<br> References:(Achauer et al., 1988, Stauber et al., 1988)",
              "Medicine Lake<br>Erupted volume: nan<br> References:(Evans and Zucca, 1988, Lees and Crosson, 1989, Ritter and Evans, 1997)",
              "Mt. St. Helens<br>Erupted volume: nan<br> References:Lees (1992)",
              "Mt. Rainier<br>Erupted volume: nan<br> References:(Lees and Crosson, 1990, Moran et al., 1999)",
              null,
              "Krafla<br>Erupted volume: nan<br> References:(Einarsson, 1978, Foulger and Arnott, 1993)",
              "Hekla<br>Erupted volume: nan<br> References:Soosalu and Einarsson (2004)",
              "Torfajökull<br>Erupted volume: nan<br> References:Soosalu and Einarsson (2004)",
              "Hengill–Grensdalur<br>Erupted volume: nan<br> References:Toomey and Foulger (1989)",
              "Redoubt<br>Erupted volume: nan<br> References:Benz et al. (1996)",
              "Unzen<br>Erupted volume: nan<br> References:Ohmi and Lees (1995)",
              "Onikobe<br>Erupted volume: nan<br> References:Nakajima and Hasegawa (2003)",
              "Kirishima<br>Erupted volume: nan<br> References:Yamamoto and Ida (1994)",
              "Nikko-Shirane<br>Erupted volume: nan<br> References:Horiuchi et al. (1997)",
              "Mt. Fuji<br>Erupted volume: nan<br> References:Nakamichi (2005)",
              "Klyuchevskoy<br>Erupted volume: nan<br> References:(Anosov et al., 1978, Ozerov, 2000)",
              "Halemaumau<br>Erupted volume: nan<br> References:Rowan and Clayton (1993)",
              "Kilauea<br>Erupted volume: nan<br> References:(Thurber, 1984, Rowan and Clayton, 1993, Okubo et al., 1997, Haslinger et al., 2001)",
              "Vesuvius<br>Erupted volume: nan<br> References:(De Natale et al., 1998, Zollo et al., 1998)",
              "Campi Flegrei<br>Erupted volume: nan<br> References:1988; Aster et al., 1992",
              "Mt. Etna<br>Erupted volume: nan<br> References:(Cardaci et al., 1993, Villasenor et al., 1998, Laigle and Hirn, 1999, Chiarabba et al., 2000, Aloisi et al., 2002)",
              null,
              "Pinatubo<br>Erupted volume: nan<br> References:Mori et al. (1996)",
              "Nevado del Ruiz<br>Erupted volume: nan<br> References:Londoño and Sudo (2003)",
              "Tungurahua<br>Erupted volume: nan<br> References:Molina et al. (2005)",
              "Gran Canaria<br>Erupted volume: nan<br> References:Krastel and Schmincke (2002)"
             ],
             "type": "scattergeo"
            }
           ],
           "layout": {
            "template": {
             "data": {
              "bar": [
               {
                "error_x": {
                 "color": "#2a3f5f"
                },
                "error_y": {
                 "color": "#2a3f5f"
                },
                "marker": {
                 "line": {
                  "color": "#E5ECF6",
                  "width": 0.5
                 }
                },
                "type": "bar"
               }
              ],
              "barpolar": [
               {
                "marker": {
                 "line": {
                  "color": "#E5ECF6",
                  "width": 0.5
                 }
                },
                "type": "barpolar"
               }
              ],
              "carpet": [
               {
                "aaxis": {
                 "endlinecolor": "#2a3f5f",
                 "gridcolor": "white",
                 "linecolor": "white",
                 "minorgridcolor": "white",
                 "startlinecolor": "#2a3f5f"
                },
                "baxis": {
                 "endlinecolor": "#2a3f5f",
                 "gridcolor": "white",
                 "linecolor": "white",
                 "minorgridcolor": "white",
                 "startlinecolor": "#2a3f5f"
                },
                "type": "carpet"
               }
              ],
              "choropleth": [
               {
                "colorbar": {
                 "outlinewidth": 0,
                 "ticks": ""
                },
                "type": "choropleth"
               }
              ],
              "contour": [
               {
                "colorbar": {
                 "outlinewidth": 0,
                 "ticks": ""
                },
                "colorscale": [
                 [
                  0,
                  "#0d0887"
                 ],
                 [
                  0.1111111111111111,
                  "#46039f"
                 ],
                 [
                  0.2222222222222222,
                  "#7201a8"
                 ],
                 [
                  0.3333333333333333,
                  "#9c179e"
                 ],
                 [
                  0.4444444444444444,
                  "#bd3786"
                 ],
                 [
                  0.5555555555555556,
                  "#d8576b"
                 ],
                 [
                  0.6666666666666666,
                  "#ed7953"
                 ],
                 [
                  0.7777777777777778,
                  "#fb9f3a"
                 ],
                 [
                  0.8888888888888888,
                  "#fdca26"
                 ],
                 [
                  1,
                  "#f0f921"
                 ]
                ],
                "type": "contour"
               }
              ],
              "contourcarpet": [
               {
                "colorbar": {
                 "outlinewidth": 0,
                 "ticks": ""
                },
                "type": "contourcarpet"
               }
              ],
              "heatmap": [
               {
                "colorbar": {
                 "outlinewidth": 0,
                 "ticks": ""
                },
                "colorscale": [
                 [
                  0,
                  "#0d0887"
                 ],
                 [
                  0.1111111111111111,
                  "#46039f"
                 ],
                 [
                  0.2222222222222222,
                  "#7201a8"
                 ],
                 [
                  0.3333333333333333,
                  "#9c179e"
                 ],
                 [
                  0.4444444444444444,
                  "#bd3786"
                 ],
                 [
                  0.5555555555555556,
                  "#d8576b"
                 ],
                 [
                  0.6666666666666666,
                  "#ed7953"
                 ],
                 [
                  0.7777777777777778,
                  "#fb9f3a"
                 ],
                 [
                  0.8888888888888888,
                  "#fdca26"
                 ],
                 [
                  1,
                  "#f0f921"
                 ]
                ],
                "type": "heatmap"
               }
              ],
              "heatmapgl": [
               {
                "colorbar": {
                 "outlinewidth": 0,
                 "ticks": ""
                },
                "colorscale": [
                 [
                  0,
                  "#0d0887"
                 ],
                 [
                  0.1111111111111111,
                  "#46039f"
                 ],
                 [
                  0.2222222222222222,
                  "#7201a8"
                 ],
                 [
                  0.3333333333333333,
                  "#9c179e"
                 ],
                 [
                  0.4444444444444444,
                  "#bd3786"
                 ],
                 [
                  0.5555555555555556,
                  "#d8576b"
                 ],
                 [
                  0.6666666666666666,
                  "#ed7953"
                 ],
                 [
                  0.7777777777777778,
                  "#fb9f3a"
                 ],
                 [
                  0.8888888888888888,
                  "#fdca26"
                 ],
                 [
                  1,
                  "#f0f921"
                 ]
                ],
                "type": "heatmapgl"
               }
              ],
              "histogram": [
               {
                "marker": {
                 "colorbar": {
                  "outlinewidth": 0,
                  "ticks": ""
                 }
                },
                "type": "histogram"
               }
              ],
              "histogram2d": [
               {
                "colorbar": {
                 "outlinewidth": 0,
                 "ticks": ""
                },
                "colorscale": [
                 [
                  0,
                  "#0d0887"
                 ],
                 [
                  0.1111111111111111,
                  "#46039f"
                 ],
                 [
                  0.2222222222222222,
                  "#7201a8"
                 ],
                 [
                  0.3333333333333333,
                  "#9c179e"
                 ],
                 [
                  0.4444444444444444,
                  "#bd3786"
                 ],
                 [
                  0.5555555555555556,
                  "#d8576b"
                 ],
                 [
                  0.6666666666666666,
                  "#ed7953"
                 ],
                 [
                  0.7777777777777778,
                  "#fb9f3a"
                 ],
                 [
                  0.8888888888888888,
                  "#fdca26"
                 ],
                 [
                  1,
                  "#f0f921"
                 ]
                ],
                "type": "histogram2d"
               }
              ],
              "histogram2dcontour": [
               {
                "colorbar": {
                 "outlinewidth": 0,
                 "ticks": ""
                },
                "colorscale": [
                 [
                  0,
                  "#0d0887"
                 ],
                 [
                  0.1111111111111111,
                  "#46039f"
                 ],
                 [
                  0.2222222222222222,
                  "#7201a8"
                 ],
                 [
                  0.3333333333333333,
                  "#9c179e"
                 ],
                 [
                  0.4444444444444444,
                  "#bd3786"
                 ],
                 [
                  0.5555555555555556,
                  "#d8576b"
                 ],
                 [
                  0.6666666666666666,
                  "#ed7953"
                 ],
                 [
                  0.7777777777777778,
                  "#fb9f3a"
                 ],
                 [
                  0.8888888888888888,
                  "#fdca26"
                 ],
                 [
                  1,
                  "#f0f921"
                 ]
                ],
                "type": "histogram2dcontour"
               }
              ],
              "mesh3d": [
               {
                "colorbar": {
                 "outlinewidth": 0,
                 "ticks": ""
                },
                "type": "mesh3d"
               }
              ],
              "parcoords": [
               {
                "line": {
                 "colorbar": {
                  "outlinewidth": 0,
                  "ticks": ""
                 }
                },
                "type": "parcoords"
               }
              ],
              "pie": [
               {
                "automargin": true,
                "type": "pie"
               }
              ],
              "scatter": [
               {
                "marker": {
                 "colorbar": {
                  "outlinewidth": 0,
                  "ticks": ""
                 }
                },
                "type": "scatter"
               }
              ],
              "scatter3d": [
               {
                "line": {
                 "colorbar": {
                  "outlinewidth": 0,
                  "ticks": ""
                 }
                },
                "marker": {
                 "colorbar": {
                  "outlinewidth": 0,
                  "ticks": ""
                 }
                },
                "type": "scatter3d"
               }
              ],
              "scattercarpet": [
               {
                "marker": {
                 "colorbar": {
                  "outlinewidth": 0,
                  "ticks": ""
                 }
                },
                "type": "scattercarpet"
               }
              ],
              "scattergeo": [
               {
                "marker": {
                 "colorbar": {
                  "outlinewidth": 0,
                  "ticks": ""
                 }
                },
                "type": "scattergeo"
               }
              ],
              "scattergl": [
               {
                "marker": {
                 "colorbar": {
                  "outlinewidth": 0,
                  "ticks": ""
                 }
                },
                "type": "scattergl"
               }
              ],
              "scattermapbox": [
               {
                "marker": {
                 "colorbar": {
                  "outlinewidth": 0,
                  "ticks": ""
                 }
                },
                "type": "scattermapbox"
               }
              ],
              "scatterpolar": [
               {
                "marker": {
                 "colorbar": {
                  "outlinewidth": 0,
                  "ticks": ""
                 }
                },
                "type": "scatterpolar"
               }
              ],
              "scatterpolargl": [
               {
                "marker": {
                 "colorbar": {
                  "outlinewidth": 0,
                  "ticks": ""
                 }
                },
                "type": "scatterpolargl"
               }
              ],
              "scatterternary": [
               {
                "marker": {
                 "colorbar": {
                  "outlinewidth": 0,
                  "ticks": ""
                 }
                },
                "type": "scatterternary"
               }
              ],
              "surface": [
               {
                "colorbar": {
                 "outlinewidth": 0,
                 "ticks": ""
                },
                "colorscale": [
                 [
                  0,
                  "#0d0887"
                 ],
                 [
                  0.1111111111111111,
                  "#46039f"
                 ],
                 [
                  0.2222222222222222,
                  "#7201a8"
                 ],
                 [
                  0.3333333333333333,
                  "#9c179e"
                 ],
                 [
                  0.4444444444444444,
                  "#bd3786"
                 ],
                 [
                  0.5555555555555556,
                  "#d8576b"
                 ],
                 [
                  0.6666666666666666,
                  "#ed7953"
                 ],
                 [
                  0.7777777777777778,
                  "#fb9f3a"
                 ],
                 [
                  0.8888888888888888,
                  "#fdca26"
                 ],
                 [
                  1,
                  "#f0f921"
                 ]
                ],
                "type": "surface"
               }
              ],
              "table": [
               {
                "cells": {
                 "fill": {
                  "color": "#EBF0F8"
                 },
                 "line": {
                  "color": "white"
                 }
                },
                "header": {
                 "fill": {
                  "color": "#C8D4E3"
                 },
                 "line": {
                  "color": "white"
                 }
                },
                "type": "table"
               }
              ]
             },
             "layout": {
              "annotationdefaults": {
               "arrowcolor": "#2a3f5f",
               "arrowhead": 0,
               "arrowwidth": 1
              },
              "coloraxis": {
               "colorbar": {
                "outlinewidth": 0,
                "ticks": ""
               }
              },
              "colorscale": {
               "diverging": [
                [
                 0,
                 "#8e0152"
                ],
                [
                 0.1,
                 "#c51b7d"
                ],
                [
                 0.2,
                 "#de77ae"
                ],
                [
                 0.3,
                 "#f1b6da"
                ],
                [
                 0.4,
                 "#fde0ef"
                ],
                [
                 0.5,
                 "#f7f7f7"
                ],
                [
                 0.6,
                 "#e6f5d0"
                ],
                [
                 0.7,
                 "#b8e186"
                ],
                [
                 0.8,
                 "#7fbc41"
                ],
                [
                 0.9,
                 "#4d9221"
                ],
                [
                 1,
                 "#276419"
                ]
               ],
               "sequential": [
                [
                 0,
                 "#0d0887"
                ],
                [
                 0.1111111111111111,
                 "#46039f"
                ],
                [
                 0.2222222222222222,
                 "#7201a8"
                ],
                [
                 0.3333333333333333,
                 "#9c179e"
                ],
                [
                 0.4444444444444444,
                 "#bd3786"
                ],
                [
                 0.5555555555555556,
                 "#d8576b"
                ],
                [
                 0.6666666666666666,
                 "#ed7953"
                ],
                [
                 0.7777777777777778,
                 "#fb9f3a"
                ],
                [
                 0.8888888888888888,
                 "#fdca26"
                ],
                [
                 1,
                 "#f0f921"
                ]
               ],
               "sequentialminus": [
                [
                 0,
                 "#0d0887"
                ],
                [
                 0.1111111111111111,
                 "#46039f"
                ],
                [
                 0.2222222222222222,
                 "#7201a8"
                ],
                [
                 0.3333333333333333,
                 "#9c179e"
                ],
                [
                 0.4444444444444444,
                 "#bd3786"
                ],
                [
                 0.5555555555555556,
                 "#d8576b"
                ],
                [
                 0.6666666666666666,
                 "#ed7953"
                ],
                [
                 0.7777777777777778,
                 "#fb9f3a"
                ],
                [
                 0.8888888888888888,
                 "#fdca26"
                ],
                [
                 1,
                 "#f0f921"
                ]
               ]
              },
              "colorway": [
               "#636efa",
               "#EF553B",
               "#00cc96",
               "#ab63fa",
               "#FFA15A",
               "#19d3f3",
               "#FF6692",
               "#B6E880",
               "#FF97FF",
               "#FECB52"
              ],
              "font": {
               "color": "#2a3f5f"
              },
              "geo": {
               "bgcolor": "white",
               "lakecolor": "white",
               "landcolor": "#E5ECF6",
               "showlakes": true,
               "showland": true,
               "subunitcolor": "white"
              },
              "hoverlabel": {
               "align": "left"
              },
              "hovermode": "closest",
              "mapbox": {
               "style": "light"
              },
              "paper_bgcolor": "white",
              "plot_bgcolor": "#E5ECF6",
              "polar": {
               "angularaxis": {
                "gridcolor": "white",
                "linecolor": "white",
                "ticks": ""
               },
               "bgcolor": "#E5ECF6",
               "radialaxis": {
                "gridcolor": "white",
                "linecolor": "white",
                "ticks": ""
               }
              },
              "scene": {
               "xaxis": {
                "backgroundcolor": "#E5ECF6",
                "gridcolor": "white",
                "gridwidth": 2,
                "linecolor": "white",
                "showbackground": true,
                "ticks": "",
                "zerolinecolor": "white"
               },
               "yaxis": {
                "backgroundcolor": "#E5ECF6",
                "gridcolor": "white",
                "gridwidth": 2,
                "linecolor": "white",
                "showbackground": true,
                "ticks": "",
                "zerolinecolor": "white"
               },
               "zaxis": {
                "backgroundcolor": "#E5ECF6",
                "gridcolor": "white",
                "gridwidth": 2,
                "linecolor": "white",
                "showbackground": true,
                "ticks": "",
                "zerolinecolor": "white"
               }
              },
              "shapedefaults": {
               "line": {
                "color": "#2a3f5f"
               }
              },
              "ternary": {
               "aaxis": {
                "gridcolor": "white",
                "linecolor": "white",
                "ticks": ""
               },
               "baxis": {
                "gridcolor": "white",
                "linecolor": "white",
                "ticks": ""
               },
               "bgcolor": "#E5ECF6",
               "caxis": {
                "gridcolor": "white",
                "linecolor": "white",
                "ticks": ""
               }
              },
              "title": {
               "x": 0.05
              },
              "xaxis": {
               "automargin": true,
               "gridcolor": "white",
               "linecolor": "white",
               "ticks": "",
               "title": {
                "standoff": 15
               },
               "zerolinecolor": "white",
               "zerolinewidth": 2
              },
              "yaxis": {
               "automargin": true,
               "gridcolor": "white",
               "linecolor": "white",
               "ticks": "",
               "title": {
                "standoff": 15
               },
               "zerolinecolor": "white",
               "zerolinewidth": 2
              }
             }
            }
           }
          },
          "text/html": "<div>\n        \n        \n            <div id=\"f1fd11e0-d0de-4ab1-9ddd-0b2f8bac186c\" class=\"plotly-graph-div\" style=\"height:525px; width:100%;\"></div>\n            <script type=\"text/javascript\">\n                require([\"plotly\"], function(Plotly) {\n                    window.PLOTLYENV=window.PLOTLYENV || {};\n                    \n                if (document.getElementById(\"f1fd11e0-d0de-4ab1-9ddd-0b2f8bac186c\")) {\n                    Plotly.newPlot(\n                        'f1fd11e0-d0de-4ab1-9ddd-0b2f8bac186c',\n                        [{\"lat\": [16.72, 16.72, 36.404, 36.404, 32.884, 32.884, 32.884, 2.58, 2.58, 2.58, 2.58, 44.43, 44.43, 44.43, 44.43, 44.43, 44.43, 37.7166666666667, 37.7166666666667, 35.9, -38.82, 43.722, 41.611, 46.2, 46.853, -22.2666666666667, 65.715, 63.983, 63.892, 64.083, 60.485, 32.761, 38.83, 31.934, 36.7833333333333, 35.361, 56.056, 19.421, 19.421, 40.821, 40.827, 37.748, 38.789, 15.13, 4.892, -1.467, 28.0], \"lon\": [-62.18, -62.18, 25.396, 25.396, 131.104, 131.104, 131.104, 98.83, 98.83, 98.83, 98.83, -110.67, -110.67, -110.67, -110.67, -110.67, -110.67, -118.883333333333, -118.883333333333, -106.533333333333, 176.0, -121.229, -121.554, -122.18, 121.76, -67.1666666666667, -16.728, -19.666, -19.122, -21.416, -152.742, 130.299, 140.7, 130.862, 139.366666666667, 138.728, 160.642, -155.287, -155.287, 14.426, 14.139, 14.999, 15.213, 120.35, -75.324, -78.442, -15.58], \"marker\": {\"size\": [215.44346900318837, 215.44346900318837, 464.15888336127784, 464.15888336127784, 843.4326653017491, 843.4326653017491, 843.4326653017491, 1409.4597464129781, 1409.4597464129781, 1409.4597464129781, 1409.4597464129781, 1348.0997498879249, 1348.0997498879249, 1348.0997498879249, 1348.0997498879249, 1348.0997498879249, 1348.0997498879249, 100.0, 100.0, 100.0, 100.0, 100.0, 100.0, 100.0, 100.0, 100.0, 100.0, 100.0, 100.0, 100.0, 100.0, 100.0, 100.0, 100.0, 100.0, 100.0, 100.0, 100.0, 100.0, 100.0, 100.0, 100.0, 100.0, 100.0, 100.0, 100.0, 100.0], \"sizemode\": \"area\"}, \"text\": [\"Soufriere Hills Volcano<br>Erupted volume: 10.0<br> References:Paulatto et al., 2012\", \"Soufriere Hills Volcano<br>Erupted volume: 10.0<br> References:Paulatto et al., 2019\", \"Santorini<br>Erupted volume: 100.0<br> References:McVey et al., 2019\", null, \"Aso Caldera<br>Erupted volume: 600.0<br> References:Sudo & Kong, 2001\", \"Aso Caldera<br>Erupted volume: 600.0<br> References:Huang et al., 2018\", \"Aso Caldera<br>Erupted volume: 600.0<br> References:Abe et al., 2017\", \"Toba<br>Erupted volume: 2800.0<br> References:Koulakov et al., 2009\", \"Toba<br>Erupted volume: 2800.0<br> References:Mastruryono et al., 2001\", \"Toba<br>Erupted volume: 2800.0<br> References:Jaxybulatov et al., 2014\", \"Toba<br>Erupted volume: 2800.0<br> References:Stankiewicz et al., 2010\", \"Yellowstone<br>Erupted volume: 2450.0<br> References:(Iyer et al., 1981,\\u00a0Benz and Smith, 1984,\\u00a0Clawson et al., 1989,\\u00a0Miller and Smith, 1999,\\u00a0Husen and Smith, 2004,\\u00a0Yuan and Dueker, 2005)\", \"Yellowstone<br>Erupted volume: 2450.0<br> References:Chu et al., 2010\", \"Yellowstone<br>Erupted volume: 2450.0<br> References:Farrell et al., 2014\", \"Yellowstone<br>Erupted volume: 2450.0<br> References:Huang et al., 2015\", \"Yellowstone<br>Erupted volume: 2450.0<br> References:Miller and Smith, 1999\", \"Yellowstone<br>Erupted volume: 2450.0<br> References:Jiang, 2018\", \"Long Valley<br>Erupted volume: nan<br> References:(Peppin, 1985,\\u00a0Dawson et al., 1987,\\u00a0Hauksson, 1988,\\u00a0Dawson et al., 1990,\\u00a0Sanders, 1993a,\\u00a0Sanders, 1993b,\\u00a0Sanders et al., 1994,\\u00a0Steck, 1995,\\u00a0Sanders et al., 1995,\\u00a0Weiland et al., 1995,\\u00a0O'Doherty et al., 1997)\", \"Long Valley<br>Erupted volume: nan<br> References:Jiang, 2018\", \"Valles<br>Erupted volume: nan<br> References:Lutter et al. (1995)\", \"Taupo<br>Erupted volume: nan<br> References:Sherburn et al. (2003)\", \"Newberry volcano<br>Erupted volume: nan<br> References:(Achauer et al., 1988,\\u00a0Stauber et al., 1988)\", \"Medicine Lake<br>Erupted volume: nan<br> References:(Evans and Zucca, 1988,\\u00a0Lees and Crosson, 1989,\\u00a0Ritter and Evans, 1997)\", \"Mt. St. Helens<br>Erupted volume: nan<br> References:Lees (1992)\", \"Mt. Rainier<br>Erupted volume: nan<br> References:(Lees and Crosson, 1990,\\u00a0Moran et al., 1999)\", null, \"Krafla<br>Erupted volume: nan<br> References:(Einarsson, 1978,\\u00a0Foulger and Arnott, 1993)\", \"Hekla<br>Erupted volume: nan<br> References:Soosalu and Einarsson (2004)\", \"Torfaj\\u00f6kull<br>Erupted volume: nan<br> References:Soosalu and Einarsson (2004)\", \"Hengill\\u2013Grensdalur<br>Erupted volume: nan<br> References:Toomey and Foulger (1989)\", \"Redoubt<br>Erupted volume: nan<br> References:Benz et al. (1996)\", \"Unzen<br>Erupted volume: nan<br> References:Ohmi and Lees (1995)\", \"Onikobe<br>Erupted volume: nan<br> References:Nakajima and Hasegawa (2003)\", \"Kirishima<br>Erupted volume: nan<br> References:Yamamoto and Ida (1994)\", \"Nikko-Shirane<br>Erupted volume: nan<br> References:Horiuchi et al. (1997)\", \"Mt. Fuji<br>Erupted volume: nan<br> References:Nakamichi (2005)\", \"Klyuchevskoy<br>Erupted volume: nan<br> References:(Anosov et al., 1978,\\u00a0Ozerov, 2000)\", \"Halemaumau<br>Erupted volume: nan<br> References:Rowan and Clayton (1993)\", \"Kilauea<br>Erupted volume: nan<br> References:(Thurber, 1984,\\u00a0Rowan and Clayton, 1993,\\u00a0Okubo et al., 1997,\\u00a0Haslinger et al., 2001)\", \"Vesuvius<br>Erupted volume: nan<br> References:(De Natale et al., 1998,\\u00a0Zollo et al., 1998)\", \"Campi Flegrei<br>Erupted volume: nan<br> References:1988;\\u00a0Aster et al., 1992\", \"Mt. Etna<br>Erupted volume: nan<br> References:(Cardaci et al., 1993,\\u00a0Villasenor et al., 1998,\\u00a0Laigle and Hirn, 1999,\\u00a0Chiarabba et al., 2000,\\u00a0Aloisi et al., 2002)\", null, \"Pinatubo<br>Erupted volume: nan<br> References:Mori et al. (1996)\", \"Nevado del Ruiz<br>Erupted volume: nan<br> References:Londo\\u00f1o and Sudo (2003)\", \"Tungurahua<br>Erupted volume: nan<br> References:Molina et al. (2005)\", \"Gran Canaria<br>Erupted volume: nan<br> References:Krastel and Schmincke (2002)\"], \"type\": \"scattergeo\"}],\n                        {\"template\": {\"data\": {\"bar\": [{\"error_x\": {\"color\": \"#2a3f5f\"}, \"error_y\": {\"color\": \"#2a3f5f\"}, \"marker\": {\"line\": {\"color\": \"#E5ECF6\", \"width\": 0.5}}, \"type\": \"bar\"}], \"barpolar\": [{\"marker\": {\"line\": {\"color\": \"#E5ECF6\", \"width\": 0.5}}, \"type\": \"barpolar\"}], \"carpet\": [{\"aaxis\": {\"endlinecolor\": \"#2a3f5f\", \"gridcolor\": \"white\", \"linecolor\": \"white\", \"minorgridcolor\": \"white\", \"startlinecolor\": \"#2a3f5f\"}, \"baxis\": {\"endlinecolor\": \"#2a3f5f\", \"gridcolor\": \"white\", \"linecolor\": \"white\", \"minorgridcolor\": \"white\", \"startlinecolor\": \"#2a3f5f\"}, \"type\": \"carpet\"}], \"choropleth\": [{\"colorbar\": {\"outlinewidth\": 0, \"ticks\": \"\"}, \"type\": \"choropleth\"}], \"contour\": [{\"colorbar\": {\"outlinewidth\": 0, \"ticks\": \"\"}, \"colorscale\": [[0.0, \"#0d0887\"], [0.1111111111111111, \"#46039f\"], [0.2222222222222222, \"#7201a8\"], [0.3333333333333333, \"#9c179e\"], [0.4444444444444444, \"#bd3786\"], [0.5555555555555556, \"#d8576b\"], [0.6666666666666666, \"#ed7953\"], [0.7777777777777778, \"#fb9f3a\"], [0.8888888888888888, \"#fdca26\"], [1.0, \"#f0f921\"]], \"type\": \"contour\"}], \"contourcarpet\": [{\"colorbar\": {\"outlinewidth\": 0, \"ticks\": \"\"}, \"type\": \"contourcarpet\"}], \"heatmap\": [{\"colorbar\": {\"outlinewidth\": 0, \"ticks\": \"\"}, \"colorscale\": [[0.0, \"#0d0887\"], [0.1111111111111111, \"#46039f\"], [0.2222222222222222, \"#7201a8\"], [0.3333333333333333, \"#9c179e\"], [0.4444444444444444, \"#bd3786\"], [0.5555555555555556, \"#d8576b\"], [0.6666666666666666, \"#ed7953\"], [0.7777777777777778, \"#fb9f3a\"], [0.8888888888888888, \"#fdca26\"], [1.0, \"#f0f921\"]], \"type\": \"heatmap\"}], \"heatmapgl\": [{\"colorbar\": {\"outlinewidth\": 0, \"ticks\": \"\"}, \"colorscale\": [[0.0, \"#0d0887\"], [0.1111111111111111, \"#46039f\"], [0.2222222222222222, \"#7201a8\"], [0.3333333333333333, \"#9c179e\"], [0.4444444444444444, \"#bd3786\"], [0.5555555555555556, \"#d8576b\"], [0.6666666666666666, \"#ed7953\"], [0.7777777777777778, \"#fb9f3a\"], [0.8888888888888888, \"#fdca26\"], [1.0, \"#f0f921\"]], \"type\": \"heatmapgl\"}], \"histogram\": [{\"marker\": {\"colorbar\": {\"outlinewidth\": 0, \"ticks\": \"\"}}, \"type\": \"histogram\"}], \"histogram2d\": [{\"colorbar\": {\"outlinewidth\": 0, \"ticks\": \"\"}, \"colorscale\": [[0.0, \"#0d0887\"], [0.1111111111111111, \"#46039f\"], [0.2222222222222222, \"#7201a8\"], [0.3333333333333333, \"#9c179e\"], [0.4444444444444444, \"#bd3786\"], [0.5555555555555556, \"#d8576b\"], [0.6666666666666666, \"#ed7953\"], [0.7777777777777778, \"#fb9f3a\"], [0.8888888888888888, \"#fdca26\"], [1.0, \"#f0f921\"]], \"type\": \"histogram2d\"}], \"histogram2dcontour\": [{\"colorbar\": {\"outlinewidth\": 0, \"ticks\": \"\"}, \"colorscale\": [[0.0, \"#0d0887\"], [0.1111111111111111, \"#46039f\"], [0.2222222222222222, \"#7201a8\"], [0.3333333333333333, \"#9c179e\"], [0.4444444444444444, \"#bd3786\"], [0.5555555555555556, \"#d8576b\"], [0.6666666666666666, \"#ed7953\"], [0.7777777777777778, \"#fb9f3a\"], [0.8888888888888888, \"#fdca26\"], [1.0, \"#f0f921\"]], \"type\": \"histogram2dcontour\"}], \"mesh3d\": [{\"colorbar\": {\"outlinewidth\": 0, \"ticks\": \"\"}, \"type\": \"mesh3d\"}], \"parcoords\": [{\"line\": {\"colorbar\": {\"outlinewidth\": 0, \"ticks\": \"\"}}, \"type\": \"parcoords\"}], \"pie\": [{\"automargin\": true, \"type\": \"pie\"}], \"scatter\": [{\"marker\": {\"colorbar\": {\"outlinewidth\": 0, \"ticks\": \"\"}}, \"type\": \"scatter\"}], \"scatter3d\": [{\"line\": {\"colorbar\": {\"outlinewidth\": 0, \"ticks\": \"\"}}, \"marker\": {\"colorbar\": {\"outlinewidth\": 0, \"ticks\": \"\"}}, \"type\": \"scatter3d\"}], \"scattercarpet\": [{\"marker\": {\"colorbar\": {\"outlinewidth\": 0, \"ticks\": \"\"}}, \"type\": \"scattercarpet\"}], \"scattergeo\": [{\"marker\": {\"colorbar\": {\"outlinewidth\": 0, \"ticks\": \"\"}}, \"type\": \"scattergeo\"}], \"scattergl\": [{\"marker\": {\"colorbar\": {\"outlinewidth\": 0, \"ticks\": \"\"}}, \"type\": \"scattergl\"}], \"scattermapbox\": [{\"marker\": {\"colorbar\": {\"outlinewidth\": 0, \"ticks\": \"\"}}, \"type\": \"scattermapbox\"}], \"scatterpolar\": [{\"marker\": {\"colorbar\": {\"outlinewidth\": 0, \"ticks\": \"\"}}, \"type\": \"scatterpolar\"}], \"scatterpolargl\": [{\"marker\": {\"colorbar\": {\"outlinewidth\": 0, \"ticks\": \"\"}}, \"type\": \"scatterpolargl\"}], \"scatterternary\": [{\"marker\": {\"colorbar\": {\"outlinewidth\": 0, \"ticks\": \"\"}}, \"type\": \"scatterternary\"}], \"surface\": [{\"colorbar\": {\"outlinewidth\": 0, \"ticks\": \"\"}, \"colorscale\": [[0.0, \"#0d0887\"], [0.1111111111111111, \"#46039f\"], [0.2222222222222222, \"#7201a8\"], [0.3333333333333333, \"#9c179e\"], [0.4444444444444444, \"#bd3786\"], [0.5555555555555556, \"#d8576b\"], [0.6666666666666666, \"#ed7953\"], [0.7777777777777778, \"#fb9f3a\"], [0.8888888888888888, \"#fdca26\"], [1.0, \"#f0f921\"]], \"type\": \"surface\"}], \"table\": [{\"cells\": {\"fill\": {\"color\": \"#EBF0F8\"}, \"line\": {\"color\": \"white\"}}, \"header\": {\"fill\": {\"color\": \"#C8D4E3\"}, \"line\": {\"color\": \"white\"}}, \"type\": \"table\"}]}, \"layout\": {\"annotationdefaults\": {\"arrowcolor\": \"#2a3f5f\", \"arrowhead\": 0, \"arrowwidth\": 1}, \"coloraxis\": {\"colorbar\": {\"outlinewidth\": 0, \"ticks\": \"\"}}, \"colorscale\": {\"diverging\": [[0, \"#8e0152\"], [0.1, \"#c51b7d\"], [0.2, \"#de77ae\"], [0.3, \"#f1b6da\"], [0.4, \"#fde0ef\"], [0.5, \"#f7f7f7\"], [0.6, \"#e6f5d0\"], [0.7, \"#b8e186\"], [0.8, \"#7fbc41\"], [0.9, \"#4d9221\"], [1, \"#276419\"]], \"sequential\": [[0.0, \"#0d0887\"], [0.1111111111111111, \"#46039f\"], [0.2222222222222222, \"#7201a8\"], [0.3333333333333333, \"#9c179e\"], [0.4444444444444444, \"#bd3786\"], [0.5555555555555556, \"#d8576b\"], [0.6666666666666666, \"#ed7953\"], [0.7777777777777778, \"#fb9f3a\"], [0.8888888888888888, \"#fdca26\"], [1.0, \"#f0f921\"]], \"sequentialminus\": [[0.0, \"#0d0887\"], [0.1111111111111111, \"#46039f\"], [0.2222222222222222, \"#7201a8\"], [0.3333333333333333, \"#9c179e\"], [0.4444444444444444, \"#bd3786\"], [0.5555555555555556, \"#d8576b\"], [0.6666666666666666, \"#ed7953\"], [0.7777777777777778, \"#fb9f3a\"], [0.8888888888888888, \"#fdca26\"], [1.0, \"#f0f921\"]]}, \"colorway\": [\"#636efa\", \"#EF553B\", \"#00cc96\", \"#ab63fa\", \"#FFA15A\", \"#19d3f3\", \"#FF6692\", \"#B6E880\", \"#FF97FF\", \"#FECB52\"], \"font\": {\"color\": \"#2a3f5f\"}, \"geo\": {\"bgcolor\": \"white\", \"lakecolor\": \"white\", \"landcolor\": \"#E5ECF6\", \"showlakes\": true, \"showland\": true, \"subunitcolor\": \"white\"}, \"hoverlabel\": {\"align\": \"left\"}, \"hovermode\": \"closest\", \"mapbox\": {\"style\": \"light\"}, \"paper_bgcolor\": \"white\", \"plot_bgcolor\": \"#E5ECF6\", \"polar\": {\"angularaxis\": {\"gridcolor\": \"white\", \"linecolor\": \"white\", \"ticks\": \"\"}, \"bgcolor\": \"#E5ECF6\", \"radialaxis\": {\"gridcolor\": \"white\", \"linecolor\": \"white\", \"ticks\": \"\"}}, \"scene\": {\"xaxis\": {\"backgroundcolor\": \"#E5ECF6\", \"gridcolor\": \"white\", \"gridwidth\": 2, \"linecolor\": \"white\", \"showbackground\": true, \"ticks\": \"\", \"zerolinecolor\": \"white\"}, \"yaxis\": {\"backgroundcolor\": \"#E5ECF6\", \"gridcolor\": \"white\", \"gridwidth\": 2, \"linecolor\": \"white\", \"showbackground\": true, \"ticks\": \"\", \"zerolinecolor\": \"white\"}, \"zaxis\": {\"backgroundcolor\": \"#E5ECF6\", \"gridcolor\": \"white\", \"gridwidth\": 2, \"linecolor\": \"white\", \"showbackground\": true, \"ticks\": \"\", \"zerolinecolor\": \"white\"}}, \"shapedefaults\": {\"line\": {\"color\": \"#2a3f5f\"}}, \"ternary\": {\"aaxis\": {\"gridcolor\": \"white\", \"linecolor\": \"white\", \"ticks\": \"\"}, \"baxis\": {\"gridcolor\": \"white\", \"linecolor\": \"white\", \"ticks\": \"\"}, \"bgcolor\": \"#E5ECF6\", \"caxis\": {\"gridcolor\": \"white\", \"linecolor\": \"white\", \"ticks\": \"\"}}, \"title\": {\"x\": 0.05}, \"xaxis\": {\"automargin\": true, \"gridcolor\": \"white\", \"linecolor\": \"white\", \"ticks\": \"\", \"title\": {\"standoff\": 15}, \"zerolinecolor\": \"white\", \"zerolinewidth\": 2}, \"yaxis\": {\"automargin\": true, \"gridcolor\": \"white\", \"linecolor\": \"white\", \"ticks\": \"\", \"title\": {\"standoff\": 15}, \"zerolinecolor\": \"white\", \"zerolinewidth\": 2}}}},\n                        {\"responsive\": true}\n                    ).then(function(){\n                            \nvar gd = document.getElementById('f1fd11e0-d0de-4ab1-9ddd-0b2f8bac186c');\nvar x = new MutationObserver(function (mutations, observer) {{\n        var display = window.getComputedStyle(gd).display;\n        if (!display || display === 'none') {{\n            console.log([gd, 'removed!']);\n            Plotly.purge(gd);\n            observer.disconnect();\n        }}\n}});\n\n// Listen for the removal of the full notebook cells\nvar notebookContainer = gd.closest('#notebook-container');\nif (notebookContainer) {{\n    x.observe(notebookContainer, {childList: true});\n}}\n\n// Listen for the clearing of the current output cell\nvar outputEl = gd.closest('.output');\nif (outputEl) {{\n    x.observe(outputEl, {childList: true});\n}}\n\n                        })\n                };\n                });\n            </script>\n        </div>"
         },
         "metadata": {},
         "output_type": "display_data"
        }
       ]
      }
     },
     "68734675d29d43ae988d198f4eef2eaf": {
      "model_module": "@jupyter-widgets/base",
      "model_module_version": "1.2.0",
      "model_name": "LayoutModel",
      "state": {}
     },
     "69fb8d1f4b964de7900a03607da02628": {
      "model_module": "@jupyter-widgets/controls",
      "model_module_version": "1.5.0",
      "model_name": "DescriptionStyleModel",
      "state": {
       "description_width": ""
      }
     },
     "6a23ab4d491242eaba55253f96d2202b": {
      "model_module": "@jupyter-widgets/controls",
      "model_module_version": "1.5.0",
      "model_name": "VBoxModel",
      "state": {
       "_dom_classes": [
        "widget-interact"
       ],
       "children": [
        "IPY_MODEL_c409ee3eb32f42c6b9169a36c3900837",
        "IPY_MODEL_36618a5eccbb4f898d765d00e033fc3d"
       ],
       "layout": "IPY_MODEL_bc6134f6c90244559c2197c9555d6128"
      }
     },
     "6b4257d0a7734139aa312eb85bf5bd43": {
      "model_module": "@jupyter-widgets/base",
      "model_module_version": "1.2.0",
      "model_name": "LayoutModel",
      "state": {}
     },
     "6d3a590ce5454fa8bb4b0024b302bd5a": {
      "model_module": "@jupyter-widgets/base",
      "model_module_version": "1.2.0",
      "model_name": "LayoutModel",
      "state": {}
     },
     "71103b4255cb4ae5b64c778006829e5d": {
      "model_module": "@jupyter-widgets/base",
      "model_module_version": "1.2.0",
      "model_name": "LayoutModel",
      "state": {}
     },
     "747c088e5e95458689bd8485d7f8b35b": {
      "model_module": "@jupyter-widgets/controls",
      "model_module_version": "1.5.0",
      "model_name": "DropdownModel",
      "state": {
       "_options_labels": [
        "Erupted volume",
        "Anomaly volume"
       ],
       "description": "key",
       "index": 0,
       "layout": "IPY_MODEL_b3824b43b00c4940a6e62221393059ec",
       "style": "IPY_MODEL_278244c0963e4fd4bc62f476bad7e4b4"
      }
     },
     "757d4a25f9ff49df85819d4934ed9800": {
      "model_module": "@jupyter-widgets/controls",
      "model_module_version": "1.5.0",
      "model_name": "VBoxModel",
      "state": {
       "_dom_classes": [
        "widget-interact"
       ],
       "children": [
        "IPY_MODEL_521d0655930b4655a0020bb6a2c074d0",
        "IPY_MODEL_3f7b67a168524163be5dcc4aa668a45b"
       ],
       "layout": "IPY_MODEL_cf9bf67a020c41a383e809ac6a7ded2c"
      }
     },
     "75fa132e3cd048ab8266d56a6335359d": {
      "model_module": "@jupyter-widgets/controls",
      "model_module_version": "1.5.0",
      "model_name": "DropdownModel",
      "state": {
       "_options_labels": [
        "Erupted volume",
        "Anomaly volume"
       ],
       "description": "key",
       "index": 0,
       "layout": "IPY_MODEL_d9a37ec6c79d46708f6b8d8bcac48853",
       "style": "IPY_MODEL_1f75500cb926433981695a10646824e9"
      }
     },
     "77a4801aef4e4732ab3ab57aca6bd1cc": {
      "model_module": "@jupyter-widgets/controls",
      "model_module_version": "1.5.0",
      "model_name": "DropdownModel",
      "state": {
       "_options_labels": [
        "Erupted volume",
        "Anomaly volume"
       ],
       "description": "key",
       "index": 0,
       "layout": "IPY_MODEL_d284b3e348d9462cb74f7957bf5b548a",
       "style": "IPY_MODEL_03fc23a65c93411d979ede67c3f7c25a"
      }
     },
     "78b610326cef41d393a02c4d0fac4d7f": {
      "model_module": "@jupyter-widgets/controls",
      "model_module_version": "1.5.0",
      "model_name": "DescriptionStyleModel",
      "state": {
       "description_width": ""
      }
     },
     "7a7d86e4ea6a42ac80a0f58478cb7b63": {
      "model_module": "@jupyter-widgets/base",
      "model_module_version": "1.2.0",
      "model_name": "LayoutModel",
      "state": {}
     },
     "7bbf67e4bd4c45f59cb260f16923e301": {
      "model_module": "@jupyter-widgets/base",
      "model_module_version": "1.2.0",
      "model_name": "LayoutModel",
      "state": {}
     },
     "7d8a7e2f43b04fe0939473880e23da07": {
      "model_module": "@jupyter-widgets/controls",
      "model_module_version": "1.5.0",
      "model_name": "VBoxModel",
      "state": {
       "_dom_classes": [
        "widget-interact"
       ],
       "children": [
        "IPY_MODEL_15b5b751fb364913bd55bbf00b078389",
        "IPY_MODEL_c495232d959842f0bc2e22dc75b87f01"
       ],
       "layout": "IPY_MODEL_f9c569360562412581d7567392493272"
      }
     },
     "7fff8d51fcbf4c188adae898d8525c1f": {
      "model_module": "@jupyter-widgets/controls",
      "model_module_version": "1.5.0",
      "model_name": "DescriptionStyleModel",
      "state": {
       "description_width": ""
      }
     },
     "8069ba7395b24fe39c3e4cb0792cf86f": {
      "model_module": "@jupyter-widgets/base",
      "model_module_version": "1.2.0",
      "model_name": "LayoutModel",
      "state": {}
     },
     "82170498e48342daa1051a19ac8a8204": {
      "model_module": "@jupyter-widgets/base",
      "model_module_version": "1.2.0",
      "model_name": "LayoutModel",
      "state": {}
     },
     "87f304bbddae4a76ab813141bad3b68e": {
      "model_module": "@jupyter-widgets/controls",
      "model_module_version": "1.5.0",
      "model_name": "DropdownModel",
      "state": {
       "_options_labels": [
        "Erupted volume",
        "Anomaly volume"
       ],
       "description": "key",
       "index": 0,
       "layout": "IPY_MODEL_88eccf165115463b86fdad70a0ca6ea5",
       "style": "IPY_MODEL_30414071ae6042bcbdb79a040c822900"
      }
     },
     "88c4767cd7ef4b73acc074c9f190af0c": {
      "model_module": "@jupyter-widgets/base",
      "model_module_version": "1.2.0",
      "model_name": "LayoutModel",
      "state": {}
     },
     "88eccf165115463b86fdad70a0ca6ea5": {
      "model_module": "@jupyter-widgets/base",
      "model_module_version": "1.2.0",
      "model_name": "LayoutModel",
      "state": {}
     },
     "8af1f4166ec6413b84dca76ed65319d3": {
      "model_module": "@jupyter-widgets/controls",
      "model_module_version": "1.5.0",
      "model_name": "DropdownModel",
      "state": {
       "_options_labels": [
        "Erupted volume",
        "Anomaly volume"
       ],
       "description": "key",
       "index": 0,
       "layout": "IPY_MODEL_82170498e48342daa1051a19ac8a8204",
       "style": "IPY_MODEL_7fff8d51fcbf4c188adae898d8525c1f"
      }
     },
     "8e4d0300c0064b0f84c04c79a784a3cd": {
      "model_module": "@jupyter-widgets/base",
      "model_module_version": "1.2.0",
      "model_name": "LayoutModel",
      "state": {}
     },
     "8f99bcdf59ee4947be5ceaf2bf050353": {
      "model_module": "@jupyter-widgets/controls",
      "model_module_version": "1.5.0",
      "model_name": "DropdownModel",
      "state": {
       "_options_labels": [
        "Erupted volume",
        "Anomaly volume"
       ],
       "description": "key",
       "index": 1,
       "layout": "IPY_MODEL_44ca5327ce9a4d5e9d1c82c06ac81284",
       "style": "IPY_MODEL_b127198289034e6d976e5dffeb66813b"
      }
     },
     "931ca2a2469e4b14a59954526c07bfe3": {
      "model_module": "@jupyter-widgets/controls",
      "model_module_version": "1.5.0",
      "model_name": "DescriptionStyleModel",
      "state": {
       "description_width": ""
      }
     },
     "947b97047a7a491992578be1ef8fcc3b": {
      "model_module": "@jupyter-widgets/controls",
      "model_module_version": "1.5.0",
      "model_name": "DescriptionStyleModel",
      "state": {
       "description_width": ""
      }
     },
     "94f0b32d054043048f3d70d5c8001b4a": {
      "model_module": "@jupyter-widgets/base",
      "model_module_version": "1.2.0",
      "model_name": "LayoutModel",
      "state": {}
     },
     "978cb56f92a24f1f8016889705400c47": {
      "model_module": "@jupyter-widgets/base",
      "model_module_version": "1.2.0",
      "model_name": "LayoutModel",
      "state": {}
     },
     "97bdc2ad36f14fb5811a714b0811a531": {
      "model_module": "@jupyter-widgets/controls",
      "model_module_version": "1.5.0",
      "model_name": "DropdownModel",
      "state": {
       "_options_labels": [
        "Erupted volume",
        "Anomaly volume"
       ],
       "description": "key",
       "index": 0,
       "layout": "IPY_MODEL_ea9318fe13c74bf580792c56ad61eebe",
       "style": "IPY_MODEL_0b24d5a793324152bb4ec4cf78f48e4c"
      }
     },
     "9a77aa521f1e46eb9530f6152e03b46f": {
      "model_module": "@jupyter-widgets/controls",
      "model_module_version": "1.5.0",
      "model_name": "VBoxModel",
      "state": {
       "_dom_classes": [
        "widget-interact"
       ],
       "children": [
        "IPY_MODEL_8f99bcdf59ee4947be5ceaf2bf050353",
        "IPY_MODEL_e920122888c94dfd84e5eeb49c5b9ebb"
       ],
       "layout": "IPY_MODEL_7bbf67e4bd4c45f59cb260f16923e301"
      }
     },
     "9d710cd925ea480fba58006969b5ed84": {
      "model_module": "@jupyter-widgets/output",
      "model_module_version": "1.0.0",
      "model_name": "OutputModel",
      "state": {
       "layout": "IPY_MODEL_978cb56f92a24f1f8016889705400c47",
       "outputs": [
        {
         "data": {
          "application/vnd.plotly.v1+json": {
           "config": {
            "plotlyServerURL": "https://plot.ly"
           },
           "data": [
            {
             "lat": [
              16.72,
              16.72,
              36.404,
              36.404,
              32.884,
              32.884,
              32.884,
              2.58,
              2.58,
              2.58,
              2.58,
              44.43,
              44.43,
              44.43,
              44.43,
              44.43,
              44.43,
              37.7166666666667,
              37.7166666666667,
              35.9,
              -38.82,
              43.722,
              41.611,
              46.2,
              46.853,
              -22.2666666666667,
              65.715,
              63.983,
              63.892,
              64.083,
              60.485,
              32.761,
              38.83,
              31.934,
              36.7833333333333,
              35.361,
              56.056,
              19.421,
              19.421,
              40.821,
              40.827,
              37.748,
              38.789,
              15.13,
              4.892,
              -1.467,
              28
             ],
             "lon": [
              -62.18,
              -62.18,
              25.396,
              25.396,
              131.104,
              131.104,
              131.104,
              98.83,
              98.83,
              98.83,
              98.83,
              -110.67,
              -110.67,
              -110.67,
              -110.67,
              -110.67,
              -110.67,
              -118.883333333333,
              -118.883333333333,
              -106.533333333333,
              176,
              -121.229,
              -121.554,
              -122.18,
              121.76,
              -67.1666666666667,
              -16.728,
              -19.666,
              -19.122,
              -21.416,
              -152.742,
              130.299,
              140.7,
              130.862,
              139.366666666667,
              138.728,
              160.642,
              -155.287,
              -155.287,
              14.426,
              14.139,
              14.999,
              15.213,
              120.35,
              -75.324,
              -78.442,
              -15.58
             ],
             "marker": {
              "size": [
               215.44346900318837,
               215.44346900318837,
               464.15888336127784,
               464.15888336127784,
               843.4326653017491,
               843.4326653017491,
               843.4326653017491,
               1409.4597464129781,
               1409.4597464129781,
               1409.4597464129781,
               1409.4597464129781,
               1348.0997498879249,
               1348.0997498879249,
               1348.0997498879249,
               1348.0997498879249,
               1348.0997498879249,
               1348.0997498879249,
               100,
               100,
               100,
               100,
               100,
               100,
               100,
               100,
               100,
               100,
               100,
               100,
               100,
               100,
               100,
               100,
               100,
               100,
               100,
               100,
               100,
               100,
               100,
               100,
               100,
               100,
               100,
               100,
               100,
               100
              ],
              "sizemode": "area"
             },
             "text": [
              "Soufriere Hills Volcano<br>Erupted volume: 10.0",
              "Soufriere Hills Volcano<br>Erupted volume: 10.0",
              "Santorini<br>Erupted volume: 100.0",
              "Santorini<br>Erupted volume: 100.0",
              "Aso Caldera<br>Erupted volume: 600.0",
              "Aso Caldera<br>Erupted volume: 600.0",
              "Aso Caldera<br>Erupted volume: 600.0",
              "Toba<br>Erupted volume: 2800.0",
              "Toba<br>Erupted volume: 2800.0",
              "Toba<br>Erupted volume: 2800.0",
              "Toba<br>Erupted volume: 2800.0",
              "Yellowstone<br>Erupted volume: 2450.0",
              "Yellowstone<br>Erupted volume: 2450.0",
              "Yellowstone<br>Erupted volume: 2450.0",
              "Yellowstone<br>Erupted volume: 2450.0",
              "Yellowstone<br>Erupted volume: 2450.0",
              "Yellowstone<br>Erupted volume: 2450.0",
              "Long Valley<br>Erupted volume: nan",
              "Long Valley<br>Erupted volume: nan",
              "Valles<br>Erupted volume: nan",
              "Taupo<br>Erupted volume: nan",
              "Newberry volcano<br>Erupted volume: nan",
              "Medicine Lake<br>Erupted volume: nan",
              "Mt. St. Helens<br>Erupted volume: nan",
              "Mt. Rainier<br>Erupted volume: nan",
              "Altiplano Puna<br>Erupted volume: nan",
              "Krafla<br>Erupted volume: nan",
              "Hekla<br>Erupted volume: nan",
              "Torfajökull<br>Erupted volume: nan",
              "Hengill–Grensdalur<br>Erupted volume: nan",
              "Redoubt<br>Erupted volume: nan",
              "Unzen<br>Erupted volume: nan",
              "Onikobe<br>Erupted volume: nan",
              "Kirishima<br>Erupted volume: nan",
              "Nikko-Shirane<br>Erupted volume: nan",
              "Mt. Fuji<br>Erupted volume: nan",
              "Klyuchevskoy<br>Erupted volume: nan",
              "Halemaumau<br>Erupted volume: nan",
              "Kilauea<br>Erupted volume: nan",
              "Vesuvius<br>Erupted volume: nan",
              "Campi Flegrei<br>Erupted volume: nan",
              "Mt. Etna<br>Erupted volume: nan",
              "Stromboli<br>Erupted volume: nan",
              "Pinatubo<br>Erupted volume: nan",
              "Nevado del Ruiz<br>Erupted volume: nan",
              "Tungurahua<br>Erupted volume: nan",
              "Gran Canaria<br>Erupted volume: nan"
             ],
             "type": "scattergeo"
            }
           ],
           "layout": {
            "template": {
             "data": {
              "bar": [
               {
                "error_x": {
                 "color": "#2a3f5f"
                },
                "error_y": {
                 "color": "#2a3f5f"
                },
                "marker": {
                 "line": {
                  "color": "#E5ECF6",
                  "width": 0.5
                 }
                },
                "type": "bar"
               }
              ],
              "barpolar": [
               {
                "marker": {
                 "line": {
                  "color": "#E5ECF6",
                  "width": 0.5
                 }
                },
                "type": "barpolar"
               }
              ],
              "carpet": [
               {
                "aaxis": {
                 "endlinecolor": "#2a3f5f",
                 "gridcolor": "white",
                 "linecolor": "white",
                 "minorgridcolor": "white",
                 "startlinecolor": "#2a3f5f"
                },
                "baxis": {
                 "endlinecolor": "#2a3f5f",
                 "gridcolor": "white",
                 "linecolor": "white",
                 "minorgridcolor": "white",
                 "startlinecolor": "#2a3f5f"
                },
                "type": "carpet"
               }
              ],
              "choropleth": [
               {
                "colorbar": {
                 "outlinewidth": 0,
                 "ticks": ""
                },
                "type": "choropleth"
               }
              ],
              "contour": [
               {
                "colorbar": {
                 "outlinewidth": 0,
                 "ticks": ""
                },
                "colorscale": [
                 [
                  0,
                  "#0d0887"
                 ],
                 [
                  0.1111111111111111,
                  "#46039f"
                 ],
                 [
                  0.2222222222222222,
                  "#7201a8"
                 ],
                 [
                  0.3333333333333333,
                  "#9c179e"
                 ],
                 [
                  0.4444444444444444,
                  "#bd3786"
                 ],
                 [
                  0.5555555555555556,
                  "#d8576b"
                 ],
                 [
                  0.6666666666666666,
                  "#ed7953"
                 ],
                 [
                  0.7777777777777778,
                  "#fb9f3a"
                 ],
                 [
                  0.8888888888888888,
                  "#fdca26"
                 ],
                 [
                  1,
                  "#f0f921"
                 ]
                ],
                "type": "contour"
               }
              ],
              "contourcarpet": [
               {
                "colorbar": {
                 "outlinewidth": 0,
                 "ticks": ""
                },
                "type": "contourcarpet"
               }
              ],
              "heatmap": [
               {
                "colorbar": {
                 "outlinewidth": 0,
                 "ticks": ""
                },
                "colorscale": [
                 [
                  0,
                  "#0d0887"
                 ],
                 [
                  0.1111111111111111,
                  "#46039f"
                 ],
                 [
                  0.2222222222222222,
                  "#7201a8"
                 ],
                 [
                  0.3333333333333333,
                  "#9c179e"
                 ],
                 [
                  0.4444444444444444,
                  "#bd3786"
                 ],
                 [
                  0.5555555555555556,
                  "#d8576b"
                 ],
                 [
                  0.6666666666666666,
                  "#ed7953"
                 ],
                 [
                  0.7777777777777778,
                  "#fb9f3a"
                 ],
                 [
                  0.8888888888888888,
                  "#fdca26"
                 ],
                 [
                  1,
                  "#f0f921"
                 ]
                ],
                "type": "heatmap"
               }
              ],
              "heatmapgl": [
               {
                "colorbar": {
                 "outlinewidth": 0,
                 "ticks": ""
                },
                "colorscale": [
                 [
                  0,
                  "#0d0887"
                 ],
                 [
                  0.1111111111111111,
                  "#46039f"
                 ],
                 [
                  0.2222222222222222,
                  "#7201a8"
                 ],
                 [
                  0.3333333333333333,
                  "#9c179e"
                 ],
                 [
                  0.4444444444444444,
                  "#bd3786"
                 ],
                 [
                  0.5555555555555556,
                  "#d8576b"
                 ],
                 [
                  0.6666666666666666,
                  "#ed7953"
                 ],
                 [
                  0.7777777777777778,
                  "#fb9f3a"
                 ],
                 [
                  0.8888888888888888,
                  "#fdca26"
                 ],
                 [
                  1,
                  "#f0f921"
                 ]
                ],
                "type": "heatmapgl"
               }
              ],
              "histogram": [
               {
                "marker": {
                 "colorbar": {
                  "outlinewidth": 0,
                  "ticks": ""
                 }
                },
                "type": "histogram"
               }
              ],
              "histogram2d": [
               {
                "colorbar": {
                 "outlinewidth": 0,
                 "ticks": ""
                },
                "colorscale": [
                 [
                  0,
                  "#0d0887"
                 ],
                 [
                  0.1111111111111111,
                  "#46039f"
                 ],
                 [
                  0.2222222222222222,
                  "#7201a8"
                 ],
                 [
                  0.3333333333333333,
                  "#9c179e"
                 ],
                 [
                  0.4444444444444444,
                  "#bd3786"
                 ],
                 [
                  0.5555555555555556,
                  "#d8576b"
                 ],
                 [
                  0.6666666666666666,
                  "#ed7953"
                 ],
                 [
                  0.7777777777777778,
                  "#fb9f3a"
                 ],
                 [
                  0.8888888888888888,
                  "#fdca26"
                 ],
                 [
                  1,
                  "#f0f921"
                 ]
                ],
                "type": "histogram2d"
               }
              ],
              "histogram2dcontour": [
               {
                "colorbar": {
                 "outlinewidth": 0,
                 "ticks": ""
                },
                "colorscale": [
                 [
                  0,
                  "#0d0887"
                 ],
                 [
                  0.1111111111111111,
                  "#46039f"
                 ],
                 [
                  0.2222222222222222,
                  "#7201a8"
                 ],
                 [
                  0.3333333333333333,
                  "#9c179e"
                 ],
                 [
                  0.4444444444444444,
                  "#bd3786"
                 ],
                 [
                  0.5555555555555556,
                  "#d8576b"
                 ],
                 [
                  0.6666666666666666,
                  "#ed7953"
                 ],
                 [
                  0.7777777777777778,
                  "#fb9f3a"
                 ],
                 [
                  0.8888888888888888,
                  "#fdca26"
                 ],
                 [
                  1,
                  "#f0f921"
                 ]
                ],
                "type": "histogram2dcontour"
               }
              ],
              "mesh3d": [
               {
                "colorbar": {
                 "outlinewidth": 0,
                 "ticks": ""
                },
                "type": "mesh3d"
               }
              ],
              "parcoords": [
               {
                "line": {
                 "colorbar": {
                  "outlinewidth": 0,
                  "ticks": ""
                 }
                },
                "type": "parcoords"
               }
              ],
              "pie": [
               {
                "automargin": true,
                "type": "pie"
               }
              ],
              "scatter": [
               {
                "marker": {
                 "colorbar": {
                  "outlinewidth": 0,
                  "ticks": ""
                 }
                },
                "type": "scatter"
               }
              ],
              "scatter3d": [
               {
                "line": {
                 "colorbar": {
                  "outlinewidth": 0,
                  "ticks": ""
                 }
                },
                "marker": {
                 "colorbar": {
                  "outlinewidth": 0,
                  "ticks": ""
                 }
                },
                "type": "scatter3d"
               }
              ],
              "scattercarpet": [
               {
                "marker": {
                 "colorbar": {
                  "outlinewidth": 0,
                  "ticks": ""
                 }
                },
                "type": "scattercarpet"
               }
              ],
              "scattergeo": [
               {
                "marker": {
                 "colorbar": {
                  "outlinewidth": 0,
                  "ticks": ""
                 }
                },
                "type": "scattergeo"
               }
              ],
              "scattergl": [
               {
                "marker": {
                 "colorbar": {
                  "outlinewidth": 0,
                  "ticks": ""
                 }
                },
                "type": "scattergl"
               }
              ],
              "scattermapbox": [
               {
                "marker": {
                 "colorbar": {
                  "outlinewidth": 0,
                  "ticks": ""
                 }
                },
                "type": "scattermapbox"
               }
              ],
              "scatterpolar": [
               {
                "marker": {
                 "colorbar": {
                  "outlinewidth": 0,
                  "ticks": ""
                 }
                },
                "type": "scatterpolar"
               }
              ],
              "scatterpolargl": [
               {
                "marker": {
                 "colorbar": {
                  "outlinewidth": 0,
                  "ticks": ""
                 }
                },
                "type": "scatterpolargl"
               }
              ],
              "scatterternary": [
               {
                "marker": {
                 "colorbar": {
                  "outlinewidth": 0,
                  "ticks": ""
                 }
                },
                "type": "scatterternary"
               }
              ],
              "surface": [
               {
                "colorbar": {
                 "outlinewidth": 0,
                 "ticks": ""
                },
                "colorscale": [
                 [
                  0,
                  "#0d0887"
                 ],
                 [
                  0.1111111111111111,
                  "#46039f"
                 ],
                 [
                  0.2222222222222222,
                  "#7201a8"
                 ],
                 [
                  0.3333333333333333,
                  "#9c179e"
                 ],
                 [
                  0.4444444444444444,
                  "#bd3786"
                 ],
                 [
                  0.5555555555555556,
                  "#d8576b"
                 ],
                 [
                  0.6666666666666666,
                  "#ed7953"
                 ],
                 [
                  0.7777777777777778,
                  "#fb9f3a"
                 ],
                 [
                  0.8888888888888888,
                  "#fdca26"
                 ],
                 [
                  1,
                  "#f0f921"
                 ]
                ],
                "type": "surface"
               }
              ],
              "table": [
               {
                "cells": {
                 "fill": {
                  "color": "#EBF0F8"
                 },
                 "line": {
                  "color": "white"
                 }
                },
                "header": {
                 "fill": {
                  "color": "#C8D4E3"
                 },
                 "line": {
                  "color": "white"
                 }
                },
                "type": "table"
               }
              ]
             },
             "layout": {
              "annotationdefaults": {
               "arrowcolor": "#2a3f5f",
               "arrowhead": 0,
               "arrowwidth": 1
              },
              "coloraxis": {
               "colorbar": {
                "outlinewidth": 0,
                "ticks": ""
               }
              },
              "colorscale": {
               "diverging": [
                [
                 0,
                 "#8e0152"
                ],
                [
                 0.1,
                 "#c51b7d"
                ],
                [
                 0.2,
                 "#de77ae"
                ],
                [
                 0.3,
                 "#f1b6da"
                ],
                [
                 0.4,
                 "#fde0ef"
                ],
                [
                 0.5,
                 "#f7f7f7"
                ],
                [
                 0.6,
                 "#e6f5d0"
                ],
                [
                 0.7,
                 "#b8e186"
                ],
                [
                 0.8,
                 "#7fbc41"
                ],
                [
                 0.9,
                 "#4d9221"
                ],
                [
                 1,
                 "#276419"
                ]
               ],
               "sequential": [
                [
                 0,
                 "#0d0887"
                ],
                [
                 0.1111111111111111,
                 "#46039f"
                ],
                [
                 0.2222222222222222,
                 "#7201a8"
                ],
                [
                 0.3333333333333333,
                 "#9c179e"
                ],
                [
                 0.4444444444444444,
                 "#bd3786"
                ],
                [
                 0.5555555555555556,
                 "#d8576b"
                ],
                [
                 0.6666666666666666,
                 "#ed7953"
                ],
                [
                 0.7777777777777778,
                 "#fb9f3a"
                ],
                [
                 0.8888888888888888,
                 "#fdca26"
                ],
                [
                 1,
                 "#f0f921"
                ]
               ],
               "sequentialminus": [
                [
                 0,
                 "#0d0887"
                ],
                [
                 0.1111111111111111,
                 "#46039f"
                ],
                [
                 0.2222222222222222,
                 "#7201a8"
                ],
                [
                 0.3333333333333333,
                 "#9c179e"
                ],
                [
                 0.4444444444444444,
                 "#bd3786"
                ],
                [
                 0.5555555555555556,
                 "#d8576b"
                ],
                [
                 0.6666666666666666,
                 "#ed7953"
                ],
                [
                 0.7777777777777778,
                 "#fb9f3a"
                ],
                [
                 0.8888888888888888,
                 "#fdca26"
                ],
                [
                 1,
                 "#f0f921"
                ]
               ]
              },
              "colorway": [
               "#636efa",
               "#EF553B",
               "#00cc96",
               "#ab63fa",
               "#FFA15A",
               "#19d3f3",
               "#FF6692",
               "#B6E880",
               "#FF97FF",
               "#FECB52"
              ],
              "font": {
               "color": "#2a3f5f"
              },
              "geo": {
               "bgcolor": "white",
               "lakecolor": "white",
               "landcolor": "#E5ECF6",
               "showlakes": true,
               "showland": true,
               "subunitcolor": "white"
              },
              "hoverlabel": {
               "align": "left"
              },
              "hovermode": "closest",
              "mapbox": {
               "style": "light"
              },
              "paper_bgcolor": "white",
              "plot_bgcolor": "#E5ECF6",
              "polar": {
               "angularaxis": {
                "gridcolor": "white",
                "linecolor": "white",
                "ticks": ""
               },
               "bgcolor": "#E5ECF6",
               "radialaxis": {
                "gridcolor": "white",
                "linecolor": "white",
                "ticks": ""
               }
              },
              "scene": {
               "xaxis": {
                "backgroundcolor": "#E5ECF6",
                "gridcolor": "white",
                "gridwidth": 2,
                "linecolor": "white",
                "showbackground": true,
                "ticks": "",
                "zerolinecolor": "white"
               },
               "yaxis": {
                "backgroundcolor": "#E5ECF6",
                "gridcolor": "white",
                "gridwidth": 2,
                "linecolor": "white",
                "showbackground": true,
                "ticks": "",
                "zerolinecolor": "white"
               },
               "zaxis": {
                "backgroundcolor": "#E5ECF6",
                "gridcolor": "white",
                "gridwidth": 2,
                "linecolor": "white",
                "showbackground": true,
                "ticks": "",
                "zerolinecolor": "white"
               }
              },
              "shapedefaults": {
               "line": {
                "color": "#2a3f5f"
               }
              },
              "ternary": {
               "aaxis": {
                "gridcolor": "white",
                "linecolor": "white",
                "ticks": ""
               },
               "baxis": {
                "gridcolor": "white",
                "linecolor": "white",
                "ticks": ""
               },
               "bgcolor": "#E5ECF6",
               "caxis": {
                "gridcolor": "white",
                "linecolor": "white",
                "ticks": ""
               }
              },
              "title": {
               "x": 0.05
              },
              "xaxis": {
               "automargin": true,
               "gridcolor": "white",
               "linecolor": "white",
               "ticks": "",
               "title": {
                "standoff": 15
               },
               "zerolinecolor": "white",
               "zerolinewidth": 2
              },
              "yaxis": {
               "automargin": true,
               "gridcolor": "white",
               "linecolor": "white",
               "ticks": "",
               "title": {
                "standoff": 15
               },
               "zerolinecolor": "white",
               "zerolinewidth": 2
              }
             }
            }
           }
          },
          "text/html": "<div>\n        \n        \n            <div id=\"53a3dc92-c50a-42d3-bffc-32fd177b64db\" class=\"plotly-graph-div\" style=\"height:525px; width:100%;\"></div>\n            <script type=\"text/javascript\">\n                require([\"plotly\"], function(Plotly) {\n                    window.PLOTLYENV=window.PLOTLYENV || {};\n                    \n                if (document.getElementById(\"53a3dc92-c50a-42d3-bffc-32fd177b64db\")) {\n                    Plotly.newPlot(\n                        '53a3dc92-c50a-42d3-bffc-32fd177b64db',\n                        [{\"lat\": [16.72, 16.72, 36.404, 36.404, 32.884, 32.884, 32.884, 2.58, 2.58, 2.58, 2.58, 44.43, 44.43, 44.43, 44.43, 44.43, 44.43, 37.7166666666667, 37.7166666666667, 35.9, -38.82, 43.722, 41.611, 46.2, 46.853, -22.2666666666667, 65.715, 63.983, 63.892, 64.083, 60.485, 32.761, 38.83, 31.934, 36.7833333333333, 35.361, 56.056, 19.421, 19.421, 40.821, 40.827, 37.748, 38.789, 15.13, 4.892, -1.467, 28.0], \"lon\": [-62.18, -62.18, 25.396, 25.396, 131.104, 131.104, 131.104, 98.83, 98.83, 98.83, 98.83, -110.67, -110.67, -110.67, -110.67, -110.67, -110.67, -118.883333333333, -118.883333333333, -106.533333333333, 176.0, -121.229, -121.554, -122.18, 121.76, -67.1666666666667, -16.728, -19.666, -19.122, -21.416, -152.742, 130.299, 140.7, 130.862, 139.366666666667, 138.728, 160.642, -155.287, -155.287, 14.426, 14.139, 14.999, 15.213, 120.35, -75.324, -78.442, -15.58], \"marker\": {\"size\": [215.44346900318837, 215.44346900318837, 464.15888336127784, 464.15888336127784, 843.4326653017491, 843.4326653017491, 843.4326653017491, 1409.4597464129781, 1409.4597464129781, 1409.4597464129781, 1409.4597464129781, 1348.0997498879249, 1348.0997498879249, 1348.0997498879249, 1348.0997498879249, 1348.0997498879249, 1348.0997498879249, 100.0, 100.0, 100.0, 100.0, 100.0, 100.0, 100.0, 100.0, 100.0, 100.0, 100.0, 100.0, 100.0, 100.0, 100.0, 100.0, 100.0, 100.0, 100.0, 100.0, 100.0, 100.0, 100.0, 100.0, 100.0, 100.0, 100.0, 100.0, 100.0, 100.0], \"sizemode\": \"area\"}, \"text\": [\"Soufriere Hills Volcano<br>Erupted volume: 10.0\", \"Soufriere Hills Volcano<br>Erupted volume: 10.0\", \"Santorini<br>Erupted volume: 100.0\", \"Santorini<br>Erupted volume: 100.0\", \"Aso Caldera<br>Erupted volume: 600.0\", \"Aso Caldera<br>Erupted volume: 600.0\", \"Aso Caldera<br>Erupted volume: 600.0\", \"Toba<br>Erupted volume: 2800.0\", \"Toba<br>Erupted volume: 2800.0\", \"Toba<br>Erupted volume: 2800.0\", \"Toba<br>Erupted volume: 2800.0\", \"Yellowstone<br>Erupted volume: 2450.0\", \"Yellowstone<br>Erupted volume: 2450.0\", \"Yellowstone<br>Erupted volume: 2450.0\", \"Yellowstone<br>Erupted volume: 2450.0\", \"Yellowstone<br>Erupted volume: 2450.0\", \"Yellowstone<br>Erupted volume: 2450.0\", \"Long Valley<br>Erupted volume: nan\", \"Long Valley<br>Erupted volume: nan\", \"Valles<br>Erupted volume: nan\", \"Taupo<br>Erupted volume: nan\", \"Newberry volcano<br>Erupted volume: nan\", \"Medicine Lake<br>Erupted volume: nan\", \"Mt. St. Helens<br>Erupted volume: nan\", \"Mt. Rainier<br>Erupted volume: nan\", \"Altiplano Puna<br>Erupted volume: nan\", \"Krafla<br>Erupted volume: nan\", \"Hekla<br>Erupted volume: nan\", \"Torfaj\\u00f6kull<br>Erupted volume: nan\", \"Hengill\\u2013Grensdalur<br>Erupted volume: nan\", \"Redoubt<br>Erupted volume: nan\", \"Unzen<br>Erupted volume: nan\", \"Onikobe<br>Erupted volume: nan\", \"Kirishima<br>Erupted volume: nan\", \"Nikko-Shirane<br>Erupted volume: nan\", \"Mt. Fuji<br>Erupted volume: nan\", \"Klyuchevskoy<br>Erupted volume: nan\", \"Halemaumau<br>Erupted volume: nan\", \"Kilauea<br>Erupted volume: nan\", \"Vesuvius<br>Erupted volume: nan\", \"Campi Flegrei<br>Erupted volume: nan\", \"Mt. Etna<br>Erupted volume: nan\", \"Stromboli<br>Erupted volume: nan\", \"Pinatubo<br>Erupted volume: nan\", \"Nevado del Ruiz<br>Erupted volume: nan\", \"Tungurahua<br>Erupted volume: nan\", \"Gran Canaria<br>Erupted volume: nan\"], \"type\": \"scattergeo\"}],\n                        {\"template\": {\"data\": {\"bar\": [{\"error_x\": {\"color\": \"#2a3f5f\"}, \"error_y\": {\"color\": \"#2a3f5f\"}, \"marker\": {\"line\": {\"color\": \"#E5ECF6\", \"width\": 0.5}}, \"type\": \"bar\"}], \"barpolar\": [{\"marker\": {\"line\": {\"color\": \"#E5ECF6\", \"width\": 0.5}}, \"type\": \"barpolar\"}], \"carpet\": [{\"aaxis\": {\"endlinecolor\": \"#2a3f5f\", \"gridcolor\": \"white\", \"linecolor\": \"white\", \"minorgridcolor\": \"white\", \"startlinecolor\": \"#2a3f5f\"}, \"baxis\": {\"endlinecolor\": \"#2a3f5f\", \"gridcolor\": \"white\", \"linecolor\": \"white\", \"minorgridcolor\": \"white\", \"startlinecolor\": \"#2a3f5f\"}, \"type\": \"carpet\"}], \"choropleth\": [{\"colorbar\": {\"outlinewidth\": 0, \"ticks\": \"\"}, \"type\": \"choropleth\"}], \"contour\": [{\"colorbar\": {\"outlinewidth\": 0, \"ticks\": \"\"}, \"colorscale\": [[0.0, \"#0d0887\"], [0.1111111111111111, \"#46039f\"], [0.2222222222222222, \"#7201a8\"], [0.3333333333333333, \"#9c179e\"], [0.4444444444444444, \"#bd3786\"], [0.5555555555555556, \"#d8576b\"], [0.6666666666666666, \"#ed7953\"], [0.7777777777777778, \"#fb9f3a\"], [0.8888888888888888, \"#fdca26\"], [1.0, \"#f0f921\"]], \"type\": \"contour\"}], \"contourcarpet\": [{\"colorbar\": {\"outlinewidth\": 0, \"ticks\": \"\"}, \"type\": \"contourcarpet\"}], \"heatmap\": [{\"colorbar\": {\"outlinewidth\": 0, \"ticks\": \"\"}, \"colorscale\": [[0.0, \"#0d0887\"], [0.1111111111111111, \"#46039f\"], [0.2222222222222222, \"#7201a8\"], [0.3333333333333333, \"#9c179e\"], [0.4444444444444444, \"#bd3786\"], [0.5555555555555556, \"#d8576b\"], [0.6666666666666666, \"#ed7953\"], [0.7777777777777778, \"#fb9f3a\"], [0.8888888888888888, \"#fdca26\"], [1.0, \"#f0f921\"]], \"type\": \"heatmap\"}], \"heatmapgl\": [{\"colorbar\": {\"outlinewidth\": 0, \"ticks\": \"\"}, \"colorscale\": [[0.0, \"#0d0887\"], [0.1111111111111111, \"#46039f\"], [0.2222222222222222, \"#7201a8\"], [0.3333333333333333, \"#9c179e\"], [0.4444444444444444, \"#bd3786\"], [0.5555555555555556, \"#d8576b\"], [0.6666666666666666, \"#ed7953\"], [0.7777777777777778, \"#fb9f3a\"], [0.8888888888888888, \"#fdca26\"], [1.0, \"#f0f921\"]], \"type\": \"heatmapgl\"}], \"histogram\": [{\"marker\": {\"colorbar\": {\"outlinewidth\": 0, \"ticks\": \"\"}}, \"type\": \"histogram\"}], \"histogram2d\": [{\"colorbar\": {\"outlinewidth\": 0, \"ticks\": \"\"}, \"colorscale\": [[0.0, \"#0d0887\"], [0.1111111111111111, \"#46039f\"], [0.2222222222222222, \"#7201a8\"], [0.3333333333333333, \"#9c179e\"], [0.4444444444444444, \"#bd3786\"], [0.5555555555555556, \"#d8576b\"], [0.6666666666666666, \"#ed7953\"], [0.7777777777777778, \"#fb9f3a\"], [0.8888888888888888, \"#fdca26\"], [1.0, \"#f0f921\"]], \"type\": \"histogram2d\"}], \"histogram2dcontour\": [{\"colorbar\": {\"outlinewidth\": 0, \"ticks\": \"\"}, \"colorscale\": [[0.0, \"#0d0887\"], [0.1111111111111111, \"#46039f\"], [0.2222222222222222, \"#7201a8\"], [0.3333333333333333, \"#9c179e\"], [0.4444444444444444, \"#bd3786\"], [0.5555555555555556, \"#d8576b\"], [0.6666666666666666, \"#ed7953\"], [0.7777777777777778, \"#fb9f3a\"], [0.8888888888888888, \"#fdca26\"], [1.0, \"#f0f921\"]], \"type\": \"histogram2dcontour\"}], \"mesh3d\": [{\"colorbar\": {\"outlinewidth\": 0, \"ticks\": \"\"}, \"type\": \"mesh3d\"}], \"parcoords\": [{\"line\": {\"colorbar\": {\"outlinewidth\": 0, \"ticks\": \"\"}}, \"type\": \"parcoords\"}], \"pie\": [{\"automargin\": true, \"type\": \"pie\"}], \"scatter\": [{\"marker\": {\"colorbar\": {\"outlinewidth\": 0, \"ticks\": \"\"}}, \"type\": \"scatter\"}], \"scatter3d\": [{\"line\": {\"colorbar\": {\"outlinewidth\": 0, \"ticks\": \"\"}}, \"marker\": {\"colorbar\": {\"outlinewidth\": 0, \"ticks\": \"\"}}, \"type\": \"scatter3d\"}], \"scattercarpet\": [{\"marker\": {\"colorbar\": {\"outlinewidth\": 0, \"ticks\": \"\"}}, \"type\": \"scattercarpet\"}], \"scattergeo\": [{\"marker\": {\"colorbar\": {\"outlinewidth\": 0, \"ticks\": \"\"}}, \"type\": \"scattergeo\"}], \"scattergl\": [{\"marker\": {\"colorbar\": {\"outlinewidth\": 0, \"ticks\": \"\"}}, \"type\": \"scattergl\"}], \"scattermapbox\": [{\"marker\": {\"colorbar\": {\"outlinewidth\": 0, \"ticks\": \"\"}}, \"type\": \"scattermapbox\"}], \"scatterpolar\": [{\"marker\": {\"colorbar\": {\"outlinewidth\": 0, \"ticks\": \"\"}}, \"type\": \"scatterpolar\"}], \"scatterpolargl\": [{\"marker\": {\"colorbar\": {\"outlinewidth\": 0, \"ticks\": \"\"}}, \"type\": \"scatterpolargl\"}], \"scatterternary\": [{\"marker\": {\"colorbar\": {\"outlinewidth\": 0, \"ticks\": \"\"}}, \"type\": \"scatterternary\"}], \"surface\": [{\"colorbar\": {\"outlinewidth\": 0, \"ticks\": \"\"}, \"colorscale\": [[0.0, \"#0d0887\"], [0.1111111111111111, \"#46039f\"], [0.2222222222222222, \"#7201a8\"], [0.3333333333333333, \"#9c179e\"], [0.4444444444444444, \"#bd3786\"], [0.5555555555555556, \"#d8576b\"], [0.6666666666666666, \"#ed7953\"], [0.7777777777777778, \"#fb9f3a\"], [0.8888888888888888, \"#fdca26\"], [1.0, \"#f0f921\"]], \"type\": \"surface\"}], \"table\": [{\"cells\": {\"fill\": {\"color\": \"#EBF0F8\"}, \"line\": {\"color\": \"white\"}}, \"header\": {\"fill\": {\"color\": \"#C8D4E3\"}, \"line\": {\"color\": \"white\"}}, \"type\": \"table\"}]}, \"layout\": {\"annotationdefaults\": {\"arrowcolor\": \"#2a3f5f\", \"arrowhead\": 0, \"arrowwidth\": 1}, \"coloraxis\": {\"colorbar\": {\"outlinewidth\": 0, \"ticks\": \"\"}}, \"colorscale\": {\"diverging\": [[0, \"#8e0152\"], [0.1, \"#c51b7d\"], [0.2, \"#de77ae\"], [0.3, \"#f1b6da\"], [0.4, \"#fde0ef\"], [0.5, \"#f7f7f7\"], [0.6, \"#e6f5d0\"], [0.7, \"#b8e186\"], [0.8, \"#7fbc41\"], [0.9, \"#4d9221\"], [1, \"#276419\"]], \"sequential\": [[0.0, \"#0d0887\"], [0.1111111111111111, \"#46039f\"], [0.2222222222222222, \"#7201a8\"], [0.3333333333333333, \"#9c179e\"], [0.4444444444444444, \"#bd3786\"], [0.5555555555555556, \"#d8576b\"], [0.6666666666666666, \"#ed7953\"], [0.7777777777777778, \"#fb9f3a\"], [0.8888888888888888, \"#fdca26\"], [1.0, \"#f0f921\"]], \"sequentialminus\": [[0.0, \"#0d0887\"], [0.1111111111111111, \"#46039f\"], [0.2222222222222222, \"#7201a8\"], [0.3333333333333333, \"#9c179e\"], [0.4444444444444444, \"#bd3786\"], [0.5555555555555556, \"#d8576b\"], [0.6666666666666666, \"#ed7953\"], [0.7777777777777778, \"#fb9f3a\"], [0.8888888888888888, \"#fdca26\"], [1.0, \"#f0f921\"]]}, \"colorway\": [\"#636efa\", \"#EF553B\", \"#00cc96\", \"#ab63fa\", \"#FFA15A\", \"#19d3f3\", \"#FF6692\", \"#B6E880\", \"#FF97FF\", \"#FECB52\"], \"font\": {\"color\": \"#2a3f5f\"}, \"geo\": {\"bgcolor\": \"white\", \"lakecolor\": \"white\", \"landcolor\": \"#E5ECF6\", \"showlakes\": true, \"showland\": true, \"subunitcolor\": \"white\"}, \"hoverlabel\": {\"align\": \"left\"}, \"hovermode\": \"closest\", \"mapbox\": {\"style\": \"light\"}, \"paper_bgcolor\": \"white\", \"plot_bgcolor\": \"#E5ECF6\", \"polar\": {\"angularaxis\": {\"gridcolor\": \"white\", \"linecolor\": \"white\", \"ticks\": \"\"}, \"bgcolor\": \"#E5ECF6\", \"radialaxis\": {\"gridcolor\": \"white\", \"linecolor\": \"white\", \"ticks\": \"\"}}, \"scene\": {\"xaxis\": {\"backgroundcolor\": \"#E5ECF6\", \"gridcolor\": \"white\", \"gridwidth\": 2, \"linecolor\": \"white\", \"showbackground\": true, \"ticks\": \"\", \"zerolinecolor\": \"white\"}, \"yaxis\": {\"backgroundcolor\": \"#E5ECF6\", \"gridcolor\": \"white\", \"gridwidth\": 2, \"linecolor\": \"white\", \"showbackground\": true, \"ticks\": \"\", \"zerolinecolor\": \"white\"}, \"zaxis\": {\"backgroundcolor\": \"#E5ECF6\", \"gridcolor\": \"white\", \"gridwidth\": 2, \"linecolor\": \"white\", \"showbackground\": true, \"ticks\": \"\", \"zerolinecolor\": \"white\"}}, \"shapedefaults\": {\"line\": {\"color\": \"#2a3f5f\"}}, \"ternary\": {\"aaxis\": {\"gridcolor\": \"white\", \"linecolor\": \"white\", \"ticks\": \"\"}, \"baxis\": {\"gridcolor\": \"white\", \"linecolor\": \"white\", \"ticks\": \"\"}, \"bgcolor\": \"#E5ECF6\", \"caxis\": {\"gridcolor\": \"white\", \"linecolor\": \"white\", \"ticks\": \"\"}}, \"title\": {\"x\": 0.05}, \"xaxis\": {\"automargin\": true, \"gridcolor\": \"white\", \"linecolor\": \"white\", \"ticks\": \"\", \"title\": {\"standoff\": 15}, \"zerolinecolor\": \"white\", \"zerolinewidth\": 2}, \"yaxis\": {\"automargin\": true, \"gridcolor\": \"white\", \"linecolor\": \"white\", \"ticks\": \"\", \"title\": {\"standoff\": 15}, \"zerolinecolor\": \"white\", \"zerolinewidth\": 2}}}},\n                        {\"responsive\": true}\n                    ).then(function(){\n                            \nvar gd = document.getElementById('53a3dc92-c50a-42d3-bffc-32fd177b64db');\nvar x = new MutationObserver(function (mutations, observer) {{\n        var display = window.getComputedStyle(gd).display;\n        if (!display || display === 'none') {{\n            console.log([gd, 'removed!']);\n            Plotly.purge(gd);\n            observer.disconnect();\n        }}\n}});\n\n// Listen for the removal of the full notebook cells\nvar notebookContainer = gd.closest('#notebook-container');\nif (notebookContainer) {{\n    x.observe(notebookContainer, {childList: true});\n}}\n\n// Listen for the clearing of the current output cell\nvar outputEl = gd.closest('.output');\nif (outputEl) {{\n    x.observe(outputEl, {childList: true});\n}}\n\n                        })\n                };\n                });\n            </script>\n        </div>"
         },
         "metadata": {},
         "output_type": "display_data"
        }
       ]
      }
     },
     "9d911857726246ddb1a179e3fb82c1e7": {
      "model_module": "@jupyter-widgets/base",
      "model_module_version": "1.2.0",
      "model_name": "LayoutModel",
      "state": {}
     },
     "a22c1b2aa03546eeb2c53da669e8cd09": {
      "model_module": "@jupyter-widgets/controls",
      "model_module_version": "1.5.0",
      "model_name": "VBoxModel",
      "state": {
       "_dom_classes": [
        "widget-interact"
       ],
       "children": [
        "IPY_MODEL_97bdc2ad36f14fb5811a714b0811a531",
        "IPY_MODEL_1e030660928f4f739a9aaa5e4ba39696"
       ],
       "layout": "IPY_MODEL_ca97d48351a14b4bb30bfce10526ca8b"
      }
     },
     "a2d6002b671c420e81383a3bbaa3b888": {
      "model_module": "@jupyter-widgets/base",
      "model_module_version": "1.2.0",
      "model_name": "LayoutModel",
      "state": {}
     },
     "a338eddb69d94c56813ad2a30ac84c69": {
      "model_module": "@jupyter-widgets/base",
      "model_module_version": "1.2.0",
      "model_name": "LayoutModel",
      "state": {}
     },
     "a3645d807a8240f8848604380e10066e": {
      "model_module": "@jupyter-widgets/base",
      "model_module_version": "1.2.0",
      "model_name": "LayoutModel",
      "state": {}
     },
     "a7602db488a241c0b8571d0cbbf64952": {
      "model_module": "@jupyter-widgets/base",
      "model_module_version": "1.2.0",
      "model_name": "LayoutModel",
      "state": {}
     },
     "a97597085a5f4d48bbfd6bbebf470c19": {
      "model_module": "@jupyter-widgets/output",
      "model_module_version": "1.0.0",
      "model_name": "OutputModel",
      "state": {
       "layout": "IPY_MODEL_f58090294b1a442bb4db8d6e9fbbe4b4",
       "outputs": [
        {
         "data": {
          "application/vnd.plotly.v1+json": {
           "config": {
            "plotlyServerURL": "https://plot.ly"
           },
           "data": [
            {
             "lat": [
              16.72,
              16.72,
              36.404,
              36.404,
              32.884,
              32.884,
              32.884,
              2.58,
              2.58,
              2.58,
              2.58,
              44.43,
              44.43,
              44.43,
              44.43,
              44.43,
              44.43,
              37.7166666666667,
              37.7166666666667,
              35.9,
              -38.82,
              43.722,
              41.611,
              46.2,
              46.853,
              -22.2666666666667,
              65.715,
              63.983,
              63.892,
              64.083,
              60.485,
              32.761,
              38.83,
              31.934,
              36.7833333333333,
              35.361,
              56.056,
              19.421,
              19.421,
              40.821,
              40.827,
              37.748,
              38.789,
              15.13,
              4.892,
              -1.467,
              28
             ],
             "lon": [
              -62.18,
              -62.18,
              25.396,
              25.396,
              131.104,
              131.104,
              131.104,
              98.83,
              98.83,
              98.83,
              98.83,
              -110.67,
              -110.67,
              -110.67,
              -110.67,
              -110.67,
              -110.67,
              -118.883333333333,
              -118.883333333333,
              -106.533333333333,
              176,
              -121.229,
              -121.554,
              -122.18,
              -121.76,
              -67.1666666666667,
              -16.728,
              -19.666,
              -19.122,
              -21.416,
              -152.742,
              130.299,
              140.7,
              130.862,
              139.366666666667,
              138.728,
              160.642,
              -155.287,
              -155.287,
              14.426,
              14.139,
              14.999,
              15.213,
              120.35,
              -75.324,
              -78.442,
              -15.58
             ],
             "marker": {
              "size": [
               215.44346900318837,
               215.44346900318837,
               464.15888336127784,
               464.15888336127784,
               843.4326653017491,
               843.4326653017491,
               843.4326653017491,
               1409.4597464129781,
               1409.4597464129781,
               1409.4597464129781,
               1409.4597464129781,
               1348.0997498879249,
               1348.0997498879249,
               1348.0997498879249,
               1348.0997498879249,
               1348.0997498879249,
               1348.0997498879249,
               100,
               100,
               100,
               100,
               100,
               100,
               100,
               100,
               100,
               100,
               100,
               100,
               100,
               100,
               100,
               100,
               100,
               100,
               100,
               100,
               100,
               100,
               100,
               100,
               100,
               100,
               100,
               100,
               100,
               100
              ],
              "sizemode": "area"
             },
             "text": [
              "Soufriere Hills Volcano<br>Erupted volume: 10.0<br><br>References:<br>Paulatto et al., 2012",
              "Soufriere Hills Volcano<br>Erupted volume: 10.0<br><br>References:<br>Paulatto et al., 2019",
              "Santorini<br>Erupted volume: 100.0<br><br>References:<br>McVey et al., 2019",
              null,
              "Aso Caldera<br>Erupted volume: 600.0<br><br>References:<br>Sudo & Kong, 2001",
              "Aso Caldera<br>Erupted volume: 600.0<br><br>References:<br>Huang et al., 2018",
              "Aso Caldera<br>Erupted volume: 600.0<br><br>References:<br>Abe et al., 2017",
              "Toba<br>Erupted volume: 2800.0<br><br>References:<br>Koulakov et al., 2009",
              "Toba<br>Erupted volume: 2800.0<br><br>References:<br>Mastruryono et al., 2001",
              "Toba<br>Erupted volume: 2800.0<br><br>References:<br>Jaxybulatov et al., 2014",
              "Toba<br>Erupted volume: 2800.0<br><br>References:<br>Stankiewicz et al., 2010",
              "Yellowstone<br>Erupted volume: 2450.0<br><br>References:<br>(Iyer et al., 1981, Benz and Smith, 1984, Clawson et al., 1989, Miller and Smith, 1999, Husen and Smith, 2004, Yuan and Dueker, 2005)",
              "Yellowstone<br>Erupted volume: 2450.0<br><br>References:<br>Chu et al., 2010",
              "Yellowstone<br>Erupted volume: 2450.0<br><br>References:<br>Farrell et al., 2014",
              "Yellowstone<br>Erupted volume: 2450.0<br><br>References:<br>Huang et al., 2015",
              "Yellowstone<br>Erupted volume: 2450.0<br><br>References:<br>Miller and Smith, 1999",
              "Yellowstone<br>Erupted volume: 2450.0<br><br>References:<br>Jiang, 2018",
              "Long Valley<br>Erupted volume: nan<br><br>References:<br>(Peppin, 1985, Dawson et al., 1987, Hauksson, 1988, Dawson et al., 1990, Sanders, 1993a, Sanders, 1993b, Sanders et al., 1994, Steck, 1995, Sanders et al., 1995, Weiland et al., 1995, O'Doherty et al., 1997)",
              "Long Valley<br>Erupted volume: nan<br><br>References:<br>Jiang, 2018",
              "Valles<br>Erupted volume: nan<br><br>References:<br>Lutter et al. (1995)",
              "Taupo<br>Erupted volume: nan<br><br>References:<br>Sherburn et al. (2003)",
              "Newberry volcano<br>Erupted volume: nan<br><br>References:<br>(Achauer et al., 1988, Stauber et al., 1988)",
              "Medicine Lake<br>Erupted volume: nan<br><br>References:<br>(Evans and Zucca, 1988, Lees and Crosson, 1989, Ritter and Evans, 1997)",
              "Mt. St. Helens<br>Erupted volume: nan<br><br>References:<br>Lees (1992)",
              "Mt. Rainier<br>Erupted volume: nan<br><br>References:<br>(Lees and Crosson, 1990, Moran et al., 1999)",
              null,
              "Krafla<br>Erupted volume: nan<br><br>References:<br>(Einarsson, 1978, Foulger and Arnott, 1993)",
              "Hekla<br>Erupted volume: nan<br><br>References:<br>Soosalu and Einarsson (2004)",
              "Torfajökull<br>Erupted volume: nan<br><br>References:<br>Soosalu and Einarsson (2004)",
              "Hengill–Grensdalur<br>Erupted volume: nan<br><br>References:<br>Toomey and Foulger (1989)",
              "Redoubt<br>Erupted volume: nan<br><br>References:<br>Benz et al. (1996)",
              "Unzen<br>Erupted volume: nan<br><br>References:<br>Ohmi and Lees (1995)",
              "Onikobe<br>Erupted volume: nan<br><br>References:<br>Nakajima and Hasegawa (2003)",
              "Kirishima<br>Erupted volume: nan<br><br>References:<br>Yamamoto and Ida (1994)",
              "Nikko-Shirane<br>Erupted volume: nan<br><br>References:<br>Horiuchi et al. (1997)",
              "Mt. Fuji<br>Erupted volume: nan<br><br>References:<br>Nakamichi (2005)",
              "Klyuchevskoy<br>Erupted volume: nan<br><br>References:<br>(Anosov et al., 1978, Ozerov, 2000)",
              "Halemaumau<br>Erupted volume: nan<br><br>References:<br>Rowan and Clayton (1993)",
              "Kilauea<br>Erupted volume: nan<br><br>References:<br>(Thurber, 1984, Rowan and Clayton, 1993, Okubo et al., 1997, Haslinger et al., 2001)",
              "Vesuvius<br>Erupted volume: nan<br><br>References:<br>(De Natale et al., 1998, Zollo et al., 1998)",
              "Campi Flegrei<br>Erupted volume: nan<br><br>References:<br>1988; Aster et al., 1992",
              "Mt. Etna<br>Erupted volume: nan<br><br>References:<br>(Cardaci et al., 1993, Villasenor et al., 1998, Laigle and Hirn, 1999, Chiarabba et al., 2000, Aloisi et al., 2002)",
              null,
              "Pinatubo<br>Erupted volume: nan<br><br>References:<br>Mori et al. (1996)",
              "Nevado del Ruiz<br>Erupted volume: nan<br><br>References:<br>Londoño and Sudo (2003)",
              "Tungurahua<br>Erupted volume: nan<br><br>References:<br>Molina et al. (2005)",
              "Gran Canaria<br>Erupted volume: nan<br><br>References:<br>Krastel and Schmincke (2002)"
             ],
             "type": "scattergeo"
            }
           ],
           "layout": {
            "template": {
             "data": {
              "bar": [
               {
                "error_x": {
                 "color": "#2a3f5f"
                },
                "error_y": {
                 "color": "#2a3f5f"
                },
                "marker": {
                 "line": {
                  "color": "#E5ECF6",
                  "width": 0.5
                 }
                },
                "type": "bar"
               }
              ],
              "barpolar": [
               {
                "marker": {
                 "line": {
                  "color": "#E5ECF6",
                  "width": 0.5
                 }
                },
                "type": "barpolar"
               }
              ],
              "carpet": [
               {
                "aaxis": {
                 "endlinecolor": "#2a3f5f",
                 "gridcolor": "white",
                 "linecolor": "white",
                 "minorgridcolor": "white",
                 "startlinecolor": "#2a3f5f"
                },
                "baxis": {
                 "endlinecolor": "#2a3f5f",
                 "gridcolor": "white",
                 "linecolor": "white",
                 "minorgridcolor": "white",
                 "startlinecolor": "#2a3f5f"
                },
                "type": "carpet"
               }
              ],
              "choropleth": [
               {
                "colorbar": {
                 "outlinewidth": 0,
                 "ticks": ""
                },
                "type": "choropleth"
               }
              ],
              "contour": [
               {
                "colorbar": {
                 "outlinewidth": 0,
                 "ticks": ""
                },
                "colorscale": [
                 [
                  0,
                  "#0d0887"
                 ],
                 [
                  0.1111111111111111,
                  "#46039f"
                 ],
                 [
                  0.2222222222222222,
                  "#7201a8"
                 ],
                 [
                  0.3333333333333333,
                  "#9c179e"
                 ],
                 [
                  0.4444444444444444,
                  "#bd3786"
                 ],
                 [
                  0.5555555555555556,
                  "#d8576b"
                 ],
                 [
                  0.6666666666666666,
                  "#ed7953"
                 ],
                 [
                  0.7777777777777778,
                  "#fb9f3a"
                 ],
                 [
                  0.8888888888888888,
                  "#fdca26"
                 ],
                 [
                  1,
                  "#f0f921"
                 ]
                ],
                "type": "contour"
               }
              ],
              "contourcarpet": [
               {
                "colorbar": {
                 "outlinewidth": 0,
                 "ticks": ""
                },
                "type": "contourcarpet"
               }
              ],
              "heatmap": [
               {
                "colorbar": {
                 "outlinewidth": 0,
                 "ticks": ""
                },
                "colorscale": [
                 [
                  0,
                  "#0d0887"
                 ],
                 [
                  0.1111111111111111,
                  "#46039f"
                 ],
                 [
                  0.2222222222222222,
                  "#7201a8"
                 ],
                 [
                  0.3333333333333333,
                  "#9c179e"
                 ],
                 [
                  0.4444444444444444,
                  "#bd3786"
                 ],
                 [
                  0.5555555555555556,
                  "#d8576b"
                 ],
                 [
                  0.6666666666666666,
                  "#ed7953"
                 ],
                 [
                  0.7777777777777778,
                  "#fb9f3a"
                 ],
                 [
                  0.8888888888888888,
                  "#fdca26"
                 ],
                 [
                  1,
                  "#f0f921"
                 ]
                ],
                "type": "heatmap"
               }
              ],
              "heatmapgl": [
               {
                "colorbar": {
                 "outlinewidth": 0,
                 "ticks": ""
                },
                "colorscale": [
                 [
                  0,
                  "#0d0887"
                 ],
                 [
                  0.1111111111111111,
                  "#46039f"
                 ],
                 [
                  0.2222222222222222,
                  "#7201a8"
                 ],
                 [
                  0.3333333333333333,
                  "#9c179e"
                 ],
                 [
                  0.4444444444444444,
                  "#bd3786"
                 ],
                 [
                  0.5555555555555556,
                  "#d8576b"
                 ],
                 [
                  0.6666666666666666,
                  "#ed7953"
                 ],
                 [
                  0.7777777777777778,
                  "#fb9f3a"
                 ],
                 [
                  0.8888888888888888,
                  "#fdca26"
                 ],
                 [
                  1,
                  "#f0f921"
                 ]
                ],
                "type": "heatmapgl"
               }
              ],
              "histogram": [
               {
                "marker": {
                 "colorbar": {
                  "outlinewidth": 0,
                  "ticks": ""
                 }
                },
                "type": "histogram"
               }
              ],
              "histogram2d": [
               {
                "colorbar": {
                 "outlinewidth": 0,
                 "ticks": ""
                },
                "colorscale": [
                 [
                  0,
                  "#0d0887"
                 ],
                 [
                  0.1111111111111111,
                  "#46039f"
                 ],
                 [
                  0.2222222222222222,
                  "#7201a8"
                 ],
                 [
                  0.3333333333333333,
                  "#9c179e"
                 ],
                 [
                  0.4444444444444444,
                  "#bd3786"
                 ],
                 [
                  0.5555555555555556,
                  "#d8576b"
                 ],
                 [
                  0.6666666666666666,
                  "#ed7953"
                 ],
                 [
                  0.7777777777777778,
                  "#fb9f3a"
                 ],
                 [
                  0.8888888888888888,
                  "#fdca26"
                 ],
                 [
                  1,
                  "#f0f921"
                 ]
                ],
                "type": "histogram2d"
               }
              ],
              "histogram2dcontour": [
               {
                "colorbar": {
                 "outlinewidth": 0,
                 "ticks": ""
                },
                "colorscale": [
                 [
                  0,
                  "#0d0887"
                 ],
                 [
                  0.1111111111111111,
                  "#46039f"
                 ],
                 [
                  0.2222222222222222,
                  "#7201a8"
                 ],
                 [
                  0.3333333333333333,
                  "#9c179e"
                 ],
                 [
                  0.4444444444444444,
                  "#bd3786"
                 ],
                 [
                  0.5555555555555556,
                  "#d8576b"
                 ],
                 [
                  0.6666666666666666,
                  "#ed7953"
                 ],
                 [
                  0.7777777777777778,
                  "#fb9f3a"
                 ],
                 [
                  0.8888888888888888,
                  "#fdca26"
                 ],
                 [
                  1,
                  "#f0f921"
                 ]
                ],
                "type": "histogram2dcontour"
               }
              ],
              "mesh3d": [
               {
                "colorbar": {
                 "outlinewidth": 0,
                 "ticks": ""
                },
                "type": "mesh3d"
               }
              ],
              "parcoords": [
               {
                "line": {
                 "colorbar": {
                  "outlinewidth": 0,
                  "ticks": ""
                 }
                },
                "type": "parcoords"
               }
              ],
              "pie": [
               {
                "automargin": true,
                "type": "pie"
               }
              ],
              "scatter": [
               {
                "marker": {
                 "colorbar": {
                  "outlinewidth": 0,
                  "ticks": ""
                 }
                },
                "type": "scatter"
               }
              ],
              "scatter3d": [
               {
                "line": {
                 "colorbar": {
                  "outlinewidth": 0,
                  "ticks": ""
                 }
                },
                "marker": {
                 "colorbar": {
                  "outlinewidth": 0,
                  "ticks": ""
                 }
                },
                "type": "scatter3d"
               }
              ],
              "scattercarpet": [
               {
                "marker": {
                 "colorbar": {
                  "outlinewidth": 0,
                  "ticks": ""
                 }
                },
                "type": "scattercarpet"
               }
              ],
              "scattergeo": [
               {
                "marker": {
                 "colorbar": {
                  "outlinewidth": 0,
                  "ticks": ""
                 }
                },
                "type": "scattergeo"
               }
              ],
              "scattergl": [
               {
                "marker": {
                 "colorbar": {
                  "outlinewidth": 0,
                  "ticks": ""
                 }
                },
                "type": "scattergl"
               }
              ],
              "scattermapbox": [
               {
                "marker": {
                 "colorbar": {
                  "outlinewidth": 0,
                  "ticks": ""
                 }
                },
                "type": "scattermapbox"
               }
              ],
              "scatterpolar": [
               {
                "marker": {
                 "colorbar": {
                  "outlinewidth": 0,
                  "ticks": ""
                 }
                },
                "type": "scatterpolar"
               }
              ],
              "scatterpolargl": [
               {
                "marker": {
                 "colorbar": {
                  "outlinewidth": 0,
                  "ticks": ""
                 }
                },
                "type": "scatterpolargl"
               }
              ],
              "scatterternary": [
               {
                "marker": {
                 "colorbar": {
                  "outlinewidth": 0,
                  "ticks": ""
                 }
                },
                "type": "scatterternary"
               }
              ],
              "surface": [
               {
                "colorbar": {
                 "outlinewidth": 0,
                 "ticks": ""
                },
                "colorscale": [
                 [
                  0,
                  "#0d0887"
                 ],
                 [
                  0.1111111111111111,
                  "#46039f"
                 ],
                 [
                  0.2222222222222222,
                  "#7201a8"
                 ],
                 [
                  0.3333333333333333,
                  "#9c179e"
                 ],
                 [
                  0.4444444444444444,
                  "#bd3786"
                 ],
                 [
                  0.5555555555555556,
                  "#d8576b"
                 ],
                 [
                  0.6666666666666666,
                  "#ed7953"
                 ],
                 [
                  0.7777777777777778,
                  "#fb9f3a"
                 ],
                 [
                  0.8888888888888888,
                  "#fdca26"
                 ],
                 [
                  1,
                  "#f0f921"
                 ]
                ],
                "type": "surface"
               }
              ],
              "table": [
               {
                "cells": {
                 "fill": {
                  "color": "#EBF0F8"
                 },
                 "line": {
                  "color": "white"
                 }
                },
                "header": {
                 "fill": {
                  "color": "#C8D4E3"
                 },
                 "line": {
                  "color": "white"
                 }
                },
                "type": "table"
               }
              ]
             },
             "layout": {
              "annotationdefaults": {
               "arrowcolor": "#2a3f5f",
               "arrowhead": 0,
               "arrowwidth": 1
              },
              "coloraxis": {
               "colorbar": {
                "outlinewidth": 0,
                "ticks": ""
               }
              },
              "colorscale": {
               "diverging": [
                [
                 0,
                 "#8e0152"
                ],
                [
                 0.1,
                 "#c51b7d"
                ],
                [
                 0.2,
                 "#de77ae"
                ],
                [
                 0.3,
                 "#f1b6da"
                ],
                [
                 0.4,
                 "#fde0ef"
                ],
                [
                 0.5,
                 "#f7f7f7"
                ],
                [
                 0.6,
                 "#e6f5d0"
                ],
                [
                 0.7,
                 "#b8e186"
                ],
                [
                 0.8,
                 "#7fbc41"
                ],
                [
                 0.9,
                 "#4d9221"
                ],
                [
                 1,
                 "#276419"
                ]
               ],
               "sequential": [
                [
                 0,
                 "#0d0887"
                ],
                [
                 0.1111111111111111,
                 "#46039f"
                ],
                [
                 0.2222222222222222,
                 "#7201a8"
                ],
                [
                 0.3333333333333333,
                 "#9c179e"
                ],
                [
                 0.4444444444444444,
                 "#bd3786"
                ],
                [
                 0.5555555555555556,
                 "#d8576b"
                ],
                [
                 0.6666666666666666,
                 "#ed7953"
                ],
                [
                 0.7777777777777778,
                 "#fb9f3a"
                ],
                [
                 0.8888888888888888,
                 "#fdca26"
                ],
                [
                 1,
                 "#f0f921"
                ]
               ],
               "sequentialminus": [
                [
                 0,
                 "#0d0887"
                ],
                [
                 0.1111111111111111,
                 "#46039f"
                ],
                [
                 0.2222222222222222,
                 "#7201a8"
                ],
                [
                 0.3333333333333333,
                 "#9c179e"
                ],
                [
                 0.4444444444444444,
                 "#bd3786"
                ],
                [
                 0.5555555555555556,
                 "#d8576b"
                ],
                [
                 0.6666666666666666,
                 "#ed7953"
                ],
                [
                 0.7777777777777778,
                 "#fb9f3a"
                ],
                [
                 0.8888888888888888,
                 "#fdca26"
                ],
                [
                 1,
                 "#f0f921"
                ]
               ]
              },
              "colorway": [
               "#636efa",
               "#EF553B",
               "#00cc96",
               "#ab63fa",
               "#FFA15A",
               "#19d3f3",
               "#FF6692",
               "#B6E880",
               "#FF97FF",
               "#FECB52"
              ],
              "font": {
               "color": "#2a3f5f"
              },
              "geo": {
               "bgcolor": "white",
               "lakecolor": "white",
               "landcolor": "#E5ECF6",
               "showlakes": true,
               "showland": true,
               "subunitcolor": "white"
              },
              "hoverlabel": {
               "align": "left"
              },
              "hovermode": "closest",
              "mapbox": {
               "style": "light"
              },
              "paper_bgcolor": "white",
              "plot_bgcolor": "#E5ECF6",
              "polar": {
               "angularaxis": {
                "gridcolor": "white",
                "linecolor": "white",
                "ticks": ""
               },
               "bgcolor": "#E5ECF6",
               "radialaxis": {
                "gridcolor": "white",
                "linecolor": "white",
                "ticks": ""
               }
              },
              "scene": {
               "xaxis": {
                "backgroundcolor": "#E5ECF6",
                "gridcolor": "white",
                "gridwidth": 2,
                "linecolor": "white",
                "showbackground": true,
                "ticks": "",
                "zerolinecolor": "white"
               },
               "yaxis": {
                "backgroundcolor": "#E5ECF6",
                "gridcolor": "white",
                "gridwidth": 2,
                "linecolor": "white",
                "showbackground": true,
                "ticks": "",
                "zerolinecolor": "white"
               },
               "zaxis": {
                "backgroundcolor": "#E5ECF6",
                "gridcolor": "white",
                "gridwidth": 2,
                "linecolor": "white",
                "showbackground": true,
                "ticks": "",
                "zerolinecolor": "white"
               }
              },
              "shapedefaults": {
               "line": {
                "color": "#2a3f5f"
               }
              },
              "ternary": {
               "aaxis": {
                "gridcolor": "white",
                "linecolor": "white",
                "ticks": ""
               },
               "baxis": {
                "gridcolor": "white",
                "linecolor": "white",
                "ticks": ""
               },
               "bgcolor": "#E5ECF6",
               "caxis": {
                "gridcolor": "white",
                "linecolor": "white",
                "ticks": ""
               }
              },
              "title": {
               "x": 0.05
              },
              "xaxis": {
               "automargin": true,
               "gridcolor": "white",
               "linecolor": "white",
               "ticks": "",
               "title": {
                "standoff": 15
               },
               "zerolinecolor": "white",
               "zerolinewidth": 2
              },
              "yaxis": {
               "automargin": true,
               "gridcolor": "white",
               "linecolor": "white",
               "ticks": "",
               "title": {
                "standoff": 15
               },
               "zerolinecolor": "white",
               "zerolinewidth": 2
              }
             }
            }
           }
          },
          "text/html": "<div>\n        \n        \n            <div id=\"4adabdfe-87b4-45e7-b93b-2839d7b02ef0\" class=\"plotly-graph-div\" style=\"height:525px; width:100%;\"></div>\n            <script type=\"text/javascript\">\n                require([\"plotly\"], function(Plotly) {\n                    window.PLOTLYENV=window.PLOTLYENV || {};\n                    \n                if (document.getElementById(\"4adabdfe-87b4-45e7-b93b-2839d7b02ef0\")) {\n                    Plotly.newPlot(\n                        '4adabdfe-87b4-45e7-b93b-2839d7b02ef0',\n                        [{\"lat\": [16.72, 16.72, 36.404, 36.404, 32.884, 32.884, 32.884, 2.58, 2.58, 2.58, 2.58, 44.43, 44.43, 44.43, 44.43, 44.43, 44.43, 37.7166666666667, 37.7166666666667, 35.9, -38.82, 43.722, 41.611, 46.2, 46.853, -22.2666666666667, 65.715, 63.983, 63.892, 64.083, 60.485, 32.761, 38.83, 31.934, 36.7833333333333, 35.361, 56.056, 19.421, 19.421, 40.821, 40.827, 37.748, 38.789, 15.13, 4.892, -1.467, 28.0], \"lon\": [-62.18, -62.18, 25.396, 25.396, 131.104, 131.104, 131.104, 98.83, 98.83, 98.83, 98.83, -110.67, -110.67, -110.67, -110.67, -110.67, -110.67, -118.883333333333, -118.883333333333, -106.533333333333, 176.0, -121.229, -121.554, -122.18, -121.76, -67.1666666666667, -16.728, -19.666, -19.122, -21.416, -152.742, 130.299, 140.7, 130.862, 139.366666666667, 138.728, 160.642, -155.287, -155.287, 14.426, 14.139, 14.999, 15.213, 120.35, -75.324, -78.442, -15.58], \"marker\": {\"size\": [215.44346900318837, 215.44346900318837, 464.15888336127784, 464.15888336127784, 843.4326653017491, 843.4326653017491, 843.4326653017491, 1409.4597464129781, 1409.4597464129781, 1409.4597464129781, 1409.4597464129781, 1348.0997498879249, 1348.0997498879249, 1348.0997498879249, 1348.0997498879249, 1348.0997498879249, 1348.0997498879249, 100.0, 100.0, 100.0, 100.0, 100.0, 100.0, 100.0, 100.0, 100.0, 100.0, 100.0, 100.0, 100.0, 100.0, 100.0, 100.0, 100.0, 100.0, 100.0, 100.0, 100.0, 100.0, 100.0, 100.0, 100.0, 100.0, 100.0, 100.0, 100.0, 100.0], \"sizemode\": \"area\"}, \"text\": [\"Soufriere Hills Volcano<br>Erupted volume: 10.0<br><br>References:<br>Paulatto et al., 2012\", \"Soufriere Hills Volcano<br>Erupted volume: 10.0<br><br>References:<br>Paulatto et al., 2019\", \"Santorini<br>Erupted volume: 100.0<br><br>References:<br>McVey et al., 2019\", null, \"Aso Caldera<br>Erupted volume: 600.0<br><br>References:<br>Sudo & Kong, 2001\", \"Aso Caldera<br>Erupted volume: 600.0<br><br>References:<br>Huang et al., 2018\", \"Aso Caldera<br>Erupted volume: 600.0<br><br>References:<br>Abe et al., 2017\", \"Toba<br>Erupted volume: 2800.0<br><br>References:<br>Koulakov et al., 2009\", \"Toba<br>Erupted volume: 2800.0<br><br>References:<br>Mastruryono et al., 2001\", \"Toba<br>Erupted volume: 2800.0<br><br>References:<br>Jaxybulatov et al., 2014\", \"Toba<br>Erupted volume: 2800.0<br><br>References:<br>Stankiewicz et al., 2010\", \"Yellowstone<br>Erupted volume: 2450.0<br><br>References:<br>(Iyer et al., 1981,\\u00a0Benz and Smith, 1984,\\u00a0Clawson et al., 1989,\\u00a0Miller and Smith, 1999,\\u00a0Husen and Smith, 2004,\\u00a0Yuan and Dueker, 2005)\", \"Yellowstone<br>Erupted volume: 2450.0<br><br>References:<br>Chu et al., 2010\", \"Yellowstone<br>Erupted volume: 2450.0<br><br>References:<br>Farrell et al., 2014\", \"Yellowstone<br>Erupted volume: 2450.0<br><br>References:<br>Huang et al., 2015\", \"Yellowstone<br>Erupted volume: 2450.0<br><br>References:<br>Miller and Smith, 1999\", \"Yellowstone<br>Erupted volume: 2450.0<br><br>References:<br>Jiang, 2018\", \"Long Valley<br>Erupted volume: nan<br><br>References:<br>(Peppin, 1985,\\u00a0Dawson et al., 1987,\\u00a0Hauksson, 1988,\\u00a0Dawson et al., 1990,\\u00a0Sanders, 1993a,\\u00a0Sanders, 1993b,\\u00a0Sanders et al., 1994,\\u00a0Steck, 1995,\\u00a0Sanders et al., 1995,\\u00a0Weiland et al., 1995,\\u00a0O'Doherty et al., 1997)\", \"Long Valley<br>Erupted volume: nan<br><br>References:<br>Jiang, 2018\", \"Valles<br>Erupted volume: nan<br><br>References:<br>Lutter et al. (1995)\", \"Taupo<br>Erupted volume: nan<br><br>References:<br>Sherburn et al. (2003)\", \"Newberry volcano<br>Erupted volume: nan<br><br>References:<br>(Achauer et al., 1988,\\u00a0Stauber et al., 1988)\", \"Medicine Lake<br>Erupted volume: nan<br><br>References:<br>(Evans and Zucca, 1988,\\u00a0Lees and Crosson, 1989,\\u00a0Ritter and Evans, 1997)\", \"Mt. St. Helens<br>Erupted volume: nan<br><br>References:<br>Lees (1992)\", \"Mt. Rainier<br>Erupted volume: nan<br><br>References:<br>(Lees and Crosson, 1990,\\u00a0Moran et al., 1999)\", null, \"Krafla<br>Erupted volume: nan<br><br>References:<br>(Einarsson, 1978,\\u00a0Foulger and Arnott, 1993)\", \"Hekla<br>Erupted volume: nan<br><br>References:<br>Soosalu and Einarsson (2004)\", \"Torfaj\\u00f6kull<br>Erupted volume: nan<br><br>References:<br>Soosalu and Einarsson (2004)\", \"Hengill\\u2013Grensdalur<br>Erupted volume: nan<br><br>References:<br>Toomey and Foulger (1989)\", \"Redoubt<br>Erupted volume: nan<br><br>References:<br>Benz et al. (1996)\", \"Unzen<br>Erupted volume: nan<br><br>References:<br>Ohmi and Lees (1995)\", \"Onikobe<br>Erupted volume: nan<br><br>References:<br>Nakajima and Hasegawa (2003)\", \"Kirishima<br>Erupted volume: nan<br><br>References:<br>Yamamoto and Ida (1994)\", \"Nikko-Shirane<br>Erupted volume: nan<br><br>References:<br>Horiuchi et al. (1997)\", \"Mt. Fuji<br>Erupted volume: nan<br><br>References:<br>Nakamichi (2005)\", \"Klyuchevskoy<br>Erupted volume: nan<br><br>References:<br>(Anosov et al., 1978,\\u00a0Ozerov, 2000)\", \"Halemaumau<br>Erupted volume: nan<br><br>References:<br>Rowan and Clayton (1993)\", \"Kilauea<br>Erupted volume: nan<br><br>References:<br>(Thurber, 1984,\\u00a0Rowan and Clayton, 1993,\\u00a0Okubo et al., 1997,\\u00a0Haslinger et al., 2001)\", \"Vesuvius<br>Erupted volume: nan<br><br>References:<br>(De Natale et al., 1998,\\u00a0Zollo et al., 1998)\", \"Campi Flegrei<br>Erupted volume: nan<br><br>References:<br>1988;\\u00a0Aster et al., 1992\", \"Mt. Etna<br>Erupted volume: nan<br><br>References:<br>(Cardaci et al., 1993,\\u00a0Villasenor et al., 1998,\\u00a0Laigle and Hirn, 1999,\\u00a0Chiarabba et al., 2000,\\u00a0Aloisi et al., 2002)\", null, \"Pinatubo<br>Erupted volume: nan<br><br>References:<br>Mori et al. (1996)\", \"Nevado del Ruiz<br>Erupted volume: nan<br><br>References:<br>Londo\\u00f1o and Sudo (2003)\", \"Tungurahua<br>Erupted volume: nan<br><br>References:<br>Molina et al. (2005)\", \"Gran Canaria<br>Erupted volume: nan<br><br>References:<br>Krastel and Schmincke (2002)\"], \"type\": \"scattergeo\"}],\n                        {\"template\": {\"data\": {\"bar\": [{\"error_x\": {\"color\": \"#2a3f5f\"}, \"error_y\": {\"color\": \"#2a3f5f\"}, \"marker\": {\"line\": {\"color\": \"#E5ECF6\", \"width\": 0.5}}, \"type\": \"bar\"}], \"barpolar\": [{\"marker\": {\"line\": {\"color\": \"#E5ECF6\", \"width\": 0.5}}, \"type\": \"barpolar\"}], \"carpet\": [{\"aaxis\": {\"endlinecolor\": \"#2a3f5f\", \"gridcolor\": \"white\", \"linecolor\": \"white\", \"minorgridcolor\": \"white\", \"startlinecolor\": \"#2a3f5f\"}, \"baxis\": {\"endlinecolor\": \"#2a3f5f\", \"gridcolor\": \"white\", \"linecolor\": \"white\", \"minorgridcolor\": \"white\", \"startlinecolor\": \"#2a3f5f\"}, \"type\": \"carpet\"}], \"choropleth\": [{\"colorbar\": {\"outlinewidth\": 0, \"ticks\": \"\"}, \"type\": \"choropleth\"}], \"contour\": [{\"colorbar\": {\"outlinewidth\": 0, \"ticks\": \"\"}, \"colorscale\": [[0.0, \"#0d0887\"], [0.1111111111111111, \"#46039f\"], [0.2222222222222222, \"#7201a8\"], [0.3333333333333333, \"#9c179e\"], [0.4444444444444444, \"#bd3786\"], [0.5555555555555556, \"#d8576b\"], [0.6666666666666666, \"#ed7953\"], [0.7777777777777778, \"#fb9f3a\"], [0.8888888888888888, \"#fdca26\"], [1.0, \"#f0f921\"]], \"type\": \"contour\"}], \"contourcarpet\": [{\"colorbar\": {\"outlinewidth\": 0, \"ticks\": \"\"}, \"type\": \"contourcarpet\"}], \"heatmap\": [{\"colorbar\": {\"outlinewidth\": 0, \"ticks\": \"\"}, \"colorscale\": [[0.0, \"#0d0887\"], [0.1111111111111111, \"#46039f\"], [0.2222222222222222, \"#7201a8\"], [0.3333333333333333, \"#9c179e\"], [0.4444444444444444, \"#bd3786\"], [0.5555555555555556, \"#d8576b\"], [0.6666666666666666, \"#ed7953\"], [0.7777777777777778, \"#fb9f3a\"], [0.8888888888888888, \"#fdca26\"], [1.0, \"#f0f921\"]], \"type\": \"heatmap\"}], \"heatmapgl\": [{\"colorbar\": {\"outlinewidth\": 0, \"ticks\": \"\"}, \"colorscale\": [[0.0, \"#0d0887\"], [0.1111111111111111, \"#46039f\"], [0.2222222222222222, \"#7201a8\"], [0.3333333333333333, \"#9c179e\"], [0.4444444444444444, \"#bd3786\"], [0.5555555555555556, \"#d8576b\"], [0.6666666666666666, \"#ed7953\"], [0.7777777777777778, \"#fb9f3a\"], [0.8888888888888888, \"#fdca26\"], [1.0, \"#f0f921\"]], \"type\": \"heatmapgl\"}], \"histogram\": [{\"marker\": {\"colorbar\": {\"outlinewidth\": 0, \"ticks\": \"\"}}, \"type\": \"histogram\"}], \"histogram2d\": [{\"colorbar\": {\"outlinewidth\": 0, \"ticks\": \"\"}, \"colorscale\": [[0.0, \"#0d0887\"], [0.1111111111111111, \"#46039f\"], [0.2222222222222222, \"#7201a8\"], [0.3333333333333333, \"#9c179e\"], [0.4444444444444444, \"#bd3786\"], [0.5555555555555556, \"#d8576b\"], [0.6666666666666666, \"#ed7953\"], [0.7777777777777778, \"#fb9f3a\"], [0.8888888888888888, \"#fdca26\"], [1.0, \"#f0f921\"]], \"type\": \"histogram2d\"}], \"histogram2dcontour\": [{\"colorbar\": {\"outlinewidth\": 0, \"ticks\": \"\"}, \"colorscale\": [[0.0, \"#0d0887\"], [0.1111111111111111, \"#46039f\"], [0.2222222222222222, \"#7201a8\"], [0.3333333333333333, \"#9c179e\"], [0.4444444444444444, \"#bd3786\"], [0.5555555555555556, \"#d8576b\"], [0.6666666666666666, \"#ed7953\"], [0.7777777777777778, \"#fb9f3a\"], [0.8888888888888888, \"#fdca26\"], [1.0, \"#f0f921\"]], \"type\": \"histogram2dcontour\"}], \"mesh3d\": [{\"colorbar\": {\"outlinewidth\": 0, \"ticks\": \"\"}, \"type\": \"mesh3d\"}], \"parcoords\": [{\"line\": {\"colorbar\": {\"outlinewidth\": 0, \"ticks\": \"\"}}, \"type\": \"parcoords\"}], \"pie\": [{\"automargin\": true, \"type\": \"pie\"}], \"scatter\": [{\"marker\": {\"colorbar\": {\"outlinewidth\": 0, \"ticks\": \"\"}}, \"type\": \"scatter\"}], \"scatter3d\": [{\"line\": {\"colorbar\": {\"outlinewidth\": 0, \"ticks\": \"\"}}, \"marker\": {\"colorbar\": {\"outlinewidth\": 0, \"ticks\": \"\"}}, \"type\": \"scatter3d\"}], \"scattercarpet\": [{\"marker\": {\"colorbar\": {\"outlinewidth\": 0, \"ticks\": \"\"}}, \"type\": \"scattercarpet\"}], \"scattergeo\": [{\"marker\": {\"colorbar\": {\"outlinewidth\": 0, \"ticks\": \"\"}}, \"type\": \"scattergeo\"}], \"scattergl\": [{\"marker\": {\"colorbar\": {\"outlinewidth\": 0, \"ticks\": \"\"}}, \"type\": \"scattergl\"}], \"scattermapbox\": [{\"marker\": {\"colorbar\": {\"outlinewidth\": 0, \"ticks\": \"\"}}, \"type\": \"scattermapbox\"}], \"scatterpolar\": [{\"marker\": {\"colorbar\": {\"outlinewidth\": 0, \"ticks\": \"\"}}, \"type\": \"scatterpolar\"}], \"scatterpolargl\": [{\"marker\": {\"colorbar\": {\"outlinewidth\": 0, \"ticks\": \"\"}}, \"type\": \"scatterpolargl\"}], \"scatterternary\": [{\"marker\": {\"colorbar\": {\"outlinewidth\": 0, \"ticks\": \"\"}}, \"type\": \"scatterternary\"}], \"surface\": [{\"colorbar\": {\"outlinewidth\": 0, \"ticks\": \"\"}, \"colorscale\": [[0.0, \"#0d0887\"], [0.1111111111111111, \"#46039f\"], [0.2222222222222222, \"#7201a8\"], [0.3333333333333333, \"#9c179e\"], [0.4444444444444444, \"#bd3786\"], [0.5555555555555556, \"#d8576b\"], [0.6666666666666666, \"#ed7953\"], [0.7777777777777778, \"#fb9f3a\"], [0.8888888888888888, \"#fdca26\"], [1.0, \"#f0f921\"]], \"type\": \"surface\"}], \"table\": [{\"cells\": {\"fill\": {\"color\": \"#EBF0F8\"}, \"line\": {\"color\": \"white\"}}, \"header\": {\"fill\": {\"color\": \"#C8D4E3\"}, \"line\": {\"color\": \"white\"}}, \"type\": \"table\"}]}, \"layout\": {\"annotationdefaults\": {\"arrowcolor\": \"#2a3f5f\", \"arrowhead\": 0, \"arrowwidth\": 1}, \"coloraxis\": {\"colorbar\": {\"outlinewidth\": 0, \"ticks\": \"\"}}, \"colorscale\": {\"diverging\": [[0, \"#8e0152\"], [0.1, \"#c51b7d\"], [0.2, \"#de77ae\"], [0.3, \"#f1b6da\"], [0.4, \"#fde0ef\"], [0.5, \"#f7f7f7\"], [0.6, \"#e6f5d0\"], [0.7, \"#b8e186\"], [0.8, \"#7fbc41\"], [0.9, \"#4d9221\"], [1, \"#276419\"]], \"sequential\": [[0.0, \"#0d0887\"], [0.1111111111111111, \"#46039f\"], [0.2222222222222222, \"#7201a8\"], [0.3333333333333333, \"#9c179e\"], [0.4444444444444444, \"#bd3786\"], [0.5555555555555556, \"#d8576b\"], [0.6666666666666666, \"#ed7953\"], [0.7777777777777778, \"#fb9f3a\"], [0.8888888888888888, \"#fdca26\"], [1.0, \"#f0f921\"]], \"sequentialminus\": [[0.0, \"#0d0887\"], [0.1111111111111111, \"#46039f\"], [0.2222222222222222, \"#7201a8\"], [0.3333333333333333, \"#9c179e\"], [0.4444444444444444, \"#bd3786\"], [0.5555555555555556, \"#d8576b\"], [0.6666666666666666, \"#ed7953\"], [0.7777777777777778, \"#fb9f3a\"], [0.8888888888888888, \"#fdca26\"], [1.0, \"#f0f921\"]]}, \"colorway\": [\"#636efa\", \"#EF553B\", \"#00cc96\", \"#ab63fa\", \"#FFA15A\", \"#19d3f3\", \"#FF6692\", \"#B6E880\", \"#FF97FF\", \"#FECB52\"], \"font\": {\"color\": \"#2a3f5f\"}, \"geo\": {\"bgcolor\": \"white\", \"lakecolor\": \"white\", \"landcolor\": \"#E5ECF6\", \"showlakes\": true, \"showland\": true, \"subunitcolor\": \"white\"}, \"hoverlabel\": {\"align\": \"left\"}, \"hovermode\": \"closest\", \"mapbox\": {\"style\": \"light\"}, \"paper_bgcolor\": \"white\", \"plot_bgcolor\": \"#E5ECF6\", \"polar\": {\"angularaxis\": {\"gridcolor\": \"white\", \"linecolor\": \"white\", \"ticks\": \"\"}, \"bgcolor\": \"#E5ECF6\", \"radialaxis\": {\"gridcolor\": \"white\", \"linecolor\": \"white\", \"ticks\": \"\"}}, \"scene\": {\"xaxis\": {\"backgroundcolor\": \"#E5ECF6\", \"gridcolor\": \"white\", \"gridwidth\": 2, \"linecolor\": \"white\", \"showbackground\": true, \"ticks\": \"\", \"zerolinecolor\": \"white\"}, \"yaxis\": {\"backgroundcolor\": \"#E5ECF6\", \"gridcolor\": \"white\", \"gridwidth\": 2, \"linecolor\": \"white\", \"showbackground\": true, \"ticks\": \"\", \"zerolinecolor\": \"white\"}, \"zaxis\": {\"backgroundcolor\": \"#E5ECF6\", \"gridcolor\": \"white\", \"gridwidth\": 2, \"linecolor\": \"white\", \"showbackground\": true, \"ticks\": \"\", \"zerolinecolor\": \"white\"}}, \"shapedefaults\": {\"line\": {\"color\": \"#2a3f5f\"}}, \"ternary\": {\"aaxis\": {\"gridcolor\": \"white\", \"linecolor\": \"white\", \"ticks\": \"\"}, \"baxis\": {\"gridcolor\": \"white\", \"linecolor\": \"white\", \"ticks\": \"\"}, \"bgcolor\": \"#E5ECF6\", \"caxis\": {\"gridcolor\": \"white\", \"linecolor\": \"white\", \"ticks\": \"\"}}, \"title\": {\"x\": 0.05}, \"xaxis\": {\"automargin\": true, \"gridcolor\": \"white\", \"linecolor\": \"white\", \"ticks\": \"\", \"title\": {\"standoff\": 15}, \"zerolinecolor\": \"white\", \"zerolinewidth\": 2}, \"yaxis\": {\"automargin\": true, \"gridcolor\": \"white\", \"linecolor\": \"white\", \"ticks\": \"\", \"title\": {\"standoff\": 15}, \"zerolinecolor\": \"white\", \"zerolinewidth\": 2}}}},\n                        {\"responsive\": true}\n                    ).then(function(){\n                            \nvar gd = document.getElementById('4adabdfe-87b4-45e7-b93b-2839d7b02ef0');\nvar x = new MutationObserver(function (mutations, observer) {{\n        var display = window.getComputedStyle(gd).display;\n        if (!display || display === 'none') {{\n            console.log([gd, 'removed!']);\n            Plotly.purge(gd);\n            observer.disconnect();\n        }}\n}});\n\n// Listen for the removal of the full notebook cells\nvar notebookContainer = gd.closest('#notebook-container');\nif (notebookContainer) {{\n    x.observe(notebookContainer, {childList: true});\n}}\n\n// Listen for the clearing of the current output cell\nvar outputEl = gd.closest('.output');\nif (outputEl) {{\n    x.observe(outputEl, {childList: true});\n}}\n\n                        })\n                };\n                });\n            </script>\n        </div>"
         },
         "metadata": {},
         "output_type": "display_data"
        }
       ]
      }
     },
     "ab82e19614244551939c88fd7c669a82": {
      "model_module": "@jupyter-widgets/base",
      "model_module_version": "1.2.0",
      "model_name": "LayoutModel",
      "state": {}
     },
     "af8b3cfefc8149af965cb3764ec15ce3": {
      "model_module": "@jupyter-widgets/output",
      "model_module_version": "1.0.0",
      "model_name": "OutputModel",
      "state": {
       "layout": "IPY_MODEL_536cae324a934828b89ff397e6603f5e",
       "outputs": [
        {
         "ename": "TypeError",
         "evalue": "invalid Figure property: projection",
         "output_type": "error",
         "traceback": [
          "\u001b[0;31m---------------------------------------------------------------------------\u001b[0m",
          "\u001b[0;31mTypeError\u001b[0m                                 Traceback (most recent call last)",
          "\u001b[0;32m/usr/local/lib/python3.5/dist-packages/ipywidgets/widgets/interaction.py\u001b[0m in \u001b[0;36mupdate\u001b[0;34m(self, *args)\u001b[0m\n\u001b[1;32m    254\u001b[0m                     \u001b[0mvalue\u001b[0m \u001b[0;34m=\u001b[0m \u001b[0mwidget\u001b[0m\u001b[0;34m.\u001b[0m\u001b[0mget_interact_value\u001b[0m\u001b[0;34m(\u001b[0m\u001b[0;34m)\u001b[0m\u001b[0;34m\u001b[0m\u001b[0m\n\u001b[1;32m    255\u001b[0m                     \u001b[0mself\u001b[0m\u001b[0;34m.\u001b[0m\u001b[0mkwargs\u001b[0m\u001b[0;34m[\u001b[0m\u001b[0mwidget\u001b[0m\u001b[0;34m.\u001b[0m\u001b[0m_kwarg\u001b[0m\u001b[0;34m]\u001b[0m \u001b[0;34m=\u001b[0m \u001b[0mvalue\u001b[0m\u001b[0;34m\u001b[0m\u001b[0m\n\u001b[0;32m--> 256\u001b[0;31m                 \u001b[0mself\u001b[0m\u001b[0;34m.\u001b[0m\u001b[0mresult\u001b[0m \u001b[0;34m=\u001b[0m \u001b[0mself\u001b[0m\u001b[0;34m.\u001b[0m\u001b[0mf\u001b[0m\u001b[0;34m(\u001b[0m\u001b[0;34m**\u001b[0m\u001b[0mself\u001b[0m\u001b[0;34m.\u001b[0m\u001b[0mkwargs\u001b[0m\u001b[0;34m)\u001b[0m\u001b[0;34m\u001b[0m\u001b[0m\n\u001b[0m\u001b[1;32m    257\u001b[0m                 \u001b[0mshow_inline_matplotlib_plots\u001b[0m\u001b[0;34m(\u001b[0m\u001b[0;34m)\u001b[0m\u001b[0;34m\u001b[0m\u001b[0m\n\u001b[1;32m    258\u001b[0m                 \u001b[0;32mif\u001b[0m \u001b[0mself\u001b[0m\u001b[0;34m.\u001b[0m\u001b[0mauto_display\u001b[0m \u001b[0;32mand\u001b[0m \u001b[0mself\u001b[0m\u001b[0;34m.\u001b[0m\u001b[0mresult\u001b[0m \u001b[0;32mis\u001b[0m \u001b[0;32mnot\u001b[0m \u001b[0;32mNone\u001b[0m\u001b[0;34m:\u001b[0m\u001b[0;34m\u001b[0m\u001b[0m\n",
          "\u001b[0;32m<ipython-input-30-46f97cde31d6>\u001b[0m in \u001b[0;36m_\u001b[0;34m(key)\u001b[0m\n\u001b[1;32m     11\u001b[0m                          text=df['hover_text'])\n\u001b[1;32m     12\u001b[0m     \u001b[0mlayout\u001b[0m \u001b[0;34m=\u001b[0m \u001b[0mgo\u001b[0m\u001b[0;34m.\u001b[0m\u001b[0mLayout\u001b[0m\u001b[0;34m(\u001b[0m\u001b[0mgeo\u001b[0m\u001b[0;34m=\u001b[0m\u001b[0mgo\u001b[0m\u001b[0;34m.\u001b[0m\u001b[0mlayout\u001b[0m\u001b[0;34m.\u001b[0m\u001b[0mGeo\u001b[0m\u001b[0;34m(\u001b[0m\u001b[0;34m)\u001b[0m\u001b[0;34m)\u001b[0m\u001b[0;34m\u001b[0m\u001b[0m\n\u001b[0;32m---> 13\u001b[0;31m     \u001b[0mfig\u001b[0m \u001b[0;34m=\u001b[0m \u001b[0mgo\u001b[0m\u001b[0;34m.\u001b[0m\u001b[0mFigure\u001b[0m\u001b[0;34m(\u001b[0m\u001b[0mdata\u001b[0m\u001b[0;34m=\u001b[0m\u001b[0mdata\u001b[0m\u001b[0;34m,\u001b[0m \u001b[0mlayout\u001b[0m\u001b[0;34m=\u001b[0m\u001b[0mlayout\u001b[0m\u001b[0;34m,\u001b[0m \u001b[0mprojection\u001b[0m\u001b[0;34m=\u001b[0m\u001b[0;34m\"natural earth\"\u001b[0m\u001b[0;34m)\u001b[0m\u001b[0;34m\u001b[0m\u001b[0m\n\u001b[0m\u001b[1;32m     14\u001b[0m     \u001b[0mfig\u001b[0m\u001b[0;34m.\u001b[0m\u001b[0mshow\u001b[0m\u001b[0;34m(\u001b[0m\u001b[0;34m)\u001b[0m\u001b[0;34m\u001b[0m\u001b[0m\n",
          "\u001b[0;32m/usr/local/lib/python3.5/dist-packages/plotly/graph_objs/_figure.py\u001b[0m in \u001b[0;36m__init__\u001b[0;34m(self, data, layout, frames, skip_invalid, **kwargs)\u001b[0m\n\u001b[1;32m    606\u001b[0m             \u001b[0;32mis\u001b[0m \u001b[0minvalid\u001b[0m \u001b[0mAND\u001b[0m \u001b[0mskip_invalid\u001b[0m \u001b[0;32mis\u001b[0m \u001b[0;32mFalse\u001b[0m\u001b[0;34m\u001b[0m\u001b[0m\n\u001b[1;32m    607\u001b[0m         \"\"\"\n\u001b[0;32m--> 608\u001b[0;31m         \u001b[0msuper\u001b[0m\u001b[0;34m(\u001b[0m\u001b[0mFigure\u001b[0m\u001b[0;34m,\u001b[0m \u001b[0mself\u001b[0m\u001b[0;34m)\u001b[0m\u001b[0;34m.\u001b[0m\u001b[0m__init__\u001b[0m\u001b[0;34m(\u001b[0m\u001b[0mdata\u001b[0m\u001b[0;34m,\u001b[0m \u001b[0mlayout\u001b[0m\u001b[0;34m,\u001b[0m \u001b[0mframes\u001b[0m\u001b[0;34m,\u001b[0m \u001b[0mskip_invalid\u001b[0m\u001b[0;34m,\u001b[0m \u001b[0;34m**\u001b[0m\u001b[0mkwargs\u001b[0m\u001b[0;34m)\u001b[0m\u001b[0;34m\u001b[0m\u001b[0m\n\u001b[0m\u001b[1;32m    609\u001b[0m \u001b[0;34m\u001b[0m\u001b[0m\n\u001b[1;32m    610\u001b[0m     def add_area(\n",
          "\u001b[0;32m/usr/local/lib/python3.5/dist-packages/plotly/basedatatypes.py\u001b[0m in \u001b[0;36m__init__\u001b[0;34m(self, data, layout_plotly, frames, skip_invalid, **kwargs)\u001b[0m\n\u001b[1;32m    276\u001b[0m                 \u001b[0mself\u001b[0m\u001b[0;34m[\u001b[0m\u001b[0mk\u001b[0m\u001b[0;34m]\u001b[0m \u001b[0;34m=\u001b[0m \u001b[0mv\u001b[0m\u001b[0;34m\u001b[0m\u001b[0m\n\u001b[1;32m    277\u001b[0m             \u001b[0;32melif\u001b[0m \u001b[0;32mnot\u001b[0m \u001b[0mskip_invalid\u001b[0m\u001b[0;34m:\u001b[0m\u001b[0;34m\u001b[0m\u001b[0m\n\u001b[0;32m--> 278\u001b[0;31m                 \u001b[0;32mraise\u001b[0m \u001b[0mTypeError\u001b[0m\u001b[0;34m(\u001b[0m\u001b[0;34m\"invalid Figure property: {}\"\u001b[0m\u001b[0;34m.\u001b[0m\u001b[0mformat\u001b[0m\u001b[0;34m(\u001b[0m\u001b[0mk\u001b[0m\u001b[0;34m)\u001b[0m\u001b[0;34m)\u001b[0m\u001b[0;34m\u001b[0m\u001b[0m\n\u001b[0m\u001b[1;32m    279\u001b[0m \u001b[0;34m\u001b[0m\u001b[0m\n\u001b[1;32m    280\u001b[0m     \u001b[0;31m# Magic Methods\u001b[0m\u001b[0;34m\u001b[0m\u001b[0;34m\u001b[0m\u001b[0m\n",
          "\u001b[0;31mTypeError\u001b[0m: invalid Figure property: projection"
         ]
        }
       ]
      }
     },
     "afbe4df0a55c4c838e90dba9f1bfa123": {
      "model_module": "@jupyter-widgets/output",
      "model_module_version": "1.0.0",
      "model_name": "OutputModel",
      "state": {
       "layout": "IPY_MODEL_9d911857726246ddb1a179e3fb82c1e7",
       "outputs": [
        {
         "data": {
          "application/vnd.plotly.v1+json": {
           "config": {
            "plotlyServerURL": "https://plot.ly"
           },
           "data": [
            {
             "lat": [
              16.72,
              16.72,
              36.404,
              36.404,
              32.884,
              32.884,
              32.884,
              2.58,
              2.58,
              2.58,
              2.58,
              44.43,
              44.43,
              44.43,
              44.43,
              44.43,
              44.43,
              37.7166666666667,
              37.7166666666667,
              35.9,
              -38.82,
              43.722,
              41.611,
              46.2,
              46.853,
              -22.2666666666667,
              65.715,
              63.983,
              63.892,
              64.083,
              60.485,
              32.761,
              38.83,
              31.934,
              36.7833333333333,
              35.361,
              56.056,
              19.421,
              19.421,
              40.821,
              40.827,
              37.748,
              38.789,
              15.13,
              4.892,
              -1.467,
              28
             ],
             "lon": [
              -62.18,
              -62.18,
              25.396,
              25.396,
              131.104,
              131.104,
              131.104,
              98.83,
              98.83,
              98.83,
              98.83,
              -110.67,
              -110.67,
              -110.67,
              -110.67,
              -110.67,
              -110.67,
              -118.883333333333,
              -118.883333333333,
              -106.533333333333,
              176,
              -121.229,
              -121.554,
              -122.18,
              -121.76,
              -67.1666666666667,
              -16.728,
              -19.666,
              -19.122,
              -21.416,
              -152.742,
              130.299,
              140.7,
              130.862,
              139.366666666667,
              138.728,
              160.642,
              -155.287,
              -155.287,
              14.426,
              14.139,
              14.999,
              15.213,
              120.35,
              -75.324,
              -78.442,
              -15.58
             ],
             "marker": {
              "size": [
               215.44346900318837,
               215.44346900318837,
               464.15888336127784,
               464.15888336127784,
               843.4326653017491,
               843.4326653017491,
               843.4326653017491,
               1409.4597464129781,
               1409.4597464129781,
               1409.4597464129781,
               1409.4597464129781,
               1348.0997498879249,
               1348.0997498879249,
               1348.0997498879249,
               1348.0997498879249,
               1348.0997498879249,
               1348.0997498879249,
               100,
               100,
               100,
               100,
               100,
               100,
               100,
               100,
               100,
               100,
               100,
               100,
               100,
               100,
               100,
               100,
               100,
               100,
               100,
               100,
               100,
               100,
               100,
               100,
               100,
               100,
               100,
               100,
               100,
               100
              ],
              "sizemode": "area"
             },
             "text": [
              "Soufriere Hills Volcano<br>Erupted volume: 10.0<br><br>References:<br>Paulatto et al., 2012",
              "Soufriere Hills Volcano<br>Erupted volume: 10.0<br><br>References:<br>Paulatto et al., 2019",
              "Santorini<br>Erupted volume: 100.0<br><br>References:<br>McVey et al., 2019",
              null,
              "Aso Caldera<br>Erupted volume: 600.0<br><br>References:<br>Sudo & Kong, 2001",
              "Aso Caldera<br>Erupted volume: 600.0<br><br>References:<br>Huang et al., 2018",
              "Aso Caldera<br>Erupted volume: 600.0<br><br>References:<br>Abe et al., 2017",
              "Toba<br>Erupted volume: 2800.0<br><br>References:<br>Koulakov et al., 2009",
              "Toba<br>Erupted volume: 2800.0<br><br>References:<br>Mastruryono et al., 2001",
              "Toba<br>Erupted volume: 2800.0<br><br>References:<br>Jaxybulatov et al., 2014",
              "Toba<br>Erupted volume: 2800.0<br><br>References:<br>Stankiewicz et al., 2010",
              "Yellowstone<br>Erupted volume: 2450.0<br><br>References:<br>(Iyer et al., 1981, Benz and Smith, 1984, Clawson et al., 1989, Miller and Smith, 1999, Husen and Smith, 2004, Yuan and Dueker, 2005)",
              "Yellowstone<br>Erupted volume: 2450.0<br><br>References:<br>Chu et al., 2010",
              "Yellowstone<br>Erupted volume: 2450.0<br><br>References:<br>Farrell et al., 2014",
              "Yellowstone<br>Erupted volume: 2450.0<br><br>References:<br>Huang et al., 2015",
              "Yellowstone<br>Erupted volume: 2450.0<br><br>References:<br>Miller and Smith, 1999",
              "Yellowstone<br>Erupted volume: 2450.0<br><br>References:<br>Jiang, 2018",
              "Long Valley<br>Erupted volume: nan<br><br>References:<br>(Peppin, 1985, Dawson et al., 1987, Hauksson, 1988, Dawson et al., 1990, Sanders, 1993a, Sanders, 1993b, Sanders et al., 1994, Steck, 1995, Sanders et al., 1995, Weiland et al., 1995, O'Doherty et al., 1997)",
              "Long Valley<br>Erupted volume: nan<br><br>References:<br>Jiang, 2018",
              "Valles<br>Erupted volume: nan<br><br>References:<br>Lutter et al. (1995)",
              "Taupo<br>Erupted volume: nan<br><br>References:<br>Sherburn et al. (2003)",
              "Newberry volcano<br>Erupted volume: nan<br><br>References:<br>(Achauer et al., 1988, Stauber et al., 1988)",
              "Medicine Lake<br>Erupted volume: nan<br><br>References:<br>(Evans and Zucca, 1988, Lees and Crosson, 1989, Ritter and Evans, 1997)",
              "Mt. St. Helens<br>Erupted volume: nan<br><br>References:<br>Lees (1992)",
              "Mt. Rainier<br>Erupted volume: nan<br><br>References:<br>(Lees and Crosson, 1990, Moran et al., 1999)",
              null,
              "Krafla<br>Erupted volume: nan<br><br>References:<br>(Einarsson, 1978, Foulger and Arnott, 1993)",
              "Hekla<br>Erupted volume: nan<br><br>References:<br>Soosalu and Einarsson (2004)",
              "Torfajökull<br>Erupted volume: nan<br><br>References:<br>Soosalu and Einarsson (2004)",
              "Hengill–Grensdalur<br>Erupted volume: nan<br><br>References:<br>Toomey and Foulger (1989)",
              "Redoubt<br>Erupted volume: nan<br><br>References:<br>Benz et al. (1996)",
              "Unzen<br>Erupted volume: nan<br><br>References:<br>Ohmi and Lees (1995)",
              "Onikobe<br>Erupted volume: nan<br><br>References:<br>Nakajima and Hasegawa (2003)",
              "Kirishima<br>Erupted volume: nan<br><br>References:<br>Yamamoto and Ida (1994)",
              "Nikko-Shirane<br>Erupted volume: nan<br><br>References:<br>Horiuchi et al. (1997)",
              "Mt. Fuji<br>Erupted volume: nan<br><br>References:<br>Nakamichi (2005)",
              "Klyuchevskoy<br>Erupted volume: nan<br><br>References:<br>(Anosov et al., 1978, Ozerov, 2000)",
              "Halemaumau<br>Erupted volume: nan<br><br>References:<br>Rowan and Clayton (1993)",
              "Kilauea<br>Erupted volume: nan<br><br>References:<br>(Thurber, 1984, Rowan and Clayton, 1993, Okubo et al., 1997, Haslinger et al., 2001)",
              "Vesuvius<br>Erupted volume: nan<br><br>References:<br>(De Natale et al., 1998, Zollo et al., 1998)",
              "Campi Flegrei<br>Erupted volume: nan<br><br>References:<br>1988; Aster et al., 1992",
              "Mt. Etna<br>Erupted volume: nan<br><br>References:<br>(Cardaci et al., 1993, Villasenor et al., 1998, Laigle and Hirn, 1999, Chiarabba et al., 2000, Aloisi et al., 2002)",
              null,
              "Pinatubo<br>Erupted volume: nan<br><br>References:<br>Mori et al. (1996)",
              "Nevado del Ruiz<br>Erupted volume: nan<br><br>References:<br>Londoño and Sudo (2003)",
              "Tungurahua<br>Erupted volume: nan<br><br>References:<br>Molina et al. (2005)",
              "Gran Canaria<br>Erupted volume: nan<br><br>References:<br>Krastel and Schmincke (2002)"
             ],
             "type": "scattergeo"
            }
           ],
           "layout": {
            "template": {
             "data": {
              "bar": [
               {
                "error_x": {
                 "color": "#2a3f5f"
                },
                "error_y": {
                 "color": "#2a3f5f"
                },
                "marker": {
                 "line": {
                  "color": "#E5ECF6",
                  "width": 0.5
                 }
                },
                "type": "bar"
               }
              ],
              "barpolar": [
               {
                "marker": {
                 "line": {
                  "color": "#E5ECF6",
                  "width": 0.5
                 }
                },
                "type": "barpolar"
               }
              ],
              "carpet": [
               {
                "aaxis": {
                 "endlinecolor": "#2a3f5f",
                 "gridcolor": "white",
                 "linecolor": "white",
                 "minorgridcolor": "white",
                 "startlinecolor": "#2a3f5f"
                },
                "baxis": {
                 "endlinecolor": "#2a3f5f",
                 "gridcolor": "white",
                 "linecolor": "white",
                 "minorgridcolor": "white",
                 "startlinecolor": "#2a3f5f"
                },
                "type": "carpet"
               }
              ],
              "choropleth": [
               {
                "colorbar": {
                 "outlinewidth": 0,
                 "ticks": ""
                },
                "type": "choropleth"
               }
              ],
              "contour": [
               {
                "colorbar": {
                 "outlinewidth": 0,
                 "ticks": ""
                },
                "colorscale": [
                 [
                  0,
                  "#0d0887"
                 ],
                 [
                  0.1111111111111111,
                  "#46039f"
                 ],
                 [
                  0.2222222222222222,
                  "#7201a8"
                 ],
                 [
                  0.3333333333333333,
                  "#9c179e"
                 ],
                 [
                  0.4444444444444444,
                  "#bd3786"
                 ],
                 [
                  0.5555555555555556,
                  "#d8576b"
                 ],
                 [
                  0.6666666666666666,
                  "#ed7953"
                 ],
                 [
                  0.7777777777777778,
                  "#fb9f3a"
                 ],
                 [
                  0.8888888888888888,
                  "#fdca26"
                 ],
                 [
                  1,
                  "#f0f921"
                 ]
                ],
                "type": "contour"
               }
              ],
              "contourcarpet": [
               {
                "colorbar": {
                 "outlinewidth": 0,
                 "ticks": ""
                },
                "type": "contourcarpet"
               }
              ],
              "heatmap": [
               {
                "colorbar": {
                 "outlinewidth": 0,
                 "ticks": ""
                },
                "colorscale": [
                 [
                  0,
                  "#0d0887"
                 ],
                 [
                  0.1111111111111111,
                  "#46039f"
                 ],
                 [
                  0.2222222222222222,
                  "#7201a8"
                 ],
                 [
                  0.3333333333333333,
                  "#9c179e"
                 ],
                 [
                  0.4444444444444444,
                  "#bd3786"
                 ],
                 [
                  0.5555555555555556,
                  "#d8576b"
                 ],
                 [
                  0.6666666666666666,
                  "#ed7953"
                 ],
                 [
                  0.7777777777777778,
                  "#fb9f3a"
                 ],
                 [
                  0.8888888888888888,
                  "#fdca26"
                 ],
                 [
                  1,
                  "#f0f921"
                 ]
                ],
                "type": "heatmap"
               }
              ],
              "heatmapgl": [
               {
                "colorbar": {
                 "outlinewidth": 0,
                 "ticks": ""
                },
                "colorscale": [
                 [
                  0,
                  "#0d0887"
                 ],
                 [
                  0.1111111111111111,
                  "#46039f"
                 ],
                 [
                  0.2222222222222222,
                  "#7201a8"
                 ],
                 [
                  0.3333333333333333,
                  "#9c179e"
                 ],
                 [
                  0.4444444444444444,
                  "#bd3786"
                 ],
                 [
                  0.5555555555555556,
                  "#d8576b"
                 ],
                 [
                  0.6666666666666666,
                  "#ed7953"
                 ],
                 [
                  0.7777777777777778,
                  "#fb9f3a"
                 ],
                 [
                  0.8888888888888888,
                  "#fdca26"
                 ],
                 [
                  1,
                  "#f0f921"
                 ]
                ],
                "type": "heatmapgl"
               }
              ],
              "histogram": [
               {
                "marker": {
                 "colorbar": {
                  "outlinewidth": 0,
                  "ticks": ""
                 }
                },
                "type": "histogram"
               }
              ],
              "histogram2d": [
               {
                "colorbar": {
                 "outlinewidth": 0,
                 "ticks": ""
                },
                "colorscale": [
                 [
                  0,
                  "#0d0887"
                 ],
                 [
                  0.1111111111111111,
                  "#46039f"
                 ],
                 [
                  0.2222222222222222,
                  "#7201a8"
                 ],
                 [
                  0.3333333333333333,
                  "#9c179e"
                 ],
                 [
                  0.4444444444444444,
                  "#bd3786"
                 ],
                 [
                  0.5555555555555556,
                  "#d8576b"
                 ],
                 [
                  0.6666666666666666,
                  "#ed7953"
                 ],
                 [
                  0.7777777777777778,
                  "#fb9f3a"
                 ],
                 [
                  0.8888888888888888,
                  "#fdca26"
                 ],
                 [
                  1,
                  "#f0f921"
                 ]
                ],
                "type": "histogram2d"
               }
              ],
              "histogram2dcontour": [
               {
                "colorbar": {
                 "outlinewidth": 0,
                 "ticks": ""
                },
                "colorscale": [
                 [
                  0,
                  "#0d0887"
                 ],
                 [
                  0.1111111111111111,
                  "#46039f"
                 ],
                 [
                  0.2222222222222222,
                  "#7201a8"
                 ],
                 [
                  0.3333333333333333,
                  "#9c179e"
                 ],
                 [
                  0.4444444444444444,
                  "#bd3786"
                 ],
                 [
                  0.5555555555555556,
                  "#d8576b"
                 ],
                 [
                  0.6666666666666666,
                  "#ed7953"
                 ],
                 [
                  0.7777777777777778,
                  "#fb9f3a"
                 ],
                 [
                  0.8888888888888888,
                  "#fdca26"
                 ],
                 [
                  1,
                  "#f0f921"
                 ]
                ],
                "type": "histogram2dcontour"
               }
              ],
              "mesh3d": [
               {
                "colorbar": {
                 "outlinewidth": 0,
                 "ticks": ""
                },
                "type": "mesh3d"
               }
              ],
              "parcoords": [
               {
                "line": {
                 "colorbar": {
                  "outlinewidth": 0,
                  "ticks": ""
                 }
                },
                "type": "parcoords"
               }
              ],
              "pie": [
               {
                "automargin": true,
                "type": "pie"
               }
              ],
              "scatter": [
               {
                "marker": {
                 "colorbar": {
                  "outlinewidth": 0,
                  "ticks": ""
                 }
                },
                "type": "scatter"
               }
              ],
              "scatter3d": [
               {
                "line": {
                 "colorbar": {
                  "outlinewidth": 0,
                  "ticks": ""
                 }
                },
                "marker": {
                 "colorbar": {
                  "outlinewidth": 0,
                  "ticks": ""
                 }
                },
                "type": "scatter3d"
               }
              ],
              "scattercarpet": [
               {
                "marker": {
                 "colorbar": {
                  "outlinewidth": 0,
                  "ticks": ""
                 }
                },
                "type": "scattercarpet"
               }
              ],
              "scattergeo": [
               {
                "marker": {
                 "colorbar": {
                  "outlinewidth": 0,
                  "ticks": ""
                 }
                },
                "type": "scattergeo"
               }
              ],
              "scattergl": [
               {
                "marker": {
                 "colorbar": {
                  "outlinewidth": 0,
                  "ticks": ""
                 }
                },
                "type": "scattergl"
               }
              ],
              "scattermapbox": [
               {
                "marker": {
                 "colorbar": {
                  "outlinewidth": 0,
                  "ticks": ""
                 }
                },
                "type": "scattermapbox"
               }
              ],
              "scatterpolar": [
               {
                "marker": {
                 "colorbar": {
                  "outlinewidth": 0,
                  "ticks": ""
                 }
                },
                "type": "scatterpolar"
               }
              ],
              "scatterpolargl": [
               {
                "marker": {
                 "colorbar": {
                  "outlinewidth": 0,
                  "ticks": ""
                 }
                },
                "type": "scatterpolargl"
               }
              ],
              "scatterternary": [
               {
                "marker": {
                 "colorbar": {
                  "outlinewidth": 0,
                  "ticks": ""
                 }
                },
                "type": "scatterternary"
               }
              ],
              "surface": [
               {
                "colorbar": {
                 "outlinewidth": 0,
                 "ticks": ""
                },
                "colorscale": [
                 [
                  0,
                  "#0d0887"
                 ],
                 [
                  0.1111111111111111,
                  "#46039f"
                 ],
                 [
                  0.2222222222222222,
                  "#7201a8"
                 ],
                 [
                  0.3333333333333333,
                  "#9c179e"
                 ],
                 [
                  0.4444444444444444,
                  "#bd3786"
                 ],
                 [
                  0.5555555555555556,
                  "#d8576b"
                 ],
                 [
                  0.6666666666666666,
                  "#ed7953"
                 ],
                 [
                  0.7777777777777778,
                  "#fb9f3a"
                 ],
                 [
                  0.8888888888888888,
                  "#fdca26"
                 ],
                 [
                  1,
                  "#f0f921"
                 ]
                ],
                "type": "surface"
               }
              ],
              "table": [
               {
                "cells": {
                 "fill": {
                  "color": "#EBF0F8"
                 },
                 "line": {
                  "color": "white"
                 }
                },
                "header": {
                 "fill": {
                  "color": "#C8D4E3"
                 },
                 "line": {
                  "color": "white"
                 }
                },
                "type": "table"
               }
              ]
             },
             "layout": {
              "annotationdefaults": {
               "arrowcolor": "#2a3f5f",
               "arrowhead": 0,
               "arrowwidth": 1
              },
              "coloraxis": {
               "colorbar": {
                "outlinewidth": 0,
                "ticks": ""
               }
              },
              "colorscale": {
               "diverging": [
                [
                 0,
                 "#8e0152"
                ],
                [
                 0.1,
                 "#c51b7d"
                ],
                [
                 0.2,
                 "#de77ae"
                ],
                [
                 0.3,
                 "#f1b6da"
                ],
                [
                 0.4,
                 "#fde0ef"
                ],
                [
                 0.5,
                 "#f7f7f7"
                ],
                [
                 0.6,
                 "#e6f5d0"
                ],
                [
                 0.7,
                 "#b8e186"
                ],
                [
                 0.8,
                 "#7fbc41"
                ],
                [
                 0.9,
                 "#4d9221"
                ],
                [
                 1,
                 "#276419"
                ]
               ],
               "sequential": [
                [
                 0,
                 "#0d0887"
                ],
                [
                 0.1111111111111111,
                 "#46039f"
                ],
                [
                 0.2222222222222222,
                 "#7201a8"
                ],
                [
                 0.3333333333333333,
                 "#9c179e"
                ],
                [
                 0.4444444444444444,
                 "#bd3786"
                ],
                [
                 0.5555555555555556,
                 "#d8576b"
                ],
                [
                 0.6666666666666666,
                 "#ed7953"
                ],
                [
                 0.7777777777777778,
                 "#fb9f3a"
                ],
                [
                 0.8888888888888888,
                 "#fdca26"
                ],
                [
                 1,
                 "#f0f921"
                ]
               ],
               "sequentialminus": [
                [
                 0,
                 "#0d0887"
                ],
                [
                 0.1111111111111111,
                 "#46039f"
                ],
                [
                 0.2222222222222222,
                 "#7201a8"
                ],
                [
                 0.3333333333333333,
                 "#9c179e"
                ],
                [
                 0.4444444444444444,
                 "#bd3786"
                ],
                [
                 0.5555555555555556,
                 "#d8576b"
                ],
                [
                 0.6666666666666666,
                 "#ed7953"
                ],
                [
                 0.7777777777777778,
                 "#fb9f3a"
                ],
                [
                 0.8888888888888888,
                 "#fdca26"
                ],
                [
                 1,
                 "#f0f921"
                ]
               ]
              },
              "colorway": [
               "#636efa",
               "#EF553B",
               "#00cc96",
               "#ab63fa",
               "#FFA15A",
               "#19d3f3",
               "#FF6692",
               "#B6E880",
               "#FF97FF",
               "#FECB52"
              ],
              "font": {
               "color": "#2a3f5f"
              },
              "geo": {
               "bgcolor": "white",
               "lakecolor": "white",
               "landcolor": "#E5ECF6",
               "showlakes": true,
               "showland": true,
               "subunitcolor": "white"
              },
              "hoverlabel": {
               "align": "left"
              },
              "hovermode": "closest",
              "mapbox": {
               "style": "light"
              },
              "paper_bgcolor": "white",
              "plot_bgcolor": "#E5ECF6",
              "polar": {
               "angularaxis": {
                "gridcolor": "white",
                "linecolor": "white",
                "ticks": ""
               },
               "bgcolor": "#E5ECF6",
               "radialaxis": {
                "gridcolor": "white",
                "linecolor": "white",
                "ticks": ""
               }
              },
              "scene": {
               "xaxis": {
                "backgroundcolor": "#E5ECF6",
                "gridcolor": "white",
                "gridwidth": 2,
                "linecolor": "white",
                "showbackground": true,
                "ticks": "",
                "zerolinecolor": "white"
               },
               "yaxis": {
                "backgroundcolor": "#E5ECF6",
                "gridcolor": "white",
                "gridwidth": 2,
                "linecolor": "white",
                "showbackground": true,
                "ticks": "",
                "zerolinecolor": "white"
               },
               "zaxis": {
                "backgroundcolor": "#E5ECF6",
                "gridcolor": "white",
                "gridwidth": 2,
                "linecolor": "white",
                "showbackground": true,
                "ticks": "",
                "zerolinecolor": "white"
               }
              },
              "shapedefaults": {
               "line": {
                "color": "#2a3f5f"
               }
              },
              "ternary": {
               "aaxis": {
                "gridcolor": "white",
                "linecolor": "white",
                "ticks": ""
               },
               "baxis": {
                "gridcolor": "white",
                "linecolor": "white",
                "ticks": ""
               },
               "bgcolor": "#E5ECF6",
               "caxis": {
                "gridcolor": "white",
                "linecolor": "white",
                "ticks": ""
               }
              },
              "title": {
               "x": 0.05
              },
              "xaxis": {
               "automargin": true,
               "gridcolor": "white",
               "linecolor": "white",
               "ticks": "",
               "title": {
                "standoff": 15
               },
               "zerolinecolor": "white",
               "zerolinewidth": 2
              },
              "yaxis": {
               "automargin": true,
               "gridcolor": "white",
               "linecolor": "white",
               "ticks": "",
               "title": {
                "standoff": 15
               },
               "zerolinecolor": "white",
               "zerolinewidth": 2
              }
             }
            }
           }
          },
          "text/html": "<div>\n        \n        \n            <div id=\"7a9a1e26-04dc-4854-8e7a-891e4fcf5146\" class=\"plotly-graph-div\" style=\"height:525px; width:100%;\"></div>\n            <script type=\"text/javascript\">\n                require([\"plotly\"], function(Plotly) {\n                    window.PLOTLYENV=window.PLOTLYENV || {};\n                    \n                if (document.getElementById(\"7a9a1e26-04dc-4854-8e7a-891e4fcf5146\")) {\n                    Plotly.newPlot(\n                        '7a9a1e26-04dc-4854-8e7a-891e4fcf5146',\n                        [{\"lat\": [16.72, 16.72, 36.404, 36.404, 32.884, 32.884, 32.884, 2.58, 2.58, 2.58, 2.58, 44.43, 44.43, 44.43, 44.43, 44.43, 44.43, 37.7166666666667, 37.7166666666667, 35.9, -38.82, 43.722, 41.611, 46.2, 46.853, -22.2666666666667, 65.715, 63.983, 63.892, 64.083, 60.485, 32.761, 38.83, 31.934, 36.7833333333333, 35.361, 56.056, 19.421, 19.421, 40.821, 40.827, 37.748, 38.789, 15.13, 4.892, -1.467, 28.0], \"lon\": [-62.18, -62.18, 25.396, 25.396, 131.104, 131.104, 131.104, 98.83, 98.83, 98.83, 98.83, -110.67, -110.67, -110.67, -110.67, -110.67, -110.67, -118.883333333333, -118.883333333333, -106.533333333333, 176.0, -121.229, -121.554, -122.18, -121.76, -67.1666666666667, -16.728, -19.666, -19.122, -21.416, -152.742, 130.299, 140.7, 130.862, 139.366666666667, 138.728, 160.642, -155.287, -155.287, 14.426, 14.139, 14.999, 15.213, 120.35, -75.324, -78.442, -15.58], \"marker\": {\"size\": [215.44346900318837, 215.44346900318837, 464.15888336127784, 464.15888336127784, 843.4326653017491, 843.4326653017491, 843.4326653017491, 1409.4597464129781, 1409.4597464129781, 1409.4597464129781, 1409.4597464129781, 1348.0997498879249, 1348.0997498879249, 1348.0997498879249, 1348.0997498879249, 1348.0997498879249, 1348.0997498879249, 100.0, 100.0, 100.0, 100.0, 100.0, 100.0, 100.0, 100.0, 100.0, 100.0, 100.0, 100.0, 100.0, 100.0, 100.0, 100.0, 100.0, 100.0, 100.0, 100.0, 100.0, 100.0, 100.0, 100.0, 100.0, 100.0, 100.0, 100.0, 100.0, 100.0], \"sizemode\": \"area\"}, \"text\": [\"Soufriere Hills Volcano<br>Erupted volume: 10.0<br><br>References:<br>Paulatto et al., 2012\", \"Soufriere Hills Volcano<br>Erupted volume: 10.0<br><br>References:<br>Paulatto et al., 2019\", \"Santorini<br>Erupted volume: 100.0<br><br>References:<br>McVey et al., 2019\", null, \"Aso Caldera<br>Erupted volume: 600.0<br><br>References:<br>Sudo & Kong, 2001\", \"Aso Caldera<br>Erupted volume: 600.0<br><br>References:<br>Huang et al., 2018\", \"Aso Caldera<br>Erupted volume: 600.0<br><br>References:<br>Abe et al., 2017\", \"Toba<br>Erupted volume: 2800.0<br><br>References:<br>Koulakov et al., 2009\", \"Toba<br>Erupted volume: 2800.0<br><br>References:<br>Mastruryono et al., 2001\", \"Toba<br>Erupted volume: 2800.0<br><br>References:<br>Jaxybulatov et al., 2014\", \"Toba<br>Erupted volume: 2800.0<br><br>References:<br>Stankiewicz et al., 2010\", \"Yellowstone<br>Erupted volume: 2450.0<br><br>References:<br>(Iyer et al., 1981,\\u00a0Benz and Smith, 1984,\\u00a0Clawson et al., 1989,\\u00a0Miller and Smith, 1999,\\u00a0Husen and Smith, 2004,\\u00a0Yuan and Dueker, 2005)\", \"Yellowstone<br>Erupted volume: 2450.0<br><br>References:<br>Chu et al., 2010\", \"Yellowstone<br>Erupted volume: 2450.0<br><br>References:<br>Farrell et al., 2014\", \"Yellowstone<br>Erupted volume: 2450.0<br><br>References:<br>Huang et al., 2015\", \"Yellowstone<br>Erupted volume: 2450.0<br><br>References:<br>Miller and Smith, 1999\", \"Yellowstone<br>Erupted volume: 2450.0<br><br>References:<br>Jiang, 2018\", \"Long Valley<br>Erupted volume: nan<br><br>References:<br>(Peppin, 1985,\\u00a0Dawson et al., 1987,\\u00a0Hauksson, 1988,\\u00a0Dawson et al., 1990,\\u00a0Sanders, 1993a,\\u00a0Sanders, 1993b,\\u00a0Sanders et al., 1994,\\u00a0Steck, 1995,\\u00a0Sanders et al., 1995,\\u00a0Weiland et al., 1995,\\u00a0O'Doherty et al., 1997)\", \"Long Valley<br>Erupted volume: nan<br><br>References:<br>Jiang, 2018\", \"Valles<br>Erupted volume: nan<br><br>References:<br>Lutter et al. (1995)\", \"Taupo<br>Erupted volume: nan<br><br>References:<br>Sherburn et al. (2003)\", \"Newberry volcano<br>Erupted volume: nan<br><br>References:<br>(Achauer et al., 1988,\\u00a0Stauber et al., 1988)\", \"Medicine Lake<br>Erupted volume: nan<br><br>References:<br>(Evans and Zucca, 1988,\\u00a0Lees and Crosson, 1989,\\u00a0Ritter and Evans, 1997)\", \"Mt. St. Helens<br>Erupted volume: nan<br><br>References:<br>Lees (1992)\", \"Mt. Rainier<br>Erupted volume: nan<br><br>References:<br>(Lees and Crosson, 1990,\\u00a0Moran et al., 1999)\", null, \"Krafla<br>Erupted volume: nan<br><br>References:<br>(Einarsson, 1978,\\u00a0Foulger and Arnott, 1993)\", \"Hekla<br>Erupted volume: nan<br><br>References:<br>Soosalu and Einarsson (2004)\", \"Torfaj\\u00f6kull<br>Erupted volume: nan<br><br>References:<br>Soosalu and Einarsson (2004)\", \"Hengill\\u2013Grensdalur<br>Erupted volume: nan<br><br>References:<br>Toomey and Foulger (1989)\", \"Redoubt<br>Erupted volume: nan<br><br>References:<br>Benz et al. (1996)\", \"Unzen<br>Erupted volume: nan<br><br>References:<br>Ohmi and Lees (1995)\", \"Onikobe<br>Erupted volume: nan<br><br>References:<br>Nakajima and Hasegawa (2003)\", \"Kirishima<br>Erupted volume: nan<br><br>References:<br>Yamamoto and Ida (1994)\", \"Nikko-Shirane<br>Erupted volume: nan<br><br>References:<br>Horiuchi et al. (1997)\", \"Mt. Fuji<br>Erupted volume: nan<br><br>References:<br>Nakamichi (2005)\", \"Klyuchevskoy<br>Erupted volume: nan<br><br>References:<br>(Anosov et al., 1978,\\u00a0Ozerov, 2000)\", \"Halemaumau<br>Erupted volume: nan<br><br>References:<br>Rowan and Clayton (1993)\", \"Kilauea<br>Erupted volume: nan<br><br>References:<br>(Thurber, 1984,\\u00a0Rowan and Clayton, 1993,\\u00a0Okubo et al., 1997,\\u00a0Haslinger et al., 2001)\", \"Vesuvius<br>Erupted volume: nan<br><br>References:<br>(De Natale et al., 1998,\\u00a0Zollo et al., 1998)\", \"Campi Flegrei<br>Erupted volume: nan<br><br>References:<br>1988;\\u00a0Aster et al., 1992\", \"Mt. Etna<br>Erupted volume: nan<br><br>References:<br>(Cardaci et al., 1993,\\u00a0Villasenor et al., 1998,\\u00a0Laigle and Hirn, 1999,\\u00a0Chiarabba et al., 2000,\\u00a0Aloisi et al., 2002)\", null, \"Pinatubo<br>Erupted volume: nan<br><br>References:<br>Mori et al. (1996)\", \"Nevado del Ruiz<br>Erupted volume: nan<br><br>References:<br>Londo\\u00f1o and Sudo (2003)\", \"Tungurahua<br>Erupted volume: nan<br><br>References:<br>Molina et al. (2005)\", \"Gran Canaria<br>Erupted volume: nan<br><br>References:<br>Krastel and Schmincke (2002)\"], \"type\": \"scattergeo\"}],\n                        {\"template\": {\"data\": {\"bar\": [{\"error_x\": {\"color\": \"#2a3f5f\"}, \"error_y\": {\"color\": \"#2a3f5f\"}, \"marker\": {\"line\": {\"color\": \"#E5ECF6\", \"width\": 0.5}}, \"type\": \"bar\"}], \"barpolar\": [{\"marker\": {\"line\": {\"color\": \"#E5ECF6\", \"width\": 0.5}}, \"type\": \"barpolar\"}], \"carpet\": [{\"aaxis\": {\"endlinecolor\": \"#2a3f5f\", \"gridcolor\": \"white\", \"linecolor\": \"white\", \"minorgridcolor\": \"white\", \"startlinecolor\": \"#2a3f5f\"}, \"baxis\": {\"endlinecolor\": \"#2a3f5f\", \"gridcolor\": \"white\", \"linecolor\": \"white\", \"minorgridcolor\": \"white\", \"startlinecolor\": \"#2a3f5f\"}, \"type\": \"carpet\"}], \"choropleth\": [{\"colorbar\": {\"outlinewidth\": 0, \"ticks\": \"\"}, \"type\": \"choropleth\"}], \"contour\": [{\"colorbar\": {\"outlinewidth\": 0, \"ticks\": \"\"}, \"colorscale\": [[0.0, \"#0d0887\"], [0.1111111111111111, \"#46039f\"], [0.2222222222222222, \"#7201a8\"], [0.3333333333333333, \"#9c179e\"], [0.4444444444444444, \"#bd3786\"], [0.5555555555555556, \"#d8576b\"], [0.6666666666666666, \"#ed7953\"], [0.7777777777777778, \"#fb9f3a\"], [0.8888888888888888, \"#fdca26\"], [1.0, \"#f0f921\"]], \"type\": \"contour\"}], \"contourcarpet\": [{\"colorbar\": {\"outlinewidth\": 0, \"ticks\": \"\"}, \"type\": \"contourcarpet\"}], \"heatmap\": [{\"colorbar\": {\"outlinewidth\": 0, \"ticks\": \"\"}, \"colorscale\": [[0.0, \"#0d0887\"], [0.1111111111111111, \"#46039f\"], [0.2222222222222222, \"#7201a8\"], [0.3333333333333333, \"#9c179e\"], [0.4444444444444444, \"#bd3786\"], [0.5555555555555556, \"#d8576b\"], [0.6666666666666666, \"#ed7953\"], [0.7777777777777778, \"#fb9f3a\"], [0.8888888888888888, \"#fdca26\"], [1.0, \"#f0f921\"]], \"type\": \"heatmap\"}], \"heatmapgl\": [{\"colorbar\": {\"outlinewidth\": 0, \"ticks\": \"\"}, \"colorscale\": [[0.0, \"#0d0887\"], [0.1111111111111111, \"#46039f\"], [0.2222222222222222, \"#7201a8\"], [0.3333333333333333, \"#9c179e\"], [0.4444444444444444, \"#bd3786\"], [0.5555555555555556, \"#d8576b\"], [0.6666666666666666, \"#ed7953\"], [0.7777777777777778, \"#fb9f3a\"], [0.8888888888888888, \"#fdca26\"], [1.0, \"#f0f921\"]], \"type\": \"heatmapgl\"}], \"histogram\": [{\"marker\": {\"colorbar\": {\"outlinewidth\": 0, \"ticks\": \"\"}}, \"type\": \"histogram\"}], \"histogram2d\": [{\"colorbar\": {\"outlinewidth\": 0, \"ticks\": \"\"}, \"colorscale\": [[0.0, \"#0d0887\"], [0.1111111111111111, \"#46039f\"], [0.2222222222222222, \"#7201a8\"], [0.3333333333333333, \"#9c179e\"], [0.4444444444444444, \"#bd3786\"], [0.5555555555555556, \"#d8576b\"], [0.6666666666666666, \"#ed7953\"], [0.7777777777777778, \"#fb9f3a\"], [0.8888888888888888, \"#fdca26\"], [1.0, \"#f0f921\"]], \"type\": \"histogram2d\"}], \"histogram2dcontour\": [{\"colorbar\": {\"outlinewidth\": 0, \"ticks\": \"\"}, \"colorscale\": [[0.0, \"#0d0887\"], [0.1111111111111111, \"#46039f\"], [0.2222222222222222, \"#7201a8\"], [0.3333333333333333, \"#9c179e\"], [0.4444444444444444, \"#bd3786\"], [0.5555555555555556, \"#d8576b\"], [0.6666666666666666, \"#ed7953\"], [0.7777777777777778, \"#fb9f3a\"], [0.8888888888888888, \"#fdca26\"], [1.0, \"#f0f921\"]], \"type\": \"histogram2dcontour\"}], \"mesh3d\": [{\"colorbar\": {\"outlinewidth\": 0, \"ticks\": \"\"}, \"type\": \"mesh3d\"}], \"parcoords\": [{\"line\": {\"colorbar\": {\"outlinewidth\": 0, \"ticks\": \"\"}}, \"type\": \"parcoords\"}], \"pie\": [{\"automargin\": true, \"type\": \"pie\"}], \"scatter\": [{\"marker\": {\"colorbar\": {\"outlinewidth\": 0, \"ticks\": \"\"}}, \"type\": \"scatter\"}], \"scatter3d\": [{\"line\": {\"colorbar\": {\"outlinewidth\": 0, \"ticks\": \"\"}}, \"marker\": {\"colorbar\": {\"outlinewidth\": 0, \"ticks\": \"\"}}, \"type\": \"scatter3d\"}], \"scattercarpet\": [{\"marker\": {\"colorbar\": {\"outlinewidth\": 0, \"ticks\": \"\"}}, \"type\": \"scattercarpet\"}], \"scattergeo\": [{\"marker\": {\"colorbar\": {\"outlinewidth\": 0, \"ticks\": \"\"}}, \"type\": \"scattergeo\"}], \"scattergl\": [{\"marker\": {\"colorbar\": {\"outlinewidth\": 0, \"ticks\": \"\"}}, \"type\": \"scattergl\"}], \"scattermapbox\": [{\"marker\": {\"colorbar\": {\"outlinewidth\": 0, \"ticks\": \"\"}}, \"type\": \"scattermapbox\"}], \"scatterpolar\": [{\"marker\": {\"colorbar\": {\"outlinewidth\": 0, \"ticks\": \"\"}}, \"type\": \"scatterpolar\"}], \"scatterpolargl\": [{\"marker\": {\"colorbar\": {\"outlinewidth\": 0, \"ticks\": \"\"}}, \"type\": \"scatterpolargl\"}], \"scatterternary\": [{\"marker\": {\"colorbar\": {\"outlinewidth\": 0, \"ticks\": \"\"}}, \"type\": \"scatterternary\"}], \"surface\": [{\"colorbar\": {\"outlinewidth\": 0, \"ticks\": \"\"}, \"colorscale\": [[0.0, \"#0d0887\"], [0.1111111111111111, \"#46039f\"], [0.2222222222222222, \"#7201a8\"], [0.3333333333333333, \"#9c179e\"], [0.4444444444444444, \"#bd3786\"], [0.5555555555555556, \"#d8576b\"], [0.6666666666666666, \"#ed7953\"], [0.7777777777777778, \"#fb9f3a\"], [0.8888888888888888, \"#fdca26\"], [1.0, \"#f0f921\"]], \"type\": \"surface\"}], \"table\": [{\"cells\": {\"fill\": {\"color\": \"#EBF0F8\"}, \"line\": {\"color\": \"white\"}}, \"header\": {\"fill\": {\"color\": \"#C8D4E3\"}, \"line\": {\"color\": \"white\"}}, \"type\": \"table\"}]}, \"layout\": {\"annotationdefaults\": {\"arrowcolor\": \"#2a3f5f\", \"arrowhead\": 0, \"arrowwidth\": 1}, \"coloraxis\": {\"colorbar\": {\"outlinewidth\": 0, \"ticks\": \"\"}}, \"colorscale\": {\"diverging\": [[0, \"#8e0152\"], [0.1, \"#c51b7d\"], [0.2, \"#de77ae\"], [0.3, \"#f1b6da\"], [0.4, \"#fde0ef\"], [0.5, \"#f7f7f7\"], [0.6, \"#e6f5d0\"], [0.7, \"#b8e186\"], [0.8, \"#7fbc41\"], [0.9, \"#4d9221\"], [1, \"#276419\"]], \"sequential\": [[0.0, \"#0d0887\"], [0.1111111111111111, \"#46039f\"], [0.2222222222222222, \"#7201a8\"], [0.3333333333333333, \"#9c179e\"], [0.4444444444444444, \"#bd3786\"], [0.5555555555555556, \"#d8576b\"], [0.6666666666666666, \"#ed7953\"], [0.7777777777777778, \"#fb9f3a\"], [0.8888888888888888, \"#fdca26\"], [1.0, \"#f0f921\"]], \"sequentialminus\": [[0.0, \"#0d0887\"], [0.1111111111111111, \"#46039f\"], [0.2222222222222222, \"#7201a8\"], [0.3333333333333333, \"#9c179e\"], [0.4444444444444444, \"#bd3786\"], [0.5555555555555556, \"#d8576b\"], [0.6666666666666666, \"#ed7953\"], [0.7777777777777778, \"#fb9f3a\"], [0.8888888888888888, \"#fdca26\"], [1.0, \"#f0f921\"]]}, \"colorway\": [\"#636efa\", \"#EF553B\", \"#00cc96\", \"#ab63fa\", \"#FFA15A\", \"#19d3f3\", \"#FF6692\", \"#B6E880\", \"#FF97FF\", \"#FECB52\"], \"font\": {\"color\": \"#2a3f5f\"}, \"geo\": {\"bgcolor\": \"white\", \"lakecolor\": \"white\", \"landcolor\": \"#E5ECF6\", \"showlakes\": true, \"showland\": true, \"subunitcolor\": \"white\"}, \"hoverlabel\": {\"align\": \"left\"}, \"hovermode\": \"closest\", \"mapbox\": {\"style\": \"light\"}, \"paper_bgcolor\": \"white\", \"plot_bgcolor\": \"#E5ECF6\", \"polar\": {\"angularaxis\": {\"gridcolor\": \"white\", \"linecolor\": \"white\", \"ticks\": \"\"}, \"bgcolor\": \"#E5ECF6\", \"radialaxis\": {\"gridcolor\": \"white\", \"linecolor\": \"white\", \"ticks\": \"\"}}, \"scene\": {\"xaxis\": {\"backgroundcolor\": \"#E5ECF6\", \"gridcolor\": \"white\", \"gridwidth\": 2, \"linecolor\": \"white\", \"showbackground\": true, \"ticks\": \"\", \"zerolinecolor\": \"white\"}, \"yaxis\": {\"backgroundcolor\": \"#E5ECF6\", \"gridcolor\": \"white\", \"gridwidth\": 2, \"linecolor\": \"white\", \"showbackground\": true, \"ticks\": \"\", \"zerolinecolor\": \"white\"}, \"zaxis\": {\"backgroundcolor\": \"#E5ECF6\", \"gridcolor\": \"white\", \"gridwidth\": 2, \"linecolor\": \"white\", \"showbackground\": true, \"ticks\": \"\", \"zerolinecolor\": \"white\"}}, \"shapedefaults\": {\"line\": {\"color\": \"#2a3f5f\"}}, \"ternary\": {\"aaxis\": {\"gridcolor\": \"white\", \"linecolor\": \"white\", \"ticks\": \"\"}, \"baxis\": {\"gridcolor\": \"white\", \"linecolor\": \"white\", \"ticks\": \"\"}, \"bgcolor\": \"#E5ECF6\", \"caxis\": {\"gridcolor\": \"white\", \"linecolor\": \"white\", \"ticks\": \"\"}}, \"title\": {\"x\": 0.05}, \"xaxis\": {\"automargin\": true, \"gridcolor\": \"white\", \"linecolor\": \"white\", \"ticks\": \"\", \"title\": {\"standoff\": 15}, \"zerolinecolor\": \"white\", \"zerolinewidth\": 2}, \"yaxis\": {\"automargin\": true, \"gridcolor\": \"white\", \"linecolor\": \"white\", \"ticks\": \"\", \"title\": {\"standoff\": 15}, \"zerolinecolor\": \"white\", \"zerolinewidth\": 2}}}},\n                        {\"responsive\": true}\n                    ).then(function(){\n                            \nvar gd = document.getElementById('7a9a1e26-04dc-4854-8e7a-891e4fcf5146');\nvar x = new MutationObserver(function (mutations, observer) {{\n        var display = window.getComputedStyle(gd).display;\n        if (!display || display === 'none') {{\n            console.log([gd, 'removed!']);\n            Plotly.purge(gd);\n            observer.disconnect();\n        }}\n}});\n\n// Listen for the removal of the full notebook cells\nvar notebookContainer = gd.closest('#notebook-container');\nif (notebookContainer) {{\n    x.observe(notebookContainer, {childList: true});\n}}\n\n// Listen for the clearing of the current output cell\nvar outputEl = gd.closest('.output');\nif (outputEl) {{\n    x.observe(outputEl, {childList: true});\n}}\n\n                        })\n                };\n                });\n            </script>\n        </div>"
         },
         "metadata": {},
         "output_type": "display_data"
        }
       ]
      }
     },
     "b04f7aa753074c968faeac178aef38ff": {
      "model_module": "@jupyter-widgets/base",
      "model_module_version": "1.2.0",
      "model_name": "LayoutModel",
      "state": {}
     },
     "b0d0bf14335e4f73be15fbdcbe67f6e8": {
      "model_module": "@jupyter-widgets/controls",
      "model_module_version": "1.5.0",
      "model_name": "VBoxModel",
      "state": {
       "_dom_classes": [
        "widget-interact"
       ],
       "children": [
        "IPY_MODEL_4d21389273af44c9a5728f274df7e8f3",
        "IPY_MODEL_e55e9443163e422eafa89b6d9f8f46c0"
       ],
       "layout": "IPY_MODEL_c6c580a0261e44758d424b6b0ed5443a"
      }
     },
     "b127198289034e6d976e5dffeb66813b": {
      "model_module": "@jupyter-widgets/controls",
      "model_module_version": "1.5.0",
      "model_name": "DescriptionStyleModel",
      "state": {
       "description_width": ""
      }
     },
     "b1e4d966725c48de83ed219f0e639025": {
      "model_module": "@jupyter-widgets/base",
      "model_module_version": "1.2.0",
      "model_name": "LayoutModel",
      "state": {}
     },
     "b3824b43b00c4940a6e62221393059ec": {
      "model_module": "@jupyter-widgets/base",
      "model_module_version": "1.2.0",
      "model_name": "LayoutModel",
      "state": {}
     },
     "ba083b1696964817add7a80ecd900d98": {
      "model_module": "@jupyter-widgets/controls",
      "model_module_version": "1.5.0",
      "model_name": "VBoxModel",
      "state": {
       "_dom_classes": [
        "widget-interact"
       ],
       "children": [
        "IPY_MODEL_87f304bbddae4a76ab813141bad3b68e",
        "IPY_MODEL_65b46ec8f07549fd8960787abad3acec"
       ],
       "layout": "IPY_MODEL_88c4767cd7ef4b73acc074c9f190af0c"
      }
     },
     "bbbe9a0703854865a70870fb8e4f003c": {
      "model_module": "@jupyter-widgets/controls",
      "model_module_version": "1.5.0",
      "model_name": "DescriptionStyleModel",
      "state": {
       "description_width": ""
      }
     },
     "bbc94d4d694f45fcb2140fba4386b12d": {
      "model_module": "@jupyter-widgets/controls",
      "model_module_version": "1.5.0",
      "model_name": "VBoxModel",
      "state": {
       "_dom_classes": [
        "widget-interact"
       ],
       "children": [
        "IPY_MODEL_eb79f1191b3d4701932ca21af7baf5e5",
        "IPY_MODEL_e0dd46424029486f93ecae0beb6d589e"
       ],
       "layout": "IPY_MODEL_23467aa2336947d498786300ca5834e5"
      }
     },
     "bc1de7b00cac49ad9e8a814329a66939": {
      "model_module": "@jupyter-widgets/controls",
      "model_module_version": "1.5.0",
      "model_name": "DropdownModel",
      "state": {
       "_options_labels": [
        "Erupted volume",
        "Anomaly volume"
       ],
       "description": "key",
       "index": 0,
       "layout": "IPY_MODEL_0b8bef031bc345e8856441edbb00e0cd",
       "style": "IPY_MODEL_69fb8d1f4b964de7900a03607da02628"
      }
     },
     "bc6134f6c90244559c2197c9555d6128": {
      "model_module": "@jupyter-widgets/base",
      "model_module_version": "1.2.0",
      "model_name": "LayoutModel",
      "state": {}
     },
     "bec939e92e3a49e88aa23b018ec559d5": {
      "model_module": "@jupyter-widgets/output",
      "model_module_version": "1.0.0",
      "model_name": "OutputModel",
      "state": {
       "layout": "IPY_MODEL_d4eee85cc05e4e4eace5666758d7115e",
       "outputs": [
        {
         "data": {
          "application/vnd.plotly.v1+json": {
           "config": {
            "plotlyServerURL": "https://plot.ly"
           },
           "data": [
            {
             "lat": [
              16.72,
              16.72,
              36.404,
              36.404,
              32.884,
              32.884,
              32.884,
              2.58,
              2.58,
              2.58,
              2.58,
              44.43,
              44.43,
              44.43,
              44.43,
              44.43,
              44.43,
              37.7166666666667,
              37.7166666666667,
              35.9,
              -38.82,
              43.722,
              41.611,
              46.2,
              46.853,
              -22.2666666666667,
              65.715,
              63.983,
              63.892,
              64.083,
              60.485,
              32.761,
              38.83,
              31.934,
              36.7833333333333,
              35.361,
              56.056,
              19.421,
              19.421,
              40.821,
              40.827,
              37.748,
              38.789,
              15.13,
              4.892,
              -1.467,
              28
             ],
             "lon": [
              -62.18,
              -62.18,
              25.396,
              25.396,
              131.104,
              131.104,
              131.104,
              98.83,
              98.83,
              98.83,
              98.83,
              -110.67,
              -110.67,
              -110.67,
              -110.67,
              -110.67,
              -110.67,
              -118.883333333333,
              -118.883333333333,
              -106.533333333333,
              176,
              -121.229,
              -121.554,
              -122.18,
              121.76,
              -67.1666666666667,
              -16.728,
              -19.666,
              -19.122,
              -21.416,
              -152.742,
              130.299,
              140.7,
              130.862,
              139.366666666667,
              138.728,
              160.642,
              -155.287,
              -155.287,
              14.426,
              14.139,
              14.999,
              15.213,
              120.35,
              -75.324,
              -78.442,
              -15.58
             ],
             "marker": {
              "size": [
               215.44346900318837,
               215.44346900318837,
               464.15888336127784,
               464.15888336127784,
               843.4326653017491,
               843.4326653017491,
               843.4326653017491,
               1409.4597464129781,
               1409.4597464129781,
               1409.4597464129781,
               1409.4597464129781,
               1348.0997498879249,
               1348.0997498879249,
               1348.0997498879249,
               1348.0997498879249,
               1348.0997498879249,
               1348.0997498879249,
               100,
               100,
               100,
               100,
               100,
               100,
               100,
               100,
               100,
               100,
               100,
               100,
               100,
               100,
               100,
               100,
               100,
               100,
               100,
               100,
               100,
               100,
               100,
               100,
               100,
               100,
               100,
               100,
               100,
               100
              ],
              "sizemode": "area"
             },
             "text": [
              "Soufriere Hills Volcano<br>Erupted volume: 10.0",
              "Soufriere Hills Volcano<br>Erupted volume: 10.0",
              "Santorini<br>Erupted volume: 100.0",
              "Santorini<br>Erupted volume: 100.0",
              "Aso Caldera<br>Erupted volume: 600.0",
              "Aso Caldera<br>Erupted volume: 600.0",
              "Aso Caldera<br>Erupted volume: 600.0",
              "Toba<br>Erupted volume: 2800.0",
              "Toba<br>Erupted volume: 2800.0",
              "Toba<br>Erupted volume: 2800.0",
              "Toba<br>Erupted volume: 2800.0",
              "Yellowstone<br>Erupted volume: 2450.0",
              "Yellowstone<br>Erupted volume: 2450.0",
              "Yellowstone<br>Erupted volume: 2450.0",
              "Yellowstone<br>Erupted volume: 2450.0",
              "Yellowstone<br>Erupted volume: 2450.0",
              "Yellowstone<br>Erupted volume: 2450.0",
              "Long Valley<br>Erupted volume: nan",
              "Long Valley<br>Erupted volume: nan",
              "Valles<br>Erupted volume: nan",
              "Taupo<br>Erupted volume: nan",
              "Newberry volcano<br>Erupted volume: nan",
              "Medicine Lake<br>Erupted volume: nan",
              "Mt. St. Helens<br>Erupted volume: nan",
              "Mt. Rainier<br>Erupted volume: nan",
              "Altiplano Puna<br>Erupted volume: nan",
              "Krafla<br>Erupted volume: nan",
              "Hekla<br>Erupted volume: nan",
              "Torfajökull<br>Erupted volume: nan",
              "Hengill–Grensdalur<br>Erupted volume: nan",
              "Redoubt<br>Erupted volume: nan",
              "Unzen<br>Erupted volume: nan",
              "Onikobe<br>Erupted volume: nan",
              "Kirishima<br>Erupted volume: nan",
              "Nikko-Shirane<br>Erupted volume: nan",
              "Mt. Fuji<br>Erupted volume: nan",
              "Klyuchevskoy<br>Erupted volume: nan",
              "Halemaumau<br>Erupted volume: nan",
              "Kilauea<br>Erupted volume: nan",
              "Vesuvius<br>Erupted volume: nan",
              "Campi Flegrei<br>Erupted volume: nan",
              "Mt. Etna<br>Erupted volume: nan",
              "Stromboli<br>Erupted volume: nan",
              "Pinatubo<br>Erupted volume: nan",
              "Nevado del Ruiz<br>Erupted volume: nan",
              "Tungurahua<br>Erupted volume: nan",
              "Gran Canaria<br>Erupted volume: nan"
             ],
             "type": "scattergeo"
            }
           ],
           "layout": {
            "template": {
             "data": {
              "bar": [
               {
                "error_x": {
                 "color": "#2a3f5f"
                },
                "error_y": {
                 "color": "#2a3f5f"
                },
                "marker": {
                 "line": {
                  "color": "#E5ECF6",
                  "width": 0.5
                 }
                },
                "type": "bar"
               }
              ],
              "barpolar": [
               {
                "marker": {
                 "line": {
                  "color": "#E5ECF6",
                  "width": 0.5
                 }
                },
                "type": "barpolar"
               }
              ],
              "carpet": [
               {
                "aaxis": {
                 "endlinecolor": "#2a3f5f",
                 "gridcolor": "white",
                 "linecolor": "white",
                 "minorgridcolor": "white",
                 "startlinecolor": "#2a3f5f"
                },
                "baxis": {
                 "endlinecolor": "#2a3f5f",
                 "gridcolor": "white",
                 "linecolor": "white",
                 "minorgridcolor": "white",
                 "startlinecolor": "#2a3f5f"
                },
                "type": "carpet"
               }
              ],
              "choropleth": [
               {
                "colorbar": {
                 "outlinewidth": 0,
                 "ticks": ""
                },
                "type": "choropleth"
               }
              ],
              "contour": [
               {
                "colorbar": {
                 "outlinewidth": 0,
                 "ticks": ""
                },
                "colorscale": [
                 [
                  0,
                  "#0d0887"
                 ],
                 [
                  0.1111111111111111,
                  "#46039f"
                 ],
                 [
                  0.2222222222222222,
                  "#7201a8"
                 ],
                 [
                  0.3333333333333333,
                  "#9c179e"
                 ],
                 [
                  0.4444444444444444,
                  "#bd3786"
                 ],
                 [
                  0.5555555555555556,
                  "#d8576b"
                 ],
                 [
                  0.6666666666666666,
                  "#ed7953"
                 ],
                 [
                  0.7777777777777778,
                  "#fb9f3a"
                 ],
                 [
                  0.8888888888888888,
                  "#fdca26"
                 ],
                 [
                  1,
                  "#f0f921"
                 ]
                ],
                "type": "contour"
               }
              ],
              "contourcarpet": [
               {
                "colorbar": {
                 "outlinewidth": 0,
                 "ticks": ""
                },
                "type": "contourcarpet"
               }
              ],
              "heatmap": [
               {
                "colorbar": {
                 "outlinewidth": 0,
                 "ticks": ""
                },
                "colorscale": [
                 [
                  0,
                  "#0d0887"
                 ],
                 [
                  0.1111111111111111,
                  "#46039f"
                 ],
                 [
                  0.2222222222222222,
                  "#7201a8"
                 ],
                 [
                  0.3333333333333333,
                  "#9c179e"
                 ],
                 [
                  0.4444444444444444,
                  "#bd3786"
                 ],
                 [
                  0.5555555555555556,
                  "#d8576b"
                 ],
                 [
                  0.6666666666666666,
                  "#ed7953"
                 ],
                 [
                  0.7777777777777778,
                  "#fb9f3a"
                 ],
                 [
                  0.8888888888888888,
                  "#fdca26"
                 ],
                 [
                  1,
                  "#f0f921"
                 ]
                ],
                "type": "heatmap"
               }
              ],
              "heatmapgl": [
               {
                "colorbar": {
                 "outlinewidth": 0,
                 "ticks": ""
                },
                "colorscale": [
                 [
                  0,
                  "#0d0887"
                 ],
                 [
                  0.1111111111111111,
                  "#46039f"
                 ],
                 [
                  0.2222222222222222,
                  "#7201a8"
                 ],
                 [
                  0.3333333333333333,
                  "#9c179e"
                 ],
                 [
                  0.4444444444444444,
                  "#bd3786"
                 ],
                 [
                  0.5555555555555556,
                  "#d8576b"
                 ],
                 [
                  0.6666666666666666,
                  "#ed7953"
                 ],
                 [
                  0.7777777777777778,
                  "#fb9f3a"
                 ],
                 [
                  0.8888888888888888,
                  "#fdca26"
                 ],
                 [
                  1,
                  "#f0f921"
                 ]
                ],
                "type": "heatmapgl"
               }
              ],
              "histogram": [
               {
                "marker": {
                 "colorbar": {
                  "outlinewidth": 0,
                  "ticks": ""
                 }
                },
                "type": "histogram"
               }
              ],
              "histogram2d": [
               {
                "colorbar": {
                 "outlinewidth": 0,
                 "ticks": ""
                },
                "colorscale": [
                 [
                  0,
                  "#0d0887"
                 ],
                 [
                  0.1111111111111111,
                  "#46039f"
                 ],
                 [
                  0.2222222222222222,
                  "#7201a8"
                 ],
                 [
                  0.3333333333333333,
                  "#9c179e"
                 ],
                 [
                  0.4444444444444444,
                  "#bd3786"
                 ],
                 [
                  0.5555555555555556,
                  "#d8576b"
                 ],
                 [
                  0.6666666666666666,
                  "#ed7953"
                 ],
                 [
                  0.7777777777777778,
                  "#fb9f3a"
                 ],
                 [
                  0.8888888888888888,
                  "#fdca26"
                 ],
                 [
                  1,
                  "#f0f921"
                 ]
                ],
                "type": "histogram2d"
               }
              ],
              "histogram2dcontour": [
               {
                "colorbar": {
                 "outlinewidth": 0,
                 "ticks": ""
                },
                "colorscale": [
                 [
                  0,
                  "#0d0887"
                 ],
                 [
                  0.1111111111111111,
                  "#46039f"
                 ],
                 [
                  0.2222222222222222,
                  "#7201a8"
                 ],
                 [
                  0.3333333333333333,
                  "#9c179e"
                 ],
                 [
                  0.4444444444444444,
                  "#bd3786"
                 ],
                 [
                  0.5555555555555556,
                  "#d8576b"
                 ],
                 [
                  0.6666666666666666,
                  "#ed7953"
                 ],
                 [
                  0.7777777777777778,
                  "#fb9f3a"
                 ],
                 [
                  0.8888888888888888,
                  "#fdca26"
                 ],
                 [
                  1,
                  "#f0f921"
                 ]
                ],
                "type": "histogram2dcontour"
               }
              ],
              "mesh3d": [
               {
                "colorbar": {
                 "outlinewidth": 0,
                 "ticks": ""
                },
                "type": "mesh3d"
               }
              ],
              "parcoords": [
               {
                "line": {
                 "colorbar": {
                  "outlinewidth": 0,
                  "ticks": ""
                 }
                },
                "type": "parcoords"
               }
              ],
              "pie": [
               {
                "automargin": true,
                "type": "pie"
               }
              ],
              "scatter": [
               {
                "marker": {
                 "colorbar": {
                  "outlinewidth": 0,
                  "ticks": ""
                 }
                },
                "type": "scatter"
               }
              ],
              "scatter3d": [
               {
                "line": {
                 "colorbar": {
                  "outlinewidth": 0,
                  "ticks": ""
                 }
                },
                "marker": {
                 "colorbar": {
                  "outlinewidth": 0,
                  "ticks": ""
                 }
                },
                "type": "scatter3d"
               }
              ],
              "scattercarpet": [
               {
                "marker": {
                 "colorbar": {
                  "outlinewidth": 0,
                  "ticks": ""
                 }
                },
                "type": "scattercarpet"
               }
              ],
              "scattergeo": [
               {
                "marker": {
                 "colorbar": {
                  "outlinewidth": 0,
                  "ticks": ""
                 }
                },
                "type": "scattergeo"
               }
              ],
              "scattergl": [
               {
                "marker": {
                 "colorbar": {
                  "outlinewidth": 0,
                  "ticks": ""
                 }
                },
                "type": "scattergl"
               }
              ],
              "scattermapbox": [
               {
                "marker": {
                 "colorbar": {
                  "outlinewidth": 0,
                  "ticks": ""
                 }
                },
                "type": "scattermapbox"
               }
              ],
              "scatterpolar": [
               {
                "marker": {
                 "colorbar": {
                  "outlinewidth": 0,
                  "ticks": ""
                 }
                },
                "type": "scatterpolar"
               }
              ],
              "scatterpolargl": [
               {
                "marker": {
                 "colorbar": {
                  "outlinewidth": 0,
                  "ticks": ""
                 }
                },
                "type": "scatterpolargl"
               }
              ],
              "scatterternary": [
               {
                "marker": {
                 "colorbar": {
                  "outlinewidth": 0,
                  "ticks": ""
                 }
                },
                "type": "scatterternary"
               }
              ],
              "surface": [
               {
                "colorbar": {
                 "outlinewidth": 0,
                 "ticks": ""
                },
                "colorscale": [
                 [
                  0,
                  "#0d0887"
                 ],
                 [
                  0.1111111111111111,
                  "#46039f"
                 ],
                 [
                  0.2222222222222222,
                  "#7201a8"
                 ],
                 [
                  0.3333333333333333,
                  "#9c179e"
                 ],
                 [
                  0.4444444444444444,
                  "#bd3786"
                 ],
                 [
                  0.5555555555555556,
                  "#d8576b"
                 ],
                 [
                  0.6666666666666666,
                  "#ed7953"
                 ],
                 [
                  0.7777777777777778,
                  "#fb9f3a"
                 ],
                 [
                  0.8888888888888888,
                  "#fdca26"
                 ],
                 [
                  1,
                  "#f0f921"
                 ]
                ],
                "type": "surface"
               }
              ],
              "table": [
               {
                "cells": {
                 "fill": {
                  "color": "#EBF0F8"
                 },
                 "line": {
                  "color": "white"
                 }
                },
                "header": {
                 "fill": {
                  "color": "#C8D4E3"
                 },
                 "line": {
                  "color": "white"
                 }
                },
                "type": "table"
               }
              ]
             },
             "layout": {
              "annotationdefaults": {
               "arrowcolor": "#2a3f5f",
               "arrowhead": 0,
               "arrowwidth": 1
              },
              "coloraxis": {
               "colorbar": {
                "outlinewidth": 0,
                "ticks": ""
               }
              },
              "colorscale": {
               "diverging": [
                [
                 0,
                 "#8e0152"
                ],
                [
                 0.1,
                 "#c51b7d"
                ],
                [
                 0.2,
                 "#de77ae"
                ],
                [
                 0.3,
                 "#f1b6da"
                ],
                [
                 0.4,
                 "#fde0ef"
                ],
                [
                 0.5,
                 "#f7f7f7"
                ],
                [
                 0.6,
                 "#e6f5d0"
                ],
                [
                 0.7,
                 "#b8e186"
                ],
                [
                 0.8,
                 "#7fbc41"
                ],
                [
                 0.9,
                 "#4d9221"
                ],
                [
                 1,
                 "#276419"
                ]
               ],
               "sequential": [
                [
                 0,
                 "#0d0887"
                ],
                [
                 0.1111111111111111,
                 "#46039f"
                ],
                [
                 0.2222222222222222,
                 "#7201a8"
                ],
                [
                 0.3333333333333333,
                 "#9c179e"
                ],
                [
                 0.4444444444444444,
                 "#bd3786"
                ],
                [
                 0.5555555555555556,
                 "#d8576b"
                ],
                [
                 0.6666666666666666,
                 "#ed7953"
                ],
                [
                 0.7777777777777778,
                 "#fb9f3a"
                ],
                [
                 0.8888888888888888,
                 "#fdca26"
                ],
                [
                 1,
                 "#f0f921"
                ]
               ],
               "sequentialminus": [
                [
                 0,
                 "#0d0887"
                ],
                [
                 0.1111111111111111,
                 "#46039f"
                ],
                [
                 0.2222222222222222,
                 "#7201a8"
                ],
                [
                 0.3333333333333333,
                 "#9c179e"
                ],
                [
                 0.4444444444444444,
                 "#bd3786"
                ],
                [
                 0.5555555555555556,
                 "#d8576b"
                ],
                [
                 0.6666666666666666,
                 "#ed7953"
                ],
                [
                 0.7777777777777778,
                 "#fb9f3a"
                ],
                [
                 0.8888888888888888,
                 "#fdca26"
                ],
                [
                 1,
                 "#f0f921"
                ]
               ]
              },
              "colorway": [
               "#636efa",
               "#EF553B",
               "#00cc96",
               "#ab63fa",
               "#FFA15A",
               "#19d3f3",
               "#FF6692",
               "#B6E880",
               "#FF97FF",
               "#FECB52"
              ],
              "font": {
               "color": "#2a3f5f"
              },
              "geo": {
               "bgcolor": "white",
               "lakecolor": "white",
               "landcolor": "#E5ECF6",
               "showlakes": true,
               "showland": true,
               "subunitcolor": "white"
              },
              "hoverlabel": {
               "align": "left"
              },
              "hovermode": "closest",
              "mapbox": {
               "style": "light"
              },
              "paper_bgcolor": "white",
              "plot_bgcolor": "#E5ECF6",
              "polar": {
               "angularaxis": {
                "gridcolor": "white",
                "linecolor": "white",
                "ticks": ""
               },
               "bgcolor": "#E5ECF6",
               "radialaxis": {
                "gridcolor": "white",
                "linecolor": "white",
                "ticks": ""
               }
              },
              "scene": {
               "xaxis": {
                "backgroundcolor": "#E5ECF6",
                "gridcolor": "white",
                "gridwidth": 2,
                "linecolor": "white",
                "showbackground": true,
                "ticks": "",
                "zerolinecolor": "white"
               },
               "yaxis": {
                "backgroundcolor": "#E5ECF6",
                "gridcolor": "white",
                "gridwidth": 2,
                "linecolor": "white",
                "showbackground": true,
                "ticks": "",
                "zerolinecolor": "white"
               },
               "zaxis": {
                "backgroundcolor": "#E5ECF6",
                "gridcolor": "white",
                "gridwidth": 2,
                "linecolor": "white",
                "showbackground": true,
                "ticks": "",
                "zerolinecolor": "white"
               }
              },
              "shapedefaults": {
               "line": {
                "color": "#2a3f5f"
               }
              },
              "ternary": {
               "aaxis": {
                "gridcolor": "white",
                "linecolor": "white",
                "ticks": ""
               },
               "baxis": {
                "gridcolor": "white",
                "linecolor": "white",
                "ticks": ""
               },
               "bgcolor": "#E5ECF6",
               "caxis": {
                "gridcolor": "white",
                "linecolor": "white",
                "ticks": ""
               }
              },
              "title": {
               "x": 0.05
              },
              "xaxis": {
               "automargin": true,
               "gridcolor": "white",
               "linecolor": "white",
               "ticks": "",
               "title": {
                "standoff": 15
               },
               "zerolinecolor": "white",
               "zerolinewidth": 2
              },
              "yaxis": {
               "automargin": true,
               "gridcolor": "white",
               "linecolor": "white",
               "ticks": "",
               "title": {
                "standoff": 15
               },
               "zerolinecolor": "white",
               "zerolinewidth": 2
              }
             }
            }
           }
          },
          "text/html": "<div>\n        \n        \n            <div id=\"6c3b238e-a439-4683-b19d-6beaa362f462\" class=\"plotly-graph-div\" style=\"height:525px; width:100%;\"></div>\n            <script type=\"text/javascript\">\n                require([\"plotly\"], function(Plotly) {\n                    window.PLOTLYENV=window.PLOTLYENV || {};\n                    \n                if (document.getElementById(\"6c3b238e-a439-4683-b19d-6beaa362f462\")) {\n                    Plotly.newPlot(\n                        '6c3b238e-a439-4683-b19d-6beaa362f462',\n                        [{\"lat\": [16.72, 16.72, 36.404, 36.404, 32.884, 32.884, 32.884, 2.58, 2.58, 2.58, 2.58, 44.43, 44.43, 44.43, 44.43, 44.43, 44.43, 37.7166666666667, 37.7166666666667, 35.9, -38.82, 43.722, 41.611, 46.2, 46.853, -22.2666666666667, 65.715, 63.983, 63.892, 64.083, 60.485, 32.761, 38.83, 31.934, 36.7833333333333, 35.361, 56.056, 19.421, 19.421, 40.821, 40.827, 37.748, 38.789, 15.13, 4.892, -1.467, 28.0], \"lon\": [-62.18, -62.18, 25.396, 25.396, 131.104, 131.104, 131.104, 98.83, 98.83, 98.83, 98.83, -110.67, -110.67, -110.67, -110.67, -110.67, -110.67, -118.883333333333, -118.883333333333, -106.533333333333, 176.0, -121.229, -121.554, -122.18, 121.76, -67.1666666666667, -16.728, -19.666, -19.122, -21.416, -152.742, 130.299, 140.7, 130.862, 139.366666666667, 138.728, 160.642, -155.287, -155.287, 14.426, 14.139, 14.999, 15.213, 120.35, -75.324, -78.442, -15.58], \"marker\": {\"size\": [215.44346900318837, 215.44346900318837, 464.15888336127784, 464.15888336127784, 843.4326653017491, 843.4326653017491, 843.4326653017491, 1409.4597464129781, 1409.4597464129781, 1409.4597464129781, 1409.4597464129781, 1348.0997498879249, 1348.0997498879249, 1348.0997498879249, 1348.0997498879249, 1348.0997498879249, 1348.0997498879249, 100.0, 100.0, 100.0, 100.0, 100.0, 100.0, 100.0, 100.0, 100.0, 100.0, 100.0, 100.0, 100.0, 100.0, 100.0, 100.0, 100.0, 100.0, 100.0, 100.0, 100.0, 100.0, 100.0, 100.0, 100.0, 100.0, 100.0, 100.0, 100.0, 100.0], \"sizemode\": \"area\"}, \"text\": [\"Soufriere Hills Volcano<br>Erupted volume: 10.0\", \"Soufriere Hills Volcano<br>Erupted volume: 10.0\", \"Santorini<br>Erupted volume: 100.0\", \"Santorini<br>Erupted volume: 100.0\", \"Aso Caldera<br>Erupted volume: 600.0\", \"Aso Caldera<br>Erupted volume: 600.0\", \"Aso Caldera<br>Erupted volume: 600.0\", \"Toba<br>Erupted volume: 2800.0\", \"Toba<br>Erupted volume: 2800.0\", \"Toba<br>Erupted volume: 2800.0\", \"Toba<br>Erupted volume: 2800.0\", \"Yellowstone<br>Erupted volume: 2450.0\", \"Yellowstone<br>Erupted volume: 2450.0\", \"Yellowstone<br>Erupted volume: 2450.0\", \"Yellowstone<br>Erupted volume: 2450.0\", \"Yellowstone<br>Erupted volume: 2450.0\", \"Yellowstone<br>Erupted volume: 2450.0\", \"Long Valley<br>Erupted volume: nan\", \"Long Valley<br>Erupted volume: nan\", \"Valles<br>Erupted volume: nan\", \"Taupo<br>Erupted volume: nan\", \"Newberry volcano<br>Erupted volume: nan\", \"Medicine Lake<br>Erupted volume: nan\", \"Mt. St. Helens<br>Erupted volume: nan\", \"Mt. Rainier<br>Erupted volume: nan\", \"Altiplano Puna<br>Erupted volume: nan\", \"Krafla<br>Erupted volume: nan\", \"Hekla<br>Erupted volume: nan\", \"Torfaj\\u00f6kull<br>Erupted volume: nan\", \"Hengill\\u2013Grensdalur<br>Erupted volume: nan\", \"Redoubt<br>Erupted volume: nan\", \"Unzen<br>Erupted volume: nan\", \"Onikobe<br>Erupted volume: nan\", \"Kirishima<br>Erupted volume: nan\", \"Nikko-Shirane<br>Erupted volume: nan\", \"Mt. Fuji<br>Erupted volume: nan\", \"Klyuchevskoy<br>Erupted volume: nan\", \"Halemaumau<br>Erupted volume: nan\", \"Kilauea<br>Erupted volume: nan\", \"Vesuvius<br>Erupted volume: nan\", \"Campi Flegrei<br>Erupted volume: nan\", \"Mt. Etna<br>Erupted volume: nan\", \"Stromboli<br>Erupted volume: nan\", \"Pinatubo<br>Erupted volume: nan\", \"Nevado del Ruiz<br>Erupted volume: nan\", \"Tungurahua<br>Erupted volume: nan\", \"Gran Canaria<br>Erupted volume: nan\"], \"type\": \"scattergeo\"}],\n                        {\"template\": {\"data\": {\"bar\": [{\"error_x\": {\"color\": \"#2a3f5f\"}, \"error_y\": {\"color\": \"#2a3f5f\"}, \"marker\": {\"line\": {\"color\": \"#E5ECF6\", \"width\": 0.5}}, \"type\": \"bar\"}], \"barpolar\": [{\"marker\": {\"line\": {\"color\": \"#E5ECF6\", \"width\": 0.5}}, \"type\": \"barpolar\"}], \"carpet\": [{\"aaxis\": {\"endlinecolor\": \"#2a3f5f\", \"gridcolor\": \"white\", \"linecolor\": \"white\", \"minorgridcolor\": \"white\", \"startlinecolor\": \"#2a3f5f\"}, \"baxis\": {\"endlinecolor\": \"#2a3f5f\", \"gridcolor\": \"white\", \"linecolor\": \"white\", \"minorgridcolor\": \"white\", \"startlinecolor\": \"#2a3f5f\"}, \"type\": \"carpet\"}], \"choropleth\": [{\"colorbar\": {\"outlinewidth\": 0, \"ticks\": \"\"}, \"type\": \"choropleth\"}], \"contour\": [{\"colorbar\": {\"outlinewidth\": 0, \"ticks\": \"\"}, \"colorscale\": [[0.0, \"#0d0887\"], [0.1111111111111111, \"#46039f\"], [0.2222222222222222, \"#7201a8\"], [0.3333333333333333, \"#9c179e\"], [0.4444444444444444, \"#bd3786\"], [0.5555555555555556, \"#d8576b\"], [0.6666666666666666, \"#ed7953\"], [0.7777777777777778, \"#fb9f3a\"], [0.8888888888888888, \"#fdca26\"], [1.0, \"#f0f921\"]], \"type\": \"contour\"}], \"contourcarpet\": [{\"colorbar\": {\"outlinewidth\": 0, \"ticks\": \"\"}, \"type\": \"contourcarpet\"}], \"heatmap\": [{\"colorbar\": {\"outlinewidth\": 0, \"ticks\": \"\"}, \"colorscale\": [[0.0, \"#0d0887\"], [0.1111111111111111, \"#46039f\"], [0.2222222222222222, \"#7201a8\"], [0.3333333333333333, \"#9c179e\"], [0.4444444444444444, \"#bd3786\"], [0.5555555555555556, \"#d8576b\"], [0.6666666666666666, \"#ed7953\"], [0.7777777777777778, \"#fb9f3a\"], [0.8888888888888888, \"#fdca26\"], [1.0, \"#f0f921\"]], \"type\": \"heatmap\"}], \"heatmapgl\": [{\"colorbar\": {\"outlinewidth\": 0, \"ticks\": \"\"}, \"colorscale\": [[0.0, \"#0d0887\"], [0.1111111111111111, \"#46039f\"], [0.2222222222222222, \"#7201a8\"], [0.3333333333333333, \"#9c179e\"], [0.4444444444444444, \"#bd3786\"], [0.5555555555555556, \"#d8576b\"], [0.6666666666666666, \"#ed7953\"], [0.7777777777777778, \"#fb9f3a\"], [0.8888888888888888, \"#fdca26\"], [1.0, \"#f0f921\"]], \"type\": \"heatmapgl\"}], \"histogram\": [{\"marker\": {\"colorbar\": {\"outlinewidth\": 0, \"ticks\": \"\"}}, \"type\": \"histogram\"}], \"histogram2d\": [{\"colorbar\": {\"outlinewidth\": 0, \"ticks\": \"\"}, \"colorscale\": [[0.0, \"#0d0887\"], [0.1111111111111111, \"#46039f\"], [0.2222222222222222, \"#7201a8\"], [0.3333333333333333, \"#9c179e\"], [0.4444444444444444, \"#bd3786\"], [0.5555555555555556, \"#d8576b\"], [0.6666666666666666, \"#ed7953\"], [0.7777777777777778, \"#fb9f3a\"], [0.8888888888888888, \"#fdca26\"], [1.0, \"#f0f921\"]], \"type\": \"histogram2d\"}], \"histogram2dcontour\": [{\"colorbar\": {\"outlinewidth\": 0, \"ticks\": \"\"}, \"colorscale\": [[0.0, \"#0d0887\"], [0.1111111111111111, \"#46039f\"], [0.2222222222222222, \"#7201a8\"], [0.3333333333333333, \"#9c179e\"], [0.4444444444444444, \"#bd3786\"], [0.5555555555555556, \"#d8576b\"], [0.6666666666666666, \"#ed7953\"], [0.7777777777777778, \"#fb9f3a\"], [0.8888888888888888, \"#fdca26\"], [1.0, \"#f0f921\"]], \"type\": \"histogram2dcontour\"}], \"mesh3d\": [{\"colorbar\": {\"outlinewidth\": 0, \"ticks\": \"\"}, \"type\": \"mesh3d\"}], \"parcoords\": [{\"line\": {\"colorbar\": {\"outlinewidth\": 0, \"ticks\": \"\"}}, \"type\": \"parcoords\"}], \"pie\": [{\"automargin\": true, \"type\": \"pie\"}], \"scatter\": [{\"marker\": {\"colorbar\": {\"outlinewidth\": 0, \"ticks\": \"\"}}, \"type\": \"scatter\"}], \"scatter3d\": [{\"line\": {\"colorbar\": {\"outlinewidth\": 0, \"ticks\": \"\"}}, \"marker\": {\"colorbar\": {\"outlinewidth\": 0, \"ticks\": \"\"}}, \"type\": \"scatter3d\"}], \"scattercarpet\": [{\"marker\": {\"colorbar\": {\"outlinewidth\": 0, \"ticks\": \"\"}}, \"type\": \"scattercarpet\"}], \"scattergeo\": [{\"marker\": {\"colorbar\": {\"outlinewidth\": 0, \"ticks\": \"\"}}, \"type\": \"scattergeo\"}], \"scattergl\": [{\"marker\": {\"colorbar\": {\"outlinewidth\": 0, \"ticks\": \"\"}}, \"type\": \"scattergl\"}], \"scattermapbox\": [{\"marker\": {\"colorbar\": {\"outlinewidth\": 0, \"ticks\": \"\"}}, \"type\": \"scattermapbox\"}], \"scatterpolar\": [{\"marker\": {\"colorbar\": {\"outlinewidth\": 0, \"ticks\": \"\"}}, \"type\": \"scatterpolar\"}], \"scatterpolargl\": [{\"marker\": {\"colorbar\": {\"outlinewidth\": 0, \"ticks\": \"\"}}, \"type\": \"scatterpolargl\"}], \"scatterternary\": [{\"marker\": {\"colorbar\": {\"outlinewidth\": 0, \"ticks\": \"\"}}, \"type\": \"scatterternary\"}], \"surface\": [{\"colorbar\": {\"outlinewidth\": 0, \"ticks\": \"\"}, \"colorscale\": [[0.0, \"#0d0887\"], [0.1111111111111111, \"#46039f\"], [0.2222222222222222, \"#7201a8\"], [0.3333333333333333, \"#9c179e\"], [0.4444444444444444, \"#bd3786\"], [0.5555555555555556, \"#d8576b\"], [0.6666666666666666, \"#ed7953\"], [0.7777777777777778, \"#fb9f3a\"], [0.8888888888888888, \"#fdca26\"], [1.0, \"#f0f921\"]], \"type\": \"surface\"}], \"table\": [{\"cells\": {\"fill\": {\"color\": \"#EBF0F8\"}, \"line\": {\"color\": \"white\"}}, \"header\": {\"fill\": {\"color\": \"#C8D4E3\"}, \"line\": {\"color\": \"white\"}}, \"type\": \"table\"}]}, \"layout\": {\"annotationdefaults\": {\"arrowcolor\": \"#2a3f5f\", \"arrowhead\": 0, \"arrowwidth\": 1}, \"coloraxis\": {\"colorbar\": {\"outlinewidth\": 0, \"ticks\": \"\"}}, \"colorscale\": {\"diverging\": [[0, \"#8e0152\"], [0.1, \"#c51b7d\"], [0.2, \"#de77ae\"], [0.3, \"#f1b6da\"], [0.4, \"#fde0ef\"], [0.5, \"#f7f7f7\"], [0.6, \"#e6f5d0\"], [0.7, \"#b8e186\"], [0.8, \"#7fbc41\"], [0.9, \"#4d9221\"], [1, \"#276419\"]], \"sequential\": [[0.0, \"#0d0887\"], [0.1111111111111111, \"#46039f\"], [0.2222222222222222, \"#7201a8\"], [0.3333333333333333, \"#9c179e\"], [0.4444444444444444, \"#bd3786\"], [0.5555555555555556, \"#d8576b\"], [0.6666666666666666, \"#ed7953\"], [0.7777777777777778, \"#fb9f3a\"], [0.8888888888888888, \"#fdca26\"], [1.0, \"#f0f921\"]], \"sequentialminus\": [[0.0, \"#0d0887\"], [0.1111111111111111, \"#46039f\"], [0.2222222222222222, \"#7201a8\"], [0.3333333333333333, \"#9c179e\"], [0.4444444444444444, \"#bd3786\"], [0.5555555555555556, \"#d8576b\"], [0.6666666666666666, \"#ed7953\"], [0.7777777777777778, \"#fb9f3a\"], [0.8888888888888888, \"#fdca26\"], [1.0, \"#f0f921\"]]}, \"colorway\": [\"#636efa\", \"#EF553B\", \"#00cc96\", \"#ab63fa\", \"#FFA15A\", \"#19d3f3\", \"#FF6692\", \"#B6E880\", \"#FF97FF\", \"#FECB52\"], \"font\": {\"color\": \"#2a3f5f\"}, \"geo\": {\"bgcolor\": \"white\", \"lakecolor\": \"white\", \"landcolor\": \"#E5ECF6\", \"showlakes\": true, \"showland\": true, \"subunitcolor\": \"white\"}, \"hoverlabel\": {\"align\": \"left\"}, \"hovermode\": \"closest\", \"mapbox\": {\"style\": \"light\"}, \"paper_bgcolor\": \"white\", \"plot_bgcolor\": \"#E5ECF6\", \"polar\": {\"angularaxis\": {\"gridcolor\": \"white\", \"linecolor\": \"white\", \"ticks\": \"\"}, \"bgcolor\": \"#E5ECF6\", \"radialaxis\": {\"gridcolor\": \"white\", \"linecolor\": \"white\", \"ticks\": \"\"}}, \"scene\": {\"xaxis\": {\"backgroundcolor\": \"#E5ECF6\", \"gridcolor\": \"white\", \"gridwidth\": 2, \"linecolor\": \"white\", \"showbackground\": true, \"ticks\": \"\", \"zerolinecolor\": \"white\"}, \"yaxis\": {\"backgroundcolor\": \"#E5ECF6\", \"gridcolor\": \"white\", \"gridwidth\": 2, \"linecolor\": \"white\", \"showbackground\": true, \"ticks\": \"\", \"zerolinecolor\": \"white\"}, \"zaxis\": {\"backgroundcolor\": \"#E5ECF6\", \"gridcolor\": \"white\", \"gridwidth\": 2, \"linecolor\": \"white\", \"showbackground\": true, \"ticks\": \"\", \"zerolinecolor\": \"white\"}}, \"shapedefaults\": {\"line\": {\"color\": \"#2a3f5f\"}}, \"ternary\": {\"aaxis\": {\"gridcolor\": \"white\", \"linecolor\": \"white\", \"ticks\": \"\"}, \"baxis\": {\"gridcolor\": \"white\", \"linecolor\": \"white\", \"ticks\": \"\"}, \"bgcolor\": \"#E5ECF6\", \"caxis\": {\"gridcolor\": \"white\", \"linecolor\": \"white\", \"ticks\": \"\"}}, \"title\": {\"x\": 0.05}, \"xaxis\": {\"automargin\": true, \"gridcolor\": \"white\", \"linecolor\": \"white\", \"ticks\": \"\", \"title\": {\"standoff\": 15}, \"zerolinecolor\": \"white\", \"zerolinewidth\": 2}, \"yaxis\": {\"automargin\": true, \"gridcolor\": \"white\", \"linecolor\": \"white\", \"ticks\": \"\", \"title\": {\"standoff\": 15}, \"zerolinecolor\": \"white\", \"zerolinewidth\": 2}}}},\n                        {\"responsive\": true}\n                    ).then(function(){\n                            \nvar gd = document.getElementById('6c3b238e-a439-4683-b19d-6beaa362f462');\nvar x = new MutationObserver(function (mutations, observer) {{\n        var display = window.getComputedStyle(gd).display;\n        if (!display || display === 'none') {{\n            console.log([gd, 'removed!']);\n            Plotly.purge(gd);\n            observer.disconnect();\n        }}\n}});\n\n// Listen for the removal of the full notebook cells\nvar notebookContainer = gd.closest('#notebook-container');\nif (notebookContainer) {{\n    x.observe(notebookContainer, {childList: true});\n}}\n\n// Listen for the clearing of the current output cell\nvar outputEl = gd.closest('.output');\nif (outputEl) {{\n    x.observe(outputEl, {childList: true});\n}}\n\n                        })\n                };\n                });\n            </script>\n        </div>"
         },
         "metadata": {},
         "output_type": "display_data"
        }
       ]
      }
     },
     "c1bd09c017cc4ee9b6780714cc661df7": {
      "model_module": "@jupyter-widgets/base",
      "model_module_version": "1.2.0",
      "model_name": "LayoutModel",
      "state": {}
     },
     "c409ee3eb32f42c6b9169a36c3900837": {
      "model_module": "@jupyter-widgets/controls",
      "model_module_version": "1.5.0",
      "model_name": "DropdownModel",
      "state": {
       "_options_labels": [
        "Erupted volume",
        "Anomaly volume"
       ],
       "description": "key",
       "index": 0,
       "layout": "IPY_MODEL_0a699abae38e4225a30abc02751dd110",
       "style": "IPY_MODEL_41b8fde8ee314bfaab9fe7a11f47e1a4"
      }
     },
     "c495232d959842f0bc2e22dc75b87f01": {
      "model_module": "@jupyter-widgets/output",
      "model_module_version": "1.0.0",
      "model_name": "OutputModel",
      "state": {
       "layout": "IPY_MODEL_4aebbadb3cf54cdeaac554be56ebb7c8",
       "outputs": [
        {
         "data": {
          "application/vnd.plotly.v1+json": {
           "config": {
            "plotlyServerURL": "https://plot.ly"
           },
           "data": [
            {
             "lat": [
              16.72,
              16.72,
              36.404,
              36.404,
              32.884,
              32.884,
              32.884,
              2.58,
              2.58,
              2.58,
              2.58,
              44.43,
              44.43,
              44.43,
              44.43,
              44.43,
              44.43,
              37.7166666666667,
              37.7166666666667,
              35.9,
              -38.82,
              43.722,
              41.611,
              46.2,
              46.853,
              -22.2666666666667,
              65.715,
              63.983,
              63.892,
              64.083,
              60.485,
              32.761,
              38.83,
              31.934,
              36.7833333333333,
              35.361,
              56.056,
              19.421,
              19.421,
              40.821,
              40.827,
              37.748,
              38.789,
              15.13,
              4.892,
              -1.467,
              28
             ],
             "lon": [
              -62.18,
              -62.18,
              25.396,
              25.396,
              131.104,
              131.104,
              131.104,
              98.83,
              98.83,
              98.83,
              98.83,
              -110.67,
              -110.67,
              -110.67,
              -110.67,
              -110.67,
              -110.67,
              -118.883333333333,
              -118.883333333333,
              -106.533333333333,
              176,
              -121.229,
              -121.554,
              -122.18,
              121.76,
              -67.1666666666667,
              -16.728,
              -19.666,
              -19.122,
              -21.416,
              -152.742,
              130.299,
              140.7,
              130.862,
              139.366666666667,
              138.728,
              160.642,
              -155.287,
              -155.287,
              14.426,
              14.139,
              14.999,
              15.213,
              120.35,
              -75.324,
              -78.442,
              -15.58
             ],
             "marker": {
              "size": [
               215.44346900318837,
               215.44346900318837,
               464.15888336127784,
               464.15888336127784,
               843.4326653017491,
               843.4326653017491,
               843.4326653017491,
               1409.4597464129781,
               1409.4597464129781,
               1409.4597464129781,
               1409.4597464129781,
               1348.0997498879249,
               1348.0997498879249,
               1348.0997498879249,
               1348.0997498879249,
               1348.0997498879249,
               1348.0997498879249,
               100,
               100,
               100,
               100,
               100,
               100,
               100,
               100,
               100,
               100,
               100,
               100,
               100,
               100,
               100,
               100,
               100,
               100,
               100,
               100,
               100,
               100,
               100,
               100,
               100,
               100,
               100,
               100,
               100,
               100
              ],
              "sizemode": "area"
             },
             "text": [
              "Soufriere Hills Volcano<br>Erupted volume: 10.0",
              "Soufriere Hills Volcano<br>Erupted volume: 10.0",
              "Santorini<br>Erupted volume: 100.0",
              "Santorini<br>Erupted volume: 100.0",
              "Aso Caldera<br>Erupted volume: 600.0",
              "Aso Caldera<br>Erupted volume: 600.0",
              "Aso Caldera<br>Erupted volume: 600.0",
              "Toba<br>Erupted volume: 2800.0",
              "Toba<br>Erupted volume: 2800.0",
              "Toba<br>Erupted volume: 2800.0",
              "Toba<br>Erupted volume: 2800.0",
              "Yellowstone<br>Erupted volume: 2450.0",
              "Yellowstone<br>Erupted volume: 2450.0",
              "Yellowstone<br>Erupted volume: 2450.0",
              "Yellowstone<br>Erupted volume: 2450.0",
              "Yellowstone<br>Erupted volume: 2450.0",
              "Yellowstone<br>Erupted volume: 2450.0",
              "Long Valley<br>Erupted volume: nan",
              "Long Valley<br>Erupted volume: nan",
              "Valles<br>Erupted volume: nan",
              "Taupo<br>Erupted volume: nan",
              "Newberry volcano<br>Erupted volume: nan",
              "Medicine Lake<br>Erupted volume: nan",
              "Mt. St. Helens<br>Erupted volume: nan",
              "Mt. Rainier<br>Erupted volume: nan",
              "Altiplano Puna<br>Erupted volume: nan",
              "Krafla<br>Erupted volume: nan",
              "Hekla<br>Erupted volume: nan",
              "Torfajökull<br>Erupted volume: nan",
              "Hengill–Grensdalur<br>Erupted volume: nan",
              "Redoubt<br>Erupted volume: nan",
              "Unzen<br>Erupted volume: nan",
              "Onikobe<br>Erupted volume: nan",
              "Kirishima<br>Erupted volume: nan",
              "Nikko-Shirane<br>Erupted volume: nan",
              "Mt. Fuji<br>Erupted volume: nan",
              "Klyuchevskoy<br>Erupted volume: nan",
              "Halemaumau<br>Erupted volume: nan",
              "Kilauea<br>Erupted volume: nan",
              "Vesuvius<br>Erupted volume: nan",
              "Campi Flegrei<br>Erupted volume: nan",
              "Mt. Etna<br>Erupted volume: nan",
              "Stromboli<br>Erupted volume: nan",
              "Pinatubo<br>Erupted volume: nan",
              "Nevado del Ruiz<br>Erupted volume: nan",
              "Tungurahua<br>Erupted volume: nan",
              "Gran Canaria<br>Erupted volume: nan"
             ],
             "type": "scattergeo"
            }
           ],
           "layout": {
            "template": {
             "data": {
              "bar": [
               {
                "error_x": {
                 "color": "#2a3f5f"
                },
                "error_y": {
                 "color": "#2a3f5f"
                },
                "marker": {
                 "line": {
                  "color": "#E5ECF6",
                  "width": 0.5
                 }
                },
                "type": "bar"
               }
              ],
              "barpolar": [
               {
                "marker": {
                 "line": {
                  "color": "#E5ECF6",
                  "width": 0.5
                 }
                },
                "type": "barpolar"
               }
              ],
              "carpet": [
               {
                "aaxis": {
                 "endlinecolor": "#2a3f5f",
                 "gridcolor": "white",
                 "linecolor": "white",
                 "minorgridcolor": "white",
                 "startlinecolor": "#2a3f5f"
                },
                "baxis": {
                 "endlinecolor": "#2a3f5f",
                 "gridcolor": "white",
                 "linecolor": "white",
                 "minorgridcolor": "white",
                 "startlinecolor": "#2a3f5f"
                },
                "type": "carpet"
               }
              ],
              "choropleth": [
               {
                "colorbar": {
                 "outlinewidth": 0,
                 "ticks": ""
                },
                "type": "choropleth"
               }
              ],
              "contour": [
               {
                "colorbar": {
                 "outlinewidth": 0,
                 "ticks": ""
                },
                "colorscale": [
                 [
                  0,
                  "#0d0887"
                 ],
                 [
                  0.1111111111111111,
                  "#46039f"
                 ],
                 [
                  0.2222222222222222,
                  "#7201a8"
                 ],
                 [
                  0.3333333333333333,
                  "#9c179e"
                 ],
                 [
                  0.4444444444444444,
                  "#bd3786"
                 ],
                 [
                  0.5555555555555556,
                  "#d8576b"
                 ],
                 [
                  0.6666666666666666,
                  "#ed7953"
                 ],
                 [
                  0.7777777777777778,
                  "#fb9f3a"
                 ],
                 [
                  0.8888888888888888,
                  "#fdca26"
                 ],
                 [
                  1,
                  "#f0f921"
                 ]
                ],
                "type": "contour"
               }
              ],
              "contourcarpet": [
               {
                "colorbar": {
                 "outlinewidth": 0,
                 "ticks": ""
                },
                "type": "contourcarpet"
               }
              ],
              "heatmap": [
               {
                "colorbar": {
                 "outlinewidth": 0,
                 "ticks": ""
                },
                "colorscale": [
                 [
                  0,
                  "#0d0887"
                 ],
                 [
                  0.1111111111111111,
                  "#46039f"
                 ],
                 [
                  0.2222222222222222,
                  "#7201a8"
                 ],
                 [
                  0.3333333333333333,
                  "#9c179e"
                 ],
                 [
                  0.4444444444444444,
                  "#bd3786"
                 ],
                 [
                  0.5555555555555556,
                  "#d8576b"
                 ],
                 [
                  0.6666666666666666,
                  "#ed7953"
                 ],
                 [
                  0.7777777777777778,
                  "#fb9f3a"
                 ],
                 [
                  0.8888888888888888,
                  "#fdca26"
                 ],
                 [
                  1,
                  "#f0f921"
                 ]
                ],
                "type": "heatmap"
               }
              ],
              "heatmapgl": [
               {
                "colorbar": {
                 "outlinewidth": 0,
                 "ticks": ""
                },
                "colorscale": [
                 [
                  0,
                  "#0d0887"
                 ],
                 [
                  0.1111111111111111,
                  "#46039f"
                 ],
                 [
                  0.2222222222222222,
                  "#7201a8"
                 ],
                 [
                  0.3333333333333333,
                  "#9c179e"
                 ],
                 [
                  0.4444444444444444,
                  "#bd3786"
                 ],
                 [
                  0.5555555555555556,
                  "#d8576b"
                 ],
                 [
                  0.6666666666666666,
                  "#ed7953"
                 ],
                 [
                  0.7777777777777778,
                  "#fb9f3a"
                 ],
                 [
                  0.8888888888888888,
                  "#fdca26"
                 ],
                 [
                  1,
                  "#f0f921"
                 ]
                ],
                "type": "heatmapgl"
               }
              ],
              "histogram": [
               {
                "marker": {
                 "colorbar": {
                  "outlinewidth": 0,
                  "ticks": ""
                 }
                },
                "type": "histogram"
               }
              ],
              "histogram2d": [
               {
                "colorbar": {
                 "outlinewidth": 0,
                 "ticks": ""
                },
                "colorscale": [
                 [
                  0,
                  "#0d0887"
                 ],
                 [
                  0.1111111111111111,
                  "#46039f"
                 ],
                 [
                  0.2222222222222222,
                  "#7201a8"
                 ],
                 [
                  0.3333333333333333,
                  "#9c179e"
                 ],
                 [
                  0.4444444444444444,
                  "#bd3786"
                 ],
                 [
                  0.5555555555555556,
                  "#d8576b"
                 ],
                 [
                  0.6666666666666666,
                  "#ed7953"
                 ],
                 [
                  0.7777777777777778,
                  "#fb9f3a"
                 ],
                 [
                  0.8888888888888888,
                  "#fdca26"
                 ],
                 [
                  1,
                  "#f0f921"
                 ]
                ],
                "type": "histogram2d"
               }
              ],
              "histogram2dcontour": [
               {
                "colorbar": {
                 "outlinewidth": 0,
                 "ticks": ""
                },
                "colorscale": [
                 [
                  0,
                  "#0d0887"
                 ],
                 [
                  0.1111111111111111,
                  "#46039f"
                 ],
                 [
                  0.2222222222222222,
                  "#7201a8"
                 ],
                 [
                  0.3333333333333333,
                  "#9c179e"
                 ],
                 [
                  0.4444444444444444,
                  "#bd3786"
                 ],
                 [
                  0.5555555555555556,
                  "#d8576b"
                 ],
                 [
                  0.6666666666666666,
                  "#ed7953"
                 ],
                 [
                  0.7777777777777778,
                  "#fb9f3a"
                 ],
                 [
                  0.8888888888888888,
                  "#fdca26"
                 ],
                 [
                  1,
                  "#f0f921"
                 ]
                ],
                "type": "histogram2dcontour"
               }
              ],
              "mesh3d": [
               {
                "colorbar": {
                 "outlinewidth": 0,
                 "ticks": ""
                },
                "type": "mesh3d"
               }
              ],
              "parcoords": [
               {
                "line": {
                 "colorbar": {
                  "outlinewidth": 0,
                  "ticks": ""
                 }
                },
                "type": "parcoords"
               }
              ],
              "pie": [
               {
                "automargin": true,
                "type": "pie"
               }
              ],
              "scatter": [
               {
                "marker": {
                 "colorbar": {
                  "outlinewidth": 0,
                  "ticks": ""
                 }
                },
                "type": "scatter"
               }
              ],
              "scatter3d": [
               {
                "line": {
                 "colorbar": {
                  "outlinewidth": 0,
                  "ticks": ""
                 }
                },
                "marker": {
                 "colorbar": {
                  "outlinewidth": 0,
                  "ticks": ""
                 }
                },
                "type": "scatter3d"
               }
              ],
              "scattercarpet": [
               {
                "marker": {
                 "colorbar": {
                  "outlinewidth": 0,
                  "ticks": ""
                 }
                },
                "type": "scattercarpet"
               }
              ],
              "scattergeo": [
               {
                "marker": {
                 "colorbar": {
                  "outlinewidth": 0,
                  "ticks": ""
                 }
                },
                "type": "scattergeo"
               }
              ],
              "scattergl": [
               {
                "marker": {
                 "colorbar": {
                  "outlinewidth": 0,
                  "ticks": ""
                 }
                },
                "type": "scattergl"
               }
              ],
              "scattermapbox": [
               {
                "marker": {
                 "colorbar": {
                  "outlinewidth": 0,
                  "ticks": ""
                 }
                },
                "type": "scattermapbox"
               }
              ],
              "scatterpolar": [
               {
                "marker": {
                 "colorbar": {
                  "outlinewidth": 0,
                  "ticks": ""
                 }
                },
                "type": "scatterpolar"
               }
              ],
              "scatterpolargl": [
               {
                "marker": {
                 "colorbar": {
                  "outlinewidth": 0,
                  "ticks": ""
                 }
                },
                "type": "scatterpolargl"
               }
              ],
              "scatterternary": [
               {
                "marker": {
                 "colorbar": {
                  "outlinewidth": 0,
                  "ticks": ""
                 }
                },
                "type": "scatterternary"
               }
              ],
              "surface": [
               {
                "colorbar": {
                 "outlinewidth": 0,
                 "ticks": ""
                },
                "colorscale": [
                 [
                  0,
                  "#0d0887"
                 ],
                 [
                  0.1111111111111111,
                  "#46039f"
                 ],
                 [
                  0.2222222222222222,
                  "#7201a8"
                 ],
                 [
                  0.3333333333333333,
                  "#9c179e"
                 ],
                 [
                  0.4444444444444444,
                  "#bd3786"
                 ],
                 [
                  0.5555555555555556,
                  "#d8576b"
                 ],
                 [
                  0.6666666666666666,
                  "#ed7953"
                 ],
                 [
                  0.7777777777777778,
                  "#fb9f3a"
                 ],
                 [
                  0.8888888888888888,
                  "#fdca26"
                 ],
                 [
                  1,
                  "#f0f921"
                 ]
                ],
                "type": "surface"
               }
              ],
              "table": [
               {
                "cells": {
                 "fill": {
                  "color": "#EBF0F8"
                 },
                 "line": {
                  "color": "white"
                 }
                },
                "header": {
                 "fill": {
                  "color": "#C8D4E3"
                 },
                 "line": {
                  "color": "white"
                 }
                },
                "type": "table"
               }
              ]
             },
             "layout": {
              "annotationdefaults": {
               "arrowcolor": "#2a3f5f",
               "arrowhead": 0,
               "arrowwidth": 1
              },
              "coloraxis": {
               "colorbar": {
                "outlinewidth": 0,
                "ticks": ""
               }
              },
              "colorscale": {
               "diverging": [
                [
                 0,
                 "#8e0152"
                ],
                [
                 0.1,
                 "#c51b7d"
                ],
                [
                 0.2,
                 "#de77ae"
                ],
                [
                 0.3,
                 "#f1b6da"
                ],
                [
                 0.4,
                 "#fde0ef"
                ],
                [
                 0.5,
                 "#f7f7f7"
                ],
                [
                 0.6,
                 "#e6f5d0"
                ],
                [
                 0.7,
                 "#b8e186"
                ],
                [
                 0.8,
                 "#7fbc41"
                ],
                [
                 0.9,
                 "#4d9221"
                ],
                [
                 1,
                 "#276419"
                ]
               ],
               "sequential": [
                [
                 0,
                 "#0d0887"
                ],
                [
                 0.1111111111111111,
                 "#46039f"
                ],
                [
                 0.2222222222222222,
                 "#7201a8"
                ],
                [
                 0.3333333333333333,
                 "#9c179e"
                ],
                [
                 0.4444444444444444,
                 "#bd3786"
                ],
                [
                 0.5555555555555556,
                 "#d8576b"
                ],
                [
                 0.6666666666666666,
                 "#ed7953"
                ],
                [
                 0.7777777777777778,
                 "#fb9f3a"
                ],
                [
                 0.8888888888888888,
                 "#fdca26"
                ],
                [
                 1,
                 "#f0f921"
                ]
               ],
               "sequentialminus": [
                [
                 0,
                 "#0d0887"
                ],
                [
                 0.1111111111111111,
                 "#46039f"
                ],
                [
                 0.2222222222222222,
                 "#7201a8"
                ],
                [
                 0.3333333333333333,
                 "#9c179e"
                ],
                [
                 0.4444444444444444,
                 "#bd3786"
                ],
                [
                 0.5555555555555556,
                 "#d8576b"
                ],
                [
                 0.6666666666666666,
                 "#ed7953"
                ],
                [
                 0.7777777777777778,
                 "#fb9f3a"
                ],
                [
                 0.8888888888888888,
                 "#fdca26"
                ],
                [
                 1,
                 "#f0f921"
                ]
               ]
              },
              "colorway": [
               "#636efa",
               "#EF553B",
               "#00cc96",
               "#ab63fa",
               "#FFA15A",
               "#19d3f3",
               "#FF6692",
               "#B6E880",
               "#FF97FF",
               "#FECB52"
              ],
              "font": {
               "color": "#2a3f5f"
              },
              "geo": {
               "bgcolor": "white",
               "lakecolor": "white",
               "landcolor": "#E5ECF6",
               "showlakes": true,
               "showland": true,
               "subunitcolor": "white"
              },
              "hoverlabel": {
               "align": "left"
              },
              "hovermode": "closest",
              "mapbox": {
               "style": "light"
              },
              "paper_bgcolor": "white",
              "plot_bgcolor": "#E5ECF6",
              "polar": {
               "angularaxis": {
                "gridcolor": "white",
                "linecolor": "white",
                "ticks": ""
               },
               "bgcolor": "#E5ECF6",
               "radialaxis": {
                "gridcolor": "white",
                "linecolor": "white",
                "ticks": ""
               }
              },
              "scene": {
               "xaxis": {
                "backgroundcolor": "#E5ECF6",
                "gridcolor": "white",
                "gridwidth": 2,
                "linecolor": "white",
                "showbackground": true,
                "ticks": "",
                "zerolinecolor": "white"
               },
               "yaxis": {
                "backgroundcolor": "#E5ECF6",
                "gridcolor": "white",
                "gridwidth": 2,
                "linecolor": "white",
                "showbackground": true,
                "ticks": "",
                "zerolinecolor": "white"
               },
               "zaxis": {
                "backgroundcolor": "#E5ECF6",
                "gridcolor": "white",
                "gridwidth": 2,
                "linecolor": "white",
                "showbackground": true,
                "ticks": "",
                "zerolinecolor": "white"
               }
              },
              "shapedefaults": {
               "line": {
                "color": "#2a3f5f"
               }
              },
              "ternary": {
               "aaxis": {
                "gridcolor": "white",
                "linecolor": "white",
                "ticks": ""
               },
               "baxis": {
                "gridcolor": "white",
                "linecolor": "white",
                "ticks": ""
               },
               "bgcolor": "#E5ECF6",
               "caxis": {
                "gridcolor": "white",
                "linecolor": "white",
                "ticks": ""
               }
              },
              "title": {
               "x": 0.05
              },
              "xaxis": {
               "automargin": true,
               "gridcolor": "white",
               "linecolor": "white",
               "ticks": "",
               "title": {
                "standoff": 15
               },
               "zerolinecolor": "white",
               "zerolinewidth": 2
              },
              "yaxis": {
               "automargin": true,
               "gridcolor": "white",
               "linecolor": "white",
               "ticks": "",
               "title": {
                "standoff": 15
               },
               "zerolinecolor": "white",
               "zerolinewidth": 2
              }
             }
            }
           }
          },
          "text/html": "<div>\n        \n        \n            <div id=\"39d94120-2f2b-48b4-a70e-f3a04f7105f7\" class=\"plotly-graph-div\" style=\"height:525px; width:100%;\"></div>\n            <script type=\"text/javascript\">\n                require([\"plotly\"], function(Plotly) {\n                    window.PLOTLYENV=window.PLOTLYENV || {};\n                    \n                if (document.getElementById(\"39d94120-2f2b-48b4-a70e-f3a04f7105f7\")) {\n                    Plotly.newPlot(\n                        '39d94120-2f2b-48b4-a70e-f3a04f7105f7',\n                        [{\"lat\": [16.72, 16.72, 36.404, 36.404, 32.884, 32.884, 32.884, 2.58, 2.58, 2.58, 2.58, 44.43, 44.43, 44.43, 44.43, 44.43, 44.43, 37.7166666666667, 37.7166666666667, 35.9, -38.82, 43.722, 41.611, 46.2, 46.853, -22.2666666666667, 65.715, 63.983, 63.892, 64.083, 60.485, 32.761, 38.83, 31.934, 36.7833333333333, 35.361, 56.056, 19.421, 19.421, 40.821, 40.827, 37.748, 38.789, 15.13, 4.892, -1.467, 28.0], \"lon\": [-62.18, -62.18, 25.396, 25.396, 131.104, 131.104, 131.104, 98.83, 98.83, 98.83, 98.83, -110.67, -110.67, -110.67, -110.67, -110.67, -110.67, -118.883333333333, -118.883333333333, -106.533333333333, 176.0, -121.229, -121.554, -122.18, 121.76, -67.1666666666667, -16.728, -19.666, -19.122, -21.416, -152.742, 130.299, 140.7, 130.862, 139.366666666667, 138.728, 160.642, -155.287, -155.287, 14.426, 14.139, 14.999, 15.213, 120.35, -75.324, -78.442, -15.58], \"marker\": {\"size\": [215.44346900318837, 215.44346900318837, 464.15888336127784, 464.15888336127784, 843.4326653017491, 843.4326653017491, 843.4326653017491, 1409.4597464129781, 1409.4597464129781, 1409.4597464129781, 1409.4597464129781, 1348.0997498879249, 1348.0997498879249, 1348.0997498879249, 1348.0997498879249, 1348.0997498879249, 1348.0997498879249, 100.0, 100.0, 100.0, 100.0, 100.0, 100.0, 100.0, 100.0, 100.0, 100.0, 100.0, 100.0, 100.0, 100.0, 100.0, 100.0, 100.0, 100.0, 100.0, 100.0, 100.0, 100.0, 100.0, 100.0, 100.0, 100.0, 100.0, 100.0, 100.0, 100.0], \"sizemode\": \"area\"}, \"text\": [\"Soufriere Hills Volcano<br>Erupted volume: 10.0\", \"Soufriere Hills Volcano<br>Erupted volume: 10.0\", \"Santorini<br>Erupted volume: 100.0\", \"Santorini<br>Erupted volume: 100.0\", \"Aso Caldera<br>Erupted volume: 600.0\", \"Aso Caldera<br>Erupted volume: 600.0\", \"Aso Caldera<br>Erupted volume: 600.0\", \"Toba<br>Erupted volume: 2800.0\", \"Toba<br>Erupted volume: 2800.0\", \"Toba<br>Erupted volume: 2800.0\", \"Toba<br>Erupted volume: 2800.0\", \"Yellowstone<br>Erupted volume: 2450.0\", \"Yellowstone<br>Erupted volume: 2450.0\", \"Yellowstone<br>Erupted volume: 2450.0\", \"Yellowstone<br>Erupted volume: 2450.0\", \"Yellowstone<br>Erupted volume: 2450.0\", \"Yellowstone<br>Erupted volume: 2450.0\", \"Long Valley<br>Erupted volume: nan\", \"Long Valley<br>Erupted volume: nan\", \"Valles<br>Erupted volume: nan\", \"Taupo<br>Erupted volume: nan\", \"Newberry volcano<br>Erupted volume: nan\", \"Medicine Lake<br>Erupted volume: nan\", \"Mt. St. Helens<br>Erupted volume: nan\", \"Mt. Rainier<br>Erupted volume: nan\", \"Altiplano Puna<br>Erupted volume: nan\", \"Krafla<br>Erupted volume: nan\", \"Hekla<br>Erupted volume: nan\", \"Torfaj\\u00f6kull<br>Erupted volume: nan\", \"Hengill\\u2013Grensdalur<br>Erupted volume: nan\", \"Redoubt<br>Erupted volume: nan\", \"Unzen<br>Erupted volume: nan\", \"Onikobe<br>Erupted volume: nan\", \"Kirishima<br>Erupted volume: nan\", \"Nikko-Shirane<br>Erupted volume: nan\", \"Mt. Fuji<br>Erupted volume: nan\", \"Klyuchevskoy<br>Erupted volume: nan\", \"Halemaumau<br>Erupted volume: nan\", \"Kilauea<br>Erupted volume: nan\", \"Vesuvius<br>Erupted volume: nan\", \"Campi Flegrei<br>Erupted volume: nan\", \"Mt. Etna<br>Erupted volume: nan\", \"Stromboli<br>Erupted volume: nan\", \"Pinatubo<br>Erupted volume: nan\", \"Nevado del Ruiz<br>Erupted volume: nan\", \"Tungurahua<br>Erupted volume: nan\", \"Gran Canaria<br>Erupted volume: nan\"], \"type\": \"scattergeo\"}],\n                        {\"template\": {\"data\": {\"bar\": [{\"error_x\": {\"color\": \"#2a3f5f\"}, \"error_y\": {\"color\": \"#2a3f5f\"}, \"marker\": {\"line\": {\"color\": \"#E5ECF6\", \"width\": 0.5}}, \"type\": \"bar\"}], \"barpolar\": [{\"marker\": {\"line\": {\"color\": \"#E5ECF6\", \"width\": 0.5}}, \"type\": \"barpolar\"}], \"carpet\": [{\"aaxis\": {\"endlinecolor\": \"#2a3f5f\", \"gridcolor\": \"white\", \"linecolor\": \"white\", \"minorgridcolor\": \"white\", \"startlinecolor\": \"#2a3f5f\"}, \"baxis\": {\"endlinecolor\": \"#2a3f5f\", \"gridcolor\": \"white\", \"linecolor\": \"white\", \"minorgridcolor\": \"white\", \"startlinecolor\": \"#2a3f5f\"}, \"type\": \"carpet\"}], \"choropleth\": [{\"colorbar\": {\"outlinewidth\": 0, \"ticks\": \"\"}, \"type\": \"choropleth\"}], \"contour\": [{\"colorbar\": {\"outlinewidth\": 0, \"ticks\": \"\"}, \"colorscale\": [[0.0, \"#0d0887\"], [0.1111111111111111, \"#46039f\"], [0.2222222222222222, \"#7201a8\"], [0.3333333333333333, \"#9c179e\"], [0.4444444444444444, \"#bd3786\"], [0.5555555555555556, \"#d8576b\"], [0.6666666666666666, \"#ed7953\"], [0.7777777777777778, \"#fb9f3a\"], [0.8888888888888888, \"#fdca26\"], [1.0, \"#f0f921\"]], \"type\": \"contour\"}], \"contourcarpet\": [{\"colorbar\": {\"outlinewidth\": 0, \"ticks\": \"\"}, \"type\": \"contourcarpet\"}], \"heatmap\": [{\"colorbar\": {\"outlinewidth\": 0, \"ticks\": \"\"}, \"colorscale\": [[0.0, \"#0d0887\"], [0.1111111111111111, \"#46039f\"], [0.2222222222222222, \"#7201a8\"], [0.3333333333333333, \"#9c179e\"], [0.4444444444444444, \"#bd3786\"], [0.5555555555555556, \"#d8576b\"], [0.6666666666666666, \"#ed7953\"], [0.7777777777777778, \"#fb9f3a\"], [0.8888888888888888, \"#fdca26\"], [1.0, \"#f0f921\"]], \"type\": \"heatmap\"}], \"heatmapgl\": [{\"colorbar\": {\"outlinewidth\": 0, \"ticks\": \"\"}, \"colorscale\": [[0.0, \"#0d0887\"], [0.1111111111111111, \"#46039f\"], [0.2222222222222222, \"#7201a8\"], [0.3333333333333333, \"#9c179e\"], [0.4444444444444444, \"#bd3786\"], [0.5555555555555556, \"#d8576b\"], [0.6666666666666666, \"#ed7953\"], [0.7777777777777778, \"#fb9f3a\"], [0.8888888888888888, \"#fdca26\"], [1.0, \"#f0f921\"]], \"type\": \"heatmapgl\"}], \"histogram\": [{\"marker\": {\"colorbar\": {\"outlinewidth\": 0, \"ticks\": \"\"}}, \"type\": \"histogram\"}], \"histogram2d\": [{\"colorbar\": {\"outlinewidth\": 0, \"ticks\": \"\"}, \"colorscale\": [[0.0, \"#0d0887\"], [0.1111111111111111, \"#46039f\"], [0.2222222222222222, \"#7201a8\"], [0.3333333333333333, \"#9c179e\"], [0.4444444444444444, \"#bd3786\"], [0.5555555555555556, \"#d8576b\"], [0.6666666666666666, \"#ed7953\"], [0.7777777777777778, \"#fb9f3a\"], [0.8888888888888888, \"#fdca26\"], [1.0, \"#f0f921\"]], \"type\": \"histogram2d\"}], \"histogram2dcontour\": [{\"colorbar\": {\"outlinewidth\": 0, \"ticks\": \"\"}, \"colorscale\": [[0.0, \"#0d0887\"], [0.1111111111111111, \"#46039f\"], [0.2222222222222222, \"#7201a8\"], [0.3333333333333333, \"#9c179e\"], [0.4444444444444444, \"#bd3786\"], [0.5555555555555556, \"#d8576b\"], [0.6666666666666666, \"#ed7953\"], [0.7777777777777778, \"#fb9f3a\"], [0.8888888888888888, \"#fdca26\"], [1.0, \"#f0f921\"]], \"type\": \"histogram2dcontour\"}], \"mesh3d\": [{\"colorbar\": {\"outlinewidth\": 0, \"ticks\": \"\"}, \"type\": \"mesh3d\"}], \"parcoords\": [{\"line\": {\"colorbar\": {\"outlinewidth\": 0, \"ticks\": \"\"}}, \"type\": \"parcoords\"}], \"pie\": [{\"automargin\": true, \"type\": \"pie\"}], \"scatter\": [{\"marker\": {\"colorbar\": {\"outlinewidth\": 0, \"ticks\": \"\"}}, \"type\": \"scatter\"}], \"scatter3d\": [{\"line\": {\"colorbar\": {\"outlinewidth\": 0, \"ticks\": \"\"}}, \"marker\": {\"colorbar\": {\"outlinewidth\": 0, \"ticks\": \"\"}}, \"type\": \"scatter3d\"}], \"scattercarpet\": [{\"marker\": {\"colorbar\": {\"outlinewidth\": 0, \"ticks\": \"\"}}, \"type\": \"scattercarpet\"}], \"scattergeo\": [{\"marker\": {\"colorbar\": {\"outlinewidth\": 0, \"ticks\": \"\"}}, \"type\": \"scattergeo\"}], \"scattergl\": [{\"marker\": {\"colorbar\": {\"outlinewidth\": 0, \"ticks\": \"\"}}, \"type\": \"scattergl\"}], \"scattermapbox\": [{\"marker\": {\"colorbar\": {\"outlinewidth\": 0, \"ticks\": \"\"}}, \"type\": \"scattermapbox\"}], \"scatterpolar\": [{\"marker\": {\"colorbar\": {\"outlinewidth\": 0, \"ticks\": \"\"}}, \"type\": \"scatterpolar\"}], \"scatterpolargl\": [{\"marker\": {\"colorbar\": {\"outlinewidth\": 0, \"ticks\": \"\"}}, \"type\": \"scatterpolargl\"}], \"scatterternary\": [{\"marker\": {\"colorbar\": {\"outlinewidth\": 0, \"ticks\": \"\"}}, \"type\": \"scatterternary\"}], \"surface\": [{\"colorbar\": {\"outlinewidth\": 0, \"ticks\": \"\"}, \"colorscale\": [[0.0, \"#0d0887\"], [0.1111111111111111, \"#46039f\"], [0.2222222222222222, \"#7201a8\"], [0.3333333333333333, \"#9c179e\"], [0.4444444444444444, \"#bd3786\"], [0.5555555555555556, \"#d8576b\"], [0.6666666666666666, \"#ed7953\"], [0.7777777777777778, \"#fb9f3a\"], [0.8888888888888888, \"#fdca26\"], [1.0, \"#f0f921\"]], \"type\": \"surface\"}], \"table\": [{\"cells\": {\"fill\": {\"color\": \"#EBF0F8\"}, \"line\": {\"color\": \"white\"}}, \"header\": {\"fill\": {\"color\": \"#C8D4E3\"}, \"line\": {\"color\": \"white\"}}, \"type\": \"table\"}]}, \"layout\": {\"annotationdefaults\": {\"arrowcolor\": \"#2a3f5f\", \"arrowhead\": 0, \"arrowwidth\": 1}, \"coloraxis\": {\"colorbar\": {\"outlinewidth\": 0, \"ticks\": \"\"}}, \"colorscale\": {\"diverging\": [[0, \"#8e0152\"], [0.1, \"#c51b7d\"], [0.2, \"#de77ae\"], [0.3, \"#f1b6da\"], [0.4, \"#fde0ef\"], [0.5, \"#f7f7f7\"], [0.6, \"#e6f5d0\"], [0.7, \"#b8e186\"], [0.8, \"#7fbc41\"], [0.9, \"#4d9221\"], [1, \"#276419\"]], \"sequential\": [[0.0, \"#0d0887\"], [0.1111111111111111, \"#46039f\"], [0.2222222222222222, \"#7201a8\"], [0.3333333333333333, \"#9c179e\"], [0.4444444444444444, \"#bd3786\"], [0.5555555555555556, \"#d8576b\"], [0.6666666666666666, \"#ed7953\"], [0.7777777777777778, \"#fb9f3a\"], [0.8888888888888888, \"#fdca26\"], [1.0, \"#f0f921\"]], \"sequentialminus\": [[0.0, \"#0d0887\"], [0.1111111111111111, \"#46039f\"], [0.2222222222222222, \"#7201a8\"], [0.3333333333333333, \"#9c179e\"], [0.4444444444444444, \"#bd3786\"], [0.5555555555555556, \"#d8576b\"], [0.6666666666666666, \"#ed7953\"], [0.7777777777777778, \"#fb9f3a\"], [0.8888888888888888, \"#fdca26\"], [1.0, \"#f0f921\"]]}, \"colorway\": [\"#636efa\", \"#EF553B\", \"#00cc96\", \"#ab63fa\", \"#FFA15A\", \"#19d3f3\", \"#FF6692\", \"#B6E880\", \"#FF97FF\", \"#FECB52\"], \"font\": {\"color\": \"#2a3f5f\"}, \"geo\": {\"bgcolor\": \"white\", \"lakecolor\": \"white\", \"landcolor\": \"#E5ECF6\", \"showlakes\": true, \"showland\": true, \"subunitcolor\": \"white\"}, \"hoverlabel\": {\"align\": \"left\"}, \"hovermode\": \"closest\", \"mapbox\": {\"style\": \"light\"}, \"paper_bgcolor\": \"white\", \"plot_bgcolor\": \"#E5ECF6\", \"polar\": {\"angularaxis\": {\"gridcolor\": \"white\", \"linecolor\": \"white\", \"ticks\": \"\"}, \"bgcolor\": \"#E5ECF6\", \"radialaxis\": {\"gridcolor\": \"white\", \"linecolor\": \"white\", \"ticks\": \"\"}}, \"scene\": {\"xaxis\": {\"backgroundcolor\": \"#E5ECF6\", \"gridcolor\": \"white\", \"gridwidth\": 2, \"linecolor\": \"white\", \"showbackground\": true, \"ticks\": \"\", \"zerolinecolor\": \"white\"}, \"yaxis\": {\"backgroundcolor\": \"#E5ECF6\", \"gridcolor\": \"white\", \"gridwidth\": 2, \"linecolor\": \"white\", \"showbackground\": true, \"ticks\": \"\", \"zerolinecolor\": \"white\"}, \"zaxis\": {\"backgroundcolor\": \"#E5ECF6\", \"gridcolor\": \"white\", \"gridwidth\": 2, \"linecolor\": \"white\", \"showbackground\": true, \"ticks\": \"\", \"zerolinecolor\": \"white\"}}, \"shapedefaults\": {\"line\": {\"color\": \"#2a3f5f\"}}, \"ternary\": {\"aaxis\": {\"gridcolor\": \"white\", \"linecolor\": \"white\", \"ticks\": \"\"}, \"baxis\": {\"gridcolor\": \"white\", \"linecolor\": \"white\", \"ticks\": \"\"}, \"bgcolor\": \"#E5ECF6\", \"caxis\": {\"gridcolor\": \"white\", \"linecolor\": \"white\", \"ticks\": \"\"}}, \"title\": {\"x\": 0.05}, \"xaxis\": {\"automargin\": true, \"gridcolor\": \"white\", \"linecolor\": \"white\", \"ticks\": \"\", \"title\": {\"standoff\": 15}, \"zerolinecolor\": \"white\", \"zerolinewidth\": 2}, \"yaxis\": {\"automargin\": true, \"gridcolor\": \"white\", \"linecolor\": \"white\", \"ticks\": \"\", \"title\": {\"standoff\": 15}, \"zerolinecolor\": \"white\", \"zerolinewidth\": 2}}}},\n                        {\"responsive\": true}\n                    ).then(function(){\n                            \nvar gd = document.getElementById('39d94120-2f2b-48b4-a70e-f3a04f7105f7');\nvar x = new MutationObserver(function (mutations, observer) {{\n        var display = window.getComputedStyle(gd).display;\n        if (!display || display === 'none') {{\n            console.log([gd, 'removed!']);\n            Plotly.purge(gd);\n            observer.disconnect();\n        }}\n}});\n\n// Listen for the removal of the full notebook cells\nvar notebookContainer = gd.closest('#notebook-container');\nif (notebookContainer) {{\n    x.observe(notebookContainer, {childList: true});\n}}\n\n// Listen for the clearing of the current output cell\nvar outputEl = gd.closest('.output');\nif (outputEl) {{\n    x.observe(outputEl, {childList: true});\n}}\n\n                        })\n                };\n                });\n            </script>\n        </div>"
         },
         "metadata": {},
         "output_type": "display_data"
        }
       ]
      }
     },
     "c6c580a0261e44758d424b6b0ed5443a": {
      "model_module": "@jupyter-widgets/base",
      "model_module_version": "1.2.0",
      "model_name": "LayoutModel",
      "state": {}
     },
     "c7973f7836bf4466a24a1019ad42c297": {
      "model_module": "@jupyter-widgets/controls",
      "model_module_version": "1.5.0",
      "model_name": "DropdownModel",
      "state": {
       "_options_labels": [
        "Erupted volume",
        "Anomaly volume"
       ],
       "description": "key",
       "index": 1,
       "layout": "IPY_MODEL_eec91c6a76d54a348a25dbc99f906e13",
       "style": "IPY_MODEL_78b610326cef41d393a02c4d0fac4d7f"
      }
     },
     "c7fe3cedf5ec491bad1b1082955b492a": {
      "model_module": "@jupyter-widgets/base",
      "model_module_version": "1.2.0",
      "model_name": "LayoutModel",
      "state": {}
     },
     "c8781b884e8c4221acab36ff1b362d1a": {
      "model_module": "@jupyter-widgets/controls",
      "model_module_version": "1.5.0",
      "model_name": "DescriptionStyleModel",
      "state": {
       "description_width": ""
      }
     },
     "ca4f0f2c332c4263b3e1624ab3842807": {
      "model_module": "@jupyter-widgets/controls",
      "model_module_version": "1.5.0",
      "model_name": "VBoxModel",
      "state": {
       "_dom_classes": [
        "widget-interact"
       ],
       "children": [
        "IPY_MODEL_5f3e5511c9ea4d43bf0579a4510bc246",
        "IPY_MODEL_408a7d1d03ea44a7933e95765eb4392c"
       ],
       "layout": "IPY_MODEL_2aaec7f2178b41aa87b4c37cedecd874"
      }
     },
     "ca97d48351a14b4bb30bfce10526ca8b": {
      "model_module": "@jupyter-widgets/base",
      "model_module_version": "1.2.0",
      "model_name": "LayoutModel",
      "state": {}
     },
     "cbf8c755f73946538aa45eb43fbca674": {
      "model_module": "@jupyter-widgets/output",
      "model_module_version": "1.0.0",
      "model_name": "OutputModel",
      "state": {
       "layout": "IPY_MODEL_358eed04f04c4e158c0e4e67663e4780",
       "outputs": [
        {
         "data": {
          "application/vnd.plotly.v1+json": {
           "config": {
            "plotlyServerURL": "https://plot.ly"
           },
           "data": [
            {
             "lat": [
              16.72,
              16.72,
              36.404,
              36.404,
              32.884,
              32.884,
              32.884,
              2.58,
              2.58,
              2.58,
              2.58,
              44.43,
              44.43,
              44.43,
              44.43,
              44.43,
              44.43,
              37.7166666666667,
              37.7166666666667,
              35.9,
              -38.82,
              43.722,
              41.611,
              46.2,
              46.853,
              -22.2666666666667,
              65.715,
              63.983,
              63.892,
              64.083,
              60.485,
              32.761,
              38.83,
              31.934,
              36.7833333333333,
              35.361,
              56.056,
              19.421,
              19.421,
              40.821,
              40.827,
              37.748,
              38.789,
              15.13,
              4.892,
              -1.467,
              28
             ],
             "lon": [
              -62.18,
              -62.18,
              25.396,
              25.396,
              131.104,
              131.104,
              131.104,
              98.83,
              98.83,
              98.83,
              98.83,
              -110.67,
              -110.67,
              -110.67,
              -110.67,
              -110.67,
              -110.67,
              -118.883333333333,
              -118.883333333333,
              -106.533333333333,
              176,
              -121.229,
              -121.554,
              -122.18,
              -121.76,
              -67.1666666666667,
              -16.728,
              -19.666,
              -19.122,
              -21.416,
              -152.742,
              130.299,
              140.7,
              130.862,
              139.366666666667,
              138.728,
              160.642,
              -155.287,
              -155.287,
              14.426,
              14.139,
              14.999,
              15.213,
              120.35,
              -75.324,
              -78.442,
              -15.58
             ],
             "marker": {
              "size": [
               215.44346900318837,
               215.44346900318837,
               464.15888336127784,
               464.15888336127784,
               843.4326653017491,
               843.4326653017491,
               843.4326653017491,
               1409.4597464129781,
               1409.4597464129781,
               1409.4597464129781,
               1409.4597464129781,
               1348.0997498879249,
               1348.0997498879249,
               1348.0997498879249,
               1348.0997498879249,
               1348.0997498879249,
               1348.0997498879249,
               100,
               100,
               100,
               100,
               100,
               100,
               100,
               100,
               100,
               100,
               100,
               100,
               100,
               100,
               100,
               100,
               100,
               100,
               100,
               100,
               100,
               100,
               100,
               100,
               100,
               100,
               100,
               100,
               100,
               100
              ],
              "sizemode": "area"
             },
             "text": [
              "Soufriere Hills Volcano<br>Erupted volume: 10.0<br><br>References:<br>Paulatto et al., 2012",
              "Soufriere Hills Volcano<br>Erupted volume: 10.0<br><br>References:<br>Paulatto et al., 2019",
              "Santorini<br>Erupted volume: 100.0<br><br>References:<br>McVey et al., 2019",
              null,
              "Aso Caldera<br>Erupted volume: 600.0<br><br>References:<br>Sudo & Kong, 2001",
              "Aso Caldera<br>Erupted volume: 600.0<br><br>References:<br>Huang et al., 2018",
              "Aso Caldera<br>Erupted volume: 600.0<br><br>References:<br>Abe et al., 2017",
              "Toba<br>Erupted volume: 2800.0<br><br>References:<br>Koulakov et al., 2009",
              "Toba<br>Erupted volume: 2800.0<br><br>References:<br>Mastruryono et al., 2001",
              "Toba<br>Erupted volume: 2800.0<br><br>References:<br>Jaxybulatov et al., 2014",
              "Toba<br>Erupted volume: 2800.0<br><br>References:<br>Stankiewicz et al., 2010",
              "Yellowstone<br>Erupted volume: 2450.0<br><br>References:<br>(Iyer et al., 1981, Benz and Smith, 1984, Clawson et al., 1989, Miller and Smith, 1999, Husen and Smith, 2004, Yuan and Dueker, 2005)",
              "Yellowstone<br>Erupted volume: 2450.0<br><br>References:<br>Chu et al., 2010",
              "Yellowstone<br>Erupted volume: 2450.0<br><br>References:<br>Farrell et al., 2014",
              "Yellowstone<br>Erupted volume: 2450.0<br><br>References:<br>Huang et al., 2015",
              "Yellowstone<br>Erupted volume: 2450.0<br><br>References:<br>Miller and Smith, 1999",
              "Yellowstone<br>Erupted volume: 2450.0<br><br>References:<br>Jiang, 2018",
              "Long Valley<br>Erupted volume: nan<br><br>References:<br>(Peppin, 1985, Dawson et al., 1987, Hauksson, 1988, Dawson et al., 1990, Sanders, 1993a, Sanders, 1993b, Sanders et al., 1994, Steck, 1995, Sanders et al., 1995, Weiland et al., 1995, O'Doherty et al., 1997)",
              "Long Valley<br>Erupted volume: nan<br><br>References:<br>Jiang, 2018",
              "Valles<br>Erupted volume: nan<br><br>References:<br>Lutter et al. (1995)",
              "Taupo<br>Erupted volume: nan<br><br>References:<br>Sherburn et al. (2003)",
              "Newberry volcano<br>Erupted volume: nan<br><br>References:<br>(Achauer et al., 1988, Stauber et al., 1988)",
              "Medicine Lake<br>Erupted volume: nan<br><br>References:<br>(Evans and Zucca, 1988, Lees and Crosson, 1989, Ritter and Evans, 1997)",
              "Mt. St. Helens<br>Erupted volume: nan<br><br>References:<br>Lees (1992)",
              "Mt. Rainier<br>Erupted volume: nan<br><br>References:<br>(Lees and Crosson, 1990, Moran et al., 1999)",
              null,
              "Krafla<br>Erupted volume: nan<br><br>References:<br>(Einarsson, 1978, Foulger and Arnott, 1993)",
              "Hekla<br>Erupted volume: nan<br><br>References:<br>Soosalu and Einarsson (2004)",
              "Torfajökull<br>Erupted volume: nan<br><br>References:<br>Soosalu and Einarsson (2004)",
              "Hengill–Grensdalur<br>Erupted volume: nan<br><br>References:<br>Toomey and Foulger (1989)",
              "Redoubt<br>Erupted volume: nan<br><br>References:<br>Benz et al. (1996)",
              "Unzen<br>Erupted volume: nan<br><br>References:<br>Ohmi and Lees (1995)",
              "Onikobe<br>Erupted volume: nan<br><br>References:<br>Nakajima and Hasegawa (2003)",
              "Kirishima<br>Erupted volume: nan<br><br>References:<br>Yamamoto and Ida (1994)",
              "Nikko-Shirane<br>Erupted volume: nan<br><br>References:<br>Horiuchi et al. (1997)",
              "Mt. Fuji<br>Erupted volume: nan<br><br>References:<br>Nakamichi (2005)",
              "Klyuchevskoy<br>Erupted volume: nan<br><br>References:<br>(Anosov et al., 1978, Ozerov, 2000)",
              "Halemaumau<br>Erupted volume: nan<br><br>References:<br>Rowan and Clayton (1993)",
              "Kilauea<br>Erupted volume: nan<br><br>References:<br>(Thurber, 1984, Rowan and Clayton, 1993, Okubo et al., 1997, Haslinger et al., 2001)",
              "Vesuvius<br>Erupted volume: nan<br><br>References:<br>(De Natale et al., 1998, Zollo et al., 1998)",
              "Campi Flegrei<br>Erupted volume: nan<br><br>References:<br>1988; Aster et al., 1992",
              "Mt. Etna<br>Erupted volume: nan<br><br>References:<br>(Cardaci et al., 1993, Villasenor et al., 1998, Laigle and Hirn, 1999, Chiarabba et al., 2000, Aloisi et al., 2002)",
              null,
              "Pinatubo<br>Erupted volume: nan<br><br>References:<br>Mori et al. (1996)",
              "Nevado del Ruiz<br>Erupted volume: nan<br><br>References:<br>Londoño and Sudo (2003)",
              "Tungurahua<br>Erupted volume: nan<br><br>References:<br>Molina et al. (2005)",
              "Gran Canaria<br>Erupted volume: nan<br><br>References:<br>Krastel and Schmincke (2002)"
             ],
             "type": "scattergeo"
            }
           ],
           "layout": {
            "height": 1000,
            "template": {
             "data": {
              "bar": [
               {
                "error_x": {
                 "color": "#2a3f5f"
                },
                "error_y": {
                 "color": "#2a3f5f"
                },
                "marker": {
                 "line": {
                  "color": "#E5ECF6",
                  "width": 0.5
                 }
                },
                "type": "bar"
               }
              ],
              "barpolar": [
               {
                "marker": {
                 "line": {
                  "color": "#E5ECF6",
                  "width": 0.5
                 }
                },
                "type": "barpolar"
               }
              ],
              "carpet": [
               {
                "aaxis": {
                 "endlinecolor": "#2a3f5f",
                 "gridcolor": "white",
                 "linecolor": "white",
                 "minorgridcolor": "white",
                 "startlinecolor": "#2a3f5f"
                },
                "baxis": {
                 "endlinecolor": "#2a3f5f",
                 "gridcolor": "white",
                 "linecolor": "white",
                 "minorgridcolor": "white",
                 "startlinecolor": "#2a3f5f"
                },
                "type": "carpet"
               }
              ],
              "choropleth": [
               {
                "colorbar": {
                 "outlinewidth": 0,
                 "ticks": ""
                },
                "type": "choropleth"
               }
              ],
              "contour": [
               {
                "colorbar": {
                 "outlinewidth": 0,
                 "ticks": ""
                },
                "colorscale": [
                 [
                  0,
                  "#0d0887"
                 ],
                 [
                  0.1111111111111111,
                  "#46039f"
                 ],
                 [
                  0.2222222222222222,
                  "#7201a8"
                 ],
                 [
                  0.3333333333333333,
                  "#9c179e"
                 ],
                 [
                  0.4444444444444444,
                  "#bd3786"
                 ],
                 [
                  0.5555555555555556,
                  "#d8576b"
                 ],
                 [
                  0.6666666666666666,
                  "#ed7953"
                 ],
                 [
                  0.7777777777777778,
                  "#fb9f3a"
                 ],
                 [
                  0.8888888888888888,
                  "#fdca26"
                 ],
                 [
                  1,
                  "#f0f921"
                 ]
                ],
                "type": "contour"
               }
              ],
              "contourcarpet": [
               {
                "colorbar": {
                 "outlinewidth": 0,
                 "ticks": ""
                },
                "type": "contourcarpet"
               }
              ],
              "heatmap": [
               {
                "colorbar": {
                 "outlinewidth": 0,
                 "ticks": ""
                },
                "colorscale": [
                 [
                  0,
                  "#0d0887"
                 ],
                 [
                  0.1111111111111111,
                  "#46039f"
                 ],
                 [
                  0.2222222222222222,
                  "#7201a8"
                 ],
                 [
                  0.3333333333333333,
                  "#9c179e"
                 ],
                 [
                  0.4444444444444444,
                  "#bd3786"
                 ],
                 [
                  0.5555555555555556,
                  "#d8576b"
                 ],
                 [
                  0.6666666666666666,
                  "#ed7953"
                 ],
                 [
                  0.7777777777777778,
                  "#fb9f3a"
                 ],
                 [
                  0.8888888888888888,
                  "#fdca26"
                 ],
                 [
                  1,
                  "#f0f921"
                 ]
                ],
                "type": "heatmap"
               }
              ],
              "heatmapgl": [
               {
                "colorbar": {
                 "outlinewidth": 0,
                 "ticks": ""
                },
                "colorscale": [
                 [
                  0,
                  "#0d0887"
                 ],
                 [
                  0.1111111111111111,
                  "#46039f"
                 ],
                 [
                  0.2222222222222222,
                  "#7201a8"
                 ],
                 [
                  0.3333333333333333,
                  "#9c179e"
                 ],
                 [
                  0.4444444444444444,
                  "#bd3786"
                 ],
                 [
                  0.5555555555555556,
                  "#d8576b"
                 ],
                 [
                  0.6666666666666666,
                  "#ed7953"
                 ],
                 [
                  0.7777777777777778,
                  "#fb9f3a"
                 ],
                 [
                  0.8888888888888888,
                  "#fdca26"
                 ],
                 [
                  1,
                  "#f0f921"
                 ]
                ],
                "type": "heatmapgl"
               }
              ],
              "histogram": [
               {
                "marker": {
                 "colorbar": {
                  "outlinewidth": 0,
                  "ticks": ""
                 }
                },
                "type": "histogram"
               }
              ],
              "histogram2d": [
               {
                "colorbar": {
                 "outlinewidth": 0,
                 "ticks": ""
                },
                "colorscale": [
                 [
                  0,
                  "#0d0887"
                 ],
                 [
                  0.1111111111111111,
                  "#46039f"
                 ],
                 [
                  0.2222222222222222,
                  "#7201a8"
                 ],
                 [
                  0.3333333333333333,
                  "#9c179e"
                 ],
                 [
                  0.4444444444444444,
                  "#bd3786"
                 ],
                 [
                  0.5555555555555556,
                  "#d8576b"
                 ],
                 [
                  0.6666666666666666,
                  "#ed7953"
                 ],
                 [
                  0.7777777777777778,
                  "#fb9f3a"
                 ],
                 [
                  0.8888888888888888,
                  "#fdca26"
                 ],
                 [
                  1,
                  "#f0f921"
                 ]
                ],
                "type": "histogram2d"
               }
              ],
              "histogram2dcontour": [
               {
                "colorbar": {
                 "outlinewidth": 0,
                 "ticks": ""
                },
                "colorscale": [
                 [
                  0,
                  "#0d0887"
                 ],
                 [
                  0.1111111111111111,
                  "#46039f"
                 ],
                 [
                  0.2222222222222222,
                  "#7201a8"
                 ],
                 [
                  0.3333333333333333,
                  "#9c179e"
                 ],
                 [
                  0.4444444444444444,
                  "#bd3786"
                 ],
                 [
                  0.5555555555555556,
                  "#d8576b"
                 ],
                 [
                  0.6666666666666666,
                  "#ed7953"
                 ],
                 [
                  0.7777777777777778,
                  "#fb9f3a"
                 ],
                 [
                  0.8888888888888888,
                  "#fdca26"
                 ],
                 [
                  1,
                  "#f0f921"
                 ]
                ],
                "type": "histogram2dcontour"
               }
              ],
              "mesh3d": [
               {
                "colorbar": {
                 "outlinewidth": 0,
                 "ticks": ""
                },
                "type": "mesh3d"
               }
              ],
              "parcoords": [
               {
                "line": {
                 "colorbar": {
                  "outlinewidth": 0,
                  "ticks": ""
                 }
                },
                "type": "parcoords"
               }
              ],
              "pie": [
               {
                "automargin": true,
                "type": "pie"
               }
              ],
              "scatter": [
               {
                "marker": {
                 "colorbar": {
                  "outlinewidth": 0,
                  "ticks": ""
                 }
                },
                "type": "scatter"
               }
              ],
              "scatter3d": [
               {
                "line": {
                 "colorbar": {
                  "outlinewidth": 0,
                  "ticks": ""
                 }
                },
                "marker": {
                 "colorbar": {
                  "outlinewidth": 0,
                  "ticks": ""
                 }
                },
                "type": "scatter3d"
               }
              ],
              "scattercarpet": [
               {
                "marker": {
                 "colorbar": {
                  "outlinewidth": 0,
                  "ticks": ""
                 }
                },
                "type": "scattercarpet"
               }
              ],
              "scattergeo": [
               {
                "marker": {
                 "colorbar": {
                  "outlinewidth": 0,
                  "ticks": ""
                 }
                },
                "type": "scattergeo"
               }
              ],
              "scattergl": [
               {
                "marker": {
                 "colorbar": {
                  "outlinewidth": 0,
                  "ticks": ""
                 }
                },
                "type": "scattergl"
               }
              ],
              "scattermapbox": [
               {
                "marker": {
                 "colorbar": {
                  "outlinewidth": 0,
                  "ticks": ""
                 }
                },
                "type": "scattermapbox"
               }
              ],
              "scatterpolar": [
               {
                "marker": {
                 "colorbar": {
                  "outlinewidth": 0,
                  "ticks": ""
                 }
                },
                "type": "scatterpolar"
               }
              ],
              "scatterpolargl": [
               {
                "marker": {
                 "colorbar": {
                  "outlinewidth": 0,
                  "ticks": ""
                 }
                },
                "type": "scatterpolargl"
               }
              ],
              "scatterternary": [
               {
                "marker": {
                 "colorbar": {
                  "outlinewidth": 0,
                  "ticks": ""
                 }
                },
                "type": "scatterternary"
               }
              ],
              "surface": [
               {
                "colorbar": {
                 "outlinewidth": 0,
                 "ticks": ""
                },
                "colorscale": [
                 [
                  0,
                  "#0d0887"
                 ],
                 [
                  0.1111111111111111,
                  "#46039f"
                 ],
                 [
                  0.2222222222222222,
                  "#7201a8"
                 ],
                 [
                  0.3333333333333333,
                  "#9c179e"
                 ],
                 [
                  0.4444444444444444,
                  "#bd3786"
                 ],
                 [
                  0.5555555555555556,
                  "#d8576b"
                 ],
                 [
                  0.6666666666666666,
                  "#ed7953"
                 ],
                 [
                  0.7777777777777778,
                  "#fb9f3a"
                 ],
                 [
                  0.8888888888888888,
                  "#fdca26"
                 ],
                 [
                  1,
                  "#f0f921"
                 ]
                ],
                "type": "surface"
               }
              ],
              "table": [
               {
                "cells": {
                 "fill": {
                  "color": "#EBF0F8"
                 },
                 "line": {
                  "color": "white"
                 }
                },
                "header": {
                 "fill": {
                  "color": "#C8D4E3"
                 },
                 "line": {
                  "color": "white"
                 }
                },
                "type": "table"
               }
              ]
             },
             "layout": {
              "annotationdefaults": {
               "arrowcolor": "#2a3f5f",
               "arrowhead": 0,
               "arrowwidth": 1
              },
              "coloraxis": {
               "colorbar": {
                "outlinewidth": 0,
                "ticks": ""
               }
              },
              "colorscale": {
               "diverging": [
                [
                 0,
                 "#8e0152"
                ],
                [
                 0.1,
                 "#c51b7d"
                ],
                [
                 0.2,
                 "#de77ae"
                ],
                [
                 0.3,
                 "#f1b6da"
                ],
                [
                 0.4,
                 "#fde0ef"
                ],
                [
                 0.5,
                 "#f7f7f7"
                ],
                [
                 0.6,
                 "#e6f5d0"
                ],
                [
                 0.7,
                 "#b8e186"
                ],
                [
                 0.8,
                 "#7fbc41"
                ],
                [
                 0.9,
                 "#4d9221"
                ],
                [
                 1,
                 "#276419"
                ]
               ],
               "sequential": [
                [
                 0,
                 "#0d0887"
                ],
                [
                 0.1111111111111111,
                 "#46039f"
                ],
                [
                 0.2222222222222222,
                 "#7201a8"
                ],
                [
                 0.3333333333333333,
                 "#9c179e"
                ],
                [
                 0.4444444444444444,
                 "#bd3786"
                ],
                [
                 0.5555555555555556,
                 "#d8576b"
                ],
                [
                 0.6666666666666666,
                 "#ed7953"
                ],
                [
                 0.7777777777777778,
                 "#fb9f3a"
                ],
                [
                 0.8888888888888888,
                 "#fdca26"
                ],
                [
                 1,
                 "#f0f921"
                ]
               ],
               "sequentialminus": [
                [
                 0,
                 "#0d0887"
                ],
                [
                 0.1111111111111111,
                 "#46039f"
                ],
                [
                 0.2222222222222222,
                 "#7201a8"
                ],
                [
                 0.3333333333333333,
                 "#9c179e"
                ],
                [
                 0.4444444444444444,
                 "#bd3786"
                ],
                [
                 0.5555555555555556,
                 "#d8576b"
                ],
                [
                 0.6666666666666666,
                 "#ed7953"
                ],
                [
                 0.7777777777777778,
                 "#fb9f3a"
                ],
                [
                 0.8888888888888888,
                 "#fdca26"
                ],
                [
                 1,
                 "#f0f921"
                ]
               ]
              },
              "colorway": [
               "#636efa",
               "#EF553B",
               "#00cc96",
               "#ab63fa",
               "#FFA15A",
               "#19d3f3",
               "#FF6692",
               "#B6E880",
               "#FF97FF",
               "#FECB52"
              ],
              "font": {
               "color": "#2a3f5f"
              },
              "geo": {
               "bgcolor": "white",
               "lakecolor": "white",
               "landcolor": "#E5ECF6",
               "showlakes": true,
               "showland": true,
               "subunitcolor": "white"
              },
              "hoverlabel": {
               "align": "left"
              },
              "hovermode": "closest",
              "mapbox": {
               "style": "light"
              },
              "paper_bgcolor": "white",
              "plot_bgcolor": "#E5ECF6",
              "polar": {
               "angularaxis": {
                "gridcolor": "white",
                "linecolor": "white",
                "ticks": ""
               },
               "bgcolor": "#E5ECF6",
               "radialaxis": {
                "gridcolor": "white",
                "linecolor": "white",
                "ticks": ""
               }
              },
              "scene": {
               "xaxis": {
                "backgroundcolor": "#E5ECF6",
                "gridcolor": "white",
                "gridwidth": 2,
                "linecolor": "white",
                "showbackground": true,
                "ticks": "",
                "zerolinecolor": "white"
               },
               "yaxis": {
                "backgroundcolor": "#E5ECF6",
                "gridcolor": "white",
                "gridwidth": 2,
                "linecolor": "white",
                "showbackground": true,
                "ticks": "",
                "zerolinecolor": "white"
               },
               "zaxis": {
                "backgroundcolor": "#E5ECF6",
                "gridcolor": "white",
                "gridwidth": 2,
                "linecolor": "white",
                "showbackground": true,
                "ticks": "",
                "zerolinecolor": "white"
               }
              },
              "shapedefaults": {
               "line": {
                "color": "#2a3f5f"
               }
              },
              "ternary": {
               "aaxis": {
                "gridcolor": "white",
                "linecolor": "white",
                "ticks": ""
               },
               "baxis": {
                "gridcolor": "white",
                "linecolor": "white",
                "ticks": ""
               },
               "bgcolor": "#E5ECF6",
               "caxis": {
                "gridcolor": "white",
                "linecolor": "white",
                "ticks": ""
               }
              },
              "title": {
               "x": 0.05
              },
              "xaxis": {
               "automargin": true,
               "gridcolor": "white",
               "linecolor": "white",
               "ticks": "",
               "title": {
                "standoff": 15
               },
               "zerolinecolor": "white",
               "zerolinewidth": 2
              },
              "yaxis": {
               "automargin": true,
               "gridcolor": "white",
               "linecolor": "white",
               "ticks": "",
               "title": {
                "standoff": 15
               },
               "zerolinecolor": "white",
               "zerolinewidth": 2
              }
             }
            },
            "width": 1000
           }
          },
          "text/html": "<div>\n        \n        \n            <div id=\"353fc183-9783-4114-acec-8b630363c677\" class=\"plotly-graph-div\" style=\"height:1000px; width:1000px;\"></div>\n            <script type=\"text/javascript\">\n                require([\"plotly\"], function(Plotly) {\n                    window.PLOTLYENV=window.PLOTLYENV || {};\n                    \n                if (document.getElementById(\"353fc183-9783-4114-acec-8b630363c677\")) {\n                    Plotly.newPlot(\n                        '353fc183-9783-4114-acec-8b630363c677',\n                        [{\"lat\": [16.72, 16.72, 36.404, 36.404, 32.884, 32.884, 32.884, 2.58, 2.58, 2.58, 2.58, 44.43, 44.43, 44.43, 44.43, 44.43, 44.43, 37.7166666666667, 37.7166666666667, 35.9, -38.82, 43.722, 41.611, 46.2, 46.853, -22.2666666666667, 65.715, 63.983, 63.892, 64.083, 60.485, 32.761, 38.83, 31.934, 36.7833333333333, 35.361, 56.056, 19.421, 19.421, 40.821, 40.827, 37.748, 38.789, 15.13, 4.892, -1.467, 28.0], \"lon\": [-62.18, -62.18, 25.396, 25.396, 131.104, 131.104, 131.104, 98.83, 98.83, 98.83, 98.83, -110.67, -110.67, -110.67, -110.67, -110.67, -110.67, -118.883333333333, -118.883333333333, -106.533333333333, 176.0, -121.229, -121.554, -122.18, -121.76, -67.1666666666667, -16.728, -19.666, -19.122, -21.416, -152.742, 130.299, 140.7, 130.862, 139.366666666667, 138.728, 160.642, -155.287, -155.287, 14.426, 14.139, 14.999, 15.213, 120.35, -75.324, -78.442, -15.58], \"marker\": {\"size\": [215.44346900318837, 215.44346900318837, 464.15888336127784, 464.15888336127784, 843.4326653017491, 843.4326653017491, 843.4326653017491, 1409.4597464129781, 1409.4597464129781, 1409.4597464129781, 1409.4597464129781, 1348.0997498879249, 1348.0997498879249, 1348.0997498879249, 1348.0997498879249, 1348.0997498879249, 1348.0997498879249, 100.0, 100.0, 100.0, 100.0, 100.0, 100.0, 100.0, 100.0, 100.0, 100.0, 100.0, 100.0, 100.0, 100.0, 100.0, 100.0, 100.0, 100.0, 100.0, 100.0, 100.0, 100.0, 100.0, 100.0, 100.0, 100.0, 100.0, 100.0, 100.0, 100.0], \"sizemode\": \"area\"}, \"text\": [\"Soufriere Hills Volcano<br>Erupted volume: 10.0<br><br>References:<br>Paulatto et al., 2012\", \"Soufriere Hills Volcano<br>Erupted volume: 10.0<br><br>References:<br>Paulatto et al., 2019\", \"Santorini<br>Erupted volume: 100.0<br><br>References:<br>McVey et al., 2019\", null, \"Aso Caldera<br>Erupted volume: 600.0<br><br>References:<br>Sudo & Kong, 2001\", \"Aso Caldera<br>Erupted volume: 600.0<br><br>References:<br>Huang et al., 2018\", \"Aso Caldera<br>Erupted volume: 600.0<br><br>References:<br>Abe et al., 2017\", \"Toba<br>Erupted volume: 2800.0<br><br>References:<br>Koulakov et al., 2009\", \"Toba<br>Erupted volume: 2800.0<br><br>References:<br>Mastruryono et al., 2001\", \"Toba<br>Erupted volume: 2800.0<br><br>References:<br>Jaxybulatov et al., 2014\", \"Toba<br>Erupted volume: 2800.0<br><br>References:<br>Stankiewicz et al., 2010\", \"Yellowstone<br>Erupted volume: 2450.0<br><br>References:<br>(Iyer et al., 1981,\\u00a0Benz and Smith, 1984,\\u00a0Clawson et al., 1989,\\u00a0Miller and Smith, 1999,\\u00a0Husen and Smith, 2004,\\u00a0Yuan and Dueker, 2005)\", \"Yellowstone<br>Erupted volume: 2450.0<br><br>References:<br>Chu et al., 2010\", \"Yellowstone<br>Erupted volume: 2450.0<br><br>References:<br>Farrell et al., 2014\", \"Yellowstone<br>Erupted volume: 2450.0<br><br>References:<br>Huang et al., 2015\", \"Yellowstone<br>Erupted volume: 2450.0<br><br>References:<br>Miller and Smith, 1999\", \"Yellowstone<br>Erupted volume: 2450.0<br><br>References:<br>Jiang, 2018\", \"Long Valley<br>Erupted volume: nan<br><br>References:<br>(Peppin, 1985,\\u00a0Dawson et al., 1987,\\u00a0Hauksson, 1988,\\u00a0Dawson et al., 1990,\\u00a0Sanders, 1993a,\\u00a0Sanders, 1993b,\\u00a0Sanders et al., 1994,\\u00a0Steck, 1995,\\u00a0Sanders et al., 1995,\\u00a0Weiland et al., 1995,\\u00a0O'Doherty et al., 1997)\", \"Long Valley<br>Erupted volume: nan<br><br>References:<br>Jiang, 2018\", \"Valles<br>Erupted volume: nan<br><br>References:<br>Lutter et al. (1995)\", \"Taupo<br>Erupted volume: nan<br><br>References:<br>Sherburn et al. (2003)\", \"Newberry volcano<br>Erupted volume: nan<br><br>References:<br>(Achauer et al., 1988,\\u00a0Stauber et al., 1988)\", \"Medicine Lake<br>Erupted volume: nan<br><br>References:<br>(Evans and Zucca, 1988,\\u00a0Lees and Crosson, 1989,\\u00a0Ritter and Evans, 1997)\", \"Mt. St. Helens<br>Erupted volume: nan<br><br>References:<br>Lees (1992)\", \"Mt. Rainier<br>Erupted volume: nan<br><br>References:<br>(Lees and Crosson, 1990,\\u00a0Moran et al., 1999)\", null, \"Krafla<br>Erupted volume: nan<br><br>References:<br>(Einarsson, 1978,\\u00a0Foulger and Arnott, 1993)\", \"Hekla<br>Erupted volume: nan<br><br>References:<br>Soosalu and Einarsson (2004)\", \"Torfaj\\u00f6kull<br>Erupted volume: nan<br><br>References:<br>Soosalu and Einarsson (2004)\", \"Hengill\\u2013Grensdalur<br>Erupted volume: nan<br><br>References:<br>Toomey and Foulger (1989)\", \"Redoubt<br>Erupted volume: nan<br><br>References:<br>Benz et al. (1996)\", \"Unzen<br>Erupted volume: nan<br><br>References:<br>Ohmi and Lees (1995)\", \"Onikobe<br>Erupted volume: nan<br><br>References:<br>Nakajima and Hasegawa (2003)\", \"Kirishima<br>Erupted volume: nan<br><br>References:<br>Yamamoto and Ida (1994)\", \"Nikko-Shirane<br>Erupted volume: nan<br><br>References:<br>Horiuchi et al. (1997)\", \"Mt. Fuji<br>Erupted volume: nan<br><br>References:<br>Nakamichi (2005)\", \"Klyuchevskoy<br>Erupted volume: nan<br><br>References:<br>(Anosov et al., 1978,\\u00a0Ozerov, 2000)\", \"Halemaumau<br>Erupted volume: nan<br><br>References:<br>Rowan and Clayton (1993)\", \"Kilauea<br>Erupted volume: nan<br><br>References:<br>(Thurber, 1984,\\u00a0Rowan and Clayton, 1993,\\u00a0Okubo et al., 1997,\\u00a0Haslinger et al., 2001)\", \"Vesuvius<br>Erupted volume: nan<br><br>References:<br>(De Natale et al., 1998,\\u00a0Zollo et al., 1998)\", \"Campi Flegrei<br>Erupted volume: nan<br><br>References:<br>1988;\\u00a0Aster et al., 1992\", \"Mt. Etna<br>Erupted volume: nan<br><br>References:<br>(Cardaci et al., 1993,\\u00a0Villasenor et al., 1998,\\u00a0Laigle and Hirn, 1999,\\u00a0Chiarabba et al., 2000,\\u00a0Aloisi et al., 2002)\", null, \"Pinatubo<br>Erupted volume: nan<br><br>References:<br>Mori et al. (1996)\", \"Nevado del Ruiz<br>Erupted volume: nan<br><br>References:<br>Londo\\u00f1o and Sudo (2003)\", \"Tungurahua<br>Erupted volume: nan<br><br>References:<br>Molina et al. (2005)\", \"Gran Canaria<br>Erupted volume: nan<br><br>References:<br>Krastel and Schmincke (2002)\"], \"type\": \"scattergeo\"}],\n                        {\"height\": 1000, \"template\": {\"data\": {\"bar\": [{\"error_x\": {\"color\": \"#2a3f5f\"}, \"error_y\": {\"color\": \"#2a3f5f\"}, \"marker\": {\"line\": {\"color\": \"#E5ECF6\", \"width\": 0.5}}, \"type\": \"bar\"}], \"barpolar\": [{\"marker\": {\"line\": {\"color\": \"#E5ECF6\", \"width\": 0.5}}, \"type\": \"barpolar\"}], \"carpet\": [{\"aaxis\": {\"endlinecolor\": \"#2a3f5f\", \"gridcolor\": \"white\", \"linecolor\": \"white\", \"minorgridcolor\": \"white\", \"startlinecolor\": \"#2a3f5f\"}, \"baxis\": {\"endlinecolor\": \"#2a3f5f\", \"gridcolor\": \"white\", \"linecolor\": \"white\", \"minorgridcolor\": \"white\", \"startlinecolor\": \"#2a3f5f\"}, \"type\": \"carpet\"}], \"choropleth\": [{\"colorbar\": {\"outlinewidth\": 0, \"ticks\": \"\"}, \"type\": \"choropleth\"}], \"contour\": [{\"colorbar\": {\"outlinewidth\": 0, \"ticks\": \"\"}, \"colorscale\": [[0.0, \"#0d0887\"], [0.1111111111111111, \"#46039f\"], [0.2222222222222222, \"#7201a8\"], [0.3333333333333333, \"#9c179e\"], [0.4444444444444444, \"#bd3786\"], [0.5555555555555556, \"#d8576b\"], [0.6666666666666666, \"#ed7953\"], [0.7777777777777778, \"#fb9f3a\"], [0.8888888888888888, \"#fdca26\"], [1.0, \"#f0f921\"]], \"type\": \"contour\"}], \"contourcarpet\": [{\"colorbar\": {\"outlinewidth\": 0, \"ticks\": \"\"}, \"type\": \"contourcarpet\"}], \"heatmap\": [{\"colorbar\": {\"outlinewidth\": 0, \"ticks\": \"\"}, \"colorscale\": [[0.0, \"#0d0887\"], [0.1111111111111111, \"#46039f\"], [0.2222222222222222, \"#7201a8\"], [0.3333333333333333, \"#9c179e\"], [0.4444444444444444, \"#bd3786\"], [0.5555555555555556, \"#d8576b\"], [0.6666666666666666, \"#ed7953\"], [0.7777777777777778, \"#fb9f3a\"], [0.8888888888888888, \"#fdca26\"], [1.0, \"#f0f921\"]], \"type\": \"heatmap\"}], \"heatmapgl\": [{\"colorbar\": {\"outlinewidth\": 0, \"ticks\": \"\"}, \"colorscale\": [[0.0, \"#0d0887\"], [0.1111111111111111, \"#46039f\"], [0.2222222222222222, \"#7201a8\"], [0.3333333333333333, \"#9c179e\"], [0.4444444444444444, \"#bd3786\"], [0.5555555555555556, \"#d8576b\"], [0.6666666666666666, \"#ed7953\"], [0.7777777777777778, \"#fb9f3a\"], [0.8888888888888888, \"#fdca26\"], [1.0, \"#f0f921\"]], \"type\": \"heatmapgl\"}], \"histogram\": [{\"marker\": {\"colorbar\": {\"outlinewidth\": 0, \"ticks\": \"\"}}, \"type\": \"histogram\"}], \"histogram2d\": [{\"colorbar\": {\"outlinewidth\": 0, \"ticks\": \"\"}, \"colorscale\": [[0.0, \"#0d0887\"], [0.1111111111111111, \"#46039f\"], [0.2222222222222222, \"#7201a8\"], [0.3333333333333333, \"#9c179e\"], [0.4444444444444444, \"#bd3786\"], [0.5555555555555556, \"#d8576b\"], [0.6666666666666666, \"#ed7953\"], [0.7777777777777778, \"#fb9f3a\"], [0.8888888888888888, \"#fdca26\"], [1.0, \"#f0f921\"]], \"type\": \"histogram2d\"}], \"histogram2dcontour\": [{\"colorbar\": {\"outlinewidth\": 0, \"ticks\": \"\"}, \"colorscale\": [[0.0, \"#0d0887\"], [0.1111111111111111, \"#46039f\"], [0.2222222222222222, \"#7201a8\"], [0.3333333333333333, \"#9c179e\"], [0.4444444444444444, \"#bd3786\"], [0.5555555555555556, \"#d8576b\"], [0.6666666666666666, \"#ed7953\"], [0.7777777777777778, \"#fb9f3a\"], [0.8888888888888888, \"#fdca26\"], [1.0, \"#f0f921\"]], \"type\": \"histogram2dcontour\"}], \"mesh3d\": [{\"colorbar\": {\"outlinewidth\": 0, \"ticks\": \"\"}, \"type\": \"mesh3d\"}], \"parcoords\": [{\"line\": {\"colorbar\": {\"outlinewidth\": 0, \"ticks\": \"\"}}, \"type\": \"parcoords\"}], \"pie\": [{\"automargin\": true, \"type\": \"pie\"}], \"scatter\": [{\"marker\": {\"colorbar\": {\"outlinewidth\": 0, \"ticks\": \"\"}}, \"type\": \"scatter\"}], \"scatter3d\": [{\"line\": {\"colorbar\": {\"outlinewidth\": 0, \"ticks\": \"\"}}, \"marker\": {\"colorbar\": {\"outlinewidth\": 0, \"ticks\": \"\"}}, \"type\": \"scatter3d\"}], \"scattercarpet\": [{\"marker\": {\"colorbar\": {\"outlinewidth\": 0, \"ticks\": \"\"}}, \"type\": \"scattercarpet\"}], \"scattergeo\": [{\"marker\": {\"colorbar\": {\"outlinewidth\": 0, \"ticks\": \"\"}}, \"type\": \"scattergeo\"}], \"scattergl\": [{\"marker\": {\"colorbar\": {\"outlinewidth\": 0, \"ticks\": \"\"}}, \"type\": \"scattergl\"}], \"scattermapbox\": [{\"marker\": {\"colorbar\": {\"outlinewidth\": 0, \"ticks\": \"\"}}, \"type\": \"scattermapbox\"}], \"scatterpolar\": [{\"marker\": {\"colorbar\": {\"outlinewidth\": 0, \"ticks\": \"\"}}, \"type\": \"scatterpolar\"}], \"scatterpolargl\": [{\"marker\": {\"colorbar\": {\"outlinewidth\": 0, \"ticks\": \"\"}}, \"type\": \"scatterpolargl\"}], \"scatterternary\": [{\"marker\": {\"colorbar\": {\"outlinewidth\": 0, \"ticks\": \"\"}}, \"type\": \"scatterternary\"}], \"surface\": [{\"colorbar\": {\"outlinewidth\": 0, \"ticks\": \"\"}, \"colorscale\": [[0.0, \"#0d0887\"], [0.1111111111111111, \"#46039f\"], [0.2222222222222222, \"#7201a8\"], [0.3333333333333333, \"#9c179e\"], [0.4444444444444444, \"#bd3786\"], [0.5555555555555556, \"#d8576b\"], [0.6666666666666666, \"#ed7953\"], [0.7777777777777778, \"#fb9f3a\"], [0.8888888888888888, \"#fdca26\"], [1.0, \"#f0f921\"]], \"type\": \"surface\"}], \"table\": [{\"cells\": {\"fill\": {\"color\": \"#EBF0F8\"}, \"line\": {\"color\": \"white\"}}, \"header\": {\"fill\": {\"color\": \"#C8D4E3\"}, \"line\": {\"color\": \"white\"}}, \"type\": \"table\"}]}, \"layout\": {\"annotationdefaults\": {\"arrowcolor\": \"#2a3f5f\", \"arrowhead\": 0, \"arrowwidth\": 1}, \"coloraxis\": {\"colorbar\": {\"outlinewidth\": 0, \"ticks\": \"\"}}, \"colorscale\": {\"diverging\": [[0, \"#8e0152\"], [0.1, \"#c51b7d\"], [0.2, \"#de77ae\"], [0.3, \"#f1b6da\"], [0.4, \"#fde0ef\"], [0.5, \"#f7f7f7\"], [0.6, \"#e6f5d0\"], [0.7, \"#b8e186\"], [0.8, \"#7fbc41\"], [0.9, \"#4d9221\"], [1, \"#276419\"]], \"sequential\": [[0.0, \"#0d0887\"], [0.1111111111111111, \"#46039f\"], [0.2222222222222222, \"#7201a8\"], [0.3333333333333333, \"#9c179e\"], [0.4444444444444444, \"#bd3786\"], [0.5555555555555556, \"#d8576b\"], [0.6666666666666666, \"#ed7953\"], [0.7777777777777778, \"#fb9f3a\"], [0.8888888888888888, \"#fdca26\"], [1.0, \"#f0f921\"]], \"sequentialminus\": [[0.0, \"#0d0887\"], [0.1111111111111111, \"#46039f\"], [0.2222222222222222, \"#7201a8\"], [0.3333333333333333, \"#9c179e\"], [0.4444444444444444, \"#bd3786\"], [0.5555555555555556, \"#d8576b\"], [0.6666666666666666, \"#ed7953\"], [0.7777777777777778, \"#fb9f3a\"], [0.8888888888888888, \"#fdca26\"], [1.0, \"#f0f921\"]]}, \"colorway\": [\"#636efa\", \"#EF553B\", \"#00cc96\", \"#ab63fa\", \"#FFA15A\", \"#19d3f3\", \"#FF6692\", \"#B6E880\", \"#FF97FF\", \"#FECB52\"], \"font\": {\"color\": \"#2a3f5f\"}, \"geo\": {\"bgcolor\": \"white\", \"lakecolor\": \"white\", \"landcolor\": \"#E5ECF6\", \"showlakes\": true, \"showland\": true, \"subunitcolor\": \"white\"}, \"hoverlabel\": {\"align\": \"left\"}, \"hovermode\": \"closest\", \"mapbox\": {\"style\": \"light\"}, \"paper_bgcolor\": \"white\", \"plot_bgcolor\": \"#E5ECF6\", \"polar\": {\"angularaxis\": {\"gridcolor\": \"white\", \"linecolor\": \"white\", \"ticks\": \"\"}, \"bgcolor\": \"#E5ECF6\", \"radialaxis\": {\"gridcolor\": \"white\", \"linecolor\": \"white\", \"ticks\": \"\"}}, \"scene\": {\"xaxis\": {\"backgroundcolor\": \"#E5ECF6\", \"gridcolor\": \"white\", \"gridwidth\": 2, \"linecolor\": \"white\", \"showbackground\": true, \"ticks\": \"\", \"zerolinecolor\": \"white\"}, \"yaxis\": {\"backgroundcolor\": \"#E5ECF6\", \"gridcolor\": \"white\", \"gridwidth\": 2, \"linecolor\": \"white\", \"showbackground\": true, \"ticks\": \"\", \"zerolinecolor\": \"white\"}, \"zaxis\": {\"backgroundcolor\": \"#E5ECF6\", \"gridcolor\": \"white\", \"gridwidth\": 2, \"linecolor\": \"white\", \"showbackground\": true, \"ticks\": \"\", \"zerolinecolor\": \"white\"}}, \"shapedefaults\": {\"line\": {\"color\": \"#2a3f5f\"}}, \"ternary\": {\"aaxis\": {\"gridcolor\": \"white\", \"linecolor\": \"white\", \"ticks\": \"\"}, \"baxis\": {\"gridcolor\": \"white\", \"linecolor\": \"white\", \"ticks\": \"\"}, \"bgcolor\": \"#E5ECF6\", \"caxis\": {\"gridcolor\": \"white\", \"linecolor\": \"white\", \"ticks\": \"\"}}, \"title\": {\"x\": 0.05}, \"xaxis\": {\"automargin\": true, \"gridcolor\": \"white\", \"linecolor\": \"white\", \"ticks\": \"\", \"title\": {\"standoff\": 15}, \"zerolinecolor\": \"white\", \"zerolinewidth\": 2}, \"yaxis\": {\"automargin\": true, \"gridcolor\": \"white\", \"linecolor\": \"white\", \"ticks\": \"\", \"title\": {\"standoff\": 15}, \"zerolinecolor\": \"white\", \"zerolinewidth\": 2}}}, \"width\": 1000},\n                        {\"responsive\": true}\n                    ).then(function(){\n                            \nvar gd = document.getElementById('353fc183-9783-4114-acec-8b630363c677');\nvar x = new MutationObserver(function (mutations, observer) {{\n        var display = window.getComputedStyle(gd).display;\n        if (!display || display === 'none') {{\n            console.log([gd, 'removed!']);\n            Plotly.purge(gd);\n            observer.disconnect();\n        }}\n}});\n\n// Listen for the removal of the full notebook cells\nvar notebookContainer = gd.closest('#notebook-container');\nif (notebookContainer) {{\n    x.observe(notebookContainer, {childList: true});\n}}\n\n// Listen for the clearing of the current output cell\nvar outputEl = gd.closest('.output');\nif (outputEl) {{\n    x.observe(outputEl, {childList: true});\n}}\n\n                        })\n                };\n                });\n            </script>\n        </div>"
         },
         "metadata": {},
         "output_type": "display_data"
        }
       ]
      }
     },
     "cf9bf67a020c41a383e809ac6a7ded2c": {
      "model_module": "@jupyter-widgets/base",
      "model_module_version": "1.2.0",
      "model_name": "LayoutModel",
      "state": {}
     },
     "d02a914c155e4a749ba43b5dcf4f4dcb": {
      "model_module": "@jupyter-widgets/output",
      "model_module_version": "1.0.0",
      "model_name": "OutputModel",
      "state": {
       "layout": "IPY_MODEL_536923e4796a4e9b85a960ef08b7d700",
       "outputs": [
        {
         "ename": "TypeError",
         "evalue": "invalid Figure property: figsize",
         "output_type": "error",
         "traceback": [
          "\u001b[0;31m---------------------------------------------------------------------------\u001b[0m",
          "\u001b[0;31mTypeError\u001b[0m                                 Traceback (most recent call last)",
          "\u001b[0;32m/usr/local/lib/python3.5/dist-packages/ipywidgets/widgets/interaction.py\u001b[0m in \u001b[0;36mupdate\u001b[0;34m(self, *args)\u001b[0m\n\u001b[1;32m    254\u001b[0m                     \u001b[0mvalue\u001b[0m \u001b[0;34m=\u001b[0m \u001b[0mwidget\u001b[0m\u001b[0;34m.\u001b[0m\u001b[0mget_interact_value\u001b[0m\u001b[0;34m(\u001b[0m\u001b[0;34m)\u001b[0m\u001b[0;34m\u001b[0m\u001b[0m\n\u001b[1;32m    255\u001b[0m                     \u001b[0mself\u001b[0m\u001b[0;34m.\u001b[0m\u001b[0mkwargs\u001b[0m\u001b[0;34m[\u001b[0m\u001b[0mwidget\u001b[0m\u001b[0;34m.\u001b[0m\u001b[0m_kwarg\u001b[0m\u001b[0;34m]\u001b[0m \u001b[0;34m=\u001b[0m \u001b[0mvalue\u001b[0m\u001b[0;34m\u001b[0m\u001b[0m\n\u001b[0;32m--> 256\u001b[0;31m                 \u001b[0mself\u001b[0m\u001b[0;34m.\u001b[0m\u001b[0mresult\u001b[0m \u001b[0;34m=\u001b[0m \u001b[0mself\u001b[0m\u001b[0;34m.\u001b[0m\u001b[0mf\u001b[0m\u001b[0;34m(\u001b[0m\u001b[0;34m**\u001b[0m\u001b[0mself\u001b[0m\u001b[0;34m.\u001b[0m\u001b[0mkwargs\u001b[0m\u001b[0;34m)\u001b[0m\u001b[0;34m\u001b[0m\u001b[0m\n\u001b[0m\u001b[1;32m    257\u001b[0m                 \u001b[0mshow_inline_matplotlib_plots\u001b[0m\u001b[0;34m(\u001b[0m\u001b[0;34m)\u001b[0m\u001b[0;34m\u001b[0m\u001b[0m\n\u001b[1;32m    258\u001b[0m                 \u001b[0;32mif\u001b[0m \u001b[0mself\u001b[0m\u001b[0;34m.\u001b[0m\u001b[0mauto_display\u001b[0m \u001b[0;32mand\u001b[0m \u001b[0mself\u001b[0m\u001b[0;34m.\u001b[0m\u001b[0mresult\u001b[0m \u001b[0;32mis\u001b[0m \u001b[0;32mnot\u001b[0m \u001b[0;32mNone\u001b[0m\u001b[0;34m:\u001b[0m\u001b[0;34m\u001b[0m\u001b[0m\n",
          "\u001b[0;32m<ipython-input-13-ce0d19b7ff59>\u001b[0m in \u001b[0;36m_\u001b[0;34m(key)\u001b[0m\n\u001b[1;32m     11\u001b[0m                          marker=marker, text=df['hover_text'])\n\u001b[1;32m     12\u001b[0m     \u001b[0mlayout\u001b[0m \u001b[0;34m=\u001b[0m \u001b[0mgo\u001b[0m\u001b[0;34m.\u001b[0m\u001b[0mLayout\u001b[0m\u001b[0;34m(\u001b[0m\u001b[0mgeo\u001b[0m\u001b[0;34m=\u001b[0m\u001b[0mgo\u001b[0m\u001b[0;34m.\u001b[0m\u001b[0mlayout\u001b[0m\u001b[0;34m.\u001b[0m\u001b[0mGeo\u001b[0m\u001b[0;34m(\u001b[0m\u001b[0;34m)\u001b[0m\u001b[0;34m)\u001b[0m\u001b[0;34m\u001b[0m\u001b[0m\n\u001b[0;32m---> 13\u001b[0;31m     \u001b[0mfig\u001b[0m \u001b[0;34m=\u001b[0m \u001b[0mgo\u001b[0m\u001b[0;34m.\u001b[0m\u001b[0mFigure\u001b[0m\u001b[0;34m(\u001b[0m\u001b[0mdata\u001b[0m\u001b[0;34m=\u001b[0m\u001b[0mdata\u001b[0m\u001b[0;34m,\u001b[0m \u001b[0mlayout\u001b[0m\u001b[0;34m=\u001b[0m\u001b[0mlayout\u001b[0m\u001b[0;34m,\u001b[0m \u001b[0mfigsize\u001b[0m\u001b[0;34m=\u001b[0m\u001b[0;34m(\u001b[0m\u001b[0;36m14\u001b[0m\u001b[0;34m,\u001b[0m\u001b[0;36m10\u001b[0m\u001b[0;34m)\u001b[0m\u001b[0;34m)\u001b[0m\u001b[0;34m\u001b[0m\u001b[0m\n\u001b[0m\u001b[1;32m     14\u001b[0m     \u001b[0mfig\u001b[0m\u001b[0;34m.\u001b[0m\u001b[0mshow\u001b[0m\u001b[0;34m(\u001b[0m\u001b[0;34m)\u001b[0m\u001b[0;34m\u001b[0m\u001b[0m\n",
          "\u001b[0;32m/usr/local/lib/python3.5/dist-packages/plotly/graph_objs/_figure.py\u001b[0m in \u001b[0;36m__init__\u001b[0;34m(self, data, layout, frames, skip_invalid, **kwargs)\u001b[0m\n\u001b[1;32m    606\u001b[0m             \u001b[0;32mis\u001b[0m \u001b[0minvalid\u001b[0m \u001b[0mAND\u001b[0m \u001b[0mskip_invalid\u001b[0m \u001b[0;32mis\u001b[0m \u001b[0;32mFalse\u001b[0m\u001b[0;34m\u001b[0m\u001b[0m\n\u001b[1;32m    607\u001b[0m         \"\"\"\n\u001b[0;32m--> 608\u001b[0;31m         \u001b[0msuper\u001b[0m\u001b[0;34m(\u001b[0m\u001b[0mFigure\u001b[0m\u001b[0;34m,\u001b[0m \u001b[0mself\u001b[0m\u001b[0;34m)\u001b[0m\u001b[0;34m.\u001b[0m\u001b[0m__init__\u001b[0m\u001b[0;34m(\u001b[0m\u001b[0mdata\u001b[0m\u001b[0;34m,\u001b[0m \u001b[0mlayout\u001b[0m\u001b[0;34m,\u001b[0m \u001b[0mframes\u001b[0m\u001b[0;34m,\u001b[0m \u001b[0mskip_invalid\u001b[0m\u001b[0;34m,\u001b[0m \u001b[0;34m**\u001b[0m\u001b[0mkwargs\u001b[0m\u001b[0;34m)\u001b[0m\u001b[0;34m\u001b[0m\u001b[0m\n\u001b[0m\u001b[1;32m    609\u001b[0m \u001b[0;34m\u001b[0m\u001b[0m\n\u001b[1;32m    610\u001b[0m     def add_area(\n",
          "\u001b[0;32m/usr/local/lib/python3.5/dist-packages/plotly/basedatatypes.py\u001b[0m in \u001b[0;36m__init__\u001b[0;34m(self, data, layout_plotly, frames, skip_invalid, **kwargs)\u001b[0m\n\u001b[1;32m    276\u001b[0m                 \u001b[0mself\u001b[0m\u001b[0;34m[\u001b[0m\u001b[0mk\u001b[0m\u001b[0;34m]\u001b[0m \u001b[0;34m=\u001b[0m \u001b[0mv\u001b[0m\u001b[0;34m\u001b[0m\u001b[0m\n\u001b[1;32m    277\u001b[0m             \u001b[0;32melif\u001b[0m \u001b[0;32mnot\u001b[0m \u001b[0mskip_invalid\u001b[0m\u001b[0;34m:\u001b[0m\u001b[0;34m\u001b[0m\u001b[0m\n\u001b[0;32m--> 278\u001b[0;31m                 \u001b[0;32mraise\u001b[0m \u001b[0mTypeError\u001b[0m\u001b[0;34m(\u001b[0m\u001b[0;34m\"invalid Figure property: {}\"\u001b[0m\u001b[0;34m.\u001b[0m\u001b[0mformat\u001b[0m\u001b[0;34m(\u001b[0m\u001b[0mk\u001b[0m\u001b[0;34m)\u001b[0m\u001b[0;34m)\u001b[0m\u001b[0;34m\u001b[0m\u001b[0m\n\u001b[0m\u001b[1;32m    279\u001b[0m \u001b[0;34m\u001b[0m\u001b[0m\n\u001b[1;32m    280\u001b[0m     \u001b[0;31m# Magic Methods\u001b[0m\u001b[0;34m\u001b[0m\u001b[0;34m\u001b[0m\u001b[0m\n",
          "\u001b[0;31mTypeError\u001b[0m: invalid Figure property: figsize"
         ]
        }
       ]
      }
     },
     "d284b3e348d9462cb74f7957bf5b548a": {
      "model_module": "@jupyter-widgets/base",
      "model_module_version": "1.2.0",
      "model_name": "LayoutModel",
      "state": {}
     },
     "d356f0eb5179498c84544cff4592a04e": {
      "model_module": "@jupyter-widgets/controls",
      "model_module_version": "1.5.0",
      "model_name": "DropdownModel",
      "state": {
       "_options_labels": [
        "Erupted volume",
        "Anomaly volume"
       ],
       "description": "key",
       "index": 0,
       "layout": "IPY_MODEL_8e4d0300c0064b0f84c04c79a784a3cd",
       "style": "IPY_MODEL_f850d2ba23864df68228c6a071591c55"
      }
     },
     "d4eee85cc05e4e4eace5666758d7115e": {
      "model_module": "@jupyter-widgets/base",
      "model_module_version": "1.2.0",
      "model_name": "LayoutModel",
      "state": {}
     },
     "d7e0a5161be544e2a65ad01c4844e7aa": {
      "model_module": "@jupyter-widgets/base",
      "model_module_version": "1.2.0",
      "model_name": "LayoutModel",
      "state": {}
     },
     "d934e140037847f48460c9ff737c74be": {
      "model_module": "@jupyter-widgets/controls",
      "model_module_version": "1.5.0",
      "model_name": "DropdownModel",
      "state": {
       "_options_labels": [
        "Erupted volume",
        "Anomaly volume"
       ],
       "description": "key",
       "index": 0,
       "layout": "IPY_MODEL_a2d6002b671c420e81383a3bbaa3b888",
       "style": "IPY_MODEL_3a15cd7f0cd14a079067bef218f16058"
      }
     },
     "d9a37ec6c79d46708f6b8d8bcac48853": {
      "model_module": "@jupyter-widgets/base",
      "model_module_version": "1.2.0",
      "model_name": "LayoutModel",
      "state": {}
     },
     "d9f1f53a29c54ee98973656627b22750": {
      "model_module": "@jupyter-widgets/base",
      "model_module_version": "1.2.0",
      "model_name": "LayoutModel",
      "state": {}
     },
     "de16c01045b34a5a9dd1475a8b8150da": {
      "model_module": "@jupyter-widgets/controls",
      "model_module_version": "1.5.0",
      "model_name": "VBoxModel",
      "state": {
       "_dom_classes": [
        "widget-interact"
       ],
       "children": [
        "IPY_MODEL_77a4801aef4e4732ab3ab57aca6bd1cc",
        "IPY_MODEL_477b8839cc1b43958e09747e3f196a72"
       ],
       "layout": "IPY_MODEL_a3645d807a8240f8848604380e10066e"
      }
     },
     "df8f44a1822749f38a9af818773fa898": {
      "model_module": "@jupyter-widgets/controls",
      "model_module_version": "1.5.0",
      "model_name": "VBoxModel",
      "state": {
       "_dom_classes": [
        "widget-interact"
       ],
       "children": [
        "IPY_MODEL_413e3f7c98744b97bbd85e8d32f35202",
        "IPY_MODEL_2c0c6321b0e047dfbb9614f7d54bb958"
       ],
       "layout": "IPY_MODEL_71103b4255cb4ae5b64c778006829e5d"
      }
     },
     "dfc59b90002846f4a2a7ec35636b003a": {
      "model_module": "@jupyter-widgets/controls",
      "model_module_version": "1.5.0",
      "model_name": "DescriptionStyleModel",
      "state": {
       "description_width": ""
      }
     },
     "e0dd46424029486f93ecae0beb6d589e": {
      "model_module": "@jupyter-widgets/output",
      "model_module_version": "1.0.0",
      "model_name": "OutputModel",
      "state": {
       "layout": "IPY_MODEL_a7602db488a241c0b8571d0cbbf64952",
       "outputs": [
        {
         "data": {
          "application/vnd.plotly.v1+json": {
           "config": {
            "plotlyServerURL": "https://plot.ly"
           },
           "data": [
            {
             "lat": [
              16.72,
              16.72,
              36.404,
              36.404,
              32.884,
              32.884,
              32.884,
              2.58,
              2.58,
              2.58,
              2.58,
              44.43,
              44.43,
              44.43,
              44.43,
              44.43,
              44.43,
              37.7166666666667,
              37.7166666666667,
              35.9,
              -38.82,
              43.722,
              41.611,
              46.2,
              46.853,
              -22.2666666666667,
              65.715,
              63.983,
              63.892,
              64.083,
              60.485,
              32.761,
              38.83,
              31.934,
              36.7833333333333,
              35.361,
              56.056,
              19.421,
              19.421,
              40.821,
              40.827,
              37.748,
              38.789,
              15.13,
              4.892,
              -1.467,
              28
             ],
             "lon": [
              -62.18,
              -62.18,
              25.396,
              25.396,
              131.104,
              131.104,
              131.104,
              98.83,
              98.83,
              98.83,
              98.83,
              -110.67,
              -110.67,
              -110.67,
              -110.67,
              -110.67,
              -110.67,
              -118.883333333333,
              -118.883333333333,
              -106.533333333333,
              176,
              -121.229,
              -121.554,
              -122.18,
              -121.76,
              -67.1666666666667,
              -16.728,
              -19.666,
              -19.122,
              -21.416,
              -152.742,
              130.299,
              140.7,
              130.862,
              139.366666666667,
              138.728,
              160.642,
              -155.287,
              -155.287,
              14.426,
              14.139,
              14.999,
              15.213,
              120.35,
              -75.324,
              -78.442,
              -15.58
             ],
             "marker": {
              "size": [
               215.44346900318837,
               215.44346900318837,
               464.15888336127784,
               464.15888336127784,
               843.4326653017491,
               843.4326653017491,
               843.4326653017491,
               1409.4597464129781,
               1409.4597464129781,
               1409.4597464129781,
               1409.4597464129781,
               1348.0997498879249,
               1348.0997498879249,
               1348.0997498879249,
               1348.0997498879249,
               1348.0997498879249,
               1348.0997498879249,
               100,
               100,
               100,
               100,
               100,
               100,
               100,
               100,
               100,
               100,
               100,
               100,
               100,
               100,
               100,
               100,
               100,
               100,
               100,
               100,
               100,
               100,
               100,
               100,
               100,
               100,
               100,
               100,
               100,
               100
              ],
              "sizemode": "area"
             },
             "text": [
              "Soufriere Hills Volcano<br>Erupted volume: 10.0<br><br>References:<br>Paulatto et al., 2012",
              "Soufriere Hills Volcano<br>Erupted volume: 10.0<br><br>References:<br>Paulatto et al., 2019",
              "Santorini<br>Erupted volume: 100.0<br><br>References:<br>McVey et al., 2019",
              null,
              "Aso Caldera<br>Erupted volume: 600.0<br><br>References:<br>Sudo & Kong, 2001",
              "Aso Caldera<br>Erupted volume: 600.0<br><br>References:<br>Huang et al., 2018",
              "Aso Caldera<br>Erupted volume: 600.0<br><br>References:<br>Abe et al., 2017",
              "Toba<br>Erupted volume: 2800.0<br><br>References:<br>Koulakov et al., 2009",
              "Toba<br>Erupted volume: 2800.0<br><br>References:<br>Mastruryono et al., 2001",
              "Toba<br>Erupted volume: 2800.0<br><br>References:<br>Jaxybulatov et al., 2014",
              "Toba<br>Erupted volume: 2800.0<br><br>References:<br>Stankiewicz et al., 2010",
              "Yellowstone<br>Erupted volume: 2450.0<br><br>References:<br>(Iyer et al., 1981, Benz and Smith, 1984, Clawson et al., 1989, Miller and Smith, 1999, Husen and Smith, 2004, Yuan and Dueker, 2005)",
              "Yellowstone<br>Erupted volume: 2450.0<br><br>References:<br>Chu et al., 2010",
              "Yellowstone<br>Erupted volume: 2450.0<br><br>References:<br>Farrell et al., 2014",
              "Yellowstone<br>Erupted volume: 2450.0<br><br>References:<br>Huang et al., 2015",
              "Yellowstone<br>Erupted volume: 2450.0<br><br>References:<br>Miller and Smith, 1999",
              "Yellowstone<br>Erupted volume: 2450.0<br><br>References:<br>Jiang, 2018",
              "Long Valley<br>Erupted volume: nan<br><br>References:<br>(Peppin, 1985, Dawson et al., 1987, Hauksson, 1988, Dawson et al., 1990, Sanders, 1993a, Sanders, 1993b, Sanders et al., 1994, Steck, 1995, Sanders et al., 1995, Weiland et al., 1995, O'Doherty et al., 1997)",
              "Long Valley<br>Erupted volume: nan<br><br>References:<br>Jiang, 2018",
              "Valles<br>Erupted volume: nan<br><br>References:<br>Lutter et al. (1995)",
              "Taupo<br>Erupted volume: nan<br><br>References:<br>Sherburn et al. (2003)",
              "Newberry volcano<br>Erupted volume: nan<br><br>References:<br>(Achauer et al., 1988, Stauber et al., 1988)",
              "Medicine Lake<br>Erupted volume: nan<br><br>References:<br>(Evans and Zucca, 1988, Lees and Crosson, 1989, Ritter and Evans, 1997)",
              "Mt. St. Helens<br>Erupted volume: nan<br><br>References:<br>Lees (1992)",
              "Mt. Rainier<br>Erupted volume: nan<br><br>References:<br>(Lees and Crosson, 1990, Moran et al., 1999)",
              null,
              "Krafla<br>Erupted volume: nan<br><br>References:<br>(Einarsson, 1978, Foulger and Arnott, 1993)",
              "Hekla<br>Erupted volume: nan<br><br>References:<br>Soosalu and Einarsson (2004)",
              "Torfajökull<br>Erupted volume: nan<br><br>References:<br>Soosalu and Einarsson (2004)",
              "Hengill–Grensdalur<br>Erupted volume: nan<br><br>References:<br>Toomey and Foulger (1989)",
              "Redoubt<br>Erupted volume: nan<br><br>References:<br>Benz et al. (1996)",
              "Unzen<br>Erupted volume: nan<br><br>References:<br>Ohmi and Lees (1995)",
              "Onikobe<br>Erupted volume: nan<br><br>References:<br>Nakajima and Hasegawa (2003)",
              "Kirishima<br>Erupted volume: nan<br><br>References:<br>Yamamoto and Ida (1994)",
              "Nikko-Shirane<br>Erupted volume: nan<br><br>References:<br>Horiuchi et al. (1997)",
              "Mt. Fuji<br>Erupted volume: nan<br><br>References:<br>Nakamichi (2005)",
              "Klyuchevskoy<br>Erupted volume: nan<br><br>References:<br>(Anosov et al., 1978, Ozerov, 2000)",
              "Halemaumau<br>Erupted volume: nan<br><br>References:<br>Rowan and Clayton (1993)",
              "Kilauea<br>Erupted volume: nan<br><br>References:<br>(Thurber, 1984, Rowan and Clayton, 1993, Okubo et al., 1997, Haslinger et al., 2001)",
              "Vesuvius<br>Erupted volume: nan<br><br>References:<br>(De Natale et al., 1998, Zollo et al., 1998)",
              "Campi Flegrei<br>Erupted volume: nan<br><br>References:<br>1988; Aster et al., 1992",
              "Mt. Etna<br>Erupted volume: nan<br><br>References:<br>(Cardaci et al., 1993, Villasenor et al., 1998, Laigle and Hirn, 1999, Chiarabba et al., 2000, Aloisi et al., 2002)",
              null,
              "Pinatubo<br>Erupted volume: nan<br><br>References:<br>Mori et al. (1996)",
              "Nevado del Ruiz<br>Erupted volume: nan<br><br>References:<br>Londoño and Sudo (2003)",
              "Tungurahua<br>Erupted volume: nan<br><br>References:<br>Molina et al. (2005)",
              "Gran Canaria<br>Erupted volume: nan<br><br>References:<br>Krastel and Schmincke (2002)"
             ],
             "type": "scattergeo"
            }
           ],
           "layout": {
            "template": {
             "data": {
              "bar": [
               {
                "error_x": {
                 "color": "#2a3f5f"
                },
                "error_y": {
                 "color": "#2a3f5f"
                },
                "marker": {
                 "line": {
                  "color": "#E5ECF6",
                  "width": 0.5
                 }
                },
                "type": "bar"
               }
              ],
              "barpolar": [
               {
                "marker": {
                 "line": {
                  "color": "#E5ECF6",
                  "width": 0.5
                 }
                },
                "type": "barpolar"
               }
              ],
              "carpet": [
               {
                "aaxis": {
                 "endlinecolor": "#2a3f5f",
                 "gridcolor": "white",
                 "linecolor": "white",
                 "minorgridcolor": "white",
                 "startlinecolor": "#2a3f5f"
                },
                "baxis": {
                 "endlinecolor": "#2a3f5f",
                 "gridcolor": "white",
                 "linecolor": "white",
                 "minorgridcolor": "white",
                 "startlinecolor": "#2a3f5f"
                },
                "type": "carpet"
               }
              ],
              "choropleth": [
               {
                "colorbar": {
                 "outlinewidth": 0,
                 "ticks": ""
                },
                "type": "choropleth"
               }
              ],
              "contour": [
               {
                "colorbar": {
                 "outlinewidth": 0,
                 "ticks": ""
                },
                "colorscale": [
                 [
                  0,
                  "#0d0887"
                 ],
                 [
                  0.1111111111111111,
                  "#46039f"
                 ],
                 [
                  0.2222222222222222,
                  "#7201a8"
                 ],
                 [
                  0.3333333333333333,
                  "#9c179e"
                 ],
                 [
                  0.4444444444444444,
                  "#bd3786"
                 ],
                 [
                  0.5555555555555556,
                  "#d8576b"
                 ],
                 [
                  0.6666666666666666,
                  "#ed7953"
                 ],
                 [
                  0.7777777777777778,
                  "#fb9f3a"
                 ],
                 [
                  0.8888888888888888,
                  "#fdca26"
                 ],
                 [
                  1,
                  "#f0f921"
                 ]
                ],
                "type": "contour"
               }
              ],
              "contourcarpet": [
               {
                "colorbar": {
                 "outlinewidth": 0,
                 "ticks": ""
                },
                "type": "contourcarpet"
               }
              ],
              "heatmap": [
               {
                "colorbar": {
                 "outlinewidth": 0,
                 "ticks": ""
                },
                "colorscale": [
                 [
                  0,
                  "#0d0887"
                 ],
                 [
                  0.1111111111111111,
                  "#46039f"
                 ],
                 [
                  0.2222222222222222,
                  "#7201a8"
                 ],
                 [
                  0.3333333333333333,
                  "#9c179e"
                 ],
                 [
                  0.4444444444444444,
                  "#bd3786"
                 ],
                 [
                  0.5555555555555556,
                  "#d8576b"
                 ],
                 [
                  0.6666666666666666,
                  "#ed7953"
                 ],
                 [
                  0.7777777777777778,
                  "#fb9f3a"
                 ],
                 [
                  0.8888888888888888,
                  "#fdca26"
                 ],
                 [
                  1,
                  "#f0f921"
                 ]
                ],
                "type": "heatmap"
               }
              ],
              "heatmapgl": [
               {
                "colorbar": {
                 "outlinewidth": 0,
                 "ticks": ""
                },
                "colorscale": [
                 [
                  0,
                  "#0d0887"
                 ],
                 [
                  0.1111111111111111,
                  "#46039f"
                 ],
                 [
                  0.2222222222222222,
                  "#7201a8"
                 ],
                 [
                  0.3333333333333333,
                  "#9c179e"
                 ],
                 [
                  0.4444444444444444,
                  "#bd3786"
                 ],
                 [
                  0.5555555555555556,
                  "#d8576b"
                 ],
                 [
                  0.6666666666666666,
                  "#ed7953"
                 ],
                 [
                  0.7777777777777778,
                  "#fb9f3a"
                 ],
                 [
                  0.8888888888888888,
                  "#fdca26"
                 ],
                 [
                  1,
                  "#f0f921"
                 ]
                ],
                "type": "heatmapgl"
               }
              ],
              "histogram": [
               {
                "marker": {
                 "colorbar": {
                  "outlinewidth": 0,
                  "ticks": ""
                 }
                },
                "type": "histogram"
               }
              ],
              "histogram2d": [
               {
                "colorbar": {
                 "outlinewidth": 0,
                 "ticks": ""
                },
                "colorscale": [
                 [
                  0,
                  "#0d0887"
                 ],
                 [
                  0.1111111111111111,
                  "#46039f"
                 ],
                 [
                  0.2222222222222222,
                  "#7201a8"
                 ],
                 [
                  0.3333333333333333,
                  "#9c179e"
                 ],
                 [
                  0.4444444444444444,
                  "#bd3786"
                 ],
                 [
                  0.5555555555555556,
                  "#d8576b"
                 ],
                 [
                  0.6666666666666666,
                  "#ed7953"
                 ],
                 [
                  0.7777777777777778,
                  "#fb9f3a"
                 ],
                 [
                  0.8888888888888888,
                  "#fdca26"
                 ],
                 [
                  1,
                  "#f0f921"
                 ]
                ],
                "type": "histogram2d"
               }
              ],
              "histogram2dcontour": [
               {
                "colorbar": {
                 "outlinewidth": 0,
                 "ticks": ""
                },
                "colorscale": [
                 [
                  0,
                  "#0d0887"
                 ],
                 [
                  0.1111111111111111,
                  "#46039f"
                 ],
                 [
                  0.2222222222222222,
                  "#7201a8"
                 ],
                 [
                  0.3333333333333333,
                  "#9c179e"
                 ],
                 [
                  0.4444444444444444,
                  "#bd3786"
                 ],
                 [
                  0.5555555555555556,
                  "#d8576b"
                 ],
                 [
                  0.6666666666666666,
                  "#ed7953"
                 ],
                 [
                  0.7777777777777778,
                  "#fb9f3a"
                 ],
                 [
                  0.8888888888888888,
                  "#fdca26"
                 ],
                 [
                  1,
                  "#f0f921"
                 ]
                ],
                "type": "histogram2dcontour"
               }
              ],
              "mesh3d": [
               {
                "colorbar": {
                 "outlinewidth": 0,
                 "ticks": ""
                },
                "type": "mesh3d"
               }
              ],
              "parcoords": [
               {
                "line": {
                 "colorbar": {
                  "outlinewidth": 0,
                  "ticks": ""
                 }
                },
                "type": "parcoords"
               }
              ],
              "pie": [
               {
                "automargin": true,
                "type": "pie"
               }
              ],
              "scatter": [
               {
                "marker": {
                 "colorbar": {
                  "outlinewidth": 0,
                  "ticks": ""
                 }
                },
                "type": "scatter"
               }
              ],
              "scatter3d": [
               {
                "line": {
                 "colorbar": {
                  "outlinewidth": 0,
                  "ticks": ""
                 }
                },
                "marker": {
                 "colorbar": {
                  "outlinewidth": 0,
                  "ticks": ""
                 }
                },
                "type": "scatter3d"
               }
              ],
              "scattercarpet": [
               {
                "marker": {
                 "colorbar": {
                  "outlinewidth": 0,
                  "ticks": ""
                 }
                },
                "type": "scattercarpet"
               }
              ],
              "scattergeo": [
               {
                "marker": {
                 "colorbar": {
                  "outlinewidth": 0,
                  "ticks": ""
                 }
                },
                "type": "scattergeo"
               }
              ],
              "scattergl": [
               {
                "marker": {
                 "colorbar": {
                  "outlinewidth": 0,
                  "ticks": ""
                 }
                },
                "type": "scattergl"
               }
              ],
              "scattermapbox": [
               {
                "marker": {
                 "colorbar": {
                  "outlinewidth": 0,
                  "ticks": ""
                 }
                },
                "type": "scattermapbox"
               }
              ],
              "scatterpolar": [
               {
                "marker": {
                 "colorbar": {
                  "outlinewidth": 0,
                  "ticks": ""
                 }
                },
                "type": "scatterpolar"
               }
              ],
              "scatterpolargl": [
               {
                "marker": {
                 "colorbar": {
                  "outlinewidth": 0,
                  "ticks": ""
                 }
                },
                "type": "scatterpolargl"
               }
              ],
              "scatterternary": [
               {
                "marker": {
                 "colorbar": {
                  "outlinewidth": 0,
                  "ticks": ""
                 }
                },
                "type": "scatterternary"
               }
              ],
              "surface": [
               {
                "colorbar": {
                 "outlinewidth": 0,
                 "ticks": ""
                },
                "colorscale": [
                 [
                  0,
                  "#0d0887"
                 ],
                 [
                  0.1111111111111111,
                  "#46039f"
                 ],
                 [
                  0.2222222222222222,
                  "#7201a8"
                 ],
                 [
                  0.3333333333333333,
                  "#9c179e"
                 ],
                 [
                  0.4444444444444444,
                  "#bd3786"
                 ],
                 [
                  0.5555555555555556,
                  "#d8576b"
                 ],
                 [
                  0.6666666666666666,
                  "#ed7953"
                 ],
                 [
                  0.7777777777777778,
                  "#fb9f3a"
                 ],
                 [
                  0.8888888888888888,
                  "#fdca26"
                 ],
                 [
                  1,
                  "#f0f921"
                 ]
                ],
                "type": "surface"
               }
              ],
              "table": [
               {
                "cells": {
                 "fill": {
                  "color": "#EBF0F8"
                 },
                 "line": {
                  "color": "white"
                 }
                },
                "header": {
                 "fill": {
                  "color": "#C8D4E3"
                 },
                 "line": {
                  "color": "white"
                 }
                },
                "type": "table"
               }
              ]
             },
             "layout": {
              "annotationdefaults": {
               "arrowcolor": "#2a3f5f",
               "arrowhead": 0,
               "arrowwidth": 1
              },
              "coloraxis": {
               "colorbar": {
                "outlinewidth": 0,
                "ticks": ""
               }
              },
              "colorscale": {
               "diverging": [
                [
                 0,
                 "#8e0152"
                ],
                [
                 0.1,
                 "#c51b7d"
                ],
                [
                 0.2,
                 "#de77ae"
                ],
                [
                 0.3,
                 "#f1b6da"
                ],
                [
                 0.4,
                 "#fde0ef"
                ],
                [
                 0.5,
                 "#f7f7f7"
                ],
                [
                 0.6,
                 "#e6f5d0"
                ],
                [
                 0.7,
                 "#b8e186"
                ],
                [
                 0.8,
                 "#7fbc41"
                ],
                [
                 0.9,
                 "#4d9221"
                ],
                [
                 1,
                 "#276419"
                ]
               ],
               "sequential": [
                [
                 0,
                 "#0d0887"
                ],
                [
                 0.1111111111111111,
                 "#46039f"
                ],
                [
                 0.2222222222222222,
                 "#7201a8"
                ],
                [
                 0.3333333333333333,
                 "#9c179e"
                ],
                [
                 0.4444444444444444,
                 "#bd3786"
                ],
                [
                 0.5555555555555556,
                 "#d8576b"
                ],
                [
                 0.6666666666666666,
                 "#ed7953"
                ],
                [
                 0.7777777777777778,
                 "#fb9f3a"
                ],
                [
                 0.8888888888888888,
                 "#fdca26"
                ],
                [
                 1,
                 "#f0f921"
                ]
               ],
               "sequentialminus": [
                [
                 0,
                 "#0d0887"
                ],
                [
                 0.1111111111111111,
                 "#46039f"
                ],
                [
                 0.2222222222222222,
                 "#7201a8"
                ],
                [
                 0.3333333333333333,
                 "#9c179e"
                ],
                [
                 0.4444444444444444,
                 "#bd3786"
                ],
                [
                 0.5555555555555556,
                 "#d8576b"
                ],
                [
                 0.6666666666666666,
                 "#ed7953"
                ],
                [
                 0.7777777777777778,
                 "#fb9f3a"
                ],
                [
                 0.8888888888888888,
                 "#fdca26"
                ],
                [
                 1,
                 "#f0f921"
                ]
               ]
              },
              "colorway": [
               "#636efa",
               "#EF553B",
               "#00cc96",
               "#ab63fa",
               "#FFA15A",
               "#19d3f3",
               "#FF6692",
               "#B6E880",
               "#FF97FF",
               "#FECB52"
              ],
              "font": {
               "color": "#2a3f5f"
              },
              "geo": {
               "bgcolor": "white",
               "lakecolor": "white",
               "landcolor": "#E5ECF6",
               "showlakes": true,
               "showland": true,
               "subunitcolor": "white"
              },
              "hoverlabel": {
               "align": "left"
              },
              "hovermode": "closest",
              "mapbox": {
               "style": "light"
              },
              "paper_bgcolor": "white",
              "plot_bgcolor": "#E5ECF6",
              "polar": {
               "angularaxis": {
                "gridcolor": "white",
                "linecolor": "white",
                "ticks": ""
               },
               "bgcolor": "#E5ECF6",
               "radialaxis": {
                "gridcolor": "white",
                "linecolor": "white",
                "ticks": ""
               }
              },
              "scene": {
               "xaxis": {
                "backgroundcolor": "#E5ECF6",
                "gridcolor": "white",
                "gridwidth": 2,
                "linecolor": "white",
                "showbackground": true,
                "ticks": "",
                "zerolinecolor": "white"
               },
               "yaxis": {
                "backgroundcolor": "#E5ECF6",
                "gridcolor": "white",
                "gridwidth": 2,
                "linecolor": "white",
                "showbackground": true,
                "ticks": "",
                "zerolinecolor": "white"
               },
               "zaxis": {
                "backgroundcolor": "#E5ECF6",
                "gridcolor": "white",
                "gridwidth": 2,
                "linecolor": "white",
                "showbackground": true,
                "ticks": "",
                "zerolinecolor": "white"
               }
              },
              "shapedefaults": {
               "line": {
                "color": "#2a3f5f"
               }
              },
              "ternary": {
               "aaxis": {
                "gridcolor": "white",
                "linecolor": "white",
                "ticks": ""
               },
               "baxis": {
                "gridcolor": "white",
                "linecolor": "white",
                "ticks": ""
               },
               "bgcolor": "#E5ECF6",
               "caxis": {
                "gridcolor": "white",
                "linecolor": "white",
                "ticks": ""
               }
              },
              "title": {
               "x": 0.05
              },
              "xaxis": {
               "automargin": true,
               "gridcolor": "white",
               "linecolor": "white",
               "ticks": "",
               "title": {
                "standoff": 15
               },
               "zerolinecolor": "white",
               "zerolinewidth": 2
              },
              "yaxis": {
               "automargin": true,
               "gridcolor": "white",
               "linecolor": "white",
               "ticks": "",
               "title": {
                "standoff": 15
               },
               "zerolinecolor": "white",
               "zerolinewidth": 2
              }
             }
            }
           }
          },
          "text/html": "<div>\n        \n        \n            <div id=\"f2bb6721-82b2-4f8d-b0bf-3ce5d4595467\" class=\"plotly-graph-div\" style=\"height:525px; width:100%;\"></div>\n            <script type=\"text/javascript\">\n                require([\"plotly\"], function(Plotly) {\n                    window.PLOTLYENV=window.PLOTLYENV || {};\n                    \n                if (document.getElementById(\"f2bb6721-82b2-4f8d-b0bf-3ce5d4595467\")) {\n                    Plotly.newPlot(\n                        'f2bb6721-82b2-4f8d-b0bf-3ce5d4595467',\n                        [{\"lat\": [16.72, 16.72, 36.404, 36.404, 32.884, 32.884, 32.884, 2.58, 2.58, 2.58, 2.58, 44.43, 44.43, 44.43, 44.43, 44.43, 44.43, 37.7166666666667, 37.7166666666667, 35.9, -38.82, 43.722, 41.611, 46.2, 46.853, -22.2666666666667, 65.715, 63.983, 63.892, 64.083, 60.485, 32.761, 38.83, 31.934, 36.7833333333333, 35.361, 56.056, 19.421, 19.421, 40.821, 40.827, 37.748, 38.789, 15.13, 4.892, -1.467, 28.0], \"lon\": [-62.18, -62.18, 25.396, 25.396, 131.104, 131.104, 131.104, 98.83, 98.83, 98.83, 98.83, -110.67, -110.67, -110.67, -110.67, -110.67, -110.67, -118.883333333333, -118.883333333333, -106.533333333333, 176.0, -121.229, -121.554, -122.18, -121.76, -67.1666666666667, -16.728, -19.666, -19.122, -21.416, -152.742, 130.299, 140.7, 130.862, 139.366666666667, 138.728, 160.642, -155.287, -155.287, 14.426, 14.139, 14.999, 15.213, 120.35, -75.324, -78.442, -15.58], \"marker\": {\"size\": [215.44346900318837, 215.44346900318837, 464.15888336127784, 464.15888336127784, 843.4326653017491, 843.4326653017491, 843.4326653017491, 1409.4597464129781, 1409.4597464129781, 1409.4597464129781, 1409.4597464129781, 1348.0997498879249, 1348.0997498879249, 1348.0997498879249, 1348.0997498879249, 1348.0997498879249, 1348.0997498879249, 100.0, 100.0, 100.0, 100.0, 100.0, 100.0, 100.0, 100.0, 100.0, 100.0, 100.0, 100.0, 100.0, 100.0, 100.0, 100.0, 100.0, 100.0, 100.0, 100.0, 100.0, 100.0, 100.0, 100.0, 100.0, 100.0, 100.0, 100.0, 100.0, 100.0], \"sizemode\": \"area\"}, \"text\": [\"Soufriere Hills Volcano<br>Erupted volume: 10.0<br><br>References:<br>Paulatto et al., 2012\", \"Soufriere Hills Volcano<br>Erupted volume: 10.0<br><br>References:<br>Paulatto et al., 2019\", \"Santorini<br>Erupted volume: 100.0<br><br>References:<br>McVey et al., 2019\", null, \"Aso Caldera<br>Erupted volume: 600.0<br><br>References:<br>Sudo & Kong, 2001\", \"Aso Caldera<br>Erupted volume: 600.0<br><br>References:<br>Huang et al., 2018\", \"Aso Caldera<br>Erupted volume: 600.0<br><br>References:<br>Abe et al., 2017\", \"Toba<br>Erupted volume: 2800.0<br><br>References:<br>Koulakov et al., 2009\", \"Toba<br>Erupted volume: 2800.0<br><br>References:<br>Mastruryono et al., 2001\", \"Toba<br>Erupted volume: 2800.0<br><br>References:<br>Jaxybulatov et al., 2014\", \"Toba<br>Erupted volume: 2800.0<br><br>References:<br>Stankiewicz et al., 2010\", \"Yellowstone<br>Erupted volume: 2450.0<br><br>References:<br>(Iyer et al., 1981,\\u00a0Benz and Smith, 1984,\\u00a0Clawson et al., 1989,\\u00a0Miller and Smith, 1999,\\u00a0Husen and Smith, 2004,\\u00a0Yuan and Dueker, 2005)\", \"Yellowstone<br>Erupted volume: 2450.0<br><br>References:<br>Chu et al., 2010\", \"Yellowstone<br>Erupted volume: 2450.0<br><br>References:<br>Farrell et al., 2014\", \"Yellowstone<br>Erupted volume: 2450.0<br><br>References:<br>Huang et al., 2015\", \"Yellowstone<br>Erupted volume: 2450.0<br><br>References:<br>Miller and Smith, 1999\", \"Yellowstone<br>Erupted volume: 2450.0<br><br>References:<br>Jiang, 2018\", \"Long Valley<br>Erupted volume: nan<br><br>References:<br>(Peppin, 1985,\\u00a0Dawson et al., 1987,\\u00a0Hauksson, 1988,\\u00a0Dawson et al., 1990,\\u00a0Sanders, 1993a,\\u00a0Sanders, 1993b,\\u00a0Sanders et al., 1994,\\u00a0Steck, 1995,\\u00a0Sanders et al., 1995,\\u00a0Weiland et al., 1995,\\u00a0O'Doherty et al., 1997)\", \"Long Valley<br>Erupted volume: nan<br><br>References:<br>Jiang, 2018\", \"Valles<br>Erupted volume: nan<br><br>References:<br>Lutter et al. (1995)\", \"Taupo<br>Erupted volume: nan<br><br>References:<br>Sherburn et al. (2003)\", \"Newberry volcano<br>Erupted volume: nan<br><br>References:<br>(Achauer et al., 1988,\\u00a0Stauber et al., 1988)\", \"Medicine Lake<br>Erupted volume: nan<br><br>References:<br>(Evans and Zucca, 1988,\\u00a0Lees and Crosson, 1989,\\u00a0Ritter and Evans, 1997)\", \"Mt. St. Helens<br>Erupted volume: nan<br><br>References:<br>Lees (1992)\", \"Mt. Rainier<br>Erupted volume: nan<br><br>References:<br>(Lees and Crosson, 1990,\\u00a0Moran et al., 1999)\", null, \"Krafla<br>Erupted volume: nan<br><br>References:<br>(Einarsson, 1978,\\u00a0Foulger and Arnott, 1993)\", \"Hekla<br>Erupted volume: nan<br><br>References:<br>Soosalu and Einarsson (2004)\", \"Torfaj\\u00f6kull<br>Erupted volume: nan<br><br>References:<br>Soosalu and Einarsson (2004)\", \"Hengill\\u2013Grensdalur<br>Erupted volume: nan<br><br>References:<br>Toomey and Foulger (1989)\", \"Redoubt<br>Erupted volume: nan<br><br>References:<br>Benz et al. (1996)\", \"Unzen<br>Erupted volume: nan<br><br>References:<br>Ohmi and Lees (1995)\", \"Onikobe<br>Erupted volume: nan<br><br>References:<br>Nakajima and Hasegawa (2003)\", \"Kirishima<br>Erupted volume: nan<br><br>References:<br>Yamamoto and Ida (1994)\", \"Nikko-Shirane<br>Erupted volume: nan<br><br>References:<br>Horiuchi et al. (1997)\", \"Mt. Fuji<br>Erupted volume: nan<br><br>References:<br>Nakamichi (2005)\", \"Klyuchevskoy<br>Erupted volume: nan<br><br>References:<br>(Anosov et al., 1978,\\u00a0Ozerov, 2000)\", \"Halemaumau<br>Erupted volume: nan<br><br>References:<br>Rowan and Clayton (1993)\", \"Kilauea<br>Erupted volume: nan<br><br>References:<br>(Thurber, 1984,\\u00a0Rowan and Clayton, 1993,\\u00a0Okubo et al., 1997,\\u00a0Haslinger et al., 2001)\", \"Vesuvius<br>Erupted volume: nan<br><br>References:<br>(De Natale et al., 1998,\\u00a0Zollo et al., 1998)\", \"Campi Flegrei<br>Erupted volume: nan<br><br>References:<br>1988;\\u00a0Aster et al., 1992\", \"Mt. Etna<br>Erupted volume: nan<br><br>References:<br>(Cardaci et al., 1993,\\u00a0Villasenor et al., 1998,\\u00a0Laigle and Hirn, 1999,\\u00a0Chiarabba et al., 2000,\\u00a0Aloisi et al., 2002)\", null, \"Pinatubo<br>Erupted volume: nan<br><br>References:<br>Mori et al. (1996)\", \"Nevado del Ruiz<br>Erupted volume: nan<br><br>References:<br>Londo\\u00f1o and Sudo (2003)\", \"Tungurahua<br>Erupted volume: nan<br><br>References:<br>Molina et al. (2005)\", \"Gran Canaria<br>Erupted volume: nan<br><br>References:<br>Krastel and Schmincke (2002)\"], \"type\": \"scattergeo\"}],\n                        {\"template\": {\"data\": {\"bar\": [{\"error_x\": {\"color\": \"#2a3f5f\"}, \"error_y\": {\"color\": \"#2a3f5f\"}, \"marker\": {\"line\": {\"color\": \"#E5ECF6\", \"width\": 0.5}}, \"type\": \"bar\"}], \"barpolar\": [{\"marker\": {\"line\": {\"color\": \"#E5ECF6\", \"width\": 0.5}}, \"type\": \"barpolar\"}], \"carpet\": [{\"aaxis\": {\"endlinecolor\": \"#2a3f5f\", \"gridcolor\": \"white\", \"linecolor\": \"white\", \"minorgridcolor\": \"white\", \"startlinecolor\": \"#2a3f5f\"}, \"baxis\": {\"endlinecolor\": \"#2a3f5f\", \"gridcolor\": \"white\", \"linecolor\": \"white\", \"minorgridcolor\": \"white\", \"startlinecolor\": \"#2a3f5f\"}, \"type\": \"carpet\"}], \"choropleth\": [{\"colorbar\": {\"outlinewidth\": 0, \"ticks\": \"\"}, \"type\": \"choropleth\"}], \"contour\": [{\"colorbar\": {\"outlinewidth\": 0, \"ticks\": \"\"}, \"colorscale\": [[0.0, \"#0d0887\"], [0.1111111111111111, \"#46039f\"], [0.2222222222222222, \"#7201a8\"], [0.3333333333333333, \"#9c179e\"], [0.4444444444444444, \"#bd3786\"], [0.5555555555555556, \"#d8576b\"], [0.6666666666666666, \"#ed7953\"], [0.7777777777777778, \"#fb9f3a\"], [0.8888888888888888, \"#fdca26\"], [1.0, \"#f0f921\"]], \"type\": \"contour\"}], \"contourcarpet\": [{\"colorbar\": {\"outlinewidth\": 0, \"ticks\": \"\"}, \"type\": \"contourcarpet\"}], \"heatmap\": [{\"colorbar\": {\"outlinewidth\": 0, \"ticks\": \"\"}, \"colorscale\": [[0.0, \"#0d0887\"], [0.1111111111111111, \"#46039f\"], [0.2222222222222222, \"#7201a8\"], [0.3333333333333333, \"#9c179e\"], [0.4444444444444444, \"#bd3786\"], [0.5555555555555556, \"#d8576b\"], [0.6666666666666666, \"#ed7953\"], [0.7777777777777778, \"#fb9f3a\"], [0.8888888888888888, \"#fdca26\"], [1.0, \"#f0f921\"]], \"type\": \"heatmap\"}], \"heatmapgl\": [{\"colorbar\": {\"outlinewidth\": 0, \"ticks\": \"\"}, \"colorscale\": [[0.0, \"#0d0887\"], [0.1111111111111111, \"#46039f\"], [0.2222222222222222, \"#7201a8\"], [0.3333333333333333, \"#9c179e\"], [0.4444444444444444, \"#bd3786\"], [0.5555555555555556, \"#d8576b\"], [0.6666666666666666, \"#ed7953\"], [0.7777777777777778, \"#fb9f3a\"], [0.8888888888888888, \"#fdca26\"], [1.0, \"#f0f921\"]], \"type\": \"heatmapgl\"}], \"histogram\": [{\"marker\": {\"colorbar\": {\"outlinewidth\": 0, \"ticks\": \"\"}}, \"type\": \"histogram\"}], \"histogram2d\": [{\"colorbar\": {\"outlinewidth\": 0, \"ticks\": \"\"}, \"colorscale\": [[0.0, \"#0d0887\"], [0.1111111111111111, \"#46039f\"], [0.2222222222222222, \"#7201a8\"], [0.3333333333333333, \"#9c179e\"], [0.4444444444444444, \"#bd3786\"], [0.5555555555555556, \"#d8576b\"], [0.6666666666666666, \"#ed7953\"], [0.7777777777777778, \"#fb9f3a\"], [0.8888888888888888, \"#fdca26\"], [1.0, \"#f0f921\"]], \"type\": \"histogram2d\"}], \"histogram2dcontour\": [{\"colorbar\": {\"outlinewidth\": 0, \"ticks\": \"\"}, \"colorscale\": [[0.0, \"#0d0887\"], [0.1111111111111111, \"#46039f\"], [0.2222222222222222, \"#7201a8\"], [0.3333333333333333, \"#9c179e\"], [0.4444444444444444, \"#bd3786\"], [0.5555555555555556, \"#d8576b\"], [0.6666666666666666, \"#ed7953\"], [0.7777777777777778, \"#fb9f3a\"], [0.8888888888888888, \"#fdca26\"], [1.0, \"#f0f921\"]], \"type\": \"histogram2dcontour\"}], \"mesh3d\": [{\"colorbar\": {\"outlinewidth\": 0, \"ticks\": \"\"}, \"type\": \"mesh3d\"}], \"parcoords\": [{\"line\": {\"colorbar\": {\"outlinewidth\": 0, \"ticks\": \"\"}}, \"type\": \"parcoords\"}], \"pie\": [{\"automargin\": true, \"type\": \"pie\"}], \"scatter\": [{\"marker\": {\"colorbar\": {\"outlinewidth\": 0, \"ticks\": \"\"}}, \"type\": \"scatter\"}], \"scatter3d\": [{\"line\": {\"colorbar\": {\"outlinewidth\": 0, \"ticks\": \"\"}}, \"marker\": {\"colorbar\": {\"outlinewidth\": 0, \"ticks\": \"\"}}, \"type\": \"scatter3d\"}], \"scattercarpet\": [{\"marker\": {\"colorbar\": {\"outlinewidth\": 0, \"ticks\": \"\"}}, \"type\": \"scattercarpet\"}], \"scattergeo\": [{\"marker\": {\"colorbar\": {\"outlinewidth\": 0, \"ticks\": \"\"}}, \"type\": \"scattergeo\"}], \"scattergl\": [{\"marker\": {\"colorbar\": {\"outlinewidth\": 0, \"ticks\": \"\"}}, \"type\": \"scattergl\"}], \"scattermapbox\": [{\"marker\": {\"colorbar\": {\"outlinewidth\": 0, \"ticks\": \"\"}}, \"type\": \"scattermapbox\"}], \"scatterpolar\": [{\"marker\": {\"colorbar\": {\"outlinewidth\": 0, \"ticks\": \"\"}}, \"type\": \"scatterpolar\"}], \"scatterpolargl\": [{\"marker\": {\"colorbar\": {\"outlinewidth\": 0, \"ticks\": \"\"}}, \"type\": \"scatterpolargl\"}], \"scatterternary\": [{\"marker\": {\"colorbar\": {\"outlinewidth\": 0, \"ticks\": \"\"}}, \"type\": \"scatterternary\"}], \"surface\": [{\"colorbar\": {\"outlinewidth\": 0, \"ticks\": \"\"}, \"colorscale\": [[0.0, \"#0d0887\"], [0.1111111111111111, \"#46039f\"], [0.2222222222222222, \"#7201a8\"], [0.3333333333333333, \"#9c179e\"], [0.4444444444444444, \"#bd3786\"], [0.5555555555555556, \"#d8576b\"], [0.6666666666666666, \"#ed7953\"], [0.7777777777777778, \"#fb9f3a\"], [0.8888888888888888, \"#fdca26\"], [1.0, \"#f0f921\"]], \"type\": \"surface\"}], \"table\": [{\"cells\": {\"fill\": {\"color\": \"#EBF0F8\"}, \"line\": {\"color\": \"white\"}}, \"header\": {\"fill\": {\"color\": \"#C8D4E3\"}, \"line\": {\"color\": \"white\"}}, \"type\": \"table\"}]}, \"layout\": {\"annotationdefaults\": {\"arrowcolor\": \"#2a3f5f\", \"arrowhead\": 0, \"arrowwidth\": 1}, \"coloraxis\": {\"colorbar\": {\"outlinewidth\": 0, \"ticks\": \"\"}}, \"colorscale\": {\"diverging\": [[0, \"#8e0152\"], [0.1, \"#c51b7d\"], [0.2, \"#de77ae\"], [0.3, \"#f1b6da\"], [0.4, \"#fde0ef\"], [0.5, \"#f7f7f7\"], [0.6, \"#e6f5d0\"], [0.7, \"#b8e186\"], [0.8, \"#7fbc41\"], [0.9, \"#4d9221\"], [1, \"#276419\"]], \"sequential\": [[0.0, \"#0d0887\"], [0.1111111111111111, \"#46039f\"], [0.2222222222222222, \"#7201a8\"], [0.3333333333333333, \"#9c179e\"], [0.4444444444444444, \"#bd3786\"], [0.5555555555555556, \"#d8576b\"], [0.6666666666666666, \"#ed7953\"], [0.7777777777777778, \"#fb9f3a\"], [0.8888888888888888, \"#fdca26\"], [1.0, \"#f0f921\"]], \"sequentialminus\": [[0.0, \"#0d0887\"], [0.1111111111111111, \"#46039f\"], [0.2222222222222222, \"#7201a8\"], [0.3333333333333333, \"#9c179e\"], [0.4444444444444444, \"#bd3786\"], [0.5555555555555556, \"#d8576b\"], [0.6666666666666666, \"#ed7953\"], [0.7777777777777778, \"#fb9f3a\"], [0.8888888888888888, \"#fdca26\"], [1.0, \"#f0f921\"]]}, \"colorway\": [\"#636efa\", \"#EF553B\", \"#00cc96\", \"#ab63fa\", \"#FFA15A\", \"#19d3f3\", \"#FF6692\", \"#B6E880\", \"#FF97FF\", \"#FECB52\"], \"font\": {\"color\": \"#2a3f5f\"}, \"geo\": {\"bgcolor\": \"white\", \"lakecolor\": \"white\", \"landcolor\": \"#E5ECF6\", \"showlakes\": true, \"showland\": true, \"subunitcolor\": \"white\"}, \"hoverlabel\": {\"align\": \"left\"}, \"hovermode\": \"closest\", \"mapbox\": {\"style\": \"light\"}, \"paper_bgcolor\": \"white\", \"plot_bgcolor\": \"#E5ECF6\", \"polar\": {\"angularaxis\": {\"gridcolor\": \"white\", \"linecolor\": \"white\", \"ticks\": \"\"}, \"bgcolor\": \"#E5ECF6\", \"radialaxis\": {\"gridcolor\": \"white\", \"linecolor\": \"white\", \"ticks\": \"\"}}, \"scene\": {\"xaxis\": {\"backgroundcolor\": \"#E5ECF6\", \"gridcolor\": \"white\", \"gridwidth\": 2, \"linecolor\": \"white\", \"showbackground\": true, \"ticks\": \"\", \"zerolinecolor\": \"white\"}, \"yaxis\": {\"backgroundcolor\": \"#E5ECF6\", \"gridcolor\": \"white\", \"gridwidth\": 2, \"linecolor\": \"white\", \"showbackground\": true, \"ticks\": \"\", \"zerolinecolor\": \"white\"}, \"zaxis\": {\"backgroundcolor\": \"#E5ECF6\", \"gridcolor\": \"white\", \"gridwidth\": 2, \"linecolor\": \"white\", \"showbackground\": true, \"ticks\": \"\", \"zerolinecolor\": \"white\"}}, \"shapedefaults\": {\"line\": {\"color\": \"#2a3f5f\"}}, \"ternary\": {\"aaxis\": {\"gridcolor\": \"white\", \"linecolor\": \"white\", \"ticks\": \"\"}, \"baxis\": {\"gridcolor\": \"white\", \"linecolor\": \"white\", \"ticks\": \"\"}, \"bgcolor\": \"#E5ECF6\", \"caxis\": {\"gridcolor\": \"white\", \"linecolor\": \"white\", \"ticks\": \"\"}}, \"title\": {\"x\": 0.05}, \"xaxis\": {\"automargin\": true, \"gridcolor\": \"white\", \"linecolor\": \"white\", \"ticks\": \"\", \"title\": {\"standoff\": 15}, \"zerolinecolor\": \"white\", \"zerolinewidth\": 2}, \"yaxis\": {\"automargin\": true, \"gridcolor\": \"white\", \"linecolor\": \"white\", \"ticks\": \"\", \"title\": {\"standoff\": 15}, \"zerolinecolor\": \"white\", \"zerolinewidth\": 2}}}},\n                        {\"responsive\": true}\n                    ).then(function(){\n                            \nvar gd = document.getElementById('f2bb6721-82b2-4f8d-b0bf-3ce5d4595467');\nvar x = new MutationObserver(function (mutations, observer) {{\n        var display = window.getComputedStyle(gd).display;\n        if (!display || display === 'none') {{\n            console.log([gd, 'removed!']);\n            Plotly.purge(gd);\n            observer.disconnect();\n        }}\n}});\n\n// Listen for the removal of the full notebook cells\nvar notebookContainer = gd.closest('#notebook-container');\nif (notebookContainer) {{\n    x.observe(notebookContainer, {childList: true});\n}}\n\n// Listen for the clearing of the current output cell\nvar outputEl = gd.closest('.output');\nif (outputEl) {{\n    x.observe(outputEl, {childList: true});\n}}\n\n                        })\n                };\n                });\n            </script>\n        </div>"
         },
         "metadata": {},
         "output_type": "display_data"
        }
       ]
      }
     },
     "e207039a1cb648a3a27a925457696c16": {
      "model_module": "@jupyter-widgets/controls",
      "model_module_version": "1.5.0",
      "model_name": "VBoxModel",
      "state": {
       "_dom_classes": [
        "widget-interact"
       ],
       "children": [
        "IPY_MODEL_bc1de7b00cac49ad9e8a814329a66939",
        "IPY_MODEL_9d710cd925ea480fba58006969b5ed84"
       ],
       "layout": "IPY_MODEL_284c360892484dc6a3041bb247cd61e3"
      }
     },
     "e4e502bfc51f4ebd8614d01163180b05": {
      "model_module": "@jupyter-widgets/base",
      "model_module_version": "1.2.0",
      "model_name": "LayoutModel",
      "state": {}
     },
     "e52c5717a2db423a83b6a2c3226039ef": {
      "model_module": "@jupyter-widgets/controls",
      "model_module_version": "1.5.0",
      "model_name": "VBoxModel",
      "state": {
       "_dom_classes": [
        "widget-interact"
       ],
       "children": [
        "IPY_MODEL_747c088e5e95458689bd8485d7f8b35b",
        "IPY_MODEL_afbe4df0a55c4c838e90dba9f1bfa123"
       ],
       "layout": "IPY_MODEL_15f56f712a4f434d96474c1996b9bcc1"
      }
     },
     "e55e9443163e422eafa89b6d9f8f46c0": {
      "model_module": "@jupyter-widgets/output",
      "model_module_version": "1.0.0",
      "model_name": "OutputModel",
      "state": {
       "layout": "IPY_MODEL_b04f7aa753074c968faeac178aef38ff",
       "outputs": [
        {
         "data": {
          "application/vnd.plotly.v1+json": {
           "config": {
            "plotlyServerURL": "https://plot.ly"
           },
           "data": [
            {
             "lat": [
              16.72,
              16.72,
              36.404,
              36.404,
              32.884,
              32.884,
              32.884,
              2.58,
              2.58,
              2.58,
              2.58,
              44.43,
              44.43,
              44.43,
              44.43,
              44.43,
              44.43,
              37.7166666666667,
              37.7166666666667,
              35.9,
              -38.82,
              43.722,
              41.611,
              46.2,
              46.853,
              -22.2666666666667,
              65.715,
              63.983,
              63.892,
              64.083,
              60.485,
              32.761,
              38.83,
              31.934,
              36.7833333333333,
              35.361,
              56.056,
              19.421,
              19.421,
              40.821,
              40.827,
              37.748,
              38.789,
              15.13,
              4.892,
              -1.467,
              28
             ],
             "lon": [
              -62.18,
              -62.18,
              25.396,
              25.396,
              131.104,
              131.104,
              131.104,
              98.83,
              98.83,
              98.83,
              98.83,
              -110.67,
              -110.67,
              -110.67,
              -110.67,
              -110.67,
              -110.67,
              -118.883333333333,
              -118.883333333333,
              -106.533333333333,
              176,
              -121.229,
              -121.554,
              -122.18,
              121.76,
              -67.1666666666667,
              -16.728,
              -19.666,
              -19.122,
              -21.416,
              -152.742,
              130.299,
              140.7,
              130.862,
              139.366666666667,
              138.728,
              160.642,
              -155.287,
              -155.287,
              14.426,
              14.139,
              14.999,
              15.213,
              120.35,
              -75.324,
              -78.442,
              -15.58
             ],
             "marker": {
              "size": [
               215.44346900318837,
               215.44346900318837,
               464.15888336127784,
               464.15888336127784,
               843.4326653017491,
               843.4326653017491,
               843.4326653017491,
               1409.4597464129781,
               1409.4597464129781,
               1409.4597464129781,
               1409.4597464129781,
               1348.0997498879249,
               1348.0997498879249,
               1348.0997498879249,
               1348.0997498879249,
               1348.0997498879249,
               1348.0997498879249,
               100,
               100,
               100,
               100,
               100,
               100,
               100,
               100,
               100,
               100,
               100,
               100,
               100,
               100,
               100,
               100,
               100,
               100,
               100,
               100,
               100,
               100,
               100,
               100,
               100,
               100,
               100,
               100,
               100,
               100
              ],
              "sizemode": "area"
             },
             "text": [
              "Soufriere Hills Volcano<br>Erupted volume: 10.0",
              "Soufriere Hills Volcano<br>Erupted volume: 10.0",
              "Santorini<br>Erupted volume: 100.0",
              "Santorini<br>Erupted volume: 100.0",
              "Aso Caldera<br>Erupted volume: 600.0",
              "Aso Caldera<br>Erupted volume: 600.0",
              "Aso Caldera<br>Erupted volume: 600.0",
              "Toba<br>Erupted volume: 2800.0",
              "Toba<br>Erupted volume: 2800.0",
              "Toba<br>Erupted volume: 2800.0",
              "Toba<br>Erupted volume: 2800.0",
              "Yellowstone<br>Erupted volume: 2450.0",
              "Yellowstone<br>Erupted volume: 2450.0",
              "Yellowstone<br>Erupted volume: 2450.0",
              "Yellowstone<br>Erupted volume: 2450.0",
              "Yellowstone<br>Erupted volume: 2450.0",
              "Yellowstone<br>Erupted volume: 2450.0",
              "Long Valley<br>Erupted volume: nan",
              "Long Valley<br>Erupted volume: nan",
              "Valles<br>Erupted volume: nan",
              "Taupo<br>Erupted volume: nan",
              "Newberry volcano<br>Erupted volume: nan",
              "Medicine Lake<br>Erupted volume: nan",
              "Mt. St. Helens<br>Erupted volume: nan",
              "Mt. Rainier<br>Erupted volume: nan",
              "Altiplano Puna<br>Erupted volume: nan",
              "Krafla<br>Erupted volume: nan",
              "Hekla<br>Erupted volume: nan",
              "Torfajökull<br>Erupted volume: nan",
              "Hengill–Grensdalur<br>Erupted volume: nan",
              "Redoubt<br>Erupted volume: nan",
              "Unzen<br>Erupted volume: nan",
              "Onikobe<br>Erupted volume: nan",
              "Kirishima<br>Erupted volume: nan",
              "Nikko-Shirane<br>Erupted volume: nan",
              "Mt. Fuji<br>Erupted volume: nan",
              "Klyuchevskoy<br>Erupted volume: nan",
              "Halemaumau<br>Erupted volume: nan",
              "Kilauea<br>Erupted volume: nan",
              "Vesuvius<br>Erupted volume: nan",
              "Campi Flegrei<br>Erupted volume: nan",
              "Mt. Etna<br>Erupted volume: nan",
              "Stromboli<br>Erupted volume: nan",
              "Pinatubo<br>Erupted volume: nan",
              "Nevado del Ruiz<br>Erupted volume: nan",
              "Tungurahua<br>Erupted volume: nan",
              "Gran Canaria<br>Erupted volume: nan"
             ],
             "type": "scattergeo"
            }
           ],
           "layout": {
            "template": {
             "data": {
              "bar": [
               {
                "error_x": {
                 "color": "#2a3f5f"
                },
                "error_y": {
                 "color": "#2a3f5f"
                },
                "marker": {
                 "line": {
                  "color": "#E5ECF6",
                  "width": 0.5
                 }
                },
                "type": "bar"
               }
              ],
              "barpolar": [
               {
                "marker": {
                 "line": {
                  "color": "#E5ECF6",
                  "width": 0.5
                 }
                },
                "type": "barpolar"
               }
              ],
              "carpet": [
               {
                "aaxis": {
                 "endlinecolor": "#2a3f5f",
                 "gridcolor": "white",
                 "linecolor": "white",
                 "minorgridcolor": "white",
                 "startlinecolor": "#2a3f5f"
                },
                "baxis": {
                 "endlinecolor": "#2a3f5f",
                 "gridcolor": "white",
                 "linecolor": "white",
                 "minorgridcolor": "white",
                 "startlinecolor": "#2a3f5f"
                },
                "type": "carpet"
               }
              ],
              "choropleth": [
               {
                "colorbar": {
                 "outlinewidth": 0,
                 "ticks": ""
                },
                "type": "choropleth"
               }
              ],
              "contour": [
               {
                "colorbar": {
                 "outlinewidth": 0,
                 "ticks": ""
                },
                "colorscale": [
                 [
                  0,
                  "#0d0887"
                 ],
                 [
                  0.1111111111111111,
                  "#46039f"
                 ],
                 [
                  0.2222222222222222,
                  "#7201a8"
                 ],
                 [
                  0.3333333333333333,
                  "#9c179e"
                 ],
                 [
                  0.4444444444444444,
                  "#bd3786"
                 ],
                 [
                  0.5555555555555556,
                  "#d8576b"
                 ],
                 [
                  0.6666666666666666,
                  "#ed7953"
                 ],
                 [
                  0.7777777777777778,
                  "#fb9f3a"
                 ],
                 [
                  0.8888888888888888,
                  "#fdca26"
                 ],
                 [
                  1,
                  "#f0f921"
                 ]
                ],
                "type": "contour"
               }
              ],
              "contourcarpet": [
               {
                "colorbar": {
                 "outlinewidth": 0,
                 "ticks": ""
                },
                "type": "contourcarpet"
               }
              ],
              "heatmap": [
               {
                "colorbar": {
                 "outlinewidth": 0,
                 "ticks": ""
                },
                "colorscale": [
                 [
                  0,
                  "#0d0887"
                 ],
                 [
                  0.1111111111111111,
                  "#46039f"
                 ],
                 [
                  0.2222222222222222,
                  "#7201a8"
                 ],
                 [
                  0.3333333333333333,
                  "#9c179e"
                 ],
                 [
                  0.4444444444444444,
                  "#bd3786"
                 ],
                 [
                  0.5555555555555556,
                  "#d8576b"
                 ],
                 [
                  0.6666666666666666,
                  "#ed7953"
                 ],
                 [
                  0.7777777777777778,
                  "#fb9f3a"
                 ],
                 [
                  0.8888888888888888,
                  "#fdca26"
                 ],
                 [
                  1,
                  "#f0f921"
                 ]
                ],
                "type": "heatmap"
               }
              ],
              "heatmapgl": [
               {
                "colorbar": {
                 "outlinewidth": 0,
                 "ticks": ""
                },
                "colorscale": [
                 [
                  0,
                  "#0d0887"
                 ],
                 [
                  0.1111111111111111,
                  "#46039f"
                 ],
                 [
                  0.2222222222222222,
                  "#7201a8"
                 ],
                 [
                  0.3333333333333333,
                  "#9c179e"
                 ],
                 [
                  0.4444444444444444,
                  "#bd3786"
                 ],
                 [
                  0.5555555555555556,
                  "#d8576b"
                 ],
                 [
                  0.6666666666666666,
                  "#ed7953"
                 ],
                 [
                  0.7777777777777778,
                  "#fb9f3a"
                 ],
                 [
                  0.8888888888888888,
                  "#fdca26"
                 ],
                 [
                  1,
                  "#f0f921"
                 ]
                ],
                "type": "heatmapgl"
               }
              ],
              "histogram": [
               {
                "marker": {
                 "colorbar": {
                  "outlinewidth": 0,
                  "ticks": ""
                 }
                },
                "type": "histogram"
               }
              ],
              "histogram2d": [
               {
                "colorbar": {
                 "outlinewidth": 0,
                 "ticks": ""
                },
                "colorscale": [
                 [
                  0,
                  "#0d0887"
                 ],
                 [
                  0.1111111111111111,
                  "#46039f"
                 ],
                 [
                  0.2222222222222222,
                  "#7201a8"
                 ],
                 [
                  0.3333333333333333,
                  "#9c179e"
                 ],
                 [
                  0.4444444444444444,
                  "#bd3786"
                 ],
                 [
                  0.5555555555555556,
                  "#d8576b"
                 ],
                 [
                  0.6666666666666666,
                  "#ed7953"
                 ],
                 [
                  0.7777777777777778,
                  "#fb9f3a"
                 ],
                 [
                  0.8888888888888888,
                  "#fdca26"
                 ],
                 [
                  1,
                  "#f0f921"
                 ]
                ],
                "type": "histogram2d"
               }
              ],
              "histogram2dcontour": [
               {
                "colorbar": {
                 "outlinewidth": 0,
                 "ticks": ""
                },
                "colorscale": [
                 [
                  0,
                  "#0d0887"
                 ],
                 [
                  0.1111111111111111,
                  "#46039f"
                 ],
                 [
                  0.2222222222222222,
                  "#7201a8"
                 ],
                 [
                  0.3333333333333333,
                  "#9c179e"
                 ],
                 [
                  0.4444444444444444,
                  "#bd3786"
                 ],
                 [
                  0.5555555555555556,
                  "#d8576b"
                 ],
                 [
                  0.6666666666666666,
                  "#ed7953"
                 ],
                 [
                  0.7777777777777778,
                  "#fb9f3a"
                 ],
                 [
                  0.8888888888888888,
                  "#fdca26"
                 ],
                 [
                  1,
                  "#f0f921"
                 ]
                ],
                "type": "histogram2dcontour"
               }
              ],
              "mesh3d": [
               {
                "colorbar": {
                 "outlinewidth": 0,
                 "ticks": ""
                },
                "type": "mesh3d"
               }
              ],
              "parcoords": [
               {
                "line": {
                 "colorbar": {
                  "outlinewidth": 0,
                  "ticks": ""
                 }
                },
                "type": "parcoords"
               }
              ],
              "pie": [
               {
                "automargin": true,
                "type": "pie"
               }
              ],
              "scatter": [
               {
                "marker": {
                 "colorbar": {
                  "outlinewidth": 0,
                  "ticks": ""
                 }
                },
                "type": "scatter"
               }
              ],
              "scatter3d": [
               {
                "line": {
                 "colorbar": {
                  "outlinewidth": 0,
                  "ticks": ""
                 }
                },
                "marker": {
                 "colorbar": {
                  "outlinewidth": 0,
                  "ticks": ""
                 }
                },
                "type": "scatter3d"
               }
              ],
              "scattercarpet": [
               {
                "marker": {
                 "colorbar": {
                  "outlinewidth": 0,
                  "ticks": ""
                 }
                },
                "type": "scattercarpet"
               }
              ],
              "scattergeo": [
               {
                "marker": {
                 "colorbar": {
                  "outlinewidth": 0,
                  "ticks": ""
                 }
                },
                "type": "scattergeo"
               }
              ],
              "scattergl": [
               {
                "marker": {
                 "colorbar": {
                  "outlinewidth": 0,
                  "ticks": ""
                 }
                },
                "type": "scattergl"
               }
              ],
              "scattermapbox": [
               {
                "marker": {
                 "colorbar": {
                  "outlinewidth": 0,
                  "ticks": ""
                 }
                },
                "type": "scattermapbox"
               }
              ],
              "scatterpolar": [
               {
                "marker": {
                 "colorbar": {
                  "outlinewidth": 0,
                  "ticks": ""
                 }
                },
                "type": "scatterpolar"
               }
              ],
              "scatterpolargl": [
               {
                "marker": {
                 "colorbar": {
                  "outlinewidth": 0,
                  "ticks": ""
                 }
                },
                "type": "scatterpolargl"
               }
              ],
              "scatterternary": [
               {
                "marker": {
                 "colorbar": {
                  "outlinewidth": 0,
                  "ticks": ""
                 }
                },
                "type": "scatterternary"
               }
              ],
              "surface": [
               {
                "colorbar": {
                 "outlinewidth": 0,
                 "ticks": ""
                },
                "colorscale": [
                 [
                  0,
                  "#0d0887"
                 ],
                 [
                  0.1111111111111111,
                  "#46039f"
                 ],
                 [
                  0.2222222222222222,
                  "#7201a8"
                 ],
                 [
                  0.3333333333333333,
                  "#9c179e"
                 ],
                 [
                  0.4444444444444444,
                  "#bd3786"
                 ],
                 [
                  0.5555555555555556,
                  "#d8576b"
                 ],
                 [
                  0.6666666666666666,
                  "#ed7953"
                 ],
                 [
                  0.7777777777777778,
                  "#fb9f3a"
                 ],
                 [
                  0.8888888888888888,
                  "#fdca26"
                 ],
                 [
                  1,
                  "#f0f921"
                 ]
                ],
                "type": "surface"
               }
              ],
              "table": [
               {
                "cells": {
                 "fill": {
                  "color": "#EBF0F8"
                 },
                 "line": {
                  "color": "white"
                 }
                },
                "header": {
                 "fill": {
                  "color": "#C8D4E3"
                 },
                 "line": {
                  "color": "white"
                 }
                },
                "type": "table"
               }
              ]
             },
             "layout": {
              "annotationdefaults": {
               "arrowcolor": "#2a3f5f",
               "arrowhead": 0,
               "arrowwidth": 1
              },
              "coloraxis": {
               "colorbar": {
                "outlinewidth": 0,
                "ticks": ""
               }
              },
              "colorscale": {
               "diverging": [
                [
                 0,
                 "#8e0152"
                ],
                [
                 0.1,
                 "#c51b7d"
                ],
                [
                 0.2,
                 "#de77ae"
                ],
                [
                 0.3,
                 "#f1b6da"
                ],
                [
                 0.4,
                 "#fde0ef"
                ],
                [
                 0.5,
                 "#f7f7f7"
                ],
                [
                 0.6,
                 "#e6f5d0"
                ],
                [
                 0.7,
                 "#b8e186"
                ],
                [
                 0.8,
                 "#7fbc41"
                ],
                [
                 0.9,
                 "#4d9221"
                ],
                [
                 1,
                 "#276419"
                ]
               ],
               "sequential": [
                [
                 0,
                 "#0d0887"
                ],
                [
                 0.1111111111111111,
                 "#46039f"
                ],
                [
                 0.2222222222222222,
                 "#7201a8"
                ],
                [
                 0.3333333333333333,
                 "#9c179e"
                ],
                [
                 0.4444444444444444,
                 "#bd3786"
                ],
                [
                 0.5555555555555556,
                 "#d8576b"
                ],
                [
                 0.6666666666666666,
                 "#ed7953"
                ],
                [
                 0.7777777777777778,
                 "#fb9f3a"
                ],
                [
                 0.8888888888888888,
                 "#fdca26"
                ],
                [
                 1,
                 "#f0f921"
                ]
               ],
               "sequentialminus": [
                [
                 0,
                 "#0d0887"
                ],
                [
                 0.1111111111111111,
                 "#46039f"
                ],
                [
                 0.2222222222222222,
                 "#7201a8"
                ],
                [
                 0.3333333333333333,
                 "#9c179e"
                ],
                [
                 0.4444444444444444,
                 "#bd3786"
                ],
                [
                 0.5555555555555556,
                 "#d8576b"
                ],
                [
                 0.6666666666666666,
                 "#ed7953"
                ],
                [
                 0.7777777777777778,
                 "#fb9f3a"
                ],
                [
                 0.8888888888888888,
                 "#fdca26"
                ],
                [
                 1,
                 "#f0f921"
                ]
               ]
              },
              "colorway": [
               "#636efa",
               "#EF553B",
               "#00cc96",
               "#ab63fa",
               "#FFA15A",
               "#19d3f3",
               "#FF6692",
               "#B6E880",
               "#FF97FF",
               "#FECB52"
              ],
              "font": {
               "color": "#2a3f5f"
              },
              "geo": {
               "bgcolor": "white",
               "lakecolor": "white",
               "landcolor": "#E5ECF6",
               "showlakes": true,
               "showland": true,
               "subunitcolor": "white"
              },
              "hoverlabel": {
               "align": "left"
              },
              "hovermode": "closest",
              "mapbox": {
               "style": "light"
              },
              "paper_bgcolor": "white",
              "plot_bgcolor": "#E5ECF6",
              "polar": {
               "angularaxis": {
                "gridcolor": "white",
                "linecolor": "white",
                "ticks": ""
               },
               "bgcolor": "#E5ECF6",
               "radialaxis": {
                "gridcolor": "white",
                "linecolor": "white",
                "ticks": ""
               }
              },
              "scene": {
               "xaxis": {
                "backgroundcolor": "#E5ECF6",
                "gridcolor": "white",
                "gridwidth": 2,
                "linecolor": "white",
                "showbackground": true,
                "ticks": "",
                "zerolinecolor": "white"
               },
               "yaxis": {
                "backgroundcolor": "#E5ECF6",
                "gridcolor": "white",
                "gridwidth": 2,
                "linecolor": "white",
                "showbackground": true,
                "ticks": "",
                "zerolinecolor": "white"
               },
               "zaxis": {
                "backgroundcolor": "#E5ECF6",
                "gridcolor": "white",
                "gridwidth": 2,
                "linecolor": "white",
                "showbackground": true,
                "ticks": "",
                "zerolinecolor": "white"
               }
              },
              "shapedefaults": {
               "line": {
                "color": "#2a3f5f"
               }
              },
              "ternary": {
               "aaxis": {
                "gridcolor": "white",
                "linecolor": "white",
                "ticks": ""
               },
               "baxis": {
                "gridcolor": "white",
                "linecolor": "white",
                "ticks": ""
               },
               "bgcolor": "#E5ECF6",
               "caxis": {
                "gridcolor": "white",
                "linecolor": "white",
                "ticks": ""
               }
              },
              "title": {
               "x": 0.05
              },
              "xaxis": {
               "automargin": true,
               "gridcolor": "white",
               "linecolor": "white",
               "ticks": "",
               "title": {
                "standoff": 15
               },
               "zerolinecolor": "white",
               "zerolinewidth": 2
              },
              "yaxis": {
               "automargin": true,
               "gridcolor": "white",
               "linecolor": "white",
               "ticks": "",
               "title": {
                "standoff": 15
               },
               "zerolinecolor": "white",
               "zerolinewidth": 2
              }
             }
            }
           }
          },
          "text/html": "<div>\n        \n        \n            <div id=\"cdc23a90-6359-43f1-8e97-ddee881cfaa1\" class=\"plotly-graph-div\" style=\"height:525px; width:100%;\"></div>\n            <script type=\"text/javascript\">\n                require([\"plotly\"], function(Plotly) {\n                    window.PLOTLYENV=window.PLOTLYENV || {};\n                    \n                if (document.getElementById(\"cdc23a90-6359-43f1-8e97-ddee881cfaa1\")) {\n                    Plotly.newPlot(\n                        'cdc23a90-6359-43f1-8e97-ddee881cfaa1',\n                        [{\"lat\": [16.72, 16.72, 36.404, 36.404, 32.884, 32.884, 32.884, 2.58, 2.58, 2.58, 2.58, 44.43, 44.43, 44.43, 44.43, 44.43, 44.43, 37.7166666666667, 37.7166666666667, 35.9, -38.82, 43.722, 41.611, 46.2, 46.853, -22.2666666666667, 65.715, 63.983, 63.892, 64.083, 60.485, 32.761, 38.83, 31.934, 36.7833333333333, 35.361, 56.056, 19.421, 19.421, 40.821, 40.827, 37.748, 38.789, 15.13, 4.892, -1.467, 28.0], \"lon\": [-62.18, -62.18, 25.396, 25.396, 131.104, 131.104, 131.104, 98.83, 98.83, 98.83, 98.83, -110.67, -110.67, -110.67, -110.67, -110.67, -110.67, -118.883333333333, -118.883333333333, -106.533333333333, 176.0, -121.229, -121.554, -122.18, 121.76, -67.1666666666667, -16.728, -19.666, -19.122, -21.416, -152.742, 130.299, 140.7, 130.862, 139.366666666667, 138.728, 160.642, -155.287, -155.287, 14.426, 14.139, 14.999, 15.213, 120.35, -75.324, -78.442, -15.58], \"marker\": {\"size\": [215.44346900318837, 215.44346900318837, 464.15888336127784, 464.15888336127784, 843.4326653017491, 843.4326653017491, 843.4326653017491, 1409.4597464129781, 1409.4597464129781, 1409.4597464129781, 1409.4597464129781, 1348.0997498879249, 1348.0997498879249, 1348.0997498879249, 1348.0997498879249, 1348.0997498879249, 1348.0997498879249, 100.0, 100.0, 100.0, 100.0, 100.0, 100.0, 100.0, 100.0, 100.0, 100.0, 100.0, 100.0, 100.0, 100.0, 100.0, 100.0, 100.0, 100.0, 100.0, 100.0, 100.0, 100.0, 100.0, 100.0, 100.0, 100.0, 100.0, 100.0, 100.0, 100.0], \"sizemode\": \"area\"}, \"text\": [\"Soufriere Hills Volcano<br>Erupted volume: 10.0\", \"Soufriere Hills Volcano<br>Erupted volume: 10.0\", \"Santorini<br>Erupted volume: 100.0\", \"Santorini<br>Erupted volume: 100.0\", \"Aso Caldera<br>Erupted volume: 600.0\", \"Aso Caldera<br>Erupted volume: 600.0\", \"Aso Caldera<br>Erupted volume: 600.0\", \"Toba<br>Erupted volume: 2800.0\", \"Toba<br>Erupted volume: 2800.0\", \"Toba<br>Erupted volume: 2800.0\", \"Toba<br>Erupted volume: 2800.0\", \"Yellowstone<br>Erupted volume: 2450.0\", \"Yellowstone<br>Erupted volume: 2450.0\", \"Yellowstone<br>Erupted volume: 2450.0\", \"Yellowstone<br>Erupted volume: 2450.0\", \"Yellowstone<br>Erupted volume: 2450.0\", \"Yellowstone<br>Erupted volume: 2450.0\", \"Long Valley<br>Erupted volume: nan\", \"Long Valley<br>Erupted volume: nan\", \"Valles<br>Erupted volume: nan\", \"Taupo<br>Erupted volume: nan\", \"Newberry volcano<br>Erupted volume: nan\", \"Medicine Lake<br>Erupted volume: nan\", \"Mt. St. Helens<br>Erupted volume: nan\", \"Mt. Rainier<br>Erupted volume: nan\", \"Altiplano Puna<br>Erupted volume: nan\", \"Krafla<br>Erupted volume: nan\", \"Hekla<br>Erupted volume: nan\", \"Torfaj\\u00f6kull<br>Erupted volume: nan\", \"Hengill\\u2013Grensdalur<br>Erupted volume: nan\", \"Redoubt<br>Erupted volume: nan\", \"Unzen<br>Erupted volume: nan\", \"Onikobe<br>Erupted volume: nan\", \"Kirishima<br>Erupted volume: nan\", \"Nikko-Shirane<br>Erupted volume: nan\", \"Mt. Fuji<br>Erupted volume: nan\", \"Klyuchevskoy<br>Erupted volume: nan\", \"Halemaumau<br>Erupted volume: nan\", \"Kilauea<br>Erupted volume: nan\", \"Vesuvius<br>Erupted volume: nan\", \"Campi Flegrei<br>Erupted volume: nan\", \"Mt. Etna<br>Erupted volume: nan\", \"Stromboli<br>Erupted volume: nan\", \"Pinatubo<br>Erupted volume: nan\", \"Nevado del Ruiz<br>Erupted volume: nan\", \"Tungurahua<br>Erupted volume: nan\", \"Gran Canaria<br>Erupted volume: nan\"], \"type\": \"scattergeo\"}],\n                        {\"template\": {\"data\": {\"bar\": [{\"error_x\": {\"color\": \"#2a3f5f\"}, \"error_y\": {\"color\": \"#2a3f5f\"}, \"marker\": {\"line\": {\"color\": \"#E5ECF6\", \"width\": 0.5}}, \"type\": \"bar\"}], \"barpolar\": [{\"marker\": {\"line\": {\"color\": \"#E5ECF6\", \"width\": 0.5}}, \"type\": \"barpolar\"}], \"carpet\": [{\"aaxis\": {\"endlinecolor\": \"#2a3f5f\", \"gridcolor\": \"white\", \"linecolor\": \"white\", \"minorgridcolor\": \"white\", \"startlinecolor\": \"#2a3f5f\"}, \"baxis\": {\"endlinecolor\": \"#2a3f5f\", \"gridcolor\": \"white\", \"linecolor\": \"white\", \"minorgridcolor\": \"white\", \"startlinecolor\": \"#2a3f5f\"}, \"type\": \"carpet\"}], \"choropleth\": [{\"colorbar\": {\"outlinewidth\": 0, \"ticks\": \"\"}, \"type\": \"choropleth\"}], \"contour\": [{\"colorbar\": {\"outlinewidth\": 0, \"ticks\": \"\"}, \"colorscale\": [[0.0, \"#0d0887\"], [0.1111111111111111, \"#46039f\"], [0.2222222222222222, \"#7201a8\"], [0.3333333333333333, \"#9c179e\"], [0.4444444444444444, \"#bd3786\"], [0.5555555555555556, \"#d8576b\"], [0.6666666666666666, \"#ed7953\"], [0.7777777777777778, \"#fb9f3a\"], [0.8888888888888888, \"#fdca26\"], [1.0, \"#f0f921\"]], \"type\": \"contour\"}], \"contourcarpet\": [{\"colorbar\": {\"outlinewidth\": 0, \"ticks\": \"\"}, \"type\": \"contourcarpet\"}], \"heatmap\": [{\"colorbar\": {\"outlinewidth\": 0, \"ticks\": \"\"}, \"colorscale\": [[0.0, \"#0d0887\"], [0.1111111111111111, \"#46039f\"], [0.2222222222222222, \"#7201a8\"], [0.3333333333333333, \"#9c179e\"], [0.4444444444444444, \"#bd3786\"], [0.5555555555555556, \"#d8576b\"], [0.6666666666666666, \"#ed7953\"], [0.7777777777777778, \"#fb9f3a\"], [0.8888888888888888, \"#fdca26\"], [1.0, \"#f0f921\"]], \"type\": \"heatmap\"}], \"heatmapgl\": [{\"colorbar\": {\"outlinewidth\": 0, \"ticks\": \"\"}, \"colorscale\": [[0.0, \"#0d0887\"], [0.1111111111111111, \"#46039f\"], [0.2222222222222222, \"#7201a8\"], [0.3333333333333333, \"#9c179e\"], [0.4444444444444444, \"#bd3786\"], [0.5555555555555556, \"#d8576b\"], [0.6666666666666666, \"#ed7953\"], [0.7777777777777778, \"#fb9f3a\"], [0.8888888888888888, \"#fdca26\"], [1.0, \"#f0f921\"]], \"type\": \"heatmapgl\"}], \"histogram\": [{\"marker\": {\"colorbar\": {\"outlinewidth\": 0, \"ticks\": \"\"}}, \"type\": \"histogram\"}], \"histogram2d\": [{\"colorbar\": {\"outlinewidth\": 0, \"ticks\": \"\"}, \"colorscale\": [[0.0, \"#0d0887\"], [0.1111111111111111, \"#46039f\"], [0.2222222222222222, \"#7201a8\"], [0.3333333333333333, \"#9c179e\"], [0.4444444444444444, \"#bd3786\"], [0.5555555555555556, \"#d8576b\"], [0.6666666666666666, \"#ed7953\"], [0.7777777777777778, \"#fb9f3a\"], [0.8888888888888888, \"#fdca26\"], [1.0, \"#f0f921\"]], \"type\": \"histogram2d\"}], \"histogram2dcontour\": [{\"colorbar\": {\"outlinewidth\": 0, \"ticks\": \"\"}, \"colorscale\": [[0.0, \"#0d0887\"], [0.1111111111111111, \"#46039f\"], [0.2222222222222222, \"#7201a8\"], [0.3333333333333333, \"#9c179e\"], [0.4444444444444444, \"#bd3786\"], [0.5555555555555556, \"#d8576b\"], [0.6666666666666666, \"#ed7953\"], [0.7777777777777778, \"#fb9f3a\"], [0.8888888888888888, \"#fdca26\"], [1.0, \"#f0f921\"]], \"type\": \"histogram2dcontour\"}], \"mesh3d\": [{\"colorbar\": {\"outlinewidth\": 0, \"ticks\": \"\"}, \"type\": \"mesh3d\"}], \"parcoords\": [{\"line\": {\"colorbar\": {\"outlinewidth\": 0, \"ticks\": \"\"}}, \"type\": \"parcoords\"}], \"pie\": [{\"automargin\": true, \"type\": \"pie\"}], \"scatter\": [{\"marker\": {\"colorbar\": {\"outlinewidth\": 0, \"ticks\": \"\"}}, \"type\": \"scatter\"}], \"scatter3d\": [{\"line\": {\"colorbar\": {\"outlinewidth\": 0, \"ticks\": \"\"}}, \"marker\": {\"colorbar\": {\"outlinewidth\": 0, \"ticks\": \"\"}}, \"type\": \"scatter3d\"}], \"scattercarpet\": [{\"marker\": {\"colorbar\": {\"outlinewidth\": 0, \"ticks\": \"\"}}, \"type\": \"scattercarpet\"}], \"scattergeo\": [{\"marker\": {\"colorbar\": {\"outlinewidth\": 0, \"ticks\": \"\"}}, \"type\": \"scattergeo\"}], \"scattergl\": [{\"marker\": {\"colorbar\": {\"outlinewidth\": 0, \"ticks\": \"\"}}, \"type\": \"scattergl\"}], \"scattermapbox\": [{\"marker\": {\"colorbar\": {\"outlinewidth\": 0, \"ticks\": \"\"}}, \"type\": \"scattermapbox\"}], \"scatterpolar\": [{\"marker\": {\"colorbar\": {\"outlinewidth\": 0, \"ticks\": \"\"}}, \"type\": \"scatterpolar\"}], \"scatterpolargl\": [{\"marker\": {\"colorbar\": {\"outlinewidth\": 0, \"ticks\": \"\"}}, \"type\": \"scatterpolargl\"}], \"scatterternary\": [{\"marker\": {\"colorbar\": {\"outlinewidth\": 0, \"ticks\": \"\"}}, \"type\": \"scatterternary\"}], \"surface\": [{\"colorbar\": {\"outlinewidth\": 0, \"ticks\": \"\"}, \"colorscale\": [[0.0, \"#0d0887\"], [0.1111111111111111, \"#46039f\"], [0.2222222222222222, \"#7201a8\"], [0.3333333333333333, \"#9c179e\"], [0.4444444444444444, \"#bd3786\"], [0.5555555555555556, \"#d8576b\"], [0.6666666666666666, \"#ed7953\"], [0.7777777777777778, \"#fb9f3a\"], [0.8888888888888888, \"#fdca26\"], [1.0, \"#f0f921\"]], \"type\": \"surface\"}], \"table\": [{\"cells\": {\"fill\": {\"color\": \"#EBF0F8\"}, \"line\": {\"color\": \"white\"}}, \"header\": {\"fill\": {\"color\": \"#C8D4E3\"}, \"line\": {\"color\": \"white\"}}, \"type\": \"table\"}]}, \"layout\": {\"annotationdefaults\": {\"arrowcolor\": \"#2a3f5f\", \"arrowhead\": 0, \"arrowwidth\": 1}, \"coloraxis\": {\"colorbar\": {\"outlinewidth\": 0, \"ticks\": \"\"}}, \"colorscale\": {\"diverging\": [[0, \"#8e0152\"], [0.1, \"#c51b7d\"], [0.2, \"#de77ae\"], [0.3, \"#f1b6da\"], [0.4, \"#fde0ef\"], [0.5, \"#f7f7f7\"], [0.6, \"#e6f5d0\"], [0.7, \"#b8e186\"], [0.8, \"#7fbc41\"], [0.9, \"#4d9221\"], [1, \"#276419\"]], \"sequential\": [[0.0, \"#0d0887\"], [0.1111111111111111, \"#46039f\"], [0.2222222222222222, \"#7201a8\"], [0.3333333333333333, \"#9c179e\"], [0.4444444444444444, \"#bd3786\"], [0.5555555555555556, \"#d8576b\"], [0.6666666666666666, \"#ed7953\"], [0.7777777777777778, \"#fb9f3a\"], [0.8888888888888888, \"#fdca26\"], [1.0, \"#f0f921\"]], \"sequentialminus\": [[0.0, \"#0d0887\"], [0.1111111111111111, \"#46039f\"], [0.2222222222222222, \"#7201a8\"], [0.3333333333333333, \"#9c179e\"], [0.4444444444444444, \"#bd3786\"], [0.5555555555555556, \"#d8576b\"], [0.6666666666666666, \"#ed7953\"], [0.7777777777777778, \"#fb9f3a\"], [0.8888888888888888, \"#fdca26\"], [1.0, \"#f0f921\"]]}, \"colorway\": [\"#636efa\", \"#EF553B\", \"#00cc96\", \"#ab63fa\", \"#FFA15A\", \"#19d3f3\", \"#FF6692\", \"#B6E880\", \"#FF97FF\", \"#FECB52\"], \"font\": {\"color\": \"#2a3f5f\"}, \"geo\": {\"bgcolor\": \"white\", \"lakecolor\": \"white\", \"landcolor\": \"#E5ECF6\", \"showlakes\": true, \"showland\": true, \"subunitcolor\": \"white\"}, \"hoverlabel\": {\"align\": \"left\"}, \"hovermode\": \"closest\", \"mapbox\": {\"style\": \"light\"}, \"paper_bgcolor\": \"white\", \"plot_bgcolor\": \"#E5ECF6\", \"polar\": {\"angularaxis\": {\"gridcolor\": \"white\", \"linecolor\": \"white\", \"ticks\": \"\"}, \"bgcolor\": \"#E5ECF6\", \"radialaxis\": {\"gridcolor\": \"white\", \"linecolor\": \"white\", \"ticks\": \"\"}}, \"scene\": {\"xaxis\": {\"backgroundcolor\": \"#E5ECF6\", \"gridcolor\": \"white\", \"gridwidth\": 2, \"linecolor\": \"white\", \"showbackground\": true, \"ticks\": \"\", \"zerolinecolor\": \"white\"}, \"yaxis\": {\"backgroundcolor\": \"#E5ECF6\", \"gridcolor\": \"white\", \"gridwidth\": 2, \"linecolor\": \"white\", \"showbackground\": true, \"ticks\": \"\", \"zerolinecolor\": \"white\"}, \"zaxis\": {\"backgroundcolor\": \"#E5ECF6\", \"gridcolor\": \"white\", \"gridwidth\": 2, \"linecolor\": \"white\", \"showbackground\": true, \"ticks\": \"\", \"zerolinecolor\": \"white\"}}, \"shapedefaults\": {\"line\": {\"color\": \"#2a3f5f\"}}, \"ternary\": {\"aaxis\": {\"gridcolor\": \"white\", \"linecolor\": \"white\", \"ticks\": \"\"}, \"baxis\": {\"gridcolor\": \"white\", \"linecolor\": \"white\", \"ticks\": \"\"}, \"bgcolor\": \"#E5ECF6\", \"caxis\": {\"gridcolor\": \"white\", \"linecolor\": \"white\", \"ticks\": \"\"}}, \"title\": {\"x\": 0.05}, \"xaxis\": {\"automargin\": true, \"gridcolor\": \"white\", \"linecolor\": \"white\", \"ticks\": \"\", \"title\": {\"standoff\": 15}, \"zerolinecolor\": \"white\", \"zerolinewidth\": 2}, \"yaxis\": {\"automargin\": true, \"gridcolor\": \"white\", \"linecolor\": \"white\", \"ticks\": \"\", \"title\": {\"standoff\": 15}, \"zerolinecolor\": \"white\", \"zerolinewidth\": 2}}}},\n                        {\"responsive\": true}\n                    ).then(function(){\n                            \nvar gd = document.getElementById('cdc23a90-6359-43f1-8e97-ddee881cfaa1');\nvar x = new MutationObserver(function (mutations, observer) {{\n        var display = window.getComputedStyle(gd).display;\n        if (!display || display === 'none') {{\n            console.log([gd, 'removed!']);\n            Plotly.purge(gd);\n            observer.disconnect();\n        }}\n}});\n\n// Listen for the removal of the full notebook cells\nvar notebookContainer = gd.closest('#notebook-container');\nif (notebookContainer) {{\n    x.observe(notebookContainer, {childList: true});\n}}\n\n// Listen for the clearing of the current output cell\nvar outputEl = gd.closest('.output');\nif (outputEl) {{\n    x.observe(outputEl, {childList: true});\n}}\n\n                        })\n                };\n                });\n            </script>\n        </div>"
         },
         "metadata": {},
         "output_type": "display_data"
        }
       ]
      }
     },
     "e5aa92bea49445bc98c6154cf0061c31": {
      "model_module": "@jupyter-widgets/base",
      "model_module_version": "1.2.0",
      "model_name": "LayoutModel",
      "state": {}
     },
     "e920122888c94dfd84e5eeb49c5b9ebb": {
      "model_module": "@jupyter-widgets/output",
      "model_module_version": "1.0.0",
      "model_name": "OutputModel",
      "state": {
       "layout": "IPY_MODEL_e4e502bfc51f4ebd8614d01163180b05",
       "outputs": [
        {
         "ename": "TypeError",
         "evalue": "unsupported operand type(s) for ** or pow(): 'str' and 'float'",
         "output_type": "error",
         "traceback": [
          "\u001b[0;31m---------------------------------------------------------------------------\u001b[0m",
          "\u001b[0;31mTypeError\u001b[0m                                 Traceback (most recent call last)",
          "\u001b[0;32m/usr/local/lib/python3.5/dist-packages/pandas/core/ops.py\u001b[0m in \u001b[0;36mna_op\u001b[0;34m(x, y)\u001b[0m\n\u001b[1;32m   1504\u001b[0m         \u001b[0;32mtry\u001b[0m\u001b[0;34m:\u001b[0m\u001b[0;34m\u001b[0m\u001b[0m\n\u001b[0;32m-> 1505\u001b[0;31m             \u001b[0mresult\u001b[0m \u001b[0;34m=\u001b[0m \u001b[0mexpressions\u001b[0m\u001b[0;34m.\u001b[0m\u001b[0mevaluate\u001b[0m\u001b[0;34m(\u001b[0m\u001b[0mop\u001b[0m\u001b[0;34m,\u001b[0m \u001b[0mstr_rep\u001b[0m\u001b[0;34m,\u001b[0m \u001b[0mx\u001b[0m\u001b[0;34m,\u001b[0m \u001b[0my\u001b[0m\u001b[0;34m,\u001b[0m \u001b[0;34m**\u001b[0m\u001b[0meval_kwargs\u001b[0m\u001b[0;34m)\u001b[0m\u001b[0;34m\u001b[0m\u001b[0m\n\u001b[0m\u001b[1;32m   1506\u001b[0m         \u001b[0;32mexcept\u001b[0m \u001b[0mTypeError\u001b[0m\u001b[0;34m:\u001b[0m\u001b[0;34m\u001b[0m\u001b[0m\n",
          "\u001b[0;32m/usr/local/lib/python3.5/dist-packages/pandas/core/computation/expressions.py\u001b[0m in \u001b[0;36mevaluate\u001b[0;34m(op, op_str, a, b, use_numexpr, **eval_kwargs)\u001b[0m\n\u001b[1;32m    207\u001b[0m     \u001b[0;32mif\u001b[0m \u001b[0muse_numexpr\u001b[0m\u001b[0;34m:\u001b[0m\u001b[0;34m\u001b[0m\u001b[0m\n\u001b[0;32m--> 208\u001b[0;31m         \u001b[0;32mreturn\u001b[0m \u001b[0m_evaluate\u001b[0m\u001b[0;34m(\u001b[0m\u001b[0mop\u001b[0m\u001b[0;34m,\u001b[0m \u001b[0mop_str\u001b[0m\u001b[0;34m,\u001b[0m \u001b[0ma\u001b[0m\u001b[0;34m,\u001b[0m \u001b[0mb\u001b[0m\u001b[0;34m,\u001b[0m \u001b[0;34m**\u001b[0m\u001b[0meval_kwargs\u001b[0m\u001b[0;34m)\u001b[0m\u001b[0;34m\u001b[0m\u001b[0m\n\u001b[0m\u001b[1;32m    209\u001b[0m     \u001b[0;32mreturn\u001b[0m \u001b[0m_evaluate_standard\u001b[0m\u001b[0;34m(\u001b[0m\u001b[0mop\u001b[0m\u001b[0;34m,\u001b[0m \u001b[0mop_str\u001b[0m\u001b[0;34m,\u001b[0m \u001b[0ma\u001b[0m\u001b[0;34m,\u001b[0m \u001b[0mb\u001b[0m\u001b[0;34m)\u001b[0m\u001b[0;34m\u001b[0m\u001b[0m\n",
          "\u001b[0;32m/usr/local/lib/python3.5/dist-packages/pandas/core/computation/expressions.py\u001b[0m in \u001b[0;36m_evaluate_standard\u001b[0;34m(op, op_str, a, b, **eval_kwargs)\u001b[0m\n\u001b[1;32m     67\u001b[0m     \u001b[0;32mwith\u001b[0m \u001b[0mnp\u001b[0m\u001b[0;34m.\u001b[0m\u001b[0merrstate\u001b[0m\u001b[0;34m(\u001b[0m\u001b[0mall\u001b[0m\u001b[0;34m=\u001b[0m\u001b[0;34m'ignore'\u001b[0m\u001b[0;34m)\u001b[0m\u001b[0;34m:\u001b[0m\u001b[0;34m\u001b[0m\u001b[0m\n\u001b[0;32m---> 68\u001b[0;31m         \u001b[0;32mreturn\u001b[0m \u001b[0mop\u001b[0m\u001b[0;34m(\u001b[0m\u001b[0ma\u001b[0m\u001b[0;34m,\u001b[0m \u001b[0mb\u001b[0m\u001b[0;34m)\u001b[0m\u001b[0;34m\u001b[0m\u001b[0m\n\u001b[0m\u001b[1;32m     69\u001b[0m \u001b[0;34m\u001b[0m\u001b[0m\n",
          "\u001b[0;31mTypeError\u001b[0m: unsupported operand type(s) for ** or pow(): 'str' and 'float'",
          "\nDuring handling of the above exception, another exception occurred:\n",
          "\u001b[0;31mTypeError\u001b[0m                                 Traceback (most recent call last)",
          "\u001b[0;32m/usr/local/lib/python3.5/dist-packages/pandas/core/ops.py\u001b[0m in \u001b[0;36msafe_na_op\u001b[0;34m(lvalues, rvalues)\u001b[0m\n\u001b[1;32m   1528\u001b[0m             \u001b[0;32mwith\u001b[0m \u001b[0mnp\u001b[0m\u001b[0;34m.\u001b[0m\u001b[0merrstate\u001b[0m\u001b[0;34m(\u001b[0m\u001b[0mall\u001b[0m\u001b[0;34m=\u001b[0m\u001b[0;34m'ignore'\u001b[0m\u001b[0;34m)\u001b[0m\u001b[0;34m:\u001b[0m\u001b[0;34m\u001b[0m\u001b[0m\n\u001b[0;32m-> 1529\u001b[0;31m                 \u001b[0;32mreturn\u001b[0m \u001b[0mna_op\u001b[0m\u001b[0;34m(\u001b[0m\u001b[0mlvalues\u001b[0m\u001b[0;34m,\u001b[0m \u001b[0mrvalues\u001b[0m\u001b[0;34m)\u001b[0m\u001b[0;34m\u001b[0m\u001b[0m\n\u001b[0m\u001b[1;32m   1530\u001b[0m         \u001b[0;32mexcept\u001b[0m \u001b[0mException\u001b[0m\u001b[0;34m:\u001b[0m\u001b[0;34m\u001b[0m\u001b[0m\n",
          "\u001b[0;32m/usr/local/lib/python3.5/dist-packages/pandas/core/ops.py\u001b[0m in \u001b[0;36mna_op\u001b[0;34m(x, y)\u001b[0m\n\u001b[1;32m   1506\u001b[0m         \u001b[0;32mexcept\u001b[0m \u001b[0mTypeError\u001b[0m\u001b[0;34m:\u001b[0m\u001b[0;34m\u001b[0m\u001b[0m\n\u001b[0;32m-> 1507\u001b[0;31m             \u001b[0mresult\u001b[0m \u001b[0;34m=\u001b[0m \u001b[0mmasked_arith_op\u001b[0m\u001b[0;34m(\u001b[0m\u001b[0mx\u001b[0m\u001b[0;34m,\u001b[0m \u001b[0my\u001b[0m\u001b[0;34m,\u001b[0m \u001b[0mop\u001b[0m\u001b[0;34m)\u001b[0m\u001b[0;34m\u001b[0m\u001b[0m\n\u001b[0m\u001b[1;32m   1508\u001b[0m \u001b[0;34m\u001b[0m\u001b[0m\n",
          "\u001b[0;32m/usr/local/lib/python3.5/dist-packages/pandas/core/ops.py\u001b[0m in \u001b[0;36mmasked_arith_op\u001b[0;34m(x, y, op)\u001b[0m\n\u001b[1;32m   1025\u001b[0m             \u001b[0;32mwith\u001b[0m \u001b[0mnp\u001b[0m\u001b[0;34m.\u001b[0m\u001b[0merrstate\u001b[0m\u001b[0;34m(\u001b[0m\u001b[0mall\u001b[0m\u001b[0;34m=\u001b[0m\u001b[0;34m'ignore'\u001b[0m\u001b[0;34m)\u001b[0m\u001b[0;34m:\u001b[0m\u001b[0;34m\u001b[0m\u001b[0m\n\u001b[0;32m-> 1026\u001b[0;31m                 \u001b[0mresult\u001b[0m\u001b[0;34m[\u001b[0m\u001b[0mmask\u001b[0m\u001b[0;34m]\u001b[0m \u001b[0;34m=\u001b[0m \u001b[0mop\u001b[0m\u001b[0;34m(\u001b[0m\u001b[0mxrav\u001b[0m\u001b[0;34m[\u001b[0m\u001b[0mmask\u001b[0m\u001b[0;34m]\u001b[0m\u001b[0;34m,\u001b[0m \u001b[0my\u001b[0m\u001b[0;34m)\u001b[0m\u001b[0;34m\u001b[0m\u001b[0m\n\u001b[0m\u001b[1;32m   1027\u001b[0m \u001b[0;34m\u001b[0m\u001b[0m\n",
          "\u001b[0;31mTypeError\u001b[0m: unsupported operand type(s) for ** or pow(): 'str' and 'float'",
          "\nDuring handling of the above exception, another exception occurred:\n",
          "\u001b[0;31mTypeError\u001b[0m                                 Traceback (most recent call last)",
          "\u001b[0;32m/usr/local/lib/python3.5/dist-packages/ipywidgets/widgets/interaction.py\u001b[0m in \u001b[0;36mupdate\u001b[0;34m(self, *args)\u001b[0m\n\u001b[1;32m    254\u001b[0m                     \u001b[0mvalue\u001b[0m \u001b[0;34m=\u001b[0m \u001b[0mwidget\u001b[0m\u001b[0;34m.\u001b[0m\u001b[0mget_interact_value\u001b[0m\u001b[0;34m(\u001b[0m\u001b[0;34m)\u001b[0m\u001b[0;34m\u001b[0m\u001b[0m\n\u001b[1;32m    255\u001b[0m                     \u001b[0mself\u001b[0m\u001b[0;34m.\u001b[0m\u001b[0mkwargs\u001b[0m\u001b[0;34m[\u001b[0m\u001b[0mwidget\u001b[0m\u001b[0;34m.\u001b[0m\u001b[0m_kwarg\u001b[0m\u001b[0;34m]\u001b[0m \u001b[0;34m=\u001b[0m \u001b[0mvalue\u001b[0m\u001b[0;34m\u001b[0m\u001b[0m\n\u001b[0;32m--> 256\u001b[0;31m                 \u001b[0mself\u001b[0m\u001b[0;34m.\u001b[0m\u001b[0mresult\u001b[0m \u001b[0;34m=\u001b[0m \u001b[0mself\u001b[0m\u001b[0;34m.\u001b[0m\u001b[0mf\u001b[0m\u001b[0;34m(\u001b[0m\u001b[0;34m**\u001b[0m\u001b[0mself\u001b[0m\u001b[0;34m.\u001b[0m\u001b[0mkwargs\u001b[0m\u001b[0;34m)\u001b[0m\u001b[0;34m\u001b[0m\u001b[0m\n\u001b[0m\u001b[1;32m    257\u001b[0m                 \u001b[0mshow_inline_matplotlib_plots\u001b[0m\u001b[0;34m(\u001b[0m\u001b[0;34m)\u001b[0m\u001b[0;34m\u001b[0m\u001b[0m\n\u001b[1;32m    258\u001b[0m                 \u001b[0;32mif\u001b[0m \u001b[0mself\u001b[0m\u001b[0;34m.\u001b[0m\u001b[0mauto_display\u001b[0m \u001b[0;32mand\u001b[0m \u001b[0mself\u001b[0m\u001b[0;34m.\u001b[0m\u001b[0mresult\u001b[0m \u001b[0;32mis\u001b[0m \u001b[0;32mnot\u001b[0m \u001b[0;32mNone\u001b[0m\u001b[0;34m:\u001b[0m\u001b[0;34m\u001b[0m\u001b[0m\n",
          "\u001b[0;32m<ipython-input-26-ec86c6dcd72f>\u001b[0m in \u001b[0;36m_\u001b[0;34m(key)\u001b[0m\n\u001b[1;32m      5\u001b[0m     \u001b[0mdf\u001b[0m\u001b[0;34m[\u001b[0m\u001b[0;34m'hover_text'\u001b[0m\u001b[0;34m]\u001b[0m \u001b[0;34m=\u001b[0m \u001b[0mdf\u001b[0m\u001b[0;34m[\u001b[0m\u001b[0;34m'Name'\u001b[0m\u001b[0;34m]\u001b[0m \u001b[0;34m+\u001b[0m \u001b[0;34m'<br>'\u001b[0m \u001b[0;34m+\u001b[0m \u001b[0mkey\u001b[0m \u001b[0;34m+\u001b[0m \u001b[0;34m': '\u001b[0m \u001b[0;34m+\u001b[0m \u001b[0;34m(\u001b[0m\u001b[0mdf\u001b[0m\u001b[0;34m[\u001b[0m\u001b[0mkey\u001b[0m\u001b[0;34m]\u001b[0m\u001b[0;34m)\u001b[0m\u001b[0;34m.\u001b[0m\u001b[0mastype\u001b[0m\u001b[0;34m(\u001b[0m\u001b[0mstr\u001b[0m\u001b[0;34m)\u001b[0m\u001b[0;34m\u001b[0m\u001b[0m\n\u001b[1;32m      6\u001b[0m     \u001b[0mscale\u001b[0m \u001b[0;34m=\u001b[0m \u001b[0;36m1e-2\u001b[0m\u001b[0;34m\u001b[0m\u001b[0m\n\u001b[0;32m----> 7\u001b[0;31m     marker = go.scattergeo.Marker(size=df[key].fillna(1)**(1/3)/scale,\n\u001b[0m\u001b[1;32m      8\u001b[0m                                   sizemode='area')\n\u001b[1;32m      9\u001b[0m     data = go.Scattergeo(lon=df['Longitude'], lat=df['Latitude'], \n",
          "\u001b[0;32m/usr/local/lib/python3.5/dist-packages/pandas/core/ops.py\u001b[0m in \u001b[0;36mwrapper\u001b[0;34m(left, right)\u001b[0m\n\u001b[1;32m   1581\u001b[0m             \u001b[0mrvalues\u001b[0m \u001b[0;34m=\u001b[0m \u001b[0mrvalues\u001b[0m\u001b[0;34m.\u001b[0m\u001b[0mvalues\u001b[0m\u001b[0;34m\u001b[0m\u001b[0m\n\u001b[1;32m   1582\u001b[0m \u001b[0;34m\u001b[0m\u001b[0m\n\u001b[0;32m-> 1583\u001b[0;31m         \u001b[0mresult\u001b[0m \u001b[0;34m=\u001b[0m \u001b[0msafe_na_op\u001b[0m\u001b[0;34m(\u001b[0m\u001b[0mlvalues\u001b[0m\u001b[0;34m,\u001b[0m \u001b[0mrvalues\u001b[0m\u001b[0;34m)\u001b[0m\u001b[0;34m\u001b[0m\u001b[0m\n\u001b[0m\u001b[1;32m   1584\u001b[0m         return construct_result(left, result,\n\u001b[1;32m   1585\u001b[0m                                 index=left.index, name=res_name, dtype=None)\n",
          "\u001b[0;32m/usr/local/lib/python3.5/dist-packages/pandas/core/ops.py\u001b[0m in \u001b[0;36msafe_na_op\u001b[0;34m(lvalues, rvalues)\u001b[0m\n\u001b[1;32m   1531\u001b[0m             \u001b[0;32mif\u001b[0m \u001b[0mis_object_dtype\u001b[0m\u001b[0;34m(\u001b[0m\u001b[0mlvalues\u001b[0m\u001b[0;34m)\u001b[0m\u001b[0;34m:\u001b[0m\u001b[0;34m\u001b[0m\u001b[0m\n\u001b[1;32m   1532\u001b[0m                 return libalgos.arrmap_object(lvalues,\n\u001b[0;32m-> 1533\u001b[0;31m                                               lambda x: op(x, rvalues))\n\u001b[0m\u001b[1;32m   1534\u001b[0m             \u001b[0;32mraise\u001b[0m\u001b[0;34m\u001b[0m\u001b[0m\n\u001b[1;32m   1535\u001b[0m \u001b[0;34m\u001b[0m\u001b[0m\n",
          "\u001b[0;32mpandas/_libs/algos.pyx\u001b[0m in \u001b[0;36mpandas._libs.algos.arrmap\u001b[0;34m()\u001b[0m\n",
          "\u001b[0;32m/usr/local/lib/python3.5/dist-packages/pandas/core/ops.py\u001b[0m in \u001b[0;36m<lambda>\u001b[0;34m(x)\u001b[0m\n\u001b[1;32m   1531\u001b[0m             \u001b[0;32mif\u001b[0m \u001b[0mis_object_dtype\u001b[0m\u001b[0;34m(\u001b[0m\u001b[0mlvalues\u001b[0m\u001b[0;34m)\u001b[0m\u001b[0;34m:\u001b[0m\u001b[0;34m\u001b[0m\u001b[0m\n\u001b[1;32m   1532\u001b[0m                 return libalgos.arrmap_object(lvalues,\n\u001b[0;32m-> 1533\u001b[0;31m                                               lambda x: op(x, rvalues))\n\u001b[0m\u001b[1;32m   1534\u001b[0m             \u001b[0;32mraise\u001b[0m\u001b[0;34m\u001b[0m\u001b[0m\n\u001b[1;32m   1535\u001b[0m \u001b[0;34m\u001b[0m\u001b[0m\n",
          "\u001b[0;31mTypeError\u001b[0m: unsupported operand type(s) for ** or pow(): 'str' and 'float'"
         ]
        }
       ]
      }
     },
     "ea9318fe13c74bf580792c56ad61eebe": {
      "model_module": "@jupyter-widgets/base",
      "model_module_version": "1.2.0",
      "model_name": "LayoutModel",
      "state": {}
     },
     "ea94e17755824dd2a4f44d801d5b758c": {
      "model_module": "@jupyter-widgets/controls",
      "model_module_version": "1.5.0",
      "model_name": "VBoxModel",
      "state": {
       "_dom_classes": [
        "widget-interact"
       ],
       "children": [
        "IPY_MODEL_f084a5294c034b2ab63057248b03de2c",
        "IPY_MODEL_bec939e92e3a49e88aa23b018ec559d5"
       ],
       "layout": "IPY_MODEL_6d3a590ce5454fa8bb4b0024b302bd5a"
      }
     },
     "eb79f1191b3d4701932ca21af7baf5e5": {
      "model_module": "@jupyter-widgets/controls",
      "model_module_version": "1.5.0",
      "model_name": "DropdownModel",
      "state": {
       "_options_labels": [
        "Erupted volume",
        "Anomaly volume"
       ],
       "description": "key",
       "index": 0,
       "layout": "IPY_MODEL_575a60c094da402c8c214b0fdccfc525",
       "style": "IPY_MODEL_ee3d93576a4046d98368333731388b57"
      }
     },
     "ee3d93576a4046d98368333731388b57": {
      "model_module": "@jupyter-widgets/controls",
      "model_module_version": "1.5.0",
      "model_name": "DescriptionStyleModel",
      "state": {
       "description_width": ""
      }
     },
     "eec91c6a76d54a348a25dbc99f906e13": {
      "model_module": "@jupyter-widgets/base",
      "model_module_version": "1.2.0",
      "model_name": "LayoutModel",
      "state": {}
     },
     "efe9a870f63149dfbd2480d5a236e982": {
      "model_module": "@jupyter-widgets/output",
      "model_module_version": "1.0.0",
      "model_name": "OutputModel",
      "state": {
       "layout": "IPY_MODEL_b1e4d966725c48de83ed219f0e639025",
       "outputs": [
        {
         "data": {
          "application/vnd.plotly.v1+json": {
           "config": {
            "plotlyServerURL": "https://plot.ly"
           },
           "data": [
            {
             "lat": [
              16.72,
              16.72,
              36.404,
              36.404,
              32.884,
              32.884,
              32.884,
              2.58,
              2.58,
              2.58,
              2.58,
              44.43,
              44.43,
              44.43,
              44.43,
              44.43,
              44.43,
              37.7166666666667,
              37.7166666666667,
              35.9,
              -38.82,
              43.722,
              41.611,
              46.2,
              46.853,
              -22.2666666666667,
              65.715,
              63.983,
              63.892,
              64.083,
              60.485,
              32.761,
              38.83,
              31.934,
              36.7833333333333,
              35.361,
              56.056,
              19.421,
              19.421,
              40.821,
              40.827,
              37.748,
              38.789,
              15.13,
              4.892,
              -1.467,
              28
             ],
             "lon": [
              -62.18,
              -62.18,
              25.396,
              25.396,
              131.104,
              131.104,
              131.104,
              98.83,
              98.83,
              98.83,
              98.83,
              -110.67,
              -110.67,
              -110.67,
              -110.67,
              -110.67,
              -110.67,
              -118.883333333333,
              -118.883333333333,
              -106.533333333333,
              176,
              -121.229,
              -121.554,
              -122.18,
              121.76,
              -67.1666666666667,
              -16.728,
              -19.666,
              -19.122,
              -21.416,
              -152.742,
              130.299,
              140.7,
              130.862,
              139.366666666667,
              138.728,
              160.642,
              -155.287,
              -155.287,
              14.426,
              14.139,
              14.999,
              15.213,
              120.35,
              -75.324,
              -78.442,
              -15.58
             ],
             "marker": {
              "size": [
               292.4017738212866,
               430.8869380063767,
               327.106631018859,
               100,
               483.45881271116383,
               100,
               669.4329500821694,
               100,
               100,
               100,
               3239.6118012774828,
               100,
               1626.1333316791684,
               100,
               3825.862365544777,
               100,
               100,
               100,
               100,
               100,
               100,
               100,
               100,
               100,
               100,
               100,
               100,
               100,
               100,
               100,
               100,
               100,
               100,
               100,
               100,
               100,
               100,
               100,
               100,
               100,
               100,
               100,
               100,
               100,
               100,
               100,
               100
              ],
              "sizemode": "area"
             },
             "text": [
              "Soufriere Hills Volcano<br>Anomaly volume: 25.0<br><br>References:<br>Paulatto et al., 2012",
              "Soufriere Hills Volcano<br>Anomaly volume: 80.0<br><br>References:<br>Paulatto et al., 2019",
              "Santorini<br>Anomaly volume: 35.0<br><br>References:<br>McVey et al., 2019",
              null,
              "Aso Caldera<br>Anomaly volume: 113.0<br><br>References:<br>Sudo & Kong, 2001",
              "Aso Caldera<br>Anomaly volume: nan<br><br>References:<br>Huang et al., 2018",
              "Aso Caldera<br>Anomaly volume: 300.0<br><br>References:<br>Abe et al., 2017",
              "Toba<br>Anomaly volume: nan<br><br>References:<br>Koulakov et al., 2009",
              "Toba<br>Anomaly volume: nan<br><br>References:<br>Mastruryono et al., 2001",
              "Toba<br>Anomaly volume: nan<br><br>References:<br>Jaxybulatov et al., 2014",
              "Toba<br>Anomaly volume: 34000.0<br><br>References:<br>Stankiewicz et al., 2010",
              "Yellowstone<br>Anomaly volume: nan<br><br>References:<br>(Iyer et al., 1981, Benz and Smith, 1984, Clawson et al., 1989, Miller and Smith, 1999, Husen and Smith, 2004, Yuan and Dueker, 2005)",
              "Yellowstone<br>Anomaly volume: 4300.0<br><br>References:<br>Chu et al., 2010",
              "Yellowstone<br>Anomaly volume: nan<br><br>References:<br>Farrell et al., 2014",
              "Yellowstone<br>Anomaly volume: 56000.0<br><br>References:<br>Huang et al., 2015",
              "Yellowstone<br>Anomaly volume: nan<br><br>References:<br>Miller and Smith, 1999",
              "Yellowstone<br>Anomaly volume: nan<br><br>References:<br>Jiang, 2018",
              "Long Valley<br>Anomaly volume: nan<br><br>References:<br>(Peppin, 1985, Dawson et al., 1987, Hauksson, 1988, Dawson et al., 1990, Sanders, 1993a, Sanders, 1993b, Sanders et al., 1994, Steck, 1995, Sanders et al., 1995, Weiland et al., 1995, O'Doherty et al., 1997)",
              "Long Valley<br>Anomaly volume: nan<br><br>References:<br>Jiang, 2018",
              "Valles<br>Anomaly volume: nan<br><br>References:<br>Lutter et al. (1995)",
              "Taupo<br>Anomaly volume: nan<br><br>References:<br>Sherburn et al. (2003)",
              "Newberry volcano<br>Anomaly volume: nan<br><br>References:<br>(Achauer et al., 1988, Stauber et al., 1988)",
              "Medicine Lake<br>Anomaly volume: nan<br><br>References:<br>(Evans and Zucca, 1988, Lees and Crosson, 1989, Ritter and Evans, 1997)",
              "Mt. St. Helens<br>Anomaly volume: nan<br><br>References:<br>Lees (1992)",
              "Mt. Rainier<br>Anomaly volume: nan<br><br>References:<br>(Lees and Crosson, 1990, Moran et al., 1999)",
              null,
              "Krafla<br>Anomaly volume: nan<br><br>References:<br>(Einarsson, 1978, Foulger and Arnott, 1993)",
              "Hekla<br>Anomaly volume: nan<br><br>References:<br>Soosalu and Einarsson (2004)",
              "Torfajökull<br>Anomaly volume: nan<br><br>References:<br>Soosalu and Einarsson (2004)",
              "Hengill–Grensdalur<br>Anomaly volume: nan<br><br>References:<br>Toomey and Foulger (1989)",
              "Redoubt<br>Anomaly volume: nan<br><br>References:<br>Benz et al. (1996)",
              "Unzen<br>Anomaly volume: nan<br><br>References:<br>Ohmi and Lees (1995)",
              "Onikobe<br>Anomaly volume: nan<br><br>References:<br>Nakajima and Hasegawa (2003)",
              "Kirishima<br>Anomaly volume: nan<br><br>References:<br>Yamamoto and Ida (1994)",
              "Nikko-Shirane<br>Anomaly volume: nan<br><br>References:<br>Horiuchi et al. (1997)",
              "Mt. Fuji<br>Anomaly volume: nan<br><br>References:<br>Nakamichi (2005)",
              "Klyuchevskoy<br>Anomaly volume: nan<br><br>References:<br>(Anosov et al., 1978, Ozerov, 2000)",
              "Halemaumau<br>Anomaly volume: nan<br><br>References:<br>Rowan and Clayton (1993)",
              "Kilauea<br>Anomaly volume: nan<br><br>References:<br>(Thurber, 1984, Rowan and Clayton, 1993, Okubo et al., 1997, Haslinger et al., 2001)",
              "Vesuvius<br>Anomaly volume: nan<br><br>References:<br>(De Natale et al., 1998, Zollo et al., 1998)",
              "Campi Flegrei<br>Anomaly volume: nan<br><br>References:<br>1988; Aster et al., 1992",
              "Mt. Etna<br>Anomaly volume: nan<br><br>References:<br>(Cardaci et al., 1993, Villasenor et al., 1998, Laigle and Hirn, 1999, Chiarabba et al., 2000, Aloisi et al., 2002)",
              null,
              "Pinatubo<br>Anomaly volume: nan<br><br>References:<br>Mori et al. (1996)",
              "Nevado del Ruiz<br>Anomaly volume: nan<br><br>References:<br>Londoño and Sudo (2003)",
              "Tungurahua<br>Anomaly volume: nan<br><br>References:<br>Molina et al. (2005)",
              "Gran Canaria<br>Anomaly volume: nan<br><br>References:<br>Krastel and Schmincke (2002)"
             ],
             "type": "scattergeo"
            }
           ],
           "layout": {
            "template": {
             "data": {
              "bar": [
               {
                "error_x": {
                 "color": "#2a3f5f"
                },
                "error_y": {
                 "color": "#2a3f5f"
                },
                "marker": {
                 "line": {
                  "color": "#E5ECF6",
                  "width": 0.5
                 }
                },
                "type": "bar"
               }
              ],
              "barpolar": [
               {
                "marker": {
                 "line": {
                  "color": "#E5ECF6",
                  "width": 0.5
                 }
                },
                "type": "barpolar"
               }
              ],
              "carpet": [
               {
                "aaxis": {
                 "endlinecolor": "#2a3f5f",
                 "gridcolor": "white",
                 "linecolor": "white",
                 "minorgridcolor": "white",
                 "startlinecolor": "#2a3f5f"
                },
                "baxis": {
                 "endlinecolor": "#2a3f5f",
                 "gridcolor": "white",
                 "linecolor": "white",
                 "minorgridcolor": "white",
                 "startlinecolor": "#2a3f5f"
                },
                "type": "carpet"
               }
              ],
              "choropleth": [
               {
                "colorbar": {
                 "outlinewidth": 0,
                 "ticks": ""
                },
                "type": "choropleth"
               }
              ],
              "contour": [
               {
                "colorbar": {
                 "outlinewidth": 0,
                 "ticks": ""
                },
                "colorscale": [
                 [
                  0,
                  "#0d0887"
                 ],
                 [
                  0.1111111111111111,
                  "#46039f"
                 ],
                 [
                  0.2222222222222222,
                  "#7201a8"
                 ],
                 [
                  0.3333333333333333,
                  "#9c179e"
                 ],
                 [
                  0.4444444444444444,
                  "#bd3786"
                 ],
                 [
                  0.5555555555555556,
                  "#d8576b"
                 ],
                 [
                  0.6666666666666666,
                  "#ed7953"
                 ],
                 [
                  0.7777777777777778,
                  "#fb9f3a"
                 ],
                 [
                  0.8888888888888888,
                  "#fdca26"
                 ],
                 [
                  1,
                  "#f0f921"
                 ]
                ],
                "type": "contour"
               }
              ],
              "contourcarpet": [
               {
                "colorbar": {
                 "outlinewidth": 0,
                 "ticks": ""
                },
                "type": "contourcarpet"
               }
              ],
              "heatmap": [
               {
                "colorbar": {
                 "outlinewidth": 0,
                 "ticks": ""
                },
                "colorscale": [
                 [
                  0,
                  "#0d0887"
                 ],
                 [
                  0.1111111111111111,
                  "#46039f"
                 ],
                 [
                  0.2222222222222222,
                  "#7201a8"
                 ],
                 [
                  0.3333333333333333,
                  "#9c179e"
                 ],
                 [
                  0.4444444444444444,
                  "#bd3786"
                 ],
                 [
                  0.5555555555555556,
                  "#d8576b"
                 ],
                 [
                  0.6666666666666666,
                  "#ed7953"
                 ],
                 [
                  0.7777777777777778,
                  "#fb9f3a"
                 ],
                 [
                  0.8888888888888888,
                  "#fdca26"
                 ],
                 [
                  1,
                  "#f0f921"
                 ]
                ],
                "type": "heatmap"
               }
              ],
              "heatmapgl": [
               {
                "colorbar": {
                 "outlinewidth": 0,
                 "ticks": ""
                },
                "colorscale": [
                 [
                  0,
                  "#0d0887"
                 ],
                 [
                  0.1111111111111111,
                  "#46039f"
                 ],
                 [
                  0.2222222222222222,
                  "#7201a8"
                 ],
                 [
                  0.3333333333333333,
                  "#9c179e"
                 ],
                 [
                  0.4444444444444444,
                  "#bd3786"
                 ],
                 [
                  0.5555555555555556,
                  "#d8576b"
                 ],
                 [
                  0.6666666666666666,
                  "#ed7953"
                 ],
                 [
                  0.7777777777777778,
                  "#fb9f3a"
                 ],
                 [
                  0.8888888888888888,
                  "#fdca26"
                 ],
                 [
                  1,
                  "#f0f921"
                 ]
                ],
                "type": "heatmapgl"
               }
              ],
              "histogram": [
               {
                "marker": {
                 "colorbar": {
                  "outlinewidth": 0,
                  "ticks": ""
                 }
                },
                "type": "histogram"
               }
              ],
              "histogram2d": [
               {
                "colorbar": {
                 "outlinewidth": 0,
                 "ticks": ""
                },
                "colorscale": [
                 [
                  0,
                  "#0d0887"
                 ],
                 [
                  0.1111111111111111,
                  "#46039f"
                 ],
                 [
                  0.2222222222222222,
                  "#7201a8"
                 ],
                 [
                  0.3333333333333333,
                  "#9c179e"
                 ],
                 [
                  0.4444444444444444,
                  "#bd3786"
                 ],
                 [
                  0.5555555555555556,
                  "#d8576b"
                 ],
                 [
                  0.6666666666666666,
                  "#ed7953"
                 ],
                 [
                  0.7777777777777778,
                  "#fb9f3a"
                 ],
                 [
                  0.8888888888888888,
                  "#fdca26"
                 ],
                 [
                  1,
                  "#f0f921"
                 ]
                ],
                "type": "histogram2d"
               }
              ],
              "histogram2dcontour": [
               {
                "colorbar": {
                 "outlinewidth": 0,
                 "ticks": ""
                },
                "colorscale": [
                 [
                  0,
                  "#0d0887"
                 ],
                 [
                  0.1111111111111111,
                  "#46039f"
                 ],
                 [
                  0.2222222222222222,
                  "#7201a8"
                 ],
                 [
                  0.3333333333333333,
                  "#9c179e"
                 ],
                 [
                  0.4444444444444444,
                  "#bd3786"
                 ],
                 [
                  0.5555555555555556,
                  "#d8576b"
                 ],
                 [
                  0.6666666666666666,
                  "#ed7953"
                 ],
                 [
                  0.7777777777777778,
                  "#fb9f3a"
                 ],
                 [
                  0.8888888888888888,
                  "#fdca26"
                 ],
                 [
                  1,
                  "#f0f921"
                 ]
                ],
                "type": "histogram2dcontour"
               }
              ],
              "mesh3d": [
               {
                "colorbar": {
                 "outlinewidth": 0,
                 "ticks": ""
                },
                "type": "mesh3d"
               }
              ],
              "parcoords": [
               {
                "line": {
                 "colorbar": {
                  "outlinewidth": 0,
                  "ticks": ""
                 }
                },
                "type": "parcoords"
               }
              ],
              "pie": [
               {
                "automargin": true,
                "type": "pie"
               }
              ],
              "scatter": [
               {
                "marker": {
                 "colorbar": {
                  "outlinewidth": 0,
                  "ticks": ""
                 }
                },
                "type": "scatter"
               }
              ],
              "scatter3d": [
               {
                "line": {
                 "colorbar": {
                  "outlinewidth": 0,
                  "ticks": ""
                 }
                },
                "marker": {
                 "colorbar": {
                  "outlinewidth": 0,
                  "ticks": ""
                 }
                },
                "type": "scatter3d"
               }
              ],
              "scattercarpet": [
               {
                "marker": {
                 "colorbar": {
                  "outlinewidth": 0,
                  "ticks": ""
                 }
                },
                "type": "scattercarpet"
               }
              ],
              "scattergeo": [
               {
                "marker": {
                 "colorbar": {
                  "outlinewidth": 0,
                  "ticks": ""
                 }
                },
                "type": "scattergeo"
               }
              ],
              "scattergl": [
               {
                "marker": {
                 "colorbar": {
                  "outlinewidth": 0,
                  "ticks": ""
                 }
                },
                "type": "scattergl"
               }
              ],
              "scattermapbox": [
               {
                "marker": {
                 "colorbar": {
                  "outlinewidth": 0,
                  "ticks": ""
                 }
                },
                "type": "scattermapbox"
               }
              ],
              "scatterpolar": [
               {
                "marker": {
                 "colorbar": {
                  "outlinewidth": 0,
                  "ticks": ""
                 }
                },
                "type": "scatterpolar"
               }
              ],
              "scatterpolargl": [
               {
                "marker": {
                 "colorbar": {
                  "outlinewidth": 0,
                  "ticks": ""
                 }
                },
                "type": "scatterpolargl"
               }
              ],
              "scatterternary": [
               {
                "marker": {
                 "colorbar": {
                  "outlinewidth": 0,
                  "ticks": ""
                 }
                },
                "type": "scatterternary"
               }
              ],
              "surface": [
               {
                "colorbar": {
                 "outlinewidth": 0,
                 "ticks": ""
                },
                "colorscale": [
                 [
                  0,
                  "#0d0887"
                 ],
                 [
                  0.1111111111111111,
                  "#46039f"
                 ],
                 [
                  0.2222222222222222,
                  "#7201a8"
                 ],
                 [
                  0.3333333333333333,
                  "#9c179e"
                 ],
                 [
                  0.4444444444444444,
                  "#bd3786"
                 ],
                 [
                  0.5555555555555556,
                  "#d8576b"
                 ],
                 [
                  0.6666666666666666,
                  "#ed7953"
                 ],
                 [
                  0.7777777777777778,
                  "#fb9f3a"
                 ],
                 [
                  0.8888888888888888,
                  "#fdca26"
                 ],
                 [
                  1,
                  "#f0f921"
                 ]
                ],
                "type": "surface"
               }
              ],
              "table": [
               {
                "cells": {
                 "fill": {
                  "color": "#EBF0F8"
                 },
                 "line": {
                  "color": "white"
                 }
                },
                "header": {
                 "fill": {
                  "color": "#C8D4E3"
                 },
                 "line": {
                  "color": "white"
                 }
                },
                "type": "table"
               }
              ]
             },
             "layout": {
              "annotationdefaults": {
               "arrowcolor": "#2a3f5f",
               "arrowhead": 0,
               "arrowwidth": 1
              },
              "coloraxis": {
               "colorbar": {
                "outlinewidth": 0,
                "ticks": ""
               }
              },
              "colorscale": {
               "diverging": [
                [
                 0,
                 "#8e0152"
                ],
                [
                 0.1,
                 "#c51b7d"
                ],
                [
                 0.2,
                 "#de77ae"
                ],
                [
                 0.3,
                 "#f1b6da"
                ],
                [
                 0.4,
                 "#fde0ef"
                ],
                [
                 0.5,
                 "#f7f7f7"
                ],
                [
                 0.6,
                 "#e6f5d0"
                ],
                [
                 0.7,
                 "#b8e186"
                ],
                [
                 0.8,
                 "#7fbc41"
                ],
                [
                 0.9,
                 "#4d9221"
                ],
                [
                 1,
                 "#276419"
                ]
               ],
               "sequential": [
                [
                 0,
                 "#0d0887"
                ],
                [
                 0.1111111111111111,
                 "#46039f"
                ],
                [
                 0.2222222222222222,
                 "#7201a8"
                ],
                [
                 0.3333333333333333,
                 "#9c179e"
                ],
                [
                 0.4444444444444444,
                 "#bd3786"
                ],
                [
                 0.5555555555555556,
                 "#d8576b"
                ],
                [
                 0.6666666666666666,
                 "#ed7953"
                ],
                [
                 0.7777777777777778,
                 "#fb9f3a"
                ],
                [
                 0.8888888888888888,
                 "#fdca26"
                ],
                [
                 1,
                 "#f0f921"
                ]
               ],
               "sequentialminus": [
                [
                 0,
                 "#0d0887"
                ],
                [
                 0.1111111111111111,
                 "#46039f"
                ],
                [
                 0.2222222222222222,
                 "#7201a8"
                ],
                [
                 0.3333333333333333,
                 "#9c179e"
                ],
                [
                 0.4444444444444444,
                 "#bd3786"
                ],
                [
                 0.5555555555555556,
                 "#d8576b"
                ],
                [
                 0.6666666666666666,
                 "#ed7953"
                ],
                [
                 0.7777777777777778,
                 "#fb9f3a"
                ],
                [
                 0.8888888888888888,
                 "#fdca26"
                ],
                [
                 1,
                 "#f0f921"
                ]
               ]
              },
              "colorway": [
               "#636efa",
               "#EF553B",
               "#00cc96",
               "#ab63fa",
               "#FFA15A",
               "#19d3f3",
               "#FF6692",
               "#B6E880",
               "#FF97FF",
               "#FECB52"
              ],
              "font": {
               "color": "#2a3f5f"
              },
              "geo": {
               "bgcolor": "white",
               "lakecolor": "white",
               "landcolor": "#E5ECF6",
               "showlakes": true,
               "showland": true,
               "subunitcolor": "white"
              },
              "hoverlabel": {
               "align": "left"
              },
              "hovermode": "closest",
              "mapbox": {
               "style": "light"
              },
              "paper_bgcolor": "white",
              "plot_bgcolor": "#E5ECF6",
              "polar": {
               "angularaxis": {
                "gridcolor": "white",
                "linecolor": "white",
                "ticks": ""
               },
               "bgcolor": "#E5ECF6",
               "radialaxis": {
                "gridcolor": "white",
                "linecolor": "white",
                "ticks": ""
               }
              },
              "scene": {
               "xaxis": {
                "backgroundcolor": "#E5ECF6",
                "gridcolor": "white",
                "gridwidth": 2,
                "linecolor": "white",
                "showbackground": true,
                "ticks": "",
                "zerolinecolor": "white"
               },
               "yaxis": {
                "backgroundcolor": "#E5ECF6",
                "gridcolor": "white",
                "gridwidth": 2,
                "linecolor": "white",
                "showbackground": true,
                "ticks": "",
                "zerolinecolor": "white"
               },
               "zaxis": {
                "backgroundcolor": "#E5ECF6",
                "gridcolor": "white",
                "gridwidth": 2,
                "linecolor": "white",
                "showbackground": true,
                "ticks": "",
                "zerolinecolor": "white"
               }
              },
              "shapedefaults": {
               "line": {
                "color": "#2a3f5f"
               }
              },
              "ternary": {
               "aaxis": {
                "gridcolor": "white",
                "linecolor": "white",
                "ticks": ""
               },
               "baxis": {
                "gridcolor": "white",
                "linecolor": "white",
                "ticks": ""
               },
               "bgcolor": "#E5ECF6",
               "caxis": {
                "gridcolor": "white",
                "linecolor": "white",
                "ticks": ""
               }
              },
              "title": {
               "x": 0.05
              },
              "xaxis": {
               "automargin": true,
               "gridcolor": "white",
               "linecolor": "white",
               "ticks": "",
               "title": {
                "standoff": 15
               },
               "zerolinecolor": "white",
               "zerolinewidth": 2
              },
              "yaxis": {
               "automargin": true,
               "gridcolor": "white",
               "linecolor": "white",
               "ticks": "",
               "title": {
                "standoff": 15
               },
               "zerolinecolor": "white",
               "zerolinewidth": 2
              }
             }
            }
           }
          },
          "text/html": "<div>\n        \n        \n            <div id=\"485ebb7b-685f-4d7b-800b-b90d5daf39cf\" class=\"plotly-graph-div\" style=\"height:525px; width:100%;\"></div>\n            <script type=\"text/javascript\">\n                require([\"plotly\"], function(Plotly) {\n                    window.PLOTLYENV=window.PLOTLYENV || {};\n                    \n                if (document.getElementById(\"485ebb7b-685f-4d7b-800b-b90d5daf39cf\")) {\n                    Plotly.newPlot(\n                        '485ebb7b-685f-4d7b-800b-b90d5daf39cf',\n                        [{\"lat\": [16.72, 16.72, 36.404, 36.404, 32.884, 32.884, 32.884, 2.58, 2.58, 2.58, 2.58, 44.43, 44.43, 44.43, 44.43, 44.43, 44.43, 37.7166666666667, 37.7166666666667, 35.9, -38.82, 43.722, 41.611, 46.2, 46.853, -22.2666666666667, 65.715, 63.983, 63.892, 64.083, 60.485, 32.761, 38.83, 31.934, 36.7833333333333, 35.361, 56.056, 19.421, 19.421, 40.821, 40.827, 37.748, 38.789, 15.13, 4.892, -1.467, 28.0], \"lon\": [-62.18, -62.18, 25.396, 25.396, 131.104, 131.104, 131.104, 98.83, 98.83, 98.83, 98.83, -110.67, -110.67, -110.67, -110.67, -110.67, -110.67, -118.883333333333, -118.883333333333, -106.533333333333, 176.0, -121.229, -121.554, -122.18, 121.76, -67.1666666666667, -16.728, -19.666, -19.122, -21.416, -152.742, 130.299, 140.7, 130.862, 139.366666666667, 138.728, 160.642, -155.287, -155.287, 14.426, 14.139, 14.999, 15.213, 120.35, -75.324, -78.442, -15.58], \"marker\": {\"size\": [292.4017738212866, 430.8869380063767, 327.106631018859, 100.0, 483.45881271116383, 100.0, 669.4329500821694, 100.0, 100.0, 100.0, 3239.6118012774828, 100.0, 1626.1333316791684, 100.0, 3825.862365544777, 100.0, 100.0, 100.0, 100.0, 100.0, 100.0, 100.0, 100.0, 100.0, 100.0, 100.0, 100.0, 100.0, 100.0, 100.0, 100.0, 100.0, 100.0, 100.0, 100.0, 100.0, 100.0, 100.0, 100.0, 100.0, 100.0, 100.0, 100.0, 100.0, 100.0, 100.0, 100.0], \"sizemode\": \"area\"}, \"text\": [\"Soufriere Hills Volcano<br>Anomaly volume: 25.0<br><br>References:<br>Paulatto et al., 2012\", \"Soufriere Hills Volcano<br>Anomaly volume: 80.0<br><br>References:<br>Paulatto et al., 2019\", \"Santorini<br>Anomaly volume: 35.0<br><br>References:<br>McVey et al., 2019\", null, \"Aso Caldera<br>Anomaly volume: 113.0<br><br>References:<br>Sudo & Kong, 2001\", \"Aso Caldera<br>Anomaly volume: nan<br><br>References:<br>Huang et al., 2018\", \"Aso Caldera<br>Anomaly volume: 300.0<br><br>References:<br>Abe et al., 2017\", \"Toba<br>Anomaly volume: nan<br><br>References:<br>Koulakov et al., 2009\", \"Toba<br>Anomaly volume: nan<br><br>References:<br>Mastruryono et al., 2001\", \"Toba<br>Anomaly volume: nan<br><br>References:<br>Jaxybulatov et al., 2014\", \"Toba<br>Anomaly volume: 34000.0<br><br>References:<br>Stankiewicz et al., 2010\", \"Yellowstone<br>Anomaly volume: nan<br><br>References:<br>(Iyer et al., 1981,\\u00a0Benz and Smith, 1984,\\u00a0Clawson et al., 1989,\\u00a0Miller and Smith, 1999,\\u00a0Husen and Smith, 2004,\\u00a0Yuan and Dueker, 2005)\", \"Yellowstone<br>Anomaly volume: 4300.0<br><br>References:<br>Chu et al., 2010\", \"Yellowstone<br>Anomaly volume: nan<br><br>References:<br>Farrell et al., 2014\", \"Yellowstone<br>Anomaly volume: 56000.0<br><br>References:<br>Huang et al., 2015\", \"Yellowstone<br>Anomaly volume: nan<br><br>References:<br>Miller and Smith, 1999\", \"Yellowstone<br>Anomaly volume: nan<br><br>References:<br>Jiang, 2018\", \"Long Valley<br>Anomaly volume: nan<br><br>References:<br>(Peppin, 1985,\\u00a0Dawson et al., 1987,\\u00a0Hauksson, 1988,\\u00a0Dawson et al., 1990,\\u00a0Sanders, 1993a,\\u00a0Sanders, 1993b,\\u00a0Sanders et al., 1994,\\u00a0Steck, 1995,\\u00a0Sanders et al., 1995,\\u00a0Weiland et al., 1995,\\u00a0O'Doherty et al., 1997)\", \"Long Valley<br>Anomaly volume: nan<br><br>References:<br>Jiang, 2018\", \"Valles<br>Anomaly volume: nan<br><br>References:<br>Lutter et al. (1995)\", \"Taupo<br>Anomaly volume: nan<br><br>References:<br>Sherburn et al. (2003)\", \"Newberry volcano<br>Anomaly volume: nan<br><br>References:<br>(Achauer et al., 1988,\\u00a0Stauber et al., 1988)\", \"Medicine Lake<br>Anomaly volume: nan<br><br>References:<br>(Evans and Zucca, 1988,\\u00a0Lees and Crosson, 1989,\\u00a0Ritter and Evans, 1997)\", \"Mt. St. Helens<br>Anomaly volume: nan<br><br>References:<br>Lees (1992)\", \"Mt. Rainier<br>Anomaly volume: nan<br><br>References:<br>(Lees and Crosson, 1990,\\u00a0Moran et al., 1999)\", null, \"Krafla<br>Anomaly volume: nan<br><br>References:<br>(Einarsson, 1978,\\u00a0Foulger and Arnott, 1993)\", \"Hekla<br>Anomaly volume: nan<br><br>References:<br>Soosalu and Einarsson (2004)\", \"Torfaj\\u00f6kull<br>Anomaly volume: nan<br><br>References:<br>Soosalu and Einarsson (2004)\", \"Hengill\\u2013Grensdalur<br>Anomaly volume: nan<br><br>References:<br>Toomey and Foulger (1989)\", \"Redoubt<br>Anomaly volume: nan<br><br>References:<br>Benz et al. (1996)\", \"Unzen<br>Anomaly volume: nan<br><br>References:<br>Ohmi and Lees (1995)\", \"Onikobe<br>Anomaly volume: nan<br><br>References:<br>Nakajima and Hasegawa (2003)\", \"Kirishima<br>Anomaly volume: nan<br><br>References:<br>Yamamoto and Ida (1994)\", \"Nikko-Shirane<br>Anomaly volume: nan<br><br>References:<br>Horiuchi et al. (1997)\", \"Mt. Fuji<br>Anomaly volume: nan<br><br>References:<br>Nakamichi (2005)\", \"Klyuchevskoy<br>Anomaly volume: nan<br><br>References:<br>(Anosov et al., 1978,\\u00a0Ozerov, 2000)\", \"Halemaumau<br>Anomaly volume: nan<br><br>References:<br>Rowan and Clayton (1993)\", \"Kilauea<br>Anomaly volume: nan<br><br>References:<br>(Thurber, 1984,\\u00a0Rowan and Clayton, 1993,\\u00a0Okubo et al., 1997,\\u00a0Haslinger et al., 2001)\", \"Vesuvius<br>Anomaly volume: nan<br><br>References:<br>(De Natale et al., 1998,\\u00a0Zollo et al., 1998)\", \"Campi Flegrei<br>Anomaly volume: nan<br><br>References:<br>1988;\\u00a0Aster et al., 1992\", \"Mt. Etna<br>Anomaly volume: nan<br><br>References:<br>(Cardaci et al., 1993,\\u00a0Villasenor et al., 1998,\\u00a0Laigle and Hirn, 1999,\\u00a0Chiarabba et al., 2000,\\u00a0Aloisi et al., 2002)\", null, \"Pinatubo<br>Anomaly volume: nan<br><br>References:<br>Mori et al. (1996)\", \"Nevado del Ruiz<br>Anomaly volume: nan<br><br>References:<br>Londo\\u00f1o and Sudo (2003)\", \"Tungurahua<br>Anomaly volume: nan<br><br>References:<br>Molina et al. (2005)\", \"Gran Canaria<br>Anomaly volume: nan<br><br>References:<br>Krastel and Schmincke (2002)\"], \"type\": \"scattergeo\"}],\n                        {\"template\": {\"data\": {\"bar\": [{\"error_x\": {\"color\": \"#2a3f5f\"}, \"error_y\": {\"color\": \"#2a3f5f\"}, \"marker\": {\"line\": {\"color\": \"#E5ECF6\", \"width\": 0.5}}, \"type\": \"bar\"}], \"barpolar\": [{\"marker\": {\"line\": {\"color\": \"#E5ECF6\", \"width\": 0.5}}, \"type\": \"barpolar\"}], \"carpet\": [{\"aaxis\": {\"endlinecolor\": \"#2a3f5f\", \"gridcolor\": \"white\", \"linecolor\": \"white\", \"minorgridcolor\": \"white\", \"startlinecolor\": \"#2a3f5f\"}, \"baxis\": {\"endlinecolor\": \"#2a3f5f\", \"gridcolor\": \"white\", \"linecolor\": \"white\", \"minorgridcolor\": \"white\", \"startlinecolor\": \"#2a3f5f\"}, \"type\": \"carpet\"}], \"choropleth\": [{\"colorbar\": {\"outlinewidth\": 0, \"ticks\": \"\"}, \"type\": \"choropleth\"}], \"contour\": [{\"colorbar\": {\"outlinewidth\": 0, \"ticks\": \"\"}, \"colorscale\": [[0.0, \"#0d0887\"], [0.1111111111111111, \"#46039f\"], [0.2222222222222222, \"#7201a8\"], [0.3333333333333333, \"#9c179e\"], [0.4444444444444444, \"#bd3786\"], [0.5555555555555556, \"#d8576b\"], [0.6666666666666666, \"#ed7953\"], [0.7777777777777778, \"#fb9f3a\"], [0.8888888888888888, \"#fdca26\"], [1.0, \"#f0f921\"]], \"type\": \"contour\"}], \"contourcarpet\": [{\"colorbar\": {\"outlinewidth\": 0, \"ticks\": \"\"}, \"type\": \"contourcarpet\"}], \"heatmap\": [{\"colorbar\": {\"outlinewidth\": 0, \"ticks\": \"\"}, \"colorscale\": [[0.0, \"#0d0887\"], [0.1111111111111111, \"#46039f\"], [0.2222222222222222, \"#7201a8\"], [0.3333333333333333, \"#9c179e\"], [0.4444444444444444, \"#bd3786\"], [0.5555555555555556, \"#d8576b\"], [0.6666666666666666, \"#ed7953\"], [0.7777777777777778, \"#fb9f3a\"], [0.8888888888888888, \"#fdca26\"], [1.0, \"#f0f921\"]], \"type\": \"heatmap\"}], \"heatmapgl\": [{\"colorbar\": {\"outlinewidth\": 0, \"ticks\": \"\"}, \"colorscale\": [[0.0, \"#0d0887\"], [0.1111111111111111, \"#46039f\"], [0.2222222222222222, \"#7201a8\"], [0.3333333333333333, \"#9c179e\"], [0.4444444444444444, \"#bd3786\"], [0.5555555555555556, \"#d8576b\"], [0.6666666666666666, \"#ed7953\"], [0.7777777777777778, \"#fb9f3a\"], [0.8888888888888888, \"#fdca26\"], [1.0, \"#f0f921\"]], \"type\": \"heatmapgl\"}], \"histogram\": [{\"marker\": {\"colorbar\": {\"outlinewidth\": 0, \"ticks\": \"\"}}, \"type\": \"histogram\"}], \"histogram2d\": [{\"colorbar\": {\"outlinewidth\": 0, \"ticks\": \"\"}, \"colorscale\": [[0.0, \"#0d0887\"], [0.1111111111111111, \"#46039f\"], [0.2222222222222222, \"#7201a8\"], [0.3333333333333333, \"#9c179e\"], [0.4444444444444444, \"#bd3786\"], [0.5555555555555556, \"#d8576b\"], [0.6666666666666666, \"#ed7953\"], [0.7777777777777778, \"#fb9f3a\"], [0.8888888888888888, \"#fdca26\"], [1.0, \"#f0f921\"]], \"type\": \"histogram2d\"}], \"histogram2dcontour\": [{\"colorbar\": {\"outlinewidth\": 0, \"ticks\": \"\"}, \"colorscale\": [[0.0, \"#0d0887\"], [0.1111111111111111, \"#46039f\"], [0.2222222222222222, \"#7201a8\"], [0.3333333333333333, \"#9c179e\"], [0.4444444444444444, \"#bd3786\"], [0.5555555555555556, \"#d8576b\"], [0.6666666666666666, \"#ed7953\"], [0.7777777777777778, \"#fb9f3a\"], [0.8888888888888888, \"#fdca26\"], [1.0, \"#f0f921\"]], \"type\": \"histogram2dcontour\"}], \"mesh3d\": [{\"colorbar\": {\"outlinewidth\": 0, \"ticks\": \"\"}, \"type\": \"mesh3d\"}], \"parcoords\": [{\"line\": {\"colorbar\": {\"outlinewidth\": 0, \"ticks\": \"\"}}, \"type\": \"parcoords\"}], \"pie\": [{\"automargin\": true, \"type\": \"pie\"}], \"scatter\": [{\"marker\": {\"colorbar\": {\"outlinewidth\": 0, \"ticks\": \"\"}}, \"type\": \"scatter\"}], \"scatter3d\": [{\"line\": {\"colorbar\": {\"outlinewidth\": 0, \"ticks\": \"\"}}, \"marker\": {\"colorbar\": {\"outlinewidth\": 0, \"ticks\": \"\"}}, \"type\": \"scatter3d\"}], \"scattercarpet\": [{\"marker\": {\"colorbar\": {\"outlinewidth\": 0, \"ticks\": \"\"}}, \"type\": \"scattercarpet\"}], \"scattergeo\": [{\"marker\": {\"colorbar\": {\"outlinewidth\": 0, \"ticks\": \"\"}}, \"type\": \"scattergeo\"}], \"scattergl\": [{\"marker\": {\"colorbar\": {\"outlinewidth\": 0, \"ticks\": \"\"}}, \"type\": \"scattergl\"}], \"scattermapbox\": [{\"marker\": {\"colorbar\": {\"outlinewidth\": 0, \"ticks\": \"\"}}, \"type\": \"scattermapbox\"}], \"scatterpolar\": [{\"marker\": {\"colorbar\": {\"outlinewidth\": 0, \"ticks\": \"\"}}, \"type\": \"scatterpolar\"}], \"scatterpolargl\": [{\"marker\": {\"colorbar\": {\"outlinewidth\": 0, \"ticks\": \"\"}}, \"type\": \"scatterpolargl\"}], \"scatterternary\": [{\"marker\": {\"colorbar\": {\"outlinewidth\": 0, \"ticks\": \"\"}}, \"type\": \"scatterternary\"}], \"surface\": [{\"colorbar\": {\"outlinewidth\": 0, \"ticks\": \"\"}, \"colorscale\": [[0.0, \"#0d0887\"], [0.1111111111111111, \"#46039f\"], [0.2222222222222222, \"#7201a8\"], [0.3333333333333333, \"#9c179e\"], [0.4444444444444444, \"#bd3786\"], [0.5555555555555556, \"#d8576b\"], [0.6666666666666666, \"#ed7953\"], [0.7777777777777778, \"#fb9f3a\"], [0.8888888888888888, \"#fdca26\"], [1.0, \"#f0f921\"]], \"type\": \"surface\"}], \"table\": [{\"cells\": {\"fill\": {\"color\": \"#EBF0F8\"}, \"line\": {\"color\": \"white\"}}, \"header\": {\"fill\": {\"color\": \"#C8D4E3\"}, \"line\": {\"color\": \"white\"}}, \"type\": \"table\"}]}, \"layout\": {\"annotationdefaults\": {\"arrowcolor\": \"#2a3f5f\", \"arrowhead\": 0, \"arrowwidth\": 1}, \"coloraxis\": {\"colorbar\": {\"outlinewidth\": 0, \"ticks\": \"\"}}, \"colorscale\": {\"diverging\": [[0, \"#8e0152\"], [0.1, \"#c51b7d\"], [0.2, \"#de77ae\"], [0.3, \"#f1b6da\"], [0.4, \"#fde0ef\"], [0.5, \"#f7f7f7\"], [0.6, \"#e6f5d0\"], [0.7, \"#b8e186\"], [0.8, \"#7fbc41\"], [0.9, \"#4d9221\"], [1, \"#276419\"]], \"sequential\": [[0.0, \"#0d0887\"], [0.1111111111111111, \"#46039f\"], [0.2222222222222222, \"#7201a8\"], [0.3333333333333333, \"#9c179e\"], [0.4444444444444444, \"#bd3786\"], [0.5555555555555556, \"#d8576b\"], [0.6666666666666666, \"#ed7953\"], [0.7777777777777778, \"#fb9f3a\"], [0.8888888888888888, \"#fdca26\"], [1.0, \"#f0f921\"]], \"sequentialminus\": [[0.0, \"#0d0887\"], [0.1111111111111111, \"#46039f\"], [0.2222222222222222, \"#7201a8\"], [0.3333333333333333, \"#9c179e\"], [0.4444444444444444, \"#bd3786\"], [0.5555555555555556, \"#d8576b\"], [0.6666666666666666, \"#ed7953\"], [0.7777777777777778, \"#fb9f3a\"], [0.8888888888888888, \"#fdca26\"], [1.0, \"#f0f921\"]]}, \"colorway\": [\"#636efa\", \"#EF553B\", \"#00cc96\", \"#ab63fa\", \"#FFA15A\", \"#19d3f3\", \"#FF6692\", \"#B6E880\", \"#FF97FF\", \"#FECB52\"], \"font\": {\"color\": \"#2a3f5f\"}, \"geo\": {\"bgcolor\": \"white\", \"lakecolor\": \"white\", \"landcolor\": \"#E5ECF6\", \"showlakes\": true, \"showland\": true, \"subunitcolor\": \"white\"}, \"hoverlabel\": {\"align\": \"left\"}, \"hovermode\": \"closest\", \"mapbox\": {\"style\": \"light\"}, \"paper_bgcolor\": \"white\", \"plot_bgcolor\": \"#E5ECF6\", \"polar\": {\"angularaxis\": {\"gridcolor\": \"white\", \"linecolor\": \"white\", \"ticks\": \"\"}, \"bgcolor\": \"#E5ECF6\", \"radialaxis\": {\"gridcolor\": \"white\", \"linecolor\": \"white\", \"ticks\": \"\"}}, \"scene\": {\"xaxis\": {\"backgroundcolor\": \"#E5ECF6\", \"gridcolor\": \"white\", \"gridwidth\": 2, \"linecolor\": \"white\", \"showbackground\": true, \"ticks\": \"\", \"zerolinecolor\": \"white\"}, \"yaxis\": {\"backgroundcolor\": \"#E5ECF6\", \"gridcolor\": \"white\", \"gridwidth\": 2, \"linecolor\": \"white\", \"showbackground\": true, \"ticks\": \"\", \"zerolinecolor\": \"white\"}, \"zaxis\": {\"backgroundcolor\": \"#E5ECF6\", \"gridcolor\": \"white\", \"gridwidth\": 2, \"linecolor\": \"white\", \"showbackground\": true, \"ticks\": \"\", \"zerolinecolor\": \"white\"}}, \"shapedefaults\": {\"line\": {\"color\": \"#2a3f5f\"}}, \"ternary\": {\"aaxis\": {\"gridcolor\": \"white\", \"linecolor\": \"white\", \"ticks\": \"\"}, \"baxis\": {\"gridcolor\": \"white\", \"linecolor\": \"white\", \"ticks\": \"\"}, \"bgcolor\": \"#E5ECF6\", \"caxis\": {\"gridcolor\": \"white\", \"linecolor\": \"white\", \"ticks\": \"\"}}, \"title\": {\"x\": 0.05}, \"xaxis\": {\"automargin\": true, \"gridcolor\": \"white\", \"linecolor\": \"white\", \"ticks\": \"\", \"title\": {\"standoff\": 15}, \"zerolinecolor\": \"white\", \"zerolinewidth\": 2}, \"yaxis\": {\"automargin\": true, \"gridcolor\": \"white\", \"linecolor\": \"white\", \"ticks\": \"\", \"title\": {\"standoff\": 15}, \"zerolinecolor\": \"white\", \"zerolinewidth\": 2}}}},\n                        {\"responsive\": true}\n                    ).then(function(){\n                            \nvar gd = document.getElementById('485ebb7b-685f-4d7b-800b-b90d5daf39cf');\nvar x = new MutationObserver(function (mutations, observer) {{\n        var display = window.getComputedStyle(gd).display;\n        if (!display || display === 'none') {{\n            console.log([gd, 'removed!']);\n            Plotly.purge(gd);\n            observer.disconnect();\n        }}\n}});\n\n// Listen for the removal of the full notebook cells\nvar notebookContainer = gd.closest('#notebook-container');\nif (notebookContainer) {{\n    x.observe(notebookContainer, {childList: true});\n}}\n\n// Listen for the clearing of the current output cell\nvar outputEl = gd.closest('.output');\nif (outputEl) {{\n    x.observe(outputEl, {childList: true});\n}}\n\n                        })\n                };\n                });\n            </script>\n        </div>"
         },
         "metadata": {},
         "output_type": "display_data"
        }
       ]
      }
     },
     "f084a5294c034b2ab63057248b03de2c": {
      "model_module": "@jupyter-widgets/controls",
      "model_module_version": "1.5.0",
      "model_name": "DropdownModel",
      "state": {
       "_options_labels": [
        "Erupted volume"
       ],
       "description": "key",
       "index": 0,
       "layout": "IPY_MODEL_25541d2df5fb47b4ab3d40a43ec4231a",
       "style": "IPY_MODEL_14ee4a2f68ff4d439fd3b86d1409e077"
      }
     },
     "f0d27776e62340918f15843dfc583932": {
      "model_module": "@jupyter-widgets/base",
      "model_module_version": "1.2.0",
      "model_name": "LayoutModel",
      "state": {}
     },
     "f46c4b3f88814538ad7f5f468f523ed8": {
      "model_module": "@jupyter-widgets/base",
      "model_module_version": "1.2.0",
      "model_name": "LayoutModel",
      "state": {}
     },
     "f4c4b3d8721e4e598bee676a7ac248e5": {
      "model_module": "@jupyter-widgets/base",
      "model_module_version": "1.2.0",
      "model_name": "LayoutModel",
      "state": {}
     },
     "f58090294b1a442bb4db8d6e9fbbe4b4": {
      "model_module": "@jupyter-widgets/base",
      "model_module_version": "1.2.0",
      "model_name": "LayoutModel",
      "state": {}
     },
     "f850d2ba23864df68228c6a071591c55": {
      "model_module": "@jupyter-widgets/controls",
      "model_module_version": "1.5.0",
      "model_name": "DescriptionStyleModel",
      "state": {
       "description_width": ""
      }
     },
     "f869c3489a8e4db59e24c92679cfc8b5": {
      "model_module": "@jupyter-widgets/base",
      "model_module_version": "1.2.0",
      "model_name": "LayoutModel",
      "state": {}
     },
     "f9c569360562412581d7567392493272": {
      "model_module": "@jupyter-widgets/base",
      "model_module_version": "1.2.0",
      "model_name": "LayoutModel",
      "state": {}
     },
     "fb5185b6b8ad431eac6488dc170ac27a": {
      "model_module": "@jupyter-widgets/controls",
      "model_module_version": "1.5.0",
      "model_name": "VBoxModel",
      "state": {
       "_dom_classes": [
        "widget-interact"
       ],
       "children": [
        "IPY_MODEL_5be92195eae64d9180be092b479342d3",
        "IPY_MODEL_a97597085a5f4d48bbfd6bbebf470c19"
       ],
       "layout": "IPY_MODEL_0a50dc6c760f421b8ab1d23dc3bd2aca"
      }
     }
    },
    "version_major": 2,
    "version_minor": 0
   }
  }
 },
 "nbformat": 4,
 "nbformat_minor": 2
}
